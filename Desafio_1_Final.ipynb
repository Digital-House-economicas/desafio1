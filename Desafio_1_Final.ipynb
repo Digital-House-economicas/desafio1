{
 "cells": [
  {
   "cell_type": "markdown",
   "id": "exciting-ferry",
   "metadata": {},
   "source": [
    "# Desafio 1 - Grupo 2 "
   ]
  },
  {
   "cell_type": "markdown",
   "id": "intended-first",
   "metadata": {},
   "source": [
    "## 1) poner a tono el dataset"
   ]
  },
  {
   "cell_type": "markdown",
   "id": "accredited-freeze",
   "metadata": {},
   "source": [
    "  ### 1.1)  Vamos a importar el dataset y ver un poco los datos"
   ]
  },
  {
   "cell_type": "code",
   "execution_count": 2,
   "id": "reduced-nebraska",
   "metadata": {},
   "outputs": [],
   "source": [
    "import pandas as pd\n",
    "import numpy as np \n",
    "import matplotlib.pyplot as plt\n",
    "import seaborn as sns \n",
    "import re "
   ]
  },
  {
   "cell_type": "code",
   "execution_count": 3,
   "id": "hidden-firmware",
   "metadata": {},
   "outputs": [
    {
     "data": {
      "text/html": [
       "<div>\n",
       "<style scoped>\n",
       "    .dataframe tbody tr th:only-of-type {\n",
       "        vertical-align: middle;\n",
       "    }\n",
       "\n",
       "    .dataframe tbody tr th {\n",
       "        vertical-align: top;\n",
       "    }\n",
       "\n",
       "    .dataframe thead th {\n",
       "        text-align: right;\n",
       "    }\n",
       "</style>\n",
       "<table border=\"1\" class=\"dataframe\">\n",
       "  <thead>\n",
       "    <tr style=\"text-align: right;\">\n",
       "      <th></th>\n",
       "      <th>Unnamed: 0</th>\n",
       "      <th>operation</th>\n",
       "      <th>property_type</th>\n",
       "      <th>place_name</th>\n",
       "      <th>place_with_parent_names</th>\n",
       "      <th>country_name</th>\n",
       "      <th>state_name</th>\n",
       "      <th>geonames_id</th>\n",
       "      <th>lat-lon</th>\n",
       "      <th>lat</th>\n",
       "      <th>...</th>\n",
       "      <th>surface_covered_in_m2</th>\n",
       "      <th>price_usd_per_m2</th>\n",
       "      <th>price_per_m2</th>\n",
       "      <th>floor</th>\n",
       "      <th>rooms</th>\n",
       "      <th>expenses</th>\n",
       "      <th>properati_url</th>\n",
       "      <th>description</th>\n",
       "      <th>title</th>\n",
       "      <th>image_thumbnail</th>\n",
       "    </tr>\n",
       "  </thead>\n",
       "  <tbody>\n",
       "    <tr>\n",
       "      <th>0</th>\n",
       "      <td>0</td>\n",
       "      <td>sell</td>\n",
       "      <td>PH</td>\n",
       "      <td>Mataderos</td>\n",
       "      <td>|Argentina|Capital Federal|Mataderos|</td>\n",
       "      <td>Argentina</td>\n",
       "      <td>Capital Federal</td>\n",
       "      <td>3430787.0</td>\n",
       "      <td>-34.6618237,-58.5088387</td>\n",
       "      <td>-34.661824</td>\n",
       "      <td>...</td>\n",
       "      <td>40.0</td>\n",
       "      <td>1127.272727</td>\n",
       "      <td>1550.000000</td>\n",
       "      <td>NaN</td>\n",
       "      <td>NaN</td>\n",
       "      <td>NaN</td>\n",
       "      <td>http://www.properati.com.ar/15bo8_venta_ph_mat...</td>\n",
       "      <td>2 AMBIENTES TIPO CASA PLANTA BAJA POR PASILLO,...</td>\n",
       "      <td>2 AMB TIPO CASA SIN EXPENSAS EN PB</td>\n",
       "      <td>https://thumbs4.properati.com/8/BluUYiHJLhgIIK...</td>\n",
       "    </tr>\n",
       "    <tr>\n",
       "      <th>1</th>\n",
       "      <td>1</td>\n",
       "      <td>sell</td>\n",
       "      <td>apartment</td>\n",
       "      <td>La Plata</td>\n",
       "      <td>|Argentina|Bs.As. G.B.A. Zona Sur|La Plata|</td>\n",
       "      <td>Argentina</td>\n",
       "      <td>Bs.As. G.B.A. Zona Sur</td>\n",
       "      <td>3432039.0</td>\n",
       "      <td>-34.9038831,-57.9643295</td>\n",
       "      <td>-34.903883</td>\n",
       "      <td>...</td>\n",
       "      <td>NaN</td>\n",
       "      <td>NaN</td>\n",
       "      <td>NaN</td>\n",
       "      <td>NaN</td>\n",
       "      <td>NaN</td>\n",
       "      <td>NaN</td>\n",
       "      <td>http://www.properati.com.ar/15bob_venta_depart...</td>\n",
       "      <td>Venta de departamento en décimo piso al frente...</td>\n",
       "      <td>VENTA Depto 2 dorm. a estrenar 7 e/ 36 y 37   ...</td>\n",
       "      <td>https://thumbs4.properati.com/7/ikpVBu2ztHA7jv...</td>\n",
       "    </tr>\n",
       "    <tr>\n",
       "      <th>2</th>\n",
       "      <td>2</td>\n",
       "      <td>sell</td>\n",
       "      <td>apartment</td>\n",
       "      <td>Mataderos</td>\n",
       "      <td>|Argentina|Capital Federal|Mataderos|</td>\n",
       "      <td>Argentina</td>\n",
       "      <td>Capital Federal</td>\n",
       "      <td>3430787.0</td>\n",
       "      <td>-34.6522615,-58.5229825</td>\n",
       "      <td>-34.652262</td>\n",
       "      <td>...</td>\n",
       "      <td>55.0</td>\n",
       "      <td>1309.090909</td>\n",
       "      <td>1309.090909</td>\n",
       "      <td>NaN</td>\n",
       "      <td>NaN</td>\n",
       "      <td>NaN</td>\n",
       "      <td>http://www.properati.com.ar/15bod_venta_depart...</td>\n",
       "      <td>2 AMBIENTES 3ER PISO LATERAL LIVING COMEDOR AM...</td>\n",
       "      <td>2 AMB 3ER PISO CON ASCENSOR APTO CREDITO</td>\n",
       "      <td>https://thumbs4.properati.com/5/SXKr34F_IwG3W_...</td>\n",
       "    </tr>\n",
       "  </tbody>\n",
       "</table>\n",
       "<p>3 rows × 26 columns</p>\n",
       "</div>"
      ],
      "text/plain": [
       "   Unnamed: 0 operation property_type place_name  \\\n",
       "0           0      sell            PH  Mataderos   \n",
       "1           1      sell     apartment   La Plata   \n",
       "2           2      sell     apartment  Mataderos   \n",
       "\n",
       "                       place_with_parent_names country_name  \\\n",
       "0        |Argentina|Capital Federal|Mataderos|    Argentina   \n",
       "1  |Argentina|Bs.As. G.B.A. Zona Sur|La Plata|    Argentina   \n",
       "2        |Argentina|Capital Federal|Mataderos|    Argentina   \n",
       "\n",
       "               state_name  geonames_id                  lat-lon        lat  \\\n",
       "0         Capital Federal    3430787.0  -34.6618237,-58.5088387 -34.661824   \n",
       "1  Bs.As. G.B.A. Zona Sur    3432039.0  -34.9038831,-57.9643295 -34.903883   \n",
       "2         Capital Federal    3430787.0  -34.6522615,-58.5229825 -34.652262   \n",
       "\n",
       "   ...  surface_covered_in_m2  price_usd_per_m2 price_per_m2  floor  rooms  \\\n",
       "0  ...                   40.0       1127.272727  1550.000000    NaN    NaN   \n",
       "1  ...                    NaN               NaN          NaN    NaN    NaN   \n",
       "2  ...                   55.0       1309.090909  1309.090909    NaN    NaN   \n",
       "\n",
       "   expenses                                      properati_url  \\\n",
       "0       NaN  http://www.properati.com.ar/15bo8_venta_ph_mat...   \n",
       "1       NaN  http://www.properati.com.ar/15bob_venta_depart...   \n",
       "2       NaN  http://www.properati.com.ar/15bod_venta_depart...   \n",
       "\n",
       "                                         description  \\\n",
       "0  2 AMBIENTES TIPO CASA PLANTA BAJA POR PASILLO,...   \n",
       "1  Venta de departamento en décimo piso al frente...   \n",
       "2  2 AMBIENTES 3ER PISO LATERAL LIVING COMEDOR AM...   \n",
       "\n",
       "                                               title  \\\n",
       "0                 2 AMB TIPO CASA SIN EXPENSAS EN PB   \n",
       "1  VENTA Depto 2 dorm. a estrenar 7 e/ 36 y 37   ...   \n",
       "2           2 AMB 3ER PISO CON ASCENSOR APTO CREDITO   \n",
       "\n",
       "                                     image_thumbnail  \n",
       "0  https://thumbs4.properati.com/8/BluUYiHJLhgIIK...  \n",
       "1  https://thumbs4.properati.com/7/ikpVBu2ztHA7jv...  \n",
       "2  https://thumbs4.properati.com/5/SXKr34F_IwG3W_...  \n",
       "\n",
       "[3 rows x 26 columns]"
      ]
     },
     "execution_count": 3,
     "metadata": {},
     "output_type": "execute_result"
    }
   ],
   "source": [
    "# ubicacion del dataset\n",
    "data_location = \"../Data/properatti.csv\"\n",
    "\n",
    "data = pd.read_csv(data_location)\n",
    "\n",
    "#vemos el dataset como esta compuesto\n",
    "\n",
    "data.head(3)"
   ]
  },
  {
   "cell_type": "code",
   "execution_count": 4,
   "id": "rolled-ratio",
   "metadata": {},
   "outputs": [
    {
     "name": "stdout",
     "output_type": "stream",
     "text": [
      "cantidad de filas  121220\n",
      "cantidad de columnas  26\n"
     ]
    }
   ],
   "source": [
    "#vemos que cantidad de filas y columnas tiene el dataset\n",
    "\n",
    "print ( \"cantidad de filas \", data.shape[0])\n",
    "print ( \"cantidad de columnas \", data.shape[1])"
   ]
  },
  {
   "cell_type": "code",
   "execution_count": 5,
   "id": "reflected-activity",
   "metadata": {},
   "outputs": [
    {
     "data": {
      "text/plain": [
       "Unnamed: 0                      int64\n",
       "operation                      object\n",
       "property_type                  object\n",
       "place_name                     object\n",
       "place_with_parent_names        object\n",
       "country_name                   object\n",
       "state_name                     object\n",
       "geonames_id                   float64\n",
       "lat-lon                        object\n",
       "lat                           float64\n",
       "lon                           float64\n",
       "price                         float64\n",
       "currency                       object\n",
       "price_aprox_local_currency    float64\n",
       "price_aprox_usd               float64\n",
       "surface_total_in_m2           float64\n",
       "surface_covered_in_m2         float64\n",
       "price_usd_per_m2              float64\n",
       "price_per_m2                  float64\n",
       "floor                         float64\n",
       "rooms                         float64\n",
       "expenses                      float64\n",
       "properati_url                  object\n",
       "description                    object\n",
       "title                          object\n",
       "image_thumbnail                object\n",
       "dtype: object"
      ]
     },
     "execution_count": 5,
     "metadata": {},
     "output_type": "execute_result"
    }
   ],
   "source": [
    "# vemos que tipo de datos es cada columna\n",
    "\n",
    "data.dtypes"
   ]
  },
  {
   "cell_type": "markdown",
   "id": "formed-boston",
   "metadata": {},
   "source": [
    "### 1.2) vamos a seleccionar las columnas que nos interesan y borrar las filas duplicadas"
   ]
  },
  {
   "cell_type": "markdown",
   "id": "distinguished-singapore",
   "metadata": {},
   "source": [
    "- #### primeros valores eliminados (eliminados: 5.251)"
   ]
  },
  {
   "cell_type": "code",
   "execution_count": 6,
   "id": "excess-domestic",
   "metadata": {},
   "outputs": [
    {
     "name": "stdout",
     "output_type": "stream",
     "text": [
      "antes teniamos  121220 filas y  26 columnas\n",
      "cantidad de datos duplicados  5251\n",
      "ahora tenemos  115969 filas y  16 columnas\n"
     ]
    }
   ],
   "source": [
    "#vamos a limpiar las columnas q no usamos para luego identificar los duplicados\n",
    "\n",
    "#creamos un nuevo dataset llamado data1 y seleccionamos las columnas que queremos\n",
    "\n",
    "data1 = data[[\"property_type\", \"place_name\", \"place_with_parent_names\", \"state_name\", \"lat-lon\", \"price\", \"currency\", \"price_aprox_local_currency\", \"price_aprox_usd\", \"surface_total_in_m2\", \"surface_covered_in_m2\", \"price_usd_per_m2\", \"price_per_m2\", \"rooms\", \"description\", \"title\"]]\n",
    "\n",
    "print(\"antes teniamos \", data.shape[0], \"filas y \", data.shape[1], \"columnas\")\n",
    "\n",
    "#ahora vamos a identificar los duplicados\n",
    "data1_duplicados = data1.duplicated()\n",
    "print(\"cantidad de datos duplicados \", data1_duplicados.sum())\n",
    "             \n",
    "#ahora con drop duplicate vamos a eliminar los que son True y estan duplicados\n",
    "\n",
    "data1 = data1.drop_duplicates()\n",
    "\n",
    "print(\"ahora tenemos \", data1.shape[0], \"filas y \", data1.shape[1], \"columnas\")"
   ]
  },
  {
   "cell_type": "code",
   "execution_count": null,
   "id": "blind-madison",
   "metadata": {},
   "outputs": [],
   "source": []
  },
  {
   "cell_type": "markdown",
   "id": "polished-wrapping",
   "metadata": {},
   "source": [
    "### 1.3) analizamos la cantidad de nulos que tiene el dataset"
   ]
  },
  {
   "cell_type": "code",
   "execution_count": 7,
   "id": "alleged-repeat",
   "metadata": {},
   "outputs": [
    {
     "name": "stdout",
     "output_type": "stream",
     "text": [
      "*cantidad de nulos* \n",
      "\n",
      "property_type                     0\n",
      "place_name                       23\n",
      "place_with_parent_names           0\n",
      "state_name                        0\n",
      "lat-lon                       48214\n",
      "price                         17435\n",
      "currency                      17436\n",
      "price_aprox_local_currency    17435\n",
      "price_aprox_usd               17435\n",
      "surface_total_in_m2           38375\n",
      "surface_covered_in_m2         18801\n",
      "price_usd_per_m2              49167\n",
      "price_per_m2                  30314\n",
      "rooms                         69899\n",
      "description                       2\n",
      "title                             0\n",
      "dtype: int64 \n",
      "\n",
      "*porcentaje de nulos* \n",
      "\n",
      "property_type                 0.000000\n",
      "place_name                    0.000198\n",
      "place_with_parent_names       0.000000\n",
      "state_name                    0.000000\n",
      "lat-lon                       0.415749\n",
      "price                         0.150342\n",
      "currency                      0.150351\n",
      "price_aprox_local_currency    0.150342\n",
      "price_aprox_usd               0.150342\n",
      "surface_total_in_m2           0.330907\n",
      "surface_covered_in_m2         0.162121\n",
      "price_usd_per_m2              0.423967\n",
      "price_per_m2                  0.261397\n",
      "rooms                         0.602739\n",
      "description                   0.000017\n",
      "title                         0.000000\n",
      "dtype: float64\n"
     ]
    }
   ],
   "source": [
    "#ahora vamos a ver la cantidad de elementos nulos que tiene cada columna\n",
    "data_nulos = data1.isnull()\n",
    "cantidad_nulos = data_nulos.sum()\n",
    "print(\"*cantidad de nulos*\" , '\\n')\n",
    "print(cantidad_nulos, '\\n')\n",
    "\n",
    "#la idea es ver el % de nulos asi sabemos si las columnas sirven o no, o que trabajo tenemos que hacerle a cada una\n",
    "cantidad_registros = data1.shape[0]\n",
    "porcentaje_nulos = cantidad_nulos / cantidad_registros\n",
    "print(\"*porcentaje de nulos*\", '\\n')\n",
    "print(porcentaje_nulos)"
   ]
  },
  {
   "cell_type": "markdown",
   "id": "prime-raleigh",
   "metadata": {},
   "source": [
    "### 1.4) vamos a investigar un poco ciertas columnas que nos interesan y limpiar si vemos algunos datos que no nos aportan"
   ]
  },
  {
   "cell_type": "markdown",
   "id": "cellular-moscow",
   "metadata": {},
   "source": [
    "- #### Investigamos la columna price_aprox_usd"
   ]
  },
  {
   "cell_type": "code",
   "execution_count": 8,
   "id": "corrected-adoption",
   "metadata": {},
   "outputs": [
    {
     "name": "stdout",
     "output_type": "stream",
     "text": [
      "Tamaño columna price ---> 115969 \n",
      "\n",
      "Valores nulos columna price ---> 17435 \n",
      "\n",
      "Valores NO nulos columna price ---> 98534 \n",
      "\n",
      "count    9.853400e+04\n",
      "mean     2.408766e+05\n",
      "std      3.936819e+05\n",
      "min      0.000000e+00\n",
      "25%      9.000000e+04\n",
      "50%      1.450000e+05\n",
      "75%      2.680000e+05\n",
      "max      4.654544e+07\n",
      "Name: price_aprox_usd, dtype: float64\n"
     ]
    }
   ],
   "source": [
    "print('Tamaño columna price --->', data1['price_aprox_usd'].shape[0], '\\n')\n",
    "print('Valores nulos columna price --->', data1['price_aprox_usd'].isnull().sum(), '\\n')\n",
    "print('Valores NO nulos columna price --->', data1['price_aprox_usd'].notnull().sum(), '\\n')\n",
    "print(data1['price_aprox_usd'].describe())"
   ]
  },
  {
   "cell_type": "markdown",
   "id": "rental-marathon",
   "metadata": {},
   "source": [
    "- #### Investigamos la columna property_type"
   ]
  },
  {
   "cell_type": "code",
   "execution_count": 9,
   "id": "improving-standard",
   "metadata": {},
   "outputs": [
    {
     "data": {
      "text/plain": [
       "apartment    66519\n",
       "house        39761\n",
       "PH            5618\n",
       "store         4071\n",
       "Name: property_type, dtype: int64"
      ]
     },
     "execution_count": 9,
     "metadata": {},
     "output_type": "execute_result"
    }
   ],
   "source": [
    "data1['property_type'].value_counts()"
   ]
  },
  {
   "cell_type": "markdown",
   "id": "smart-membrane",
   "metadata": {},
   "source": [
    "- #### de las 17.435 propiedades nulas, vamos a analizar que tipo de propiedad son para entender mejor "
   ]
  },
  {
   "cell_type": "code",
   "execution_count": 10,
   "id": "blond-violin",
   "metadata": {},
   "outputs": [],
   "source": [
    "# vamos a analizar cada tipo de propiedad\n",
    "\n",
    "price_aprox_usd = data1['price_aprox_usd']\n",
    "property_type_PH = data1['property_type'] == 'PH' \n",
    "PH_price = data1.loc[property_type_PH, 'price_aprox_usd']\n",
    "\n",
    "property_type_apartment = data1['property_type'] == 'apartment' \n",
    "apartment_price = data1.loc[property_type_apartment, 'price_aprox_usd']\n",
    "\n",
    "property_type_house = data1['property_type'] == 'house' \n",
    "house_price = data1.loc[property_type_house, 'price_aprox_usd']\n",
    "\n",
    "property_type_store = data1['property_type'] == 'store' \n",
    "store_price = data1.loc[property_type_store, 'price_aprox_usd']"
   ]
  },
  {
   "cell_type": "code",
   "execution_count": 11,
   "id": "cognitive-google",
   "metadata": {},
   "outputs": [
    {
     "name": "stdout",
     "output_type": "stream",
     "text": [
      "Cantidad de nulos en PH ---> 453 \n",
      "\n",
      "Cantidad de nulos en apartment ---> 8844 \n",
      "\n",
      "Cantidad de nulos en house ---> 7285 \n",
      "\n",
      "Cantidad de nulos en store ---> 853 \n",
      "\n"
     ]
    }
   ],
   "source": [
    "#ahora imprimos la cantidad de nulos para cada tipo de propiedad \n",
    "\n",
    "print('Cantidad de nulos en PH --->', PH_price.isnull().sum(), '\\n')\n",
    "print('Cantidad de nulos en apartment --->', apartment_price.isnull().sum(), '\\n')\n",
    "print('Cantidad de nulos en house --->', house_price.isnull().sum(), '\\n')\n",
    "print('Cantidad de nulos en store --->', store_price.isnull().sum(), '\\n')"
   ]
  },
  {
   "cell_type": "code",
   "execution_count": 12,
   "id": "stupid-accommodation",
   "metadata": {},
   "outputs": [
    {
     "name": "stdout",
     "output_type": "stream",
     "text": [
      "Cantidad de nulos en PH ---> 0.08063367746529014 \n",
      "\n",
      "Cantidad de nulos en apartment ---> 0.13295449420466332 \n",
      "\n",
      "Cantidad de nulos en house ---> 0.18321973793415658 \n",
      "\n",
      "Cantidad de nulos en store ---> 0.20953082780643575 \n",
      "\n"
     ]
    }
   ],
   "source": [
    "#ahora vemos que % de nulos tiene cada tipo de propiedad \n",
    "\n",
    "print('Cantidad de nulos en PH --->', PH_price.isnull().sum() / PH_price.shape[0] , '\\n')\n",
    "print('Cantidad de nulos en apartment --->', apartment_price.isnull().sum() / apartment_price.shape[0] , '\\n')\n",
    "print('Cantidad de nulos en house --->', house_price.isnull().sum() / house_price.shape[0] , '\\n')\n",
    "print('Cantidad de nulos en store --->', store_price.isnull().sum() / store_price.shape[0] , '\\n')"
   ]
  },
  {
   "cell_type": "markdown",
   "id": "measured-atmosphere",
   "metadata": {},
   "source": [
    "- #### vamos a separar en bins para ver como se agrupan por precio todas las propiedades"
   ]
  },
  {
   "cell_type": "code",
   "execution_count": 13,
   "id": "grand-dealer",
   "metadata": {},
   "outputs": [
    {
     "data": {
      "text/plain": [
       "(-0.001, 90000.0]         25515\n",
       "(268000.0, 46545445.0]    24633\n",
       "(145000.0, 268000.0]      24450\n",
       "(90000.0, 145000.0]       23936\n",
       "Name: price_aprox_usd, dtype: int64"
      ]
     },
     "execution_count": 13,
     "metadata": {},
     "output_type": "execute_result"
    }
   ],
   "source": [
    "#con qcut separamos en 4 bins de misma cantidad de datos, dejando afeura los nulos\n",
    "\n",
    "priceusd_categorias = pd.qcut(data1['price_aprox_usd'], 4)\n",
    "priceusd_categorias.value_counts()"
   ]
  },
  {
   "cell_type": "code",
   "execution_count": 14,
   "id": "modified-london",
   "metadata": {},
   "outputs": [
    {
     "data": {
      "text/plain": [
       "False    115968\n",
       "True          1\n",
       "Name: price_aprox_usd, dtype: int64"
      ]
     },
     "execution_count": 14,
     "metadata": {},
     "output_type": "execute_result"
    }
   ],
   "source": [
    "# vemos los valores menores a 1000 usd y cuantos son\n",
    "\n",
    "priceusd_menor_1000 = data1['price_aprox_usd'] < 1000\n",
    "priceusd_menor_1000.value_counts()"
   ]
  },
  {
   "cell_type": "code",
   "execution_count": 15,
   "id": "reliable-feelings",
   "metadata": {},
   "outputs": [
    {
     "data": {
      "text/html": [
       "<div>\n",
       "<style scoped>\n",
       "    .dataframe tbody tr th:only-of-type {\n",
       "        vertical-align: middle;\n",
       "    }\n",
       "\n",
       "    .dataframe tbody tr th {\n",
       "        vertical-align: top;\n",
       "    }\n",
       "\n",
       "    .dataframe thead th {\n",
       "        text-align: right;\n",
       "    }\n",
       "</style>\n",
       "<table border=\"1\" class=\"dataframe\">\n",
       "  <thead>\n",
       "    <tr style=\"text-align: right;\">\n",
       "      <th></th>\n",
       "      <th>property_type</th>\n",
       "      <th>place_name</th>\n",
       "      <th>place_with_parent_names</th>\n",
       "      <th>state_name</th>\n",
       "      <th>lat-lon</th>\n",
       "      <th>price</th>\n",
       "      <th>currency</th>\n",
       "      <th>price_aprox_local_currency</th>\n",
       "      <th>price_aprox_usd</th>\n",
       "      <th>surface_total_in_m2</th>\n",
       "      <th>surface_covered_in_m2</th>\n",
       "      <th>price_usd_per_m2</th>\n",
       "      <th>price_per_m2</th>\n",
       "      <th>rooms</th>\n",
       "      <th>description</th>\n",
       "      <th>title</th>\n",
       "    </tr>\n",
       "  </thead>\n",
       "  <tbody>\n",
       "    <tr>\n",
       "      <th>9761</th>\n",
       "      <td>house</td>\n",
       "      <td>Córdoba</td>\n",
       "      <td>|Argentina|Córdoba|</td>\n",
       "      <td>Córdoba</td>\n",
       "      <td>4.5458426,-75.67893099</td>\n",
       "      <td>0.0</td>\n",
       "      <td>NaN</td>\n",
       "      <td>0.0</td>\n",
       "      <td>0.0</td>\n",
       "      <td>NaN</td>\n",
       "      <td>NaN</td>\n",
       "      <td>NaN</td>\n",
       "      <td>NaN</td>\n",
       "      <td>3.0</td>\n",
       "      <td>Casa en Venta de 2 dorm. en Armenia</td>\n",
       "      <td>SE VENDE CASA EN EL BARRIO EL LIMONAR</td>\n",
       "    </tr>\n",
       "  </tbody>\n",
       "</table>\n",
       "</div>"
      ],
      "text/plain": [
       "     property_type place_name place_with_parent_names state_name  \\\n",
       "9761         house    Córdoba     |Argentina|Córdoba|    Córdoba   \n",
       "\n",
       "                     lat-lon  price currency  price_aprox_local_currency  \\\n",
       "9761  4.5458426,-75.67893099    0.0      NaN                         0.0   \n",
       "\n",
       "      price_aprox_usd  surface_total_in_m2  surface_covered_in_m2  \\\n",
       "9761              0.0                  NaN                    NaN   \n",
       "\n",
       "      price_usd_per_m2  price_per_m2  rooms  \\\n",
       "9761               NaN           NaN    3.0   \n",
       "\n",
       "                              description  \\\n",
       "9761  Casa en Venta de 2 dorm. en Armenia   \n",
       "\n",
       "                                      title  \n",
       "9761  SE VENDE CASA EN EL BARRIO EL LIMONAR  "
      ]
     },
     "execution_count": 15,
     "metadata": {},
     "output_type": "execute_result"
    }
   ],
   "source": [
    "# buscamos ese dato menos a 1.000 usd para analizarlo\n",
    "\n",
    "dato_menor = data1[priceusd_menor_1000]\n",
    "dato_menor"
   ]
  },
  {
   "cell_type": "markdown",
   "id": "unsigned-skating",
   "metadata": {},
   "source": [
    "- #### segundos valores elimiandos (eliminados: 1)"
   ]
  },
  {
   "cell_type": "code",
   "execution_count": 16,
   "id": "difficult-milwaukee",
   "metadata": {},
   "outputs": [
    {
     "data": {
      "text/plain": [
       "(115968, 16)"
      ]
     },
     "execution_count": 16,
     "metadata": {},
     "output_type": "execute_result"
    }
   ],
   "source": [
    "#vamos a eliminar ese dato porque no nos aporta nada ya quer no tiene ni precio ni superficie (tampoco esta la info en description)\n",
    "\n",
    "data2 = data1.drop([9761], axis = 0)\n",
    "data2.shape\n",
    "\n",
    "#data2.head(3)"
   ]
  },
  {
   "cell_type": "code",
   "execution_count": 17,
   "id": "rapid-egyptian",
   "metadata": {},
   "outputs": [
    {
     "data": {
      "text/plain": [
       "(4666.619, 90000.0]       25514\n",
       "(268000.0, 46545445.0]    24633\n",
       "(145000.0, 268000.0]      24450\n",
       "(90000.0, 145000.0]       23936\n",
       "Name: price_aprox_usd, dtype: int64"
      ]
     },
     "execution_count": 17,
     "metadata": {},
     "output_type": "execute_result"
    }
   ],
   "source": [
    "#vemos ahora los nuevos bins q se armaron \n",
    "\n",
    "priceusd_categorias = pd.qcut(data2['price_aprox_usd'], 4)\n",
    "priceusd_categorias.value_counts()"
   ]
  },
  {
   "cell_type": "code",
   "execution_count": 18,
   "id": "opening-payment",
   "metadata": {},
   "outputs": [
    {
     "data": {
      "text/plain": [
       "False    115945\n",
       "True         23\n",
       "Name: price_aprox_usd, dtype: int64"
      ]
     },
     "execution_count": 18,
     "metadata": {},
     "output_type": "execute_result"
    }
   ],
   "source": [
    "#ahora analizamos los que son mayores a 7,99mm de usd\n",
    "\n",
    "priceusd_mayor_8m = data2['price_aprox_usd'] > 7999999\n",
    "priceusd_mayor_8m.value_counts()"
   ]
  },
  {
   "cell_type": "code",
   "execution_count": 19,
   "id": "virgin-twenty",
   "metadata": {},
   "outputs": [
    {
     "data": {
      "text/html": [
       "<div>\n",
       "<style scoped>\n",
       "    .dataframe tbody tr th:only-of-type {\n",
       "        vertical-align: middle;\n",
       "    }\n",
       "\n",
       "    .dataframe tbody tr th {\n",
       "        vertical-align: top;\n",
       "    }\n",
       "\n",
       "    .dataframe thead th {\n",
       "        text-align: right;\n",
       "    }\n",
       "</style>\n",
       "<table border=\"1\" class=\"dataframe\">\n",
       "  <thead>\n",
       "    <tr style=\"text-align: right;\">\n",
       "      <th></th>\n",
       "      <th>property_type</th>\n",
       "      <th>place_name</th>\n",
       "      <th>place_with_parent_names</th>\n",
       "      <th>state_name</th>\n",
       "      <th>lat-lon</th>\n",
       "      <th>price</th>\n",
       "      <th>currency</th>\n",
       "      <th>price_aprox_local_currency</th>\n",
       "      <th>price_aprox_usd</th>\n",
       "      <th>surface_total_in_m2</th>\n",
       "      <th>surface_covered_in_m2</th>\n",
       "      <th>price_usd_per_m2</th>\n",
       "      <th>price_per_m2</th>\n",
       "      <th>rooms</th>\n",
       "      <th>description</th>\n",
       "      <th>title</th>\n",
       "    </tr>\n",
       "  </thead>\n",
       "  <tbody>\n",
       "    <tr>\n",
       "      <th>525</th>\n",
       "      <td>house</td>\n",
       "      <td>Acassuso</td>\n",
       "      <td>|Argentina|Bs.As. G.B.A. Zona Norte|San Isidro...</td>\n",
       "      <td>Bs.As. G.B.A. Zona Norte</td>\n",
       "      <td>NaN</td>\n",
       "      <td>11000000.0</td>\n",
       "      <td>USD</td>\n",
       "      <td>1.940895e+08</td>\n",
       "      <td>11000000.00</td>\n",
       "      <td>7500.0</td>\n",
       "      <td>1800.0</td>\n",
       "      <td>1466.666667</td>\n",
       "      <td>6111.111111</td>\n",
       "      <td>NaN</td>\n",
       "      <td>Total vista al rÃ­o. Sobre 7500 m2 de parque a...</td>\n",
       "      <td>Casa 7500m² con Dependencias en Garay, Juan De...</td>\n",
       "    </tr>\n",
       "    <tr>\n",
       "      <th>11349</th>\n",
       "      <td>house</td>\n",
       "      <td>Capital Federal</td>\n",
       "      <td>|Argentina|Capital Federal|</td>\n",
       "      <td>Capital Federal</td>\n",
       "      <td>NaN</td>\n",
       "      <td>8500000.0</td>\n",
       "      <td>USD</td>\n",
       "      <td>1.499782e+08</td>\n",
       "      <td>8500000.00</td>\n",
       "      <td>7832.0</td>\n",
       "      <td>4111.0</td>\n",
       "      <td>1085.291113</td>\n",
       "      <td>2067.623449</td>\n",
       "      <td>NaN</td>\n",
       "      <td>Sobre 7832m2 de lote existen 4111m2 cubiertas ...</td>\n",
       "      <td>Casa 7832m² con Dependencias en Don Bosco 3400...</td>\n",
       "    </tr>\n",
       "    <tr>\n",
       "      <th>24548</th>\n",
       "      <td>apartment</td>\n",
       "      <td>San Telmo</td>\n",
       "      <td>|Argentina|Capital Federal|San Telmo|</td>\n",
       "      <td>Capital Federal</td>\n",
       "      <td>-34.6213421,-58.3741846</td>\n",
       "      <td>46545445.0</td>\n",
       "      <td>USD</td>\n",
       "      <td>8.212711e+08</td>\n",
       "      <td>46545445.00</td>\n",
       "      <td>200000.0</td>\n",
       "      <td>NaN</td>\n",
       "      <td>232.727225</td>\n",
       "      <td>NaN</td>\n",
       "      <td>3.0</td>\n",
       "      <td>dsdffhghvcvbcdfdfghdfhghkjhkhjklhjkfgvghfghnfg...</td>\n",
       "      <td>Departamento venta</td>\n",
       "    </tr>\n",
       "    <tr>\n",
       "      <th>34638</th>\n",
       "      <td>house</td>\n",
       "      <td>Olivos</td>\n",
       "      <td>|Argentina|Bs.As. G.B.A. Zona Norte|Vicente Ló...</td>\n",
       "      <td>Bs.As. G.B.A. Zona Norte</td>\n",
       "      <td>NaN</td>\n",
       "      <td>14000000.0</td>\n",
       "      <td>USD</td>\n",
       "      <td>2.470230e+08</td>\n",
       "      <td>14000000.00</td>\n",
       "      <td>2079.0</td>\n",
       "      <td>NaN</td>\n",
       "      <td>6734.006734</td>\n",
       "      <td>NaN</td>\n",
       "      <td>NaN</td>\n",
       "      <td>Excelente zona. Cerca de la Quinat Presidencia...</td>\n",
       "      <td>Casa 2079m² en Del Libertador, Av. 2200, Vicen...</td>\n",
       "    </tr>\n",
       "    <tr>\n",
       "      <th>44684</th>\n",
       "      <td>apartment</td>\n",
       "      <td>Palermo Chico</td>\n",
       "      <td>|Argentina|Capital Federal|Palermo|Palermo Chico|</td>\n",
       "      <td>Capital Federal</td>\n",
       "      <td>-34.5789246,-58.4013987</td>\n",
       "      <td>8000000.0</td>\n",
       "      <td>USD</td>\n",
       "      <td>1.411560e+08</td>\n",
       "      <td>8000000.00</td>\n",
       "      <td>410.0</td>\n",
       "      <td>410.0</td>\n",
       "      <td>19512.195122</td>\n",
       "      <td>19512.195122</td>\n",
       "      <td>5.0</td>\n",
       "      <td>CONTACTO: MARTIN PINUS 15- EXCELENTISIMA PROPI...</td>\n",
       "      <td>LE PARC ALCORTA - PISO MUY ALTO DE 410 M2 CON ...</td>\n",
       "    </tr>\n",
       "    <tr>\n",
       "      <th>44685</th>\n",
       "      <td>apartment</td>\n",
       "      <td>Palermo Chico</td>\n",
       "      <td>|Argentina|Capital Federal|Palermo|Palermo Chico|</td>\n",
       "      <td>Capital Federal</td>\n",
       "      <td>-34.5789246,-58.4013987</td>\n",
       "      <td>8500000.0</td>\n",
       "      <td>USD</td>\n",
       "      <td>1.499782e+08</td>\n",
       "      <td>8500000.00</td>\n",
       "      <td>410.0</td>\n",
       "      <td>410.0</td>\n",
       "      <td>20731.707317</td>\n",
       "      <td>20731.707317</td>\n",
       "      <td>5.0</td>\n",
       "      <td>CONTACTO: MARTIN PINUS 15- EXCELENTISIMA PROPI...</td>\n",
       "      <td>LE PARC ALCORTA - PISO MUY ALTO DE 410 M2 CON ...</td>\n",
       "    </tr>\n",
       "    <tr>\n",
       "      <th>45689</th>\n",
       "      <td>house</td>\n",
       "      <td>Rosario</td>\n",
       "      <td>|Argentina|Santa Fe|Rosario|</td>\n",
       "      <td>Santa Fe</td>\n",
       "      <td>-32.933983,-60.7319772</td>\n",
       "      <td>11111111.0</td>\n",
       "      <td>USD</td>\n",
       "      <td>1.960500e+08</td>\n",
       "      <td>11111111.00</td>\n",
       "      <td>304.0</td>\n",
       "      <td>149.0</td>\n",
       "      <td>36549.707237</td>\n",
       "      <td>74571.214765</td>\n",
       "      <td>NaN</td>\n",
       "      <td>CODIGO: 2062-670 ubicado en: URQUIZA 7900 -  P...</td>\n",
       "      <td>VENTA CASA AL FRENTE. 3 DORMITORIOS. 2 BAÑOS. ...</td>\n",
       "    </tr>\n",
       "    <tr>\n",
       "      <th>49083</th>\n",
       "      <td>house</td>\n",
       "      <td>San Carlos de Bariloche</td>\n",
       "      <td>|Argentina|Río Negro|San Carlos de Bariloche|S...</td>\n",
       "      <td>Río Negro</td>\n",
       "      <td>NaN</td>\n",
       "      <td>15500000.0</td>\n",
       "      <td>USD</td>\n",
       "      <td>2.734898e+08</td>\n",
       "      <td>15500000.00</td>\n",
       "      <td>NaN</td>\n",
       "      <td>NaN</td>\n",
       "      <td>NaN</td>\n",
       "      <td>NaN</td>\n",
       "      <td>NaN</td>\n",
       "      <td>CODIGO: 1092-vta-angostura ubicado en: Villa L...</td>\n",
       "      <td>CASTILLO DE 1500 MTS CON VISTA AL LAGO,CASA DE...</td>\n",
       "    </tr>\n",
       "    <tr>\n",
       "      <th>55319</th>\n",
       "      <td>house</td>\n",
       "      <td>Acassuso</td>\n",
       "      <td>|Argentina|Bs.As. G.B.A. Zona Norte|San Isidro...</td>\n",
       "      <td>Bs.As. G.B.A. Zona Norte</td>\n",
       "      <td>-34.4722088,-58.4996791</td>\n",
       "      <td>9900000.0</td>\n",
       "      <td>USD</td>\n",
       "      <td>1.746806e+08</td>\n",
       "      <td>9900000.00</td>\n",
       "      <td>1000.0</td>\n",
       "      <td>1000.0</td>\n",
       "      <td>9900.000000</td>\n",
       "      <td>9900.000000</td>\n",
       "      <td>NaN</td>\n",
       "      <td>Casa importante en lote privilegiado con vista...</td>\n",
       "      <td>Casa importante en lote privilegiado con vista...</td>\n",
       "    </tr>\n",
       "    <tr>\n",
       "      <th>57907</th>\n",
       "      <td>house</td>\n",
       "      <td>San Isidro</td>\n",
       "      <td>|Argentina|Bs.As. G.B.A. Zona Norte|San Isidro...</td>\n",
       "      <td>Bs.As. G.B.A. Zona Norte</td>\n",
       "      <td>-34.4877803,-58.5557866</td>\n",
       "      <td>8500000.0</td>\n",
       "      <td>USD</td>\n",
       "      <td>1.499782e+08</td>\n",
       "      <td>8500000.00</td>\n",
       "      <td>NaN</td>\n",
       "      <td>4111.0</td>\n",
       "      <td>NaN</td>\n",
       "      <td>2067.623449</td>\n",
       "      <td>NaN</td>\n",
       "      <td>Sobre 7832m2 de lote existen 4111m2 cubiertas ...</td>\n",
       "      <td>DON BOSCO 3400</td>\n",
       "    </tr>\n",
       "    <tr>\n",
       "      <th>66045</th>\n",
       "      <td>store</td>\n",
       "      <td>Boca</td>\n",
       "      <td>|Argentina|Capital Federal|Boca|</td>\n",
       "      <td>Capital Federal</td>\n",
       "      <td>-34.6443487086,-58.3654248049</td>\n",
       "      <td>8000000.0</td>\n",
       "      <td>USD</td>\n",
       "      <td>1.411560e+08</td>\n",
       "      <td>8000000.00</td>\n",
       "      <td>7722.0</td>\n",
       "      <td>7722.0</td>\n",
       "      <td>1036.001036</td>\n",
       "      <td>1036.001036</td>\n",
       "      <td>NaN</td>\n",
       "      <td>C.A.B.A - Boca - PRECIO A CONSULTAR - CÓDIGO 0...</td>\n",
       "      <td>Venta con RENTA. Espectacular depósito premium</td>\n",
       "    </tr>\n",
       "    <tr>\n",
       "      <th>67528</th>\n",
       "      <td>store</td>\n",
       "      <td>Beccar</td>\n",
       "      <td>|Argentina|Bs.As. G.B.A. Zona Norte|San Isidro...</td>\n",
       "      <td>Bs.As. G.B.A. Zona Norte</td>\n",
       "      <td>NaN</td>\n",
       "      <td>8000000.0</td>\n",
       "      <td>USD</td>\n",
       "      <td>1.411560e+08</td>\n",
       "      <td>8000000.00</td>\n",
       "      <td>13200.0</td>\n",
       "      <td>13200.0</td>\n",
       "      <td>606.060606</td>\n",
       "      <td>606.060606</td>\n",
       "      <td>NaN</td>\n",
       "      <td>Excepcional Planta Industrial  -  Partido de S...</td>\n",
       "      <td>Excepcional Planta Industrial totalmente refac...</td>\n",
       "    </tr>\n",
       "    <tr>\n",
       "      <th>67690</th>\n",
       "      <td>store</td>\n",
       "      <td>Moreno</td>\n",
       "      <td>|Argentina|Bs.As. G.B.A. Zona Oeste|Moreno|Mor...</td>\n",
       "      <td>Bs.As. G.B.A. Zona Oeste</td>\n",
       "      <td>-34.5676494,-58.8491775</td>\n",
       "      <td>9000000.0</td>\n",
       "      <td>USD</td>\n",
       "      <td>1.588005e+08</td>\n",
       "      <td>9000000.00</td>\n",
       "      <td>NaN</td>\n",
       "      <td>13000.0</td>\n",
       "      <td>NaN</td>\n",
       "      <td>692.307692</td>\n",
       "      <td>NaN</td>\n",
       "      <td>Moreno - CÓDIGO 0167Excelente Inmueble Industr...</td>\n",
       "      <td>Excelente Inmueble Industrial de 13.000 m2</td>\n",
       "    </tr>\n",
       "    <tr>\n",
       "      <th>69115</th>\n",
       "      <td>store</td>\n",
       "      <td>Villa Soldati</td>\n",
       "      <td>|Argentina|Capital Federal|Villa Soldati|</td>\n",
       "      <td>Capital Federal</td>\n",
       "      <td>-34.6601221702,-58.4302513174</td>\n",
       "      <td>8500000.0</td>\n",
       "      <td>USD</td>\n",
       "      <td>1.499782e+08</td>\n",
       "      <td>8500000.00</td>\n",
       "      <td>10958.0</td>\n",
       "      <td>10958.0</td>\n",
       "      <td>775.688994</td>\n",
       "      <td>775.688994</td>\n",
       "      <td>NaN</td>\n",
       "      <td>C.A.B.A - Villa Soldati - CÓDIGO 0146Excelente...</td>\n",
       "      <td>Excelente Nave Industrial de 10.960 m2 sobre t...</td>\n",
       "    </tr>\n",
       "    <tr>\n",
       "      <th>73029</th>\n",
       "      <td>apartment</td>\n",
       "      <td>Palermo</td>\n",
       "      <td>|Argentina|Capital Federal|Palermo|</td>\n",
       "      <td>Capital Federal</td>\n",
       "      <td>NaN</td>\n",
       "      <td>8000000.0</td>\n",
       "      <td>USD</td>\n",
       "      <td>1.411560e+08</td>\n",
       "      <td>8000000.00</td>\n",
       "      <td>800.0</td>\n",
       "      <td>NaN</td>\n",
       "      <td>10000.000000</td>\n",
       "      <td>NaN</td>\n",
       "      <td>NaN</td>\n",
       "      <td>VENTA DEPARTAMENTO PISO DE 2 UNIDADES ANEXADAS...</td>\n",
       "      <td>Departamento en Palermo</td>\n",
       "    </tr>\n",
       "    <tr>\n",
       "      <th>84400</th>\n",
       "      <td>store</td>\n",
       "      <td>Bs.As. G.B.A. Zona Norte</td>\n",
       "      <td>|Argentina|Bs.As. G.B.A. Zona Norte|</td>\n",
       "      <td>Bs.As. G.B.A. Zona Norte</td>\n",
       "      <td>NaN</td>\n",
       "      <td>13000000.0</td>\n",
       "      <td>USD</td>\n",
       "      <td>2.293785e+08</td>\n",
       "      <td>13000000.00</td>\n",
       "      <td>NaN</td>\n",
       "      <td>NaN</td>\n",
       "      <td>NaN</td>\n",
       "      <td>NaN</td>\n",
       "      <td>NaN</td>\n",
       "      <td>AL VALOR PUBLICADO DEBERÁ ADICIONÁRSELE EL IMP...</td>\n",
       "      <td>Playa vehicular en venta-alquiler- Zarate</td>\n",
       "    </tr>\n",
       "    <tr>\n",
       "      <th>91229</th>\n",
       "      <td>house</td>\n",
       "      <td>Punilla</td>\n",
       "      <td>|Argentina|Córdoba|Punilla|</td>\n",
       "      <td>Córdoba</td>\n",
       "      <td>NaN</td>\n",
       "      <td>14000000.0</td>\n",
       "      <td>USD</td>\n",
       "      <td>2.470230e+08</td>\n",
       "      <td>14000000.00</td>\n",
       "      <td>NaN</td>\n",
       "      <td>NaN</td>\n",
       "      <td>NaN</td>\n",
       "      <td>NaN</td>\n",
       "      <td>NaN</td>\n",
       "      <td>Casa con Agua Corriente, Córdoba, Punilla, por...</td>\n",
       "      <td>Casa - Villa Carlos Paz</td>\n",
       "    </tr>\n",
       "    <tr>\n",
       "      <th>91289</th>\n",
       "      <td>house</td>\n",
       "      <td>Punilla</td>\n",
       "      <td>|Argentina|Córdoba|Punilla|</td>\n",
       "      <td>Córdoba</td>\n",
       "      <td>NaN</td>\n",
       "      <td>16000000.0</td>\n",
       "      <td>USD</td>\n",
       "      <td>2.823120e+08</td>\n",
       "      <td>16000000.00</td>\n",
       "      <td>NaN</td>\n",
       "      <td>NaN</td>\n",
       "      <td>NaN</td>\n",
       "      <td>NaN</td>\n",
       "      <td>NaN</td>\n",
       "      <td>En Bv Artigas 876 , Parque Jardín, La Falda .A...</td>\n",
       "      <td>Casa - La Falda</td>\n",
       "    </tr>\n",
       "    <tr>\n",
       "      <th>91428</th>\n",
       "      <td>house</td>\n",
       "      <td>Punilla</td>\n",
       "      <td>|Argentina|Córdoba|Punilla|</td>\n",
       "      <td>Córdoba</td>\n",
       "      <td>NaN</td>\n",
       "      <td>14700000.0</td>\n",
       "      <td>USD</td>\n",
       "      <td>2.593742e+08</td>\n",
       "      <td>14700000.00</td>\n",
       "      <td>NaN</td>\n",
       "      <td>NaN</td>\n",
       "      <td>NaN</td>\n",
       "      <td>NaN</td>\n",
       "      <td>NaN</td>\n",
       "      <td>\\tCECILIA INMUEBLES OFRECE:APTO CREDITO HIPOTE...</td>\n",
       "      <td>Casa - Parque Siquiman</td>\n",
       "    </tr>\n",
       "    <tr>\n",
       "      <th>91468</th>\n",
       "      <td>house</td>\n",
       "      <td>Punilla</td>\n",
       "      <td>|Argentina|Córdoba|Punilla|</td>\n",
       "      <td>Córdoba</td>\n",
       "      <td>NaN</td>\n",
       "      <td>25000000.0</td>\n",
       "      <td>USD</td>\n",
       "      <td>4.411125e+08</td>\n",
       "      <td>25000000.00</td>\n",
       "      <td>NaN</td>\n",
       "      <td>NaN</td>\n",
       "      <td>NaN</td>\n",
       "      <td>NaN</td>\n",
       "      <td>NaN</td>\n",
       "      <td>Casa con Agua Corriente, Córdoba, Punilla, por...</td>\n",
       "      <td>Casa - Parque Siquiman</td>\n",
       "    </tr>\n",
       "    <tr>\n",
       "      <th>91479</th>\n",
       "      <td>house</td>\n",
       "      <td>Punilla</td>\n",
       "      <td>|Argentina|Córdoba|Punilla|</td>\n",
       "      <td>Córdoba</td>\n",
       "      <td>NaN</td>\n",
       "      <td>19500000.0</td>\n",
       "      <td>USD</td>\n",
       "      <td>3.440678e+08</td>\n",
       "      <td>19500000.00</td>\n",
       "      <td>NaN</td>\n",
       "      <td>NaN</td>\n",
       "      <td>NaN</td>\n",
       "      <td>NaN</td>\n",
       "      <td>NaN</td>\n",
       "      <td>\\tCECILIA INMUEBLES OFRECE:INCREIBLE PROPIEDAD...</td>\n",
       "      <td>Casa - Parque Siquiman</td>\n",
       "    </tr>\n",
       "    <tr>\n",
       "      <th>107390</th>\n",
       "      <td>house</td>\n",
       "      <td>San Roque</td>\n",
       "      <td>|Argentina|Mendoza|San Roque|</td>\n",
       "      <td>Mendoza</td>\n",
       "      <td>NaN</td>\n",
       "      <td>650000000.0</td>\n",
       "      <td>UYU</td>\n",
       "      <td>4.054773e+08</td>\n",
       "      <td>22980378.29</td>\n",
       "      <td>NaN</td>\n",
       "      <td>NaN</td>\n",
       "      <td>NaN</td>\n",
       "      <td>NaN</td>\n",
       "      <td>NaN</td>\n",
       "      <td>Casa con Calefacción central, Mendoza, San Roq...</td>\n",
       "      <td>Casa - San Vicente</td>\n",
       "    </tr>\n",
       "    <tr>\n",
       "      <th>114131</th>\n",
       "      <td>house</td>\n",
       "      <td>Ituzaingó</td>\n",
       "      <td>|Argentina|Bs.As. G.B.A. Zona Oeste|Ituzaingó|</td>\n",
       "      <td>Bs.As. G.B.A. Zona Oeste</td>\n",
       "      <td>-34.6571706,-58.6826249</td>\n",
       "      <td>12000000.0</td>\n",
       "      <td>USD</td>\n",
       "      <td>2.117340e+08</td>\n",
       "      <td>12000000.00</td>\n",
       "      <td>150.0</td>\n",
       "      <td>85.0</td>\n",
       "      <td>80000.000000</td>\n",
       "      <td>141176.470588</td>\n",
       "      <td>NaN</td>\n",
       "      <td>CODIGO:  ubicado en: MONSEÑOR TERRERO , Ituzai...</td>\n",
       "      <td>MONSEÑOR TERRERO , Ituzaingó, Buenos Aires.</td>\n",
       "    </tr>\n",
       "  </tbody>\n",
       "</table>\n",
       "</div>"
      ],
      "text/plain": [
       "       property_type                place_name  \\\n",
       "525            house                  Acassuso   \n",
       "11349          house           Capital Federal   \n",
       "24548      apartment                 San Telmo   \n",
       "34638          house                    Olivos   \n",
       "44684      apartment             Palermo Chico   \n",
       "44685      apartment             Palermo Chico   \n",
       "45689          house                   Rosario   \n",
       "49083          house   San Carlos de Bariloche   \n",
       "55319          house                  Acassuso   \n",
       "57907          house                San Isidro   \n",
       "66045          store                      Boca   \n",
       "67528          store                    Beccar   \n",
       "67690          store                    Moreno   \n",
       "69115          store             Villa Soldati   \n",
       "73029      apartment                   Palermo   \n",
       "84400          store  Bs.As. G.B.A. Zona Norte   \n",
       "91229          house                   Punilla   \n",
       "91289          house                   Punilla   \n",
       "91428          house                   Punilla   \n",
       "91468          house                   Punilla   \n",
       "91479          house                   Punilla   \n",
       "107390         house                 San Roque   \n",
       "114131         house                 Ituzaingó   \n",
       "\n",
       "                                  place_with_parent_names  \\\n",
       "525     |Argentina|Bs.As. G.B.A. Zona Norte|San Isidro...   \n",
       "11349                         |Argentina|Capital Federal|   \n",
       "24548               |Argentina|Capital Federal|San Telmo|   \n",
       "34638   |Argentina|Bs.As. G.B.A. Zona Norte|Vicente Ló...   \n",
       "44684   |Argentina|Capital Federal|Palermo|Palermo Chico|   \n",
       "44685   |Argentina|Capital Federal|Palermo|Palermo Chico|   \n",
       "45689                        |Argentina|Santa Fe|Rosario|   \n",
       "49083   |Argentina|Río Negro|San Carlos de Bariloche|S...   \n",
       "55319   |Argentina|Bs.As. G.B.A. Zona Norte|San Isidro...   \n",
       "57907   |Argentina|Bs.As. G.B.A. Zona Norte|San Isidro...   \n",
       "66045                    |Argentina|Capital Federal|Boca|   \n",
       "67528   |Argentina|Bs.As. G.B.A. Zona Norte|San Isidro...   \n",
       "67690   |Argentina|Bs.As. G.B.A. Zona Oeste|Moreno|Mor...   \n",
       "69115           |Argentina|Capital Federal|Villa Soldati|   \n",
       "73029                 |Argentina|Capital Federal|Palermo|   \n",
       "84400                |Argentina|Bs.As. G.B.A. Zona Norte|   \n",
       "91229                         |Argentina|Córdoba|Punilla|   \n",
       "91289                         |Argentina|Córdoba|Punilla|   \n",
       "91428                         |Argentina|Córdoba|Punilla|   \n",
       "91468                         |Argentina|Córdoba|Punilla|   \n",
       "91479                         |Argentina|Córdoba|Punilla|   \n",
       "107390                      |Argentina|Mendoza|San Roque|   \n",
       "114131     |Argentina|Bs.As. G.B.A. Zona Oeste|Ituzaingó|   \n",
       "\n",
       "                      state_name                        lat-lon        price  \\\n",
       "525     Bs.As. G.B.A. Zona Norte                            NaN   11000000.0   \n",
       "11349            Capital Federal                            NaN    8500000.0   \n",
       "24548            Capital Federal        -34.6213421,-58.3741846   46545445.0   \n",
       "34638   Bs.As. G.B.A. Zona Norte                            NaN   14000000.0   \n",
       "44684            Capital Federal        -34.5789246,-58.4013987    8000000.0   \n",
       "44685            Capital Federal        -34.5789246,-58.4013987    8500000.0   \n",
       "45689                   Santa Fe         -32.933983,-60.7319772   11111111.0   \n",
       "49083                  Río Negro                            NaN   15500000.0   \n",
       "55319   Bs.As. G.B.A. Zona Norte        -34.4722088,-58.4996791    9900000.0   \n",
       "57907   Bs.As. G.B.A. Zona Norte        -34.4877803,-58.5557866    8500000.0   \n",
       "66045            Capital Federal  -34.6443487086,-58.3654248049    8000000.0   \n",
       "67528   Bs.As. G.B.A. Zona Norte                            NaN    8000000.0   \n",
       "67690   Bs.As. G.B.A. Zona Oeste        -34.5676494,-58.8491775    9000000.0   \n",
       "69115            Capital Federal  -34.6601221702,-58.4302513174    8500000.0   \n",
       "73029            Capital Federal                            NaN    8000000.0   \n",
       "84400   Bs.As. G.B.A. Zona Norte                            NaN   13000000.0   \n",
       "91229                    Córdoba                            NaN   14000000.0   \n",
       "91289                    Córdoba                            NaN   16000000.0   \n",
       "91428                    Córdoba                            NaN   14700000.0   \n",
       "91468                    Córdoba                            NaN   25000000.0   \n",
       "91479                    Córdoba                            NaN   19500000.0   \n",
       "107390                   Mendoza                            NaN  650000000.0   \n",
       "114131  Bs.As. G.B.A. Zona Oeste        -34.6571706,-58.6826249   12000000.0   \n",
       "\n",
       "       currency  price_aprox_local_currency  price_aprox_usd  \\\n",
       "525         USD                1.940895e+08      11000000.00   \n",
       "11349       USD                1.499782e+08       8500000.00   \n",
       "24548       USD                8.212711e+08      46545445.00   \n",
       "34638       USD                2.470230e+08      14000000.00   \n",
       "44684       USD                1.411560e+08       8000000.00   \n",
       "44685       USD                1.499782e+08       8500000.00   \n",
       "45689       USD                1.960500e+08      11111111.00   \n",
       "49083       USD                2.734898e+08      15500000.00   \n",
       "55319       USD                1.746806e+08       9900000.00   \n",
       "57907       USD                1.499782e+08       8500000.00   \n",
       "66045       USD                1.411560e+08       8000000.00   \n",
       "67528       USD                1.411560e+08       8000000.00   \n",
       "67690       USD                1.588005e+08       9000000.00   \n",
       "69115       USD                1.499782e+08       8500000.00   \n",
       "73029       USD                1.411560e+08       8000000.00   \n",
       "84400       USD                2.293785e+08      13000000.00   \n",
       "91229       USD                2.470230e+08      14000000.00   \n",
       "91289       USD                2.823120e+08      16000000.00   \n",
       "91428       USD                2.593742e+08      14700000.00   \n",
       "91468       USD                4.411125e+08      25000000.00   \n",
       "91479       USD                3.440678e+08      19500000.00   \n",
       "107390      UYU                4.054773e+08      22980378.29   \n",
       "114131      USD                2.117340e+08      12000000.00   \n",
       "\n",
       "        surface_total_in_m2  surface_covered_in_m2  price_usd_per_m2  \\\n",
       "525                  7500.0                 1800.0       1466.666667   \n",
       "11349                7832.0                 4111.0       1085.291113   \n",
       "24548              200000.0                    NaN        232.727225   \n",
       "34638                2079.0                    NaN       6734.006734   \n",
       "44684                 410.0                  410.0      19512.195122   \n",
       "44685                 410.0                  410.0      20731.707317   \n",
       "45689                 304.0                  149.0      36549.707237   \n",
       "49083                   NaN                    NaN               NaN   \n",
       "55319                1000.0                 1000.0       9900.000000   \n",
       "57907                   NaN                 4111.0               NaN   \n",
       "66045                7722.0                 7722.0       1036.001036   \n",
       "67528               13200.0                13200.0        606.060606   \n",
       "67690                   NaN                13000.0               NaN   \n",
       "69115               10958.0                10958.0        775.688994   \n",
       "73029                 800.0                    NaN      10000.000000   \n",
       "84400                   NaN                    NaN               NaN   \n",
       "91229                   NaN                    NaN               NaN   \n",
       "91289                   NaN                    NaN               NaN   \n",
       "91428                   NaN                    NaN               NaN   \n",
       "91468                   NaN                    NaN               NaN   \n",
       "91479                   NaN                    NaN               NaN   \n",
       "107390                  NaN                    NaN               NaN   \n",
       "114131                150.0                   85.0      80000.000000   \n",
       "\n",
       "         price_per_m2  rooms  \\\n",
       "525       6111.111111    NaN   \n",
       "11349     2067.623449    NaN   \n",
       "24548             NaN    3.0   \n",
       "34638             NaN    NaN   \n",
       "44684    19512.195122    5.0   \n",
       "44685    20731.707317    5.0   \n",
       "45689    74571.214765    NaN   \n",
       "49083             NaN    NaN   \n",
       "55319     9900.000000    NaN   \n",
       "57907     2067.623449    NaN   \n",
       "66045     1036.001036    NaN   \n",
       "67528      606.060606    NaN   \n",
       "67690      692.307692    NaN   \n",
       "69115      775.688994    NaN   \n",
       "73029             NaN    NaN   \n",
       "84400             NaN    NaN   \n",
       "91229             NaN    NaN   \n",
       "91289             NaN    NaN   \n",
       "91428             NaN    NaN   \n",
       "91468             NaN    NaN   \n",
       "91479             NaN    NaN   \n",
       "107390            NaN    NaN   \n",
       "114131  141176.470588    NaN   \n",
       "\n",
       "                                              description  \\\n",
       "525     Total vista al rÃ­o. Sobre 7500 m2 de parque a...   \n",
       "11349   Sobre 7832m2 de lote existen 4111m2 cubiertas ...   \n",
       "24548   dsdffhghvcvbcdfdfghdfhghkjhkhjklhjkfgvghfghnfg...   \n",
       "34638   Excelente zona. Cerca de la Quinat Presidencia...   \n",
       "44684   CONTACTO: MARTIN PINUS 15- EXCELENTISIMA PROPI...   \n",
       "44685   CONTACTO: MARTIN PINUS 15- EXCELENTISIMA PROPI...   \n",
       "45689   CODIGO: 2062-670 ubicado en: URQUIZA 7900 -  P...   \n",
       "49083   CODIGO: 1092-vta-angostura ubicado en: Villa L...   \n",
       "55319   Casa importante en lote privilegiado con vista...   \n",
       "57907   Sobre 7832m2 de lote existen 4111m2 cubiertas ...   \n",
       "66045   C.A.B.A - Boca - PRECIO A CONSULTAR - CÓDIGO 0...   \n",
       "67528   Excepcional Planta Industrial  -  Partido de S...   \n",
       "67690   Moreno - CÓDIGO 0167Excelente Inmueble Industr...   \n",
       "69115   C.A.B.A - Villa Soldati - CÓDIGO 0146Excelente...   \n",
       "73029   VENTA DEPARTAMENTO PISO DE 2 UNIDADES ANEXADAS...   \n",
       "84400   AL VALOR PUBLICADO DEBERÁ ADICIONÁRSELE EL IMP...   \n",
       "91229   Casa con Agua Corriente, Córdoba, Punilla, por...   \n",
       "91289   En Bv Artigas 876 , Parque Jardín, La Falda .A...   \n",
       "91428   \\tCECILIA INMUEBLES OFRECE:APTO CREDITO HIPOTE...   \n",
       "91468   Casa con Agua Corriente, Córdoba, Punilla, por...   \n",
       "91479   \\tCECILIA INMUEBLES OFRECE:INCREIBLE PROPIEDAD...   \n",
       "107390  Casa con Calefacción central, Mendoza, San Roq...   \n",
       "114131  CODIGO:  ubicado en: MONSEÑOR TERRERO , Ituzai...   \n",
       "\n",
       "                                                    title  \n",
       "525     Casa 7500m² con Dependencias en Garay, Juan De...  \n",
       "11349   Casa 7832m² con Dependencias en Don Bosco 3400...  \n",
       "24548                                  Departamento venta  \n",
       "34638   Casa 2079m² en Del Libertador, Av. 2200, Vicen...  \n",
       "44684   LE PARC ALCORTA - PISO MUY ALTO DE 410 M2 CON ...  \n",
       "44685   LE PARC ALCORTA - PISO MUY ALTO DE 410 M2 CON ...  \n",
       "45689   VENTA CASA AL FRENTE. 3 DORMITORIOS. 2 BAÑOS. ...  \n",
       "49083   CASTILLO DE 1500 MTS CON VISTA AL LAGO,CASA DE...  \n",
       "55319   Casa importante en lote privilegiado con vista...  \n",
       "57907                                      DON BOSCO 3400  \n",
       "66045      Venta con RENTA. Espectacular depósito premium  \n",
       "67528   Excepcional Planta Industrial totalmente refac...  \n",
       "67690          Excelente Inmueble Industrial de 13.000 m2  \n",
       "69115   Excelente Nave Industrial de 10.960 m2 sobre t...  \n",
       "73029                             Departamento en Palermo  \n",
       "84400           Playa vehicular en venta-alquiler- Zarate  \n",
       "91229                             Casa - Villa Carlos Paz  \n",
       "91289                                     Casa - La Falda  \n",
       "91428                              Casa - Parque Siquiman  \n",
       "91468                              Casa - Parque Siquiman  \n",
       "91479                              Casa - Parque Siquiman  \n",
       "107390                                 Casa - San Vicente  \n",
       "114131        MONSEÑOR TERRERO , Ituzaingó, Buenos Aires.  "
      ]
     },
     "execution_count": 19,
     "metadata": {},
     "output_type": "execute_result"
    }
   ],
   "source": [
    "datos_mayores = data2[priceusd_mayor_8m]\n",
    "datos_mayores"
   ]
  },
  {
   "cell_type": "markdown",
   "id": "criminal-national",
   "metadata": {},
   "source": [
    "- #### tercer eliminacion de valores (eliminados: 8)"
   ]
  },
  {
   "cell_type": "code",
   "execution_count": 20,
   "id": "excited-parallel",
   "metadata": {},
   "outputs": [],
   "source": [
    "#vamos a borrar en base a lo que vimos los sigueintes indices porque no son propiedades reales, o son errores de carga\n",
    "\n",
    "data3 = data2.drop([24548, 91468, 107390, 91479, 91289, 91428, 114131, 45689], axis = 0)"
   ]
  },
  {
   "cell_type": "code",
   "execution_count": 21,
   "id": "pressed-viking",
   "metadata": {},
   "outputs": [
    {
     "data": {
      "text/plain": [
       "(115960, 16)"
      ]
     },
     "execution_count": 21,
     "metadata": {},
     "output_type": "execute_result"
    }
   ],
   "source": [
    "data3.shape"
   ]
  },
  {
   "cell_type": "markdown",
   "id": "better-turning",
   "metadata": {},
   "source": [
    "## 2)  Vamos a trabajar ahora sobre las localidades"
   ]
  },
  {
   "cell_type": "markdown",
   "id": "biblical-relative",
   "metadata": {},
   "source": [
    "# ahora vamos a trabajar sobre las columnas de ubicacion"
   ]
  },
  {
   "cell_type": "markdown",
   "id": "identical-celebration",
   "metadata": {},
   "source": [
    "- ### Tenemos 3 columnas de ubicacion \"place_name\"   \"place_with_parent_names\"  \"state_name\""
   ]
  },
  {
   "cell_type": "markdown",
   "id": "fewer-holder",
   "metadata": {},
   "source": [
    "- ### place_name no se puede utilizar como columna de Localidad ya que hay datos mal cargados, por ejemplo ciertas filas con nombres de Barrios Privados"
   ]
  },
  {
   "cell_type": "markdown",
   "id": "simple-partner",
   "metadata": {},
   "source": [
    "- ### Es por eso que trabajamos la columna \"place_with_parent_names\", la splitiamos y obtuvimos la localidad de la misma. Esa localidad va a ser la ubicacion mas especifica para todo el trabajo "
   ]
  },
  {
   "cell_type": "code",
   "execution_count": 22,
   "id": "vietnamese-persian",
   "metadata": {},
   "outputs": [],
   "source": [
    "#vamos a arrancar por sacar el pais Argentina ya que todas las propiedades son en Argentina.\n",
    "# creamo una regex para sacar los |Argentina del comienzo de \"place_with_parent_names\"\n",
    "import re\n",
    "patron_argentina = \"\\|Argentina\\|\"\n",
    "patron_regex_arg = re.compile(patron_argentina)\n",
    "data3[\"place_with_parent_names\"] = data3[\"place_with_parent_names\"].apply(lambda x: x if x is np.NaN else patron_regex_arg.sub(\"\",x))"
   ]
  },
  {
   "cell_type": "markdown",
   "id": "egyptian-textbook",
   "metadata": {},
   "source": [
    "#### una vez que tenemos la regex de thomas con todos los valores de m2, agregamos los datos a las dos columnas covered y total y ya podemos dividir la columna precio aprox usd por la columna final de surface que usemos para el total de la superficie. de esta manera obtenemos el verdadero valor de price per m2 REAL"
   ]
  },
  {
   "cell_type": "code",
   "execution_count": null,
   "id": "psychological-reporter",
   "metadata": {},
   "outputs": [],
   "source": []
  },
  {
   "cell_type": "code",
   "execution_count": 23,
   "id": "surprising-interstate",
   "metadata": {},
   "outputs": [
    {
     "data": {
      "text/html": [
       "<div>\n",
       "<style scoped>\n",
       "    .dataframe tbody tr th:only-of-type {\n",
       "        vertical-align: middle;\n",
       "    }\n",
       "\n",
       "    .dataframe tbody tr th {\n",
       "        vertical-align: top;\n",
       "    }\n",
       "\n",
       "    .dataframe thead th {\n",
       "        text-align: right;\n",
       "    }\n",
       "</style>\n",
       "<table border=\"1\" class=\"dataframe\">\n",
       "  <thead>\n",
       "    <tr style=\"text-align: right;\">\n",
       "      <th></th>\n",
       "      <th>place_with_parent_names</th>\n",
       "    </tr>\n",
       "  </thead>\n",
       "  <tbody>\n",
       "    <tr>\n",
       "      <th>0</th>\n",
       "      <td>Capital Federal|Mataderos|</td>\n",
       "    </tr>\n",
       "    <tr>\n",
       "      <th>1</th>\n",
       "      <td>Bs.As. G.B.A. Zona Sur|La Plata|</td>\n",
       "    </tr>\n",
       "    <tr>\n",
       "      <th>2</th>\n",
       "      <td>Capital Federal|Mataderos|</td>\n",
       "    </tr>\n",
       "    <tr>\n",
       "      <th>3</th>\n",
       "      <td>Capital Federal|Liniers|</td>\n",
       "    </tr>\n",
       "    <tr>\n",
       "      <th>4</th>\n",
       "      <td>Buenos Aires Costa Atlántica|Mar del Plata|Cen...</td>\n",
       "    </tr>\n",
       "    <tr>\n",
       "      <th>5</th>\n",
       "      <td>Entre Ríos|Gualeguaychú|</td>\n",
       "    </tr>\n",
       "    <tr>\n",
       "      <th>6</th>\n",
       "      <td>Bs.As. G.B.A. Zona Norte|Vicente López|Munro|</td>\n",
       "    </tr>\n",
       "    <tr>\n",
       "      <th>7</th>\n",
       "      <td>Capital Federal|Belgrano|</td>\n",
       "    </tr>\n",
       "    <tr>\n",
       "      <th>8</th>\n",
       "      <td>Capital Federal|Belgrano|</td>\n",
       "    </tr>\n",
       "    <tr>\n",
       "      <th>9</th>\n",
       "      <td>Santa Fe|Rosario|</td>\n",
       "    </tr>\n",
       "  </tbody>\n",
       "</table>\n",
       "</div>"
      ],
      "text/plain": [
       "                             place_with_parent_names\n",
       "0                         Capital Federal|Mataderos|\n",
       "1                   Bs.As. G.B.A. Zona Sur|La Plata|\n",
       "2                         Capital Federal|Mataderos|\n",
       "3                           Capital Federal|Liniers|\n",
       "4  Buenos Aires Costa Atlántica|Mar del Plata|Cen...\n",
       "5                           Entre Ríos|Gualeguaychú|\n",
       "6      Bs.As. G.B.A. Zona Norte|Vicente López|Munro|\n",
       "7                          Capital Federal|Belgrano|\n",
       "8                          Capital Federal|Belgrano|\n",
       "9                                  Santa Fe|Rosario|"
      ]
     },
     "execution_count": 23,
     "metadata": {},
     "output_type": "execute_result"
    }
   ],
   "source": [
    "data3.loc[:, [\"place_with_parent_names\"]].head(10)"
   ]
  },
  {
   "cell_type": "code",
   "execution_count": 24,
   "id": "british-temple",
   "metadata": {},
   "outputs": [
    {
     "data": {
      "text/html": [
       "<div>\n",
       "<style scoped>\n",
       "    .dataframe tbody tr th:only-of-type {\n",
       "        vertical-align: middle;\n",
       "    }\n",
       "\n",
       "    .dataframe tbody tr th {\n",
       "        vertical-align: top;\n",
       "    }\n",
       "\n",
       "    .dataframe thead th {\n",
       "        text-align: right;\n",
       "    }\n",
       "</style>\n",
       "<table border=\"1\" class=\"dataframe\">\n",
       "  <thead>\n",
       "    <tr style=\"text-align: right;\">\n",
       "      <th></th>\n",
       "      <th>Provincia</th>\n",
       "      <th>Localidad</th>\n",
       "      <th>Info_extra</th>\n",
       "    </tr>\n",
       "  </thead>\n",
       "  <tbody>\n",
       "    <tr>\n",
       "      <th>0</th>\n",
       "      <td>Capital Federal</td>\n",
       "      <td>Mataderos</td>\n",
       "      <td></td>\n",
       "    </tr>\n",
       "    <tr>\n",
       "      <th>1</th>\n",
       "      <td>Bs.As. G.B.A. Zona Sur</td>\n",
       "      <td>La Plata</td>\n",
       "      <td></td>\n",
       "    </tr>\n",
       "    <tr>\n",
       "      <th>2</th>\n",
       "      <td>Capital Federal</td>\n",
       "      <td>Mataderos</td>\n",
       "      <td></td>\n",
       "    </tr>\n",
       "    <tr>\n",
       "      <th>3</th>\n",
       "      <td>Capital Federal</td>\n",
       "      <td>Liniers</td>\n",
       "      <td></td>\n",
       "    </tr>\n",
       "    <tr>\n",
       "      <th>4</th>\n",
       "      <td>Buenos Aires Costa Atlántica</td>\n",
       "      <td>Mar del Plata</td>\n",
       "      <td>Centro|</td>\n",
       "    </tr>\n",
       "    <tr>\n",
       "      <th>...</th>\n",
       "      <td>...</td>\n",
       "      <td>...</td>\n",
       "      <td>...</td>\n",
       "    </tr>\n",
       "    <tr>\n",
       "      <th>121215</th>\n",
       "      <td>Capital Federal</td>\n",
       "      <td>Belgrano</td>\n",
       "      <td></td>\n",
       "    </tr>\n",
       "    <tr>\n",
       "      <th>121216</th>\n",
       "      <td>Bs.As. G.B.A. Zona Norte</td>\n",
       "      <td>San Isidro</td>\n",
       "      <td>Beccar|</td>\n",
       "    </tr>\n",
       "    <tr>\n",
       "      <th>121217</th>\n",
       "      <td>Capital Federal</td>\n",
       "      <td>Villa Urquiza</td>\n",
       "      <td></td>\n",
       "    </tr>\n",
       "    <tr>\n",
       "      <th>121218</th>\n",
       "      <td>Buenos Aires Costa Atlántica</td>\n",
       "      <td>Mar del Plata</td>\n",
       "      <td>Plaza Colón|</td>\n",
       "    </tr>\n",
       "    <tr>\n",
       "      <th>121219</th>\n",
       "      <td>Capital Federal</td>\n",
       "      <td></td>\n",
       "      <td>None</td>\n",
       "    </tr>\n",
       "  </tbody>\n",
       "</table>\n",
       "<p>115960 rows × 3 columns</p>\n",
       "</div>"
      ],
      "text/plain": [
       "                           Provincia      Localidad    Info_extra\n",
       "0                    Capital Federal      Mataderos              \n",
       "1             Bs.As. G.B.A. Zona Sur       La Plata              \n",
       "2                    Capital Federal      Mataderos              \n",
       "3                    Capital Federal        Liniers              \n",
       "4       Buenos Aires Costa Atlántica  Mar del Plata       Centro|\n",
       "...                              ...            ...           ...\n",
       "121215               Capital Federal       Belgrano              \n",
       "121216      Bs.As. G.B.A. Zona Norte     San Isidro       Beccar|\n",
       "121217               Capital Federal  Villa Urquiza              \n",
       "121218  Buenos Aires Costa Atlántica  Mar del Plata  Plaza Colón|\n",
       "121219               Capital Federal                         None\n",
       "\n",
       "[115960 rows x 3 columns]"
      ]
     },
     "execution_count": 24,
     "metadata": {},
     "output_type": "execute_result"
    }
   ],
   "source": [
    "#Splitiamos ahora \"place_with_parent_names\" en 3 columnas distintas (provincia, localidad, info extra) y las agregamos al DF\n",
    "\n",
    "data3[[\"Provincia\",\"Localidad\", \"Info_extra\"]] = data3[\"place_with_parent_names\"].str.split(\"|\",n=2, expand=True)\n",
    "data3.loc[:,[\"Provincia\",\"Localidad\", \"Info_extra\"]]"
   ]
  },
  {
   "cell_type": "code",
   "execution_count": 25,
   "id": "cheap-luxury",
   "metadata": {},
   "outputs": [
    {
     "data": {
      "text/html": [
       "<div>\n",
       "<style scoped>\n",
       "    .dataframe tbody tr th:only-of-type {\n",
       "        vertical-align: middle;\n",
       "    }\n",
       "\n",
       "    .dataframe tbody tr th {\n",
       "        vertical-align: top;\n",
       "    }\n",
       "\n",
       "    .dataframe thead th {\n",
       "        text-align: right;\n",
       "    }\n",
       "</style>\n",
       "<table border=\"1\" class=\"dataframe\">\n",
       "  <thead>\n",
       "    <tr style=\"text-align: right;\">\n",
       "      <th></th>\n",
       "      <th>property_type</th>\n",
       "      <th>place_name</th>\n",
       "      <th>place_with_parent_names</th>\n",
       "      <th>state_name</th>\n",
       "      <th>lat-lon</th>\n",
       "      <th>price</th>\n",
       "      <th>currency</th>\n",
       "      <th>price_aprox_local_currency</th>\n",
       "      <th>price_aprox_usd</th>\n",
       "      <th>surface_total_in_m2</th>\n",
       "      <th>surface_covered_in_m2</th>\n",
       "      <th>price_usd_per_m2</th>\n",
       "      <th>price_per_m2</th>\n",
       "      <th>rooms</th>\n",
       "      <th>description</th>\n",
       "      <th>title</th>\n",
       "      <th>Provincia</th>\n",
       "      <th>Localidad</th>\n",
       "      <th>Info_extra</th>\n",
       "    </tr>\n",
       "  </thead>\n",
       "  <tbody>\n",
       "    <tr>\n",
       "      <th>0</th>\n",
       "      <td>PH</td>\n",
       "      <td>Mataderos</td>\n",
       "      <td>Capital Federal|Mataderos|</td>\n",
       "      <td>Capital Federal</td>\n",
       "      <td>-34.6618237,-58.5088387</td>\n",
       "      <td>62000.0</td>\n",
       "      <td>USD</td>\n",
       "      <td>1093959.0</td>\n",
       "      <td>62000.0</td>\n",
       "      <td>55.0</td>\n",
       "      <td>40.0</td>\n",
       "      <td>1127.272727</td>\n",
       "      <td>1550.000000</td>\n",
       "      <td>NaN</td>\n",
       "      <td>2 AMBIENTES TIPO CASA PLANTA BAJA POR PASILLO,...</td>\n",
       "      <td>2 AMB TIPO CASA SIN EXPENSAS EN PB</td>\n",
       "      <td>Capital Federal</td>\n",
       "      <td>Mataderos</td>\n",
       "      <td></td>\n",
       "    </tr>\n",
       "    <tr>\n",
       "      <th>1</th>\n",
       "      <td>apartment</td>\n",
       "      <td>La Plata</td>\n",
       "      <td>Bs.As. G.B.A. Zona Sur|La Plata|</td>\n",
       "      <td>Bs.As. G.B.A. Zona Sur</td>\n",
       "      <td>-34.9038831,-57.9643295</td>\n",
       "      <td>150000.0</td>\n",
       "      <td>USD</td>\n",
       "      <td>2646675.0</td>\n",
       "      <td>150000.0</td>\n",
       "      <td>NaN</td>\n",
       "      <td>NaN</td>\n",
       "      <td>NaN</td>\n",
       "      <td>NaN</td>\n",
       "      <td>NaN</td>\n",
       "      <td>Venta de departamento en décimo piso al frente...</td>\n",
       "      <td>VENTA Depto 2 dorm. a estrenar 7 e/ 36 y 37   ...</td>\n",
       "      <td>Bs.As. G.B.A. Zona Sur</td>\n",
       "      <td>La Plata</td>\n",
       "      <td></td>\n",
       "    </tr>\n",
       "    <tr>\n",
       "      <th>2</th>\n",
       "      <td>apartment</td>\n",
       "      <td>Mataderos</td>\n",
       "      <td>Capital Federal|Mataderos|</td>\n",
       "      <td>Capital Federal</td>\n",
       "      <td>-34.6522615,-58.5229825</td>\n",
       "      <td>72000.0</td>\n",
       "      <td>USD</td>\n",
       "      <td>1270404.0</td>\n",
       "      <td>72000.0</td>\n",
       "      <td>55.0</td>\n",
       "      <td>55.0</td>\n",
       "      <td>1309.090909</td>\n",
       "      <td>1309.090909</td>\n",
       "      <td>NaN</td>\n",
       "      <td>2 AMBIENTES 3ER PISO LATERAL LIVING COMEDOR AM...</td>\n",
       "      <td>2 AMB 3ER PISO CON ASCENSOR APTO CREDITO</td>\n",
       "      <td>Capital Federal</td>\n",
       "      <td>Mataderos</td>\n",
       "      <td></td>\n",
       "    </tr>\n",
       "    <tr>\n",
       "      <th>3</th>\n",
       "      <td>PH</td>\n",
       "      <td>Liniers</td>\n",
       "      <td>Capital Federal|Liniers|</td>\n",
       "      <td>Capital Federal</td>\n",
       "      <td>-34.6477969,-58.5164244</td>\n",
       "      <td>95000.0</td>\n",
       "      <td>USD</td>\n",
       "      <td>1676227.5</td>\n",
       "      <td>95000.0</td>\n",
       "      <td>NaN</td>\n",
       "      <td>NaN</td>\n",
       "      <td>NaN</td>\n",
       "      <td>NaN</td>\n",
       "      <td>NaN</td>\n",
       "      <td>PH 3 ambientes con patio. Hay 3 deptos en lote...</td>\n",
       "      <td>PH 3 amb. cfte. reciclado</td>\n",
       "      <td>Capital Federal</td>\n",
       "      <td>Liniers</td>\n",
       "      <td></td>\n",
       "    </tr>\n",
       "    <tr>\n",
       "      <th>4</th>\n",
       "      <td>apartment</td>\n",
       "      <td>Centro</td>\n",
       "      <td>Buenos Aires Costa Atlántica|Mar del Plata|Cen...</td>\n",
       "      <td>Buenos Aires Costa Atlántica</td>\n",
       "      <td>-38.0026256,-57.5494468</td>\n",
       "      <td>64000.0</td>\n",
       "      <td>USD</td>\n",
       "      <td>1129248.0</td>\n",
       "      <td>64000.0</td>\n",
       "      <td>35.0</td>\n",
       "      <td>35.0</td>\n",
       "      <td>1828.571429</td>\n",
       "      <td>1828.571429</td>\n",
       "      <td>NaN</td>\n",
       "      <td>DEPARTAMENTO CON FANTÁSTICA ILUMINACIÓN NATURA...</td>\n",
       "      <td>DEPTO 2 AMB AL CONTRAFRENTE ZONA CENTRO/PLAZA ...</td>\n",
       "      <td>Buenos Aires Costa Atlántica</td>\n",
       "      <td>Mar del Plata</td>\n",
       "      <td>Centro|</td>\n",
       "    </tr>\n",
       "  </tbody>\n",
       "</table>\n",
       "</div>"
      ],
      "text/plain": [
       "  property_type place_name                            place_with_parent_names  \\\n",
       "0            PH  Mataderos                         Capital Federal|Mataderos|   \n",
       "1     apartment   La Plata                   Bs.As. G.B.A. Zona Sur|La Plata|   \n",
       "2     apartment  Mataderos                         Capital Federal|Mataderos|   \n",
       "3            PH    Liniers                           Capital Federal|Liniers|   \n",
       "4     apartment     Centro  Buenos Aires Costa Atlántica|Mar del Plata|Cen...   \n",
       "\n",
       "                     state_name                  lat-lon     price currency  \\\n",
       "0               Capital Federal  -34.6618237,-58.5088387   62000.0      USD   \n",
       "1        Bs.As. G.B.A. Zona Sur  -34.9038831,-57.9643295  150000.0      USD   \n",
       "2               Capital Federal  -34.6522615,-58.5229825   72000.0      USD   \n",
       "3               Capital Federal  -34.6477969,-58.5164244   95000.0      USD   \n",
       "4  Buenos Aires Costa Atlántica  -38.0026256,-57.5494468   64000.0      USD   \n",
       "\n",
       "   price_aprox_local_currency  price_aprox_usd  surface_total_in_m2  \\\n",
       "0                   1093959.0          62000.0                 55.0   \n",
       "1                   2646675.0         150000.0                  NaN   \n",
       "2                   1270404.0          72000.0                 55.0   \n",
       "3                   1676227.5          95000.0                  NaN   \n",
       "4                   1129248.0          64000.0                 35.0   \n",
       "\n",
       "   surface_covered_in_m2  price_usd_per_m2  price_per_m2  rooms  \\\n",
       "0                   40.0       1127.272727   1550.000000    NaN   \n",
       "1                    NaN               NaN           NaN    NaN   \n",
       "2                   55.0       1309.090909   1309.090909    NaN   \n",
       "3                    NaN               NaN           NaN    NaN   \n",
       "4                   35.0       1828.571429   1828.571429    NaN   \n",
       "\n",
       "                                         description  \\\n",
       "0  2 AMBIENTES TIPO CASA PLANTA BAJA POR PASILLO,...   \n",
       "1  Venta de departamento en décimo piso al frente...   \n",
       "2  2 AMBIENTES 3ER PISO LATERAL LIVING COMEDOR AM...   \n",
       "3  PH 3 ambientes con patio. Hay 3 deptos en lote...   \n",
       "4  DEPARTAMENTO CON FANTÁSTICA ILUMINACIÓN NATURA...   \n",
       "\n",
       "                                               title  \\\n",
       "0                 2 AMB TIPO CASA SIN EXPENSAS EN PB   \n",
       "1  VENTA Depto 2 dorm. a estrenar 7 e/ 36 y 37   ...   \n",
       "2           2 AMB 3ER PISO CON ASCENSOR APTO CREDITO   \n",
       "3                       PH 3 amb. cfte. reciclado      \n",
       "4  DEPTO 2 AMB AL CONTRAFRENTE ZONA CENTRO/PLAZA ...   \n",
       "\n",
       "                      Provincia      Localidad Info_extra  \n",
       "0               Capital Federal      Mataderos             \n",
       "1        Bs.As. G.B.A. Zona Sur       La Plata             \n",
       "2               Capital Federal      Mataderos             \n",
       "3               Capital Federal        Liniers             \n",
       "4  Buenos Aires Costa Atlántica  Mar del Plata    Centro|  "
      ]
     },
     "execution_count": 25,
     "metadata": {},
     "output_type": "execute_result"
    }
   ],
   "source": [
    "data3.head(5)"
   ]
  },
  {
   "cell_type": "code",
   "execution_count": 26,
   "id": "relevant-trash",
   "metadata": {},
   "outputs": [
    {
     "data": {
      "text/plain": [
       "(115960, 6)"
      ]
     },
     "execution_count": 26,
     "metadata": {},
     "output_type": "execute_result"
    }
   ],
   "source": [
    "#Creamos un nuevo DF con las 3 columnas del df original y con las columnas spliteadas para comparar la info de todas las columnas.\n",
    "\n",
    "chequeo_data_frame = data3.loc[:,[\"state_name\", \"place_name\", \"place_with_parent_names\", \"Provincia\", \"Localidad\", \"Info_extra\"]]\n",
    "chequeo_data_frame.shape"
   ]
  },
  {
   "cell_type": "code",
   "execution_count": 27,
   "id": "burning-renaissance",
   "metadata": {},
   "outputs": [
    {
     "data": {
      "text/html": [
       "<div>\n",
       "<style scoped>\n",
       "    .dataframe tbody tr th:only-of-type {\n",
       "        vertical-align: middle;\n",
       "    }\n",
       "\n",
       "    .dataframe tbody tr th {\n",
       "        vertical-align: top;\n",
       "    }\n",
       "\n",
       "    .dataframe thead th {\n",
       "        text-align: right;\n",
       "    }\n",
       "</style>\n",
       "<table border=\"1\" class=\"dataframe\">\n",
       "  <thead>\n",
       "    <tr style=\"text-align: right;\">\n",
       "      <th></th>\n",
       "      <th>state_name</th>\n",
       "      <th>place_name</th>\n",
       "      <th>place_with_parent_names</th>\n",
       "      <th>Provincia</th>\n",
       "      <th>Localidad</th>\n",
       "      <th>Info_extra</th>\n",
       "    </tr>\n",
       "  </thead>\n",
       "  <tbody>\n",
       "    <tr>\n",
       "      <th>108</th>\n",
       "      <td>Capital Federal</td>\n",
       "      <td>Capital Federal</td>\n",
       "      <td>Capital Federal|</td>\n",
       "      <td>Capital Federal</td>\n",
       "      <td></td>\n",
       "      <td>None</td>\n",
       "    </tr>\n",
       "    <tr>\n",
       "      <th>110</th>\n",
       "      <td>Capital Federal</td>\n",
       "      <td>Capital Federal</td>\n",
       "      <td>Capital Federal|</td>\n",
       "      <td>Capital Federal</td>\n",
       "      <td></td>\n",
       "      <td>None</td>\n",
       "    </tr>\n",
       "    <tr>\n",
       "      <th>115</th>\n",
       "      <td>Capital Federal</td>\n",
       "      <td>Capital Federal</td>\n",
       "      <td>Capital Federal|</td>\n",
       "      <td>Capital Federal</td>\n",
       "      <td></td>\n",
       "      <td>None</td>\n",
       "    </tr>\n",
       "    <tr>\n",
       "      <th>119</th>\n",
       "      <td>Capital Federal</td>\n",
       "      <td>Capital Federal</td>\n",
       "      <td>Capital Federal|</td>\n",
       "      <td>Capital Federal</td>\n",
       "      <td></td>\n",
       "      <td>None</td>\n",
       "    </tr>\n",
       "    <tr>\n",
       "      <th>121</th>\n",
       "      <td>Capital Federal</td>\n",
       "      <td>Capital Federal</td>\n",
       "      <td>Capital Federal|</td>\n",
       "      <td>Capital Federal</td>\n",
       "      <td></td>\n",
       "      <td>None</td>\n",
       "    </tr>\n",
       "    <tr>\n",
       "      <th>...</th>\n",
       "      <td>...</td>\n",
       "      <td>...</td>\n",
       "      <td>...</td>\n",
       "      <td>...</td>\n",
       "      <td>...</td>\n",
       "      <td>...</td>\n",
       "    </tr>\n",
       "    <tr>\n",
       "      <th>121200</th>\n",
       "      <td>Córdoba</td>\n",
       "      <td>Córdoba</td>\n",
       "      <td>Córdoba|</td>\n",
       "      <td>Córdoba</td>\n",
       "      <td></td>\n",
       "      <td>None</td>\n",
       "    </tr>\n",
       "    <tr>\n",
       "      <th>121202</th>\n",
       "      <td>Córdoba</td>\n",
       "      <td>Córdoba</td>\n",
       "      <td>Córdoba|</td>\n",
       "      <td>Córdoba</td>\n",
       "      <td></td>\n",
       "      <td>None</td>\n",
       "    </tr>\n",
       "    <tr>\n",
       "      <th>121203</th>\n",
       "      <td>Córdoba</td>\n",
       "      <td>Córdoba</td>\n",
       "      <td>Córdoba|</td>\n",
       "      <td>Córdoba</td>\n",
       "      <td></td>\n",
       "      <td>None</td>\n",
       "    </tr>\n",
       "    <tr>\n",
       "      <th>121205</th>\n",
       "      <td>Córdoba</td>\n",
       "      <td>Córdoba</td>\n",
       "      <td>Córdoba|</td>\n",
       "      <td>Córdoba</td>\n",
       "      <td></td>\n",
       "      <td>None</td>\n",
       "    </tr>\n",
       "    <tr>\n",
       "      <th>121219</th>\n",
       "      <td>Capital Federal</td>\n",
       "      <td>Capital Federal</td>\n",
       "      <td>Capital Federal|</td>\n",
       "      <td>Capital Federal</td>\n",
       "      <td></td>\n",
       "      <td>None</td>\n",
       "    </tr>\n",
       "  </tbody>\n",
       "</table>\n",
       "<p>4402 rows × 6 columns</p>\n",
       "</div>"
      ],
      "text/plain": [
       "             state_name       place_name place_with_parent_names  \\\n",
       "108     Capital Federal  Capital Federal        Capital Federal|   \n",
       "110     Capital Federal  Capital Federal        Capital Federal|   \n",
       "115     Capital Federal  Capital Federal        Capital Federal|   \n",
       "119     Capital Federal  Capital Federal        Capital Federal|   \n",
       "121     Capital Federal  Capital Federal        Capital Federal|   \n",
       "...                 ...              ...                     ...   \n",
       "121200          Córdoba          Córdoba                Córdoba|   \n",
       "121202          Córdoba          Córdoba                Córdoba|   \n",
       "121203          Córdoba          Córdoba                Córdoba|   \n",
       "121205          Córdoba          Córdoba                Córdoba|   \n",
       "121219  Capital Federal  Capital Federal        Capital Federal|   \n",
       "\n",
       "              Provincia Localidad Info_extra  \n",
       "108     Capital Federal                 None  \n",
       "110     Capital Federal                 None  \n",
       "115     Capital Federal                 None  \n",
       "119     Capital Federal                 None  \n",
       "121     Capital Federal                 None  \n",
       "...                 ...       ...        ...  \n",
       "121200          Córdoba                 None  \n",
       "121202          Córdoba                 None  \n",
       "121203          Córdoba                 None  \n",
       "121205          Córdoba                 None  \n",
       "121219  Capital Federal                 None  \n",
       "\n",
       "[4402 rows x 6 columns]"
      ]
     },
     "execution_count": 27,
     "metadata": {},
     "output_type": "execute_result"
    }
   ],
   "source": [
    "#Creamos una mascara para aquellas propiedades sin Localidad(columna Localidad en blanco) para ver si podemos completar la localidad con la info de las otras columnas.\n",
    "\n",
    "mask_propiedades_sin_localidad = data3[\"Localidad\"] == \"\"\n",
    "\n",
    "#Para corroborar, creamos un DF con aquellas propiedades sin localidad y comparamos las columnas. \n",
    "prop_sin_localidad = chequeo_data_frame.loc[mask_propiedades_sin_localidad,:]\n",
    "prop_sin_localidad"
   ]
  },
  {
   "cell_type": "code",
   "execution_count": 28,
   "id": "virgin-ministry",
   "metadata": {},
   "outputs": [
    {
     "name": "stdout",
     "output_type": "stream",
     "text": [
      "True\n",
      "True\n"
     ]
    }
   ],
   "source": [
    "#Con estas igualdades chequeamos que las columnas tienen la misma info y que no podemos obtener info adicional para completar la localidad de ciertas propiedas.\n",
    "\n",
    "#son un total de 4402 propiedades sin localidad.\n",
    "\n",
    "print((prop_sin_localidad[\"place_name\"] == prop_sin_localidad[\"Provincia\"]).all())\n",
    "print((prop_sin_localidad[\"state_name\"] == prop_sin_localidad[\"Provincia\"]).all())"
   ]
  },
  {
   "cell_type": "code",
   "execution_count": 29,
   "id": "vocal-pioneer",
   "metadata": {},
   "outputs": [
    {
     "name": "stdout",
     "output_type": "stream",
     "text": [
      "False\n",
      "False    108539\n",
      "True       7421\n",
      "dtype: int64\n"
     ]
    },
    {
     "data": {
      "text/html": [
       "<div>\n",
       "<style scoped>\n",
       "    .dataframe tbody tr th:only-of-type {\n",
       "        vertical-align: middle;\n",
       "    }\n",
       "\n",
       "    .dataframe tbody tr th {\n",
       "        vertical-align: top;\n",
       "    }\n",
       "\n",
       "    .dataframe thead th {\n",
       "        text-align: right;\n",
       "    }\n",
       "</style>\n",
       "<table border=\"1\" class=\"dataframe\">\n",
       "  <thead>\n",
       "    <tr style=\"text-align: right;\">\n",
       "      <th></th>\n",
       "      <th>state_name</th>\n",
       "      <th>place_name</th>\n",
       "      <th>place_with_parent_names</th>\n",
       "      <th>Provincia</th>\n",
       "      <th>Localidad</th>\n",
       "      <th>Info_extra</th>\n",
       "    </tr>\n",
       "  </thead>\n",
       "  <tbody>\n",
       "    <tr>\n",
       "      <th>10</th>\n",
       "      <td>Córdoba</td>\n",
       "      <td>Córdoba</td>\n",
       "      <td>Córdoba|Córdoba|</td>\n",
       "      <td>Córdoba</td>\n",
       "      <td>Córdoba</td>\n",
       "      <td></td>\n",
       "    </tr>\n",
       "    <tr>\n",
       "      <th>32</th>\n",
       "      <td>Córdoba</td>\n",
       "      <td>Córdoba</td>\n",
       "      <td>Córdoba|Córdoba|</td>\n",
       "      <td>Córdoba</td>\n",
       "      <td>Córdoba</td>\n",
       "      <td></td>\n",
       "    </tr>\n",
       "    <tr>\n",
       "      <th>87</th>\n",
       "      <td>Córdoba</td>\n",
       "      <td>Córdoba</td>\n",
       "      <td>Córdoba|Córdoba|</td>\n",
       "      <td>Córdoba</td>\n",
       "      <td>Córdoba</td>\n",
       "      <td></td>\n",
       "    </tr>\n",
       "    <tr>\n",
       "      <th>88</th>\n",
       "      <td>Córdoba</td>\n",
       "      <td>Córdoba</td>\n",
       "      <td>Córdoba|Córdoba|</td>\n",
       "      <td>Córdoba</td>\n",
       "      <td>Córdoba</td>\n",
       "      <td></td>\n",
       "    </tr>\n",
       "    <tr>\n",
       "      <th>89</th>\n",
       "      <td>Córdoba</td>\n",
       "      <td>Córdoba</td>\n",
       "      <td>Córdoba|Córdoba|</td>\n",
       "      <td>Córdoba</td>\n",
       "      <td>Córdoba</td>\n",
       "      <td></td>\n",
       "    </tr>\n",
       "    <tr>\n",
       "      <th>...</th>\n",
       "      <td>...</td>\n",
       "      <td>...</td>\n",
       "      <td>...</td>\n",
       "      <td>...</td>\n",
       "      <td>...</td>\n",
       "      <td>...</td>\n",
       "    </tr>\n",
       "    <tr>\n",
       "      <th>120690</th>\n",
       "      <td>Córdoba</td>\n",
       "      <td>Córdoba</td>\n",
       "      <td>Córdoba|Córdoba|</td>\n",
       "      <td>Córdoba</td>\n",
       "      <td>Córdoba</td>\n",
       "      <td></td>\n",
       "    </tr>\n",
       "    <tr>\n",
       "      <th>120966</th>\n",
       "      <td>Córdoba</td>\n",
       "      <td>Córdoba</td>\n",
       "      <td>Córdoba|Córdoba|</td>\n",
       "      <td>Córdoba</td>\n",
       "      <td>Córdoba</td>\n",
       "      <td></td>\n",
       "    </tr>\n",
       "    <tr>\n",
       "      <th>120971</th>\n",
       "      <td>Córdoba</td>\n",
       "      <td>Córdoba</td>\n",
       "      <td>Córdoba|Córdoba|</td>\n",
       "      <td>Córdoba</td>\n",
       "      <td>Córdoba</td>\n",
       "      <td></td>\n",
       "    </tr>\n",
       "    <tr>\n",
       "      <th>120979</th>\n",
       "      <td>Córdoba</td>\n",
       "      <td>Córdoba</td>\n",
       "      <td>Córdoba|Córdoba|</td>\n",
       "      <td>Córdoba</td>\n",
       "      <td>Córdoba</td>\n",
       "      <td></td>\n",
       "    </tr>\n",
       "    <tr>\n",
       "      <th>121068</th>\n",
       "      <td>Mendoza</td>\n",
       "      <td>Mendoza</td>\n",
       "      <td>Mendoza|Mendoza|</td>\n",
       "      <td>Mendoza</td>\n",
       "      <td>Mendoza</td>\n",
       "      <td></td>\n",
       "    </tr>\n",
       "  </tbody>\n",
       "</table>\n",
       "<p>7421 rows × 6 columns</p>\n",
       "</div>"
      ],
      "text/plain": [
       "       state_name place_name place_with_parent_names Provincia Localidad  \\\n",
       "10        Córdoba    Córdoba        Córdoba|Córdoba|   Córdoba   Córdoba   \n",
       "32        Córdoba    Córdoba        Córdoba|Córdoba|   Córdoba   Córdoba   \n",
       "87        Córdoba    Córdoba        Córdoba|Córdoba|   Córdoba   Córdoba   \n",
       "88        Córdoba    Córdoba        Córdoba|Córdoba|   Córdoba   Córdoba   \n",
       "89        Córdoba    Córdoba        Córdoba|Córdoba|   Córdoba   Córdoba   \n",
       "...           ...        ...                     ...       ...       ...   \n",
       "120690    Córdoba    Córdoba        Córdoba|Córdoba|   Córdoba   Córdoba   \n",
       "120966    Córdoba    Córdoba        Córdoba|Córdoba|   Córdoba   Córdoba   \n",
       "120971    Córdoba    Córdoba        Córdoba|Córdoba|   Córdoba   Córdoba   \n",
       "120979    Córdoba    Córdoba        Córdoba|Córdoba|   Córdoba   Córdoba   \n",
       "121068    Mendoza    Mendoza        Mendoza|Mendoza|   Mendoza   Mendoza   \n",
       "\n",
       "       Info_extra  \n",
       "10                 \n",
       "32                 \n",
       "87                 \n",
       "88                 \n",
       "89                 \n",
       "...           ...  \n",
       "120690             \n",
       "120966             \n",
       "120971             \n",
       "120979             \n",
       "121068             \n",
       "\n",
       "[7421 rows x 6 columns]"
      ]
     },
     "execution_count": 29,
     "metadata": {},
     "output_type": "execute_result"
    }
   ],
   "source": [
    "#chequeamos si hay propiedades que al haber spliteado \"place_with_parent_names\" hayan quedado con misma Provincia y Localidad.\n",
    "\n",
    "print((data3[\"Provincia\"] != data3[\"Localidad\"]).all())\n",
    "\n",
    "mask_misma_prov_y_localidad = data3[\"Provincia\"] == data3[\"Localidad\"]\n",
    "\n",
    "print(mask_misma_prov_y_localidad.value_counts())\n",
    "\n",
    "data3.loc[mask_misma_prov_y_localidad, [\"state_name\", \"place_name\", \"place_with_parent_names\", \"Provincia\", \"Localidad\", \"Info_extra\"]]\n",
    "\n",
    "\n",
    "#hay 7421 otras propiedades que tienen misma Provincia y Localidad, es decir que no cuentan con Localidad. \n",
    "#Total de 12633 propiedades que no cuentan con Localidad especifica, unicamente provincia."
   ]
  },
  {
   "cell_type": "markdown",
   "id": "patient-explanation",
   "metadata": {},
   "source": [
    "- ### obtuvimos 4.402 propiedades con la columna \"localidad\" vacia, y 7.421 que tienen en la columna \"localidad\" la provincia"
   ]
  },
  {
   "cell_type": "code",
   "execution_count": 30,
   "id": "encouraging-supplier",
   "metadata": {},
   "outputs": [
    {
     "data": {
      "text/plain": [
       "(108539, 20)"
      ]
     },
     "execution_count": 30,
     "metadata": {},
     "output_type": "execute_result"
    }
   ],
   "source": [
    "#vamos a eliminar esos datos porque creemos fundamental para el analisis tener la localidad del la propiedad. empezamos por los 7.421 que tienen la povincia en la localidad\n",
    "\n",
    "data3[\"surface_para_eliminar_prov\"] = mask_misma_prov_y_localidad\n",
    "\n",
    "data4 = data3.drop(data3[data3['surface_para_eliminar_prov']==True].index)\n",
    "\n",
    "data4.shape"
   ]
  },
  {
   "cell_type": "markdown",
   "id": "independent-cannon",
   "metadata": {},
   "source": [
    "- #### vamos a borrar esas propiedades que no tienen localidad o la localidad es igual a la provincia"
   ]
  },
  {
   "cell_type": "code",
   "execution_count": 31,
   "id": "reverse-corner",
   "metadata": {},
   "outputs": [
    {
     "data": {
      "text/plain": [
       "(104137, 21)"
      ]
     },
     "execution_count": 31,
     "metadata": {},
     "output_type": "execute_result"
    }
   ],
   "source": [
    "#ahora vamos a borrar los q estan vacios en localidad\n",
    "\n",
    "data4[\"surface_para_eliminar_vacios\"] = mask_propiedades_sin_localidad\n",
    "\n",
    "data5 = data4.drop(data4[data4['surface_para_eliminar_vacios']==True].index)\n",
    "\n",
    "data5.shape"
   ]
  },
  {
   "cell_type": "code",
   "execution_count": 35,
   "id": "wound-stadium",
   "metadata": {},
   "outputs": [
    {
     "name": "stdout",
     "output_type": "stream",
     "text": [
      "(0, 21)\n",
      "False    104137\n",
      "dtype: int64\n"
     ]
    }
   ],
   "source": [
    "# chequeamos que la columna \"Localida\" no tenga data vacia\n",
    "\n",
    "mask_check_sin_localidad = data5[\"Localidad\"] == \"\"\n",
    "prop_mask_check_sin_localidad = data5.loc[mask_propiedades_sin_localidad,:]\n",
    "print(prop_mask_check_sin_localidad.shape)\n",
    "\n",
    "# chequeamos que la columna \"Localida\" no tenga igualdad con \"Provincia\" (tiene q darnos False)\n",
    "\n",
    "mask_check_prov_y_localidad = data5[\"Provincia\"] == data5[\"Localidad\"]\n",
    "print(mask_check_prov_y_localidad.value_counts())"
   ]
  },
  {
   "cell_type": "code",
   "execution_count": 34,
   "id": "characteristic-slope",
   "metadata": {},
   "outputs": [
    {
     "name": "stdout",
     "output_type": "stream",
     "text": [
      "property_type                       0\n",
      "place_name                         23\n",
      "place_with_parent_names             0\n",
      "state_name                          0\n",
      "lat-lon                         41420\n",
      "price                           14500\n",
      "currency                        14500\n",
      "price_aprox_local_currency      14500\n",
      "price_aprox_usd                 14500\n",
      "surface_total_in_m2             32197\n",
      "surface_covered_in_m2           15235\n",
      "price_usd_per_m2                41679\n",
      "price_per_m2                    25076\n",
      "rooms                           61792\n",
      "description                         2\n",
      "title                               0\n",
      "Provincia                           0\n",
      "Localidad                           0\n",
      "Info_extra                          0\n",
      "surface_para_eliminar_prov          0\n",
      "surface_para_eliminar_vacios        0\n",
      "dtype: int64\n"
     ]
    }
   ],
   "source": [
    "# chequeamos que localidad o provincian tengan nulos\n",
    "\n",
    "print(data5.isnull().sum())"
   ]
  },
  {
   "cell_type": "code",
   "execution_count": 37,
   "id": "lasting-gravity",
   "metadata": {},
   "outputs": [],
   "source": [
    "#nos quedaron varias columnas que creamos para limpar el dataset y ahora las vamos a borrar\n",
    "\n",
    "data6 = data5.drop([\"surface_para_eliminar_prov\",\"surface_para_eliminar_vacios\"], axis = 1)"
   ]
  },
  {
   "cell_type": "code",
   "execution_count": 38,
   "id": "surgical-trust",
   "metadata": {},
   "outputs": [
    {
     "data": {
      "text/html": [
       "<div>\n",
       "<style scoped>\n",
       "    .dataframe tbody tr th:only-of-type {\n",
       "        vertical-align: middle;\n",
       "    }\n",
       "\n",
       "    .dataframe tbody tr th {\n",
       "        vertical-align: top;\n",
       "    }\n",
       "\n",
       "    .dataframe thead th {\n",
       "        text-align: right;\n",
       "    }\n",
       "</style>\n",
       "<table border=\"1\" class=\"dataframe\">\n",
       "  <thead>\n",
       "    <tr style=\"text-align: right;\">\n",
       "      <th></th>\n",
       "      <th>property_type</th>\n",
       "      <th>place_name</th>\n",
       "      <th>place_with_parent_names</th>\n",
       "      <th>state_name</th>\n",
       "      <th>lat-lon</th>\n",
       "      <th>price</th>\n",
       "      <th>currency</th>\n",
       "      <th>price_aprox_local_currency</th>\n",
       "      <th>price_aprox_usd</th>\n",
       "      <th>surface_total_in_m2</th>\n",
       "      <th>surface_covered_in_m2</th>\n",
       "      <th>price_usd_per_m2</th>\n",
       "      <th>price_per_m2</th>\n",
       "      <th>rooms</th>\n",
       "      <th>description</th>\n",
       "      <th>title</th>\n",
       "      <th>Provincia</th>\n",
       "      <th>Localidad</th>\n",
       "      <th>Info_extra</th>\n",
       "    </tr>\n",
       "  </thead>\n",
       "  <tbody>\n",
       "    <tr>\n",
       "      <th>0</th>\n",
       "      <td>PH</td>\n",
       "      <td>Mataderos</td>\n",
       "      <td>Capital Federal|Mataderos|</td>\n",
       "      <td>Capital Federal</td>\n",
       "      <td>-34.6618237,-58.5088387</td>\n",
       "      <td>62000.0</td>\n",
       "      <td>USD</td>\n",
       "      <td>1093959.0</td>\n",
       "      <td>62000.0</td>\n",
       "      <td>55.0</td>\n",
       "      <td>40.0</td>\n",
       "      <td>1127.272727</td>\n",
       "      <td>1550.000000</td>\n",
       "      <td>NaN</td>\n",
       "      <td>2 AMBIENTES TIPO CASA PLANTA BAJA POR PASILLO,...</td>\n",
       "      <td>2 AMB TIPO CASA SIN EXPENSAS EN PB</td>\n",
       "      <td>Capital Federal</td>\n",
       "      <td>Mataderos</td>\n",
       "      <td></td>\n",
       "    </tr>\n",
       "    <tr>\n",
       "      <th>1</th>\n",
       "      <td>apartment</td>\n",
       "      <td>La Plata</td>\n",
       "      <td>Bs.As. G.B.A. Zona Sur|La Plata|</td>\n",
       "      <td>Bs.As. G.B.A. Zona Sur</td>\n",
       "      <td>-34.9038831,-57.9643295</td>\n",
       "      <td>150000.0</td>\n",
       "      <td>USD</td>\n",
       "      <td>2646675.0</td>\n",
       "      <td>150000.0</td>\n",
       "      <td>NaN</td>\n",
       "      <td>NaN</td>\n",
       "      <td>NaN</td>\n",
       "      <td>NaN</td>\n",
       "      <td>NaN</td>\n",
       "      <td>Venta de departamento en décimo piso al frente...</td>\n",
       "      <td>VENTA Depto 2 dorm. a estrenar 7 e/ 36 y 37   ...</td>\n",
       "      <td>Bs.As. G.B.A. Zona Sur</td>\n",
       "      <td>La Plata</td>\n",
       "      <td></td>\n",
       "    </tr>\n",
       "    <tr>\n",
       "      <th>2</th>\n",
       "      <td>apartment</td>\n",
       "      <td>Mataderos</td>\n",
       "      <td>Capital Federal|Mataderos|</td>\n",
       "      <td>Capital Federal</td>\n",
       "      <td>-34.6522615,-58.5229825</td>\n",
       "      <td>72000.0</td>\n",
       "      <td>USD</td>\n",
       "      <td>1270404.0</td>\n",
       "      <td>72000.0</td>\n",
       "      <td>55.0</td>\n",
       "      <td>55.0</td>\n",
       "      <td>1309.090909</td>\n",
       "      <td>1309.090909</td>\n",
       "      <td>NaN</td>\n",
       "      <td>2 AMBIENTES 3ER PISO LATERAL LIVING COMEDOR AM...</td>\n",
       "      <td>2 AMB 3ER PISO CON ASCENSOR APTO CREDITO</td>\n",
       "      <td>Capital Federal</td>\n",
       "      <td>Mataderos</td>\n",
       "      <td></td>\n",
       "    </tr>\n",
       "    <tr>\n",
       "      <th>3</th>\n",
       "      <td>PH</td>\n",
       "      <td>Liniers</td>\n",
       "      <td>Capital Federal|Liniers|</td>\n",
       "      <td>Capital Federal</td>\n",
       "      <td>-34.6477969,-58.5164244</td>\n",
       "      <td>95000.0</td>\n",
       "      <td>USD</td>\n",
       "      <td>1676227.5</td>\n",
       "      <td>95000.0</td>\n",
       "      <td>NaN</td>\n",
       "      <td>NaN</td>\n",
       "      <td>NaN</td>\n",
       "      <td>NaN</td>\n",
       "      <td>NaN</td>\n",
       "      <td>PH 3 ambientes con patio. Hay 3 deptos en lote...</td>\n",
       "      <td>PH 3 amb. cfte. reciclado</td>\n",
       "      <td>Capital Federal</td>\n",
       "      <td>Liniers</td>\n",
       "      <td></td>\n",
       "    </tr>\n",
       "    <tr>\n",
       "      <th>4</th>\n",
       "      <td>apartment</td>\n",
       "      <td>Centro</td>\n",
       "      <td>Buenos Aires Costa Atlántica|Mar del Plata|Cen...</td>\n",
       "      <td>Buenos Aires Costa Atlántica</td>\n",
       "      <td>-38.0026256,-57.5494468</td>\n",
       "      <td>64000.0</td>\n",
       "      <td>USD</td>\n",
       "      <td>1129248.0</td>\n",
       "      <td>64000.0</td>\n",
       "      <td>35.0</td>\n",
       "      <td>35.0</td>\n",
       "      <td>1828.571429</td>\n",
       "      <td>1828.571429</td>\n",
       "      <td>NaN</td>\n",
       "      <td>DEPARTAMENTO CON FANTÁSTICA ILUMINACIÓN NATURA...</td>\n",
       "      <td>DEPTO 2 AMB AL CONTRAFRENTE ZONA CENTRO/PLAZA ...</td>\n",
       "      <td>Buenos Aires Costa Atlántica</td>\n",
       "      <td>Mar del Plata</td>\n",
       "      <td>Centro|</td>\n",
       "    </tr>\n",
       "  </tbody>\n",
       "</table>\n",
       "</div>"
      ],
      "text/plain": [
       "  property_type place_name                            place_with_parent_names  \\\n",
       "0            PH  Mataderos                         Capital Federal|Mataderos|   \n",
       "1     apartment   La Plata                   Bs.As. G.B.A. Zona Sur|La Plata|   \n",
       "2     apartment  Mataderos                         Capital Federal|Mataderos|   \n",
       "3            PH    Liniers                           Capital Federal|Liniers|   \n",
       "4     apartment     Centro  Buenos Aires Costa Atlántica|Mar del Plata|Cen...   \n",
       "\n",
       "                     state_name                  lat-lon     price currency  \\\n",
       "0               Capital Federal  -34.6618237,-58.5088387   62000.0      USD   \n",
       "1        Bs.As. G.B.A. Zona Sur  -34.9038831,-57.9643295  150000.0      USD   \n",
       "2               Capital Federal  -34.6522615,-58.5229825   72000.0      USD   \n",
       "3               Capital Federal  -34.6477969,-58.5164244   95000.0      USD   \n",
       "4  Buenos Aires Costa Atlántica  -38.0026256,-57.5494468   64000.0      USD   \n",
       "\n",
       "   price_aprox_local_currency  price_aprox_usd  surface_total_in_m2  \\\n",
       "0                   1093959.0          62000.0                 55.0   \n",
       "1                   2646675.0         150000.0                  NaN   \n",
       "2                   1270404.0          72000.0                 55.0   \n",
       "3                   1676227.5          95000.0                  NaN   \n",
       "4                   1129248.0          64000.0                 35.0   \n",
       "\n",
       "   surface_covered_in_m2  price_usd_per_m2  price_per_m2  rooms  \\\n",
       "0                   40.0       1127.272727   1550.000000    NaN   \n",
       "1                    NaN               NaN           NaN    NaN   \n",
       "2                   55.0       1309.090909   1309.090909    NaN   \n",
       "3                    NaN               NaN           NaN    NaN   \n",
       "4                   35.0       1828.571429   1828.571429    NaN   \n",
       "\n",
       "                                         description  \\\n",
       "0  2 AMBIENTES TIPO CASA PLANTA BAJA POR PASILLO,...   \n",
       "1  Venta de departamento en décimo piso al frente...   \n",
       "2  2 AMBIENTES 3ER PISO LATERAL LIVING COMEDOR AM...   \n",
       "3  PH 3 ambientes con patio. Hay 3 deptos en lote...   \n",
       "4  DEPARTAMENTO CON FANTÁSTICA ILUMINACIÓN NATURA...   \n",
       "\n",
       "                                               title  \\\n",
       "0                 2 AMB TIPO CASA SIN EXPENSAS EN PB   \n",
       "1  VENTA Depto 2 dorm. a estrenar 7 e/ 36 y 37   ...   \n",
       "2           2 AMB 3ER PISO CON ASCENSOR APTO CREDITO   \n",
       "3                       PH 3 amb. cfte. reciclado      \n",
       "4  DEPTO 2 AMB AL CONTRAFRENTE ZONA CENTRO/PLAZA ...   \n",
       "\n",
       "                      Provincia      Localidad Info_extra  \n",
       "0               Capital Federal      Mataderos             \n",
       "1        Bs.As. G.B.A. Zona Sur       La Plata             \n",
       "2               Capital Federal      Mataderos             \n",
       "3               Capital Federal        Liniers             \n",
       "4  Buenos Aires Costa Atlántica  Mar del Plata    Centro|  "
      ]
     },
     "execution_count": 38,
     "metadata": {},
     "output_type": "execute_result"
    }
   ],
   "source": [
    "data6.head()"
   ]
  },
  {
   "cell_type": "code",
   "execution_count": 39,
   "id": "neural-wholesale",
   "metadata": {},
   "outputs": [
    {
     "name": "stdout",
     "output_type": "stream",
     "text": [
      "property_type                     0\n",
      "place_name                       23\n",
      "place_with_parent_names           0\n",
      "state_name                        0\n",
      "lat-lon                       41420\n",
      "price                         14500\n",
      "currency                      14500\n",
      "price_aprox_local_currency    14500\n",
      "price_aprox_usd               14500\n",
      "surface_total_in_m2           32197\n",
      "surface_covered_in_m2         15235\n",
      "price_usd_per_m2              41679\n",
      "price_per_m2                  25076\n",
      "rooms                         61792\n",
      "description                       2\n",
      "title                             0\n",
      "Provincia                         0\n",
      "Localidad                         0\n",
      "Info_extra                        0\n",
      "dtype: int64\n"
     ]
    }
   ],
   "source": [
    "# chequeamos las columnas que quedaron\n",
    "print(data6.isnull().sum())"
   ]
  },
  {
   "cell_type": "markdown",
   "id": "provincial-alfred",
   "metadata": {},
   "source": [
    "- ### ahora chequeamos si hay vacios en la columna provincia"
   ]
  },
  {
   "cell_type": "code",
   "execution_count": 40,
   "id": "australian-point",
   "metadata": {},
   "outputs": [
    {
     "name": "stdout",
     "output_type": "stream",
     "text": [
      "(0, 19)\n"
     ]
    }
   ],
   "source": [
    "# vemos si hay nulos en la columna \"provincia\" creando una mascara\n",
    "\n",
    "mask_provincia_vacio = data6[\"Provincia\"] == \"\"\n",
    "\n",
    "prop_sin_provincia = data6.loc[mask_provincia_vacio,:]\n",
    "print(prop_sin_provincia.shape)"
   ]
  },
  {
   "cell_type": "markdown",
   "id": "elect-gather",
   "metadata": {},
   "source": [
    "### finamente cosneguimos que todas las propiedades tengan una localidad"
   ]
  },
  {
   "cell_type": "code",
   "execution_count": 50,
   "id": "altered-equivalent",
   "metadata": {},
   "outputs": [
    {
     "name": "stdout",
     "output_type": "stream",
     "text": [
      "(104137, 19)\n",
      "property_type                     0\n",
      "place_name                       23\n",
      "place_with_parent_names           0\n",
      "state_name                        0\n",
      "lat-lon                       41420\n",
      "price                         14500\n",
      "currency                      14500\n",
      "price_aprox_local_currency    14500\n",
      "price_aprox_usd               14500\n",
      "surface_total_in_m2           32197\n",
      "surface_covered_in_m2         15235\n",
      "price_usd_per_m2              41679\n",
      "price_per_m2                  25076\n",
      "rooms                         61792\n",
      "description                       2\n",
      "title                             0\n",
      "Provincia                         0\n",
      "Localidad                         0\n",
      "Info_extra                        0\n",
      "dtype: int64\n"
     ]
    }
   ],
   "source": [
    "#cuantos datos tenemos ahora en data6?\n",
    "\n",
    "print(data6.shape)\n",
    "print(data6.isnull().sum())"
   ]
  },
  {
   "cell_type": "markdown",
   "id": "solved-approach",
   "metadata": {},
   "source": [
    "## 3)  La clave esta en la columna price per m2 en usd, por eso vamos a enfocarnos ahora en tener la mayor cantidad de datos posibles en esa columna"
   ]
  },
  {
   "cell_type": "markdown",
   "id": "congressional-incentive",
   "metadata": {},
   "source": [
    "### 3.1) Arrancamos con la parte de Superficie\n",
    "- #### vamos tratar de completar los valores que faltan entre las columnas surface total y surface covered"
   ]
  },
  {
   "cell_type": "code",
   "execution_count": 51,
   "id": "familiar-engineer",
   "metadata": {},
   "outputs": [
    {
     "data": {
      "text/plain": [
       "NaN        32197\n",
       "40.0        1497\n",
       "50.0        1394\n",
       "60.0        1198\n",
       "45.0        1185\n",
       "           ...  \n",
       "1276.0         1\n",
       "673.0          1\n",
       "4780.0         1\n",
       "2246.0         1\n",
       "18375.0        1\n",
       "Name: surface_total_in_m2, Length: 1616, dtype: int64"
      ]
     },
     "execution_count": 51,
     "metadata": {},
     "output_type": "execute_result"
    }
   ],
   "source": [
    "# vemos la cantidad de nulos que tiene la columna total\n",
    "\n",
    "data6.surface_total_in_m2.value_counts(dropna = False)"
   ]
  },
  {
   "cell_type": "code",
   "execution_count": 52,
   "id": "pursuant-armstrong",
   "metadata": {},
   "outputs": [
    {
     "data": {
      "text/plain": [
       "NaN        15235\n",
       "40.0        2214\n",
       "50.0        1899\n",
       "100.0       1691\n",
       "45.0        1676\n",
       "           ...  \n",
       "7722.0         1\n",
       "1163.0         1\n",
       "1075.0         1\n",
       "18615.0        1\n",
       "9152.0         1\n",
       "Name: surface_covered_in_m2, Length: 951, dtype: int64"
      ]
     },
     "execution_count": 52,
     "metadata": {},
     "output_type": "execute_result"
    }
   ],
   "source": [
    "# vemos la cantidad de nulos que tiene la columna covered\n",
    "\n",
    "data6.surface_covered_in_m2.value_counts(dropna = False)"
   ]
  },
  {
   "cell_type": "code",
   "execution_count": 53,
   "id": "weird-association",
   "metadata": {},
   "outputs": [
    {
     "name": "stdout",
     "output_type": "stream",
     "text": [
      "False    103779\n",
      "True        358\n",
      "Name: surface_total_in_m2, dtype: int64\n"
     ]
    }
   ],
   "source": [
    "# vemos cuantos valores tenemos en 0 para la columna surface total \n",
    "\n",
    "ceros_total_surface = data6['surface_total_in_m2'] == 0\n",
    "print(ceros_total_surface.value_counts())"
   ]
  },
  {
   "cell_type": "code",
   "execution_count": 54,
   "id": "interested-bankruptcy",
   "metadata": {},
   "outputs": [
    {
     "name": "stdout",
     "output_type": "stream",
     "text": [
      "False    104135\n",
      "True          2\n",
      "Name: surface_covered_in_m2, dtype: int64\n"
     ]
    }
   ],
   "source": [
    "# vemos cuantos valores tenemos en 0 para la columna surface covered \n",
    "\n",
    "ceros_covered_surface = data6['surface_covered_in_m2'] == 0\n",
    "print(ceros_covered_surface.value_counts())"
   ]
  },
  {
   "cell_type": "code",
   "execution_count": 55,
   "id": "encouraging-procedure",
   "metadata": {},
   "outputs": [],
   "source": [
    "#cambiamos los valores .NaN por ceros que se suman a la lista de ceros ya existente\n",
    "\n",
    "data6['total_en_zeros'] = data6['surface_total_in_m2'].fillna(0)\n",
    "data6['covered_en_zeros'] = data6['surface_covered_in_m2'].fillna(0)"
   ]
  },
  {
   "cell_type": "code",
   "execution_count": 56,
   "id": "spectacular-nicaragua",
   "metadata": {},
   "outputs": [
    {
     "name": "stdout",
     "output_type": "stream",
     "text": [
      "la cantidad de ceros que tiene la coluna surface_total es  32555\n"
     ]
    }
   ],
   "source": [
    "#vemos la cantidad de 0 que tienen ahora la columna total surface\n",
    "\n",
    "ceros_total_mask = data6['total_en_zeros'] == 0\n",
    "ceros_total_mask.value_counts()\n",
    "\n",
    "ceros_total_print = data6[ceros_total_mask]\n",
    "print('la cantidad de ceros que tiene la coluna surface_total es ',ceros_total_print.shape[0])"
   ]
  },
  {
   "cell_type": "code",
   "execution_count": 57,
   "id": "aerial-implementation",
   "metadata": {},
   "outputs": [
    {
     "name": "stdout",
     "output_type": "stream",
     "text": [
      "la cantidad de ceros que tiene la coluna surface_covered es  15237\n"
     ]
    }
   ],
   "source": [
    "#vemos la cantidad de 0 que tienen ahora la columna covered surface\n",
    "\n",
    "ceros_covered_mask = data6['covered_en_zeros'] == 0\n",
    "ceros_covered_mask.value_counts()\n",
    "\n",
    "ceros_covered_print = data6[ceros_covered_mask]\n",
    "print('la cantidad de ceros que tiene la coluna surface_covered es ',ceros_covered_print.shape[0])"
   ]
  },
  {
   "cell_type": "code",
   "execution_count": 58,
   "id": "hearing-nothing",
   "metadata": {},
   "outputs": [
    {
     "name": "stdout",
     "output_type": "stream",
     "text": [
      "count    104137.000000\n",
      "mean        114.479234\n",
      "std         706.118309\n",
      "min           0.000000\n",
      "25%          35.000000\n",
      "50%          63.000000\n",
      "75%         134.000000\n",
      "max      187000.000000\n",
      "Name: covered_en_zeros, dtype: float64 \n",
      "\n",
      "count    104137.000000\n",
      "mean        157.171745\n",
      "std        1071.729822\n",
      "min           0.000000\n",
      "25%           0.000000\n",
      "50%          53.000000\n",
      "75%         136.000000\n",
      "max      154438.000000\n",
      "Name: total_en_zeros, dtype: float64 \n",
      "\n"
     ]
    }
   ],
   "source": [
    "#vamos a ver una description de cada columna \n",
    "\n",
    "print(data6[\"covered_en_zeros\"].describe(), '\\n')\n",
    "\n",
    "print(data6[\"total_en_zeros\"].describe(), '\\n')\n"
   ]
  },
  {
   "cell_type": "code",
   "execution_count": null,
   "id": "illegal-evaluation",
   "metadata": {},
   "outputs": [],
   "source": []
  },
  {
   "cell_type": "markdown",
   "id": "colonial-parking",
   "metadata": {},
   "source": [
    "- #### vamos a calcular los valores que tienen 0 en las dos columnas"
   ]
  },
  {
   "cell_type": "code",
   "execution_count": 59,
   "id": "complete-syndrome",
   "metadata": {},
   "outputs": [
    {
     "name": "stdout",
     "output_type": "stream",
     "text": [
      "la cantidad de ceros en ambas columnas es  5728\n"
     ]
    }
   ],
   "source": [
    "mask_covered_ceros = data6[\"covered_en_zeros\"] == 0\n",
    "mask_total_ceros = data6[\"total_en_zeros\"] == 0\n",
    "\n",
    "mask_ambas_columnas_cero = data6[data6.covered_en_zeros.isin(mask_covered_ceros) &~ data6.total_en_zeros.isin(mask_total_ceros)]\n",
    "\n",
    "mask_ambas_columnas_cero.shape\n",
    "\n",
    "print('la cantidad de ceros en ambas columnas es ',mask_ambas_columnas_cero.shape[0])"
   ]
  },
  {
   "cell_type": "markdown",
   "id": "impressed-failure",
   "metadata": {},
   "source": [
    "- #### esto equivale a que % de ceros en cada columna?"
   ]
  },
  {
   "cell_type": "code",
   "execution_count": 60,
   "id": "antique-trustee",
   "metadata": {},
   "outputs": [
    {
     "data": {
      "text/plain": [
       "0.37592701975454484"
      ]
     },
     "execution_count": 60,
     "metadata": {},
     "output_type": "execute_result"
    }
   ],
   "source": [
    "# para la columna covered es:\n",
    "\n",
    "porcentaje_ambos_ceros_covered = mask_ambas_columnas_cero.shape[0]/ceros_covered_print.shape[0]\n",
    "porcentaje_ambos_ceros_covered"
   ]
  },
  {
   "cell_type": "code",
   "execution_count": 61,
   "id": "antique-vision",
   "metadata": {},
   "outputs": [
    {
     "data": {
      "text/plain": [
       "0.17594839502380585"
      ]
     },
     "execution_count": 61,
     "metadata": {},
     "output_type": "execute_result"
    }
   ],
   "source": [
    "# para la columna total es:\n",
    "\n",
    "porcentaje_ambos_ceros_total = mask_ambas_columnas_cero.shape[0]/ceros_total_print.shape[0]\n",
    "porcentaje_ambos_ceros_total"
   ]
  },
  {
   "cell_type": "markdown",
   "id": "outdoor-machinery",
   "metadata": {},
   "source": [
    "- #### por lo que vimos, la columna covered esta mucho mas completa que la de total surface. Pero tenemos datos que esten en covered pero no en total? "
   ]
  },
  {
   "cell_type": "code",
   "execution_count": 62,
   "id": "protecting-daughter",
   "metadata": {},
   "outputs": [
    {
     "data": {
      "text/plain": [
       "0    98505\n",
       "1     5632\n",
       "dtype: int64"
      ]
     },
     "execution_count": 62,
     "metadata": {},
     "output_type": "execute_result"
    }
   ],
   "source": [
    "# vamos a caluclar los valores con un 1 q tienen valor en total pero no tienen valot en covered\n",
    "\n",
    "covered_vs_total = data6.apply(lambda x : 1 if x['total_en_zeros']!= 0 and x['covered_en_zeros'] == 0 else 0, axis=1)\n",
    "covered_vs_total.value_counts()"
   ]
  },
  {
   "cell_type": "markdown",
   "id": "false-lightning",
   "metadata": {},
   "source": [
    "##### *lo que estamos diciendo aca es que, de un total de 0s de 15.237 en la columna covered_surface, vamos a tener q imputar valores a 5.632 datos, osea que al final me tienen que quedar 9.605 datos con 0*"
   ]
  },
  {
   "cell_type": "code",
   "execution_count": 64,
   "id": "pursuant-masters",
   "metadata": {},
   "outputs": [
    {
     "data": {
      "text/plain": [
       "0    81187\n",
       "1    22950\n",
       "dtype: int64"
      ]
     },
     "execution_count": 64,
     "metadata": {},
     "output_type": "execute_result"
    }
   ],
   "source": [
    "# vamos a caluclar los valores con un 1 q tienen valor covered pero no tienen valot en total\n",
    "\n",
    "covered_vs_total_1 = data6.apply(lambda x : 1 if x['total_en_zeros']== 0 and x['covered_en_zeros'] != 0 else 0, axis=1)\n",
    "covered_vs_total_1.value_counts()"
   ]
  },
  {
   "cell_type": "markdown",
   "id": "irish-admission",
   "metadata": {},
   "source": [
    "##### *lo que estamos diciendo aca es que, de un total de 0s de 32.555 en la columna total_surface, vamos a tener q imputar valores a 22.950 datos, osea que al final me tienen que quedar 9.605 datos con 0*"
   ]
  },
  {
   "cell_type": "markdown",
   "id": "dangerous-executive",
   "metadata": {},
   "source": [
    "- #### ahora vamos a crear un ratio que me diga los m2 totales sobre m2 cubiertos para cada tipo de propiedad. Luego vamos a aplicar ese ratio a los valores que completemos "
   ]
  },
  {
   "cell_type": "code",
   "execution_count": 65,
   "id": "chicken-walker",
   "metadata": {},
   "outputs": [
    {
     "data": {
      "text/plain": [
       "apartment    59443\n",
       "house        35932\n",
       "PH            5225\n",
       "store         3537\n",
       "Name: property_type, dtype: int64"
      ]
     },
     "execution_count": 65,
     "metadata": {},
     "output_type": "execute_result"
    }
   ],
   "source": [
    "#vemos los tipos de propiedad y la cantidad q tiene cada una\n",
    "\n",
    "data6.property_type.value_counts(dropna = False)"
   ]
  },
  {
   "cell_type": "code",
   "execution_count": 66,
   "id": "metallic-helping",
   "metadata": {},
   "outputs": [
    {
     "name": "stdout",
     "output_type": "stream",
     "text": [
      "Ratio Apartment: 1.290216293123707\n",
      "Ratio House: 3.899153191832713\n",
      "Ratio PH: 1.5159413564457624\n",
      "Ratio Store: 1.7260272555881724\n"
     ]
    }
   ],
   "source": [
    "#Creamos función para hacer el promedio de total vs covered según el tipo de propiedad\n",
    "\n",
    "def average_in(prop):\n",
    "    property_type = data6['property_type'] == prop\n",
    "    average_type = data6[property_type]\n",
    "    average = average_type.apply(lambda x : np.nan if x['total_en_zeros'] == 0 or x['covered_en_zeros'] == 0 else x['total_en_zeros']/x['covered_en_zeros'], axis = 1)\n",
    "    return average.mean()\n",
    "\n",
    "ap = 'apartment'\n",
    "ho = 'house'\n",
    "ph = 'PH'\n",
    "st = 'store'\n",
    "\n",
    "ratio_ap = average_in(ap)\n",
    "ratio_ho = average_in(ho)\n",
    "ratio_ph = average_in(ph)\n",
    "ratio_st = average_in(st)\n",
    "\n",
    "print('Ratio Apartment:', ratio_ap)\n",
    "print('Ratio House:', ratio_ho)\n",
    "print('Ratio PH:', ratio_ph)\n",
    "print('Ratio Store:', ratio_st)"
   ]
  },
  {
   "cell_type": "markdown",
   "id": "hairy-toilet",
   "metadata": {},
   "source": [
    "- #### ya tenemos los ratios para cada tipo de propiedad y ahora podemos completar los valores de surface total con esos ratios cuando solo tengamos el valor de surface covered"
   ]
  },
  {
   "cell_type": "code",
   "execution_count": 67,
   "id": "stretch-employee",
   "metadata": {},
   "outputs": [
    {
     "data": {
      "text/plain": [
       "0.0        20990\n",
       "40.0        1497\n",
       "50.0        1394\n",
       "60.0        1198\n",
       "45.0        1185\n",
       "           ...  \n",
       "3291.0         1\n",
       "1555.0         1\n",
       "1389.0         1\n",
       "11111.0        1\n",
       "1038.0         1\n",
       "Length: 1960, dtype: int64"
      ]
     },
     "execution_count": 67,
     "metadata": {},
     "output_type": "execute_result"
    }
   ],
   "source": [
    "# imputamos los APARTMENT con surface_total en cero y con dato en covered \n",
    "\n",
    "total_ap = data6.apply(lambda x : (x['covered_en_zeros']*ratio_ap) if x['total_en_zeros']== 0 and x['covered_en_zeros'] != 0 and x['property_type'] == ap else 0, axis=1)\n",
    "apartment_total = total_ap + data6['total_en_zeros']\n",
    "\n",
    "apartment_total.value_counts()\n"
   ]
  },
  {
   "cell_type": "code",
   "execution_count": 68,
   "id": "tamil-america",
   "metadata": {},
   "outputs": [
    {
     "data": {
      "text/plain": [
       "0.0       11749\n",
       "40.0       2214\n",
       "50.0       1899\n",
       "100.0      1691\n",
       "45.0       1676\n",
       "          ...  \n",
       "1967.0        1\n",
       "499.0         1\n",
       "1880.0        1\n",
       "5335.0        1\n",
       "1415.0        1\n",
       "Length: 1194, dtype: int64"
      ]
     },
     "execution_count": 68,
     "metadata": {},
     "output_type": "execute_result"
    }
   ],
   "source": [
    "# imputamos los APARTMENT con surface_covered en cero y con dato en total \n",
    "\n",
    "\n",
    "covered_ap = data6.apply(lambda x : (x['total_en_zeros']/ratio_ap) if x['covered_en_zeros']==0 and x['total_en_zeros'] != 0 and x['property_type'] == ap else 0, axis=1)\n",
    "apartment_covered = covered_ap + data6['covered_en_zeros']\n",
    "apartment_covered.value_counts()"
   ]
  },
  {
   "cell_type": "code",
   "execution_count": 69,
   "id": "civil-richards",
   "metadata": {},
   "outputs": [
    {
     "data": {
      "text/plain": [
       "0.0       23387\n",
       "40.0       1497\n",
       "50.0       1394\n",
       "60.0       1198\n",
       "45.0       1185\n",
       "          ...  \n",
       "3979.0        1\n",
       "2503.0        1\n",
       "957.0         1\n",
       "3880.0        1\n",
       "1038.0        1\n",
       "Length: 2200, dtype: int64"
      ]
     },
     "execution_count": 69,
     "metadata": {},
     "output_type": "execute_result"
    }
   ],
   "source": [
    "## imputamos los HOUSES con surface_total en cero y con dato en covered \n",
    "\n",
    "total_ho = data6.apply(lambda x : (x['covered_en_zeros']*ratio_ho) if x['total_en_zeros']==0 and x['covered_en_zeros'] != 0 and x['property_type'] == ho else 0, axis=1)\n",
    "house_total = total_ho + data6['total_en_zeros']\n",
    "house_total.value_counts()"
   ]
  },
  {
   "cell_type": "code",
   "execution_count": 70,
   "id": "automotive-romance",
   "metadata": {},
   "outputs": [
    {
     "data": {
      "text/plain": [
       "0.000000       13697\n",
       "40.000000       2214\n",
       "50.000000       1899\n",
       "100.000000      1691\n",
       "45.000000       1676\n",
       "               ...  \n",
       "282.112537         1\n",
       "44.368608          1\n",
       "628.341560         1\n",
       "150.545509         1\n",
       "2060.000000        1\n",
       "Length: 1388, dtype: int64"
      ]
     },
     "execution_count": 70,
     "metadata": {},
     "output_type": "execute_result"
    }
   ],
   "source": [
    "# imputamos los HOUSES con surface_covered en cero y con dato en tot \n",
    "\n",
    "\n",
    "covered_ho = data6.apply(lambda x : (x['total_en_zeros']/ratio_ho) if x['covered_en_zeros']==0 and x['total_en_zeros'] != 0 and x['property_type'] == ho else 0, axis=1)\n",
    "house_covered = covered_ho + data6['covered_en_zeros']\n",
    "house_covered.value_counts()"
   ]
  },
  {
   "cell_type": "code",
   "execution_count": 71,
   "id": "manufactured-miller",
   "metadata": {},
   "outputs": [
    {
     "data": {
      "text/plain": [
       "0.0       31111\n",
       "40.0       1497\n",
       "50.0       1394\n",
       "60.0       1198\n",
       "45.0       1185\n",
       "          ...  \n",
       "968.0         1\n",
       "854.0         1\n",
       "863.0         1\n",
       "1144.0        1\n",
       "1038.0        1\n",
       "Length: 1799, dtype: int64"
      ]
     },
     "execution_count": 71,
     "metadata": {},
     "output_type": "execute_result"
    }
   ],
   "source": [
    "# imputamos los PH con surface_total en cero y con dato en covered \n",
    "\n",
    "\n",
    "total_ph = data6.apply(lambda x : (x['covered_en_zeros']*ratio_ph) if x['total_en_zeros']==0 and x['covered_en_zeros'] != 0 and x['property_type'] == ph else 0, axis=1)\n",
    "ph_total = total_ph + data6['total_en_zeros']\n",
    "ph_total.value_counts()"
   ]
  },
  {
   "cell_type": "code",
   "execution_count": 72,
   "id": "classical-vanilla",
   "metadata": {},
   "outputs": [
    {
     "data": {
      "text/plain": [
       "0.000000       15016\n",
       "40.000000       2214\n",
       "50.000000       1899\n",
       "100.000000      1691\n",
       "45.000000       1676\n",
       "               ...  \n",
       "3291.000000        1\n",
       "91.692201          1\n",
       "823.000000         1\n",
       "945.000000         1\n",
       "6534.000000        1\n",
       "Length: 1060, dtype: int64"
      ]
     },
     "execution_count": 72,
     "metadata": {},
     "output_type": "execute_result"
    }
   ],
   "source": [
    "# imputamos los PH con surface_covered en cero y con dato en total \n",
    "\n",
    "\n",
    "covered_ph = data6.apply(lambda x : (x['total_en_zeros']/ratio_ph) if x['covered_en_zeros']==0 and x['total_en_zeros'] != 0 and x['property_type'] == ph else 0, axis=1)\n",
    "ph_covered = covered_ph + data6['covered_en_zeros']\n",
    "ph_covered.value_counts()"
   ]
  },
  {
   "cell_type": "code",
   "execution_count": 73,
   "id": "olive-suicide",
   "metadata": {},
   "outputs": [
    {
     "data": {
      "text/plain": [
       "0.000000       31782\n",
       "40.000000       1497\n",
       "50.000000       1394\n",
       "60.000000       1198\n",
       "45.000000       1185\n",
       "               ...  \n",
       "782.000000         1\n",
       "828.493083         1\n",
       "657.000000         1\n",
       "674.876657         1\n",
       "2934.246334        1\n",
       "Length: 1863, dtype: int64"
      ]
     },
     "execution_count": 73,
     "metadata": {},
     "output_type": "execute_result"
    }
   ],
   "source": [
    "# imputamos los STORES con surface_total en cero y con dato en covered \n",
    "\n",
    "\n",
    "total_st = data6.apply(lambda x : (x['covered_en_zeros']*ratio_st) if x['total_en_zeros']==0 and x['covered_en_zeros'] != 0 and x['property_type'] == st else 0, axis=1)\n",
    "store_total = total_st + data6['total_en_zeros']\n",
    "store_total.value_counts()"
   ]
  },
  {
   "cell_type": "code",
   "execution_count": 74,
   "id": "statewide-interaction",
   "metadata": {},
   "outputs": [
    {
     "data": {
      "text/plain": [
       "(104137,)"
      ]
     },
     "execution_count": 74,
     "metadata": {},
     "output_type": "execute_result"
    }
   ],
   "source": [
    "# imputamos los STORES con surface_covered en cero y con dato en total \n",
    "\n",
    "\n",
    "covered_st = data6.apply(lambda x : (x['total_en_zeros']/ratio_st) if x['covered_en_zeros']==0 and x['total_en_zeros'] != 0 and x['property_type'] == st else 0, axis=1)\n",
    "store_covered = covered_st + data6['covered_en_zeros']\n",
    "store_covered.shape\n"
   ]
  },
  {
   "cell_type": "code",
   "execution_count": 75,
   "id": "caring-germany",
   "metadata": {},
   "outputs": [],
   "source": [
    "#creamos las columnas en el dataframe \n",
    "\n",
    "data6['covered_imputados'] = covered_st + covered_ph + covered_ho + covered_ap + data6['covered_en_zeros']\n",
    "data6['total_imputados'] = total_st + total_ph + total_ho + total_ap + data6['total_en_zeros']"
   ]
  },
  {
   "cell_type": "code",
   "execution_count": 76,
   "id": "extended-quick",
   "metadata": {},
   "outputs": [
    {
     "data": {
      "text/plain": [
       "False    94532\n",
       "True      9605\n",
       "Name: covered_imputados, dtype: int64"
      ]
     },
     "execution_count": 76,
     "metadata": {},
     "output_type": "execute_result"
    }
   ],
   "source": [
    "#vemos los valores en 0 para la columna covered\n",
    "\n",
    "covered_zeros_final_1 = data6['covered_imputados'] == 0\n",
    "covered_zeros_final_1.value_counts()"
   ]
  },
  {
   "cell_type": "code",
   "execution_count": 77,
   "id": "active-contractor",
   "metadata": {},
   "outputs": [
    {
     "data": {
      "text/plain": [
       "False    94532\n",
       "True      9605\n",
       "Name: total_imputados, dtype: int64"
      ]
     },
     "execution_count": 77,
     "metadata": {},
     "output_type": "execute_result"
    }
   ],
   "source": [
    "#vemos los valores en 0 para la columna total\n",
    "\n",
    "total_zeros_final_1 = data6['total_imputados'] == 0\n",
    "total_zeros_final_1.value_counts()"
   ]
  },
  {
   "cell_type": "markdown",
   "id": "rotary-original",
   "metadata": {},
   "source": [
    "##### *finalmente llegamos al valor q estabamos esperando de 9.605 datos con valor 0 en cada columna*"
   ]
  },
  {
   "cell_type": "code",
   "execution_count": null,
   "id": "accepted-kuwait",
   "metadata": {},
   "outputs": [],
   "source": []
  },
  {
   "cell_type": "markdown",
   "id": "greenhouse-scoop",
   "metadata": {},
   "source": [
    "## 3.2) Vamos a seguir completando datos de superficie pero vamos a ver si hay info en la columna \"description\""
   ]
  },
  {
   "cell_type": "code",
   "execution_count": null,
   "id": "organizational-audio",
   "metadata": {},
   "outputs": [],
   "source": [
    "import re"
   ]
  },
  {
   "cell_type": "markdown",
   "id": "decimal-revision",
   "metadata": {},
   "source": [
    "#### Lo que descubrimos es que los valores de price per m2 en usd es diferente que los de price per m2, porque uno toma la superficie total y el otro la superficie covered. Por eso debemos crear una sola columna de price per m2 en usd, unificando criterios. vamos a dividir la columna price aprox usd por los m2 totales. para eso tenemos q terminar de completar la columna surface total.  "
   ]
  },
  {
   "cell_type": "code",
   "execution_count": 78,
   "id": "surprising-drilling",
   "metadata": {},
   "outputs": [
    {
     "data": {
      "text/plain": [
       "array([nan, '106 ', '40 ', ..., '697 ', '803 ', '1346 '], dtype=object)"
      ]
     },
     "execution_count": 78,
     "metadata": {},
     "output_type": "execute_result"
    }
   ],
   "source": [
    "# arrancamos creando una busqueda de la palabra metros y el valor que tiene previamente\n",
    "\n",
    "patron_valor_metros = '(?P<valor_mts>\\d{0,4} ?)(?P<metros>m2|mts|mt|mts2|mt2)'\n",
    "patron_regex_metros = re.compile(patron_valor_metros, re.IGNORECASE)\n",
    "\n",
    "valor_mts_match = data6[\"description\"].apply(lambda x:x if x is np.NaN else patron_regex_metros.search(x).group(\"valor_mts\") if patron_regex_metros.search(x)!=None else np.NaN)\n",
    "\n",
    "data6['metros_description'] = valor_mts_match\n",
    "data6['metros_description'].unique()"
   ]
  },
  {
   "cell_type": "code",
   "execution_count": 80,
   "id": "virtual-grocery",
   "metadata": {},
   "outputs": [
    {
     "data": {
      "text/plain": [
       "         1912\n",
       "50        943\n",
       "80        682\n",
       "100       658\n",
       "40        574\n",
       "         ... \n",
       "0270        1\n",
       "457         1\n",
       "1118        1\n",
       "1375        1\n",
       "1351        1\n",
       "Name: metros_description, Length: 2028, dtype: int64"
      ]
     },
     "execution_count": 80,
     "metadata": {},
     "output_type": "execute_result"
    }
   ],
   "source": [
    "data6[\"metros_description\"].value_counts()"
   ]
  },
  {
   "cell_type": "code",
   "execution_count": 81,
   "id": "wicked-dancing",
   "metadata": {},
   "outputs": [
    {
     "data": {
      "text/html": [
       "<div>\n",
       "<style scoped>\n",
       "    .dataframe tbody tr th:only-of-type {\n",
       "        vertical-align: middle;\n",
       "    }\n",
       "\n",
       "    .dataframe tbody tr th {\n",
       "        vertical-align: top;\n",
       "    }\n",
       "\n",
       "    .dataframe thead th {\n",
       "        text-align: right;\n",
       "    }\n",
       "</style>\n",
       "<table border=\"1\" class=\"dataframe\">\n",
       "  <thead>\n",
       "    <tr style=\"text-align: right;\">\n",
       "      <th></th>\n",
       "      <th>metros_description</th>\n",
       "      <th>description</th>\n",
       "    </tr>\n",
       "  </thead>\n",
       "  <tbody>\n",
       "    <tr>\n",
       "      <th>214</th>\n",
       "      <td></td>\n",
       "      <td>Zona residencial consolidad; con oferta gastronómica, comercial, colegios, facultades, rápida salida a las autopistaCentro geográfico de CABAcocina integradacocina a gaspisos de porcelanatogriferia FVmuebles de cocina (alacena y bajo mesada)mesada de granitocortinas de enrollar en el dormitorio de aluminioplacard con puertas corredizas e interiores terminadoscalefacción por aire F/C instaladocerramientos de aluminiobalcónAgua caliente centralOrientacion Este, sol de mañanaespacio lavaderoAmenities:SUM ParrillaSolariumTransportes:Colectivos: 1, 2, 5, 8, 25, 26, 36, 44, 49, 53, 55, 76, 85, 86, 88, 96, 103, 104, 126, 132, 134, 136, 141, 163, 180Subtes (Metro): PUAN (Línea A)Trenes: CABALLITO (SARMIENTO)</td>\n",
       "    </tr>\n",
       "    <tr>\n",
       "      <th>217</th>\n",
       "      <td></td>\n",
       "      <td>Zona residencial consolidad; con oferta gastronómica, comercial, colegios, facultades, rápida salida a las autopistaCentro geográfico de CABAcocina integradacocina a gaspisos de porcelanatogriferia FVmuebles de cocina (alacena y bajo mesada)mesada de granitocortinas de enrollar en el dormitorio de aluminioplacard con puertas corredizas e interiores terminadoscalefacción por aire F/C instaladocerramientos de aluminiobalcónAgua caliente centralOrientación Este, sol de mañanaespacio lavaderoAmenities:SUM ParrillaSolariumTransportes:Colectivos: 1, 2, 5, 8, 25, 26, 36, 44, 49, 53, 55, 76, 85, 86, 88, 96, 103, 104, 126, 132, 134, 136, 141, 163, 180Subtes (Metro): PUAN (Línea A)Trenes: CABALLITO (SARMIENTO)</td>\n",
       "    </tr>\n",
       "    <tr>\n",
       "      <th>826</th>\n",
       "      <td></td>\n",
       "      <td>Venta de Casa 3 AMBIENTES en Boulogne, San Isidrocasa en planta baja 2 dormitorios baño completo living y cocina comedorlavadero quincho y parrilla patio con pileta plástica y solariumterraza -  - DANIEL A. FIORITO PROPIEDADES</td>\n",
       "    </tr>\n",
       "    <tr>\n",
       "      <th>983</th>\n",
       "      <td></td>\n",
       "      <td>Corredor Responsable: Marcelo Trujillo - CUCICBA 6470 / CMCPDJLM 810Contacto: Cristian Saladdino - MLS ID # 420261016-115Fecha de Entrega de todas las Unidades / Septiembre 2017 TOMAMOS a la Venta PROPIEDADES en parte de pago  AQUAREL XIX - TERRERO 860- Terminaciones y Calidades Constructivas  Pisos  Porcellanato en ambientes baños y cocinas y Pisos con cerámicos Cerro Negro, San Lorenzo y/o similar en balcones Porcellanato en los Palieres y entrada del Edificio .- Cielorrasos :  Aplicados de yeso Con bañas y armados en baños y sectores cocina  Revoques : Yeso en interiores  de los departamentos y palieres. En El resto de las partes comunes del Edificio fino a la ca. Terminaciones en el exterior del Edificio con salpicado plástico tipo Quimtex y/o similar .- Carpintería : Interiores  Marcos de chapa  doblado BMG 18 y hojas de Placa de madera mdf para pintar, herrajes tipo sanatorio pesado o similar Exteriores  Marcos y Hojas de aluminio anodizado color natural tipo Modena o similar...</td>\n",
       "    </tr>\n",
       "    <tr>\n",
       "      <th>984</th>\n",
       "      <td></td>\n",
       "      <td>Corredor Responsable: Marcelo Trujillo - CUCICBA 6470 / CMCPDJLM 810Contacto: Cristian Saladdino - MLS ID # 420261016-117Fecha de Entrega de todas las Unidades / SEPTIEMBRE2017 TOMAMOS a la Venta PROPIEDADES en parte de pago  AQUAREL XIX - TERRERO 860- Terminaciones y Calidades Constructivas  Pisos  Porcellanato en ambientes baños y cocinas y Pisos con cerámicos Cerro Negro, San Lorenzo y/o similar en balcones Porcellanato en los Palieres y entrada del Edificio .- Cielorrasos :  Aplicados de yeso Con bañas y armados en baños y sectores cocina  Revoques : Yeso en interiores  de los departamentos y palieres. En El resto de las partes comunes del Edificio fino a la ca. Terminaciones en el exterior del Edificio con salpicado plástico tipo Quimtex y/o similar .- Carpintería : Interiores  Marcos de chapa  doblado BMG 18 y hojas de Placa de madera mdf para pintar, herrajes tipo sanatorio pesado o similar Exteriores  Marcos y Hojas de aluminio anodizado color natural tipo Modena o similar....</td>\n",
       "    </tr>\n",
       "  </tbody>\n",
       "</table>\n",
       "</div>"
      ],
      "text/plain": [
       "    metros_description  \\\n",
       "214                      \n",
       "217                      \n",
       "826                      \n",
       "983                      \n",
       "984                      \n",
       "\n",
       "                                                                                                                                                                                                                                                                                                                                                                                                                                                                                                                                                                                                                                                                                                                                                                                                                                                                                                                                                                                                                                 description  \n",
       "214                                                                                                                                                                                                                                                                                                    Zona residencial consolidad; con oferta gastronómica, comercial, colegios, facultades, rápida salida a las autopistaCentro geográfico de CABAcocina integradacocina a gaspisos de porcelanatogriferia FVmuebles de cocina (alacena y bajo mesada)mesada de granitocortinas de enrollar en el dormitorio de aluminioplacard con puertas corredizas e interiores terminadoscalefacción por aire F/C instaladocerramientos de aluminiobalcónAgua caliente centralOrientacion Este, sol de mañanaespacio lavaderoAmenities:SUM ParrillaSolariumTransportes:Colectivos: 1, 2, 5, 8, 25, 26, 36, 44, 49, 53, 55, 76, 85, 86, 88, 96, 103, 104, 126, 132, 134, 136, 141, 163, 180Subtes (Metro): PUAN (Línea A)Trenes: CABALLITO (SARMIENTO)  \n",
       "217                                                                                                                                                                                                                                                                                                    Zona residencial consolidad; con oferta gastronómica, comercial, colegios, facultades, rápida salida a las autopistaCentro geográfico de CABAcocina integradacocina a gaspisos de porcelanatogriferia FVmuebles de cocina (alacena y bajo mesada)mesada de granitocortinas de enrollar en el dormitorio de aluminioplacard con puertas corredizas e interiores terminadoscalefacción por aire F/C instaladocerramientos de aluminiobalcónAgua caliente centralOrientación Este, sol de mañanaespacio lavaderoAmenities:SUM ParrillaSolariumTransportes:Colectivos: 1, 2, 5, 8, 25, 26, 36, 44, 49, 53, 55, 76, 85, 86, 88, 96, 103, 104, 126, 132, 134, 136, 141, 163, 180Subtes (Metro): PUAN (Línea A)Trenes: CABALLITO (SARMIENTO)  \n",
       "826                                                                                                                                                                                                                                                                                                                                                                                                                                                                                                                                                                                                                                                                                                                                                                                                       Venta de Casa 3 AMBIENTES en Boulogne, San Isidrocasa en planta baja 2 dormitorios baño completo living y cocina comedorlavadero quincho y parrilla patio con pileta plástica y solariumterraza -  - DANIEL A. FIORITO PROPIEDADES  \n",
       "983  Corredor Responsable: Marcelo Trujillo - CUCICBA 6470 / CMCPDJLM 810Contacto: Cristian Saladdino - MLS ID # 420261016-115Fecha de Entrega de todas las Unidades / Septiembre 2017 TOMAMOS a la Venta PROPIEDADES en parte de pago  AQUAREL XIX - TERRERO 860- Terminaciones y Calidades Constructivas  Pisos  Porcellanato en ambientes baños y cocinas y Pisos con cerámicos Cerro Negro, San Lorenzo y/o similar en balcones Porcellanato en los Palieres y entrada del Edificio .- Cielorrasos :  Aplicados de yeso Con bañas y armados en baños y sectores cocina  Revoques : Yeso en interiores  de los departamentos y palieres. En El resto de las partes comunes del Edificio fino a la ca. Terminaciones en el exterior del Edificio con salpicado plástico tipo Quimtex y/o similar .- Carpintería : Interiores  Marcos de chapa  doblado BMG 18 y hojas de Placa de madera mdf para pintar, herrajes tipo sanatorio pesado o similar Exteriores  Marcos y Hojas de aluminio anodizado color natural tipo Modena o similar...  \n",
       "984  Corredor Responsable: Marcelo Trujillo - CUCICBA 6470 / CMCPDJLM 810Contacto: Cristian Saladdino - MLS ID # 420261016-117Fecha de Entrega de todas las Unidades / SEPTIEMBRE2017 TOMAMOS a la Venta PROPIEDADES en parte de pago  AQUAREL XIX - TERRERO 860- Terminaciones y Calidades Constructivas  Pisos  Porcellanato en ambientes baños y cocinas y Pisos con cerámicos Cerro Negro, San Lorenzo y/o similar en balcones Porcellanato en los Palieres y entrada del Edificio .- Cielorrasos :  Aplicados de yeso Con bañas y armados en baños y sectores cocina  Revoques : Yeso en interiores  de los departamentos y palieres. En El resto de las partes comunes del Edificio fino a la ca. Terminaciones en el exterior del Edificio con salpicado plástico tipo Quimtex y/o similar .- Carpintería : Interiores  Marcos de chapa  doblado BMG 18 y hojas de Placa de madera mdf para pintar, herrajes tipo sanatorio pesado o similar Exteriores  Marcos y Hojas de aluminio anodizado color natural tipo Modena o similar....  "
      ]
     },
     "execution_count": 81,
     "metadata": {},
     "output_type": "execute_result"
    }
   ],
   "source": [
    "#ensanchamos la columna description para poder comparar los regex encontradas y la columna \"description\"\n",
    "pd.set_option(\"display.max_colwidth\",1000)\n",
    "\n",
    "#Hay ciertos datos que el regex nos trae con espacio en blanco pero no pudimos econtrar el motivo.\n",
    "mascara_espacios_blanco = data6[\"metros_description\"] == \"\"\n",
    "data6.loc[mascara_espacios_blanco,[\"metros_description\",\"description\"]].head()"
   ]
  },
  {
   "cell_type": "code",
   "execution_count": 82,
   "id": "strong-philadelphia",
   "metadata": {},
   "outputs": [
    {
     "data": {
      "text/html": [
       "<div>\n",
       "<style scoped>\n",
       "    .dataframe tbody tr th:only-of-type {\n",
       "        vertical-align: middle;\n",
       "    }\n",
       "\n",
       "    .dataframe tbody tr th {\n",
       "        vertical-align: top;\n",
       "    }\n",
       "\n",
       "    .dataframe thead th {\n",
       "        text-align: right;\n",
       "    }\n",
       "</style>\n",
       "<table border=\"1\" class=\"dataframe\">\n",
       "  <thead>\n",
       "    <tr style=\"text-align: right;\">\n",
       "      <th></th>\n",
       "      <th>metros_description</th>\n",
       "      <th>description</th>\n",
       "    </tr>\n",
       "  </thead>\n",
       "  <tbody>\n",
       "    <tr>\n",
       "      <th>6</th>\n",
       "      <td>106</td>\n",
       "      <td>MUY BUEN PH AL FRENTE CON ENTRADA INDEPENDIENTE - SIN EXPENSAS! TODO EN  PLANTA BAJA DOS DORMITORIOS (pisos de pinotea) - LIVING - COCINA COMEDOR - BAÑO - PATIO - GALPÓN Y LAVADERO EN EL PATIOEN MUY BUEN ESTADO - INMEJORABLE UBICACIÓN - A 1 CUADRA DE LA ESTACIÓN DE MUNRO -  CERCA DE MAS DE 6 LINEAS DE COLECTIVOS - A 2 CUADRAS DEL CENTRO UNIVERSITARIO. 106 m2 TOTALES: 78 m2 CUBIERTOS Y 28 m2 DESCUBIERTOSAPTO PROFESIONAL                                                 Aviso publicado por Pixel Inmobiliario (Servicio de Páginas Web para Inmobiliarias).</td>\n",
       "    </tr>\n",
       "    <tr>\n",
       "      <th>18</th>\n",
       "      <td>40</td>\n",
       "      <td>Casa sobre lote al golf en barrio San Isidro Labrador.Planta Baja:Amplio Living comedor en doble altura,Toilette,Cocina comedor, Family/Escritorio, Lavadero, dependencia de servicio, Galería cubierta y semi cubierta.Planta Alta:Master Suite con ducha escocesa e hidromasajes doble, tres dormitorios, Baño, Escritorio y Placar de Blanco.Todos los pisos son de porcelanato.Losa Radiante en todos los ambientes y galería.Piscina con espejo de agua de 40 m2.</td>\n",
       "    </tr>\n",
       "    <tr>\n",
       "      <th>22</th>\n",
       "      <td>1000</td>\n",
       "      <td>Edificada en 2 plantas. PB. amplio living con salida al parque, cocina con salida a la galería, todos los ambientes de pb con pisos de porcelanato.  Toilet de recepción,  lavadero,  galería con parrilla. Amplio jardín de 1000 m2.PA: 3 dormitorios con pisos  de porcelanato, uno de los cuales es en suite con vestidor, 2 baños completos. Hermosa vista abierta desde toda la planta alta. Muy luminosa! hermoso hogar a leña en el living. Cálida y acogedora.calefaccion por radeadores.la casa se  encuentra en construcción, entrega  terminada y pintada.  No incluye mobiliario de cocinaEl barrio cuenta con una completa infraestructura de servicios y propuestas deportivas y la posibilidad de vivir en un entorno seguro y rodeado de espacios verdes.Las 365 hectáreas que lo conforman están desarrolladas en 906 lotes de 1350m2 en promedio, lo que ofrece un privilegiado entorno natural y un particular microclima que se logró destinando para lotes solo el 30% de la superficie del lugar.Actividades D...</td>\n",
       "    </tr>\n",
       "    <tr>\n",
       "      <th>24</th>\n",
       "      <td>160</td>\n",
       "      <td>EXCLUSIVO  DEPARTAMENTO DE EXCELENTE CATEGORIA EN VENTA EN CASTELAR160 MTS2  Cubiertos.  4 ambientes con balcón terraza, parrilla y cochera. Entrega marzo 2018.EL PRECIO PUBLICADO CORRESPONDE AL VALOR DE CONTADO  para las unidades de primer y segundo piso. FINANCIACION: ANTICIPO USD71.000, USD 105.000 A LA ESCRITURA Y EL RESTO FINANCIADO EN 36 CUOTAS (con refuerzos semestrales) VALOR FINANCIADO USD 380.940Piso con Palier privado con puerta de seguridad  y entrada de servicio. Linving comedor , 3 dormitorios uno de los cuales es en suite  con ducha escocesa, con vestidor. Otros 2 dormitorios con placars  que comparten un baño completo con bañera.  pisos de madera en dormitorios y living comedor, pisos de porcelanato en pasillos y cocina. ventanas de aluminio con DVH (doble vidrio hermético) en todo el depto. Cocina completa (con cocina vitroceramica, horno eléctrico, microondas, heladera con frezzer, cafetera express todos marca BGH),  despensa y lavadero. Toilete, balcón terraza co...</td>\n",
       "    </tr>\n",
       "    <tr>\n",
       "      <th>25</th>\n",
       "      <td>160</td>\n",
       "      <td>EXCLUSIVO  DEPARTAMENTO DE EXCELENTE CATEGORÍA EN VENTA EN CASTELAR160 MTS2  Cubiertos.  4 ambientes con balcón terraza, parrilla y cochera. Entrega marzo 2018.EL PRECIO PUBLICADO CORRESPONDE AL VALOR DE CONTADO para las unidades de tercer y cuarto piso. FINANCIACIÓN: ANTICIPO USD 71.800, USD106.000 A LA ESCRITURA Y  EL RESTO FINANCIADO EN 36 CUOTAS (con refuerzos semestrales) VALOR FINANCIADO USD 385.640Piso con Palier privado con puerta de seguridad  y entrada de servicio. Linving comedor , 3 dormitorios uno de los cuales es en suite  con ducha escocesa, con vestidor. Otros 2 dormitorios con placars  que comparten un baño completo con bañera.  pisos de madera en dormitorios y living comedor, pisos de porcelanato en pasillos y cocina. ventanas de aluminio con DVH (doble vidrio hermético) en todo el depto. Cocina completa (con cocina vitroceramica, horno eléctrico, microondas, heladera con frezzer, cafetera express todos marca BGH),  despensa y lavadero. Toilete, balcón terraza con...</td>\n",
       "    </tr>\n",
       "    <tr>\n",
       "      <th>28</th>\n",
       "      <td>160</td>\n",
       "      <td>EXCLUSIVO  DEPARTAMENTO DE EXCELENTE CATEGORÍA EN VENTA EN CASTELAR160 MTS2  Cubiertos.  4 ambientes con balcón terraza, parrilla y cochera. Entrega marzo 2018.EL PRECIO PUBLICADO CORRESPONDE AL VALOR DE CONTADO para las unidades del quinto, sexto y séptimo piso. FINANCIACIÓN: ANTICIPO USD 72.500, USD 107.000 A LA ESCRITURA EL RESTO FINANCIADO EN 36 CUOTAS (con refuerzos semestrales) VALOR FINANCIADO USD 390.700Piso con Palier privado con puerta de seguridad  y entrada de servicio. Linving comedor , 3 dormitorios uno de los cuales es en suite  con ducha escocesa, con vestidor. Otros 2 dormitorios con placars  que comparten un baño completo con bañera.  pisos de madera en dormitorios y living comedor, pisos de porcelanato en pasillos y cocina. ventanas de aluminio con DVH (doble vidrio hermético) en todo el depto. Cocina completa (con cocina vitroceramica, horno eléctrico, microondas, heladera con frezzer, cafetera express todos marca BGH),  despensa y lavadero. Toilete, balcón terr...</td>\n",
       "    </tr>\n",
       "    <tr>\n",
       "      <th>35</th>\n",
       "      <td></td>\n",
       "      <td>Hermoso departamento de cuatro ambientes, refaccionado totalmente a nuevo tanto en los ambientes como en las instalaciones de gas, agua y electricidad. Segundo piso por escalera. Madera de primera calidad en todos los ambientes, el living está conectado con un balcón al frente. La habitación principal posee un balcón francés. Aire acondicionado y placard escosol.Es apto crédito hipotecario!No pierdas la oportunidad de ver esta propiedad!Se deja constancia que las medidas,  superficies y m2 consignados son aproximados, al igual que las expensas que pueden estar sujetos a verificación y/o ajuste. El precio del inmueble puede ser modificado sin previo aviso, las fotos de carácter no contractual</td>\n",
       "    </tr>\n",
       "    <tr>\n",
       "      <th>40</th>\n",
       "      <td>138</td>\n",
       "      <td>LINDÍSIMO DEPARTAMENTO EN VENTA, 3 AMBIENTES CON TERRAZA Y PARRILLA, A ESTRENAR EN CONDOMINIO TORTUGAS 3 - QUINTA LA JIMENA. ÚLTIMAS UNIDAD! OPORTUNIDAD!ENTREGA: ABRIL 2017Superficie total: 138 m2Superficie cubierta: 74 m2Superficie semi-cubierta: 14 m2Superficie descubierta: 50 m2 (Jardín Privado con vista a la pileta del Condominio)El departamento cuenta con:- 2 dormitorios: (3.40x3.20) y (3.20x3.20)- Baño completo con bañadera (2.88x.1.70) - (posibilidad de agregar Toilette-consulte)- Cocina integrada (2.75x2.4) con mesadas de granito, alacena y mueble bajo mesada. Espacio para lavavajillas/lavarropas y espacio para horno.- Estar comedor (6x4)- Galería (4x3.5) con parrilla individual- Jardín Privado con vista a la pileta del Condominio- Cochera fija descubiertaCaracterísticas constructivas:Revestimiento exterior: TarquiniPisos: Porcellanato MateAberturas: Aluminio anodizado PVC vidrio simplePreparados con la instalación de splits en todos los ambientesFrentes de placardsGrifería...</td>\n",
       "    </tr>\n",
       "    <tr>\n",
       "      <th>45</th>\n",
       "      <td>30</td>\n",
       "      <td>Hermoso monoambiente, ideal Profesional!!!Apartamentos del Campus tiene su ingreso por la Ruta 234 Av. Teniente General Juan Domingo Perón.Al ingresar nos encontramos con un living-comedor , cocina separada y baño.Características generales:Superficie total y cubierta del departamento: 30 m2Superficie total y cubierta de cochera y baulera 16m2Ubicación: FrenteDpto. con mejoras importantes!! El mismo posee una comoda cocina , y baño ampliado con ducha y mampara.division con mueble para dormitorio y living comedor , amplio placard con puertas espejadas que le da amplitud.Cielorraso con luces dicroicas.Estado Impecable!!!!Antigüedad: El edificio tiene 8 años. Servicios:, Luz, agua corriente, cloacas, agua caliente, Split F/C.Ventiladores de techo.No tiene gas, todo eléctrico.Apto profesional: SiPisos: CerámicoDoble VidrioTipo de edificio: CondominioDescripción Condominio:Esta urbanización se encuentra ubicada en Pilar, con acceso por Autopista Panamericana Ramal Pilar, hasta la ruta 23...</td>\n",
       "    </tr>\n",
       "    <tr>\n",
       "      <th>48</th>\n",
       "      <td>34</td>\n",
       "      <td>PISO 13, Orientación norte, disposición al frente. Consta de living (6,30x 3,60) comedor (2,30 x2,10)Piso de parquet.salida a balcón aterrazado  .Hall de distribución placards 2 dormitorios 3x2,80  con placards, baño con bañadera y toilette.  cocina comedor(alacenas, mesada de mármol,doble bacha,espacio para lavarropa). Superficie cubierta:74,34m2  sup descubierta: 15m2//Superficie TOT piso 13 :89,39             PISO 14 consta de hall de distribución con placards , 2 dormitorios con placards (3x 2, 95)salida a Balcon y baño.Sup.cub 33,75 ,Total 35m2 SuperficieTOTAL:124,57 mc totales· Detalles: Pisos de parquette (en perfecto estado) en LC y dormitorios, cerámica en cocina y baños. Bien de pintura. Baño en buen estado  .MUY  Luminoso. Muy buenos placards. Unidad en muy buen estado, 3 bauleras.Cochera fija (OPCIONAL, no incluida en el precio)</td>\n",
       "    </tr>\n",
       "  </tbody>\n",
       "</table>\n",
       "</div>"
      ],
      "text/plain": [
       "   metros_description  \\\n",
       "6                106    \n",
       "18                40    \n",
       "22              1000    \n",
       "24               160    \n",
       "25               160    \n",
       "28               160    \n",
       "35                      \n",
       "40               138    \n",
       "45                30    \n",
       "48                 34   \n",
       "\n",
       "                                                                                                                                                                                                                                                                                                                                                                                                                                                                                                                                                                                                                                                                                                                                                                                                                                                                                                                                                                                                                                description  \n",
       "6                                                                                                                                                                                                                                                                                                                                                                                                                                                               MUY BUEN PH AL FRENTE CON ENTRADA INDEPENDIENTE - SIN EXPENSAS! TODO EN  PLANTA BAJA DOS DORMITORIOS (pisos de pinotea) - LIVING - COCINA COMEDOR - BAÑO - PATIO - GALPÓN Y LAVADERO EN EL PATIOEN MUY BUEN ESTADO - INMEJORABLE UBICACIÓN - A 1 CUADRA DE LA ESTACIÓN DE MUNRO -  CERCA DE MAS DE 6 LINEAS DE COLECTIVOS - A 2 CUADRAS DEL CENTRO UNIVERSITARIO. 106 m2 TOTALES: 78 m2 CUBIERTOS Y 28 m2 DESCUBIERTOSAPTO PROFESIONAL                                                 Aviso publicado por Pixel Inmobiliario (Servicio de Páginas Web para Inmobiliarias).  \n",
       "18                                                                                                                                                                                                                                                                                                                                                                                                                                                                                                                                                                   Casa sobre lote al golf en barrio San Isidro Labrador.Planta Baja:Amplio Living comedor en doble altura,Toilette,Cocina comedor, Family/Escritorio, Lavadero, dependencia de servicio, Galería cubierta y semi cubierta.Planta Alta:Master Suite con ducha escocesa e hidromasajes doble, tres dormitorios, Baño, Escritorio y Placar de Blanco.Todos los pisos son de porcelanato.Losa Radiante en todos los ambientes y galería.Piscina con espejo de agua de 40 m2.  \n",
       "22  Edificada en 2 plantas. PB. amplio living con salida al parque, cocina con salida a la galería, todos los ambientes de pb con pisos de porcelanato.  Toilet de recepción,  lavadero,  galería con parrilla. Amplio jardín de 1000 m2.PA: 3 dormitorios con pisos  de porcelanato, uno de los cuales es en suite con vestidor, 2 baños completos. Hermosa vista abierta desde toda la planta alta. Muy luminosa! hermoso hogar a leña en el living. Cálida y acogedora.calefaccion por radeadores.la casa se  encuentra en construcción, entrega  terminada y pintada.  No incluye mobiliario de cocinaEl barrio cuenta con una completa infraestructura de servicios y propuestas deportivas y la posibilidad de vivir en un entorno seguro y rodeado de espacios verdes.Las 365 hectáreas que lo conforman están desarrolladas en 906 lotes de 1350m2 en promedio, lo que ofrece un privilegiado entorno natural y un particular microclima que se logró destinando para lotes solo el 30% de la superficie del lugar.Actividades D...  \n",
       "24  EXCLUSIVO  DEPARTAMENTO DE EXCELENTE CATEGORIA EN VENTA EN CASTELAR160 MTS2  Cubiertos.  4 ambientes con balcón terraza, parrilla y cochera. Entrega marzo 2018.EL PRECIO PUBLICADO CORRESPONDE AL VALOR DE CONTADO  para las unidades de primer y segundo piso. FINANCIACION: ANTICIPO USD71.000, USD 105.000 A LA ESCRITURA Y EL RESTO FINANCIADO EN 36 CUOTAS (con refuerzos semestrales) VALOR FINANCIADO USD 380.940Piso con Palier privado con puerta de seguridad  y entrada de servicio. Linving comedor , 3 dormitorios uno de los cuales es en suite  con ducha escocesa, con vestidor. Otros 2 dormitorios con placars  que comparten un baño completo con bañera.  pisos de madera en dormitorios y living comedor, pisos de porcelanato en pasillos y cocina. ventanas de aluminio con DVH (doble vidrio hermético) en todo el depto. Cocina completa (con cocina vitroceramica, horno eléctrico, microondas, heladera con frezzer, cafetera express todos marca BGH),  despensa y lavadero. Toilete, balcón terraza co...  \n",
       "25  EXCLUSIVO  DEPARTAMENTO DE EXCELENTE CATEGORÍA EN VENTA EN CASTELAR160 MTS2  Cubiertos.  4 ambientes con balcón terraza, parrilla y cochera. Entrega marzo 2018.EL PRECIO PUBLICADO CORRESPONDE AL VALOR DE CONTADO para las unidades de tercer y cuarto piso. FINANCIACIÓN: ANTICIPO USD 71.800, USD106.000 A LA ESCRITURA Y  EL RESTO FINANCIADO EN 36 CUOTAS (con refuerzos semestrales) VALOR FINANCIADO USD 385.640Piso con Palier privado con puerta de seguridad  y entrada de servicio. Linving comedor , 3 dormitorios uno de los cuales es en suite  con ducha escocesa, con vestidor. Otros 2 dormitorios con placars  que comparten un baño completo con bañera.  pisos de madera en dormitorios y living comedor, pisos de porcelanato en pasillos y cocina. ventanas de aluminio con DVH (doble vidrio hermético) en todo el depto. Cocina completa (con cocina vitroceramica, horno eléctrico, microondas, heladera con frezzer, cafetera express todos marca BGH),  despensa y lavadero. Toilete, balcón terraza con...  \n",
       "28  EXCLUSIVO  DEPARTAMENTO DE EXCELENTE CATEGORÍA EN VENTA EN CASTELAR160 MTS2  Cubiertos.  4 ambientes con balcón terraza, parrilla y cochera. Entrega marzo 2018.EL PRECIO PUBLICADO CORRESPONDE AL VALOR DE CONTADO para las unidades del quinto, sexto y séptimo piso. FINANCIACIÓN: ANTICIPO USD 72.500, USD 107.000 A LA ESCRITURA EL RESTO FINANCIADO EN 36 CUOTAS (con refuerzos semestrales) VALOR FINANCIADO USD 390.700Piso con Palier privado con puerta de seguridad  y entrada de servicio. Linving comedor , 3 dormitorios uno de los cuales es en suite  con ducha escocesa, con vestidor. Otros 2 dormitorios con placars  que comparten un baño completo con bañera.  pisos de madera en dormitorios y living comedor, pisos de porcelanato en pasillos y cocina. ventanas de aluminio con DVH (doble vidrio hermético) en todo el depto. Cocina completa (con cocina vitroceramica, horno eléctrico, microondas, heladera con frezzer, cafetera express todos marca BGH),  despensa y lavadero. Toilete, balcón terr...  \n",
       "35                                                                                                                                                                                                                                                                                                             Hermoso departamento de cuatro ambientes, refaccionado totalmente a nuevo tanto en los ambientes como en las instalaciones de gas, agua y electricidad. Segundo piso por escalera. Madera de primera calidad en todos los ambientes, el living está conectado con un balcón al frente. La habitación principal posee un balcón francés. Aire acondicionado y placard escosol.Es apto crédito hipotecario!No pierdas la oportunidad de ver esta propiedad!Se deja constancia que las medidas,  superficies y m2 consignados son aproximados, al igual que las expensas que pueden estar sujetos a verificación y/o ajuste. El precio del inmueble puede ser modificado sin previo aviso, las fotos de carácter no contractual  \n",
       "40  LINDÍSIMO DEPARTAMENTO EN VENTA, 3 AMBIENTES CON TERRAZA Y PARRILLA, A ESTRENAR EN CONDOMINIO TORTUGAS 3 - QUINTA LA JIMENA. ÚLTIMAS UNIDAD! OPORTUNIDAD!ENTREGA: ABRIL 2017Superficie total: 138 m2Superficie cubierta: 74 m2Superficie semi-cubierta: 14 m2Superficie descubierta: 50 m2 (Jardín Privado con vista a la pileta del Condominio)El departamento cuenta con:- 2 dormitorios: (3.40x3.20) y (3.20x3.20)- Baño completo con bañadera (2.88x.1.70) - (posibilidad de agregar Toilette-consulte)- Cocina integrada (2.75x2.4) con mesadas de granito, alacena y mueble bajo mesada. Espacio para lavavajillas/lavarropas y espacio para horno.- Estar comedor (6x4)- Galería (4x3.5) con parrilla individual- Jardín Privado con vista a la pileta del Condominio- Cochera fija descubiertaCaracterísticas constructivas:Revestimiento exterior: TarquiniPisos: Porcellanato MateAberturas: Aluminio anodizado PVC vidrio simplePreparados con la instalación de splits en todos los ambientesFrentes de placardsGrifería...  \n",
       "45  Hermoso monoambiente, ideal Profesional!!!Apartamentos del Campus tiene su ingreso por la Ruta 234 Av. Teniente General Juan Domingo Perón.Al ingresar nos encontramos con un living-comedor , cocina separada y baño.Características generales:Superficie total y cubierta del departamento: 30 m2Superficie total y cubierta de cochera y baulera 16m2Ubicación: FrenteDpto. con mejoras importantes!! El mismo posee una comoda cocina , y baño ampliado con ducha y mampara.division con mueble para dormitorio y living comedor , amplio placard con puertas espejadas que le da amplitud.Cielorraso con luces dicroicas.Estado Impecable!!!!Antigüedad: El edificio tiene 8 años. Servicios:, Luz, agua corriente, cloacas, agua caliente, Split F/C.Ventiladores de techo.No tiene gas, todo eléctrico.Apto profesional: SiPisos: CerámicoDoble VidrioTipo de edificio: CondominioDescripción Condominio:Esta urbanización se encuentra ubicada en Pilar, con acceso por Autopista Panamericana Ramal Pilar, hasta la ruta 23...  \n",
       "48                                                                                                                                                     PISO 13, Orientación norte, disposición al frente. Consta de living (6,30x 3,60) comedor (2,30 x2,10)Piso de parquet.salida a balcón aterrazado  .Hall de distribución placards 2 dormitorios 3x2,80  con placards, baño con bañadera y toilette.  cocina comedor(alacenas, mesada de mármol,doble bacha,espacio para lavarropa). Superficie cubierta:74,34m2  sup descubierta: 15m2//Superficie TOT piso 13 :89,39             PISO 14 consta de hall de distribución con placards , 2 dormitorios con placards (3x 2, 95)salida a Balcon y baño.Sup.cub 33,75 ,Total 35m2 SuperficieTOTAL:124,57 mc totales· Detalles: Pisos de parquette (en perfecto estado) en LC y dormitorios, cerámica en cocina y baños. Bien de pintura. Baño en buen estado  .MUY  Luminoso. Muy buenos placards. Unidad en muy buen estado, 3 bauleras.Cochera fija (OPCIONAL, no incluida en el precio)  "
      ]
     },
     "execution_count": 82,
     "metadata": {},
     "output_type": "execute_result"
    }
   ],
   "source": [
    "#En muchos casos el patron es correcto, y en otros casos agarra los metros cuadrados de otro objeto que no es el terreno. Por una cuestion de tiempos lo dejamos asi.\n",
    "\n",
    "metros_description_not_null = data6['metros_description'].notnull()\n",
    "data6.loc[metros_description_not_null,[\"metros_description\",\"description\"]].head(10)"
   ]
  },
  {
   "cell_type": "code",
   "execution_count": 83,
   "id": "viral-yemen",
   "metadata": {},
   "outputs": [
    {
     "data": {
      "text/plain": [
       "9605"
      ]
     },
     "execution_count": 83,
     "metadata": {},
     "output_type": "execute_result"
    }
   ],
   "source": [
    "#Reemplazamos los ceros por nulos en \"total_imputados\" y vemos la cantidad de nulos que tenemos. esto lo hacemos para poder trabajar mejor esta columna\n",
    "\n",
    "data6['total_imputados'] = data6['total_imputados'].replace(0, np.nan)\n",
    "data6[\"total_imputados\"].isnull().sum()"
   ]
  },
  {
   "cell_type": "markdown",
   "id": "worthy-education",
   "metadata": {},
   "source": [
    "- ### Aquellos valores nulos de \"total imputados\" vamos a reemplazarlos con aquellos datos obtenidos en la columna \"metros_description\"¶"
   ]
  },
  {
   "cell_type": "code",
   "execution_count": 85,
   "id": "employed-terry",
   "metadata": {},
   "outputs": [
    {
     "data": {
      "text/html": [
       "<div>\n",
       "<style scoped>\n",
       "    .dataframe tbody tr th:only-of-type {\n",
       "        vertical-align: middle;\n",
       "    }\n",
       "\n",
       "    .dataframe tbody tr th {\n",
       "        vertical-align: top;\n",
       "    }\n",
       "\n",
       "    .dataframe thead th {\n",
       "        text-align: right;\n",
       "    }\n",
       "</style>\n",
       "<table border=\"1\" class=\"dataframe\">\n",
       "  <thead>\n",
       "    <tr style=\"text-align: right;\">\n",
       "      <th></th>\n",
       "      <th>total_imputados</th>\n",
       "      <th>metros_description</th>\n",
       "    </tr>\n",
       "  </thead>\n",
       "  <tbody>\n",
       "    <tr>\n",
       "      <th>70174</th>\n",
       "      <td>NaN</td>\n",
       "      <td>NaN</td>\n",
       "    </tr>\n",
       "    <tr>\n",
       "      <th>79857</th>\n",
       "      <td>NaN</td>\n",
       "      <td>NaN</td>\n",
       "    </tr>\n",
       "    <tr>\n",
       "      <th>60168</th>\n",
       "      <td>NaN</td>\n",
       "      <td>41</td>\n",
       "    </tr>\n",
       "    <tr>\n",
       "      <th>28969</th>\n",
       "      <td>NaN</td>\n",
       "      <td>75</td>\n",
       "    </tr>\n",
       "    <tr>\n",
       "      <th>72355</th>\n",
       "      <td>NaN</td>\n",
       "      <td>NaN</td>\n",
       "    </tr>\n",
       "    <tr>\n",
       "      <th>35098</th>\n",
       "      <td>NaN</td>\n",
       "      <td>95</td>\n",
       "    </tr>\n",
       "    <tr>\n",
       "      <th>1402</th>\n",
       "      <td>NaN</td>\n",
       "      <td>4</td>\n",
       "    </tr>\n",
       "    <tr>\n",
       "      <th>10123</th>\n",
       "      <td>NaN</td>\n",
       "      <td>NaN</td>\n",
       "    </tr>\n",
       "    <tr>\n",
       "      <th>77625</th>\n",
       "      <td>NaN</td>\n",
       "      <td>NaN</td>\n",
       "    </tr>\n",
       "    <tr>\n",
       "      <th>63496</th>\n",
       "      <td>NaN</td>\n",
       "      <td>NaN</td>\n",
       "    </tr>\n",
       "  </tbody>\n",
       "</table>\n",
       "</div>"
      ],
      "text/plain": [
       "       total_imputados metros_description\n",
       "70174              NaN                NaN\n",
       "79857              NaN                NaN\n",
       "60168              NaN                 41\n",
       "28969              NaN                 75\n",
       "72355              NaN                NaN\n",
       "35098              NaN                95 \n",
       "1402               NaN                 4 \n",
       "10123              NaN                NaN\n",
       "77625              NaN                NaN\n",
       "63496              NaN                NaN"
      ]
     },
     "execution_count": 85,
     "metadata": {},
     "output_type": "execute_result"
    }
   ],
   "source": [
    "# creamos una mascala de nulos en total imputados \n",
    "\n",
    "mask_nulos_total_imputados = data6[\"total_imputados\"].isnull()\n",
    "data6.loc[mask_nulos_total_imputados,[\"total_imputados\",\"metros_description\"]].sample(10)"
   ]
  },
  {
   "cell_type": "code",
   "execution_count": 88,
   "id": "russian-frontier",
   "metadata": {},
   "outputs": [
    {
     "name": "stdout",
     "output_type": "stream",
     "text": [
      "6823\n"
     ]
    }
   ],
   "source": [
    "# completamos los datos nulos de total por el valor en metros description\n",
    "\n",
    "data6[\"total_imputados\"].fillna(data6[\"metros_description\"], inplace=True)\n",
    "\n",
    "#Comprobamos como se redujo la cantidad de nulos en total_imputados\n",
    "print(data6[\"total_imputados\"].isnull().sum())\n"
   ]
  },
  {
   "cell_type": "markdown",
   "id": "differential-march",
   "metadata": {},
   "source": [
    "- #### como podemos ver, pasamos de 9.605 propiedades sin superficie, a 6.823"
   ]
  },
  {
   "cell_type": "markdown",
   "id": "gorgeous-warning",
   "metadata": {},
   "source": [
    "- ### 3.3) Ahora vamos a eliminar las propiedades que quedaron nulas sin superficie"
   ]
  },
  {
   "cell_type": "code",
   "execution_count": 92,
   "id": "played-essence",
   "metadata": {},
   "outputs": [
    {
     "name": "stdout",
     "output_type": "stream",
     "text": [
      "tenemos  104137  filas y luego de eliminar las propiedades sin superficie, deberiamos tener  97314  filas\n"
     ]
    }
   ],
   "source": [
    "#sabemos que son 6.823 propiedades. Vamos a calcular ahora de cuantas filas nos deberia quedar el dataset\n",
    "\n",
    "print('tenemos ', data6.shape[0], ' filas y luego de eliminar las propiedades sin superficie, deberiamos tener ',data6.shape[0] - data6[\"total_imputados\"].isnull().sum(), ' filas')"
   ]
  },
  {
   "cell_type": "code",
   "execution_count": 95,
   "id": "binary-laser",
   "metadata": {},
   "outputs": [
    {
     "name": "stdout",
     "output_type": "stream",
     "text": [
      "0\n",
      "(97314, 24)\n"
     ]
    }
   ],
   "source": [
    "# borramso los nulos de la columna total imputados\n",
    "data7 = data6.dropna(subset = [\"total_imputados\"])\n",
    "\n",
    "\n",
    "# chequeamos que no tenga mas nulos esa columna\n",
    "print(data7[\"total_imputados\"].isnull().sum())\n",
    "\n",
    "#chequeamos que las filas del dataset sean las que estimamos = 97.314 propiedades\n",
    "\n",
    "print(data7.shape)"
   ]
  },
  {
   "cell_type": "code",
   "execution_count": 97,
   "id": "manufactured-compiler",
   "metadata": {},
   "outputs": [
    {
     "data": {
      "text/html": [
       "<div>\n",
       "<style scoped>\n",
       "    .dataframe tbody tr th:only-of-type {\n",
       "        vertical-align: middle;\n",
       "    }\n",
       "\n",
       "    .dataframe tbody tr th {\n",
       "        vertical-align: top;\n",
       "    }\n",
       "\n",
       "    .dataframe thead th {\n",
       "        text-align: right;\n",
       "    }\n",
       "</style>\n",
       "<table border=\"1\" class=\"dataframe\">\n",
       "  <thead>\n",
       "    <tr style=\"text-align: right;\">\n",
       "      <th></th>\n",
       "      <th>property_type</th>\n",
       "      <th>place_name</th>\n",
       "      <th>place_with_parent_names</th>\n",
       "      <th>state_name</th>\n",
       "      <th>lat-lon</th>\n",
       "      <th>price</th>\n",
       "      <th>currency</th>\n",
       "      <th>price_aprox_local_currency</th>\n",
       "      <th>price_aprox_usd</th>\n",
       "      <th>surface_total_in_m2</th>\n",
       "      <th>...</th>\n",
       "      <th>description</th>\n",
       "      <th>title</th>\n",
       "      <th>Provincia</th>\n",
       "      <th>Localidad</th>\n",
       "      <th>Info_extra</th>\n",
       "      <th>total_en_zeros</th>\n",
       "      <th>covered_en_zeros</th>\n",
       "      <th>covered_imputados</th>\n",
       "      <th>total_imputados</th>\n",
       "      <th>metros_description</th>\n",
       "    </tr>\n",
       "  </thead>\n",
       "  <tbody>\n",
       "    <tr>\n",
       "      <th>0</th>\n",
       "      <td>PH</td>\n",
       "      <td>Mataderos</td>\n",
       "      <td>Capital Federal|Mataderos|</td>\n",
       "      <td>Capital Federal</td>\n",
       "      <td>-34.6618237,-58.5088387</td>\n",
       "      <td>62000.0</td>\n",
       "      <td>USD</td>\n",
       "      <td>1093959.0</td>\n",
       "      <td>62000.0</td>\n",
       "      <td>55.0</td>\n",
       "      <td>...</td>\n",
       "      <td>2 AMBIENTES TIPO CASA PLANTA BAJA POR PASILLO, REFACCIONADO A NUEVO, PATIO GRANDE, CON LAVADERO, LIVING COMEDOR CON COCINA INTEGRADA, ARTEFACTO DE COCINA, ALACENA, BAÑO COMPLETO, Y DORMITORIO. TODO EN EXCELENTE ESTADO, PARA HABITAR.NO ES APTO CREDITO Aviso publicado por Pixel Inmobiliario (Servicio de Páginas Web para Inmobiliarias).</td>\n",
       "      <td>2 AMB TIPO CASA SIN EXPENSAS EN PB</td>\n",
       "      <td>Capital Federal</td>\n",
       "      <td>Mataderos</td>\n",
       "      <td></td>\n",
       "      <td>55.0</td>\n",
       "      <td>40.0</td>\n",
       "      <td>40.000000</td>\n",
       "      <td>55</td>\n",
       "      <td>NaN</td>\n",
       "    </tr>\n",
       "    <tr>\n",
       "      <th>2</th>\n",
       "      <td>apartment</td>\n",
       "      <td>Mataderos</td>\n",
       "      <td>Capital Federal|Mataderos|</td>\n",
       "      <td>Capital Federal</td>\n",
       "      <td>-34.6522615,-58.5229825</td>\n",
       "      <td>72000.0</td>\n",
       "      <td>USD</td>\n",
       "      <td>1270404.0</td>\n",
       "      <td>72000.0</td>\n",
       "      <td>55.0</td>\n",
       "      <td>...</td>\n",
       "      <td>2 AMBIENTES 3ER PISO LATERAL LIVING COMEDOR AMPLIO COCINA SEPARADA CON LAVADERO, BAÑO COMPLETO Y DORMITORIO CON PLACARD. BAJAS EXPENSAS, EXCELENTE UBICACION     Aviso publicado por Pixel Inmobiliario (Servicio de Páginas Web para Inmobiliarias).</td>\n",
       "      <td>2 AMB 3ER PISO CON ASCENSOR APTO CREDITO</td>\n",
       "      <td>Capital Federal</td>\n",
       "      <td>Mataderos</td>\n",
       "      <td></td>\n",
       "      <td>55.0</td>\n",
       "      <td>55.0</td>\n",
       "      <td>55.000000</td>\n",
       "      <td>55</td>\n",
       "      <td>NaN</td>\n",
       "    </tr>\n",
       "    <tr>\n",
       "      <th>4</th>\n",
       "      <td>apartment</td>\n",
       "      <td>Centro</td>\n",
       "      <td>Buenos Aires Costa Atlántica|Mar del Plata|Centro|</td>\n",
       "      <td>Buenos Aires Costa Atlántica</td>\n",
       "      <td>-38.0026256,-57.5494468</td>\n",
       "      <td>64000.0</td>\n",
       "      <td>USD</td>\n",
       "      <td>1129248.0</td>\n",
       "      <td>64000.0</td>\n",
       "      <td>35.0</td>\n",
       "      <td>...</td>\n",
       "      <td>DEPARTAMENTO CON FANTÁSTICA ILUMINACIÓN NATURAL,  AL CONTRAFRENTE, EDIFICIO DE POCAS UNIDADES Y MUY BIEN CONSERVADO. EN ESTADO ORIGINAL.-POSEE: 1 DORMITORIOS,  1 BAÑO COMPLETO, LIVING COMEDOR Y COCINA SEPARADA.-EN ESTADO ORIGINAL.- Aviso publicado por Pixel Inmobiliario (Servicio de Páginas Web para Inmobiliarias).</td>\n",
       "      <td>DEPTO 2 AMB AL CONTRAFRENTE ZONA CENTRO/PLAZA MITRE</td>\n",
       "      <td>Buenos Aires Costa Atlántica</td>\n",
       "      <td>Mar del Plata</td>\n",
       "      <td>Centro|</td>\n",
       "      <td>35.0</td>\n",
       "      <td>35.0</td>\n",
       "      <td>35.000000</td>\n",
       "      <td>35</td>\n",
       "      <td>NaN</td>\n",
       "    </tr>\n",
       "    <tr>\n",
       "      <th>5</th>\n",
       "      <td>house</td>\n",
       "      <td>Gualeguaychú</td>\n",
       "      <td>Entre Ríos|Gualeguaychú|</td>\n",
       "      <td>Entre Ríos</td>\n",
       "      <td>-33.0140714,-58.519828</td>\n",
       "      <td>NaN</td>\n",
       "      <td>NaN</td>\n",
       "      <td>NaN</td>\n",
       "      <td>NaN</td>\n",
       "      <td>53.0</td>\n",
       "      <td>...</td>\n",
       "      <td>Casa en el perímetro del barrio 338, ubicada en el extremo sur este del barrio, sobre calle 3 de caballería casi Nágera. Vista libre a terreno en frente.Consta de dos dormitorios, baño, living cocina comedor integrado de buen tamaño, lavadero con despensero en aluminio.Patio privado con churrasquera, tapiales y puerta de acceso de servicio. Frente con rejas y pequeño patio con verde, porch de acceso.Gas natural en la puerta. Aire acondicionado frío/calor. Baulera para guardado sobre pasillo. Muy buen estado en general de pisos, revestimientos, pintura, etc.Apto crédito. Aviso publicado por Pixel Inmobiliario (Servicio de Páginas Web para Inmobiliarias).</td>\n",
       "      <td>Casa Barrio 338. Sobre calle 3 de caballería, casi Nágera. Dos habit. Muy buen estado, patio con tapiales.</td>\n",
       "      <td>Entre Ríos</td>\n",
       "      <td>Gualeguaychú</td>\n",
       "      <td></td>\n",
       "      <td>53.0</td>\n",
       "      <td>0.0</td>\n",
       "      <td>13.592695</td>\n",
       "      <td>53</td>\n",
       "      <td>NaN</td>\n",
       "    </tr>\n",
       "    <tr>\n",
       "      <th>6</th>\n",
       "      <td>PH</td>\n",
       "      <td>Munro</td>\n",
       "      <td>Bs.As. G.B.A. Zona Norte|Vicente López|Munro|</td>\n",
       "      <td>Bs.As. G.B.A. Zona Norte</td>\n",
       "      <td>-34.5329567,-58.5217825</td>\n",
       "      <td>130000.0</td>\n",
       "      <td>USD</td>\n",
       "      <td>2293785.0</td>\n",
       "      <td>130000.0</td>\n",
       "      <td>106.0</td>\n",
       "      <td>...</td>\n",
       "      <td>MUY BUEN PH AL FRENTE CON ENTRADA INDEPENDIENTE - SIN EXPENSAS! TODO EN  PLANTA BAJA DOS DORMITORIOS (pisos de pinotea) - LIVING - COCINA COMEDOR - BAÑO - PATIO - GALPÓN Y LAVADERO EN EL PATIOEN MUY BUEN ESTADO - INMEJORABLE UBICACIÓN - A 1 CUADRA DE LA ESTACIÓN DE MUNRO -  CERCA DE MAS DE 6 LINEAS DE COLECTIVOS - A 2 CUADRAS DEL CENTRO UNIVERSITARIO. 106 m2 TOTALES: 78 m2 CUBIERTOS Y 28 m2 DESCUBIERTOSAPTO PROFESIONAL                                                 Aviso publicado por Pixel Inmobiliario (Servicio de Páginas Web para Inmobiliarias).</td>\n",
       "      <td>MUY BUEN PH AL FRENTE DOS DORMITORIOS , PATIO, EXCELENTE UBICACION EN MUNRO</td>\n",
       "      <td>Bs.As. G.B.A. Zona Norte</td>\n",
       "      <td>Vicente López</td>\n",
       "      <td>Munro|</td>\n",
       "      <td>106.0</td>\n",
       "      <td>78.0</td>\n",
       "      <td>78.000000</td>\n",
       "      <td>106</td>\n",
       "      <td>106</td>\n",
       "    </tr>\n",
       "  </tbody>\n",
       "</table>\n",
       "<p>5 rows × 24 columns</p>\n",
       "</div>"
      ],
      "text/plain": [
       "  property_type    place_name  \\\n",
       "0            PH     Mataderos   \n",
       "2     apartment     Mataderos   \n",
       "4     apartment        Centro   \n",
       "5         house  Gualeguaychú   \n",
       "6            PH         Munro   \n",
       "\n",
       "                              place_with_parent_names  \\\n",
       "0                          Capital Federal|Mataderos|   \n",
       "2                          Capital Federal|Mataderos|   \n",
       "4  Buenos Aires Costa Atlántica|Mar del Plata|Centro|   \n",
       "5                            Entre Ríos|Gualeguaychú|   \n",
       "6       Bs.As. G.B.A. Zona Norte|Vicente López|Munro|   \n",
       "\n",
       "                     state_name                  lat-lon     price currency  \\\n",
       "0               Capital Federal  -34.6618237,-58.5088387   62000.0      USD   \n",
       "2               Capital Federal  -34.6522615,-58.5229825   72000.0      USD   \n",
       "4  Buenos Aires Costa Atlántica  -38.0026256,-57.5494468   64000.0      USD   \n",
       "5                    Entre Ríos   -33.0140714,-58.519828       NaN      NaN   \n",
       "6      Bs.As. G.B.A. Zona Norte  -34.5329567,-58.5217825  130000.0      USD   \n",
       "\n",
       "   price_aprox_local_currency  price_aprox_usd  surface_total_in_m2  ...  \\\n",
       "0                   1093959.0          62000.0                 55.0  ...   \n",
       "2                   1270404.0          72000.0                 55.0  ...   \n",
       "4                   1129248.0          64000.0                 35.0  ...   \n",
       "5                         NaN              NaN                 53.0  ...   \n",
       "6                   2293785.0         130000.0                106.0  ...   \n",
       "\n",
       "                                                                                                                                                                                                                                                                                                                                                                                                                                                                                                                                                                                                                                                                             description  \\\n",
       "0                                                                                                                                                                                                                                                                                                                                        2 AMBIENTES TIPO CASA PLANTA BAJA POR PASILLO, REFACCIONADO A NUEVO, PATIO GRANDE, CON LAVADERO, LIVING COMEDOR CON COCINA INTEGRADA, ARTEFACTO DE COCINA, ALACENA, BAÑO COMPLETO, Y DORMITORIO. TODO EN EXCELENTE ESTADO, PARA HABITAR.NO ES APTO CREDITO Aviso publicado por Pixel Inmobiliario (Servicio de Páginas Web para Inmobiliarias).   \n",
       "2                                                                                                                                                                                                                                                                                                                                                                                                                                  2 AMBIENTES 3ER PISO LATERAL LIVING COMEDOR AMPLIO COCINA SEPARADA CON LAVADERO, BAÑO COMPLETO Y DORMITORIO CON PLACARD. BAJAS EXPENSAS, EXCELENTE UBICACION     Aviso publicado por Pixel Inmobiliario (Servicio de Páginas Web para Inmobiliarias).   \n",
       "4                                                                                                                                                                                                                                                                                                                                                           DEPARTAMENTO CON FANTÁSTICA ILUMINACIÓN NATURAL,  AL CONTRAFRENTE, EDIFICIO DE POCAS UNIDADES Y MUY BIEN CONSERVADO. EN ESTADO ORIGINAL.-POSEE: 1 DORMITORIOS,  1 BAÑO COMPLETO, LIVING COMEDOR Y COCINA SEPARADA.-EN ESTADO ORIGINAL.- Aviso publicado por Pixel Inmobiliario (Servicio de Páginas Web para Inmobiliarias).   \n",
       "5  Casa en el perímetro del barrio 338, ubicada en el extremo sur este del barrio, sobre calle 3 de caballería casi Nágera. Vista libre a terreno en frente.Consta de dos dormitorios, baño, living cocina comedor integrado de buen tamaño, lavadero con despensero en aluminio.Patio privado con churrasquera, tapiales y puerta de acceso de servicio. Frente con rejas y pequeño patio con verde, porch de acceso.Gas natural en la puerta. Aire acondicionado frío/calor. Baulera para guardado sobre pasillo. Muy buen estado en general de pisos, revestimientos, pintura, etc.Apto crédito. Aviso publicado por Pixel Inmobiliario (Servicio de Páginas Web para Inmobiliarias).   \n",
       "6                                                                                                            MUY BUEN PH AL FRENTE CON ENTRADA INDEPENDIENTE - SIN EXPENSAS! TODO EN  PLANTA BAJA DOS DORMITORIOS (pisos de pinotea) - LIVING - COCINA COMEDOR - BAÑO - PATIO - GALPÓN Y LAVADERO EN EL PATIOEN MUY BUEN ESTADO - INMEJORABLE UBICACIÓN - A 1 CUADRA DE LA ESTACIÓN DE MUNRO -  CERCA DE MAS DE 6 LINEAS DE COLECTIVOS - A 2 CUADRAS DEL CENTRO UNIVERSITARIO. 106 m2 TOTALES: 78 m2 CUBIERTOS Y 28 m2 DESCUBIERTOSAPTO PROFESIONAL                                                 Aviso publicado por Pixel Inmobiliario (Servicio de Páginas Web para Inmobiliarias).   \n",
       "\n",
       "                                                                                                             title  \\\n",
       "0                                                                               2 AMB TIPO CASA SIN EXPENSAS EN PB   \n",
       "2                                                                         2 AMB 3ER PISO CON ASCENSOR APTO CREDITO   \n",
       "4                                                              DEPTO 2 AMB AL CONTRAFRENTE ZONA CENTRO/PLAZA MITRE   \n",
       "5       Casa Barrio 338. Sobre calle 3 de caballería, casi Nágera. Dos habit. Muy buen estado, patio con tapiales.   \n",
       "6  MUY BUEN PH AL FRENTE DOS DORMITORIOS , PATIO, EXCELENTE UBICACION EN MUNRO                                       \n",
       "\n",
       "                      Provincia      Localidad Info_extra total_en_zeros  \\\n",
       "0               Capital Federal      Mataderos                      55.0   \n",
       "2               Capital Federal      Mataderos                      55.0   \n",
       "4  Buenos Aires Costa Atlántica  Mar del Plata    Centro|           35.0   \n",
       "5                    Entre Ríos   Gualeguaychú                      53.0   \n",
       "6      Bs.As. G.B.A. Zona Norte  Vicente López     Munro|          106.0   \n",
       "\n",
       "  covered_en_zeros covered_imputados total_imputados  metros_description  \n",
       "0             40.0         40.000000              55                 NaN  \n",
       "2             55.0         55.000000              55                 NaN  \n",
       "4             35.0         35.000000              35                 NaN  \n",
       "5              0.0         13.592695              53                 NaN  \n",
       "6             78.0         78.000000             106                106   \n",
       "\n",
       "[5 rows x 24 columns]"
      ]
     },
     "execution_count": 97,
     "metadata": {},
     "output_type": "execute_result"
    }
   ],
   "source": [
    "data7.head()"
   ]
  },
  {
   "cell_type": "markdown",
   "id": "premium-harvest",
   "metadata": {},
   "source": [
    "- ### 3.4) Vamos a borrar las columnas que no usamos mas "
   ]
  },
  {
   "cell_type": "code",
   "execution_count": 98,
   "id": "featured-bracket",
   "metadata": {},
   "outputs": [
    {
     "data": {
      "text/plain": [
       "property_type                     0\n",
       "place_name                       23\n",
       "place_with_parent_names           0\n",
       "state_name                        0\n",
       "lat-lon                       39324\n",
       "price                         12197\n",
       "currency                      12197\n",
       "price_aprox_local_currency    12197\n",
       "price_aprox_usd               12197\n",
       "surface_total_in_m2           25592\n",
       "surface_covered_in_m2          8412\n",
       "price_usd_per_m2              34856\n",
       "price_per_m2                  18253\n",
       "rooms                         57256\n",
       "description                       1\n",
       "title                             0\n",
       "Provincia                         0\n",
       "Localidad                         0\n",
       "Info_extra                        0\n",
       "total_en_zeros                    0\n",
       "covered_en_zeros                  0\n",
       "covered_imputados                 0\n",
       "total_imputados                   0\n",
       "metros_description            61589\n",
       "dtype: int64"
      ]
     },
     "execution_count": 98,
     "metadata": {},
     "output_type": "execute_result"
    }
   ],
   "source": [
    "data7.isnull().sum()"
   ]
  },
  {
   "cell_type": "code",
   "execution_count": 99,
   "id": "occupational-fashion",
   "metadata": {},
   "outputs": [],
   "source": [
    "# borramos las columnas \n",
    "\n",
    "data8 = data7.drop([\"total_en_zeros\",\"covered_en_zeros\", \"metros_description\", \"Info_extra\"], axis = 1)"
   ]
  },
  {
   "cell_type": "code",
   "execution_count": 100,
   "id": "greek-advertising",
   "metadata": {},
   "outputs": [
    {
     "data": {
      "text/plain": [
       "property_type                     0\n",
       "place_name                       23\n",
       "place_with_parent_names           0\n",
       "state_name                        0\n",
       "lat-lon                       39324\n",
       "price                         12197\n",
       "currency                      12197\n",
       "price_aprox_local_currency    12197\n",
       "price_aprox_usd               12197\n",
       "surface_total_in_m2           25592\n",
       "surface_covered_in_m2          8412\n",
       "price_usd_per_m2              34856\n",
       "price_per_m2                  18253\n",
       "rooms                         57256\n",
       "description                       1\n",
       "title                             0\n",
       "Provincia                         0\n",
       "Localidad                         0\n",
       "covered_imputados                 0\n",
       "total_imputados                   0\n",
       "dtype: int64"
      ]
     },
     "execution_count": 100,
     "metadata": {},
     "output_type": "execute_result"
    }
   ],
   "source": [
    "# chequeamos las columnas que tenemos\n",
    "\n",
    "data8.isnull().sum()"
   ]
  },
  {
   "cell_type": "code",
   "execution_count": 101,
   "id": "resident-childhood",
   "metadata": {},
   "outputs": [
    {
     "data": {
      "text/plain": [
       "(97314, 20)"
      ]
     },
     "execution_count": 101,
     "metadata": {},
     "output_type": "execute_result"
    }
   ],
   "source": [
    "data8.shape"
   ]
  },
  {
   "cell_type": "markdown",
   "id": "bacterial-unknown",
   "metadata": {},
   "source": [
    "- ### 3.5) Vamos a crear finalmente la columna de precio en usd por m2"
   ]
  },
  {
   "cell_type": "code",
   "execution_count": 144,
   "id": "uniform-wonder",
   "metadata": {},
   "outputs": [
    {
     "name": "stdout",
     "output_type": "stream",
     "text": [
      "100\n"
     ]
    },
    {
     "data": {
      "text/plain": [
       "40.000000      1565\n",
       "50.000000      1495\n",
       "60.000000      1242\n",
       "45.000000      1231\n",
       "30.000000      1093\n",
       "               ... \n",
       "1634.000000       1\n",
       "797.353669        1\n",
       "2343.391068       1\n",
       "2756.000000       1\n",
       "2934.246334       1\n",
       "Name: total_imputados, Length: 3012, dtype: int64"
      ]
     },
     "execution_count": 144,
     "metadata": {},
     "output_type": "execute_result"
    }
   ],
   "source": [
    "# para eso, tenemos que asegurarnos que la columna total_imputados sean todos datos float\n",
    "\n",
    "data8['total_imputados'] = data8['total_imputados'].replace(' ', np.nan)\n",
    "\n",
    "print(data8['total_imputados'].isnull().sum())\n",
    "\n",
    "data8['total_imputados'].value_counts()"
   ]
  },
  {
   "cell_type": "code",
   "execution_count": 140,
   "id": "colonial-artwork",
   "metadata": {},
   "outputs": [],
   "source": [
    "# creamos una serie para convertirlo en floats\n",
    "\n",
    "import pandas as pd\n",
    "\n",
    "serie_numeros_total_imputados = pd.to_numeric(data8['total_imputados'])"
   ]
  },
  {
   "cell_type": "code",
   "execution_count": 141,
   "id": "formal-struggle",
   "metadata": {},
   "outputs": [
    {
     "data": {
      "text/plain": [
       "(97314,)"
      ]
     },
     "execution_count": 141,
     "metadata": {},
     "output_type": "execute_result"
    }
   ],
   "source": [
    "data8['total_imputados'] = serie_numeros_total_imputados\n",
    "\n",
    "data8['total_imputados'].shape"
   ]
  },
  {
   "cell_type": "code",
   "execution_count": 146,
   "id": "hired-evidence",
   "metadata": {},
   "outputs": [
    {
     "name": "stdout",
     "output_type": "stream",
     "text": [
      "100\n",
      "0\n"
     ]
    }
   ],
   "source": [
    "#tenemos que eliminar nuevamente los nulos que estaban con espacio\n",
    "\n",
    "print(data8['total_imputados'].isnull().sum())\n",
    "\n",
    "data9 = data8.dropna(subset = [\"total_imputados\"])\n",
    "\n",
    "print(data9['total_imputados'].isnull().sum())"
   ]
  },
  {
   "cell_type": "code",
   "execution_count": 151,
   "id": "rapid-christianity",
   "metadata": {},
   "outputs": [
    {
     "data": {
      "text/plain": [
       "(97214, 21)"
      ]
     },
     "execution_count": 151,
     "metadata": {},
     "output_type": "execute_result"
    }
   ],
   "source": [
    "#eliminamos esas 100 filas que estaban con un espacio como valor y vemos como quedo el data frame\n",
    "\n",
    "data9.shape\n",
    "\n"
   ]
  },
  {
   "cell_type": "code",
   "execution_count": 159,
   "id": "available-corps",
   "metadata": {},
   "outputs": [],
   "source": [
    "# creamos la columna de precio por m2 en usd dividiendo la columna de precio en usd por la que ya tenemos completa de total imputados\n",
    "\n",
    "data9.loc[:,\"final_price_usd_m2\"] = data9[\"price_aprox_usd\"] / data9[\"total_imputados\"]\n"
   ]
  },
  {
   "cell_type": "code",
   "execution_count": 160,
   "id": "excessive-treasure",
   "metadata": {},
   "outputs": [
    {
     "data": {
      "text/html": [
       "<div>\n",
       "<style scoped>\n",
       "    .dataframe tbody tr th:only-of-type {\n",
       "        vertical-align: middle;\n",
       "    }\n",
       "\n",
       "    .dataframe tbody tr th {\n",
       "        vertical-align: top;\n",
       "    }\n",
       "\n",
       "    .dataframe thead th {\n",
       "        text-align: right;\n",
       "    }\n",
       "</style>\n",
       "<table border=\"1\" class=\"dataframe\">\n",
       "  <thead>\n",
       "    <tr style=\"text-align: right;\">\n",
       "      <th></th>\n",
       "      <th>property_type</th>\n",
       "      <th>place_name</th>\n",
       "      <th>place_with_parent_names</th>\n",
       "      <th>state_name</th>\n",
       "      <th>lat-lon</th>\n",
       "      <th>price</th>\n",
       "      <th>currency</th>\n",
       "      <th>price_aprox_local_currency</th>\n",
       "      <th>price_aprox_usd</th>\n",
       "      <th>surface_total_in_m2</th>\n",
       "      <th>...</th>\n",
       "      <th>price_usd_per_m2</th>\n",
       "      <th>price_per_m2</th>\n",
       "      <th>rooms</th>\n",
       "      <th>description</th>\n",
       "      <th>title</th>\n",
       "      <th>Provincia</th>\n",
       "      <th>Localidad</th>\n",
       "      <th>covered_imputados</th>\n",
       "      <th>total_imputados</th>\n",
       "      <th>final_price_usd_m2</th>\n",
       "    </tr>\n",
       "  </thead>\n",
       "  <tbody>\n",
       "    <tr>\n",
       "      <th>0</th>\n",
       "      <td>PH</td>\n",
       "      <td>Mataderos</td>\n",
       "      <td>Capital Federal|Mataderos|</td>\n",
       "      <td>Capital Federal</td>\n",
       "      <td>-34.6618237,-58.5088387</td>\n",
       "      <td>62000.0</td>\n",
       "      <td>USD</td>\n",
       "      <td>1093959.0</td>\n",
       "      <td>62000.0</td>\n",
       "      <td>55.0</td>\n",
       "      <td>...</td>\n",
       "      <td>1127.272727</td>\n",
       "      <td>1550.0</td>\n",
       "      <td>NaN</td>\n",
       "      <td>2 AMBIENTES TIPO CASA PLANTA BAJA POR PASILLO, REFACCIONADO A NUEVO, PATIO GRANDE, CON LAVADERO, LIVING COMEDOR CON COCINA INTEGRADA, ARTEFACTO DE COCINA, ALACENA, BAÑO COMPLETO, Y DORMITORIO. TODO EN EXCELENTE ESTADO, PARA HABITAR.NO ES APTO CREDITO Aviso publicado por Pixel Inmobiliario (Servicio de Páginas Web para Inmobiliarias).</td>\n",
       "      <td>2 AMB TIPO CASA SIN EXPENSAS EN PB</td>\n",
       "      <td>Capital Federal</td>\n",
       "      <td>Mataderos</td>\n",
       "      <td>40.0</td>\n",
       "      <td>55.0</td>\n",
       "      <td>1127.272727</td>\n",
       "    </tr>\n",
       "  </tbody>\n",
       "</table>\n",
       "<p>1 rows × 21 columns</p>\n",
       "</div>"
      ],
      "text/plain": [
       "  property_type place_name     place_with_parent_names       state_name  \\\n",
       "0            PH  Mataderos  Capital Federal|Mataderos|  Capital Federal   \n",
       "\n",
       "                   lat-lon    price currency  price_aprox_local_currency  \\\n",
       "0  -34.6618237,-58.5088387  62000.0      USD                   1093959.0   \n",
       "\n",
       "   price_aprox_usd  surface_total_in_m2  ...  price_usd_per_m2  price_per_m2  \\\n",
       "0          62000.0                 55.0  ...       1127.272727        1550.0   \n",
       "\n",
       "   rooms  \\\n",
       "0    NaN   \n",
       "\n",
       "                                                                                                                                                                                                                                                                                                                                       description  \\\n",
       "0  2 AMBIENTES TIPO CASA PLANTA BAJA POR PASILLO, REFACCIONADO A NUEVO, PATIO GRANDE, CON LAVADERO, LIVING COMEDOR CON COCINA INTEGRADA, ARTEFACTO DE COCINA, ALACENA, BAÑO COMPLETO, Y DORMITORIO. TODO EN EXCELENTE ESTADO, PARA HABITAR.NO ES APTO CREDITO Aviso publicado por Pixel Inmobiliario (Servicio de Páginas Web para Inmobiliarias).   \n",
       "\n",
       "                                title        Provincia  Localidad  \\\n",
       "0  2 AMB TIPO CASA SIN EXPENSAS EN PB  Capital Federal  Mataderos   \n",
       "\n",
       "  covered_imputados  total_imputados  final_price_usd_m2  \n",
       "0              40.0             55.0         1127.272727  \n",
       "\n",
       "[1 rows x 21 columns]"
      ]
     },
     "execution_count": 160,
     "metadata": {},
     "output_type": "execute_result"
    }
   ],
   "source": [
    "data9.head(1)"
   ]
  },
  {
   "cell_type": "code",
   "execution_count": 163,
   "id": "opposed-relative",
   "metadata": {},
   "outputs": [
    {
     "data": {
      "text/plain": [
       "property_type                     0\n",
       "place_name                       23\n",
       "place_with_parent_names           0\n",
       "state_name                        0\n",
       "lat-lon                       39290\n",
       "price                         12174\n",
       "currency                      12174\n",
       "price_aprox_local_currency    12174\n",
       "price_aprox_usd               12174\n",
       "surface_total_in_m2           25501\n",
       "surface_covered_in_m2          8312\n",
       "price_usd_per_m2              34756\n",
       "price_per_m2                  18153\n",
       "rooms                         57189\n",
       "description                       1\n",
       "title                             0\n",
       "Provincia                         0\n",
       "Localidad                         0\n",
       "covered_imputados                 0\n",
       "total_imputados                   0\n",
       "final_price_usd_m2            12174\n",
       "dtype: int64"
      ]
     },
     "execution_count": 163,
     "metadata": {},
     "output_type": "execute_result"
    }
   ],
   "source": [
    "data9.isnull().sum()"
   ]
  },
  {
   "cell_type": "markdown",
   "id": "comprehensive-screw",
   "metadata": {},
   "source": [
    "- ### finalmente creamos la columna \"final_price_usd_m2\" que es la columna con todos los valores por m2 pero con los 12.174 nulos que son los que no tienen precio"
   ]
  },
  {
   "cell_type": "code",
   "execution_count": 183,
   "id": "optimum-bennett",
   "metadata": {},
   "outputs": [
    {
     "data": {
      "text/plain": [
       "(97214, 26)"
      ]
     },
     "execution_count": 183,
     "metadata": {},
     "output_type": "execute_result"
    }
   ],
   "source": [
    "data9.shape"
   ]
  },
  {
   "cell_type": "markdown",
   "id": "gentle-inspection",
   "metadata": {},
   "source": [
    "# 4) Trabajamos sobre rejex para descubrir otras conexiones al precio"
   ]
  },
  {
   "cell_type": "code",
   "execution_count": 164,
   "id": "accredited-anime",
   "metadata": {},
   "outputs": [
    {
     "data": {
      "text/plain": [
       "0                                                                                                                                                                                                                                                                                                                                          2 AMBIENTES TIPO CASA PLANTA BAJA POR PASILLO, REFACCIONADO A NUEVO, PATIO GRANDE, CON LAVADERO, LIVING COMEDOR CON COCINA INTEGRADA, ARTEFACTO DE COCINA, ALACENA, BAÑO COMPLETO, Y DORMITORIO. TODO EN EXCELENTE ESTADO, PARA HABITAR.NO ES APTO CREDITO Aviso publicado por Pixel Inmobiliario (Servicio de Páginas Web para Inmobiliarias).\n",
       "2                                                                                                                                                                                                                                                                                                                                                                                                                                    2 AMBIENTES 3ER PISO LATERAL LIVING COMEDOR AMPLIO COCINA SEPARADA CON LAVADERO, BAÑO COMPLETO Y DORMITORIO CON PLACARD. BAJAS EXPENSAS, EXCELENTE UBICACION     Aviso publicado por Pixel Inmobiliario (Servicio de Páginas Web para Inmobiliarias).\n",
       "4                                                                                                                                                                                                                                                                                                                                                             DEPARTAMENTO CON FANTÁSTICA ILUMINACIÓN NATURAL,  AL CONTRAFRENTE, EDIFICIO DE POCAS UNIDADES Y MUY BIEN CONSERVADO. EN ESTADO ORIGINAL.-POSEE: 1 DORMITORIOS,  1 BAÑO COMPLETO, LIVING COMEDOR Y COCINA SEPARADA.-EN ESTADO ORIGINAL.- Aviso publicado por Pixel Inmobiliario (Servicio de Páginas Web para Inmobiliarias).\n",
       "5    Casa en el perímetro del barrio 338, ubicada en el extremo sur este del barrio, sobre calle 3 de caballería casi Nágera. Vista libre a terreno en frente.Consta de dos dormitorios, baño, living cocina comedor integrado de buen tamaño, lavadero con despensero en aluminio.Patio privado con churrasquera, tapiales y puerta de acceso de servicio. Frente con rejas y pequeño patio con verde, porch de acceso.Gas natural en la puerta. Aire acondicionado frío/calor. Baulera para guardado sobre pasillo. Muy buen estado en general de pisos, revestimientos, pintura, etc.Apto crédito. Aviso publicado por Pixel Inmobiliario (Servicio de Páginas Web para Inmobiliarias).\n",
       "6                                                                                                              MUY BUEN PH AL FRENTE CON ENTRADA INDEPENDIENTE - SIN EXPENSAS! TODO EN  PLANTA BAJA DOS DORMITORIOS (pisos de pinotea) - LIVING - COCINA COMEDOR - BAÑO - PATIO - GALPÓN Y LAVADERO EN EL PATIOEN MUY BUEN ESTADO - INMEJORABLE UBICACIÓN - A 1 CUADRA DE LA ESTACIÓN DE MUNRO -  CERCA DE MAS DE 6 LINEAS DE COLECTIVOS - A 2 CUADRAS DEL CENTRO UNIVERSITARIO. 106 m2 TOTALES: 78 m2 CUBIERTOS Y 28 m2 DESCUBIERTOSAPTO PROFESIONAL                                                 Aviso publicado por Pixel Inmobiliario (Servicio de Páginas Web para Inmobiliarias).\n",
       "Name: description, dtype: object"
      ]
     },
     "execution_count": 164,
     "metadata": {},
     "output_type": "execute_result"
    }
   ],
   "source": [
    "#vamos a separar la columna \"description\" para analizarla sola\n",
    "\n",
    "data_description = data9[\"description\"]\n",
    "\n",
    "data_description.head(5)"
   ]
  },
  {
   "cell_type": "code",
   "execution_count": 165,
   "id": "peaceful-dallas",
   "metadata": {},
   "outputs": [
    {
     "name": "stdout",
     "output_type": "stream",
     "text": [
      "hay  1 valores nulos\n"
     ]
    },
    {
     "data": {
      "text/html": [
       "<div>\n",
       "<style scoped>\n",
       "    .dataframe tbody tr th:only-of-type {\n",
       "        vertical-align: middle;\n",
       "    }\n",
       "\n",
       "    .dataframe tbody tr th {\n",
       "        vertical-align: top;\n",
       "    }\n",
       "\n",
       "    .dataframe thead th {\n",
       "        text-align: right;\n",
       "    }\n",
       "</style>\n",
       "<table border=\"1\" class=\"dataframe\">\n",
       "  <thead>\n",
       "    <tr style=\"text-align: right;\">\n",
       "      <th></th>\n",
       "      <th>property_type</th>\n",
       "      <th>place_name</th>\n",
       "      <th>place_with_parent_names</th>\n",
       "      <th>state_name</th>\n",
       "      <th>lat-lon</th>\n",
       "      <th>price</th>\n",
       "      <th>currency</th>\n",
       "      <th>price_aprox_local_currency</th>\n",
       "      <th>price_aprox_usd</th>\n",
       "      <th>surface_total_in_m2</th>\n",
       "      <th>...</th>\n",
       "      <th>price_usd_per_m2</th>\n",
       "      <th>price_per_m2</th>\n",
       "      <th>rooms</th>\n",
       "      <th>description</th>\n",
       "      <th>title</th>\n",
       "      <th>Provincia</th>\n",
       "      <th>Localidad</th>\n",
       "      <th>covered_imputados</th>\n",
       "      <th>total_imputados</th>\n",
       "      <th>final_price_usd_m2</th>\n",
       "    </tr>\n",
       "  </thead>\n",
       "  <tbody>\n",
       "    <tr>\n",
       "      <th>96691</th>\n",
       "      <td>apartment</td>\n",
       "      <td>San Fernando</td>\n",
       "      <td>Bs.As. G.B.A. Zona Norte|San Fernando|</td>\n",
       "      <td>Bs.As. G.B.A. Zona Norte</td>\n",
       "      <td>NaN</td>\n",
       "      <td>98000.0</td>\n",
       "      <td>USD</td>\n",
       "      <td>1729161.0</td>\n",
       "      <td>98000.0</td>\n",
       "      <td>NaN</td>\n",
       "      <td>...</td>\n",
       "      <td>NaN</td>\n",
       "      <td>1781.818182</td>\n",
       "      <td>NaN</td>\n",
       "      <td>NaN</td>\n",
       "      <td>Departamento - San Fernando</td>\n",
       "      <td>Bs.As. G.B.A. Zona Norte</td>\n",
       "      <td>San Fernando</td>\n",
       "      <td>55.0</td>\n",
       "      <td>70.961896</td>\n",
       "      <td>1381.02285</td>\n",
       "    </tr>\n",
       "  </tbody>\n",
       "</table>\n",
       "<p>1 rows × 21 columns</p>\n",
       "</div>"
      ],
      "text/plain": [
       "      property_type    place_name                 place_with_parent_names  \\\n",
       "96691     apartment  San Fernando  Bs.As. G.B.A. Zona Norte|San Fernando|   \n",
       "\n",
       "                     state_name lat-lon    price currency  \\\n",
       "96691  Bs.As. G.B.A. Zona Norte     NaN  98000.0      USD   \n",
       "\n",
       "       price_aprox_local_currency  price_aprox_usd  surface_total_in_m2  ...  \\\n",
       "96691                   1729161.0          98000.0                  NaN  ...   \n",
       "\n",
       "       price_usd_per_m2  price_per_m2  rooms  description  \\\n",
       "96691               NaN   1781.818182    NaN          NaN   \n",
       "\n",
       "                             title                 Provincia     Localidad  \\\n",
       "96691  Departamento - San Fernando  Bs.As. G.B.A. Zona Norte  San Fernando   \n",
       "\n",
       "      covered_imputados  total_imputados  final_price_usd_m2  \n",
       "96691              55.0        70.961896          1381.02285  \n",
       "\n",
       "[1 rows x 21 columns]"
      ]
     },
     "execution_count": 165,
     "metadata": {},
     "output_type": "execute_result"
    }
   ],
   "source": [
    "#vamos a ver los que son nulos\n",
    "\n",
    "data_description_null = data_description.isnull()\n",
    "print(\"hay \",data_description_null.sum(), \"valores nulos\")\n",
    "\n",
    "#identificamos las dos filas q tienen valores nulos en \"description\"\n",
    "data_description_null = data9[data9.description.isnull()]\n",
    "data_description_null"
   ]
  },
  {
   "cell_type": "markdown",
   "id": "continent-dominant",
   "metadata": {},
   "source": [
    "- ### 4.1) buscamos las propiedades que fueron refaccionadas "
   ]
  },
  {
   "cell_type": "code",
   "execution_count": 200,
   "id": "charitable-acting",
   "metadata": {},
   "outputs": [
    {
     "name": "stdout",
     "output_type": "stream",
     "text": [
      "                                                                                                                                                                                                                                                                                                                                       description  \\\n",
      "0  2 AMBIENTES TIPO CASA PLANTA BAJA POR PASILLO, REFACCIONADO A NUEVO, PATIO GRANDE, CON LAVADERO, LIVING COMEDOR CON COCINA INTEGRADA, ARTEFACTO DE COCINA, ALACENA, BAÑO COMPLETO, Y DORMITORIO. TODO EN EXCELENTE ESTADO, PARA HABITAR.NO ES APTO CREDITO Aviso publicado por Pixel Inmobiliario (Servicio de Páginas Web para Inmobiliarias).   \n",
      "2                                                                                            2 AMBIENTES 3ER PISO LATERAL LIVING COMEDOR AMPLIO COCINA SEPARADA CON LAVADERO, BAÑO COMPLETO Y DORMITORIO CON PLACARD. BAJAS EXPENSAS, EXCELENTE UBICACION     Aviso publicado por Pixel Inmobiliario (Servicio de Páginas Web para Inmobiliarias).   \n",
      "4                     DEPARTAMENTO CON FANTÁSTICA ILUMINACIÓN NATURAL,  AL CONTRAFRENTE, EDIFICIO DE POCAS UNIDADES Y MUY BIEN CONSERVADO. EN ESTADO ORIGINAL.-POSEE: 1 DORMITORIOS,  1 BAÑO COMPLETO, LIVING COMEDOR Y COCINA SEPARADA.-EN ESTADO ORIGINAL.- Aviso publicado por Pixel Inmobiliario (Servicio de Páginas Web para Inmobiliarias).   \n",
      "\n",
      "   refaccionado  \n",
      "0          True  \n",
      "2         False  \n",
      "4         False  \n"
     ]
    },
    {
     "name": "stderr",
     "output_type": "stream",
     "text": [
      "<ipython-input-200-2ad0d3fd4d45>:5: SettingWithCopyWarning: \n",
      "A value is trying to be set on a copy of a slice from a DataFrame.\n",
      "Try using .loc[row_indexer,col_indexer] = value instead\n",
      "\n",
      "See the caveats in the documentation: https://pandas.pydata.org/pandas-docs/stable/user_guide/indexing.html#returning-a-view-versus-a-copy\n",
      "  data9[\"refaccionado\"] = data9.description.str.contains(r'(?i)refac|refaccionado')\n"
     ]
    }
   ],
   "source": [
    "#vamos a buscar la palabra \"refaccionado\" ya que podria afectar el precio al ser un departamento mejorado. estos datos los ingresamos en la columna nueva de \"refaccionados\"\n",
    "\n",
    "import re\n",
    "\n",
    "data9[\"refaccionado\"] = data9.description.str.contains(r'(?i)refac|refaccionado')\n",
    "print(data9[[\"description\",\"refaccionado\"]].head(3))"
   ]
  },
  {
   "cell_type": "code",
   "execution_count": 170,
   "id": "lesser-cause",
   "metadata": {},
   "outputs": [
    {
     "name": "stdout",
     "output_type": "stream",
     "text": [
      "0    95543\n",
      "1     1671\n",
      "dtype: int64\n"
     ]
    },
    {
     "name": "stderr",
     "output_type": "stream",
     "text": [
      "<ipython-input-170-d65f0d6ed11b>:8: SettingWithCopyWarning: \n",
      "A value is trying to be set on a copy of a slice from a DataFrame.\n",
      "Try using .loc[row_indexer,col_indexer] = value instead\n",
      "\n",
      "See the caveats in the documentation: https://pandas.pydata.org/pandas-docs/stable/user_guide/indexing.html#returning-a-view-versus-a-copy\n",
      "  data9[\"refaccionado\"] = data_refaccionado_column\n"
     ]
    }
   ],
   "source": [
    "#ahora tenemos todos los refaccionados como True en la columna \"refaccionados\", vamos a ver cuantos departamentos refaccionados hay\n",
    "#para eso definimos como 0 a las propiedades q no son 'refaccionadas' y como 1 las que si\n",
    "\n",
    "data_refaccionado_column =  data9.apply(lambda x: 0 if x.refaccionado == False else 1, axis=1)\n",
    "\n",
    "print(data_refaccionado_column.value_counts())\n",
    "\n",
    "data9[\"refaccionado\"] = data_refaccionado_column\n"
   ]
  },
  {
   "cell_type": "markdown",
   "id": "transsexual-ordinary",
   "metadata": {},
   "source": [
    "#### podemos decir q tenemos 1.671 propiedades que estan refaccionadas"
   ]
  },
  {
   "cell_type": "markdown",
   "id": "empty-party",
   "metadata": {},
   "source": [
    "- ### 4.2) buscamos las propiedades que tienen pileta"
   ]
  },
  {
   "cell_type": "code",
   "execution_count": 171,
   "id": "periodic-mount",
   "metadata": {},
   "outputs": [
    {
     "name": "stdout",
     "output_type": "stream",
     "text": [
      "                                                                                                                                                                                                                                                                                                                                                                                                                                                                                                                                                                                                                                                                                                                                                                                                                                                                                                                                                                                                                                    description  \\\n",
      "0                                                                                                                                                                                                                                                                                                                                                                                                                                                                                                                                                                                                                                                                                               2 AMBIENTES TIPO CASA PLANTA BAJA POR PASILLO, REFACCIONADO A NUEVO, PATIO GRANDE, CON LAVADERO, LIVING COMEDOR CON COCINA INTEGRADA, ARTEFACTO DE COCINA, ALACENA, BAÑO COMPLETO, Y DORMITORIO. TODO EN EXCELENTE ESTADO, PARA HABITAR.NO ES APTO CREDITO Aviso publicado por Pixel Inmobiliario (Servicio de Páginas Web para Inmobiliarias).   \n",
      "2                                                                                                                                                                                                                                                                                                                                                                                                                                                                                                                                                                                                                                                                                                                                                                                         2 AMBIENTES 3ER PISO LATERAL LIVING COMEDOR AMPLIO COCINA SEPARADA CON LAVADERO, BAÑO COMPLETO Y DORMITORIO CON PLACARD. BAJAS EXPENSAS, EXCELENTE UBICACION     Aviso publicado por Pixel Inmobiliario (Servicio de Páginas Web para Inmobiliarias).   \n",
      "4                                                                                                                                                                                                                                                                                                                                                                                                                                                                                                                                                                                                                                                                                                                  DEPARTAMENTO CON FANTÁSTICA ILUMINACIÓN NATURAL,  AL CONTRAFRENTE, EDIFICIO DE POCAS UNIDADES Y MUY BIEN CONSERVADO. EN ESTADO ORIGINAL.-POSEE: 1 DORMITORIOS,  1 BAÑO COMPLETO, LIVING COMEDOR Y COCINA SEPARADA.-EN ESTADO ORIGINAL.- Aviso publicado por Pixel Inmobiliario (Servicio de Páginas Web para Inmobiliarias).   \n",
      "5                                                                                                                                                                                                                                                                                                                                                         Casa en el perímetro del barrio 338, ubicada en el extremo sur este del barrio, sobre calle 3 de caballería casi Nágera. Vista libre a terreno en frente.Consta de dos dormitorios, baño, living cocina comedor integrado de buen tamaño, lavadero con despensero en aluminio.Patio privado con churrasquera, tapiales y puerta de acceso de servicio. Frente con rejas y pequeño patio con verde, porch de acceso.Gas natural en la puerta. Aire acondicionado frío/calor. Baulera para guardado sobre pasillo. Muy buen estado en general de pisos, revestimientos, pintura, etc.Apto crédito. Aviso publicado por Pixel Inmobiliario (Servicio de Páginas Web para Inmobiliarias).   \n",
      "6                                                                                                                                                                                                                                                                                                                                                                                                                                                                   MUY BUEN PH AL FRENTE CON ENTRADA INDEPENDIENTE - SIN EXPENSAS! TODO EN  PLANTA BAJA DOS DORMITORIOS (pisos de pinotea) - LIVING - COCINA COMEDOR - BAÑO - PATIO - GALPÓN Y LAVADERO EN EL PATIOEN MUY BUEN ESTADO - INMEJORABLE UBICACIÓN - A 1 CUADRA DE LA ESTACIÓN DE MUNRO -  CERCA DE MAS DE 6 LINEAS DE COLECTIVOS - A 2 CUADRAS DEL CENTRO UNIVERSITARIO. 106 m2 TOTALES: 78 m2 CUBIERTOS Y 28 m2 DESCUBIERTOSAPTO PROFESIONAL                                                 Aviso publicado por Pixel Inmobiliario (Servicio de Páginas Web para Inmobiliarias).   \n",
      "...                                                                                                                                                                                                                                                                                                                                                                                                                                                                                                                                                                                                                                                                                                                                                                                                                                                                                                                                                                                                                                         ...   \n",
      "121214                                                                                                                                                                                                                                                                                                                                                                                                                                                                                                                                 ***VENTA CON RENTA***Local en EDIFICIO lomas Park muy bien ubicado.Muy buen local súper luminoso,amplio salón de ventas y atención al público. Privado.2 baños. Kichinette. 3 Cocheras cubiertas. Estacionamiento de cortesía.VENTA CON RENTA: ALQUILADO A SEARCH SEGURIDAD Contrato por 5 años. Inicio Diciembre 2014 . Con proyección de quedarse, alquilan además  oficinas en el piso de arriba. Actualmente valor de Alquiler: U$S 1.338. -Para el 4to. año U$S 1.471.-Para el 5to. año U$S 1.619.-   \n",
      "121215                                                                                                                                                                                                                                                                                         TORRE FORUM ALCORTA - MÁXIMA CATEGORÍA.Impecable Departamento.Living comedor, toilette de recepción, con salida a un Balcón aterrazado con parrilla y mesa.2 dormitorios en suite, principal con vestidor.Cochera fijaOpción a compra de la segunda cochera.-Seguridad 24hs.-El complejo posee pileta de natación descubierta y pileta climatizada cubierta, Cancha de tenis cubierta y otra cancha de tenis descubierta, quincho con parrilla, gran salón de fiestas, plaza para chicos y micro cine. Las medidas, superficies y expensas consignadas en la presente descripción son aproximadas, a solo título orientativo y no son vinculantes. Las medidas y superficies reales surgen del Título respectivo. FEDERICO GALCERAN PROPIEDADES    \n",
      "121216  Excelente e impecable casa en Venta en Las Lomas de San Isidro.Construida por el Arq. Turienzo.12m de frente en una excelente manzana con mucha vegetación, muy buen acceso a 1 1/2 cuadra de Marquez y la entrada al Jockey club.En Planta superior:- Entrada principal a hall y entrada de servicio a la cocina- Toilette y placard de recepción- Muy buen living comedor con hogar, ventilación cruzada al frente y al jardin.- Amplia cocina con comedor diario- 3 Dormitorios 2 con placard de 3,50 x 3,50 y Suite ppal de 3,70 x 4,70 con vestidor de 2,95 x 2,45 y baño con Hidromasaje- Baño completoEn Planta inferior- Estar o Playroom con hogar a leña- Salon comedor - Cocina para el sector Play y Quincho- Baño completo- Pequeño taller- Sala de Maquinaria- Garage para 2 autos- Dependencia con su baño- Salida a al sector parrillaExterior:- Jardín al frente, laterales y al fondo- Muy buena pileta de 9 x 4- Pulmón de Manzana con variada vegetaciónToda la casa construida con excelente calidad y totalmen...   \n",
      "121217  VENTA DEPARTAMENTO AMBIENTE DIVISIBLE A ESTRENAR BALCON AMENITIES.ENTREGA INMEDIATA* DEPARTAMENTO: Excelente monoambiente de (43,00m2) divisible, con Importante Placard - Baño Completo - Balcón Corrido, Cocina Integrada con Equipamiento Completo y Herrajes de Acero Inoxidable, Grifería FV, Cocina con Horno, Termotanque Eléctrico, Servicios Individuales, Preinstalación Aire Acondicionado Frío-Calor, Conexión Lavarropas y Lavavajillas.* EDIFICIO: Moderno Edificio, Amenities - Laundry - Parrillas y Solarium - Terraza de uso común - Grupo Electrógeno.* COCHERAS DISPONIBLES DESDE USD 20.000* BARRIO: Nuevo Corredor urbano de 13 manzanas - Holmberg/Donado - Área parquizada  - Bicisendas  - Zona de importantes Embajadas - Rodeado de Espacios Verdes.* MEDIOS DE TRANSPORTE: Siete cuadras del subte B - Próximo a UBA( Drago), Colegio San Patrick, estaciones Drago y Coglhan.SI TENES QUE VENDER PARA COMPRAR // SOMOS ESPECIALISTAS EN OPERACIONES SIMULTANEAS// COMUNICATE CON NOSOTROS PARA ASESORAR...   \n",
      "121218                                                                                                                                                                                                                                                                                                                                                                                                                                                                                                      2 Amb al contrafrente,  luminoso. El departamento cuenta con living comedor con piso de cerámicos, dormitorio con pisos de parquet y placard empotrado, cocina separada y lavadero, dependencia y baño de servicio, baño completo. La propiedad se encuentra toda reciclada en impecable estado. Ubicado a metros de Plaza Colon y del mar. Piso 6ºUbicación: Colón e/ Entre Rios y Corrientes Valor: u$s 95.900Girard propiedades | Reg. 3150Entre Ríos 2140 | Mar del Plata | ArgentinaTel. +54 (0223) 495-5488 | (0223) 496-0021   \n",
      "\n",
      "       pileta  \n",
      "0       False  \n",
      "2       False  \n",
      "4       False  \n",
      "5       False  \n",
      "6       False  \n",
      "...       ...  \n",
      "121214  False  \n",
      "121215   True  \n",
      "121216   True  \n",
      "121217  False  \n",
      "121218  False  \n",
      "\n",
      "[97214 rows x 2 columns]\n"
     ]
    },
    {
     "name": "stderr",
     "output_type": "stream",
     "text": [
      "<ipython-input-171-9dd57b61ebfd>:3: SettingWithCopyWarning: \n",
      "A value is trying to be set on a copy of a slice from a DataFrame.\n",
      "Try using .loc[row_indexer,col_indexer] = value instead\n",
      "\n",
      "See the caveats in the documentation: https://pandas.pydata.org/pandas-docs/stable/user_guide/indexing.html#returning-a-view-versus-a-copy\n",
      "  data9[\"pileta\"] = data9.description.str.contains(r'(?i)pileta|piscina')\n"
     ]
    }
   ],
   "source": [
    "#ahora vamos a buscar los q tienen pileta\n",
    "\n",
    "data9[\"pileta\"] = data9.description.str.contains(r'(?i)pileta|piscina')\n",
    "print(data9[[\"description\",\"pileta\"]])"
   ]
  },
  {
   "cell_type": "code",
   "execution_count": 172,
   "id": "skilled-wiring",
   "metadata": {},
   "outputs": [
    {
     "name": "stdout",
     "output_type": "stream",
     "text": [
      "0    69638\n",
      "1    27576\n",
      "dtype: int64\n"
     ]
    },
    {
     "name": "stderr",
     "output_type": "stream",
     "text": [
      "<ipython-input-172-cc06e5ab2693>:8: SettingWithCopyWarning: \n",
      "A value is trying to be set on a copy of a slice from a DataFrame.\n",
      "Try using .loc[row_indexer,col_indexer] = value instead\n",
      "\n",
      "See the caveats in the documentation: https://pandas.pydata.org/pandas-docs/stable/user_guide/indexing.html#returning-a-view-versus-a-copy\n",
      "  data9[\"pileta\"] = data_pileta_column\n"
     ]
    },
    {
     "data": {
      "text/plain": [
       "0         0\n",
       "2         0\n",
       "4         0\n",
       "5         0\n",
       "6         0\n",
       "         ..\n",
       "121214    0\n",
       "121215    1\n",
       "121216    1\n",
       "121217    0\n",
       "121218    0\n",
       "Name: pileta, Length: 97214, dtype: int64"
      ]
     },
     "execution_count": 172,
     "metadata": {},
     "output_type": "execute_result"
    }
   ],
   "source": [
    "#hacemos lo mismo de ver cuantas propeidades tienen pileta y ponemos 0 las que no tiene (osea q son false) y 1 las q si\n",
    "\n",
    "data_pileta_column =  data9.apply(lambda x: 0 if x.pileta == False else 1, axis=1)\n",
    "\n",
    "print(data_pileta_column.value_counts())\n",
    "\n",
    "#ponemos la data de pileta en la columna pileta del data frame\n",
    "data9[\"pileta\"] = data_pileta_column\n",
    "\n",
    "#ahi quedo la columna pileta con 0s y 1s \n",
    "data9[\"pileta\"] \n"
   ]
  },
  {
   "cell_type": "markdown",
   "id": "noble-transfer",
   "metadata": {},
   "source": [
    "#### podemos decir q tenemos 27.576 propiedades con pileta"
   ]
  },
  {
   "cell_type": "markdown",
   "id": "capital-potato",
   "metadata": {},
   "source": [
    "- ### 4.3) buscamos las propiedades que tienen amenities"
   ]
  },
  {
   "cell_type": "code",
   "execution_count": 173,
   "id": "cooked-abuse",
   "metadata": {},
   "outputs": [
    {
     "name": "stdout",
     "output_type": "stream",
     "text": [
      "                                                                                                                                                                                                                                                                                                                                                                                                                                                                                                                                                                                                                                                                                                                                                                                                                                                                                                                                                                                                                                    description  \\\n",
      "0                                                                                                                                                                                                                                                                                                                                                                                                                                                                                                                                                                                                                                                                                               2 AMBIENTES TIPO CASA PLANTA BAJA POR PASILLO, REFACCIONADO A NUEVO, PATIO GRANDE, CON LAVADERO, LIVING COMEDOR CON COCINA INTEGRADA, ARTEFACTO DE COCINA, ALACENA, BAÑO COMPLETO, Y DORMITORIO. TODO EN EXCELENTE ESTADO, PARA HABITAR.NO ES APTO CREDITO Aviso publicado por Pixel Inmobiliario (Servicio de Páginas Web para Inmobiliarias).   \n",
      "2                                                                                                                                                                                                                                                                                                                                                                                                                                                                                                                                                                                                                                                                                                                                                                                         2 AMBIENTES 3ER PISO LATERAL LIVING COMEDOR AMPLIO COCINA SEPARADA CON LAVADERO, BAÑO COMPLETO Y DORMITORIO CON PLACARD. BAJAS EXPENSAS, EXCELENTE UBICACION     Aviso publicado por Pixel Inmobiliario (Servicio de Páginas Web para Inmobiliarias).   \n",
      "4                                                                                                                                                                                                                                                                                                                                                                                                                                                                                                                                                                                                                                                                                                                  DEPARTAMENTO CON FANTÁSTICA ILUMINACIÓN NATURAL,  AL CONTRAFRENTE, EDIFICIO DE POCAS UNIDADES Y MUY BIEN CONSERVADO. EN ESTADO ORIGINAL.-POSEE: 1 DORMITORIOS,  1 BAÑO COMPLETO, LIVING COMEDOR Y COCINA SEPARADA.-EN ESTADO ORIGINAL.- Aviso publicado por Pixel Inmobiliario (Servicio de Páginas Web para Inmobiliarias).   \n",
      "5                                                                                                                                                                                                                                                                                                                                                         Casa en el perímetro del barrio 338, ubicada en el extremo sur este del barrio, sobre calle 3 de caballería casi Nágera. Vista libre a terreno en frente.Consta de dos dormitorios, baño, living cocina comedor integrado de buen tamaño, lavadero con despensero en aluminio.Patio privado con churrasquera, tapiales y puerta de acceso de servicio. Frente con rejas y pequeño patio con verde, porch de acceso.Gas natural en la puerta. Aire acondicionado frío/calor. Baulera para guardado sobre pasillo. Muy buen estado en general de pisos, revestimientos, pintura, etc.Apto crédito. Aviso publicado por Pixel Inmobiliario (Servicio de Páginas Web para Inmobiliarias).   \n",
      "6                                                                                                                                                                                                                                                                                                                                                                                                                                                                   MUY BUEN PH AL FRENTE CON ENTRADA INDEPENDIENTE - SIN EXPENSAS! TODO EN  PLANTA BAJA DOS DORMITORIOS (pisos de pinotea) - LIVING - COCINA COMEDOR - BAÑO - PATIO - GALPÓN Y LAVADERO EN EL PATIOEN MUY BUEN ESTADO - INMEJORABLE UBICACIÓN - A 1 CUADRA DE LA ESTACIÓN DE MUNRO -  CERCA DE MAS DE 6 LINEAS DE COLECTIVOS - A 2 CUADRAS DEL CENTRO UNIVERSITARIO. 106 m2 TOTALES: 78 m2 CUBIERTOS Y 28 m2 DESCUBIERTOSAPTO PROFESIONAL                                                 Aviso publicado por Pixel Inmobiliario (Servicio de Páginas Web para Inmobiliarias).   \n",
      "...                                                                                                                                                                                                                                                                                                                                                                                                                                                                                                                                                                                                                                                                                                                                                                                                                                                                                                                                                                                                                                         ...   \n",
      "121214                                                                                                                                                                                                                                                                                                                                                                                                                                                                                                                                 ***VENTA CON RENTA***Local en EDIFICIO lomas Park muy bien ubicado.Muy buen local súper luminoso,amplio salón de ventas y atención al público. Privado.2 baños. Kichinette. 3 Cocheras cubiertas. Estacionamiento de cortesía.VENTA CON RENTA: ALQUILADO A SEARCH SEGURIDAD Contrato por 5 años. Inicio Diciembre 2014 . Con proyección de quedarse, alquilan además  oficinas en el piso de arriba. Actualmente valor de Alquiler: U$S 1.338. -Para el 4to. año U$S 1.471.-Para el 5to. año U$S 1.619.-   \n",
      "121215                                                                                                                                                                                                                                                                                         TORRE FORUM ALCORTA - MÁXIMA CATEGORÍA.Impecable Departamento.Living comedor, toilette de recepción, con salida a un Balcón aterrazado con parrilla y mesa.2 dormitorios en suite, principal con vestidor.Cochera fijaOpción a compra de la segunda cochera.-Seguridad 24hs.-El complejo posee pileta de natación descubierta y pileta climatizada cubierta, Cancha de tenis cubierta y otra cancha de tenis descubierta, quincho con parrilla, gran salón de fiestas, plaza para chicos y micro cine. Las medidas, superficies y expensas consignadas en la presente descripción son aproximadas, a solo título orientativo y no son vinculantes. Las medidas y superficies reales surgen del Título respectivo. FEDERICO GALCERAN PROPIEDADES    \n",
      "121216  Excelente e impecable casa en Venta en Las Lomas de San Isidro.Construida por el Arq. Turienzo.12m de frente en una excelente manzana con mucha vegetación, muy buen acceso a 1 1/2 cuadra de Marquez y la entrada al Jockey club.En Planta superior:- Entrada principal a hall y entrada de servicio a la cocina- Toilette y placard de recepción- Muy buen living comedor con hogar, ventilación cruzada al frente y al jardin.- Amplia cocina con comedor diario- 3 Dormitorios 2 con placard de 3,50 x 3,50 y Suite ppal de 3,70 x 4,70 con vestidor de 2,95 x 2,45 y baño con Hidromasaje- Baño completoEn Planta inferior- Estar o Playroom con hogar a leña- Salon comedor - Cocina para el sector Play y Quincho- Baño completo- Pequeño taller- Sala de Maquinaria- Garage para 2 autos- Dependencia con su baño- Salida a al sector parrillaExterior:- Jardín al frente, laterales y al fondo- Muy buena pileta de 9 x 4- Pulmón de Manzana con variada vegetaciónToda la casa construida con excelente calidad y totalmen...   \n",
      "121217  VENTA DEPARTAMENTO AMBIENTE DIVISIBLE A ESTRENAR BALCON AMENITIES.ENTREGA INMEDIATA* DEPARTAMENTO: Excelente monoambiente de (43,00m2) divisible, con Importante Placard - Baño Completo - Balcón Corrido, Cocina Integrada con Equipamiento Completo y Herrajes de Acero Inoxidable, Grifería FV, Cocina con Horno, Termotanque Eléctrico, Servicios Individuales, Preinstalación Aire Acondicionado Frío-Calor, Conexión Lavarropas y Lavavajillas.* EDIFICIO: Moderno Edificio, Amenities - Laundry - Parrillas y Solarium - Terraza de uso común - Grupo Electrógeno.* COCHERAS DISPONIBLES DESDE USD 20.000* BARRIO: Nuevo Corredor urbano de 13 manzanas - Holmberg/Donado - Área parquizada  - Bicisendas  - Zona de importantes Embajadas - Rodeado de Espacios Verdes.* MEDIOS DE TRANSPORTE: Siete cuadras del subte B - Próximo a UBA( Drago), Colegio San Patrick, estaciones Drago y Coglhan.SI TENES QUE VENDER PARA COMPRAR // SOMOS ESPECIALISTAS EN OPERACIONES SIMULTANEAS// COMUNICATE CON NOSOTROS PARA ASESORAR...   \n",
      "121218                                                                                                                                                                                                                                                                                                                                                                                                                                                                                                      2 Amb al contrafrente,  luminoso. El departamento cuenta con living comedor con piso de cerámicos, dormitorio con pisos de parquet y placard empotrado, cocina separada y lavadero, dependencia y baño de servicio, baño completo. La propiedad se encuentra toda reciclada en impecable estado. Ubicado a metros de Plaza Colon y del mar. Piso 6ºUbicación: Colón e/ Entre Rios y Corrientes Valor: u$s 95.900Girard propiedades | Reg. 3150Entre Ríos 2140 | Mar del Plata | ArgentinaTel. +54 (0223) 495-5488 | (0223) 496-0021   \n",
      "\n",
      "       amenities  \n",
      "0          False  \n",
      "2          False  \n",
      "4          False  \n",
      "5          False  \n",
      "6          False  \n",
      "...          ...  \n",
      "121214     False  \n",
      "121215     False  \n",
      "121216     False  \n",
      "121217      True  \n",
      "121218     False  \n",
      "\n",
      "[97214 rows x 2 columns]\n"
     ]
    },
    {
     "name": "stderr",
     "output_type": "stream",
     "text": [
      "<ipython-input-173-3032897f3e07>:3: SettingWithCopyWarning: \n",
      "A value is trying to be set on a copy of a slice from a DataFrame.\n",
      "Try using .loc[row_indexer,col_indexer] = value instead\n",
      "\n",
      "See the caveats in the documentation: https://pandas.pydata.org/pandas-docs/stable/user_guide/indexing.html#returning-a-view-versus-a-copy\n",
      "  data9[\"amenities\"] = data9.description.str.contains(r'(?i)amenities')\n"
     ]
    }
   ],
   "source": [
    "#ahora vamos a buscar los q tienen amenities\n",
    "\n",
    "data9[\"amenities\"] = data9.description.str.contains(r'(?i)amenities')\n",
    "print(data9[[\"description\",\"amenities\"]])"
   ]
  },
  {
   "cell_type": "code",
   "execution_count": 174,
   "id": "removed-information",
   "metadata": {},
   "outputs": [
    {
     "name": "stdout",
     "output_type": "stream",
     "text": [
      "0    88348\n",
      "1     8866\n",
      "dtype: int64\n"
     ]
    }
   ],
   "source": [
    "#hacemos lo mismo de ver cuantas propeidades tienen amenities y ponemos 0 las que no tiene (osea q son false) y 1 las q si\n",
    "\n",
    "data_amenities_column =  data9.apply(lambda x: 0 if x.amenities == False else 1, axis=1)\n",
    "\n",
    "print(data_amenities_column.value_counts())\n"
   ]
  },
  {
   "cell_type": "code",
   "execution_count": 175,
   "id": "unavailable-paper",
   "metadata": {},
   "outputs": [
    {
     "name": "stderr",
     "output_type": "stream",
     "text": [
      "<ipython-input-175-04b05b4dc7e5>:2: SettingWithCopyWarning: \n",
      "A value is trying to be set on a copy of a slice from a DataFrame.\n",
      "Try using .loc[row_indexer,col_indexer] = value instead\n",
      "\n",
      "See the caveats in the documentation: https://pandas.pydata.org/pandas-docs/stable/user_guide/indexing.html#returning-a-view-versus-a-copy\n",
      "  data9[\"amenities\"] = data_amenities_column\n"
     ]
    },
    {
     "data": {
      "text/plain": [
       "0         0\n",
       "2         0\n",
       "4         0\n",
       "5         0\n",
       "6         0\n",
       "         ..\n",
       "121214    0\n",
       "121215    0\n",
       "121216    0\n",
       "121217    1\n",
       "121218    0\n",
       "Name: amenities, Length: 97214, dtype: int64"
      ]
     },
     "execution_count": 175,
     "metadata": {},
     "output_type": "execute_result"
    }
   ],
   "source": [
    "#ponemos la data de amenities en la columna amenities del data frame\n",
    "data9[\"amenities\"] = data_amenities_column\n",
    "\n",
    "#ahi quedo la columna amenities con 0s y 1s \n",
    "data9[\"amenities\"] \n"
   ]
  },
  {
   "cell_type": "markdown",
   "id": "improving-picnic",
   "metadata": {},
   "source": [
    "#### podemos decir q tenemos 8.866 propiedades con amenities"
   ]
  },
  {
   "cell_type": "markdown",
   "id": "accepting-advice",
   "metadata": {},
   "source": [
    "- ### 4.4) buscamos las propiedades que tienen cochera"
   ]
  },
  {
   "cell_type": "code",
   "execution_count": 176,
   "id": "settled-referral",
   "metadata": {},
   "outputs": [
    {
     "name": "stdout",
     "output_type": "stream",
     "text": [
      "                                                                                                                                                                                                                                                                                                                                                                                                                                                                                                                                                                                                                                                                                                                                                                                                                                                                                                                                                                                                                                    description  \\\n",
      "0                                                                                                                                                                                                                                                                                                                                                                                                                                                                                                                                                                                                                                                                                               2 AMBIENTES TIPO CASA PLANTA BAJA POR PASILLO, REFACCIONADO A NUEVO, PATIO GRANDE, CON LAVADERO, LIVING COMEDOR CON COCINA INTEGRADA, ARTEFACTO DE COCINA, ALACENA, BAÑO COMPLETO, Y DORMITORIO. TODO EN EXCELENTE ESTADO, PARA HABITAR.NO ES APTO CREDITO Aviso publicado por Pixel Inmobiliario (Servicio de Páginas Web para Inmobiliarias).   \n",
      "2                                                                                                                                                                                                                                                                                                                                                                                                                                                                                                                                                                                                                                                                                                                                                                                         2 AMBIENTES 3ER PISO LATERAL LIVING COMEDOR AMPLIO COCINA SEPARADA CON LAVADERO, BAÑO COMPLETO Y DORMITORIO CON PLACARD. BAJAS EXPENSAS, EXCELENTE UBICACION     Aviso publicado por Pixel Inmobiliario (Servicio de Páginas Web para Inmobiliarias).   \n",
      "4                                                                                                                                                                                                                                                                                                                                                                                                                                                                                                                                                                                                                                                                                                                  DEPARTAMENTO CON FANTÁSTICA ILUMINACIÓN NATURAL,  AL CONTRAFRENTE, EDIFICIO DE POCAS UNIDADES Y MUY BIEN CONSERVADO. EN ESTADO ORIGINAL.-POSEE: 1 DORMITORIOS,  1 BAÑO COMPLETO, LIVING COMEDOR Y COCINA SEPARADA.-EN ESTADO ORIGINAL.- Aviso publicado por Pixel Inmobiliario (Servicio de Páginas Web para Inmobiliarias).   \n",
      "5                                                                                                                                                                                                                                                                                                                                                         Casa en el perímetro del barrio 338, ubicada en el extremo sur este del barrio, sobre calle 3 de caballería casi Nágera. Vista libre a terreno en frente.Consta de dos dormitorios, baño, living cocina comedor integrado de buen tamaño, lavadero con despensero en aluminio.Patio privado con churrasquera, tapiales y puerta de acceso de servicio. Frente con rejas y pequeño patio con verde, porch de acceso.Gas natural en la puerta. Aire acondicionado frío/calor. Baulera para guardado sobre pasillo. Muy buen estado en general de pisos, revestimientos, pintura, etc.Apto crédito. Aviso publicado por Pixel Inmobiliario (Servicio de Páginas Web para Inmobiliarias).   \n",
      "6                                                                                                                                                                                                                                                                                                                                                                                                                                                                   MUY BUEN PH AL FRENTE CON ENTRADA INDEPENDIENTE - SIN EXPENSAS! TODO EN  PLANTA BAJA DOS DORMITORIOS (pisos de pinotea) - LIVING - COCINA COMEDOR - BAÑO - PATIO - GALPÓN Y LAVADERO EN EL PATIOEN MUY BUEN ESTADO - INMEJORABLE UBICACIÓN - A 1 CUADRA DE LA ESTACIÓN DE MUNRO -  CERCA DE MAS DE 6 LINEAS DE COLECTIVOS - A 2 CUADRAS DEL CENTRO UNIVERSITARIO. 106 m2 TOTALES: 78 m2 CUBIERTOS Y 28 m2 DESCUBIERTOSAPTO PROFESIONAL                                                 Aviso publicado por Pixel Inmobiliario (Servicio de Páginas Web para Inmobiliarias).   \n",
      "...                                                                                                                                                                                                                                                                                                                                                                                                                                                                                                                                                                                                                                                                                                                                                                                                                                                                                                                                                                                                                                         ...   \n",
      "121214                                                                                                                                                                                                                                                                                                                                                                                                                                                                                                                                 ***VENTA CON RENTA***Local en EDIFICIO lomas Park muy bien ubicado.Muy buen local súper luminoso,amplio salón de ventas y atención al público. Privado.2 baños. Kichinette. 3 Cocheras cubiertas. Estacionamiento de cortesía.VENTA CON RENTA: ALQUILADO A SEARCH SEGURIDAD Contrato por 5 años. Inicio Diciembre 2014 . Con proyección de quedarse, alquilan además  oficinas en el piso de arriba. Actualmente valor de Alquiler: U$S 1.338. -Para el 4to. año U$S 1.471.-Para el 5to. año U$S 1.619.-   \n",
      "121215                                                                                                                                                                                                                                                                                         TORRE FORUM ALCORTA - MÁXIMA CATEGORÍA.Impecable Departamento.Living comedor, toilette de recepción, con salida a un Balcón aterrazado con parrilla y mesa.2 dormitorios en suite, principal con vestidor.Cochera fijaOpción a compra de la segunda cochera.-Seguridad 24hs.-El complejo posee pileta de natación descubierta y pileta climatizada cubierta, Cancha de tenis cubierta y otra cancha de tenis descubierta, quincho con parrilla, gran salón de fiestas, plaza para chicos y micro cine. Las medidas, superficies y expensas consignadas en la presente descripción son aproximadas, a solo título orientativo y no son vinculantes. Las medidas y superficies reales surgen del Título respectivo. FEDERICO GALCERAN PROPIEDADES    \n",
      "121216  Excelente e impecable casa en Venta en Las Lomas de San Isidro.Construida por el Arq. Turienzo.12m de frente en una excelente manzana con mucha vegetación, muy buen acceso a 1 1/2 cuadra de Marquez y la entrada al Jockey club.En Planta superior:- Entrada principal a hall y entrada de servicio a la cocina- Toilette y placard de recepción- Muy buen living comedor con hogar, ventilación cruzada al frente y al jardin.- Amplia cocina con comedor diario- 3 Dormitorios 2 con placard de 3,50 x 3,50 y Suite ppal de 3,70 x 4,70 con vestidor de 2,95 x 2,45 y baño con Hidromasaje- Baño completoEn Planta inferior- Estar o Playroom con hogar a leña- Salon comedor - Cocina para el sector Play y Quincho- Baño completo- Pequeño taller- Sala de Maquinaria- Garage para 2 autos- Dependencia con su baño- Salida a al sector parrillaExterior:- Jardín al frente, laterales y al fondo- Muy buena pileta de 9 x 4- Pulmón de Manzana con variada vegetaciónToda la casa construida con excelente calidad y totalmen...   \n",
      "121217  VENTA DEPARTAMENTO AMBIENTE DIVISIBLE A ESTRENAR BALCON AMENITIES.ENTREGA INMEDIATA* DEPARTAMENTO: Excelente monoambiente de (43,00m2) divisible, con Importante Placard - Baño Completo - Balcón Corrido, Cocina Integrada con Equipamiento Completo y Herrajes de Acero Inoxidable, Grifería FV, Cocina con Horno, Termotanque Eléctrico, Servicios Individuales, Preinstalación Aire Acondicionado Frío-Calor, Conexión Lavarropas y Lavavajillas.* EDIFICIO: Moderno Edificio, Amenities - Laundry - Parrillas y Solarium - Terraza de uso común - Grupo Electrógeno.* COCHERAS DISPONIBLES DESDE USD 20.000* BARRIO: Nuevo Corredor urbano de 13 manzanas - Holmberg/Donado - Área parquizada  - Bicisendas  - Zona de importantes Embajadas - Rodeado de Espacios Verdes.* MEDIOS DE TRANSPORTE: Siete cuadras del subte B - Próximo a UBA( Drago), Colegio San Patrick, estaciones Drago y Coglhan.SI TENES QUE VENDER PARA COMPRAR // SOMOS ESPECIALISTAS EN OPERACIONES SIMULTANEAS// COMUNICATE CON NOSOTROS PARA ASESORAR...   \n",
      "121218                                                                                                                                                                                                                                                                                                                                                                                                                                                                                                      2 Amb al contrafrente,  luminoso. El departamento cuenta con living comedor con piso de cerámicos, dormitorio con pisos de parquet y placard empotrado, cocina separada y lavadero, dependencia y baño de servicio, baño completo. La propiedad se encuentra toda reciclada en impecable estado. Ubicado a metros de Plaza Colon y del mar. Piso 6ºUbicación: Colón e/ Entre Rios y Corrientes Valor: u$s 95.900Girard propiedades | Reg. 3150Entre Ríos 2140 | Mar del Plata | ArgentinaTel. +54 (0223) 495-5488 | (0223) 496-0021   \n",
      "\n",
      "       cochera  \n",
      "0        False  \n",
      "2        False  \n",
      "4        False  \n",
      "5        False  \n",
      "6        False  \n",
      "...        ...  \n",
      "121214    True  \n",
      "121215    True  \n",
      "121216   False  \n",
      "121217    True  \n",
      "121218   False  \n",
      "\n",
      "[97214 rows x 2 columns]\n"
     ]
    },
    {
     "name": "stderr",
     "output_type": "stream",
     "text": [
      "<ipython-input-176-e036e10a3ecc>:3: SettingWithCopyWarning: \n",
      "A value is trying to be set on a copy of a slice from a DataFrame.\n",
      "Try using .loc[row_indexer,col_indexer] = value instead\n",
      "\n",
      "See the caveats in the documentation: https://pandas.pydata.org/pandas-docs/stable/user_guide/indexing.html#returning-a-view-versus-a-copy\n",
      "  data9[\"cochera\"] = data9.description.str.contains(r'(?i)cochera')\n"
     ]
    }
   ],
   "source": [
    "#ahora vamos a buscar los q tienen cochera\n",
    "\n",
    "data9[\"cochera\"] = data9.description.str.contains(r'(?i)cochera')\n",
    "print(data9[[\"description\",\"cochera\"]])"
   ]
  },
  {
   "cell_type": "code",
   "execution_count": 177,
   "id": "particular-parallel",
   "metadata": {},
   "outputs": [
    {
     "name": "stdout",
     "output_type": "stream",
     "text": [
      "0    62148\n",
      "1    35066\n",
      "dtype: int64\n"
     ]
    },
    {
     "name": "stderr",
     "output_type": "stream",
     "text": [
      "<ipython-input-177-ad67f3e72d48>:7: SettingWithCopyWarning: \n",
      "A value is trying to be set on a copy of a slice from a DataFrame.\n",
      "Try using .loc[row_indexer,col_indexer] = value instead\n",
      "\n",
      "See the caveats in the documentation: https://pandas.pydata.org/pandas-docs/stable/user_guide/indexing.html#returning-a-view-versus-a-copy\n",
      "  data9[\"cochera\"] = data_cochera_column\n"
     ]
    }
   ],
   "source": [
    "#hacemos lo mismo de ver cuantas propeidades tienen cochera y ponemos 0 las que no tiene (osea q son false) y 1 las q si\n",
    "\n",
    "data_cochera_column =  data9.apply(lambda x: 0 if x.cochera == False else 1, axis=1)\n",
    "\n",
    "print(data_cochera_column.value_counts())\n",
    "\n",
    "data9[\"cochera\"] = data_cochera_column"
   ]
  },
  {
   "cell_type": "markdown",
   "id": "assured-director",
   "metadata": {},
   "source": [
    "#### podemos decir q tenemos 35.066 propiedades con cochera"
   ]
  },
  {
   "cell_type": "markdown",
   "id": "functional-difference",
   "metadata": {},
   "source": [
    "- ### 4.5) buscamos las propiedades que se venden con financiacion y que muchas veces afectan el precio"
   ]
  },
  {
   "cell_type": "code",
   "execution_count": 178,
   "id": "aboriginal-contact",
   "metadata": {},
   "outputs": [
    {
     "name": "stdout",
     "output_type": "stream",
     "text": [
      "                                                                                                                                                                                                                                                                                                                                                                                                                                                                                                                                                                                                                                                                                                                                                                                                                                                                                                                                                                                                                                    description  \\\n",
      "0                                                                                                                                                                                                                                                                                                                                                                                                                                                                                                                                                                                                                                                                                               2 AMBIENTES TIPO CASA PLANTA BAJA POR PASILLO, REFACCIONADO A NUEVO, PATIO GRANDE, CON LAVADERO, LIVING COMEDOR CON COCINA INTEGRADA, ARTEFACTO DE COCINA, ALACENA, BAÑO COMPLETO, Y DORMITORIO. TODO EN EXCELENTE ESTADO, PARA HABITAR.NO ES APTO CREDITO Aviso publicado por Pixel Inmobiliario (Servicio de Páginas Web para Inmobiliarias).   \n",
      "2                                                                                                                                                                                                                                                                                                                                                                                                                                                                                                                                                                                                                                                                                                                                                                                         2 AMBIENTES 3ER PISO LATERAL LIVING COMEDOR AMPLIO COCINA SEPARADA CON LAVADERO, BAÑO COMPLETO Y DORMITORIO CON PLACARD. BAJAS EXPENSAS, EXCELENTE UBICACION     Aviso publicado por Pixel Inmobiliario (Servicio de Páginas Web para Inmobiliarias).   \n",
      "4                                                                                                                                                                                                                                                                                                                                                                                                                                                                                                                                                                                                                                                                                                                  DEPARTAMENTO CON FANTÁSTICA ILUMINACIÓN NATURAL,  AL CONTRAFRENTE, EDIFICIO DE POCAS UNIDADES Y MUY BIEN CONSERVADO. EN ESTADO ORIGINAL.-POSEE: 1 DORMITORIOS,  1 BAÑO COMPLETO, LIVING COMEDOR Y COCINA SEPARADA.-EN ESTADO ORIGINAL.- Aviso publicado por Pixel Inmobiliario (Servicio de Páginas Web para Inmobiliarias).   \n",
      "5                                                                                                                                                                                                                                                                                                                                                         Casa en el perímetro del barrio 338, ubicada en el extremo sur este del barrio, sobre calle 3 de caballería casi Nágera. Vista libre a terreno en frente.Consta de dos dormitorios, baño, living cocina comedor integrado de buen tamaño, lavadero con despensero en aluminio.Patio privado con churrasquera, tapiales y puerta de acceso de servicio. Frente con rejas y pequeño patio con verde, porch de acceso.Gas natural en la puerta. Aire acondicionado frío/calor. Baulera para guardado sobre pasillo. Muy buen estado en general de pisos, revestimientos, pintura, etc.Apto crédito. Aviso publicado por Pixel Inmobiliario (Servicio de Páginas Web para Inmobiliarias).   \n",
      "6                                                                                                                                                                                                                                                                                                                                                                                                                                                                   MUY BUEN PH AL FRENTE CON ENTRADA INDEPENDIENTE - SIN EXPENSAS! TODO EN  PLANTA BAJA DOS DORMITORIOS (pisos de pinotea) - LIVING - COCINA COMEDOR - BAÑO - PATIO - GALPÓN Y LAVADERO EN EL PATIOEN MUY BUEN ESTADO - INMEJORABLE UBICACIÓN - A 1 CUADRA DE LA ESTACIÓN DE MUNRO -  CERCA DE MAS DE 6 LINEAS DE COLECTIVOS - A 2 CUADRAS DEL CENTRO UNIVERSITARIO. 106 m2 TOTALES: 78 m2 CUBIERTOS Y 28 m2 DESCUBIERTOSAPTO PROFESIONAL                                                 Aviso publicado por Pixel Inmobiliario (Servicio de Páginas Web para Inmobiliarias).   \n",
      "...                                                                                                                                                                                                                                                                                                                                                                                                                                                                                                                                                                                                                                                                                                                                                                                                                                                                                                                                                                                                                                         ...   \n",
      "121214                                                                                                                                                                                                                                                                                                                                                                                                                                                                                                                                 ***VENTA CON RENTA***Local en EDIFICIO lomas Park muy bien ubicado.Muy buen local súper luminoso,amplio salón de ventas y atención al público. Privado.2 baños. Kichinette. 3 Cocheras cubiertas. Estacionamiento de cortesía.VENTA CON RENTA: ALQUILADO A SEARCH SEGURIDAD Contrato por 5 años. Inicio Diciembre 2014 . Con proyección de quedarse, alquilan además  oficinas en el piso de arriba. Actualmente valor de Alquiler: U$S 1.338. -Para el 4to. año U$S 1.471.-Para el 5to. año U$S 1.619.-   \n",
      "121215                                                                                                                                                                                                                                                                                         TORRE FORUM ALCORTA - MÁXIMA CATEGORÍA.Impecable Departamento.Living comedor, toilette de recepción, con salida a un Balcón aterrazado con parrilla y mesa.2 dormitorios en suite, principal con vestidor.Cochera fijaOpción a compra de la segunda cochera.-Seguridad 24hs.-El complejo posee pileta de natación descubierta y pileta climatizada cubierta, Cancha de tenis cubierta y otra cancha de tenis descubierta, quincho con parrilla, gran salón de fiestas, plaza para chicos y micro cine. Las medidas, superficies y expensas consignadas en la presente descripción son aproximadas, a solo título orientativo y no son vinculantes. Las medidas y superficies reales surgen del Título respectivo. FEDERICO GALCERAN PROPIEDADES    \n",
      "121216  Excelente e impecable casa en Venta en Las Lomas de San Isidro.Construida por el Arq. Turienzo.12m de frente en una excelente manzana con mucha vegetación, muy buen acceso a 1 1/2 cuadra de Marquez y la entrada al Jockey club.En Planta superior:- Entrada principal a hall y entrada de servicio a la cocina- Toilette y placard de recepción- Muy buen living comedor con hogar, ventilación cruzada al frente y al jardin.- Amplia cocina con comedor diario- 3 Dormitorios 2 con placard de 3,50 x 3,50 y Suite ppal de 3,70 x 4,70 con vestidor de 2,95 x 2,45 y baño con Hidromasaje- Baño completoEn Planta inferior- Estar o Playroom con hogar a leña- Salon comedor - Cocina para el sector Play y Quincho- Baño completo- Pequeño taller- Sala de Maquinaria- Garage para 2 autos- Dependencia con su baño- Salida a al sector parrillaExterior:- Jardín al frente, laterales y al fondo- Muy buena pileta de 9 x 4- Pulmón de Manzana con variada vegetaciónToda la casa construida con excelente calidad y totalmen...   \n",
      "121217  VENTA DEPARTAMENTO AMBIENTE DIVISIBLE A ESTRENAR BALCON AMENITIES.ENTREGA INMEDIATA* DEPARTAMENTO: Excelente monoambiente de (43,00m2) divisible, con Importante Placard - Baño Completo - Balcón Corrido, Cocina Integrada con Equipamiento Completo y Herrajes de Acero Inoxidable, Grifería FV, Cocina con Horno, Termotanque Eléctrico, Servicios Individuales, Preinstalación Aire Acondicionado Frío-Calor, Conexión Lavarropas y Lavavajillas.* EDIFICIO: Moderno Edificio, Amenities - Laundry - Parrillas y Solarium - Terraza de uso común - Grupo Electrógeno.* COCHERAS DISPONIBLES DESDE USD 20.000* BARRIO: Nuevo Corredor urbano de 13 manzanas - Holmberg/Donado - Área parquizada  - Bicisendas  - Zona de importantes Embajadas - Rodeado de Espacios Verdes.* MEDIOS DE TRANSPORTE: Siete cuadras del subte B - Próximo a UBA( Drago), Colegio San Patrick, estaciones Drago y Coglhan.SI TENES QUE VENDER PARA COMPRAR // SOMOS ESPECIALISTAS EN OPERACIONES SIMULTANEAS// COMUNICATE CON NOSOTROS PARA ASESORAR...   \n",
      "121218                                                                                                                                                                                                                                                                                                                                                                                                                                                                                                      2 Amb al contrafrente,  luminoso. El departamento cuenta con living comedor con piso de cerámicos, dormitorio con pisos de parquet y placard empotrado, cocina separada y lavadero, dependencia y baño de servicio, baño completo. La propiedad se encuentra toda reciclada en impecable estado. Ubicado a metros de Plaza Colon y del mar. Piso 6ºUbicación: Colón e/ Entre Rios y Corrientes Valor: u$s 95.900Girard propiedades | Reg. 3150Entre Ríos 2140 | Mar del Plata | ArgentinaTel. +54 (0223) 495-5488 | (0223) 496-0021   \n",
      "\n",
      "       financiacion  \n",
      "0             False  \n",
      "2             False  \n",
      "4             False  \n",
      "5             False  \n",
      "6             False  \n",
      "...             ...  \n",
      "121214        False  \n",
      "121215        False  \n",
      "121216        False  \n",
      "121217        False  \n",
      "121218        False  \n",
      "\n",
      "[97214 rows x 2 columns]\n"
     ]
    },
    {
     "name": "stderr",
     "output_type": "stream",
     "text": [
      "<ipython-input-178-7127358678c4>:3: SettingWithCopyWarning: \n",
      "A value is trying to be set on a copy of a slice from a DataFrame.\n",
      "Try using .loc[row_indexer,col_indexer] = value instead\n",
      "\n",
      "See the caveats in the documentation: https://pandas.pydata.org/pandas-docs/stable/user_guide/indexing.html#returning-a-view-versus-a-copy\n",
      "  data9[\"financiacion\"] = data9.description.str.contains(r'(?i)financiacion|cuota')\n"
     ]
    }
   ],
   "source": [
    "#ahora vamos a buscar los q dicen cuotas o financiacion porque muchas veces me contaminan el precio, poniendo el valot de una cuota y que luego me afecta el precio por m2\n",
    "\n",
    "data9[\"financiacion\"] = data9.description.str.contains(r'(?i)financiacion|cuota')\n",
    "print(data9[[\"description\",\"financiacion\"]])"
   ]
  },
  {
   "cell_type": "code",
   "execution_count": 179,
   "id": "tamil-singer",
   "metadata": {},
   "outputs": [
    {
     "name": "stdout",
     "output_type": "stream",
     "text": [
      "0    88687\n",
      "1     8527\n",
      "dtype: int64\n"
     ]
    },
    {
     "name": "stderr",
     "output_type": "stream",
     "text": [
      "<ipython-input-179-f3d24251f1f5>:7: SettingWithCopyWarning: \n",
      "A value is trying to be set on a copy of a slice from a DataFrame.\n",
      "Try using .loc[row_indexer,col_indexer] = value instead\n",
      "\n",
      "See the caveats in the documentation: https://pandas.pydata.org/pandas-docs/stable/user_guide/indexing.html#returning-a-view-versus-a-copy\n",
      "  data9[\"financiacion\"] = data_financiacion_column\n"
     ]
    }
   ],
   "source": [
    "#hacemos lo mismo de ver cuantas propeidades tienen financiacion y ponemos 0 las que no tiene (osea q son false) y 1 las q si\n",
    "\n",
    "data_financiacion_column =  data9.apply(lambda x: 0 if x.financiacion == False else 1, axis=1)\n",
    "\n",
    "print(data_financiacion_column.value_counts())\n",
    "\n",
    "data9[\"financiacion\"] = data_financiacion_column"
   ]
  },
  {
   "cell_type": "markdown",
   "id": "acoustic-electricity",
   "metadata": {},
   "source": [
    "#### podemos decir q tenemos 8.527 propiedades con cuotas o financiacion. estas propiedades deberiamos analizarla con la variable precio o precio por m2 a ver si encontramos una relacion de tener precio mas bajo q el promedio"
   ]
  },
  {
   "cell_type": "code",
   "execution_count": 180,
   "id": "preliminary-silence",
   "metadata": {},
   "outputs": [
    {
     "data": {
      "text/html": [
       "<div>\n",
       "<style scoped>\n",
       "    .dataframe tbody tr th:only-of-type {\n",
       "        vertical-align: middle;\n",
       "    }\n",
       "\n",
       "    .dataframe tbody tr th {\n",
       "        vertical-align: top;\n",
       "    }\n",
       "\n",
       "    .dataframe thead th {\n",
       "        text-align: right;\n",
       "    }\n",
       "</style>\n",
       "<table border=\"1\" class=\"dataframe\">\n",
       "  <thead>\n",
       "    <tr style=\"text-align: right;\">\n",
       "      <th></th>\n",
       "      <th>property_type</th>\n",
       "      <th>place_name</th>\n",
       "      <th>place_with_parent_names</th>\n",
       "      <th>state_name</th>\n",
       "      <th>lat-lon</th>\n",
       "      <th>price</th>\n",
       "      <th>currency</th>\n",
       "      <th>price_aprox_local_currency</th>\n",
       "      <th>price_aprox_usd</th>\n",
       "      <th>surface_total_in_m2</th>\n",
       "      <th>...</th>\n",
       "      <th>Provincia</th>\n",
       "      <th>Localidad</th>\n",
       "      <th>covered_imputados</th>\n",
       "      <th>total_imputados</th>\n",
       "      <th>final_price_usd_m2</th>\n",
       "      <th>refaccionado</th>\n",
       "      <th>pileta</th>\n",
       "      <th>amenities</th>\n",
       "      <th>cochera</th>\n",
       "      <th>financiacion</th>\n",
       "    </tr>\n",
       "  </thead>\n",
       "  <tbody>\n",
       "    <tr>\n",
       "      <th>0</th>\n",
       "      <td>PH</td>\n",
       "      <td>Mataderos</td>\n",
       "      <td>Capital Federal|Mataderos|</td>\n",
       "      <td>Capital Federal</td>\n",
       "      <td>-34.6618237,-58.5088387</td>\n",
       "      <td>62000.0</td>\n",
       "      <td>USD</td>\n",
       "      <td>1093959.0</td>\n",
       "      <td>62000.0</td>\n",
       "      <td>55.0</td>\n",
       "      <td>...</td>\n",
       "      <td>Capital Federal</td>\n",
       "      <td>Mataderos</td>\n",
       "      <td>40.0</td>\n",
       "      <td>55.0</td>\n",
       "      <td>1127.272727</td>\n",
       "      <td>1</td>\n",
       "      <td>0</td>\n",
       "      <td>0</td>\n",
       "      <td>0</td>\n",
       "      <td>0</td>\n",
       "    </tr>\n",
       "    <tr>\n",
       "      <th>2</th>\n",
       "      <td>apartment</td>\n",
       "      <td>Mataderos</td>\n",
       "      <td>Capital Federal|Mataderos|</td>\n",
       "      <td>Capital Federal</td>\n",
       "      <td>-34.6522615,-58.5229825</td>\n",
       "      <td>72000.0</td>\n",
       "      <td>USD</td>\n",
       "      <td>1270404.0</td>\n",
       "      <td>72000.0</td>\n",
       "      <td>55.0</td>\n",
       "      <td>...</td>\n",
       "      <td>Capital Federal</td>\n",
       "      <td>Mataderos</td>\n",
       "      <td>55.0</td>\n",
       "      <td>55.0</td>\n",
       "      <td>1309.090909</td>\n",
       "      <td>0</td>\n",
       "      <td>0</td>\n",
       "      <td>0</td>\n",
       "      <td>0</td>\n",
       "      <td>0</td>\n",
       "    </tr>\n",
       "    <tr>\n",
       "      <th>4</th>\n",
       "      <td>apartment</td>\n",
       "      <td>Centro</td>\n",
       "      <td>Buenos Aires Costa Atlántica|Mar del Plata|Centro|</td>\n",
       "      <td>Buenos Aires Costa Atlántica</td>\n",
       "      <td>-38.0026256,-57.5494468</td>\n",
       "      <td>64000.0</td>\n",
       "      <td>USD</td>\n",
       "      <td>1129248.0</td>\n",
       "      <td>64000.0</td>\n",
       "      <td>35.0</td>\n",
       "      <td>...</td>\n",
       "      <td>Buenos Aires Costa Atlántica</td>\n",
       "      <td>Mar del Plata</td>\n",
       "      <td>35.0</td>\n",
       "      <td>35.0</td>\n",
       "      <td>1828.571429</td>\n",
       "      <td>0</td>\n",
       "      <td>0</td>\n",
       "      <td>0</td>\n",
       "      <td>0</td>\n",
       "      <td>0</td>\n",
       "    </tr>\n",
       "  </tbody>\n",
       "</table>\n",
       "<p>3 rows × 26 columns</p>\n",
       "</div>"
      ],
      "text/plain": [
       "  property_type place_name  \\\n",
       "0            PH  Mataderos   \n",
       "2     apartment  Mataderos   \n",
       "4     apartment     Centro   \n",
       "\n",
       "                              place_with_parent_names  \\\n",
       "0                          Capital Federal|Mataderos|   \n",
       "2                          Capital Federal|Mataderos|   \n",
       "4  Buenos Aires Costa Atlántica|Mar del Plata|Centro|   \n",
       "\n",
       "                     state_name                  lat-lon    price currency  \\\n",
       "0               Capital Federal  -34.6618237,-58.5088387  62000.0      USD   \n",
       "2               Capital Federal  -34.6522615,-58.5229825  72000.0      USD   \n",
       "4  Buenos Aires Costa Atlántica  -38.0026256,-57.5494468  64000.0      USD   \n",
       "\n",
       "   price_aprox_local_currency  price_aprox_usd  surface_total_in_m2  ...  \\\n",
       "0                   1093959.0          62000.0                 55.0  ...   \n",
       "2                   1270404.0          72000.0                 55.0  ...   \n",
       "4                   1129248.0          64000.0                 35.0  ...   \n",
       "\n",
       "                      Provincia      Localidad  covered_imputados  \\\n",
       "0               Capital Federal      Mataderos               40.0   \n",
       "2               Capital Federal      Mataderos               55.0   \n",
       "4  Buenos Aires Costa Atlántica  Mar del Plata               35.0   \n",
       "\n",
       "   total_imputados final_price_usd_m2 refaccionado pileta amenities  cochera  \\\n",
       "0             55.0        1127.272727            1      0         0        0   \n",
       "2             55.0        1309.090909            0      0         0        0   \n",
       "4             35.0        1828.571429            0      0         0        0   \n",
       "\n",
       "   financiacion  \n",
       "0             0  \n",
       "2             0  \n",
       "4             0  \n",
       "\n",
       "[3 rows x 26 columns]"
      ]
     },
     "execution_count": 180,
     "metadata": {},
     "output_type": "execute_result"
    }
   ],
   "source": [
    "data9.head(3)"
   ]
  },
  {
   "cell_type": "markdown",
   "id": "abstract-frank",
   "metadata": {},
   "source": [
    "## 5) Ahora vamos a tratar de reconstruir la columna rooms con la data de description"
   ]
  },
  {
   "cell_type": "code",
   "execution_count": 206,
   "id": "advance-engagement",
   "metadata": {},
   "outputs": [],
   "source": [
    "import pandas as pd\n",
    "import numpy as np \n",
    "import matplotlib.pyplot as plt\n",
    "import seaborn as sns \n",
    "import re \n",
    "\n",
    "%matplotlib inline"
   ]
  },
  {
   "cell_type": "code",
   "execution_count": 207,
   "id": "organizational-house",
   "metadata": {},
   "outputs": [
    {
     "data": {
      "text/html": [
       "<div>\n",
       "<style scoped>\n",
       "    .dataframe tbody tr th:only-of-type {\n",
       "        vertical-align: middle;\n",
       "    }\n",
       "\n",
       "    .dataframe tbody tr th {\n",
       "        vertical-align: top;\n",
       "    }\n",
       "\n",
       "    .dataframe thead th {\n",
       "        text-align: right;\n",
       "    }\n",
       "</style>\n",
       "<table border=\"1\" class=\"dataframe\">\n",
       "  <thead>\n",
       "    <tr style=\"text-align: right;\">\n",
       "      <th></th>\n",
       "      <th>rooms</th>\n",
       "      <th>description</th>\n",
       "      <th>title</th>\n",
       "    </tr>\n",
       "  </thead>\n",
       "  <tbody>\n",
       "    <tr>\n",
       "      <th>5</th>\n",
       "      <td>NaN</td>\n",
       "      <td>Casa en el perímetro del barrio 338, ubicada en el extremo sur este del barrio, sobre calle 3 de caballería casi Nágera. Vista libre a terreno en frente.Consta de dos dormitorios, baño, living cocina comedor integrado de buen tamaño, lavadero con despensero en aluminio.Patio privado con churrasquera, tapiales y puerta de acceso de servicio. Frente con rejas y pequeño patio con verde, porch de acceso.Gas natural en la puerta. Aire acondicionado frío/calor. Baulera para guardado sobre pasillo. Muy buen estado en general de pisos, revestimientos, pintura, etc.Apto crédito. Aviso publicado por Pixel Inmobiliario (Servicio de Páginas Web para Inmobiliarias).</td>\n",
       "      <td>Casa Barrio 338. Sobre calle 3 de caballería, casi Nágera. Dos habit. Muy buen estado, patio con tapiales.</td>\n",
       "    </tr>\n",
       "    <tr>\n",
       "      <th>6</th>\n",
       "      <td>NaN</td>\n",
       "      <td>MUY BUEN PH AL FRENTE CON ENTRADA INDEPENDIENTE - SIN EXPENSAS! TODO EN  PLANTA BAJA DOS DORMITORIOS (pisos de pinotea) - LIVING - COCINA COMEDOR - BAÑO - PATIO - GALPÓN Y LAVADERO EN EL PATIOEN MUY BUEN ESTADO - INMEJORABLE UBICACIÓN - A 1 CUADRA DE LA ESTACIÓN DE MUNRO -  CERCA DE MAS DE 6 LINEAS DE COLECTIVOS - A 2 CUADRAS DEL CENTRO UNIVERSITARIO. 106 m2 TOTALES: 78 m2 CUBIERTOS Y 28 m2 DESCUBIERTOSAPTO PROFESIONAL                                                 Aviso publicado por Pixel Inmobiliario (Servicio de Páginas Web para Inmobiliarias).</td>\n",
       "      <td>MUY BUEN PH AL FRENTE DOS DORMITORIOS , PATIO, EXCELENTE UBICACION EN MUNRO</td>\n",
       "    </tr>\n",
       "    <tr>\n",
       "      <th>15</th>\n",
       "      <td>NaN</td>\n",
       "      <td>ULTIMA UNIDAD DISPONIBLEHAUS BOULEVARD: Metros Cubiertos: 115,23m²Contado U$D250.000HAUS VILLAGE es un complejo residencial de 20 casas con cochera y jardín propio, dentro del Barrio Cerrado Buenos Aires Village.Todas las unidades tienen entrada para auto, en planta baja cuentan con un toilette, living comedor con cocina separada.Patio exclusivo y, en planta alta, 3 dormitorios con espacio para placard (uno en suite).Realizados en una estructura monolítica de Hormigón Armado sobre platea de fundación y aberturas de PVC con DVH. La calidad de la construcción conjuga lo moderno y lo funcional, con un cuidado especial por lo estético. Son amplias superficies vidriadas que permiten vivir el verde del jardín en todo momento. El barrio cerrado cuenta con una doble entrada, lo que permite una mejor circulación interna de vehículos. Ofrece excelentes alternativas para los accesos al barrio, una entrada es por la autopista del Buen Ayre y la otra por la calle Flaubert. EasyBroker ID: EB-AN8955</td>\n",
       "      <td>HAUS VILLAGE / BELLA VISTA / 115m² MAS PATIO / BUENOS AIRES VILLAGE</td>\n",
       "    </tr>\n",
       "    <tr>\n",
       "      <th>18</th>\n",
       "      <td>NaN</td>\n",
       "      <td>Casa sobre lote al golf en barrio San Isidro Labrador.Planta Baja:Amplio Living comedor en doble altura,Toilette,Cocina comedor, Family/Escritorio, Lavadero, dependencia de servicio, Galería cubierta y semi cubierta.Planta Alta:Master Suite con ducha escocesa e hidromasajes doble, tres dormitorios, Baño, Escritorio y Placar de Blanco.Todos los pisos son de porcelanato.Losa Radiante en todos los ambientes y galería.Piscina con espejo de agua de 40 m2.</td>\n",
       "      <td>Casa en venta en barrio San Isidro Labrador, Tigre.</td>\n",
       "    </tr>\n",
       "    <tr>\n",
       "      <th>20</th>\n",
       "      <td>NaN</td>\n",
       "      <td>Consta de: Comedor-cocina, cuatro dormitorios (uno con baño en suite), un baño, otro baño para terminar, cuarto de herramientas y amplio parque.</td>\n",
       "      <td>Casa con excelente ubicaciòn, calle asfaltada, gas natural instalado, barrio residencial, linea de colectivo urbano. Orientaciòn Sur-Este.-</td>\n",
       "    </tr>\n",
       "    <tr>\n",
       "      <th>...</th>\n",
       "      <td>...</td>\n",
       "      <td>...</td>\n",
       "      <td>...</td>\n",
       "    </tr>\n",
       "    <tr>\n",
       "      <th>121211</th>\n",
       "      <td>NaN</td>\n",
       "      <td>Excelente departamento de categoría con vistas parciales al Río en exclusivo Barrio Cerrado \"Barrancas al Río\". Pallier privado, hall, toilette y guarda ropa. Living y comedor con salida a Balcón terraza. Amplia cocina con comedor diario, dependencia de servicio, lavadero, 3 dormitorios, 2 baños, 1 en suite,gran baulera, doble cochera fija cubierta, splits frio-calor en todos los ambientes, calefacción por piso eléctrico. El Condominio cuenta con pileta climatizada, jardines, cocheras de cortesía, SUM y seguridad 24 hs.</td>\n",
       "      <td>Departamento - Acassuso</td>\n",
       "    </tr>\n",
       "    <tr>\n",
       "      <th>121212</th>\n",
       "      <td>NaN</td>\n",
       "      <td>ESPECTACULAR CASA ESTILO RACIONALISTA EN CALLE CORTADA!!! TIENE UNA RENTA ACTIVA HASTA OCTUBRE DE 2017P.B: Espectacular hall de entrada con triple altura - Toilette - Gran living apaisado con chimenea - Comedor separado (5 x 4) - Escritorio - (todo con pisos de pinotea) - Buena cocina con comedor diario - 1 dormitorio con baño completo - dependencias de servicio con baño P.A.: Espectacular Family - 4 dormitorios (todos con pisos de madera grapia misionera): Ppal en suite (7 x 4) con vestidor y baño completo balcón terraza con vista al jardín + otra suite + otro baño.Excelente jardín con pileta - Parrilla - Galería - Calefacción central por radiadores</td>\n",
       "      <td>Casa - Acassuso</td>\n",
       "    </tr>\n",
       "    <tr>\n",
       "      <th>121213</th>\n",
       "      <td>NaN</td>\n",
       "      <td>EXCELENTE casa en Martinez. Inmejorable ubicaicón!! De Av. Libertador al Río.Excelente calidad!!!PB: hall de entrada, toilette compartimentado, gran living con salida al jardín, comedor por separado, escritorio, cocina comedor diario, family. Galería y jardín con pileta climatizada. PA: amplio hall de distribución. 3 dormitorios en suite. Gran suite principal con doble vestidor, jacuzzi, sauna y gym con salida a balcón terraza. 2da planta: Muy buen playroom, posibilidad de 4to dormitorio o cuarto de huéspedes. Un baño completo.Subsuelo: garaje para dos autos, departamento de caseros con baño y cocina, amplio lavadero y baño de pileta. Características sobresalientes: Calefacción central por radiadores, aire acondicionado central frio/calor, pisos de mármol en hall de entrada, pileta climatizada, excelentes terminaciones y detalles de categoría, playroom todo acustizado, etc.</td>\n",
       "      <td>Casa - Martinez</td>\n",
       "    </tr>\n",
       "    <tr>\n",
       "      <th>121214</th>\n",
       "      <td>NaN</td>\n",
       "      <td>***VENTA CON RENTA***Local en EDIFICIO lomas Park muy bien ubicado.Muy buen local súper luminoso,amplio salón de ventas y atención al público. Privado.2 baños. Kichinette. 3 Cocheras cubiertas. Estacionamiento de cortesía.VENTA CON RENTA: ALQUILADO A SEARCH SEGURIDAD Contrato por 5 años. Inicio Diciembre 2014 . Con proyección de quedarse, alquilan además  oficinas en el piso de arriba. Actualmente valor de Alquiler: U$S 1.338. -Para el 4to. año U$S 1.471.-Para el 5to. año U$S 1.619.-</td>\n",
       "      <td>Local - San Isidro</td>\n",
       "    </tr>\n",
       "    <tr>\n",
       "      <th>121216</th>\n",
       "      <td>NaN</td>\n",
       "      <td>Excelente e impecable casa en Venta en Las Lomas de San Isidro.Construida por el Arq. Turienzo.12m de frente en una excelente manzana con mucha vegetación, muy buen acceso a 1 1/2 cuadra de Marquez y la entrada al Jockey club.En Planta superior:- Entrada principal a hall y entrada de servicio a la cocina- Toilette y placard de recepción- Muy buen living comedor con hogar, ventilación cruzada al frente y al jardin.- Amplia cocina con comedor diario- 3 Dormitorios 2 con placard de 3,50 x 3,50 y Suite ppal de 3,70 x 4,70 con vestidor de 2,95 x 2,45 y baño con Hidromasaje- Baño completoEn Planta inferior- Estar o Playroom con hogar a leña- Salon comedor - Cocina para el sector Play y Quincho- Baño completo- Pequeño taller- Sala de Maquinaria- Garage para 2 autos- Dependencia con su baño- Salida a al sector parrillaExterior:- Jardín al frente, laterales y al fondo- Muy buena pileta de 9 x 4- Pulmón de Manzana con variada vegetaciónToda la casa construida con excelente calidad y totalmen...</td>\n",
       "      <td>Ruca Inmuebles | Venta | Lomas de San Isidro | Bergallo al 100</td>\n",
       "    </tr>\n",
       "  </tbody>\n",
       "</table>\n",
       "<p>32440 rows × 3 columns</p>\n",
       "</div>"
      ],
      "text/plain": [
       "       rooms  \\\n",
       "5        NaN   \n",
       "6        NaN   \n",
       "15       NaN   \n",
       "18       NaN   \n",
       "20       NaN   \n",
       "...      ...   \n",
       "121211   NaN   \n",
       "121212   NaN   \n",
       "121213   NaN   \n",
       "121214   NaN   \n",
       "121216   NaN   \n",
       "\n",
       "                                                                                                                                                                                                                                                                                                                                                                                                                                                                                                                                                                                                                                                                                                                                                                                                                                                                                                                                                                                                                                    description  \\\n",
       "5                                                                                                                                                                                                                                                                                                                                                         Casa en el perímetro del barrio 338, ubicada en el extremo sur este del barrio, sobre calle 3 de caballería casi Nágera. Vista libre a terreno en frente.Consta de dos dormitorios, baño, living cocina comedor integrado de buen tamaño, lavadero con despensero en aluminio.Patio privado con churrasquera, tapiales y puerta de acceso de servicio. Frente con rejas y pequeño patio con verde, porch de acceso.Gas natural en la puerta. Aire acondicionado frío/calor. Baulera para guardado sobre pasillo. Muy buen estado en general de pisos, revestimientos, pintura, etc.Apto crédito. Aviso publicado por Pixel Inmobiliario (Servicio de Páginas Web para Inmobiliarias).   \n",
       "6                                                                                                                                                                                                                                                                                                                                                                                                                                                                   MUY BUEN PH AL FRENTE CON ENTRADA INDEPENDIENTE - SIN EXPENSAS! TODO EN  PLANTA BAJA DOS DORMITORIOS (pisos de pinotea) - LIVING - COCINA COMEDOR - BAÑO - PATIO - GALPÓN Y LAVADERO EN EL PATIOEN MUY BUEN ESTADO - INMEJORABLE UBICACIÓN - A 1 CUADRA DE LA ESTACIÓN DE MUNRO -  CERCA DE MAS DE 6 LINEAS DE COLECTIVOS - A 2 CUADRAS DEL CENTRO UNIVERSITARIO. 106 m2 TOTALES: 78 m2 CUBIERTOS Y 28 m2 DESCUBIERTOSAPTO PROFESIONAL                                                 Aviso publicado por Pixel Inmobiliario (Servicio de Páginas Web para Inmobiliarias).   \n",
       "15      ULTIMA UNIDAD DISPONIBLEHAUS BOULEVARD: Metros Cubiertos: 115,23m²Contado U$D250.000HAUS VILLAGE es un complejo residencial de 20 casas con cochera y jardín propio, dentro del Barrio Cerrado Buenos Aires Village.Todas las unidades tienen entrada para auto, en planta baja cuentan con un toilette, living comedor con cocina separada.Patio exclusivo y, en planta alta, 3 dormitorios con espacio para placard (uno en suite).Realizados en una estructura monolítica de Hormigón Armado sobre platea de fundación y aberturas de PVC con DVH. La calidad de la construcción conjuga lo moderno y lo funcional, con un cuidado especial por lo estético. Son amplias superficies vidriadas que permiten vivir el verde del jardín en todo momento. El barrio cerrado cuenta con una doble entrada, lo que permite una mejor circulación interna de vehículos. Ofrece excelentes alternativas para los accesos al barrio, una entrada es por la autopista del Buen Ayre y la otra por la calle Flaubert. EasyBroker ID: EB-AN8955   \n",
       "18                                                                                                                                                                                                                                                                                                                                                                                                                                                                                                                                                                       Casa sobre lote al golf en barrio San Isidro Labrador.Planta Baja:Amplio Living comedor en doble altura,Toilette,Cocina comedor, Family/Escritorio, Lavadero, dependencia de servicio, Galería cubierta y semi cubierta.Planta Alta:Master Suite con ducha escocesa e hidromasajes doble, tres dormitorios, Baño, Escritorio y Placar de Blanco.Todos los pisos son de porcelanato.Losa Radiante en todos los ambientes y galería.Piscina con espejo de agua de 40 m2.   \n",
       "20                                                                                                                                                                                                                                                                                                                                                                                                                                                                                                                                                                                                                                                                                                                                                                                                                                                                                             Consta de: Comedor-cocina, cuatro dormitorios (uno con baño en suite), un baño, otro baño para terminar, cuarto de herramientas y amplio parque.   \n",
       "...                                                                                                                                                                                                                                                                                                                                                                                                                                                                                                                                                                                                                                                                                                                                                                                                                                                                                                                                                                                                                                         ...   \n",
       "121211                                                                                                                                                                                                                                                                                                                                                                                                                                                                                            Excelente departamento de categoría con vistas parciales al Río en exclusivo Barrio Cerrado \"Barrancas al Río\". Pallier privado, hall, toilette y guarda ropa. Living y comedor con salida a Balcón terraza. Amplia cocina con comedor diario, dependencia de servicio, lavadero, 3 dormitorios, 2 baños, 1 en suite,gran baulera, doble cochera fija cubierta, splits frio-calor en todos los ambientes, calefacción por piso eléctrico. El Condominio cuenta con pileta climatizada, jardines, cocheras de cortesía, SUM y seguridad 24 hs.   \n",
       "121212                                                                                                                                                                                                                                                                                                                                                       ESPECTACULAR CASA ESTILO RACIONALISTA EN CALLE CORTADA!!! TIENE UNA RENTA ACTIVA HASTA OCTUBRE DE 2017P.B: Espectacular hall de entrada con triple altura - Toilette - Gran living apaisado con chimenea - Comedor separado (5 x 4) - Escritorio - (todo con pisos de pinotea) - Buena cocina con comedor diario - 1 dormitorio con baño completo - dependencias de servicio con baño P.A.: Espectacular Family - 4 dormitorios (todos con pisos de madera grapia misionera): Ppal en suite (7 x 4) con vestidor y baño completo balcón terraza con vista al jardín + otra suite + otro baño.Excelente jardín con pileta - Parrilla - Galería - Calefacción central por radiadores   \n",
       "121213                                                                                                                   EXCELENTE casa en Martinez. Inmejorable ubicaicón!! De Av. Libertador al Río.Excelente calidad!!!PB: hall de entrada, toilette compartimentado, gran living con salida al jardín, comedor por separado, escritorio, cocina comedor diario, family. Galería y jardín con pileta climatizada. PA: amplio hall de distribución. 3 dormitorios en suite. Gran suite principal con doble vestidor, jacuzzi, sauna y gym con salida a balcón terraza. 2da planta: Muy buen playroom, posibilidad de 4to dormitorio o cuarto de huéspedes. Un baño completo.Subsuelo: garaje para dos autos, departamento de caseros con baño y cocina, amplio lavadero y baño de pileta. Características sobresalientes: Calefacción central por radiadores, aire acondicionado central frio/calor, pisos de mármol en hall de entrada, pileta climatizada, excelentes terminaciones y detalles de categoría, playroom todo acustizado, etc.   \n",
       "121214                                                                                                                                                                                                                                                                                                                                                                                                                                                                                                                                 ***VENTA CON RENTA***Local en EDIFICIO lomas Park muy bien ubicado.Muy buen local súper luminoso,amplio salón de ventas y atención al público. Privado.2 baños. Kichinette. 3 Cocheras cubiertas. Estacionamiento de cortesía.VENTA CON RENTA: ALQUILADO A SEARCH SEGURIDAD Contrato por 5 años. Inicio Diciembre 2014 . Con proyección de quedarse, alquilan además  oficinas en el piso de arriba. Actualmente valor de Alquiler: U$S 1.338. -Para el 4to. año U$S 1.471.-Para el 5to. año U$S 1.619.-   \n",
       "121216  Excelente e impecable casa en Venta en Las Lomas de San Isidro.Construida por el Arq. Turienzo.12m de frente en una excelente manzana con mucha vegetación, muy buen acceso a 1 1/2 cuadra de Marquez y la entrada al Jockey club.En Planta superior:- Entrada principal a hall y entrada de servicio a la cocina- Toilette y placard de recepción- Muy buen living comedor con hogar, ventilación cruzada al frente y al jardin.- Amplia cocina con comedor diario- 3 Dormitorios 2 con placard de 3,50 x 3,50 y Suite ppal de 3,70 x 4,70 con vestidor de 2,95 x 2,45 y baño con Hidromasaje- Baño completoEn Planta inferior- Estar o Playroom con hogar a leña- Salon comedor - Cocina para el sector Play y Quincho- Baño completo- Pequeño taller- Sala de Maquinaria- Garage para 2 autos- Dependencia con su baño- Salida a al sector parrillaExterior:- Jardín al frente, laterales y al fondo- Muy buena pileta de 9 x 4- Pulmón de Manzana con variada vegetaciónToda la casa construida con excelente calidad y totalmen...   \n",
       "\n",
       "                                                                                                                                              title  \n",
       "5                                        Casa Barrio 338. Sobre calle 3 de caballería, casi Nágera. Dos habit. Muy buen estado, patio con tapiales.  \n",
       "6                                   MUY BUEN PH AL FRENTE DOS DORMITORIOS , PATIO, EXCELENTE UBICACION EN MUNRO                                      \n",
       "15                                                                              HAUS VILLAGE / BELLA VISTA / 115m² MAS PATIO / BUENOS AIRES VILLAGE  \n",
       "18                                                                                              Casa en venta en barrio San Isidro Labrador, Tigre.  \n",
       "20      Casa con excelente ubicaciòn, calle asfaltada, gas natural instalado, barrio residencial, linea de colectivo urbano. Orientaciòn Sur-Este.-  \n",
       "...                                                                                                                                             ...  \n",
       "121211                                                                                                                      Departamento - Acassuso  \n",
       "121212                                                                                                                              Casa - Acassuso  \n",
       "121213                                                                                                                              Casa - Martinez  \n",
       "121214                                                                                                                           Local - San Isidro  \n",
       "121216                                                                               Ruca Inmuebles | Venta | Lomas de San Isidro | Bergallo al 100  \n",
       "\n",
       "[32440 rows x 3 columns]"
      ]
     },
     "execution_count": 207,
     "metadata": {},
     "output_type": "execute_result"
    }
   ],
   "source": [
    "#Buscamos aquellas propiedades sin Rooms.\n",
    "\n",
    "mask_no_rooms = data9[\"rooms\"].isnull()\n",
    "data9.loc[mask_no_rooms,[\"rooms\",\"description\",\"title\"]]"
   ]
  },
  {
   "cell_type": "code",
   "execution_count": 208,
   "id": "introductory-edwards",
   "metadata": {},
   "outputs": [
    {
     "name": "stderr",
     "output_type": "stream",
     "text": [
      "<ipython-input-208-99d3f73610d0>:3: SettingWithCopyWarning: \n",
      "A value is trying to be set on a copy of a slice from a DataFrame.\n",
      "Try using .loc[row_indexer,col_indexer] = value instead\n",
      "\n",
      "See the caveats in the documentation: https://pandas.pydata.org/pandas-docs/stable/user_guide/indexing.html#returning-a-view-versus-a-copy\n",
      "  data9[\"description\"] = data9[\"description\"].astype(str)\n",
      "<ipython-input-208-99d3f73610d0>:4: SettingWithCopyWarning: \n",
      "A value is trying to be set on a copy of a slice from a DataFrame.\n",
      "Try using .loc[row_indexer,col_indexer] = value instead\n",
      "\n",
      "See the caveats in the documentation: https://pandas.pydata.org/pandas-docs/stable/user_guide/indexing.html#returning-a-view-versus-a-copy\n",
      "  data9[\"title\"] = data9[\"title\"].astype(str)\n"
     ]
    }
   ],
   "source": [
    "#casteo columna description y title como string\n",
    "\n",
    "data9[\"description\"] = data9[\"description\"].astype(str)\n",
    "data9[\"title\"] = data9[\"title\"].astype(str)"
   ]
  },
  {
   "cell_type": "code",
   "execution_count": 186,
   "id": "temporal-northwest",
   "metadata": {},
   "outputs": [],
   "source": [
    "#la cantidad de ambientes en description y title puede estar tanto en numeros como en numeros escritos en letras.\n",
    "#Es por eso que buscamos ambos patrones en description y title"
   ]
  },
  {
   "cell_type": "code",
   "execution_count": 209,
   "id": "connected-solution",
   "metadata": {},
   "outputs": [],
   "source": [
    "#Creo una funcion para la busqueda de patrones y me agregue los regex encontrados en una nueva columna al data frame\n",
    "def buscador_patrones(patron, columna_de_trabajo, nombre_nueva_columna):\n",
    "    patron_regex = re.compile(patron, re.IGNORECASE)\n",
    "    matcheos = data9[columna_de_trabajo].apply(lambda x:x if x is np.NaN else patron_regex.search(x).group(\"numero\") if patron_regex.search(x)!=None else np.NaN)\n",
    "    data9.insert(13, nombre_nueva_columna, matcheos)"
   ]
  },
  {
   "cell_type": "code",
   "execution_count": 210,
   "id": "historic-great",
   "metadata": {},
   "outputs": [
    {
     "ename": "ValueError",
     "evalue": "cannot insert numero_ambientes_description, already exists",
     "output_type": "error",
     "traceback": [
      "\u001b[1;31m---------------------------------------------------------------------------\u001b[0m",
      "\u001b[1;31mValueError\u001b[0m                                Traceback (most recent call last)",
      "\u001b[1;32m<ipython-input-210-e1ac9539edc1>\u001b[0m in \u001b[0;36m<module>\u001b[1;34m\u001b[0m\n\u001b[0;32m      6\u001b[0m \u001b[1;33m\u001b[0m\u001b[0m\n\u001b[0;32m      7\u001b[0m \u001b[1;31m#Ejecuto la funcion tanto en la columna \"decription\" como la columna \"title\"\u001b[0m\u001b[1;33m\u001b[0m\u001b[1;33m\u001b[0m\u001b[1;33m\u001b[0m\u001b[0m\n\u001b[1;32m----> 8\u001b[1;33m \u001b[0mbuscador_patrones\u001b[0m\u001b[1;33m(\u001b[0m\u001b[0mdescription_ambientes_numero\u001b[0m\u001b[1;33m,\u001b[0m \u001b[1;34m\"description\"\u001b[0m\u001b[1;33m,\u001b[0m \u001b[1;34m\"numero_ambientes_description\"\u001b[0m\u001b[1;33m)\u001b[0m\u001b[1;33m\u001b[0m\u001b[1;33m\u001b[0m\u001b[0m\n\u001b[0m\u001b[0;32m      9\u001b[0m \u001b[0mbuscador_patrones\u001b[0m\u001b[1;33m(\u001b[0m\u001b[0mdescription_ambientes_letras\u001b[0m\u001b[1;33m,\u001b[0m \u001b[1;34m\"description\"\u001b[0m\u001b[1;33m,\u001b[0m \u001b[1;34m\"numero_ambientes_desc_letras\"\u001b[0m\u001b[1;33m)\u001b[0m\u001b[1;33m\u001b[0m\u001b[1;33m\u001b[0m\u001b[0m\n\u001b[0;32m     10\u001b[0m \u001b[0mbuscador_patrones\u001b[0m\u001b[1;33m(\u001b[0m\u001b[0mtitle_ambientes_numero\u001b[0m\u001b[1;33m,\u001b[0m \u001b[1;34m\"title\"\u001b[0m\u001b[1;33m,\u001b[0m \u001b[1;34m\"numero_ambientes_title\"\u001b[0m\u001b[1;33m)\u001b[0m\u001b[1;33m\u001b[0m\u001b[1;33m\u001b[0m\u001b[0m\n",
      "\u001b[1;32m<ipython-input-209-928ae9c0777d>\u001b[0m in \u001b[0;36mbuscador_patrones\u001b[1;34m(patron, columna_de_trabajo, nombre_nueva_columna)\u001b[0m\n\u001b[0;32m      3\u001b[0m     \u001b[0mpatron_regex\u001b[0m \u001b[1;33m=\u001b[0m \u001b[0mre\u001b[0m\u001b[1;33m.\u001b[0m\u001b[0mcompile\u001b[0m\u001b[1;33m(\u001b[0m\u001b[0mpatron\u001b[0m\u001b[1;33m,\u001b[0m \u001b[0mre\u001b[0m\u001b[1;33m.\u001b[0m\u001b[0mIGNORECASE\u001b[0m\u001b[1;33m)\u001b[0m\u001b[1;33m\u001b[0m\u001b[1;33m\u001b[0m\u001b[0m\n\u001b[0;32m      4\u001b[0m     \u001b[0mmatcheos\u001b[0m \u001b[1;33m=\u001b[0m \u001b[0mdata9\u001b[0m\u001b[1;33m[\u001b[0m\u001b[0mcolumna_de_trabajo\u001b[0m\u001b[1;33m]\u001b[0m\u001b[1;33m.\u001b[0m\u001b[0mapply\u001b[0m\u001b[1;33m(\u001b[0m\u001b[1;32mlambda\u001b[0m \u001b[0mx\u001b[0m\u001b[1;33m:\u001b[0m\u001b[0mx\u001b[0m \u001b[1;32mif\u001b[0m \u001b[0mx\u001b[0m \u001b[1;32mis\u001b[0m \u001b[0mnp\u001b[0m\u001b[1;33m.\u001b[0m\u001b[0mNaN\u001b[0m \u001b[1;32melse\u001b[0m \u001b[0mpatron_regex\u001b[0m\u001b[1;33m.\u001b[0m\u001b[0msearch\u001b[0m\u001b[1;33m(\u001b[0m\u001b[0mx\u001b[0m\u001b[1;33m)\u001b[0m\u001b[1;33m.\u001b[0m\u001b[0mgroup\u001b[0m\u001b[1;33m(\u001b[0m\u001b[1;34m\"numero\"\u001b[0m\u001b[1;33m)\u001b[0m \u001b[1;32mif\u001b[0m \u001b[0mpatron_regex\u001b[0m\u001b[1;33m.\u001b[0m\u001b[0msearch\u001b[0m\u001b[1;33m(\u001b[0m\u001b[0mx\u001b[0m\u001b[1;33m)\u001b[0m\u001b[1;33m!=\u001b[0m\u001b[1;32mNone\u001b[0m \u001b[1;32melse\u001b[0m \u001b[0mnp\u001b[0m\u001b[1;33m.\u001b[0m\u001b[0mNaN\u001b[0m\u001b[1;33m)\u001b[0m\u001b[1;33m\u001b[0m\u001b[1;33m\u001b[0m\u001b[0m\n\u001b[1;32m----> 5\u001b[1;33m     \u001b[0mdata9\u001b[0m\u001b[1;33m.\u001b[0m\u001b[0minsert\u001b[0m\u001b[1;33m(\u001b[0m\u001b[1;36m13\u001b[0m\u001b[1;33m,\u001b[0m \u001b[0mnombre_nueva_columna\u001b[0m\u001b[1;33m,\u001b[0m \u001b[0mmatcheos\u001b[0m\u001b[1;33m)\u001b[0m\u001b[1;33m\u001b[0m\u001b[1;33m\u001b[0m\u001b[0m\n\u001b[0m",
      "\u001b[1;32m~\\anaconda3\\envs\\dhdsblend2021\\lib\\site-packages\\pandas\\core\\frame.py\u001b[0m in \u001b[0;36minsert\u001b[1;34m(self, loc, column, value, allow_duplicates)\u001b[0m\n\u001b[0;32m   3626\u001b[0m         \u001b[0mself\u001b[0m\u001b[1;33m.\u001b[0m\u001b[0m_ensure_valid_index\u001b[0m\u001b[1;33m(\u001b[0m\u001b[0mvalue\u001b[0m\u001b[1;33m)\u001b[0m\u001b[1;33m\u001b[0m\u001b[1;33m\u001b[0m\u001b[0m\n\u001b[0;32m   3627\u001b[0m         \u001b[0mvalue\u001b[0m \u001b[1;33m=\u001b[0m \u001b[0mself\u001b[0m\u001b[1;33m.\u001b[0m\u001b[0m_sanitize_column\u001b[0m\u001b[1;33m(\u001b[0m\u001b[0mcolumn\u001b[0m\u001b[1;33m,\u001b[0m \u001b[0mvalue\u001b[0m\u001b[1;33m,\u001b[0m \u001b[0mbroadcast\u001b[0m\u001b[1;33m=\u001b[0m\u001b[1;32mFalse\u001b[0m\u001b[1;33m)\u001b[0m\u001b[1;33m\u001b[0m\u001b[1;33m\u001b[0m\u001b[0m\n\u001b[1;32m-> 3628\u001b[1;33m         \u001b[0mself\u001b[0m\u001b[1;33m.\u001b[0m\u001b[0m_mgr\u001b[0m\u001b[1;33m.\u001b[0m\u001b[0minsert\u001b[0m\u001b[1;33m(\u001b[0m\u001b[0mloc\u001b[0m\u001b[1;33m,\u001b[0m \u001b[0mcolumn\u001b[0m\u001b[1;33m,\u001b[0m \u001b[0mvalue\u001b[0m\u001b[1;33m,\u001b[0m \u001b[0mallow_duplicates\u001b[0m\u001b[1;33m=\u001b[0m\u001b[0mallow_duplicates\u001b[0m\u001b[1;33m)\u001b[0m\u001b[1;33m\u001b[0m\u001b[1;33m\u001b[0m\u001b[0m\n\u001b[0m\u001b[0;32m   3629\u001b[0m \u001b[1;33m\u001b[0m\u001b[0m\n\u001b[0;32m   3630\u001b[0m     \u001b[1;32mdef\u001b[0m \u001b[0massign\u001b[0m\u001b[1;33m(\u001b[0m\u001b[0mself\u001b[0m\u001b[1;33m,\u001b[0m \u001b[1;33m**\u001b[0m\u001b[0mkwargs\u001b[0m\u001b[1;33m)\u001b[0m \u001b[1;33m->\u001b[0m \u001b[1;34m\"DataFrame\"\u001b[0m\u001b[1;33m:\u001b[0m\u001b[1;33m\u001b[0m\u001b[1;33m\u001b[0m\u001b[0m\n",
      "\u001b[1;32m~\\anaconda3\\envs\\dhdsblend2021\\lib\\site-packages\\pandas\\core\\internals\\managers.py\u001b[0m in \u001b[0;36minsert\u001b[1;34m(self, loc, item, value, allow_duplicates)\u001b[0m\n\u001b[0;32m   1184\u001b[0m         \u001b[1;32mif\u001b[0m \u001b[1;32mnot\u001b[0m \u001b[0mallow_duplicates\u001b[0m \u001b[1;32mand\u001b[0m \u001b[0mitem\u001b[0m \u001b[1;32min\u001b[0m \u001b[0mself\u001b[0m\u001b[1;33m.\u001b[0m\u001b[0mitems\u001b[0m\u001b[1;33m:\u001b[0m\u001b[1;33m\u001b[0m\u001b[1;33m\u001b[0m\u001b[0m\n\u001b[0;32m   1185\u001b[0m             \u001b[1;31m# Should this be a different kind of error??\u001b[0m\u001b[1;33m\u001b[0m\u001b[1;33m\u001b[0m\u001b[1;33m\u001b[0m\u001b[0m\n\u001b[1;32m-> 1186\u001b[1;33m             \u001b[1;32mraise\u001b[0m \u001b[0mValueError\u001b[0m\u001b[1;33m(\u001b[0m\u001b[1;34mf\"cannot insert {item}, already exists\"\u001b[0m\u001b[1;33m)\u001b[0m\u001b[1;33m\u001b[0m\u001b[1;33m\u001b[0m\u001b[0m\n\u001b[0m\u001b[0;32m   1187\u001b[0m \u001b[1;33m\u001b[0m\u001b[0m\n\u001b[0;32m   1188\u001b[0m         \u001b[1;32mif\u001b[0m \u001b[1;32mnot\u001b[0m \u001b[0misinstance\u001b[0m\u001b[1;33m(\u001b[0m\u001b[0mloc\u001b[0m\u001b[1;33m,\u001b[0m \u001b[0mint\u001b[0m\u001b[1;33m)\u001b[0m\u001b[1;33m:\u001b[0m\u001b[1;33m\u001b[0m\u001b[1;33m\u001b[0m\u001b[0m\n",
      "\u001b[1;31mValueError\u001b[0m: cannot insert numero_ambientes_description, already exists"
     ]
    }
   ],
   "source": [
    "#Creamos patrones para buscar la cantidad explicita de ambientes en description y title.\n",
    "description_ambientes_numero = \"(?P<numero>\\d\\d?) ?(ambientes|ambiente|amb)\"\n",
    "description_ambientes_letras = \"(?P<numero>mono|un|dos|tres|cuatro|cinco|seis|siete|ocho|nueve|diez) ?(ambientes|ambiente|amb)\"\n",
    "title_ambientes_numero = \"(?P<numero>\\d\\d?) ?(ambientes|ambiente|amb)\"\n",
    "title_ambientes_letras = \"(?P<numero>mono|un|dos|tres|cuatro|cinco|seis|siete|ocho|nueve|diez) ?(ambientes|ambiente|amb)\"\n",
    "\n",
    "#Ejecuto la funcion tanto en la columna \"decription\" como la columna \"title\"\n",
    "buscador_patrones(description_ambientes_numero, \"description\", \"numero_ambientes_description\")\n",
    "buscador_patrones(description_ambientes_letras, \"description\", \"numero_ambientes_desc_letras\")\n",
    "buscador_patrones(title_ambientes_numero, \"title\", \"numero_ambientes_title\")\n",
    "buscador_patrones(title_ambientes_letras, \"title\", \"numero_ambientes_title_letras\")"
   ]
  },
  {
   "cell_type": "code",
   "execution_count": 211,
   "id": "bronze-ridge",
   "metadata": {},
   "outputs": [
    {
     "data": {
      "text/html": [
       "<div>\n",
       "<style scoped>\n",
       "    .dataframe tbody tr th:only-of-type {\n",
       "        vertical-align: middle;\n",
       "    }\n",
       "\n",
       "    .dataframe tbody tr th {\n",
       "        vertical-align: top;\n",
       "    }\n",
       "\n",
       "    .dataframe thead th {\n",
       "        text-align: right;\n",
       "    }\n",
       "</style>\n",
       "<table border=\"1\" class=\"dataframe\">\n",
       "  <thead>\n",
       "    <tr style=\"text-align: right;\">\n",
       "      <th></th>\n",
       "      <th>rooms</th>\n",
       "      <th>description</th>\n",
       "      <th>title</th>\n",
       "      <th>numero_ambientes_description</th>\n",
       "      <th>numero_ambientes_desc_letras</th>\n",
       "      <th>numero_ambientes_title</th>\n",
       "      <th>numero_ambientes_title_letras</th>\n",
       "    </tr>\n",
       "  </thead>\n",
       "  <tbody>\n",
       "    <tr>\n",
       "      <th>5</th>\n",
       "      <td>NaN</td>\n",
       "      <td>Casa en el perímetro del barrio 338, ubicada en el extremo sur este del barrio, sobre calle 3 de caballería casi Nágera. Vista libre a terreno en frente.Consta de dos dormitorios, baño, living cocina comedor integrado de buen tamaño, lavadero con despensero en aluminio.Patio privado con churrasquera, tapiales y puerta de acceso de servicio. Frente con rejas y pequeño patio con verde, porch de acceso.Gas natural en la puerta. Aire acondicionado frío/calor. Baulera para guardado sobre pasillo. Muy buen estado en general de pisos, revestimientos, pintura, etc.Apto crédito. Aviso publicado por Pixel Inmobiliario (Servicio de Páginas Web para Inmobiliarias).</td>\n",
       "      <td>Casa Barrio 338. Sobre calle 3 de caballería, casi Nágera. Dos habit. Muy buen estado, patio con tapiales.</td>\n",
       "      <td>NaN</td>\n",
       "      <td>NaN</td>\n",
       "      <td>NaN</td>\n",
       "      <td>NaN</td>\n",
       "    </tr>\n",
       "    <tr>\n",
       "      <th>6</th>\n",
       "      <td>NaN</td>\n",
       "      <td>MUY BUEN PH AL FRENTE CON ENTRADA INDEPENDIENTE - SIN EXPENSAS! TODO EN  PLANTA BAJA DOS DORMITORIOS (pisos de pinotea) - LIVING - COCINA COMEDOR - BAÑO - PATIO - GALPÓN Y LAVADERO EN EL PATIOEN MUY BUEN ESTADO - INMEJORABLE UBICACIÓN - A 1 CUADRA DE LA ESTACIÓN DE MUNRO -  CERCA DE MAS DE 6 LINEAS DE COLECTIVOS - A 2 CUADRAS DEL CENTRO UNIVERSITARIO. 106 m2 TOTALES: 78 m2 CUBIERTOS Y 28 m2 DESCUBIERTOSAPTO PROFESIONAL                                                 Aviso publicado por Pixel Inmobiliario (Servicio de Páginas Web para Inmobiliarias).</td>\n",
       "      <td>MUY BUEN PH AL FRENTE DOS DORMITORIOS , PATIO, EXCELENTE UBICACION EN MUNRO</td>\n",
       "      <td>NaN</td>\n",
       "      <td>NaN</td>\n",
       "      <td>NaN</td>\n",
       "      <td>NaN</td>\n",
       "    </tr>\n",
       "    <tr>\n",
       "      <th>15</th>\n",
       "      <td>NaN</td>\n",
       "      <td>ULTIMA UNIDAD DISPONIBLEHAUS BOULEVARD: Metros Cubiertos: 115,23m²Contado U$D250.000HAUS VILLAGE es un complejo residencial de 20 casas con cochera y jardín propio, dentro del Barrio Cerrado Buenos Aires Village.Todas las unidades tienen entrada para auto, en planta baja cuentan con un toilette, living comedor con cocina separada.Patio exclusivo y, en planta alta, 3 dormitorios con espacio para placard (uno en suite).Realizados en una estructura monolítica de Hormigón Armado sobre platea de fundación y aberturas de PVC con DVH. La calidad de la construcción conjuga lo moderno y lo funcional, con un cuidado especial por lo estético. Son amplias superficies vidriadas que permiten vivir el verde del jardín en todo momento. El barrio cerrado cuenta con una doble entrada, lo que permite una mejor circulación interna de vehículos. Ofrece excelentes alternativas para los accesos al barrio, una entrada es por la autopista del Buen Ayre y la otra por la calle Flaubert. EasyBroker ID: EB-AN8955</td>\n",
       "      <td>HAUS VILLAGE / BELLA VISTA / 115m² MAS PATIO / BUENOS AIRES VILLAGE</td>\n",
       "      <td>NaN</td>\n",
       "      <td>NaN</td>\n",
       "      <td>NaN</td>\n",
       "      <td>NaN</td>\n",
       "    </tr>\n",
       "    <tr>\n",
       "      <th>18</th>\n",
       "      <td>NaN</td>\n",
       "      <td>Casa sobre lote al golf en barrio San Isidro Labrador.Planta Baja:Amplio Living comedor en doble altura,Toilette,Cocina comedor, Family/Escritorio, Lavadero, dependencia de servicio, Galería cubierta y semi cubierta.Planta Alta:Master Suite con ducha escocesa e hidromasajes doble, tres dormitorios, Baño, Escritorio y Placar de Blanco.Todos los pisos son de porcelanato.Losa Radiante en todos los ambientes y galería.Piscina con espejo de agua de 40 m2.</td>\n",
       "      <td>Casa en venta en barrio San Isidro Labrador, Tigre.</td>\n",
       "      <td>NaN</td>\n",
       "      <td>NaN</td>\n",
       "      <td>NaN</td>\n",
       "      <td>NaN</td>\n",
       "    </tr>\n",
       "    <tr>\n",
       "      <th>20</th>\n",
       "      <td>NaN</td>\n",
       "      <td>Consta de: Comedor-cocina, cuatro dormitorios (uno con baño en suite), un baño, otro baño para terminar, cuarto de herramientas y amplio parque.</td>\n",
       "      <td>Casa con excelente ubicaciòn, calle asfaltada, gas natural instalado, barrio residencial, linea de colectivo urbano. Orientaciòn Sur-Este.-</td>\n",
       "      <td>NaN</td>\n",
       "      <td>NaN</td>\n",
       "      <td>NaN</td>\n",
       "      <td>NaN</td>\n",
       "    </tr>\n",
       "    <tr>\n",
       "      <th>22</th>\n",
       "      <td>NaN</td>\n",
       "      <td>Edificada en 2 plantas. PB. amplio living con salida al parque, cocina con salida a la galería, todos los ambientes de pb con pisos de porcelanato.  Toilet de recepción,  lavadero,  galería con parrilla. Amplio jardín de 1000 m2.PA: 3 dormitorios con pisos  de porcelanato, uno de los cuales es en suite con vestidor, 2 baños completos. Hermosa vista abierta desde toda la planta alta. Muy luminosa! hermoso hogar a leña en el living. Cálida y acogedora.calefaccion por radeadores.la casa se  encuentra en construcción, entrega  terminada y pintada.  No incluye mobiliario de cocinaEl barrio cuenta con una completa infraestructura de servicios y propuestas deportivas y la posibilidad de vivir en un entorno seguro y rodeado de espacios verdes.Las 365 hectáreas que lo conforman están desarrolladas en 906 lotes de 1350m2 en promedio, lo que ofrece un privilegiado entorno natural y un particular microclima que se logró destinando para lotes solo el 30% de la superficie del lugar.Actividades D...</td>\n",
       "      <td>CASA EN VENTA A ESTRENAR EN EL NACIONAL</td>\n",
       "      <td>NaN</td>\n",
       "      <td>NaN</td>\n",
       "      <td>NaN</td>\n",
       "      <td>NaN</td>\n",
       "    </tr>\n",
       "    <tr>\n",
       "      <th>26</th>\n",
       "      <td>NaN</td>\n",
       "      <td>Casa en venta en complejo Villanueva barrio San Gabriel, la casa tiene un lote de 700 metros, cubiertos 190 y semi cubiertos 40 metros. Muy buena calidad de construccion, tiene en planta baja, living comedor, toilette de recepción, cocina con comedor diario y family, lavadero y dependencia. Planta alta dos dormitorios que comparten un baño, y la suite principal con vestidor y baño. Galeria con parrilla y jardin.</td>\n",
       "      <td>Casa muy linda en San Gabriel Villanueva</td>\n",
       "      <td>NaN</td>\n",
       "      <td>NaN</td>\n",
       "      <td>NaN</td>\n",
       "      <td>NaN</td>\n",
       "    </tr>\n",
       "    <tr>\n",
       "      <th>27</th>\n",
       "      <td>NaN</td>\n",
       "      <td>Estancias propone vivir rodeados de naturaleza y verde. Por este motivo se destinó el 50% del emprendimiento a espacios comunes con una parquización diseñada por el Estudio Thays. Además de reservar algunos espacios en su estado natural para garantizar una mejor calidad de vida. La ribera del Río Luján y el bosque natural de acacias le permiten a los habitantes de Estancias tener un contacto diario con la naturaleza en su estado puro. Donde la mano del hombre solo ha intervenido para asegurar su conservación. Barrio La PioneraEn cumplimiento de la Ley 2340 CUCICBA, Ley 10.973 de la Prov.Bs.As., Ley Nacional 25.028, Ley 22.802 de Lealtad Comercial, Ley 24.240 de Defensa al Consumidor, las normas del Código Civil y Comercial de la Nación y Constitucionales, los agentes NO ejercen el corretaje inmobiliario. Todas las operaciones inmobiliarias son objeto de intermediación y conclusión por parte de los martilleros y corredores colegiados, cuyos datos se exhiben debajo del nombre de la i...</td>\n",
       "      <td>Excelente Propiedad!!!! en Estancias del Pilar</td>\n",
       "      <td>NaN</td>\n",
       "      <td>NaN</td>\n",
       "      <td>NaN</td>\n",
       "      <td>NaN</td>\n",
       "    </tr>\n",
       "    <tr>\n",
       "      <th>30</th>\n",
       "      <td>NaN</td>\n",
       "      <td>Muy linda casa , toda en planta baja, doble pared de 30, ladrillo a la vista por dentro y fuera, pisos de ceramica blancos, techos de madera,esta en perfecto estado.Posee 3 dormitorios, 2 baños, cocina, living comedor, galeria techada con parrilla y ventilador de techo, cochera. Calefactores de gas natural en todos los cuartos, aire frio en toda la casa, pileta de 4m x 10m ,muy lindo parque arbolado.Planos aprobados.En cumplimiento de la Ley 2340 CUCICBA, Ley 10.973 de la Prov.Bs.As., Ley Nacional 25.028, Ley 22.802 de Lealtad Comercial, Ley 24.240 de Defensa al Consumidor, las normas del Código Civil y Comercial de la Nación y Constitucionales, los agentes NO ejercen el corretaje inmobiliario. Todas las operaciones inmobiliarias son objeto de intermediación y conclusión por parte de los martilleros y corredores colegiados, cuyos datos se exhiben debajo del nombre de la inmobiliaria.</td>\n",
       "      <td>Excelente propiedad !!!Muy buen estado, construida</td>\n",
       "      <td>NaN</td>\n",
       "      <td>NaN</td>\n",
       "      <td>NaN</td>\n",
       "      <td>NaN</td>\n",
       "    </tr>\n",
       "    <tr>\n",
       "      <th>36</th>\n",
       "      <td>NaN</td>\n",
       "      <td>Casa en Pilar centro ,a pocas cuadras de la plaza principal de Pilar.De muy buena construccion , doble pared, estado impecable, posee hall de entrada , living, comedor , cocina comedor, 3 dormitorios, el dorm. principal de 7,75m x 3,15m muy comodo.Galeria alrededor de toda la casa,.Garage.Muy lindo parque con pileta  de 10m x 5m. con bomba sumergible , filtro etc,termos electricos , uno para la cocina y otro para los baños, Pisos ceramicos, techo de yeso y tejas.Calefaccion por calefactores y Aire Acondicionado.En cumplimiento de la Ley 2340 CUCICBA, Ley 10.973 de la Prov.Bs.As., Ley Nacional 25.028, Ley 22.802 de Lealtad Comercial, Ley 24.240 de Defensa al Consumidor, las normas del Código Civil y Comercial de la Nación y Constitucionales, los agentes NO ejercen el corretaje inmobiliario. Todas las operaciones inmobiliarias son objeto de intermediación y conclusión por parte de los martilleros y corredores colegiados, cuyos datos se exhiben debajo del nombre de la inmobiliaria.</td>\n",
       "      <td>Casa en Pilar Centro-Excelente Estado</td>\n",
       "      <td>NaN</td>\n",
       "      <td>NaN</td>\n",
       "      <td>NaN</td>\n",
       "      <td>NaN</td>\n",
       "    </tr>\n",
       "  </tbody>\n",
       "</table>\n",
       "</div>"
      ],
      "text/plain": [
       "   rooms  \\\n",
       "5    NaN   \n",
       "6    NaN   \n",
       "15   NaN   \n",
       "18   NaN   \n",
       "20   NaN   \n",
       "22   NaN   \n",
       "26   NaN   \n",
       "27   NaN   \n",
       "30   NaN   \n",
       "36   NaN   \n",
       "\n",
       "                                                                                                                                                                                                                                                                                                                                                                                                                                                                                                                                                                                                                                                                                                                                                                                                                                                                                                                                                                                                                                description  \\\n",
       "5                                                                                                                                                                                                                                                                                                                                                     Casa en el perímetro del barrio 338, ubicada en el extremo sur este del barrio, sobre calle 3 de caballería casi Nágera. Vista libre a terreno en frente.Consta de dos dormitorios, baño, living cocina comedor integrado de buen tamaño, lavadero con despensero en aluminio.Patio privado con churrasquera, tapiales y puerta de acceso de servicio. Frente con rejas y pequeño patio con verde, porch de acceso.Gas natural en la puerta. Aire acondicionado frío/calor. Baulera para guardado sobre pasillo. Muy buen estado en general de pisos, revestimientos, pintura, etc.Apto crédito. Aviso publicado por Pixel Inmobiliario (Servicio de Páginas Web para Inmobiliarias).   \n",
       "6                                                                                                                                                                                                                                                                                                                                                                                                                                                               MUY BUEN PH AL FRENTE CON ENTRADA INDEPENDIENTE - SIN EXPENSAS! TODO EN  PLANTA BAJA DOS DORMITORIOS (pisos de pinotea) - LIVING - COCINA COMEDOR - BAÑO - PATIO - GALPÓN Y LAVADERO EN EL PATIOEN MUY BUEN ESTADO - INMEJORABLE UBICACIÓN - A 1 CUADRA DE LA ESTACIÓN DE MUNRO -  CERCA DE MAS DE 6 LINEAS DE COLECTIVOS - A 2 CUADRAS DEL CENTRO UNIVERSITARIO. 106 m2 TOTALES: 78 m2 CUBIERTOS Y 28 m2 DESCUBIERTOSAPTO PROFESIONAL                                                 Aviso publicado por Pixel Inmobiliario (Servicio de Páginas Web para Inmobiliarias).   \n",
       "15  ULTIMA UNIDAD DISPONIBLEHAUS BOULEVARD: Metros Cubiertos: 115,23m²Contado U$D250.000HAUS VILLAGE es un complejo residencial de 20 casas con cochera y jardín propio, dentro del Barrio Cerrado Buenos Aires Village.Todas las unidades tienen entrada para auto, en planta baja cuentan con un toilette, living comedor con cocina separada.Patio exclusivo y, en planta alta, 3 dormitorios con espacio para placard (uno en suite).Realizados en una estructura monolítica de Hormigón Armado sobre platea de fundación y aberturas de PVC con DVH. La calidad de la construcción conjuga lo moderno y lo funcional, con un cuidado especial por lo estético. Son amplias superficies vidriadas que permiten vivir el verde del jardín en todo momento. El barrio cerrado cuenta con una doble entrada, lo que permite una mejor circulación interna de vehículos. Ofrece excelentes alternativas para los accesos al barrio, una entrada es por la autopista del Buen Ayre y la otra por la calle Flaubert. EasyBroker ID: EB-AN8955   \n",
       "18                                                                                                                                                                                                                                                                                                                                                                                                                                                                                                                                                                   Casa sobre lote al golf en barrio San Isidro Labrador.Planta Baja:Amplio Living comedor en doble altura,Toilette,Cocina comedor, Family/Escritorio, Lavadero, dependencia de servicio, Galería cubierta y semi cubierta.Planta Alta:Master Suite con ducha escocesa e hidromasajes doble, tres dormitorios, Baño, Escritorio y Placar de Blanco.Todos los pisos son de porcelanato.Losa Radiante en todos los ambientes y galería.Piscina con espejo de agua de 40 m2.   \n",
       "20                                                                                                                                                                                                                                                                                                                                                                                                                                                                                                                                                                                                                                                                                                                                                                                                                                                                                         Consta de: Comedor-cocina, cuatro dormitorios (uno con baño en suite), un baño, otro baño para terminar, cuarto de herramientas y amplio parque.   \n",
       "22  Edificada en 2 plantas. PB. amplio living con salida al parque, cocina con salida a la galería, todos los ambientes de pb con pisos de porcelanato.  Toilet de recepción,  lavadero,  galería con parrilla. Amplio jardín de 1000 m2.PA: 3 dormitorios con pisos  de porcelanato, uno de los cuales es en suite con vestidor, 2 baños completos. Hermosa vista abierta desde toda la planta alta. Muy luminosa! hermoso hogar a leña en el living. Cálida y acogedora.calefaccion por radeadores.la casa se  encuentra en construcción, entrega  terminada y pintada.  No incluye mobiliario de cocinaEl barrio cuenta con una completa infraestructura de servicios y propuestas deportivas y la posibilidad de vivir en un entorno seguro y rodeado de espacios verdes.Las 365 hectáreas que lo conforman están desarrolladas en 906 lotes de 1350m2 en promedio, lo que ofrece un privilegiado entorno natural y un particular microclima que se logró destinando para lotes solo el 30% de la superficie del lugar.Actividades D...   \n",
       "26                                                                                                                                                                                                                                                                                                                                                                                                                                                                                                                                                                                                        Casa en venta en complejo Villanueva barrio San Gabriel, la casa tiene un lote de 700 metros, cubiertos 190 y semi cubiertos 40 metros. Muy buena calidad de construccion, tiene en planta baja, living comedor, toilette de recepción, cocina con comedor diario y family, lavadero y dependencia. Planta alta dos dormitorios que comparten un baño, y la suite principal con vestidor y baño. Galeria con parrilla y jardin.     \n",
       "27  Estancias propone vivir rodeados de naturaleza y verde. Por este motivo se destinó el 50% del emprendimiento a espacios comunes con una parquización diseñada por el Estudio Thays. Además de reservar algunos espacios en su estado natural para garantizar una mejor calidad de vida. La ribera del Río Luján y el bosque natural de acacias le permiten a los habitantes de Estancias tener un contacto diario con la naturaleza en su estado puro. Donde la mano del hombre solo ha intervenido para asegurar su conservación. Barrio La PioneraEn cumplimiento de la Ley 2340 CUCICBA, Ley 10.973 de la Prov.Bs.As., Ley Nacional 25.028, Ley 22.802 de Lealtad Comercial, Ley 24.240 de Defensa al Consumidor, las normas del Código Civil y Comercial de la Nación y Constitucionales, los agentes NO ejercen el corretaje inmobiliario. Todas las operaciones inmobiliarias son objeto de intermediación y conclusión por parte de los martilleros y corredores colegiados, cuyos datos se exhiben debajo del nombre de la i...   \n",
       "30                                                                                                         Muy linda casa , toda en planta baja, doble pared de 30, ladrillo a la vista por dentro y fuera, pisos de ceramica blancos, techos de madera,esta en perfecto estado.Posee 3 dormitorios, 2 baños, cocina, living comedor, galeria techada con parrilla y ventilador de techo, cochera. Calefactores de gas natural en todos los cuartos, aire frio en toda la casa, pileta de 4m x 10m ,muy lindo parque arbolado.Planos aprobados.En cumplimiento de la Ley 2340 CUCICBA, Ley 10.973 de la Prov.Bs.As., Ley Nacional 25.028, Ley 22.802 de Lealtad Comercial, Ley 24.240 de Defensa al Consumidor, las normas del Código Civil y Comercial de la Nación y Constitucionales, los agentes NO ejercen el corretaje inmobiliario. Todas las operaciones inmobiliarias son objeto de intermediación y conclusión por parte de los martilleros y corredores colegiados, cuyos datos se exhiben debajo del nombre de la inmobiliaria.   \n",
       "36        Casa en Pilar centro ,a pocas cuadras de la plaza principal de Pilar.De muy buena construccion , doble pared, estado impecable, posee hall de entrada , living, comedor , cocina comedor, 3 dormitorios, el dorm. principal de 7,75m x 3,15m muy comodo.Galeria alrededor de toda la casa,.Garage.Muy lindo parque con pileta  de 10m x 5m. con bomba sumergible , filtro etc,termos electricos , uno para la cocina y otro para los baños, Pisos ceramicos, techo de yeso y tejas.Calefaccion por calefactores y Aire Acondicionado.En cumplimiento de la Ley 2340 CUCICBA, Ley 10.973 de la Prov.Bs.As., Ley Nacional 25.028, Ley 22.802 de Lealtad Comercial, Ley 24.240 de Defensa al Consumidor, las normas del Código Civil y Comercial de la Nación y Constitucionales, los agentes NO ejercen el corretaje inmobiliario. Todas las operaciones inmobiliarias son objeto de intermediación y conclusión por parte de los martilleros y corredores colegiados, cuyos datos se exhiben debajo del nombre de la inmobiliaria.   \n",
       "\n",
       "                                                                                                                                          title  \\\n",
       "5                                    Casa Barrio 338. Sobre calle 3 de caballería, casi Nágera. Dos habit. Muy buen estado, patio con tapiales.   \n",
       "6                               MUY BUEN PH AL FRENTE DOS DORMITORIOS , PATIO, EXCELENTE UBICACION EN MUNRO                                       \n",
       "15                                                                          HAUS VILLAGE / BELLA VISTA / 115m² MAS PATIO / BUENOS AIRES VILLAGE   \n",
       "18                                                                                          Casa en venta en barrio San Isidro Labrador, Tigre.   \n",
       "20  Casa con excelente ubicaciòn, calle asfaltada, gas natural instalado, barrio residencial, linea de colectivo urbano. Orientaciòn Sur-Este.-   \n",
       "22                                                                                                      CASA EN VENTA A ESTRENAR EN EL NACIONAL   \n",
       "26                                                                                                     Casa muy linda en San Gabriel Villanueva   \n",
       "27                                                                                               Excelente Propiedad!!!! en Estancias del Pilar   \n",
       "30                                                                                           Excelente propiedad !!!Muy buen estado, construida   \n",
       "36                                                                                                        Casa en Pilar Centro-Excelente Estado   \n",
       "\n",
       "   numero_ambientes_description  numero_ambientes_desc_letras  \\\n",
       "5                           NaN                           NaN   \n",
       "6                           NaN                           NaN   \n",
       "15                          NaN                           NaN   \n",
       "18                          NaN                           NaN   \n",
       "20                          NaN                           NaN   \n",
       "22                          NaN                           NaN   \n",
       "26                          NaN                           NaN   \n",
       "27                          NaN                           NaN   \n",
       "30                          NaN                           NaN   \n",
       "36                          NaN                           NaN   \n",
       "\n",
       "   numero_ambientes_title  numero_ambientes_title_letras  \n",
       "5                     NaN                            NaN  \n",
       "6                     NaN                            NaN  \n",
       "15                    NaN                            NaN  \n",
       "18                    NaN                            NaN  \n",
       "20                    NaN                            NaN  \n",
       "22                    NaN                            NaN  \n",
       "26                    NaN                            NaN  \n",
       "27                    NaN                            NaN  \n",
       "30                    NaN                            NaN  \n",
       "36                    NaN                            NaN  "
      ]
     },
     "execution_count": 211,
     "metadata": {},
     "output_type": "execute_result"
    }
   ],
   "source": [
    "data9.loc[mask_no_rooms,[\"rooms\",\"description\",\"title\",\"numero_ambientes_description\",\"numero_ambientes_desc_letras\",\"numero_ambientes_title\",\"numero_ambientes_title_letras\"]].head(10)"
   ]
  },
  {
   "cell_type": "code",
   "execution_count": 212,
   "id": "welsh-oriental",
   "metadata": {},
   "outputs": [
    {
     "ename": "AttributeError",
     "evalue": "Can only use .str accessor with string values!",
     "output_type": "error",
     "traceback": [
      "\u001b[1;31m---------------------------------------------------------------------------\u001b[0m",
      "\u001b[1;31mAttributeError\u001b[0m                            Traceback (most recent call last)",
      "\u001b[1;32m<ipython-input-212-55e289d6ab7b>\u001b[0m in \u001b[0;36m<module>\u001b[1;34m\u001b[0m\n\u001b[0;32m      1\u001b[0m \u001b[1;31m#combierto amb_desc_letras y amb_title_letras en minuscula para estandarizar las columnas\u001b[0m\u001b[1;33m\u001b[0m\u001b[1;33m\u001b[0m\u001b[1;33m\u001b[0m\u001b[0m\n\u001b[1;32m----> 2\u001b[1;33m \u001b[0mdata9\u001b[0m\u001b[1;33m[\u001b[0m\u001b[1;34m\"numero_ambientes_desc_letras\"\u001b[0m\u001b[1;33m]\u001b[0m \u001b[1;33m=\u001b[0m \u001b[0mdata9\u001b[0m\u001b[1;33m[\u001b[0m\u001b[1;34m\"numero_ambientes_desc_letras\"\u001b[0m\u001b[1;33m]\u001b[0m\u001b[1;33m.\u001b[0m\u001b[0mstr\u001b[0m\u001b[1;33m.\u001b[0m\u001b[0mlower\u001b[0m\u001b[1;33m(\u001b[0m\u001b[1;33m)\u001b[0m\u001b[1;33m\u001b[0m\u001b[1;33m\u001b[0m\u001b[0m\n\u001b[0m\u001b[0;32m      3\u001b[0m \u001b[0mdata9\u001b[0m\u001b[1;33m[\u001b[0m\u001b[1;34m\"numero_ambientes_title_letras\"\u001b[0m\u001b[1;33m]\u001b[0m \u001b[1;33m=\u001b[0m \u001b[0mdata9\u001b[0m\u001b[1;33m[\u001b[0m\u001b[1;34m\"numero_ambientes_title_letras\"\u001b[0m\u001b[1;33m]\u001b[0m\u001b[1;33m.\u001b[0m\u001b[0mstr\u001b[0m\u001b[1;33m.\u001b[0m\u001b[0mlower\u001b[0m\u001b[1;33m(\u001b[0m\u001b[1;33m)\u001b[0m\u001b[1;33m\u001b[0m\u001b[1;33m\u001b[0m\u001b[0m\n",
      "\u001b[1;32m~\\anaconda3\\envs\\dhdsblend2021\\lib\\site-packages\\pandas\\core\\generic.py\u001b[0m in \u001b[0;36m__getattr__\u001b[1;34m(self, name)\u001b[0m\n\u001b[0;32m   5135\u001b[0m             \u001b[1;32mor\u001b[0m \u001b[0mname\u001b[0m \u001b[1;32min\u001b[0m \u001b[0mself\u001b[0m\u001b[1;33m.\u001b[0m\u001b[0m_accessors\u001b[0m\u001b[1;33m\u001b[0m\u001b[1;33m\u001b[0m\u001b[0m\n\u001b[0;32m   5136\u001b[0m         ):\n\u001b[1;32m-> 5137\u001b[1;33m             \u001b[1;32mreturn\u001b[0m \u001b[0mobject\u001b[0m\u001b[1;33m.\u001b[0m\u001b[0m__getattribute__\u001b[0m\u001b[1;33m(\u001b[0m\u001b[0mself\u001b[0m\u001b[1;33m,\u001b[0m \u001b[0mname\u001b[0m\u001b[1;33m)\u001b[0m\u001b[1;33m\u001b[0m\u001b[1;33m\u001b[0m\u001b[0m\n\u001b[0m\u001b[0;32m   5138\u001b[0m         \u001b[1;32melse\u001b[0m\u001b[1;33m:\u001b[0m\u001b[1;33m\u001b[0m\u001b[1;33m\u001b[0m\u001b[0m\n\u001b[0;32m   5139\u001b[0m             \u001b[1;32mif\u001b[0m \u001b[0mself\u001b[0m\u001b[1;33m.\u001b[0m\u001b[0m_info_axis\u001b[0m\u001b[1;33m.\u001b[0m\u001b[0m_can_hold_identifiers_and_holds_name\u001b[0m\u001b[1;33m(\u001b[0m\u001b[0mname\u001b[0m\u001b[1;33m)\u001b[0m\u001b[1;33m:\u001b[0m\u001b[1;33m\u001b[0m\u001b[1;33m\u001b[0m\u001b[0m\n",
      "\u001b[1;32m~\\anaconda3\\envs\\dhdsblend2021\\lib\\site-packages\\pandas\\core\\accessor.py\u001b[0m in \u001b[0;36m__get__\u001b[1;34m(self, obj, cls)\u001b[0m\n\u001b[0;32m    185\u001b[0m             \u001b[1;31m# we're accessing the attribute of the class, i.e., Dataset.geo\u001b[0m\u001b[1;33m\u001b[0m\u001b[1;33m\u001b[0m\u001b[1;33m\u001b[0m\u001b[0m\n\u001b[0;32m    186\u001b[0m             \u001b[1;32mreturn\u001b[0m \u001b[0mself\u001b[0m\u001b[1;33m.\u001b[0m\u001b[0m_accessor\u001b[0m\u001b[1;33m\u001b[0m\u001b[1;33m\u001b[0m\u001b[0m\n\u001b[1;32m--> 187\u001b[1;33m         \u001b[0maccessor_obj\u001b[0m \u001b[1;33m=\u001b[0m \u001b[0mself\u001b[0m\u001b[1;33m.\u001b[0m\u001b[0m_accessor\u001b[0m\u001b[1;33m(\u001b[0m\u001b[0mobj\u001b[0m\u001b[1;33m)\u001b[0m\u001b[1;33m\u001b[0m\u001b[1;33m\u001b[0m\u001b[0m\n\u001b[0m\u001b[0;32m    188\u001b[0m         \u001b[1;31m# Replace the property with the accessor object. Inspired by:\u001b[0m\u001b[1;33m\u001b[0m\u001b[1;33m\u001b[0m\u001b[1;33m\u001b[0m\u001b[0m\n\u001b[0;32m    189\u001b[0m         \u001b[1;31m# https://www.pydanny.com/cached-property.html\u001b[0m\u001b[1;33m\u001b[0m\u001b[1;33m\u001b[0m\u001b[1;33m\u001b[0m\u001b[0m\n",
      "\u001b[1;32m~\\anaconda3\\envs\\dhdsblend2021\\lib\\site-packages\\pandas\\core\\strings.py\u001b[0m in \u001b[0;36m__init__\u001b[1;34m(self, data)\u001b[0m\n\u001b[0;32m   2098\u001b[0m \u001b[1;33m\u001b[0m\u001b[0m\n\u001b[0;32m   2099\u001b[0m     \u001b[1;32mdef\u001b[0m \u001b[0m__init__\u001b[0m\u001b[1;33m(\u001b[0m\u001b[0mself\u001b[0m\u001b[1;33m,\u001b[0m \u001b[0mdata\u001b[0m\u001b[1;33m)\u001b[0m\u001b[1;33m:\u001b[0m\u001b[1;33m\u001b[0m\u001b[1;33m\u001b[0m\u001b[0m\n\u001b[1;32m-> 2100\u001b[1;33m         \u001b[0mself\u001b[0m\u001b[1;33m.\u001b[0m\u001b[0m_inferred_dtype\u001b[0m \u001b[1;33m=\u001b[0m \u001b[0mself\u001b[0m\u001b[1;33m.\u001b[0m\u001b[0m_validate\u001b[0m\u001b[1;33m(\u001b[0m\u001b[0mdata\u001b[0m\u001b[1;33m)\u001b[0m\u001b[1;33m\u001b[0m\u001b[1;33m\u001b[0m\u001b[0m\n\u001b[0m\u001b[0;32m   2101\u001b[0m         \u001b[0mself\u001b[0m\u001b[1;33m.\u001b[0m\u001b[0m_is_categorical\u001b[0m \u001b[1;33m=\u001b[0m \u001b[0mis_categorical_dtype\u001b[0m\u001b[1;33m(\u001b[0m\u001b[0mdata\u001b[0m\u001b[1;33m.\u001b[0m\u001b[0mdtype\u001b[0m\u001b[1;33m)\u001b[0m\u001b[1;33m\u001b[0m\u001b[1;33m\u001b[0m\u001b[0m\n\u001b[0;32m   2102\u001b[0m         \u001b[0mself\u001b[0m\u001b[1;33m.\u001b[0m\u001b[0m_is_string\u001b[0m \u001b[1;33m=\u001b[0m \u001b[0mdata\u001b[0m\u001b[1;33m.\u001b[0m\u001b[0mdtype\u001b[0m\u001b[1;33m.\u001b[0m\u001b[0mname\u001b[0m \u001b[1;33m==\u001b[0m \u001b[1;34m\"string\"\u001b[0m\u001b[1;33m\u001b[0m\u001b[1;33m\u001b[0m\u001b[0m\n",
      "\u001b[1;32m~\\anaconda3\\envs\\dhdsblend2021\\lib\\site-packages\\pandas\\core\\strings.py\u001b[0m in \u001b[0;36m_validate\u001b[1;34m(data)\u001b[0m\n\u001b[0;32m   2155\u001b[0m \u001b[1;33m\u001b[0m\u001b[0m\n\u001b[0;32m   2156\u001b[0m         \u001b[1;32mif\u001b[0m \u001b[0minferred_dtype\u001b[0m \u001b[1;32mnot\u001b[0m \u001b[1;32min\u001b[0m \u001b[0mallowed_types\u001b[0m\u001b[1;33m:\u001b[0m\u001b[1;33m\u001b[0m\u001b[1;33m\u001b[0m\u001b[0m\n\u001b[1;32m-> 2157\u001b[1;33m             \u001b[1;32mraise\u001b[0m \u001b[0mAttributeError\u001b[0m\u001b[1;33m(\u001b[0m\u001b[1;34m\"Can only use .str accessor with string values!\"\u001b[0m\u001b[1;33m)\u001b[0m\u001b[1;33m\u001b[0m\u001b[1;33m\u001b[0m\u001b[0m\n\u001b[0m\u001b[0;32m   2158\u001b[0m         \u001b[1;32mreturn\u001b[0m \u001b[0minferred_dtype\u001b[0m\u001b[1;33m\u001b[0m\u001b[1;33m\u001b[0m\u001b[0m\n\u001b[0;32m   2159\u001b[0m \u001b[1;33m\u001b[0m\u001b[0m\n",
      "\u001b[1;31mAttributeError\u001b[0m: Can only use .str accessor with string values!"
     ]
    }
   ],
   "source": [
    "#combierto amb_desc_letras y amb_title_letras en minuscula para estandarizar las columnas\n",
    "data9[\"numero_ambientes_desc_letras\"] = data9[\"numero_ambientes_desc_letras\"].str.lower()\n",
    "data9[\"numero_ambientes_title_letras\"] = data9[\"numero_ambientes_title_letras\"].str.lower()"
   ]
  },
  {
   "cell_type": "code",
   "execution_count": 191,
   "id": "disciplinary-cooperative",
   "metadata": {},
   "outputs": [
    {
     "name": "stderr",
     "output_type": "stream",
     "text": [
      "<ipython-input-191-0c84a9013361>:3: SettingWithCopyWarning: \n",
      "A value is trying to be set on a copy of a slice from a DataFrame.\n",
      "Try using .loc[row_indexer,col_indexer] = value instead\n",
      "\n",
      "See the caveats in the documentation: https://pandas.pydata.org/pandas-docs/stable/user_guide/indexing.html#returning-a-view-versus-a-copy\n",
      "  data9[\"numero_ambientes_desc_letras\"] = data9[\"numero_ambientes_desc_letras\"].replace(dictionary)\n",
      "<ipython-input-191-0c84a9013361>:4: SettingWithCopyWarning: \n",
      "A value is trying to be set on a copy of a slice from a DataFrame.\n",
      "Try using .loc[row_indexer,col_indexer] = value instead\n",
      "\n",
      "See the caveats in the documentation: https://pandas.pydata.org/pandas-docs/stable/user_guide/indexing.html#returning-a-view-versus-a-copy\n",
      "  data9[\"numero_ambientes_title_letras\"] = data9[\"numero_ambientes_title_letras\"].replace(dictionary)\n"
     ]
    }
   ],
   "source": [
    "#Reemplazamos aquellos numeros en letras con numeros, lo hacemos con un diccionario\n",
    "dictionary = {\"mono\":1, \"un\":1,\"dos\":2,\"tres\":3,\"cuatro\":4,\"cinco\":5,\"seis\":6,\"siete\":7,\"ocho\":8,\"nueve\":9,\"diez\":10}\n",
    "data9[\"numero_ambientes_desc_letras\"] = data9[\"numero_ambientes_desc_letras\"].replace(dictionary)\n",
    "data9[\"numero_ambientes_title_letras\"] = data9[\"numero_ambientes_title_letras\"].replace(dictionary)"
   ]
  },
  {
   "cell_type": "code",
   "execution_count": 193,
   "id": "higher-property",
   "metadata": {},
   "outputs": [
    {
     "data": {
      "text/html": [
       "<div>\n",
       "<style scoped>\n",
       "    .dataframe tbody tr th:only-of-type {\n",
       "        vertical-align: middle;\n",
       "    }\n",
       "\n",
       "    .dataframe tbody tr th {\n",
       "        vertical-align: top;\n",
       "    }\n",
       "\n",
       "    .dataframe thead th {\n",
       "        text-align: right;\n",
       "    }\n",
       "</style>\n",
       "<table border=\"1\" class=\"dataframe\">\n",
       "  <thead>\n",
       "    <tr style=\"text-align: right;\">\n",
       "      <th></th>\n",
       "      <th>numero_ambientes_description</th>\n",
       "      <th>numero_ambientes_desc_letras</th>\n",
       "      <th>numero_ambientes_title</th>\n",
       "      <th>numero_ambientes_title_letras</th>\n",
       "    </tr>\n",
       "  </thead>\n",
       "  <tbody>\n",
       "    <tr>\n",
       "      <th>0</th>\n",
       "      <td>2</td>\n",
       "      <td>NaN</td>\n",
       "      <td>2</td>\n",
       "      <td>NaN</td>\n",
       "    </tr>\n",
       "    <tr>\n",
       "      <th>2</th>\n",
       "      <td>2</td>\n",
       "      <td>NaN</td>\n",
       "      <td>2</td>\n",
       "      <td>NaN</td>\n",
       "    </tr>\n",
       "    <tr>\n",
       "      <th>4</th>\n",
       "      <td>NaN</td>\n",
       "      <td>NaN</td>\n",
       "      <td>2</td>\n",
       "      <td>NaN</td>\n",
       "    </tr>\n",
       "    <tr>\n",
       "      <th>5</th>\n",
       "      <td>NaN</td>\n",
       "      <td>NaN</td>\n",
       "      <td>NaN</td>\n",
       "      <td>NaN</td>\n",
       "    </tr>\n",
       "    <tr>\n",
       "      <th>6</th>\n",
       "      <td>NaN</td>\n",
       "      <td>NaN</td>\n",
       "      <td>NaN</td>\n",
       "      <td>NaN</td>\n",
       "    </tr>\n",
       "    <tr>\n",
       "      <th>7</th>\n",
       "      <td>NaN</td>\n",
       "      <td>1.0</td>\n",
       "      <td>NaN</td>\n",
       "      <td>1.0</td>\n",
       "    </tr>\n",
       "    <tr>\n",
       "      <th>8</th>\n",
       "      <td>NaN</td>\n",
       "      <td>2.0</td>\n",
       "      <td>NaN</td>\n",
       "      <td>2.0</td>\n",
       "    </tr>\n",
       "    <tr>\n",
       "      <th>12</th>\n",
       "      <td>2</td>\n",
       "      <td>NaN</td>\n",
       "      <td>2</td>\n",
       "      <td>NaN</td>\n",
       "    </tr>\n",
       "    <tr>\n",
       "      <th>15</th>\n",
       "      <td>NaN</td>\n",
       "      <td>NaN</td>\n",
       "      <td>NaN</td>\n",
       "      <td>NaN</td>\n",
       "    </tr>\n",
       "    <tr>\n",
       "      <th>18</th>\n",
       "      <td>NaN</td>\n",
       "      <td>NaN</td>\n",
       "      <td>NaN</td>\n",
       "      <td>NaN</td>\n",
       "    </tr>\n",
       "  </tbody>\n",
       "</table>\n",
       "</div>"
      ],
      "text/plain": [
       "   numero_ambientes_description  numero_ambientes_desc_letras  \\\n",
       "0                             2                           NaN   \n",
       "2                             2                           NaN   \n",
       "4                           NaN                           NaN   \n",
       "5                           NaN                           NaN   \n",
       "6                           NaN                           NaN   \n",
       "7                           NaN                           1.0   \n",
       "8                           NaN                           2.0   \n",
       "12                            2                           NaN   \n",
       "15                          NaN                           NaN   \n",
       "18                          NaN                           NaN   \n",
       "\n",
       "   numero_ambientes_title  numero_ambientes_title_letras  \n",
       "0                       2                            NaN  \n",
       "2                       2                            NaN  \n",
       "4                       2                            NaN  \n",
       "5                     NaN                            NaN  \n",
       "6                     NaN                            NaN  \n",
       "7                     NaN                            1.0  \n",
       "8                     NaN                            2.0  \n",
       "12                      2                            NaN  \n",
       "15                    NaN                            NaN  \n",
       "18                    NaN                            NaN  "
      ]
     },
     "execution_count": 193,
     "metadata": {},
     "output_type": "execute_result"
    }
   ],
   "source": [
    "data9.loc[mask_no_rooms,[\"numero_ambientes_description\",\"numero_ambientes_desc_letras\",\"numero_ambientes_title\",\"numero_ambientes_title_letras\"]].head(10)"
   ]
  },
  {
   "cell_type": "code",
   "execution_count": 194,
   "id": "visible-soccer",
   "metadata": {},
   "outputs": [
    {
     "name": "stderr",
     "output_type": "stream",
     "text": [
      "C:\\Users\\pedro\\anaconda3\\envs\\dhdsblend2021\\lib\\site-packages\\pandas\\core\\series.py:4530: SettingWithCopyWarning: \n",
      "A value is trying to be set on a copy of a slice from a DataFrame\n",
      "\n",
      "See the caveats in the documentation: https://pandas.pydata.org/pandas-docs/stable/user_guide/indexing.html#returning-a-view-versus-a-copy\n",
      "  return super().fillna(\n"
     ]
    }
   ],
   "source": [
    "#Reemplazamos los nulos en rooms con las columnas contruidas\n",
    "data9[\"rooms\"].fillna(data9[\"numero_ambientes_description\"], inplace=True)\n",
    "data9[\"rooms\"].fillna(data9[\"numero_ambientes_desc_letras\"], inplace=True)\n",
    "data9[\"rooms\"].fillna(data9[\"numero_ambientes_title\"], inplace=True)\n",
    "data9[\"rooms\"].fillna(data9[\"numero_ambientes_title_letras\"], inplace=True)"
   ]
  },
  {
   "cell_type": "code",
   "execution_count": 195,
   "id": "quality-gambling",
   "metadata": {},
   "outputs": [
    {
     "data": {
      "text/plain": [
       "32440"
      ]
     },
     "execution_count": 195,
     "metadata": {},
     "output_type": "execute_result"
    }
   ],
   "source": [
    "#Vemos como se redujo considerablemente la cantidad de nulos en rooms\n",
    "data9[\"rooms\"].isnull().sum()"
   ]
  },
  {
   "cell_type": "code",
   "execution_count": 196,
   "id": "ecological-compression",
   "metadata": {},
   "outputs": [],
   "source": [
    "#Para aquellas propiedades sin la cantidad explicita de ambientes detalle en las columnas description y title vamos a tratar de armarlos con la informacion restante de las mismas."
   ]
  },
  {
   "cell_type": "code",
   "execution_count": 205,
   "id": "limited-bolivia",
   "metadata": {},
   "outputs": [
    {
     "ename": "ValueError",
     "evalue": "cannot insert dormitorios_numeros, already exists",
     "output_type": "error",
     "traceback": [
      "\u001b[1;31m---------------------------------------------------------------------------\u001b[0m",
      "\u001b[1;31mValueError\u001b[0m                                Traceback (most recent call last)",
      "\u001b[1;32m<ipython-input-205-c5bd32ff5923>\u001b[0m in \u001b[0;36m<module>\u001b[1;34m\u001b[0m\n\u001b[0;32m      6\u001b[0m \u001b[1;33m\u001b[0m\u001b[0m\n\u001b[0;32m      7\u001b[0m \u001b[1;31m#ejecuto la funcion buscador_patrones\u001b[0m\u001b[1;33m\u001b[0m\u001b[1;33m\u001b[0m\u001b[1;33m\u001b[0m\u001b[0m\n\u001b[1;32m----> 8\u001b[1;33m \u001b[0mbuscador_patrones\u001b[0m\u001b[1;33m(\u001b[0m\u001b[0mdormitorios_numeros\u001b[0m\u001b[1;33m,\u001b[0m \u001b[1;34m\"description\"\u001b[0m\u001b[1;33m,\u001b[0m \u001b[1;34m\"dormitorios_numeros\"\u001b[0m\u001b[1;33m)\u001b[0m\u001b[1;33m\u001b[0m\u001b[1;33m\u001b[0m\u001b[0m\n\u001b[0m\u001b[0;32m      9\u001b[0m \u001b[0mbuscador_patrones\u001b[0m\u001b[1;33m(\u001b[0m\u001b[0mdormitorios_letras\u001b[0m\u001b[1;33m,\u001b[0m \u001b[1;34m\"description\"\u001b[0m\u001b[1;33m,\u001b[0m \u001b[1;34m\"dormitorios_letras\"\u001b[0m\u001b[1;33m)\u001b[0m\u001b[1;33m\u001b[0m\u001b[1;33m\u001b[0m\u001b[0m\n",
      "\u001b[1;32m<ipython-input-187-928ae9c0777d>\u001b[0m in \u001b[0;36mbuscador_patrones\u001b[1;34m(patron, columna_de_trabajo, nombre_nueva_columna)\u001b[0m\n\u001b[0;32m      3\u001b[0m     \u001b[0mpatron_regex\u001b[0m \u001b[1;33m=\u001b[0m \u001b[0mre\u001b[0m\u001b[1;33m.\u001b[0m\u001b[0mcompile\u001b[0m\u001b[1;33m(\u001b[0m\u001b[0mpatron\u001b[0m\u001b[1;33m,\u001b[0m \u001b[0mre\u001b[0m\u001b[1;33m.\u001b[0m\u001b[0mIGNORECASE\u001b[0m\u001b[1;33m)\u001b[0m\u001b[1;33m\u001b[0m\u001b[1;33m\u001b[0m\u001b[0m\n\u001b[0;32m      4\u001b[0m     \u001b[0mmatcheos\u001b[0m \u001b[1;33m=\u001b[0m \u001b[0mdata9\u001b[0m\u001b[1;33m[\u001b[0m\u001b[0mcolumna_de_trabajo\u001b[0m\u001b[1;33m]\u001b[0m\u001b[1;33m.\u001b[0m\u001b[0mapply\u001b[0m\u001b[1;33m(\u001b[0m\u001b[1;32mlambda\u001b[0m \u001b[0mx\u001b[0m\u001b[1;33m:\u001b[0m\u001b[0mx\u001b[0m \u001b[1;32mif\u001b[0m \u001b[0mx\u001b[0m \u001b[1;32mis\u001b[0m \u001b[0mnp\u001b[0m\u001b[1;33m.\u001b[0m\u001b[0mNaN\u001b[0m \u001b[1;32melse\u001b[0m \u001b[0mpatron_regex\u001b[0m\u001b[1;33m.\u001b[0m\u001b[0msearch\u001b[0m\u001b[1;33m(\u001b[0m\u001b[0mx\u001b[0m\u001b[1;33m)\u001b[0m\u001b[1;33m.\u001b[0m\u001b[0mgroup\u001b[0m\u001b[1;33m(\u001b[0m\u001b[1;34m\"numero\"\u001b[0m\u001b[1;33m)\u001b[0m \u001b[1;32mif\u001b[0m \u001b[0mpatron_regex\u001b[0m\u001b[1;33m.\u001b[0m\u001b[0msearch\u001b[0m\u001b[1;33m(\u001b[0m\u001b[0mx\u001b[0m\u001b[1;33m)\u001b[0m\u001b[1;33m!=\u001b[0m\u001b[1;32mNone\u001b[0m \u001b[1;32melse\u001b[0m \u001b[0mnp\u001b[0m\u001b[1;33m.\u001b[0m\u001b[0mNaN\u001b[0m\u001b[1;33m)\u001b[0m\u001b[1;33m\u001b[0m\u001b[1;33m\u001b[0m\u001b[0m\n\u001b[1;32m----> 5\u001b[1;33m     \u001b[0mdata9\u001b[0m\u001b[1;33m.\u001b[0m\u001b[0minsert\u001b[0m\u001b[1;33m(\u001b[0m\u001b[1;36m13\u001b[0m\u001b[1;33m,\u001b[0m \u001b[0mnombre_nueva_columna\u001b[0m\u001b[1;33m,\u001b[0m \u001b[0mmatcheos\u001b[0m\u001b[1;33m)\u001b[0m\u001b[1;33m\u001b[0m\u001b[1;33m\u001b[0m\u001b[0m\n\u001b[0m",
      "\u001b[1;32m~\\anaconda3\\envs\\dhdsblend2021\\lib\\site-packages\\pandas\\core\\frame.py\u001b[0m in \u001b[0;36minsert\u001b[1;34m(self, loc, column, value, allow_duplicates)\u001b[0m\n\u001b[0;32m   3626\u001b[0m         \u001b[0mself\u001b[0m\u001b[1;33m.\u001b[0m\u001b[0m_ensure_valid_index\u001b[0m\u001b[1;33m(\u001b[0m\u001b[0mvalue\u001b[0m\u001b[1;33m)\u001b[0m\u001b[1;33m\u001b[0m\u001b[1;33m\u001b[0m\u001b[0m\n\u001b[0;32m   3627\u001b[0m         \u001b[0mvalue\u001b[0m \u001b[1;33m=\u001b[0m \u001b[0mself\u001b[0m\u001b[1;33m.\u001b[0m\u001b[0m_sanitize_column\u001b[0m\u001b[1;33m(\u001b[0m\u001b[0mcolumn\u001b[0m\u001b[1;33m,\u001b[0m \u001b[0mvalue\u001b[0m\u001b[1;33m,\u001b[0m \u001b[0mbroadcast\u001b[0m\u001b[1;33m=\u001b[0m\u001b[1;32mFalse\u001b[0m\u001b[1;33m)\u001b[0m\u001b[1;33m\u001b[0m\u001b[1;33m\u001b[0m\u001b[0m\n\u001b[1;32m-> 3628\u001b[1;33m         \u001b[0mself\u001b[0m\u001b[1;33m.\u001b[0m\u001b[0m_mgr\u001b[0m\u001b[1;33m.\u001b[0m\u001b[0minsert\u001b[0m\u001b[1;33m(\u001b[0m\u001b[0mloc\u001b[0m\u001b[1;33m,\u001b[0m \u001b[0mcolumn\u001b[0m\u001b[1;33m,\u001b[0m \u001b[0mvalue\u001b[0m\u001b[1;33m,\u001b[0m \u001b[0mallow_duplicates\u001b[0m\u001b[1;33m=\u001b[0m\u001b[0mallow_duplicates\u001b[0m\u001b[1;33m)\u001b[0m\u001b[1;33m\u001b[0m\u001b[1;33m\u001b[0m\u001b[0m\n\u001b[0m\u001b[0;32m   3629\u001b[0m \u001b[1;33m\u001b[0m\u001b[0m\n\u001b[0;32m   3630\u001b[0m     \u001b[1;32mdef\u001b[0m \u001b[0massign\u001b[0m\u001b[1;33m(\u001b[0m\u001b[0mself\u001b[0m\u001b[1;33m,\u001b[0m \u001b[1;33m**\u001b[0m\u001b[0mkwargs\u001b[0m\u001b[1;33m)\u001b[0m \u001b[1;33m->\u001b[0m \u001b[1;34m\"DataFrame\"\u001b[0m\u001b[1;33m:\u001b[0m\u001b[1;33m\u001b[0m\u001b[1;33m\u001b[0m\u001b[0m\n",
      "\u001b[1;32m~\\anaconda3\\envs\\dhdsblend2021\\lib\\site-packages\\pandas\\core\\internals\\managers.py\u001b[0m in \u001b[0;36minsert\u001b[1;34m(self, loc, item, value, allow_duplicates)\u001b[0m\n\u001b[0;32m   1184\u001b[0m         \u001b[1;32mif\u001b[0m \u001b[1;32mnot\u001b[0m \u001b[0mallow_duplicates\u001b[0m \u001b[1;32mand\u001b[0m \u001b[0mitem\u001b[0m \u001b[1;32min\u001b[0m \u001b[0mself\u001b[0m\u001b[1;33m.\u001b[0m\u001b[0mitems\u001b[0m\u001b[1;33m:\u001b[0m\u001b[1;33m\u001b[0m\u001b[1;33m\u001b[0m\u001b[0m\n\u001b[0;32m   1185\u001b[0m             \u001b[1;31m# Should this be a different kind of error??\u001b[0m\u001b[1;33m\u001b[0m\u001b[1;33m\u001b[0m\u001b[1;33m\u001b[0m\u001b[0m\n\u001b[1;32m-> 1186\u001b[1;33m             \u001b[1;32mraise\u001b[0m \u001b[0mValueError\u001b[0m\u001b[1;33m(\u001b[0m\u001b[1;34mf\"cannot insert {item}, already exists\"\u001b[0m\u001b[1;33m)\u001b[0m\u001b[1;33m\u001b[0m\u001b[1;33m\u001b[0m\u001b[0m\n\u001b[0m\u001b[0;32m   1187\u001b[0m \u001b[1;33m\u001b[0m\u001b[0m\n\u001b[0;32m   1188\u001b[0m         \u001b[1;32mif\u001b[0m \u001b[1;32mnot\u001b[0m \u001b[0misinstance\u001b[0m\u001b[1;33m(\u001b[0m\u001b[0mloc\u001b[0m\u001b[1;33m,\u001b[0m \u001b[0mint\u001b[0m\u001b[1;33m)\u001b[0m\u001b[1;33m:\u001b[0m\u001b[1;33m\u001b[0m\u001b[1;33m\u001b[0m\u001b[0m\n",
      "\u001b[1;31mValueError\u001b[0m: cannot insert dormitorios_numeros, already exists"
     ]
    }
   ],
   "source": [
    "#Comenzamos con dormitorios\n",
    "\n",
    "#Patrones\n",
    "dormitorios_numeros = \"(?P<numero>\\d\\d?) ?(dorm|cuarto)\"\n",
    "dormitorios_letras = \"(?P<numero>mono|un|dos|tres|cuatro|cinco|seis|siete|ocho|nueve|diez) ?(dorm|cuarto)\"\n",
    "\n",
    "#ejecuto la funcion buscador_patrones\n",
    "buscador_patrones(dormitorios_numeros, \"description\", \"dormitorios_numeros\")\n",
    "buscador_patrones(dormitorios_letras, \"description\", \"dormitorios_letras\")"
   ]
  },
  {
   "cell_type": "code",
   "execution_count": 203,
   "id": "innocent-moderator",
   "metadata": {},
   "outputs": [
    {
     "data": {
      "text/html": [
       "<div>\n",
       "<style scoped>\n",
       "    .dataframe tbody tr th:only-of-type {\n",
       "        vertical-align: middle;\n",
       "    }\n",
       "\n",
       "    .dataframe tbody tr th {\n",
       "        vertical-align: top;\n",
       "    }\n",
       "\n",
       "    .dataframe thead th {\n",
       "        text-align: right;\n",
       "    }\n",
       "</style>\n",
       "<table border=\"1\" class=\"dataframe\">\n",
       "  <thead>\n",
       "    <tr style=\"text-align: right;\">\n",
       "      <th></th>\n",
       "      <th>dormitorios_numeros</th>\n",
       "      <th>dormitorios_letras</th>\n",
       "    </tr>\n",
       "  </thead>\n",
       "  <tbody>\n",
       "    <tr>\n",
       "      <th>0</th>\n",
       "      <td>NaN</td>\n",
       "      <td>NaN</td>\n",
       "    </tr>\n",
       "    <tr>\n",
       "      <th>2</th>\n",
       "      <td>NaN</td>\n",
       "      <td>NaN</td>\n",
       "    </tr>\n",
       "    <tr>\n",
       "      <th>4</th>\n",
       "      <td>1</td>\n",
       "      <td>NaN</td>\n",
       "    </tr>\n",
       "    <tr>\n",
       "      <th>5</th>\n",
       "      <td>NaN</td>\n",
       "      <td>2.0</td>\n",
       "    </tr>\n",
       "    <tr>\n",
       "      <th>6</th>\n",
       "      <td>NaN</td>\n",
       "      <td>2.0</td>\n",
       "    </tr>\n",
       "    <tr>\n",
       "      <th>...</th>\n",
       "      <td>...</td>\n",
       "      <td>...</td>\n",
       "    </tr>\n",
       "    <tr>\n",
       "      <th>121214</th>\n",
       "      <td>NaN</td>\n",
       "      <td>NaN</td>\n",
       "    </tr>\n",
       "    <tr>\n",
       "      <th>121215</th>\n",
       "      <td>2</td>\n",
       "      <td>NaN</td>\n",
       "    </tr>\n",
       "    <tr>\n",
       "      <th>121216</th>\n",
       "      <td>3</td>\n",
       "      <td>NaN</td>\n",
       "    </tr>\n",
       "    <tr>\n",
       "      <th>121217</th>\n",
       "      <td>NaN</td>\n",
       "      <td>NaN</td>\n",
       "    </tr>\n",
       "    <tr>\n",
       "      <th>121218</th>\n",
       "      <td>NaN</td>\n",
       "      <td>NaN</td>\n",
       "    </tr>\n",
       "  </tbody>\n",
       "</table>\n",
       "<p>97214 rows × 2 columns</p>\n",
       "</div>"
      ],
      "text/plain": [
       "       dormitorios_numeros  dormitorios_letras\n",
       "0                      NaN                 NaN\n",
       "2                      NaN                 NaN\n",
       "4                        1                 NaN\n",
       "5                      NaN                 2.0\n",
       "6                      NaN                 2.0\n",
       "...                    ...                 ...\n",
       "121214                 NaN                 NaN\n",
       "121215                   2                 NaN\n",
       "121216                   3                 NaN\n",
       "121217                 NaN                 NaN\n",
       "121218                 NaN                 NaN\n",
       "\n",
       "[97214 rows x 2 columns]"
      ]
     },
     "execution_count": 203,
     "metadata": {},
     "output_type": "execute_result"
    }
   ],
   "source": [
    "data9.loc[:,[\"dormitorios_numeros\",\"dormitorios_letras\"]]"
   ]
  },
  {
   "cell_type": "code",
   "execution_count": 204,
   "id": "written-gospel",
   "metadata": {},
   "outputs": [
    {
     "ename": "AttributeError",
     "evalue": "Can only use .str accessor with string values!",
     "output_type": "error",
     "traceback": [
      "\u001b[1;31m---------------------------------------------------------------------------\u001b[0m",
      "\u001b[1;31mAttributeError\u001b[0m                            Traceback (most recent call last)",
      "\u001b[1;32m<ipython-input-204-41adf1f4398d>\u001b[0m in \u001b[0;36m<module>\u001b[1;34m\u001b[0m\n\u001b[0;32m      1\u001b[0m \u001b[1;31m#Reemplazo las letras por integers\u001b[0m\u001b[1;33m\u001b[0m\u001b[1;33m\u001b[0m\u001b[1;33m\u001b[0m\u001b[0m\n\u001b[1;32m----> 2\u001b[1;33m \u001b[0mdata9\u001b[0m\u001b[1;33m[\u001b[0m\u001b[1;34m\"dormitorios_letras\"\u001b[0m\u001b[1;33m]\u001b[0m \u001b[1;33m=\u001b[0m \u001b[0mdata9\u001b[0m\u001b[1;33m[\u001b[0m\u001b[1;34m\"dormitorios_letras\"\u001b[0m\u001b[1;33m]\u001b[0m\u001b[1;33m.\u001b[0m\u001b[0mstr\u001b[0m\u001b[1;33m.\u001b[0m\u001b[0mlower\u001b[0m\u001b[1;33m(\u001b[0m\u001b[1;33m)\u001b[0m\u001b[1;33m\u001b[0m\u001b[1;33m\u001b[0m\u001b[0m\n\u001b[0m\u001b[0;32m      3\u001b[0m \u001b[0mdiccionario_letras\u001b[0m \u001b[1;33m=\u001b[0m \u001b[1;33m{\u001b[0m\u001b[1;34m\"un\"\u001b[0m\u001b[1;33m:\u001b[0m\u001b[1;36m1\u001b[0m\u001b[1;33m,\u001b[0m\u001b[1;34m\"dos\"\u001b[0m\u001b[1;33m:\u001b[0m\u001b[1;36m2\u001b[0m\u001b[1;33m,\u001b[0m\u001b[1;34m\"tres\"\u001b[0m\u001b[1;33m:\u001b[0m\u001b[1;36m3\u001b[0m\u001b[1;33m,\u001b[0m\u001b[1;34m\"cuatro\"\u001b[0m\u001b[1;33m:\u001b[0m\u001b[1;36m4\u001b[0m\u001b[1;33m,\u001b[0m\u001b[1;34m\"cinco\"\u001b[0m\u001b[1;33m:\u001b[0m\u001b[1;36m5\u001b[0m\u001b[1;33m,\u001b[0m\u001b[1;34m\"seis\"\u001b[0m\u001b[1;33m:\u001b[0m\u001b[1;36m6\u001b[0m\u001b[1;33m,\u001b[0m\u001b[1;34m\"siete\"\u001b[0m\u001b[1;33m:\u001b[0m\u001b[1;36m7\u001b[0m\u001b[1;33m,\u001b[0m\u001b[1;34m\"ocho\"\u001b[0m\u001b[1;33m:\u001b[0m\u001b[1;36m8\u001b[0m\u001b[1;33m,\u001b[0m\u001b[1;34m\"nueve\"\u001b[0m\u001b[1;33m:\u001b[0m\u001b[1;36m9\u001b[0m\u001b[1;33m,\u001b[0m\u001b[1;34m\"diez\"\u001b[0m\u001b[1;33m:\u001b[0m\u001b[1;36m10\u001b[0m\u001b[1;33m}\u001b[0m\u001b[1;33m\u001b[0m\u001b[1;33m\u001b[0m\u001b[0m\n\u001b[0;32m      4\u001b[0m \u001b[0mdata9\u001b[0m\u001b[1;33m[\u001b[0m\u001b[1;34m\"dormitorios_letras\"\u001b[0m\u001b[1;33m]\u001b[0m \u001b[1;33m=\u001b[0m \u001b[0mdata9\u001b[0m\u001b[1;33m[\u001b[0m\u001b[1;34m\"dormitorios_letras\"\u001b[0m\u001b[1;33m]\u001b[0m\u001b[1;33m.\u001b[0m\u001b[0mreplace\u001b[0m\u001b[1;33m(\u001b[0m\u001b[0mdiccionario_letras\u001b[0m\u001b[1;33m)\u001b[0m\u001b[1;33m\u001b[0m\u001b[1;33m\u001b[0m\u001b[0m\n",
      "\u001b[1;32m~\\anaconda3\\envs\\dhdsblend2021\\lib\\site-packages\\pandas\\core\\generic.py\u001b[0m in \u001b[0;36m__getattr__\u001b[1;34m(self, name)\u001b[0m\n\u001b[0;32m   5135\u001b[0m             \u001b[1;32mor\u001b[0m \u001b[0mname\u001b[0m \u001b[1;32min\u001b[0m \u001b[0mself\u001b[0m\u001b[1;33m.\u001b[0m\u001b[0m_accessors\u001b[0m\u001b[1;33m\u001b[0m\u001b[1;33m\u001b[0m\u001b[0m\n\u001b[0;32m   5136\u001b[0m         ):\n\u001b[1;32m-> 5137\u001b[1;33m             \u001b[1;32mreturn\u001b[0m \u001b[0mobject\u001b[0m\u001b[1;33m.\u001b[0m\u001b[0m__getattribute__\u001b[0m\u001b[1;33m(\u001b[0m\u001b[0mself\u001b[0m\u001b[1;33m,\u001b[0m \u001b[0mname\u001b[0m\u001b[1;33m)\u001b[0m\u001b[1;33m\u001b[0m\u001b[1;33m\u001b[0m\u001b[0m\n\u001b[0m\u001b[0;32m   5138\u001b[0m         \u001b[1;32melse\u001b[0m\u001b[1;33m:\u001b[0m\u001b[1;33m\u001b[0m\u001b[1;33m\u001b[0m\u001b[0m\n\u001b[0;32m   5139\u001b[0m             \u001b[1;32mif\u001b[0m \u001b[0mself\u001b[0m\u001b[1;33m.\u001b[0m\u001b[0m_info_axis\u001b[0m\u001b[1;33m.\u001b[0m\u001b[0m_can_hold_identifiers_and_holds_name\u001b[0m\u001b[1;33m(\u001b[0m\u001b[0mname\u001b[0m\u001b[1;33m)\u001b[0m\u001b[1;33m:\u001b[0m\u001b[1;33m\u001b[0m\u001b[1;33m\u001b[0m\u001b[0m\n",
      "\u001b[1;32m~\\anaconda3\\envs\\dhdsblend2021\\lib\\site-packages\\pandas\\core\\accessor.py\u001b[0m in \u001b[0;36m__get__\u001b[1;34m(self, obj, cls)\u001b[0m\n\u001b[0;32m    185\u001b[0m             \u001b[1;31m# we're accessing the attribute of the class, i.e., Dataset.geo\u001b[0m\u001b[1;33m\u001b[0m\u001b[1;33m\u001b[0m\u001b[1;33m\u001b[0m\u001b[0m\n\u001b[0;32m    186\u001b[0m             \u001b[1;32mreturn\u001b[0m \u001b[0mself\u001b[0m\u001b[1;33m.\u001b[0m\u001b[0m_accessor\u001b[0m\u001b[1;33m\u001b[0m\u001b[1;33m\u001b[0m\u001b[0m\n\u001b[1;32m--> 187\u001b[1;33m         \u001b[0maccessor_obj\u001b[0m \u001b[1;33m=\u001b[0m \u001b[0mself\u001b[0m\u001b[1;33m.\u001b[0m\u001b[0m_accessor\u001b[0m\u001b[1;33m(\u001b[0m\u001b[0mobj\u001b[0m\u001b[1;33m)\u001b[0m\u001b[1;33m\u001b[0m\u001b[1;33m\u001b[0m\u001b[0m\n\u001b[0m\u001b[0;32m    188\u001b[0m         \u001b[1;31m# Replace the property with the accessor object. Inspired by:\u001b[0m\u001b[1;33m\u001b[0m\u001b[1;33m\u001b[0m\u001b[1;33m\u001b[0m\u001b[0m\n\u001b[0;32m    189\u001b[0m         \u001b[1;31m# https://www.pydanny.com/cached-property.html\u001b[0m\u001b[1;33m\u001b[0m\u001b[1;33m\u001b[0m\u001b[1;33m\u001b[0m\u001b[0m\n",
      "\u001b[1;32m~\\anaconda3\\envs\\dhdsblend2021\\lib\\site-packages\\pandas\\core\\strings.py\u001b[0m in \u001b[0;36m__init__\u001b[1;34m(self, data)\u001b[0m\n\u001b[0;32m   2098\u001b[0m \u001b[1;33m\u001b[0m\u001b[0m\n\u001b[0;32m   2099\u001b[0m     \u001b[1;32mdef\u001b[0m \u001b[0m__init__\u001b[0m\u001b[1;33m(\u001b[0m\u001b[0mself\u001b[0m\u001b[1;33m,\u001b[0m \u001b[0mdata\u001b[0m\u001b[1;33m)\u001b[0m\u001b[1;33m:\u001b[0m\u001b[1;33m\u001b[0m\u001b[1;33m\u001b[0m\u001b[0m\n\u001b[1;32m-> 2100\u001b[1;33m         \u001b[0mself\u001b[0m\u001b[1;33m.\u001b[0m\u001b[0m_inferred_dtype\u001b[0m \u001b[1;33m=\u001b[0m \u001b[0mself\u001b[0m\u001b[1;33m.\u001b[0m\u001b[0m_validate\u001b[0m\u001b[1;33m(\u001b[0m\u001b[0mdata\u001b[0m\u001b[1;33m)\u001b[0m\u001b[1;33m\u001b[0m\u001b[1;33m\u001b[0m\u001b[0m\n\u001b[0m\u001b[0;32m   2101\u001b[0m         \u001b[0mself\u001b[0m\u001b[1;33m.\u001b[0m\u001b[0m_is_categorical\u001b[0m \u001b[1;33m=\u001b[0m \u001b[0mis_categorical_dtype\u001b[0m\u001b[1;33m(\u001b[0m\u001b[0mdata\u001b[0m\u001b[1;33m.\u001b[0m\u001b[0mdtype\u001b[0m\u001b[1;33m)\u001b[0m\u001b[1;33m\u001b[0m\u001b[1;33m\u001b[0m\u001b[0m\n\u001b[0;32m   2102\u001b[0m         \u001b[0mself\u001b[0m\u001b[1;33m.\u001b[0m\u001b[0m_is_string\u001b[0m \u001b[1;33m=\u001b[0m \u001b[0mdata\u001b[0m\u001b[1;33m.\u001b[0m\u001b[0mdtype\u001b[0m\u001b[1;33m.\u001b[0m\u001b[0mname\u001b[0m \u001b[1;33m==\u001b[0m \u001b[1;34m\"string\"\u001b[0m\u001b[1;33m\u001b[0m\u001b[1;33m\u001b[0m\u001b[0m\n",
      "\u001b[1;32m~\\anaconda3\\envs\\dhdsblend2021\\lib\\site-packages\\pandas\\core\\strings.py\u001b[0m in \u001b[0;36m_validate\u001b[1;34m(data)\u001b[0m\n\u001b[0;32m   2155\u001b[0m \u001b[1;33m\u001b[0m\u001b[0m\n\u001b[0;32m   2156\u001b[0m         \u001b[1;32mif\u001b[0m \u001b[0minferred_dtype\u001b[0m \u001b[1;32mnot\u001b[0m \u001b[1;32min\u001b[0m \u001b[0mallowed_types\u001b[0m\u001b[1;33m:\u001b[0m\u001b[1;33m\u001b[0m\u001b[1;33m\u001b[0m\u001b[0m\n\u001b[1;32m-> 2157\u001b[1;33m             \u001b[1;32mraise\u001b[0m \u001b[0mAttributeError\u001b[0m\u001b[1;33m(\u001b[0m\u001b[1;34m\"Can only use .str accessor with string values!\"\u001b[0m\u001b[1;33m)\u001b[0m\u001b[1;33m\u001b[0m\u001b[1;33m\u001b[0m\u001b[0m\n\u001b[0m\u001b[0;32m   2158\u001b[0m         \u001b[1;32mreturn\u001b[0m \u001b[0minferred_dtype\u001b[0m\u001b[1;33m\u001b[0m\u001b[1;33m\u001b[0m\u001b[0m\n\u001b[0;32m   2159\u001b[0m \u001b[1;33m\u001b[0m\u001b[0m\n",
      "\u001b[1;31mAttributeError\u001b[0m: Can only use .str accessor with string values!"
     ]
    }
   ],
   "source": [
    "#Reemplazo las letras por integers\n",
    "data9[\"dormitorios_letras\"] = data9[\"dormitorios_letras\"].str.lower()\n",
    "diccionario_letras = {\"un\":1,\"dos\":2,\"tres\":3,\"cuatro\":4,\"cinco\":5,\"seis\":6,\"siete\":7,\"ocho\":8,\"nueve\":9,\"diez\":10}\n",
    "data9[\"dormitorios_letras\"] = data9[\"dormitorios_letras\"].replace(diccionario_letras)"
   ]
  },
  {
   "cell_type": "code",
   "execution_count": null,
   "id": "supposed-mississippi",
   "metadata": {},
   "outputs": [],
   "source": []
  },
  {
   "cell_type": "code",
   "execution_count": null,
   "id": "driven-consensus",
   "metadata": {},
   "outputs": [],
   "source": []
  },
  {
   "cell_type": "code",
   "execution_count": null,
   "id": "whole-invalid",
   "metadata": {},
   "outputs": [],
   "source": []
  },
  {
   "cell_type": "code",
   "execution_count": null,
   "id": "floating-missile",
   "metadata": {},
   "outputs": [],
   "source": []
  },
  {
   "cell_type": "code",
   "execution_count": null,
   "id": "tired-theology",
   "metadata": {},
   "outputs": [],
   "source": []
  },
  {
   "cell_type": "code",
   "execution_count": null,
   "id": "interesting-development",
   "metadata": {},
   "outputs": [],
   "source": []
  },
  {
   "cell_type": "code",
   "execution_count": null,
   "id": "precise-convenience",
   "metadata": {},
   "outputs": [],
   "source": []
  },
  {
   "cell_type": "code",
   "execution_count": null,
   "id": "dominant-webmaster",
   "metadata": {},
   "outputs": [],
   "source": []
  },
  {
   "cell_type": "code",
   "execution_count": null,
   "id": "latest-juice",
   "metadata": {},
   "outputs": [],
   "source": []
  },
  {
   "cell_type": "markdown",
   "id": "ranking-fellowship",
   "metadata": {},
   "source": [
    "## despues de tener las regex, deberiamos analizar algunos outliers en columnas como superficie, o precio por m2 en usd y limpiarlos"
   ]
  },
  {
   "cell_type": "code",
   "execution_count": null,
   "id": "federal-calcium",
   "metadata": {},
   "outputs": [],
   "source": []
  },
  {
   "cell_type": "code",
   "execution_count": null,
   "id": "pregnant-matthew",
   "metadata": {},
   "outputs": [],
   "source": []
  },
  {
   "cell_type": "markdown",
   "id": "seventh-davis",
   "metadata": {},
   "source": [
    "## luego de limpiar outliers deberiamos armar algunos graficos "
   ]
  },
  {
   "cell_type": "code",
   "execution_count": null,
   "id": "tired-official",
   "metadata": {},
   "outputs": [],
   "source": []
  },
  {
   "cell_type": "code",
   "execution_count": null,
   "id": "brilliant-leone",
   "metadata": {},
   "outputs": [],
   "source": []
  },
  {
   "cell_type": "code",
   "execution_count": null,
   "id": "active-polish",
   "metadata": {},
   "outputs": [],
   "source": []
  },
  {
   "cell_type": "code",
   "execution_count": null,
   "id": "fifteen-princess",
   "metadata": {},
   "outputs": [],
   "source": []
  }
 ],
 "metadata": {
  "kernelspec": {
   "display_name": "Python [conda env:dhdsblend2021] *",
   "language": "python",
   "name": "conda-env-dhdsblend2021-py"
  },
  "language_info": {
   "codemirror_mode": {
    "name": "ipython",
    "version": 3
   },
   "file_extension": ".py",
   "mimetype": "text/x-python",
   "name": "python",
   "nbconvert_exporter": "python",
   "pygments_lexer": "ipython3",
   "version": "3.8.8"
  }
 },
 "nbformat": 4,
 "nbformat_minor": 5
}
