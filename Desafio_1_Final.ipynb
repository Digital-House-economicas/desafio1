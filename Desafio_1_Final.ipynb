{
 "cells": [
  {
   "cell_type": "markdown",
   "id": "motivated-reminder",
   "metadata": {},
   "source": [
    "# Desafio 1 - Grupo 2 "
   ]
  },
  {
   "cell_type": "markdown",
   "id": "entertaining-asset",
   "metadata": {},
   "source": [
    "## 1) poner a tono el dataset"
   ]
  },
  {
   "cell_type": "markdown",
   "id": "innovative-anthony",
   "metadata": {},
   "source": [
    "  ### 1.1)  Vamos a importar el dataset y ver un poco los datos"
   ]
  },
  {
   "cell_type": "code",
   "execution_count": 102,
   "id": "empirical-jesus",
   "metadata": {},
   "outputs": [],
   "source": [
    "import pandas as pd\n",
    "import numpy as np \n",
    "import matplotlib.pyplot as plt\n",
    "import seaborn as sns \n",
    "import re "
   ]
  },
  {
   "cell_type": "code",
   "execution_count": 103,
   "id": "integrated-christianity",
   "metadata": {},
   "outputs": [
    {
     "data": {
      "text/html": [
       "<div>\n",
       "<style scoped>\n",
       "    .dataframe tbody tr th:only-of-type {\n",
       "        vertical-align: middle;\n",
       "    }\n",
       "\n",
       "    .dataframe tbody tr th {\n",
       "        vertical-align: top;\n",
       "    }\n",
       "\n",
       "    .dataframe thead th {\n",
       "        text-align: right;\n",
       "    }\n",
       "</style>\n",
       "<table border=\"1\" class=\"dataframe\">\n",
       "  <thead>\n",
       "    <tr style=\"text-align: right;\">\n",
       "      <th></th>\n",
       "      <th>Unnamed: 0</th>\n",
       "      <th>operation</th>\n",
       "      <th>property_type</th>\n",
       "      <th>place_name</th>\n",
       "      <th>place_with_parent_names</th>\n",
       "      <th>country_name</th>\n",
       "      <th>state_name</th>\n",
       "      <th>geonames_id</th>\n",
       "      <th>lat-lon</th>\n",
       "      <th>lat</th>\n",
       "      <th>...</th>\n",
       "      <th>surface_covered_in_m2</th>\n",
       "      <th>price_usd_per_m2</th>\n",
       "      <th>price_per_m2</th>\n",
       "      <th>floor</th>\n",
       "      <th>rooms</th>\n",
       "      <th>expenses</th>\n",
       "      <th>properati_url</th>\n",
       "      <th>description</th>\n",
       "      <th>title</th>\n",
       "      <th>image_thumbnail</th>\n",
       "    </tr>\n",
       "  </thead>\n",
       "  <tbody>\n",
       "    <tr>\n",
       "      <th>0</th>\n",
       "      <td>0</td>\n",
       "      <td>sell</td>\n",
       "      <td>PH</td>\n",
       "      <td>Mataderos</td>\n",
       "      <td>|Argentina|Capital Federal|Mataderos|</td>\n",
       "      <td>Argentina</td>\n",
       "      <td>Capital Federal</td>\n",
       "      <td>3430787.0</td>\n",
       "      <td>-34.6618237,-58.5088387</td>\n",
       "      <td>-34.661824</td>\n",
       "      <td>...</td>\n",
       "      <td>40.0</td>\n",
       "      <td>1127.272727</td>\n",
       "      <td>1550.000000</td>\n",
       "      <td>NaN</td>\n",
       "      <td>NaN</td>\n",
       "      <td>NaN</td>\n",
       "      <td>http://www.properati.com.ar/15bo8_venta_ph_mat...</td>\n",
       "      <td>2 AMBIENTES TIPO CASA PLANTA BAJA POR PASILLO,...</td>\n",
       "      <td>2 AMB TIPO CASA SIN EXPENSAS EN PB</td>\n",
       "      <td>https://thumbs4.properati.com/8/BluUYiHJLhgIIK...</td>\n",
       "    </tr>\n",
       "    <tr>\n",
       "      <th>1</th>\n",
       "      <td>1</td>\n",
       "      <td>sell</td>\n",
       "      <td>apartment</td>\n",
       "      <td>La Plata</td>\n",
       "      <td>|Argentina|Bs.As. G.B.A. Zona Sur|La Plata|</td>\n",
       "      <td>Argentina</td>\n",
       "      <td>Bs.As. G.B.A. Zona Sur</td>\n",
       "      <td>3432039.0</td>\n",
       "      <td>-34.9038831,-57.9643295</td>\n",
       "      <td>-34.903883</td>\n",
       "      <td>...</td>\n",
       "      <td>NaN</td>\n",
       "      <td>NaN</td>\n",
       "      <td>NaN</td>\n",
       "      <td>NaN</td>\n",
       "      <td>NaN</td>\n",
       "      <td>NaN</td>\n",
       "      <td>http://www.properati.com.ar/15bob_venta_depart...</td>\n",
       "      <td>Venta de departamento en décimo piso al frente...</td>\n",
       "      <td>VENTA Depto 2 dorm. a estrenar 7 e/ 36 y 37   ...</td>\n",
       "      <td>https://thumbs4.properati.com/7/ikpVBu2ztHA7jv...</td>\n",
       "    </tr>\n",
       "    <tr>\n",
       "      <th>2</th>\n",
       "      <td>2</td>\n",
       "      <td>sell</td>\n",
       "      <td>apartment</td>\n",
       "      <td>Mataderos</td>\n",
       "      <td>|Argentina|Capital Federal|Mataderos|</td>\n",
       "      <td>Argentina</td>\n",
       "      <td>Capital Federal</td>\n",
       "      <td>3430787.0</td>\n",
       "      <td>-34.6522615,-58.5229825</td>\n",
       "      <td>-34.652262</td>\n",
       "      <td>...</td>\n",
       "      <td>55.0</td>\n",
       "      <td>1309.090909</td>\n",
       "      <td>1309.090909</td>\n",
       "      <td>NaN</td>\n",
       "      <td>NaN</td>\n",
       "      <td>NaN</td>\n",
       "      <td>http://www.properati.com.ar/15bod_venta_depart...</td>\n",
       "      <td>2 AMBIENTES 3ER PISO LATERAL LIVING COMEDOR AM...</td>\n",
       "      <td>2 AMB 3ER PISO CON ASCENSOR APTO CREDITO</td>\n",
       "      <td>https://thumbs4.properati.com/5/SXKr34F_IwG3W_...</td>\n",
       "    </tr>\n",
       "  </tbody>\n",
       "</table>\n",
       "<p>3 rows × 26 columns</p>\n",
       "</div>"
      ],
      "text/plain": [
       "   Unnamed: 0 operation property_type place_name  \\\n",
       "0           0      sell            PH  Mataderos   \n",
       "1           1      sell     apartment   La Plata   \n",
       "2           2      sell     apartment  Mataderos   \n",
       "\n",
       "                       place_with_parent_names country_name  \\\n",
       "0        |Argentina|Capital Federal|Mataderos|    Argentina   \n",
       "1  |Argentina|Bs.As. G.B.A. Zona Sur|La Plata|    Argentina   \n",
       "2        |Argentina|Capital Federal|Mataderos|    Argentina   \n",
       "\n",
       "               state_name  geonames_id                  lat-lon        lat  \\\n",
       "0         Capital Federal    3430787.0  -34.6618237,-58.5088387 -34.661824   \n",
       "1  Bs.As. G.B.A. Zona Sur    3432039.0  -34.9038831,-57.9643295 -34.903883   \n",
       "2         Capital Federal    3430787.0  -34.6522615,-58.5229825 -34.652262   \n",
       "\n",
       "   ...  surface_covered_in_m2  price_usd_per_m2 price_per_m2  floor  rooms  \\\n",
       "0  ...                   40.0       1127.272727  1550.000000    NaN    NaN   \n",
       "1  ...                    NaN               NaN          NaN    NaN    NaN   \n",
       "2  ...                   55.0       1309.090909  1309.090909    NaN    NaN   \n",
       "\n",
       "   expenses                                      properati_url  \\\n",
       "0       NaN  http://www.properati.com.ar/15bo8_venta_ph_mat...   \n",
       "1       NaN  http://www.properati.com.ar/15bob_venta_depart...   \n",
       "2       NaN  http://www.properati.com.ar/15bod_venta_depart...   \n",
       "\n",
       "                                         description  \\\n",
       "0  2 AMBIENTES TIPO CASA PLANTA BAJA POR PASILLO,...   \n",
       "1  Venta de departamento en décimo piso al frente...   \n",
       "2  2 AMBIENTES 3ER PISO LATERAL LIVING COMEDOR AM...   \n",
       "\n",
       "                                               title  \\\n",
       "0                 2 AMB TIPO CASA SIN EXPENSAS EN PB   \n",
       "1  VENTA Depto 2 dorm. a estrenar 7 e/ 36 y 37   ...   \n",
       "2           2 AMB 3ER PISO CON ASCENSOR APTO CREDITO   \n",
       "\n",
       "                                     image_thumbnail  \n",
       "0  https://thumbs4.properati.com/8/BluUYiHJLhgIIK...  \n",
       "1  https://thumbs4.properati.com/7/ikpVBu2ztHA7jv...  \n",
       "2  https://thumbs4.properati.com/5/SXKr34F_IwG3W_...  \n",
       "\n",
       "[3 rows x 26 columns]"
      ]
     },
     "execution_count": 103,
     "metadata": {},
     "output_type": "execute_result"
    }
   ],
   "source": [
    "# ubicacion del dataset\n",
    "data_location = \"../Data/properatti.csv\"\n",
    "\n",
    "data = pd.read_csv(data_location)\n",
    "\n",
    "#vemos el dataset como esta compuesto\n",
    "\n",
    "data.head(3)"
   ]
  },
  {
   "cell_type": "code",
   "execution_count": 104,
   "id": "communist-puppy",
   "metadata": {},
   "outputs": [
    {
     "name": "stdout",
     "output_type": "stream",
     "text": [
      "cantidad de filas  121220\n",
      "cantidad de columnas  26\n"
     ]
    }
   ],
   "source": [
    "#vemos que cantidad de filas y columnas tiene el dataset\n",
    "\n",
    "print ( \"cantidad de filas \", data.shape[0])\n",
    "print ( \"cantidad de columnas \", data.shape[1])"
   ]
  },
  {
   "cell_type": "code",
   "execution_count": 105,
   "id": "homeless-valentine",
   "metadata": {},
   "outputs": [
    {
     "data": {
      "text/plain": [
       "Unnamed: 0                      int64\n",
       "operation                      object\n",
       "property_type                  object\n",
       "place_name                     object\n",
       "place_with_parent_names        object\n",
       "country_name                   object\n",
       "state_name                     object\n",
       "geonames_id                   float64\n",
       "lat-lon                        object\n",
       "lat                           float64\n",
       "lon                           float64\n",
       "price                         float64\n",
       "currency                       object\n",
       "price_aprox_local_currency    float64\n",
       "price_aprox_usd               float64\n",
       "surface_total_in_m2           float64\n",
       "surface_covered_in_m2         float64\n",
       "price_usd_per_m2              float64\n",
       "price_per_m2                  float64\n",
       "floor                         float64\n",
       "rooms                         float64\n",
       "expenses                      float64\n",
       "properati_url                  object\n",
       "description                    object\n",
       "title                          object\n",
       "image_thumbnail                object\n",
       "dtype: object"
      ]
     },
     "execution_count": 105,
     "metadata": {},
     "output_type": "execute_result"
    }
   ],
   "source": [
    "# vemos que tipo de datos es cada columna\n",
    "\n",
    "data.dtypes"
   ]
  },
  {
   "cell_type": "markdown",
   "id": "confirmed-title",
   "metadata": {},
   "source": [
    "### 1.2) vamos a seleccionar las columnas que nos interesan y borrar las filas duplicadas"
   ]
  },
  {
   "cell_type": "markdown",
   "id": "flexible-centre",
   "metadata": {},
   "source": [
    "- #### primeros valores eliminados (eliminados: 5.251)"
   ]
  },
  {
   "cell_type": "code",
   "execution_count": 106,
   "id": "removable-landing",
   "metadata": {},
   "outputs": [
    {
     "name": "stdout",
     "output_type": "stream",
     "text": [
      "antes teniamos  121220 filas y  26 columnas\n",
      "cantidad de datos duplicados  5251\n",
      "ahora tenemos  115969 filas y  16 columnas\n"
     ]
    }
   ],
   "source": [
    "#vamos a limpiar las columnas q no usamos para luego identificar los duplicados\n",
    "\n",
    "#creamos un nuevo dataset llamado data1 y seleccionamos las columnas que queremos\n",
    "\n",
    "data1 = data[[\"property_type\", \"place_name\", \"place_with_parent_names\", \"state_name\", \"lat-lon\", \"price\", \"currency\", \"price_aprox_local_currency\", \"price_aprox_usd\", \"surface_total_in_m2\", \"surface_covered_in_m2\", \"price_usd_per_m2\", \"price_per_m2\", \"rooms\", \"description\", \"title\"]]\n",
    "\n",
    "print(\"antes teniamos \", data.shape[0], \"filas y \", data.shape[1], \"columnas\")\n",
    "\n",
    "#ahora vamos a identificar los duplicados\n",
    "data1_duplicados = data1.duplicated()\n",
    "print(\"cantidad de datos duplicados \", data1_duplicados.sum())\n",
    "             \n",
    "#ahora con drop duplicate vamos a eliminar los que son True y estan duplicados\n",
    "\n",
    "data1 = data1.drop_duplicates()\n",
    "\n",
    "print(\"ahora tenemos \", data1.shape[0], \"filas y \", data1.shape[1], \"columnas\")"
   ]
  },
  {
   "cell_type": "code",
   "execution_count": null,
   "id": "quiet-butterfly",
   "metadata": {},
   "outputs": [],
   "source": []
  },
  {
   "cell_type": "markdown",
   "id": "rising-silly",
   "metadata": {},
   "source": [
    "### 1.3) analizamos la cantidad de nulos que tiene el dataset"
   ]
  },
  {
   "cell_type": "code",
   "execution_count": 107,
   "id": "democratic-loading",
   "metadata": {},
   "outputs": [
    {
     "name": "stdout",
     "output_type": "stream",
     "text": [
      "*cantidad de nulos* \n",
      "\n",
      "property_type                     0\n",
      "place_name                       23\n",
      "place_with_parent_names           0\n",
      "state_name                        0\n",
      "lat-lon                       48214\n",
      "price                         17435\n",
      "currency                      17436\n",
      "price_aprox_local_currency    17435\n",
      "price_aprox_usd               17435\n",
      "surface_total_in_m2           38375\n",
      "surface_covered_in_m2         18801\n",
      "price_usd_per_m2              49167\n",
      "price_per_m2                  30314\n",
      "rooms                         69899\n",
      "description                       2\n",
      "title                             0\n",
      "dtype: int64 \n",
      "\n",
      "*porcentaje de nulos* \n",
      "\n",
      "property_type                 0.000000\n",
      "place_name                    0.000198\n",
      "place_with_parent_names       0.000000\n",
      "state_name                    0.000000\n",
      "lat-lon                       0.415749\n",
      "price                         0.150342\n",
      "currency                      0.150351\n",
      "price_aprox_local_currency    0.150342\n",
      "price_aprox_usd               0.150342\n",
      "surface_total_in_m2           0.330907\n",
      "surface_covered_in_m2         0.162121\n",
      "price_usd_per_m2              0.423967\n",
      "price_per_m2                  0.261397\n",
      "rooms                         0.602739\n",
      "description                   0.000017\n",
      "title                         0.000000\n",
      "dtype: float64\n"
     ]
    }
   ],
   "source": [
    "#ahora vamos a ver la cantidad de elementos nulos que tiene cada columna\n",
    "data_nulos = data1.isnull()\n",
    "cantidad_nulos = data_nulos.sum()\n",
    "print(\"*cantidad de nulos*\" , '\\n')\n",
    "print(cantidad_nulos, '\\n')\n",
    "\n",
    "#la idea es ver el % de nulos asi sabemos si las columnas sirven o no, o que trabajo tenemos que hacerle a cada una\n",
    "cantidad_registros = data1.shape[0]\n",
    "porcentaje_nulos = cantidad_nulos / cantidad_registros\n",
    "print(\"*porcentaje de nulos*\", '\\n')\n",
    "print(porcentaje_nulos)"
   ]
  },
  {
   "cell_type": "markdown",
   "id": "varying-equation",
   "metadata": {},
   "source": [
    "### 1.4) vamos a investigar un poco ciertas columnas que nos interesan y limpiar si vemos algunos datos que no nos aportan"
   ]
  },
  {
   "cell_type": "markdown",
   "id": "theoretical-afternoon",
   "metadata": {},
   "source": [
    "- #### Investigamos la columna price_aprox_usd"
   ]
  },
  {
   "cell_type": "code",
   "execution_count": 108,
   "id": "voluntary-reservation",
   "metadata": {},
   "outputs": [
    {
     "name": "stdout",
     "output_type": "stream",
     "text": [
      "Tamaño columna price ---> 115969 \n",
      "\n",
      "Valores nulos columna price ---> 17435 \n",
      "\n",
      "Valores NO nulos columna price ---> 98534 \n",
      "\n",
      "count    9.853400e+04\n",
      "mean     2.408766e+05\n",
      "std      3.936819e+05\n",
      "min      0.000000e+00\n",
      "25%      9.000000e+04\n",
      "50%      1.450000e+05\n",
      "75%      2.680000e+05\n",
      "max      4.654544e+07\n",
      "Name: price_aprox_usd, dtype: float64\n"
     ]
    }
   ],
   "source": [
    "print('Tamaño columna price --->', data1['price_aprox_usd'].shape[0], '\\n')\n",
    "print('Valores nulos columna price --->', data1['price_aprox_usd'].isnull().sum(), '\\n')\n",
    "print('Valores NO nulos columna price --->', data1['price_aprox_usd'].notnull().sum(), '\\n')\n",
    "print(data1['price_aprox_usd'].describe())"
   ]
  },
  {
   "cell_type": "markdown",
   "id": "metric-bahamas",
   "metadata": {},
   "source": [
    "- #### Investigamos la columna property_type"
   ]
  },
  {
   "cell_type": "code",
   "execution_count": 109,
   "id": "following-grace",
   "metadata": {},
   "outputs": [
    {
     "data": {
      "text/plain": [
       "apartment    66519\n",
       "house        39761\n",
       "PH            5618\n",
       "store         4071\n",
       "Name: property_type, dtype: int64"
      ]
     },
     "execution_count": 109,
     "metadata": {},
     "output_type": "execute_result"
    }
   ],
   "source": [
    "data1['property_type'].value_counts()"
   ]
  },
  {
   "cell_type": "markdown",
   "id": "registered-playlist",
   "metadata": {},
   "source": [
    "- #### de las 17.435 propiedades nulas, vamos a analizar que tipo de propiedad son para entender mejor "
   ]
  },
  {
   "cell_type": "code",
   "execution_count": 110,
   "id": "professional-celtic",
   "metadata": {},
   "outputs": [],
   "source": [
    "# vamos a analizar cada tipo de propiedad\n",
    "\n",
    "price_aprox_usd = data1['price_aprox_usd']\n",
    "property_type_PH = data1['property_type'] == 'PH' \n",
    "PH_price = data1.loc[property_type_PH, 'price_aprox_usd']\n",
    "\n",
    "property_type_apartment = data1['property_type'] == 'apartment' \n",
    "apartment_price = data1.loc[property_type_apartment, 'price_aprox_usd']\n",
    "\n",
    "property_type_house = data1['property_type'] == 'house' \n",
    "house_price = data1.loc[property_type_house, 'price_aprox_usd']\n",
    "\n",
    "property_type_store = data1['property_type'] == 'store' \n",
    "store_price = data1.loc[property_type_store, 'price_aprox_usd']"
   ]
  },
  {
   "cell_type": "code",
   "execution_count": 111,
   "id": "parliamentary-celtic",
   "metadata": {},
   "outputs": [
    {
     "name": "stdout",
     "output_type": "stream",
     "text": [
      "Cantidad de nulos en PH ---> 453 \n",
      "\n",
      "Cantidad de nulos en apartment ---> 8844 \n",
      "\n",
      "Cantidad de nulos en house ---> 7285 \n",
      "\n",
      "Cantidad de nulos en store ---> 853 \n",
      "\n"
     ]
    }
   ],
   "source": [
    "#ahora imprimos la cantidad de nulos para cada tipo de propiedad \n",
    "\n",
    "print('Cantidad de nulos en PH --->', PH_price.isnull().sum(), '\\n')\n",
    "print('Cantidad de nulos en apartment --->', apartment_price.isnull().sum(), '\\n')\n",
    "print('Cantidad de nulos en house --->', house_price.isnull().sum(), '\\n')\n",
    "print('Cantidad de nulos en store --->', store_price.isnull().sum(), '\\n')"
   ]
  },
  {
   "cell_type": "code",
   "execution_count": 112,
   "id": "prescription-supplement",
   "metadata": {},
   "outputs": [
    {
     "name": "stdout",
     "output_type": "stream",
     "text": [
      "Cantidad de nulos en PH ---> 0.08063367746529014 \n",
      "\n",
      "Cantidad de nulos en apartment ---> 0.13295449420466332 \n",
      "\n",
      "Cantidad de nulos en house ---> 0.18321973793415658 \n",
      "\n",
      "Cantidad de nulos en store ---> 0.20953082780643575 \n",
      "\n"
     ]
    }
   ],
   "source": [
    "#ahora vemos que % de nulos tiene cada tipo de propiedad \n",
    "\n",
    "print('Cantidad de nulos en PH --->', PH_price.isnull().sum() / PH_price.shape[0] , '\\n')\n",
    "print('Cantidad de nulos en apartment --->', apartment_price.isnull().sum() / apartment_price.shape[0] , '\\n')\n",
    "print('Cantidad de nulos en house --->', house_price.isnull().sum() / house_price.shape[0] , '\\n')\n",
    "print('Cantidad de nulos en store --->', store_price.isnull().sum() / store_price.shape[0] , '\\n')"
   ]
  },
  {
   "cell_type": "markdown",
   "id": "integral-peter",
   "metadata": {},
   "source": [
    "- #### vamos a separar en bins para ver como se agrupan por precio todas las propiedades"
   ]
  },
  {
   "cell_type": "code",
   "execution_count": 113,
   "id": "alive-blind",
   "metadata": {},
   "outputs": [
    {
     "data": {
      "text/plain": [
       "(-0.001, 90000.0]         25515\n",
       "(268000.0, 46545445.0]    24633\n",
       "(145000.0, 268000.0]      24450\n",
       "(90000.0, 145000.0]       23936\n",
       "Name: price_aprox_usd, dtype: int64"
      ]
     },
     "execution_count": 113,
     "metadata": {},
     "output_type": "execute_result"
    }
   ],
   "source": [
    "#con qcut separamos en 4 bins de misma cantidad de datos, dejando afeura los nulos\n",
    "\n",
    "priceusd_categorias = pd.qcut(data1['price_aprox_usd'], 4)\n",
    "priceusd_categorias.value_counts()"
   ]
  },
  {
   "cell_type": "code",
   "execution_count": 114,
   "id": "cross-authorization",
   "metadata": {},
   "outputs": [
    {
     "data": {
      "text/plain": [
       "False    115968\n",
       "True          1\n",
       "Name: price_aprox_usd, dtype: int64"
      ]
     },
     "execution_count": 114,
     "metadata": {},
     "output_type": "execute_result"
    }
   ],
   "source": [
    "# vemos los valores menores a 1000 usd y cuantos son\n",
    "\n",
    "priceusd_menor_1000 = data1['price_aprox_usd'] < 1000\n",
    "priceusd_menor_1000.value_counts()"
   ]
  },
  {
   "cell_type": "code",
   "execution_count": 115,
   "id": "competitive-interference",
   "metadata": {},
   "outputs": [
    {
     "data": {
      "text/html": [
       "<div>\n",
       "<style scoped>\n",
       "    .dataframe tbody tr th:only-of-type {\n",
       "        vertical-align: middle;\n",
       "    }\n",
       "\n",
       "    .dataframe tbody tr th {\n",
       "        vertical-align: top;\n",
       "    }\n",
       "\n",
       "    .dataframe thead th {\n",
       "        text-align: right;\n",
       "    }\n",
       "</style>\n",
       "<table border=\"1\" class=\"dataframe\">\n",
       "  <thead>\n",
       "    <tr style=\"text-align: right;\">\n",
       "      <th></th>\n",
       "      <th>property_type</th>\n",
       "      <th>place_name</th>\n",
       "      <th>place_with_parent_names</th>\n",
       "      <th>state_name</th>\n",
       "      <th>lat-lon</th>\n",
       "      <th>price</th>\n",
       "      <th>currency</th>\n",
       "      <th>price_aprox_local_currency</th>\n",
       "      <th>price_aprox_usd</th>\n",
       "      <th>surface_total_in_m2</th>\n",
       "      <th>surface_covered_in_m2</th>\n",
       "      <th>price_usd_per_m2</th>\n",
       "      <th>price_per_m2</th>\n",
       "      <th>rooms</th>\n",
       "      <th>description</th>\n",
       "      <th>title</th>\n",
       "    </tr>\n",
       "  </thead>\n",
       "  <tbody>\n",
       "    <tr>\n",
       "      <th>9761</th>\n",
       "      <td>house</td>\n",
       "      <td>Córdoba</td>\n",
       "      <td>|Argentina|Córdoba|</td>\n",
       "      <td>Córdoba</td>\n",
       "      <td>4.5458426,-75.67893099</td>\n",
       "      <td>0.0</td>\n",
       "      <td>NaN</td>\n",
       "      <td>0.0</td>\n",
       "      <td>0.0</td>\n",
       "      <td>NaN</td>\n",
       "      <td>NaN</td>\n",
       "      <td>NaN</td>\n",
       "      <td>NaN</td>\n",
       "      <td>3.0</td>\n",
       "      <td>Casa en Venta de 2 dorm. en Armenia</td>\n",
       "      <td>SE VENDE CASA EN EL BARRIO EL LIMONAR</td>\n",
       "    </tr>\n",
       "  </tbody>\n",
       "</table>\n",
       "</div>"
      ],
      "text/plain": [
       "     property_type place_name place_with_parent_names state_name  \\\n",
       "9761         house    Córdoba     |Argentina|Córdoba|    Córdoba   \n",
       "\n",
       "                     lat-lon  price currency  price_aprox_local_currency  \\\n",
       "9761  4.5458426,-75.67893099    0.0      NaN                         0.0   \n",
       "\n",
       "      price_aprox_usd  surface_total_in_m2  surface_covered_in_m2  \\\n",
       "9761              0.0                  NaN                    NaN   \n",
       "\n",
       "      price_usd_per_m2  price_per_m2  rooms  \\\n",
       "9761               NaN           NaN    3.0   \n",
       "\n",
       "                              description  \\\n",
       "9761  Casa en Venta de 2 dorm. en Armenia   \n",
       "\n",
       "                                      title  \n",
       "9761  SE VENDE CASA EN EL BARRIO EL LIMONAR  "
      ]
     },
     "execution_count": 115,
     "metadata": {},
     "output_type": "execute_result"
    }
   ],
   "source": [
    "# buscamos ese dato menos a 1.000 usd para analizarlo\n",
    "\n",
    "dato_menor = data1[priceusd_menor_1000]\n",
    "dato_menor"
   ]
  },
  {
   "cell_type": "markdown",
   "id": "based-conditioning",
   "metadata": {},
   "source": [
    "- #### segundos valores elimiandos (eliminados: 1)"
   ]
  },
  {
   "cell_type": "code",
   "execution_count": 116,
   "id": "interesting-insured",
   "metadata": {},
   "outputs": [
    {
     "data": {
      "text/plain": [
       "(115968, 16)"
      ]
     },
     "execution_count": 116,
     "metadata": {},
     "output_type": "execute_result"
    }
   ],
   "source": [
    "#vamos a eliminar ese dato porque no nos aporta nada ya quer no tiene ni precio ni superficie (tampoco esta la info en description)\n",
    "\n",
    "data2 = data1.drop([9761], axis = 0)\n",
    "data2.shape\n",
    "\n",
    "#data2.head(3)"
   ]
  },
  {
   "cell_type": "code",
   "execution_count": 117,
   "id": "renewable-metabolism",
   "metadata": {},
   "outputs": [
    {
     "data": {
      "text/plain": [
       "(4666.619, 90000.0]       25514\n",
       "(268000.0, 46545445.0]    24633\n",
       "(145000.0, 268000.0]      24450\n",
       "(90000.0, 145000.0]       23936\n",
       "Name: price_aprox_usd, dtype: int64"
      ]
     },
     "execution_count": 117,
     "metadata": {},
     "output_type": "execute_result"
    }
   ],
   "source": [
    "#vemos ahora los nuevos bins q se armaron \n",
    "\n",
    "priceusd_categorias = pd.qcut(data2['price_aprox_usd'], 4)\n",
    "priceusd_categorias.value_counts()"
   ]
  },
  {
   "cell_type": "code",
   "execution_count": 118,
   "id": "welcome-gather",
   "metadata": {},
   "outputs": [
    {
     "data": {
      "text/plain": [
       "False    115945\n",
       "True         23\n",
       "Name: price_aprox_usd, dtype: int64"
      ]
     },
     "execution_count": 118,
     "metadata": {},
     "output_type": "execute_result"
    }
   ],
   "source": [
    "#ahora analizamos los que son mayores a 7,99mm de usd\n",
    "\n",
    "priceusd_mayor_8m = data2['price_aprox_usd'] > 7999999\n",
    "priceusd_mayor_8m.value_counts()"
   ]
  },
  {
   "cell_type": "code",
   "execution_count": 119,
   "id": "loose-advice",
   "metadata": {},
   "outputs": [
    {
     "data": {
      "text/html": [
       "<div>\n",
       "<style scoped>\n",
       "    .dataframe tbody tr th:only-of-type {\n",
       "        vertical-align: middle;\n",
       "    }\n",
       "\n",
       "    .dataframe tbody tr th {\n",
       "        vertical-align: top;\n",
       "    }\n",
       "\n",
       "    .dataframe thead th {\n",
       "        text-align: right;\n",
       "    }\n",
       "</style>\n",
       "<table border=\"1\" class=\"dataframe\">\n",
       "  <thead>\n",
       "    <tr style=\"text-align: right;\">\n",
       "      <th></th>\n",
       "      <th>property_type</th>\n",
       "      <th>place_name</th>\n",
       "      <th>place_with_parent_names</th>\n",
       "      <th>state_name</th>\n",
       "      <th>lat-lon</th>\n",
       "      <th>price</th>\n",
       "      <th>currency</th>\n",
       "      <th>price_aprox_local_currency</th>\n",
       "      <th>price_aprox_usd</th>\n",
       "      <th>surface_total_in_m2</th>\n",
       "      <th>surface_covered_in_m2</th>\n",
       "      <th>price_usd_per_m2</th>\n",
       "      <th>price_per_m2</th>\n",
       "      <th>rooms</th>\n",
       "      <th>description</th>\n",
       "      <th>title</th>\n",
       "    </tr>\n",
       "  </thead>\n",
       "  <tbody>\n",
       "    <tr>\n",
       "      <th>525</th>\n",
       "      <td>house</td>\n",
       "      <td>Acassuso</td>\n",
       "      <td>|Argentina|Bs.As. G.B.A. Zona Norte|San Isidro...</td>\n",
       "      <td>Bs.As. G.B.A. Zona Norte</td>\n",
       "      <td>NaN</td>\n",
       "      <td>11000000.0</td>\n",
       "      <td>USD</td>\n",
       "      <td>1.940895e+08</td>\n",
       "      <td>11000000.00</td>\n",
       "      <td>7500.0</td>\n",
       "      <td>1800.0</td>\n",
       "      <td>1466.666667</td>\n",
       "      <td>6111.111111</td>\n",
       "      <td>NaN</td>\n",
       "      <td>Total vista al rÃ­o. Sobre 7500 m2 de parque a...</td>\n",
       "      <td>Casa 7500m² con Dependencias en Garay, Juan De...</td>\n",
       "    </tr>\n",
       "    <tr>\n",
       "      <th>11349</th>\n",
       "      <td>house</td>\n",
       "      <td>Capital Federal</td>\n",
       "      <td>|Argentina|Capital Federal|</td>\n",
       "      <td>Capital Federal</td>\n",
       "      <td>NaN</td>\n",
       "      <td>8500000.0</td>\n",
       "      <td>USD</td>\n",
       "      <td>1.499782e+08</td>\n",
       "      <td>8500000.00</td>\n",
       "      <td>7832.0</td>\n",
       "      <td>4111.0</td>\n",
       "      <td>1085.291113</td>\n",
       "      <td>2067.623449</td>\n",
       "      <td>NaN</td>\n",
       "      <td>Sobre 7832m2 de lote existen 4111m2 cubiertas ...</td>\n",
       "      <td>Casa 7832m² con Dependencias en Don Bosco 3400...</td>\n",
       "    </tr>\n",
       "    <tr>\n",
       "      <th>24548</th>\n",
       "      <td>apartment</td>\n",
       "      <td>San Telmo</td>\n",
       "      <td>|Argentina|Capital Federal|San Telmo|</td>\n",
       "      <td>Capital Federal</td>\n",
       "      <td>-34.6213421,-58.3741846</td>\n",
       "      <td>46545445.0</td>\n",
       "      <td>USD</td>\n",
       "      <td>8.212711e+08</td>\n",
       "      <td>46545445.00</td>\n",
       "      <td>200000.0</td>\n",
       "      <td>NaN</td>\n",
       "      <td>232.727225</td>\n",
       "      <td>NaN</td>\n",
       "      <td>3.0</td>\n",
       "      <td>dsdffhghvcvbcdfdfghdfhghkjhkhjklhjkfgvghfghnfg...</td>\n",
       "      <td>Departamento venta</td>\n",
       "    </tr>\n",
       "    <tr>\n",
       "      <th>34638</th>\n",
       "      <td>house</td>\n",
       "      <td>Olivos</td>\n",
       "      <td>|Argentina|Bs.As. G.B.A. Zona Norte|Vicente Ló...</td>\n",
       "      <td>Bs.As. G.B.A. Zona Norte</td>\n",
       "      <td>NaN</td>\n",
       "      <td>14000000.0</td>\n",
       "      <td>USD</td>\n",
       "      <td>2.470230e+08</td>\n",
       "      <td>14000000.00</td>\n",
       "      <td>2079.0</td>\n",
       "      <td>NaN</td>\n",
       "      <td>6734.006734</td>\n",
       "      <td>NaN</td>\n",
       "      <td>NaN</td>\n",
       "      <td>Excelente zona. Cerca de la Quinat Presidencia...</td>\n",
       "      <td>Casa 2079m² en Del Libertador, Av. 2200, Vicen...</td>\n",
       "    </tr>\n",
       "    <tr>\n",
       "      <th>44684</th>\n",
       "      <td>apartment</td>\n",
       "      <td>Palermo Chico</td>\n",
       "      <td>|Argentina|Capital Federal|Palermo|Palermo Chico|</td>\n",
       "      <td>Capital Federal</td>\n",
       "      <td>-34.5789246,-58.4013987</td>\n",
       "      <td>8000000.0</td>\n",
       "      <td>USD</td>\n",
       "      <td>1.411560e+08</td>\n",
       "      <td>8000000.00</td>\n",
       "      <td>410.0</td>\n",
       "      <td>410.0</td>\n",
       "      <td>19512.195122</td>\n",
       "      <td>19512.195122</td>\n",
       "      <td>5.0</td>\n",
       "      <td>CONTACTO: MARTIN PINUS 15- EXCELENTISIMA PROPI...</td>\n",
       "      <td>LE PARC ALCORTA - PISO MUY ALTO DE 410 M2 CON ...</td>\n",
       "    </tr>\n",
       "    <tr>\n",
       "      <th>44685</th>\n",
       "      <td>apartment</td>\n",
       "      <td>Palermo Chico</td>\n",
       "      <td>|Argentina|Capital Federal|Palermo|Palermo Chico|</td>\n",
       "      <td>Capital Federal</td>\n",
       "      <td>-34.5789246,-58.4013987</td>\n",
       "      <td>8500000.0</td>\n",
       "      <td>USD</td>\n",
       "      <td>1.499782e+08</td>\n",
       "      <td>8500000.00</td>\n",
       "      <td>410.0</td>\n",
       "      <td>410.0</td>\n",
       "      <td>20731.707317</td>\n",
       "      <td>20731.707317</td>\n",
       "      <td>5.0</td>\n",
       "      <td>CONTACTO: MARTIN PINUS 15- EXCELENTISIMA PROPI...</td>\n",
       "      <td>LE PARC ALCORTA - PISO MUY ALTO DE 410 M2 CON ...</td>\n",
       "    </tr>\n",
       "    <tr>\n",
       "      <th>45689</th>\n",
       "      <td>house</td>\n",
       "      <td>Rosario</td>\n",
       "      <td>|Argentina|Santa Fe|Rosario|</td>\n",
       "      <td>Santa Fe</td>\n",
       "      <td>-32.933983,-60.7319772</td>\n",
       "      <td>11111111.0</td>\n",
       "      <td>USD</td>\n",
       "      <td>1.960500e+08</td>\n",
       "      <td>11111111.00</td>\n",
       "      <td>304.0</td>\n",
       "      <td>149.0</td>\n",
       "      <td>36549.707237</td>\n",
       "      <td>74571.214765</td>\n",
       "      <td>NaN</td>\n",
       "      <td>CODIGO: 2062-670 ubicado en: URQUIZA 7900 -  P...</td>\n",
       "      <td>VENTA CASA AL FRENTE. 3 DORMITORIOS. 2 BAÑOS. ...</td>\n",
       "    </tr>\n",
       "    <tr>\n",
       "      <th>49083</th>\n",
       "      <td>house</td>\n",
       "      <td>San Carlos de Bariloche</td>\n",
       "      <td>|Argentina|Río Negro|San Carlos de Bariloche|S...</td>\n",
       "      <td>Río Negro</td>\n",
       "      <td>NaN</td>\n",
       "      <td>15500000.0</td>\n",
       "      <td>USD</td>\n",
       "      <td>2.734898e+08</td>\n",
       "      <td>15500000.00</td>\n",
       "      <td>NaN</td>\n",
       "      <td>NaN</td>\n",
       "      <td>NaN</td>\n",
       "      <td>NaN</td>\n",
       "      <td>NaN</td>\n",
       "      <td>CODIGO: 1092-vta-angostura ubicado en: Villa L...</td>\n",
       "      <td>CASTILLO DE 1500 MTS CON VISTA AL LAGO,CASA DE...</td>\n",
       "    </tr>\n",
       "    <tr>\n",
       "      <th>55319</th>\n",
       "      <td>house</td>\n",
       "      <td>Acassuso</td>\n",
       "      <td>|Argentina|Bs.As. G.B.A. Zona Norte|San Isidro...</td>\n",
       "      <td>Bs.As. G.B.A. Zona Norte</td>\n",
       "      <td>-34.4722088,-58.4996791</td>\n",
       "      <td>9900000.0</td>\n",
       "      <td>USD</td>\n",
       "      <td>1.746806e+08</td>\n",
       "      <td>9900000.00</td>\n",
       "      <td>1000.0</td>\n",
       "      <td>1000.0</td>\n",
       "      <td>9900.000000</td>\n",
       "      <td>9900.000000</td>\n",
       "      <td>NaN</td>\n",
       "      <td>Casa importante en lote privilegiado con vista...</td>\n",
       "      <td>Casa importante en lote privilegiado con vista...</td>\n",
       "    </tr>\n",
       "    <tr>\n",
       "      <th>57907</th>\n",
       "      <td>house</td>\n",
       "      <td>San Isidro</td>\n",
       "      <td>|Argentina|Bs.As. G.B.A. Zona Norte|San Isidro...</td>\n",
       "      <td>Bs.As. G.B.A. Zona Norte</td>\n",
       "      <td>-34.4877803,-58.5557866</td>\n",
       "      <td>8500000.0</td>\n",
       "      <td>USD</td>\n",
       "      <td>1.499782e+08</td>\n",
       "      <td>8500000.00</td>\n",
       "      <td>NaN</td>\n",
       "      <td>4111.0</td>\n",
       "      <td>NaN</td>\n",
       "      <td>2067.623449</td>\n",
       "      <td>NaN</td>\n",
       "      <td>Sobre 7832m2 de lote existen 4111m2 cubiertas ...</td>\n",
       "      <td>DON BOSCO 3400</td>\n",
       "    </tr>\n",
       "    <tr>\n",
       "      <th>66045</th>\n",
       "      <td>store</td>\n",
       "      <td>Boca</td>\n",
       "      <td>|Argentina|Capital Federal|Boca|</td>\n",
       "      <td>Capital Federal</td>\n",
       "      <td>-34.6443487086,-58.3654248049</td>\n",
       "      <td>8000000.0</td>\n",
       "      <td>USD</td>\n",
       "      <td>1.411560e+08</td>\n",
       "      <td>8000000.00</td>\n",
       "      <td>7722.0</td>\n",
       "      <td>7722.0</td>\n",
       "      <td>1036.001036</td>\n",
       "      <td>1036.001036</td>\n",
       "      <td>NaN</td>\n",
       "      <td>C.A.B.A - Boca - PRECIO A CONSULTAR - CÓDIGO 0...</td>\n",
       "      <td>Venta con RENTA. Espectacular depósito premium</td>\n",
       "    </tr>\n",
       "    <tr>\n",
       "      <th>67528</th>\n",
       "      <td>store</td>\n",
       "      <td>Beccar</td>\n",
       "      <td>|Argentina|Bs.As. G.B.A. Zona Norte|San Isidro...</td>\n",
       "      <td>Bs.As. G.B.A. Zona Norte</td>\n",
       "      <td>NaN</td>\n",
       "      <td>8000000.0</td>\n",
       "      <td>USD</td>\n",
       "      <td>1.411560e+08</td>\n",
       "      <td>8000000.00</td>\n",
       "      <td>13200.0</td>\n",
       "      <td>13200.0</td>\n",
       "      <td>606.060606</td>\n",
       "      <td>606.060606</td>\n",
       "      <td>NaN</td>\n",
       "      <td>Excepcional Planta Industrial  -  Partido de S...</td>\n",
       "      <td>Excepcional Planta Industrial totalmente refac...</td>\n",
       "    </tr>\n",
       "    <tr>\n",
       "      <th>67690</th>\n",
       "      <td>store</td>\n",
       "      <td>Moreno</td>\n",
       "      <td>|Argentina|Bs.As. G.B.A. Zona Oeste|Moreno|Mor...</td>\n",
       "      <td>Bs.As. G.B.A. Zona Oeste</td>\n",
       "      <td>-34.5676494,-58.8491775</td>\n",
       "      <td>9000000.0</td>\n",
       "      <td>USD</td>\n",
       "      <td>1.588005e+08</td>\n",
       "      <td>9000000.00</td>\n",
       "      <td>NaN</td>\n",
       "      <td>13000.0</td>\n",
       "      <td>NaN</td>\n",
       "      <td>692.307692</td>\n",
       "      <td>NaN</td>\n",
       "      <td>Moreno - CÓDIGO 0167Excelente Inmueble Industr...</td>\n",
       "      <td>Excelente Inmueble Industrial de 13.000 m2</td>\n",
       "    </tr>\n",
       "    <tr>\n",
       "      <th>69115</th>\n",
       "      <td>store</td>\n",
       "      <td>Villa Soldati</td>\n",
       "      <td>|Argentina|Capital Federal|Villa Soldati|</td>\n",
       "      <td>Capital Federal</td>\n",
       "      <td>-34.6601221702,-58.4302513174</td>\n",
       "      <td>8500000.0</td>\n",
       "      <td>USD</td>\n",
       "      <td>1.499782e+08</td>\n",
       "      <td>8500000.00</td>\n",
       "      <td>10958.0</td>\n",
       "      <td>10958.0</td>\n",
       "      <td>775.688994</td>\n",
       "      <td>775.688994</td>\n",
       "      <td>NaN</td>\n",
       "      <td>C.A.B.A - Villa Soldati - CÓDIGO 0146Excelente...</td>\n",
       "      <td>Excelente Nave Industrial de 10.960 m2 sobre t...</td>\n",
       "    </tr>\n",
       "    <tr>\n",
       "      <th>73029</th>\n",
       "      <td>apartment</td>\n",
       "      <td>Palermo</td>\n",
       "      <td>|Argentina|Capital Federal|Palermo|</td>\n",
       "      <td>Capital Federal</td>\n",
       "      <td>NaN</td>\n",
       "      <td>8000000.0</td>\n",
       "      <td>USD</td>\n",
       "      <td>1.411560e+08</td>\n",
       "      <td>8000000.00</td>\n",
       "      <td>800.0</td>\n",
       "      <td>NaN</td>\n",
       "      <td>10000.000000</td>\n",
       "      <td>NaN</td>\n",
       "      <td>NaN</td>\n",
       "      <td>VENTA DEPARTAMENTO PISO DE 2 UNIDADES ANEXADAS...</td>\n",
       "      <td>Departamento en Palermo</td>\n",
       "    </tr>\n",
       "    <tr>\n",
       "      <th>84400</th>\n",
       "      <td>store</td>\n",
       "      <td>Bs.As. G.B.A. Zona Norte</td>\n",
       "      <td>|Argentina|Bs.As. G.B.A. Zona Norte|</td>\n",
       "      <td>Bs.As. G.B.A. Zona Norte</td>\n",
       "      <td>NaN</td>\n",
       "      <td>13000000.0</td>\n",
       "      <td>USD</td>\n",
       "      <td>2.293785e+08</td>\n",
       "      <td>13000000.00</td>\n",
       "      <td>NaN</td>\n",
       "      <td>NaN</td>\n",
       "      <td>NaN</td>\n",
       "      <td>NaN</td>\n",
       "      <td>NaN</td>\n",
       "      <td>AL VALOR PUBLICADO DEBERÁ ADICIONÁRSELE EL IMP...</td>\n",
       "      <td>Playa vehicular en venta-alquiler- Zarate</td>\n",
       "    </tr>\n",
       "    <tr>\n",
       "      <th>91229</th>\n",
       "      <td>house</td>\n",
       "      <td>Punilla</td>\n",
       "      <td>|Argentina|Córdoba|Punilla|</td>\n",
       "      <td>Córdoba</td>\n",
       "      <td>NaN</td>\n",
       "      <td>14000000.0</td>\n",
       "      <td>USD</td>\n",
       "      <td>2.470230e+08</td>\n",
       "      <td>14000000.00</td>\n",
       "      <td>NaN</td>\n",
       "      <td>NaN</td>\n",
       "      <td>NaN</td>\n",
       "      <td>NaN</td>\n",
       "      <td>NaN</td>\n",
       "      <td>Casa con Agua Corriente, Córdoba, Punilla, por...</td>\n",
       "      <td>Casa - Villa Carlos Paz</td>\n",
       "    </tr>\n",
       "    <tr>\n",
       "      <th>91289</th>\n",
       "      <td>house</td>\n",
       "      <td>Punilla</td>\n",
       "      <td>|Argentina|Córdoba|Punilla|</td>\n",
       "      <td>Córdoba</td>\n",
       "      <td>NaN</td>\n",
       "      <td>16000000.0</td>\n",
       "      <td>USD</td>\n",
       "      <td>2.823120e+08</td>\n",
       "      <td>16000000.00</td>\n",
       "      <td>NaN</td>\n",
       "      <td>NaN</td>\n",
       "      <td>NaN</td>\n",
       "      <td>NaN</td>\n",
       "      <td>NaN</td>\n",
       "      <td>En Bv Artigas 876 , Parque Jardín, La Falda .A...</td>\n",
       "      <td>Casa - La Falda</td>\n",
       "    </tr>\n",
       "    <tr>\n",
       "      <th>91428</th>\n",
       "      <td>house</td>\n",
       "      <td>Punilla</td>\n",
       "      <td>|Argentina|Córdoba|Punilla|</td>\n",
       "      <td>Córdoba</td>\n",
       "      <td>NaN</td>\n",
       "      <td>14700000.0</td>\n",
       "      <td>USD</td>\n",
       "      <td>2.593742e+08</td>\n",
       "      <td>14700000.00</td>\n",
       "      <td>NaN</td>\n",
       "      <td>NaN</td>\n",
       "      <td>NaN</td>\n",
       "      <td>NaN</td>\n",
       "      <td>NaN</td>\n",
       "      <td>\\tCECILIA INMUEBLES OFRECE:APTO CREDITO HIPOTE...</td>\n",
       "      <td>Casa - Parque Siquiman</td>\n",
       "    </tr>\n",
       "    <tr>\n",
       "      <th>91468</th>\n",
       "      <td>house</td>\n",
       "      <td>Punilla</td>\n",
       "      <td>|Argentina|Córdoba|Punilla|</td>\n",
       "      <td>Córdoba</td>\n",
       "      <td>NaN</td>\n",
       "      <td>25000000.0</td>\n",
       "      <td>USD</td>\n",
       "      <td>4.411125e+08</td>\n",
       "      <td>25000000.00</td>\n",
       "      <td>NaN</td>\n",
       "      <td>NaN</td>\n",
       "      <td>NaN</td>\n",
       "      <td>NaN</td>\n",
       "      <td>NaN</td>\n",
       "      <td>Casa con Agua Corriente, Córdoba, Punilla, por...</td>\n",
       "      <td>Casa - Parque Siquiman</td>\n",
       "    </tr>\n",
       "    <tr>\n",
       "      <th>91479</th>\n",
       "      <td>house</td>\n",
       "      <td>Punilla</td>\n",
       "      <td>|Argentina|Córdoba|Punilla|</td>\n",
       "      <td>Córdoba</td>\n",
       "      <td>NaN</td>\n",
       "      <td>19500000.0</td>\n",
       "      <td>USD</td>\n",
       "      <td>3.440678e+08</td>\n",
       "      <td>19500000.00</td>\n",
       "      <td>NaN</td>\n",
       "      <td>NaN</td>\n",
       "      <td>NaN</td>\n",
       "      <td>NaN</td>\n",
       "      <td>NaN</td>\n",
       "      <td>\\tCECILIA INMUEBLES OFRECE:INCREIBLE PROPIEDAD...</td>\n",
       "      <td>Casa - Parque Siquiman</td>\n",
       "    </tr>\n",
       "    <tr>\n",
       "      <th>107390</th>\n",
       "      <td>house</td>\n",
       "      <td>San Roque</td>\n",
       "      <td>|Argentina|Mendoza|San Roque|</td>\n",
       "      <td>Mendoza</td>\n",
       "      <td>NaN</td>\n",
       "      <td>650000000.0</td>\n",
       "      <td>UYU</td>\n",
       "      <td>4.054773e+08</td>\n",
       "      <td>22980378.29</td>\n",
       "      <td>NaN</td>\n",
       "      <td>NaN</td>\n",
       "      <td>NaN</td>\n",
       "      <td>NaN</td>\n",
       "      <td>NaN</td>\n",
       "      <td>Casa con Calefacción central, Mendoza, San Roq...</td>\n",
       "      <td>Casa - San Vicente</td>\n",
       "    </tr>\n",
       "    <tr>\n",
       "      <th>114131</th>\n",
       "      <td>house</td>\n",
       "      <td>Ituzaingó</td>\n",
       "      <td>|Argentina|Bs.As. G.B.A. Zona Oeste|Ituzaingó|</td>\n",
       "      <td>Bs.As. G.B.A. Zona Oeste</td>\n",
       "      <td>-34.6571706,-58.6826249</td>\n",
       "      <td>12000000.0</td>\n",
       "      <td>USD</td>\n",
       "      <td>2.117340e+08</td>\n",
       "      <td>12000000.00</td>\n",
       "      <td>150.0</td>\n",
       "      <td>85.0</td>\n",
       "      <td>80000.000000</td>\n",
       "      <td>141176.470588</td>\n",
       "      <td>NaN</td>\n",
       "      <td>CODIGO:  ubicado en: MONSEÑOR TERRERO , Ituzai...</td>\n",
       "      <td>MONSEÑOR TERRERO , Ituzaingó, Buenos Aires.</td>\n",
       "    </tr>\n",
       "  </tbody>\n",
       "</table>\n",
       "</div>"
      ],
      "text/plain": [
       "       property_type                place_name  \\\n",
       "525            house                  Acassuso   \n",
       "11349          house           Capital Federal   \n",
       "24548      apartment                 San Telmo   \n",
       "34638          house                    Olivos   \n",
       "44684      apartment             Palermo Chico   \n",
       "44685      apartment             Palermo Chico   \n",
       "45689          house                   Rosario   \n",
       "49083          house   San Carlos de Bariloche   \n",
       "55319          house                  Acassuso   \n",
       "57907          house                San Isidro   \n",
       "66045          store                      Boca   \n",
       "67528          store                    Beccar   \n",
       "67690          store                    Moreno   \n",
       "69115          store             Villa Soldati   \n",
       "73029      apartment                   Palermo   \n",
       "84400          store  Bs.As. G.B.A. Zona Norte   \n",
       "91229          house                   Punilla   \n",
       "91289          house                   Punilla   \n",
       "91428          house                   Punilla   \n",
       "91468          house                   Punilla   \n",
       "91479          house                   Punilla   \n",
       "107390         house                 San Roque   \n",
       "114131         house                 Ituzaingó   \n",
       "\n",
       "                                  place_with_parent_names  \\\n",
       "525     |Argentina|Bs.As. G.B.A. Zona Norte|San Isidro...   \n",
       "11349                         |Argentina|Capital Federal|   \n",
       "24548               |Argentina|Capital Federal|San Telmo|   \n",
       "34638   |Argentina|Bs.As. G.B.A. Zona Norte|Vicente Ló...   \n",
       "44684   |Argentina|Capital Federal|Palermo|Palermo Chico|   \n",
       "44685   |Argentina|Capital Federal|Palermo|Palermo Chico|   \n",
       "45689                        |Argentina|Santa Fe|Rosario|   \n",
       "49083   |Argentina|Río Negro|San Carlos de Bariloche|S...   \n",
       "55319   |Argentina|Bs.As. G.B.A. Zona Norte|San Isidro...   \n",
       "57907   |Argentina|Bs.As. G.B.A. Zona Norte|San Isidro...   \n",
       "66045                    |Argentina|Capital Federal|Boca|   \n",
       "67528   |Argentina|Bs.As. G.B.A. Zona Norte|San Isidro...   \n",
       "67690   |Argentina|Bs.As. G.B.A. Zona Oeste|Moreno|Mor...   \n",
       "69115           |Argentina|Capital Federal|Villa Soldati|   \n",
       "73029                 |Argentina|Capital Federal|Palermo|   \n",
       "84400                |Argentina|Bs.As. G.B.A. Zona Norte|   \n",
       "91229                         |Argentina|Córdoba|Punilla|   \n",
       "91289                         |Argentina|Córdoba|Punilla|   \n",
       "91428                         |Argentina|Córdoba|Punilla|   \n",
       "91468                         |Argentina|Córdoba|Punilla|   \n",
       "91479                         |Argentina|Córdoba|Punilla|   \n",
       "107390                      |Argentina|Mendoza|San Roque|   \n",
       "114131     |Argentina|Bs.As. G.B.A. Zona Oeste|Ituzaingó|   \n",
       "\n",
       "                      state_name                        lat-lon        price  \\\n",
       "525     Bs.As. G.B.A. Zona Norte                            NaN   11000000.0   \n",
       "11349            Capital Federal                            NaN    8500000.0   \n",
       "24548            Capital Federal        -34.6213421,-58.3741846   46545445.0   \n",
       "34638   Bs.As. G.B.A. Zona Norte                            NaN   14000000.0   \n",
       "44684            Capital Federal        -34.5789246,-58.4013987    8000000.0   \n",
       "44685            Capital Federal        -34.5789246,-58.4013987    8500000.0   \n",
       "45689                   Santa Fe         -32.933983,-60.7319772   11111111.0   \n",
       "49083                  Río Negro                            NaN   15500000.0   \n",
       "55319   Bs.As. G.B.A. Zona Norte        -34.4722088,-58.4996791    9900000.0   \n",
       "57907   Bs.As. G.B.A. Zona Norte        -34.4877803,-58.5557866    8500000.0   \n",
       "66045            Capital Federal  -34.6443487086,-58.3654248049    8000000.0   \n",
       "67528   Bs.As. G.B.A. Zona Norte                            NaN    8000000.0   \n",
       "67690   Bs.As. G.B.A. Zona Oeste        -34.5676494,-58.8491775    9000000.0   \n",
       "69115            Capital Federal  -34.6601221702,-58.4302513174    8500000.0   \n",
       "73029            Capital Federal                            NaN    8000000.0   \n",
       "84400   Bs.As. G.B.A. Zona Norte                            NaN   13000000.0   \n",
       "91229                    Córdoba                            NaN   14000000.0   \n",
       "91289                    Córdoba                            NaN   16000000.0   \n",
       "91428                    Córdoba                            NaN   14700000.0   \n",
       "91468                    Córdoba                            NaN   25000000.0   \n",
       "91479                    Córdoba                            NaN   19500000.0   \n",
       "107390                   Mendoza                            NaN  650000000.0   \n",
       "114131  Bs.As. G.B.A. Zona Oeste        -34.6571706,-58.6826249   12000000.0   \n",
       "\n",
       "       currency  price_aprox_local_currency  price_aprox_usd  \\\n",
       "525         USD                1.940895e+08      11000000.00   \n",
       "11349       USD                1.499782e+08       8500000.00   \n",
       "24548       USD                8.212711e+08      46545445.00   \n",
       "34638       USD                2.470230e+08      14000000.00   \n",
       "44684       USD                1.411560e+08       8000000.00   \n",
       "44685       USD                1.499782e+08       8500000.00   \n",
       "45689       USD                1.960500e+08      11111111.00   \n",
       "49083       USD                2.734898e+08      15500000.00   \n",
       "55319       USD                1.746806e+08       9900000.00   \n",
       "57907       USD                1.499782e+08       8500000.00   \n",
       "66045       USD                1.411560e+08       8000000.00   \n",
       "67528       USD                1.411560e+08       8000000.00   \n",
       "67690       USD                1.588005e+08       9000000.00   \n",
       "69115       USD                1.499782e+08       8500000.00   \n",
       "73029       USD                1.411560e+08       8000000.00   \n",
       "84400       USD                2.293785e+08      13000000.00   \n",
       "91229       USD                2.470230e+08      14000000.00   \n",
       "91289       USD                2.823120e+08      16000000.00   \n",
       "91428       USD                2.593742e+08      14700000.00   \n",
       "91468       USD                4.411125e+08      25000000.00   \n",
       "91479       USD                3.440678e+08      19500000.00   \n",
       "107390      UYU                4.054773e+08      22980378.29   \n",
       "114131      USD                2.117340e+08      12000000.00   \n",
       "\n",
       "        surface_total_in_m2  surface_covered_in_m2  price_usd_per_m2  \\\n",
       "525                  7500.0                 1800.0       1466.666667   \n",
       "11349                7832.0                 4111.0       1085.291113   \n",
       "24548              200000.0                    NaN        232.727225   \n",
       "34638                2079.0                    NaN       6734.006734   \n",
       "44684                 410.0                  410.0      19512.195122   \n",
       "44685                 410.0                  410.0      20731.707317   \n",
       "45689                 304.0                  149.0      36549.707237   \n",
       "49083                   NaN                    NaN               NaN   \n",
       "55319                1000.0                 1000.0       9900.000000   \n",
       "57907                   NaN                 4111.0               NaN   \n",
       "66045                7722.0                 7722.0       1036.001036   \n",
       "67528               13200.0                13200.0        606.060606   \n",
       "67690                   NaN                13000.0               NaN   \n",
       "69115               10958.0                10958.0        775.688994   \n",
       "73029                 800.0                    NaN      10000.000000   \n",
       "84400                   NaN                    NaN               NaN   \n",
       "91229                   NaN                    NaN               NaN   \n",
       "91289                   NaN                    NaN               NaN   \n",
       "91428                   NaN                    NaN               NaN   \n",
       "91468                   NaN                    NaN               NaN   \n",
       "91479                   NaN                    NaN               NaN   \n",
       "107390                  NaN                    NaN               NaN   \n",
       "114131                150.0                   85.0      80000.000000   \n",
       "\n",
       "         price_per_m2  rooms  \\\n",
       "525       6111.111111    NaN   \n",
       "11349     2067.623449    NaN   \n",
       "24548             NaN    3.0   \n",
       "34638             NaN    NaN   \n",
       "44684    19512.195122    5.0   \n",
       "44685    20731.707317    5.0   \n",
       "45689    74571.214765    NaN   \n",
       "49083             NaN    NaN   \n",
       "55319     9900.000000    NaN   \n",
       "57907     2067.623449    NaN   \n",
       "66045     1036.001036    NaN   \n",
       "67528      606.060606    NaN   \n",
       "67690      692.307692    NaN   \n",
       "69115      775.688994    NaN   \n",
       "73029             NaN    NaN   \n",
       "84400             NaN    NaN   \n",
       "91229             NaN    NaN   \n",
       "91289             NaN    NaN   \n",
       "91428             NaN    NaN   \n",
       "91468             NaN    NaN   \n",
       "91479             NaN    NaN   \n",
       "107390            NaN    NaN   \n",
       "114131  141176.470588    NaN   \n",
       "\n",
       "                                              description  \\\n",
       "525     Total vista al rÃ­o. Sobre 7500 m2 de parque a...   \n",
       "11349   Sobre 7832m2 de lote existen 4111m2 cubiertas ...   \n",
       "24548   dsdffhghvcvbcdfdfghdfhghkjhkhjklhjkfgvghfghnfg...   \n",
       "34638   Excelente zona. Cerca de la Quinat Presidencia...   \n",
       "44684   CONTACTO: MARTIN PINUS 15- EXCELENTISIMA PROPI...   \n",
       "44685   CONTACTO: MARTIN PINUS 15- EXCELENTISIMA PROPI...   \n",
       "45689   CODIGO: 2062-670 ubicado en: URQUIZA 7900 -  P...   \n",
       "49083   CODIGO: 1092-vta-angostura ubicado en: Villa L...   \n",
       "55319   Casa importante en lote privilegiado con vista...   \n",
       "57907   Sobre 7832m2 de lote existen 4111m2 cubiertas ...   \n",
       "66045   C.A.B.A - Boca - PRECIO A CONSULTAR - CÓDIGO 0...   \n",
       "67528   Excepcional Planta Industrial  -  Partido de S...   \n",
       "67690   Moreno - CÓDIGO 0167Excelente Inmueble Industr...   \n",
       "69115   C.A.B.A - Villa Soldati - CÓDIGO 0146Excelente...   \n",
       "73029   VENTA DEPARTAMENTO PISO DE 2 UNIDADES ANEXADAS...   \n",
       "84400   AL VALOR PUBLICADO DEBERÁ ADICIONÁRSELE EL IMP...   \n",
       "91229   Casa con Agua Corriente, Córdoba, Punilla, por...   \n",
       "91289   En Bv Artigas 876 , Parque Jardín, La Falda .A...   \n",
       "91428   \\tCECILIA INMUEBLES OFRECE:APTO CREDITO HIPOTE...   \n",
       "91468   Casa con Agua Corriente, Córdoba, Punilla, por...   \n",
       "91479   \\tCECILIA INMUEBLES OFRECE:INCREIBLE PROPIEDAD...   \n",
       "107390  Casa con Calefacción central, Mendoza, San Roq...   \n",
       "114131  CODIGO:  ubicado en: MONSEÑOR TERRERO , Ituzai...   \n",
       "\n",
       "                                                    title  \n",
       "525     Casa 7500m² con Dependencias en Garay, Juan De...  \n",
       "11349   Casa 7832m² con Dependencias en Don Bosco 3400...  \n",
       "24548                                  Departamento venta  \n",
       "34638   Casa 2079m² en Del Libertador, Av. 2200, Vicen...  \n",
       "44684   LE PARC ALCORTA - PISO MUY ALTO DE 410 M2 CON ...  \n",
       "44685   LE PARC ALCORTA - PISO MUY ALTO DE 410 M2 CON ...  \n",
       "45689   VENTA CASA AL FRENTE. 3 DORMITORIOS. 2 BAÑOS. ...  \n",
       "49083   CASTILLO DE 1500 MTS CON VISTA AL LAGO,CASA DE...  \n",
       "55319   Casa importante en lote privilegiado con vista...  \n",
       "57907                                      DON BOSCO 3400  \n",
       "66045      Venta con RENTA. Espectacular depósito premium  \n",
       "67528   Excepcional Planta Industrial totalmente refac...  \n",
       "67690          Excelente Inmueble Industrial de 13.000 m2  \n",
       "69115   Excelente Nave Industrial de 10.960 m2 sobre t...  \n",
       "73029                             Departamento en Palermo  \n",
       "84400           Playa vehicular en venta-alquiler- Zarate  \n",
       "91229                             Casa - Villa Carlos Paz  \n",
       "91289                                     Casa - La Falda  \n",
       "91428                              Casa - Parque Siquiman  \n",
       "91468                              Casa - Parque Siquiman  \n",
       "91479                              Casa - Parque Siquiman  \n",
       "107390                                 Casa - San Vicente  \n",
       "114131        MONSEÑOR TERRERO , Ituzaingó, Buenos Aires.  "
      ]
     },
     "execution_count": 119,
     "metadata": {},
     "output_type": "execute_result"
    }
   ],
   "source": [
    "datos_mayores = data2[priceusd_mayor_8m]\n",
    "datos_mayores"
   ]
  },
  {
   "cell_type": "markdown",
   "id": "blind-moldova",
   "metadata": {},
   "source": [
    "- #### tercer eliminacion de valores (eliminados: 8)"
   ]
  },
  {
   "cell_type": "code",
   "execution_count": 120,
   "id": "ranking-springfield",
   "metadata": {},
   "outputs": [],
   "source": [
    "#vamos a borrar en base a lo que vimos los sigueintes indices porque no son propiedades reales, o son errores de carga\n",
    "\n",
    "data3 = data2.drop([24548, 91468, 107390, 91479, 91289, 91428, 114131, 45689], axis = 0)"
   ]
  },
  {
   "cell_type": "code",
   "execution_count": 121,
   "id": "disabled-ozone",
   "metadata": {},
   "outputs": [
    {
     "data": {
      "text/plain": [
       "(115960, 16)"
      ]
     },
     "execution_count": 121,
     "metadata": {},
     "output_type": "execute_result"
    }
   ],
   "source": [
    "data3.shape"
   ]
  },
  {
   "cell_type": "markdown",
   "id": "breathing-winter",
   "metadata": {},
   "source": [
    "## 2)  Vamos a trabajar ahora sobre las localidades"
   ]
  },
  {
   "cell_type": "markdown",
   "id": "greater-latvia",
   "metadata": {},
   "source": [
    "# ahora vamos a trabajar sobre las columnas de ubicacion"
   ]
  },
  {
   "cell_type": "markdown",
   "id": "advance-testament",
   "metadata": {},
   "source": [
    "- ### Tenemos 3 columnas de ubicacion \"place_name\"   \"place_with_parent_names\"  \"state_name\""
   ]
  },
  {
   "cell_type": "markdown",
   "id": "judicial-authentication",
   "metadata": {},
   "source": [
    "- ### place_name no se puede utilizar como columna de Localidad ya que hay datos mal cargados, por ejemplo ciertas filas con nombres de Barrios Privados"
   ]
  },
  {
   "cell_type": "markdown",
   "id": "chemical-insight",
   "metadata": {},
   "source": [
    "- ### Es por eso que trabajamos la columna \"place_with_parent_names\", la splitiamos y obtuvimos la localidad de la misma. Esa localidad va a ser la ubicacion mas especifica para todo el trabajo "
   ]
  },
  {
   "cell_type": "code",
   "execution_count": 211,
   "id": "consolidated-feature",
   "metadata": {},
   "outputs": [],
   "source": [
    "#vamos a arrancar por sacar el pais Argentina ya que todas las propiedades son en Argentina.\n",
    "# creamo una regex para sacar los |Argentina del comienzo de \"place_with_parent_names\"\n",
    "import re\n",
    "patron_argentina = \"\\|Argentina\\|\"\n",
    "patron_regex_arg = re.compile(patron_argentina)\n",
    "data3[\"place_with_parent_names\"] = data3[\"place_with_parent_names\"].apply(lambda x: x if x is np.NaN else patron_regex_arg.sub(\"\",x))"
   ]
  },
  {
   "cell_type": "markdown",
   "id": "placed-blink",
   "metadata": {},
   "source": [
    "#### una vez que tenemos la regex de thomas con todos los valores de m2, agregamos los datos a las dos columnas covered y total y ya podemos dividir la columna precio aprox usd por la columna final de surface que usemos para el total de la superficie. de esta manera obtenemos el verdadero valor de price per m2 REAL"
   ]
  },
  {
   "cell_type": "code",
   "execution_count": null,
   "id": "exciting-forwarding",
   "metadata": {},
   "outputs": [],
   "source": []
  },
  {
   "cell_type": "code",
   "execution_count": 164,
   "id": "presidential-lounge",
   "metadata": {},
   "outputs": [
    {
     "data": {
      "text/html": [
       "<div>\n",
       "<style scoped>\n",
       "    .dataframe tbody tr th:only-of-type {\n",
       "        vertical-align: middle;\n",
       "    }\n",
       "\n",
       "    .dataframe tbody tr th {\n",
       "        vertical-align: top;\n",
       "    }\n",
       "\n",
       "    .dataframe thead th {\n",
       "        text-align: right;\n",
       "    }\n",
       "</style>\n",
       "<table border=\"1\" class=\"dataframe\">\n",
       "  <thead>\n",
       "    <tr style=\"text-align: right;\">\n",
       "      <th></th>\n",
       "      <th>place_with_parent_names</th>\n",
       "    </tr>\n",
       "  </thead>\n",
       "  <tbody>\n",
       "    <tr>\n",
       "      <th>0</th>\n",
       "      <td>Capital Federal|Mataderos|</td>\n",
       "    </tr>\n",
       "    <tr>\n",
       "      <th>1</th>\n",
       "      <td>Bs.As. G.B.A. Zona Sur|La Plata|</td>\n",
       "    </tr>\n",
       "    <tr>\n",
       "      <th>2</th>\n",
       "      <td>Capital Federal|Mataderos|</td>\n",
       "    </tr>\n",
       "    <tr>\n",
       "      <th>3</th>\n",
       "      <td>Capital Federal|Liniers|</td>\n",
       "    </tr>\n",
       "    <tr>\n",
       "      <th>4</th>\n",
       "      <td>Buenos Aires Costa Atlántica|Mar del Plata|Cen...</td>\n",
       "    </tr>\n",
       "    <tr>\n",
       "      <th>5</th>\n",
       "      <td>Entre Ríos|Gualeguaychú|</td>\n",
       "    </tr>\n",
       "    <tr>\n",
       "      <th>6</th>\n",
       "      <td>Bs.As. G.B.A. Zona Norte|Vicente López|Munro|</td>\n",
       "    </tr>\n",
       "    <tr>\n",
       "      <th>7</th>\n",
       "      <td>Capital Federal|Belgrano|</td>\n",
       "    </tr>\n",
       "    <tr>\n",
       "      <th>8</th>\n",
       "      <td>Capital Federal|Belgrano|</td>\n",
       "    </tr>\n",
       "    <tr>\n",
       "      <th>9</th>\n",
       "      <td>Santa Fe|Rosario|</td>\n",
       "    </tr>\n",
       "  </tbody>\n",
       "</table>\n",
       "</div>"
      ],
      "text/plain": [
       "                             place_with_parent_names\n",
       "0                         Capital Federal|Mataderos|\n",
       "1                   Bs.As. G.B.A. Zona Sur|La Plata|\n",
       "2                         Capital Federal|Mataderos|\n",
       "3                           Capital Federal|Liniers|\n",
       "4  Buenos Aires Costa Atlántica|Mar del Plata|Cen...\n",
       "5                           Entre Ríos|Gualeguaychú|\n",
       "6      Bs.As. G.B.A. Zona Norte|Vicente López|Munro|\n",
       "7                          Capital Federal|Belgrano|\n",
       "8                          Capital Federal|Belgrano|\n",
       "9                                  Santa Fe|Rosario|"
      ]
     },
     "execution_count": 164,
     "metadata": {},
     "output_type": "execute_result"
    }
   ],
   "source": [
    "data3.loc[:, [\"place_with_parent_names\"]].head(10)"
   ]
  },
  {
   "cell_type": "code",
   "execution_count": 165,
   "id": "noticed-poster",
   "metadata": {},
   "outputs": [
    {
     "data": {
      "text/html": [
       "<div>\n",
       "<style scoped>\n",
       "    .dataframe tbody tr th:only-of-type {\n",
       "        vertical-align: middle;\n",
       "    }\n",
       "\n",
       "    .dataframe tbody tr th {\n",
       "        vertical-align: top;\n",
       "    }\n",
       "\n",
       "    .dataframe thead th {\n",
       "        text-align: right;\n",
       "    }\n",
       "</style>\n",
       "<table border=\"1\" class=\"dataframe\">\n",
       "  <thead>\n",
       "    <tr style=\"text-align: right;\">\n",
       "      <th></th>\n",
       "      <th>Provincia</th>\n",
       "      <th>Localidad</th>\n",
       "      <th>Info_extra</th>\n",
       "    </tr>\n",
       "  </thead>\n",
       "  <tbody>\n",
       "    <tr>\n",
       "      <th>0</th>\n",
       "      <td>Capital Federal</td>\n",
       "      <td>Mataderos</td>\n",
       "      <td></td>\n",
       "    </tr>\n",
       "    <tr>\n",
       "      <th>1</th>\n",
       "      <td>Bs.As. G.B.A. Zona Sur</td>\n",
       "      <td>La Plata</td>\n",
       "      <td></td>\n",
       "    </tr>\n",
       "    <tr>\n",
       "      <th>2</th>\n",
       "      <td>Capital Federal</td>\n",
       "      <td>Mataderos</td>\n",
       "      <td></td>\n",
       "    </tr>\n",
       "    <tr>\n",
       "      <th>3</th>\n",
       "      <td>Capital Federal</td>\n",
       "      <td>Liniers</td>\n",
       "      <td></td>\n",
       "    </tr>\n",
       "    <tr>\n",
       "      <th>4</th>\n",
       "      <td>Buenos Aires Costa Atlántica</td>\n",
       "      <td>Mar del Plata</td>\n",
       "      <td>Centro|</td>\n",
       "    </tr>\n",
       "    <tr>\n",
       "      <th>...</th>\n",
       "      <td>...</td>\n",
       "      <td>...</td>\n",
       "      <td>...</td>\n",
       "    </tr>\n",
       "    <tr>\n",
       "      <th>121215</th>\n",
       "      <td>Capital Federal</td>\n",
       "      <td>Belgrano</td>\n",
       "      <td></td>\n",
       "    </tr>\n",
       "    <tr>\n",
       "      <th>121216</th>\n",
       "      <td>Bs.As. G.B.A. Zona Norte</td>\n",
       "      <td>San Isidro</td>\n",
       "      <td>Beccar|</td>\n",
       "    </tr>\n",
       "    <tr>\n",
       "      <th>121217</th>\n",
       "      <td>Capital Federal</td>\n",
       "      <td>Villa Urquiza</td>\n",
       "      <td></td>\n",
       "    </tr>\n",
       "    <tr>\n",
       "      <th>121218</th>\n",
       "      <td>Buenos Aires Costa Atlántica</td>\n",
       "      <td>Mar del Plata</td>\n",
       "      <td>Plaza Colón|</td>\n",
       "    </tr>\n",
       "    <tr>\n",
       "      <th>121219</th>\n",
       "      <td>Capital Federal</td>\n",
       "      <td></td>\n",
       "      <td>None</td>\n",
       "    </tr>\n",
       "  </tbody>\n",
       "</table>\n",
       "<p>115960 rows × 3 columns</p>\n",
       "</div>"
      ],
      "text/plain": [
       "                           Provincia      Localidad    Info_extra\n",
       "0                    Capital Federal      Mataderos              \n",
       "1             Bs.As. G.B.A. Zona Sur       La Plata              \n",
       "2                    Capital Federal      Mataderos              \n",
       "3                    Capital Federal        Liniers              \n",
       "4       Buenos Aires Costa Atlántica  Mar del Plata       Centro|\n",
       "...                              ...            ...           ...\n",
       "121215               Capital Federal       Belgrano              \n",
       "121216      Bs.As. G.B.A. Zona Norte     San Isidro       Beccar|\n",
       "121217               Capital Federal  Villa Urquiza              \n",
       "121218  Buenos Aires Costa Atlántica  Mar del Plata  Plaza Colón|\n",
       "121219               Capital Federal                         None\n",
       "\n",
       "[115960 rows x 3 columns]"
      ]
     },
     "execution_count": 165,
     "metadata": {},
     "output_type": "execute_result"
    }
   ],
   "source": [
    "#Splitiamos ahora \"place_with_parent_names\" en 3 columnas distintas (provincia, localidad, info extra) y las agregamos al DF\n",
    "\n",
    "data3[[\"Provincia\",\"Localidad\", \"Info_extra\"]] = data3[\"place_with_parent_names\"].str.split(\"|\",n=2, expand=True)\n",
    "data3.loc[:,[\"Provincia\",\"Localidad\", \"Info_extra\"]]"
   ]
  },
  {
   "cell_type": "code",
   "execution_count": 166,
   "id": "herbal-scholar",
   "metadata": {},
   "outputs": [
    {
     "data": {
      "text/html": [
       "<div>\n",
       "<style scoped>\n",
       "    .dataframe tbody tr th:only-of-type {\n",
       "        vertical-align: middle;\n",
       "    }\n",
       "\n",
       "    .dataframe tbody tr th {\n",
       "        vertical-align: top;\n",
       "    }\n",
       "\n",
       "    .dataframe thead th {\n",
       "        text-align: right;\n",
       "    }\n",
       "</style>\n",
       "<table border=\"1\" class=\"dataframe\">\n",
       "  <thead>\n",
       "    <tr style=\"text-align: right;\">\n",
       "      <th></th>\n",
       "      <th>property_type</th>\n",
       "      <th>place_name</th>\n",
       "      <th>place_with_parent_names</th>\n",
       "      <th>state_name</th>\n",
       "      <th>lat-lon</th>\n",
       "      <th>price</th>\n",
       "      <th>currency</th>\n",
       "      <th>price_aprox_local_currency</th>\n",
       "      <th>price_aprox_usd</th>\n",
       "      <th>surface_total_in_m2</th>\n",
       "      <th>...</th>\n",
       "      <th>total_en_zeros</th>\n",
       "      <th>covered_en_zeros</th>\n",
       "      <th>covered_imputados</th>\n",
       "      <th>total_imputados</th>\n",
       "      <th>refaccionado</th>\n",
       "      <th>pileta</th>\n",
       "      <th>amenities</th>\n",
       "      <th>Provincia</th>\n",
       "      <th>Localidad</th>\n",
       "      <th>Info_extra</th>\n",
       "    </tr>\n",
       "  </thead>\n",
       "  <tbody>\n",
       "    <tr>\n",
       "      <th>0</th>\n",
       "      <td>PH</td>\n",
       "      <td>Mataderos</td>\n",
       "      <td>Capital Federal|Mataderos|</td>\n",
       "      <td>Capital Federal</td>\n",
       "      <td>-34.6618237,-58.5088387</td>\n",
       "      <td>62000.0</td>\n",
       "      <td>USD</td>\n",
       "      <td>1093959.0</td>\n",
       "      <td>62000.0</td>\n",
       "      <td>55.0</td>\n",
       "      <td>...</td>\n",
       "      <td>55.0</td>\n",
       "      <td>40.0</td>\n",
       "      <td>40.0</td>\n",
       "      <td>55.0</td>\n",
       "      <td>1</td>\n",
       "      <td>0</td>\n",
       "      <td>0</td>\n",
       "      <td>Capital Federal</td>\n",
       "      <td>Mataderos</td>\n",
       "      <td></td>\n",
       "    </tr>\n",
       "    <tr>\n",
       "      <th>1</th>\n",
       "      <td>apartment</td>\n",
       "      <td>La Plata</td>\n",
       "      <td>Bs.As. G.B.A. Zona Sur|La Plata|</td>\n",
       "      <td>Bs.As. G.B.A. Zona Sur</td>\n",
       "      <td>-34.9038831,-57.9643295</td>\n",
       "      <td>150000.0</td>\n",
       "      <td>USD</td>\n",
       "      <td>2646675.0</td>\n",
       "      <td>150000.0</td>\n",
       "      <td>NaN</td>\n",
       "      <td>...</td>\n",
       "      <td>0.0</td>\n",
       "      <td>0.0</td>\n",
       "      <td>0.0</td>\n",
       "      <td>0.0</td>\n",
       "      <td>0</td>\n",
       "      <td>0</td>\n",
       "      <td>0</td>\n",
       "      <td>Bs.As. G.B.A. Zona Sur</td>\n",
       "      <td>La Plata</td>\n",
       "      <td></td>\n",
       "    </tr>\n",
       "    <tr>\n",
       "      <th>2</th>\n",
       "      <td>apartment</td>\n",
       "      <td>Mataderos</td>\n",
       "      <td>Capital Federal|Mataderos|</td>\n",
       "      <td>Capital Federal</td>\n",
       "      <td>-34.6522615,-58.5229825</td>\n",
       "      <td>72000.0</td>\n",
       "      <td>USD</td>\n",
       "      <td>1270404.0</td>\n",
       "      <td>72000.0</td>\n",
       "      <td>55.0</td>\n",
       "      <td>...</td>\n",
       "      <td>55.0</td>\n",
       "      <td>55.0</td>\n",
       "      <td>55.0</td>\n",
       "      <td>55.0</td>\n",
       "      <td>0</td>\n",
       "      <td>0</td>\n",
       "      <td>0</td>\n",
       "      <td>Capital Federal</td>\n",
       "      <td>Mataderos</td>\n",
       "      <td></td>\n",
       "    </tr>\n",
       "    <tr>\n",
       "      <th>3</th>\n",
       "      <td>PH</td>\n",
       "      <td>Liniers</td>\n",
       "      <td>Capital Federal|Liniers|</td>\n",
       "      <td>Capital Federal</td>\n",
       "      <td>-34.6477969,-58.5164244</td>\n",
       "      <td>95000.0</td>\n",
       "      <td>USD</td>\n",
       "      <td>1676227.5</td>\n",
       "      <td>95000.0</td>\n",
       "      <td>NaN</td>\n",
       "      <td>...</td>\n",
       "      <td>0.0</td>\n",
       "      <td>0.0</td>\n",
       "      <td>0.0</td>\n",
       "      <td>0.0</td>\n",
       "      <td>0</td>\n",
       "      <td>0</td>\n",
       "      <td>0</td>\n",
       "      <td>Capital Federal</td>\n",
       "      <td>Liniers</td>\n",
       "      <td></td>\n",
       "    </tr>\n",
       "    <tr>\n",
       "      <th>4</th>\n",
       "      <td>apartment</td>\n",
       "      <td>Centro</td>\n",
       "      <td>Buenos Aires Costa Atlántica|Mar del Plata|Cen...</td>\n",
       "      <td>Buenos Aires Costa Atlántica</td>\n",
       "      <td>-38.0026256,-57.5494468</td>\n",
       "      <td>64000.0</td>\n",
       "      <td>USD</td>\n",
       "      <td>1129248.0</td>\n",
       "      <td>64000.0</td>\n",
       "      <td>35.0</td>\n",
       "      <td>...</td>\n",
       "      <td>35.0</td>\n",
       "      <td>35.0</td>\n",
       "      <td>35.0</td>\n",
       "      <td>35.0</td>\n",
       "      <td>0</td>\n",
       "      <td>0</td>\n",
       "      <td>0</td>\n",
       "      <td>Buenos Aires Costa Atlántica</td>\n",
       "      <td>Mar del Plata</td>\n",
       "      <td>Centro|</td>\n",
       "    </tr>\n",
       "  </tbody>\n",
       "</table>\n",
       "<p>5 rows × 26 columns</p>\n",
       "</div>"
      ],
      "text/plain": [
       "  property_type place_name                            place_with_parent_names  \\\n",
       "0            PH  Mataderos                         Capital Federal|Mataderos|   \n",
       "1     apartment   La Plata                   Bs.As. G.B.A. Zona Sur|La Plata|   \n",
       "2     apartment  Mataderos                         Capital Federal|Mataderos|   \n",
       "3            PH    Liniers                           Capital Federal|Liniers|   \n",
       "4     apartment     Centro  Buenos Aires Costa Atlántica|Mar del Plata|Cen...   \n",
       "\n",
       "                     state_name                  lat-lon     price currency  \\\n",
       "0               Capital Federal  -34.6618237,-58.5088387   62000.0      USD   \n",
       "1        Bs.As. G.B.A. Zona Sur  -34.9038831,-57.9643295  150000.0      USD   \n",
       "2               Capital Federal  -34.6522615,-58.5229825   72000.0      USD   \n",
       "3               Capital Federal  -34.6477969,-58.5164244   95000.0      USD   \n",
       "4  Buenos Aires Costa Atlántica  -38.0026256,-57.5494468   64000.0      USD   \n",
       "\n",
       "   price_aprox_local_currency  price_aprox_usd  surface_total_in_m2  ...  \\\n",
       "0                   1093959.0          62000.0                 55.0  ...   \n",
       "1                   2646675.0         150000.0                  NaN  ...   \n",
       "2                   1270404.0          72000.0                 55.0  ...   \n",
       "3                   1676227.5          95000.0                  NaN  ...   \n",
       "4                   1129248.0          64000.0                 35.0  ...   \n",
       "\n",
       "   total_en_zeros  covered_en_zeros  covered_imputados  total_imputados  \\\n",
       "0            55.0              40.0               40.0             55.0   \n",
       "1             0.0               0.0                0.0              0.0   \n",
       "2            55.0              55.0               55.0             55.0   \n",
       "3             0.0               0.0                0.0              0.0   \n",
       "4            35.0              35.0               35.0             35.0   \n",
       "\n",
       "  refaccionado pileta  amenities                     Provincia      Localidad  \\\n",
       "0            1      0          0               Capital Federal      Mataderos   \n",
       "1            0      0          0        Bs.As. G.B.A. Zona Sur       La Plata   \n",
       "2            0      0          0               Capital Federal      Mataderos   \n",
       "3            0      0          0               Capital Federal        Liniers   \n",
       "4            0      0          0  Buenos Aires Costa Atlántica  Mar del Plata   \n",
       "\n",
       "   Info_extra  \n",
       "0              \n",
       "1              \n",
       "2              \n",
       "3              \n",
       "4     Centro|  \n",
       "\n",
       "[5 rows x 26 columns]"
      ]
     },
     "execution_count": 166,
     "metadata": {},
     "output_type": "execute_result"
    }
   ],
   "source": [
    "data3.head(5)"
   ]
  },
  {
   "cell_type": "code",
   "execution_count": 167,
   "id": "cheap-arrest",
   "metadata": {},
   "outputs": [
    {
     "data": {
      "text/plain": [
       "(115960, 6)"
      ]
     },
     "execution_count": 167,
     "metadata": {},
     "output_type": "execute_result"
    }
   ],
   "source": [
    "#Creamos un nuevo DF con las 3 columnas del df original y con las columnas spliteadas para comparar la info de todas las columnas.\n",
    "\n",
    "chequeo_data_frame = data3.loc[:,[\"state_name\", \"place_name\", \"place_with_parent_names\", \"Provincia\", \"Localidad\", \"Info_extra\"]]\n",
    "chequeo_data_frame.shape"
   ]
  },
  {
   "cell_type": "code",
   "execution_count": 168,
   "id": "sonic-scroll",
   "metadata": {},
   "outputs": [
    {
     "data": {
      "text/html": [
       "<div>\n",
       "<style scoped>\n",
       "    .dataframe tbody tr th:only-of-type {\n",
       "        vertical-align: middle;\n",
       "    }\n",
       "\n",
       "    .dataframe tbody tr th {\n",
       "        vertical-align: top;\n",
       "    }\n",
       "\n",
       "    .dataframe thead th {\n",
       "        text-align: right;\n",
       "    }\n",
       "</style>\n",
       "<table border=\"1\" class=\"dataframe\">\n",
       "  <thead>\n",
       "    <tr style=\"text-align: right;\">\n",
       "      <th></th>\n",
       "      <th>state_name</th>\n",
       "      <th>place_name</th>\n",
       "      <th>place_with_parent_names</th>\n",
       "      <th>Provincia</th>\n",
       "      <th>Localidad</th>\n",
       "      <th>Info_extra</th>\n",
       "    </tr>\n",
       "  </thead>\n",
       "  <tbody>\n",
       "    <tr>\n",
       "      <th>108</th>\n",
       "      <td>Capital Federal</td>\n",
       "      <td>Capital Federal</td>\n",
       "      <td>Capital Federal|</td>\n",
       "      <td>Capital Federal</td>\n",
       "      <td></td>\n",
       "      <td>None</td>\n",
       "    </tr>\n",
       "    <tr>\n",
       "      <th>110</th>\n",
       "      <td>Capital Federal</td>\n",
       "      <td>Capital Federal</td>\n",
       "      <td>Capital Federal|</td>\n",
       "      <td>Capital Federal</td>\n",
       "      <td></td>\n",
       "      <td>None</td>\n",
       "    </tr>\n",
       "    <tr>\n",
       "      <th>115</th>\n",
       "      <td>Capital Federal</td>\n",
       "      <td>Capital Federal</td>\n",
       "      <td>Capital Federal|</td>\n",
       "      <td>Capital Federal</td>\n",
       "      <td></td>\n",
       "      <td>None</td>\n",
       "    </tr>\n",
       "    <tr>\n",
       "      <th>119</th>\n",
       "      <td>Capital Federal</td>\n",
       "      <td>Capital Federal</td>\n",
       "      <td>Capital Federal|</td>\n",
       "      <td>Capital Federal</td>\n",
       "      <td></td>\n",
       "      <td>None</td>\n",
       "    </tr>\n",
       "    <tr>\n",
       "      <th>121</th>\n",
       "      <td>Capital Federal</td>\n",
       "      <td>Capital Federal</td>\n",
       "      <td>Capital Federal|</td>\n",
       "      <td>Capital Federal</td>\n",
       "      <td></td>\n",
       "      <td>None</td>\n",
       "    </tr>\n",
       "    <tr>\n",
       "      <th>...</th>\n",
       "      <td>...</td>\n",
       "      <td>...</td>\n",
       "      <td>...</td>\n",
       "      <td>...</td>\n",
       "      <td>...</td>\n",
       "      <td>...</td>\n",
       "    </tr>\n",
       "    <tr>\n",
       "      <th>121200</th>\n",
       "      <td>Córdoba</td>\n",
       "      <td>Córdoba</td>\n",
       "      <td>Córdoba|</td>\n",
       "      <td>Córdoba</td>\n",
       "      <td></td>\n",
       "      <td>None</td>\n",
       "    </tr>\n",
       "    <tr>\n",
       "      <th>121202</th>\n",
       "      <td>Córdoba</td>\n",
       "      <td>Córdoba</td>\n",
       "      <td>Córdoba|</td>\n",
       "      <td>Córdoba</td>\n",
       "      <td></td>\n",
       "      <td>None</td>\n",
       "    </tr>\n",
       "    <tr>\n",
       "      <th>121203</th>\n",
       "      <td>Córdoba</td>\n",
       "      <td>Córdoba</td>\n",
       "      <td>Córdoba|</td>\n",
       "      <td>Córdoba</td>\n",
       "      <td></td>\n",
       "      <td>None</td>\n",
       "    </tr>\n",
       "    <tr>\n",
       "      <th>121205</th>\n",
       "      <td>Córdoba</td>\n",
       "      <td>Córdoba</td>\n",
       "      <td>Córdoba|</td>\n",
       "      <td>Córdoba</td>\n",
       "      <td></td>\n",
       "      <td>None</td>\n",
       "    </tr>\n",
       "    <tr>\n",
       "      <th>121219</th>\n",
       "      <td>Capital Federal</td>\n",
       "      <td>Capital Federal</td>\n",
       "      <td>Capital Federal|</td>\n",
       "      <td>Capital Federal</td>\n",
       "      <td></td>\n",
       "      <td>None</td>\n",
       "    </tr>\n",
       "  </tbody>\n",
       "</table>\n",
       "<p>4402 rows × 6 columns</p>\n",
       "</div>"
      ],
      "text/plain": [
       "             state_name       place_name place_with_parent_names  \\\n",
       "108     Capital Federal  Capital Federal        Capital Federal|   \n",
       "110     Capital Federal  Capital Federal        Capital Federal|   \n",
       "115     Capital Federal  Capital Federal        Capital Federal|   \n",
       "119     Capital Federal  Capital Federal        Capital Federal|   \n",
       "121     Capital Federal  Capital Federal        Capital Federal|   \n",
       "...                 ...              ...                     ...   \n",
       "121200          Córdoba          Córdoba                Córdoba|   \n",
       "121202          Córdoba          Córdoba                Córdoba|   \n",
       "121203          Córdoba          Córdoba                Córdoba|   \n",
       "121205          Córdoba          Córdoba                Córdoba|   \n",
       "121219  Capital Federal  Capital Federal        Capital Federal|   \n",
       "\n",
       "              Provincia Localidad Info_extra  \n",
       "108     Capital Federal                 None  \n",
       "110     Capital Federal                 None  \n",
       "115     Capital Federal                 None  \n",
       "119     Capital Federal                 None  \n",
       "121     Capital Federal                 None  \n",
       "...                 ...       ...        ...  \n",
       "121200          Córdoba                 None  \n",
       "121202          Córdoba                 None  \n",
       "121203          Córdoba                 None  \n",
       "121205          Córdoba                 None  \n",
       "121219  Capital Federal                 None  \n",
       "\n",
       "[4402 rows x 6 columns]"
      ]
     },
     "execution_count": 168,
     "metadata": {},
     "output_type": "execute_result"
    }
   ],
   "source": [
    "#Creamos una mascara para aquellas propiedades sin Localidad(columna Localidad en blanco) para ver si podemos completar la localidad con la info de las otras columnas.\n",
    "\n",
    "mask_propiedades_sin_localidad = data3[\"Localidad\"] == \"\"\n",
    "\n",
    "#Para corroborar, creamos un DF con aquellas propiedades sin localidad y comparamos las columnas. \n",
    "prop_sin_localidad = chequeo_data_frame.loc[mask_propiedades_sin_localidad,:]\n",
    "prop_sin_localidad"
   ]
  },
  {
   "cell_type": "code",
   "execution_count": 169,
   "id": "interesting-money",
   "metadata": {},
   "outputs": [
    {
     "name": "stdout",
     "output_type": "stream",
     "text": [
      "True\n",
      "True\n"
     ]
    }
   ],
   "source": [
    "#Con estas igualdades chequeamos que las columnas tienen la misma info y que no podemos obtener info adicional para completar la localidad de ciertas propiedas.\n",
    "\n",
    "#son un total de 4402 propiedades sin localidad.\n",
    "\n",
    "print((prop_sin_localidad[\"place_name\"] == prop_sin_localidad[\"Provincia\"]).all())\n",
    "print((prop_sin_localidad[\"state_name\"] == prop_sin_localidad[\"Provincia\"]).all())"
   ]
  },
  {
   "cell_type": "code",
   "execution_count": 170,
   "id": "charitable-vertical",
   "metadata": {},
   "outputs": [
    {
     "name": "stdout",
     "output_type": "stream",
     "text": [
      "False\n",
      "False    108539\n",
      "True       7421\n",
      "dtype: int64\n"
     ]
    },
    {
     "data": {
      "text/html": [
       "<div>\n",
       "<style scoped>\n",
       "    .dataframe tbody tr th:only-of-type {\n",
       "        vertical-align: middle;\n",
       "    }\n",
       "\n",
       "    .dataframe tbody tr th {\n",
       "        vertical-align: top;\n",
       "    }\n",
       "\n",
       "    .dataframe thead th {\n",
       "        text-align: right;\n",
       "    }\n",
       "</style>\n",
       "<table border=\"1\" class=\"dataframe\">\n",
       "  <thead>\n",
       "    <tr style=\"text-align: right;\">\n",
       "      <th></th>\n",
       "      <th>state_name</th>\n",
       "      <th>place_name</th>\n",
       "      <th>place_with_parent_names</th>\n",
       "      <th>Provincia</th>\n",
       "      <th>Localidad</th>\n",
       "      <th>Info_extra</th>\n",
       "    </tr>\n",
       "  </thead>\n",
       "  <tbody>\n",
       "    <tr>\n",
       "      <th>10</th>\n",
       "      <td>Córdoba</td>\n",
       "      <td>Córdoba</td>\n",
       "      <td>Córdoba|Córdoba|</td>\n",
       "      <td>Córdoba</td>\n",
       "      <td>Córdoba</td>\n",
       "      <td></td>\n",
       "    </tr>\n",
       "    <tr>\n",
       "      <th>32</th>\n",
       "      <td>Córdoba</td>\n",
       "      <td>Córdoba</td>\n",
       "      <td>Córdoba|Córdoba|</td>\n",
       "      <td>Córdoba</td>\n",
       "      <td>Córdoba</td>\n",
       "      <td></td>\n",
       "    </tr>\n",
       "    <tr>\n",
       "      <th>87</th>\n",
       "      <td>Córdoba</td>\n",
       "      <td>Córdoba</td>\n",
       "      <td>Córdoba|Córdoba|</td>\n",
       "      <td>Córdoba</td>\n",
       "      <td>Córdoba</td>\n",
       "      <td></td>\n",
       "    </tr>\n",
       "    <tr>\n",
       "      <th>88</th>\n",
       "      <td>Córdoba</td>\n",
       "      <td>Córdoba</td>\n",
       "      <td>Córdoba|Córdoba|</td>\n",
       "      <td>Córdoba</td>\n",
       "      <td>Córdoba</td>\n",
       "      <td></td>\n",
       "    </tr>\n",
       "    <tr>\n",
       "      <th>89</th>\n",
       "      <td>Córdoba</td>\n",
       "      <td>Córdoba</td>\n",
       "      <td>Córdoba|Córdoba|</td>\n",
       "      <td>Córdoba</td>\n",
       "      <td>Córdoba</td>\n",
       "      <td></td>\n",
       "    </tr>\n",
       "    <tr>\n",
       "      <th>...</th>\n",
       "      <td>...</td>\n",
       "      <td>...</td>\n",
       "      <td>...</td>\n",
       "      <td>...</td>\n",
       "      <td>...</td>\n",
       "      <td>...</td>\n",
       "    </tr>\n",
       "    <tr>\n",
       "      <th>120690</th>\n",
       "      <td>Córdoba</td>\n",
       "      <td>Córdoba</td>\n",
       "      <td>Córdoba|Córdoba|</td>\n",
       "      <td>Córdoba</td>\n",
       "      <td>Córdoba</td>\n",
       "      <td></td>\n",
       "    </tr>\n",
       "    <tr>\n",
       "      <th>120966</th>\n",
       "      <td>Córdoba</td>\n",
       "      <td>Córdoba</td>\n",
       "      <td>Córdoba|Córdoba|</td>\n",
       "      <td>Córdoba</td>\n",
       "      <td>Córdoba</td>\n",
       "      <td></td>\n",
       "    </tr>\n",
       "    <tr>\n",
       "      <th>120971</th>\n",
       "      <td>Córdoba</td>\n",
       "      <td>Córdoba</td>\n",
       "      <td>Córdoba|Córdoba|</td>\n",
       "      <td>Córdoba</td>\n",
       "      <td>Córdoba</td>\n",
       "      <td></td>\n",
       "    </tr>\n",
       "    <tr>\n",
       "      <th>120979</th>\n",
       "      <td>Córdoba</td>\n",
       "      <td>Córdoba</td>\n",
       "      <td>Córdoba|Córdoba|</td>\n",
       "      <td>Córdoba</td>\n",
       "      <td>Córdoba</td>\n",
       "      <td></td>\n",
       "    </tr>\n",
       "    <tr>\n",
       "      <th>121068</th>\n",
       "      <td>Mendoza</td>\n",
       "      <td>Mendoza</td>\n",
       "      <td>Mendoza|Mendoza|</td>\n",
       "      <td>Mendoza</td>\n",
       "      <td>Mendoza</td>\n",
       "      <td></td>\n",
       "    </tr>\n",
       "  </tbody>\n",
       "</table>\n",
       "<p>7421 rows × 6 columns</p>\n",
       "</div>"
      ],
      "text/plain": [
       "       state_name place_name place_with_parent_names Provincia Localidad  \\\n",
       "10        Córdoba    Córdoba        Córdoba|Córdoba|   Córdoba   Córdoba   \n",
       "32        Córdoba    Córdoba        Córdoba|Córdoba|   Córdoba   Córdoba   \n",
       "87        Córdoba    Córdoba        Córdoba|Córdoba|   Córdoba   Córdoba   \n",
       "88        Córdoba    Córdoba        Córdoba|Córdoba|   Córdoba   Córdoba   \n",
       "89        Córdoba    Córdoba        Córdoba|Córdoba|   Córdoba   Córdoba   \n",
       "...           ...        ...                     ...       ...       ...   \n",
       "120690    Córdoba    Córdoba        Córdoba|Córdoba|   Córdoba   Córdoba   \n",
       "120966    Córdoba    Córdoba        Córdoba|Córdoba|   Córdoba   Córdoba   \n",
       "120971    Córdoba    Córdoba        Córdoba|Córdoba|   Córdoba   Córdoba   \n",
       "120979    Córdoba    Córdoba        Córdoba|Córdoba|   Córdoba   Córdoba   \n",
       "121068    Mendoza    Mendoza        Mendoza|Mendoza|   Mendoza   Mendoza   \n",
       "\n",
       "       Info_extra  \n",
       "10                 \n",
       "32                 \n",
       "87                 \n",
       "88                 \n",
       "89                 \n",
       "...           ...  \n",
       "120690             \n",
       "120966             \n",
       "120971             \n",
       "120979             \n",
       "121068             \n",
       "\n",
       "[7421 rows x 6 columns]"
      ]
     },
     "execution_count": 170,
     "metadata": {},
     "output_type": "execute_result"
    }
   ],
   "source": [
    "#chequeamos si hay propiedades que al haber spliteado \"place_with_parent_names\" hayan quedado con misma Provincia y Localidad.\n",
    "\n",
    "print((data3[\"Provincia\"] != data3[\"Localidad\"]).all())\n",
    "\n",
    "mask_misma_prov_y_localidad = data3[\"Provincia\"] == data3[\"Localidad\"]\n",
    "\n",
    "print(mask_misma_prov_y_localidad.value_counts())\n",
    "\n",
    "data3.loc[mask_misma_prov_y_localidad, [\"state_name\", \"place_name\", \"place_with_parent_names\", \"Provincia\", \"Localidad\", \"Info_extra\"]]\n",
    "\n",
    "\n",
    "#hay 7421 otras propiedades que tienen misma Provincia y Localidad, es decir que no cuentan con Localidad. \n",
    "#Total de 12633 propiedades que no cuentan con Localidad especifica, unicamente provincia."
   ]
  },
  {
   "cell_type": "markdown",
   "id": "recognized-bobby",
   "metadata": {},
   "source": [
    "- ### obtuvimos 4.402 propiedades con la columna \"localidad\" vacia, y 7.421 que tienen en la columna \"localidad\" la provincia"
   ]
  },
  {
   "cell_type": "code",
   "execution_count": 171,
   "id": "incorporated-webcam",
   "metadata": {},
   "outputs": [
    {
     "data": {
      "text/plain": [
       "(108539, 27)"
      ]
     },
     "execution_count": 171,
     "metadata": {},
     "output_type": "execute_result"
    }
   ],
   "source": [
    "#vamos a eliminar esos datos porque creemos fundamental para el analisis tener la localidad del la propiedad. empezamos por los 7.421 que tienen la povincia en la localidad\n",
    "\n",
    "data3[\"surface_para_eliminar_prov\"] = mask_misma_prov_y_localidad\n",
    "\n",
    "data4 = data3.drop(data3[data3['surface_para_eliminar_prov']==True].index)\n",
    "\n",
    "data4.shape"
   ]
  },
  {
   "cell_type": "markdown",
   "id": "rough-chicken",
   "metadata": {},
   "source": [
    "- #### vamos a borrar esas propiedades que no tienen localidad o la localidad es igual a la provincia"
   ]
  },
  {
   "cell_type": "code",
   "execution_count": 172,
   "id": "palestinian-stephen",
   "metadata": {},
   "outputs": [
    {
     "data": {
      "text/plain": [
       "(104137, 28)"
      ]
     },
     "execution_count": 172,
     "metadata": {},
     "output_type": "execute_result"
    }
   ],
   "source": [
    "#ahora vamos a borrar los q estan vacios en localidad\n",
    "\n",
    "data4[\"surface_para_eliminar_vacios\"] = mask_propiedades_sin_localidad\n",
    "\n",
    "data5 = data4.drop(data4[data4['surface_para_eliminar_vacios']==True].index)\n",
    "\n",
    "data5.shape"
   ]
  },
  {
   "cell_type": "code",
   "execution_count": 173,
   "id": "unusual-savannah",
   "metadata": {},
   "outputs": [
    {
     "name": "stdout",
     "output_type": "stream",
     "text": [
      "(0, 28)\n",
      "False    104137\n",
      "dtype: int64\n"
     ]
    }
   ],
   "source": [
    "# chequeamos que la columna \"Localida\" no tenga data vacia\n",
    "\n",
    "mask_check_sin_localidad = data5[\"Localidad\"] == \"\"\n",
    "prop_mask_check_sin_localidad = data5.loc[mask_propiedades_sin_localidad,:]\n",
    "print(prop_mask_check_sin_localidad.shape)\n",
    "\n",
    "# chequeamos que la columna \"Localida\" no tenga igualdad con \"Provincia\"\n",
    "\n",
    "mask_check_prov_y_localidad = data5[\"Provincia\"] == data5[\"Localidad\"]\n",
    "print(mask_check_prov_y_localidad.value_counts())"
   ]
  },
  {
   "cell_type": "code",
   "execution_count": 174,
   "id": "clinical-swaziland",
   "metadata": {},
   "outputs": [
    {
     "name": "stdout",
     "output_type": "stream",
     "text": [
      "property_type                       0\n",
      "place_name                         23\n",
      "place_with_parent_names             0\n",
      "state_name                          0\n",
      "lat-lon                         41420\n",
      "price                           14500\n",
      "currency                        14500\n",
      "price_aprox_local_currency      14500\n",
      "price_aprox_usd                 14500\n",
      "surface_total_in_m2             32197\n",
      "surface_covered_in_m2           15235\n",
      "price_usd_per_m2                41679\n",
      "price_per_m2                    25076\n",
      "rooms                           61792\n",
      "description                         2\n",
      "title                               0\n",
      "total_en_zeros                      0\n",
      "covered_en_zeros                    0\n",
      "covered_imputados                   0\n",
      "total_imputados                     0\n",
      "refaccionado                        0\n",
      "pileta                              0\n",
      "amenities                           0\n",
      "Provincia                           0\n",
      "Localidad                           0\n",
      "Info_extra                          0\n",
      "surface_para_eliminar_prov          0\n",
      "surface_para_eliminar_vacios        0\n",
      "dtype: int64\n"
     ]
    }
   ],
   "source": [
    "# chequeamos que localidad o provincian tengan nulos\n",
    "\n",
    "print(data5.isnull().sum())"
   ]
  },
  {
   "cell_type": "code",
   "execution_count": 199,
   "id": "alone-movement",
   "metadata": {},
   "outputs": [],
   "source": [
    "#nos quedaron varias columnas que creamos para limpar el dataset y ahora las vamos a borrar\n",
    "\n",
    "data6 = data5.drop([\"surface_para_eliminar_prov\",\"surface_para_eliminar_vacios\", \"total_en_zeros\", \"covered_en_zeros\"], axis = 1)"
   ]
  },
  {
   "cell_type": "code",
   "execution_count": 200,
   "id": "central-review",
   "metadata": {},
   "outputs": [
    {
     "data": {
      "text/html": [
       "<div>\n",
       "<style scoped>\n",
       "    .dataframe tbody tr th:only-of-type {\n",
       "        vertical-align: middle;\n",
       "    }\n",
       "\n",
       "    .dataframe tbody tr th {\n",
       "        vertical-align: top;\n",
       "    }\n",
       "\n",
       "    .dataframe thead th {\n",
       "        text-align: right;\n",
       "    }\n",
       "</style>\n",
       "<table border=\"1\" class=\"dataframe\">\n",
       "  <thead>\n",
       "    <tr style=\"text-align: right;\">\n",
       "      <th></th>\n",
       "      <th>property_type</th>\n",
       "      <th>place_name</th>\n",
       "      <th>place_with_parent_names</th>\n",
       "      <th>state_name</th>\n",
       "      <th>lat-lon</th>\n",
       "      <th>price</th>\n",
       "      <th>currency</th>\n",
       "      <th>price_aprox_local_currency</th>\n",
       "      <th>price_aprox_usd</th>\n",
       "      <th>surface_total_in_m2</th>\n",
       "      <th>...</th>\n",
       "      <th>description</th>\n",
       "      <th>title</th>\n",
       "      <th>covered_imputados</th>\n",
       "      <th>total_imputados</th>\n",
       "      <th>refaccionado</th>\n",
       "      <th>pileta</th>\n",
       "      <th>amenities</th>\n",
       "      <th>Provincia</th>\n",
       "      <th>Localidad</th>\n",
       "      <th>Info_extra</th>\n",
       "    </tr>\n",
       "  </thead>\n",
       "  <tbody>\n",
       "    <tr>\n",
       "      <th>0</th>\n",
       "      <td>PH</td>\n",
       "      <td>Mataderos</td>\n",
       "      <td>Capital Federal|Mataderos|</td>\n",
       "      <td>Capital Federal</td>\n",
       "      <td>-34.6618237,-58.5088387</td>\n",
       "      <td>62000.0</td>\n",
       "      <td>USD</td>\n",
       "      <td>1093959.0</td>\n",
       "      <td>62000.0</td>\n",
       "      <td>55.0</td>\n",
       "      <td>...</td>\n",
       "      <td>2 AMBIENTES TIPO CASA PLANTA BAJA POR PASILLO,...</td>\n",
       "      <td>2 AMB TIPO CASA SIN EXPENSAS EN PB</td>\n",
       "      <td>40.0</td>\n",
       "      <td>55.0</td>\n",
       "      <td>1</td>\n",
       "      <td>0</td>\n",
       "      <td>0</td>\n",
       "      <td>Capital Federal</td>\n",
       "      <td>Mataderos</td>\n",
       "      <td></td>\n",
       "    </tr>\n",
       "    <tr>\n",
       "      <th>1</th>\n",
       "      <td>apartment</td>\n",
       "      <td>La Plata</td>\n",
       "      <td>Bs.As. G.B.A. Zona Sur|La Plata|</td>\n",
       "      <td>Bs.As. G.B.A. Zona Sur</td>\n",
       "      <td>-34.9038831,-57.9643295</td>\n",
       "      <td>150000.0</td>\n",
       "      <td>USD</td>\n",
       "      <td>2646675.0</td>\n",
       "      <td>150000.0</td>\n",
       "      <td>NaN</td>\n",
       "      <td>...</td>\n",
       "      <td>Venta de departamento en décimo piso al frente...</td>\n",
       "      <td>VENTA Depto 2 dorm. a estrenar 7 e/ 36 y 37   ...</td>\n",
       "      <td>0.0</td>\n",
       "      <td>0.0</td>\n",
       "      <td>0</td>\n",
       "      <td>0</td>\n",
       "      <td>0</td>\n",
       "      <td>Bs.As. G.B.A. Zona Sur</td>\n",
       "      <td>La Plata</td>\n",
       "      <td></td>\n",
       "    </tr>\n",
       "    <tr>\n",
       "      <th>2</th>\n",
       "      <td>apartment</td>\n",
       "      <td>Mataderos</td>\n",
       "      <td>Capital Federal|Mataderos|</td>\n",
       "      <td>Capital Federal</td>\n",
       "      <td>-34.6522615,-58.5229825</td>\n",
       "      <td>72000.0</td>\n",
       "      <td>USD</td>\n",
       "      <td>1270404.0</td>\n",
       "      <td>72000.0</td>\n",
       "      <td>55.0</td>\n",
       "      <td>...</td>\n",
       "      <td>2 AMBIENTES 3ER PISO LATERAL LIVING COMEDOR AM...</td>\n",
       "      <td>2 AMB 3ER PISO CON ASCENSOR APTO CREDITO</td>\n",
       "      <td>55.0</td>\n",
       "      <td>55.0</td>\n",
       "      <td>0</td>\n",
       "      <td>0</td>\n",
       "      <td>0</td>\n",
       "      <td>Capital Federal</td>\n",
       "      <td>Mataderos</td>\n",
       "      <td></td>\n",
       "    </tr>\n",
       "    <tr>\n",
       "      <th>3</th>\n",
       "      <td>PH</td>\n",
       "      <td>Liniers</td>\n",
       "      <td>Capital Federal|Liniers|</td>\n",
       "      <td>Capital Federal</td>\n",
       "      <td>-34.6477969,-58.5164244</td>\n",
       "      <td>95000.0</td>\n",
       "      <td>USD</td>\n",
       "      <td>1676227.5</td>\n",
       "      <td>95000.0</td>\n",
       "      <td>NaN</td>\n",
       "      <td>...</td>\n",
       "      <td>PH 3 ambientes con patio. Hay 3 deptos en lote...</td>\n",
       "      <td>PH 3 amb. cfte. reciclado</td>\n",
       "      <td>0.0</td>\n",
       "      <td>0.0</td>\n",
       "      <td>0</td>\n",
       "      <td>0</td>\n",
       "      <td>0</td>\n",
       "      <td>Capital Federal</td>\n",
       "      <td>Liniers</td>\n",
       "      <td></td>\n",
       "    </tr>\n",
       "    <tr>\n",
       "      <th>4</th>\n",
       "      <td>apartment</td>\n",
       "      <td>Centro</td>\n",
       "      <td>Buenos Aires Costa Atlántica|Mar del Plata|Cen...</td>\n",
       "      <td>Buenos Aires Costa Atlántica</td>\n",
       "      <td>-38.0026256,-57.5494468</td>\n",
       "      <td>64000.0</td>\n",
       "      <td>USD</td>\n",
       "      <td>1129248.0</td>\n",
       "      <td>64000.0</td>\n",
       "      <td>35.0</td>\n",
       "      <td>...</td>\n",
       "      <td>DEPARTAMENTO CON FANTÁSTICA ILUMINACIÓN NATURA...</td>\n",
       "      <td>DEPTO 2 AMB AL CONTRAFRENTE ZONA CENTRO/PLAZA ...</td>\n",
       "      <td>35.0</td>\n",
       "      <td>35.0</td>\n",
       "      <td>0</td>\n",
       "      <td>0</td>\n",
       "      <td>0</td>\n",
       "      <td>Buenos Aires Costa Atlántica</td>\n",
       "      <td>Mar del Plata</td>\n",
       "      <td>Centro|</td>\n",
       "    </tr>\n",
       "  </tbody>\n",
       "</table>\n",
       "<p>5 rows × 24 columns</p>\n",
       "</div>"
      ],
      "text/plain": [
       "  property_type place_name                            place_with_parent_names  \\\n",
       "0            PH  Mataderos                         Capital Federal|Mataderos|   \n",
       "1     apartment   La Plata                   Bs.As. G.B.A. Zona Sur|La Plata|   \n",
       "2     apartment  Mataderos                         Capital Federal|Mataderos|   \n",
       "3            PH    Liniers                           Capital Federal|Liniers|   \n",
       "4     apartment     Centro  Buenos Aires Costa Atlántica|Mar del Plata|Cen...   \n",
       "\n",
       "                     state_name                  lat-lon     price currency  \\\n",
       "0               Capital Federal  -34.6618237,-58.5088387   62000.0      USD   \n",
       "1        Bs.As. G.B.A. Zona Sur  -34.9038831,-57.9643295  150000.0      USD   \n",
       "2               Capital Federal  -34.6522615,-58.5229825   72000.0      USD   \n",
       "3               Capital Federal  -34.6477969,-58.5164244   95000.0      USD   \n",
       "4  Buenos Aires Costa Atlántica  -38.0026256,-57.5494468   64000.0      USD   \n",
       "\n",
       "   price_aprox_local_currency  price_aprox_usd  surface_total_in_m2  ...  \\\n",
       "0                   1093959.0          62000.0                 55.0  ...   \n",
       "1                   2646675.0         150000.0                  NaN  ...   \n",
       "2                   1270404.0          72000.0                 55.0  ...   \n",
       "3                   1676227.5          95000.0                  NaN  ...   \n",
       "4                   1129248.0          64000.0                 35.0  ...   \n",
       "\n",
       "                                         description  \\\n",
       "0  2 AMBIENTES TIPO CASA PLANTA BAJA POR PASILLO,...   \n",
       "1  Venta de departamento en décimo piso al frente...   \n",
       "2  2 AMBIENTES 3ER PISO LATERAL LIVING COMEDOR AM...   \n",
       "3  PH 3 ambientes con patio. Hay 3 deptos en lote...   \n",
       "4  DEPARTAMENTO CON FANTÁSTICA ILUMINACIÓN NATURA...   \n",
       "\n",
       "                                               title  covered_imputados  \\\n",
       "0                 2 AMB TIPO CASA SIN EXPENSAS EN PB               40.0   \n",
       "1  VENTA Depto 2 dorm. a estrenar 7 e/ 36 y 37   ...                0.0   \n",
       "2           2 AMB 3ER PISO CON ASCENSOR APTO CREDITO               55.0   \n",
       "3                       PH 3 amb. cfte. reciclado                   0.0   \n",
       "4  DEPTO 2 AMB AL CONTRAFRENTE ZONA CENTRO/PLAZA ...               35.0   \n",
       "\n",
       "   total_imputados refaccionado pileta  amenities  \\\n",
       "0             55.0            1      0          0   \n",
       "1              0.0            0      0          0   \n",
       "2             55.0            0      0          0   \n",
       "3              0.0            0      0          0   \n",
       "4             35.0            0      0          0   \n",
       "\n",
       "                      Provincia      Localidad  Info_extra  \n",
       "0               Capital Federal      Mataderos              \n",
       "1        Bs.As. G.B.A. Zona Sur       La Plata              \n",
       "2               Capital Federal      Mataderos              \n",
       "3               Capital Federal        Liniers              \n",
       "4  Buenos Aires Costa Atlántica  Mar del Plata     Centro|  \n",
       "\n",
       "[5 rows x 24 columns]"
      ]
     },
     "execution_count": 200,
     "metadata": {},
     "output_type": "execute_result"
    }
   ],
   "source": [
    "data6.head()"
   ]
  },
  {
   "cell_type": "code",
   "execution_count": 201,
   "id": "sensitive-engineer",
   "metadata": {},
   "outputs": [
    {
     "name": "stdout",
     "output_type": "stream",
     "text": [
      "property_type                     0\n",
      "place_name                       23\n",
      "place_with_parent_names           0\n",
      "state_name                        0\n",
      "lat-lon                       41420\n",
      "price                         14500\n",
      "currency                      14500\n",
      "price_aprox_local_currency    14500\n",
      "price_aprox_usd               14500\n",
      "surface_total_in_m2           32197\n",
      "surface_covered_in_m2         15235\n",
      "price_usd_per_m2              41679\n",
      "price_per_m2                  25076\n",
      "rooms                         61792\n",
      "description                       2\n",
      "title                             0\n",
      "covered_imputados                 0\n",
      "total_imputados                   0\n",
      "refaccionado                      0\n",
      "pileta                            0\n",
      "amenities                         0\n",
      "Provincia                         0\n",
      "Localidad                         0\n",
      "Info_extra                        0\n",
      "dtype: int64\n"
     ]
    }
   ],
   "source": [
    "# chequeamos las columnas que quedaron\n",
    "print(data6.isnull().sum())"
   ]
  },
  {
   "cell_type": "markdown",
   "id": "inner-brooks",
   "metadata": {},
   "source": [
    "- ### ahora chequeamos si hay vacios en la columna provincia"
   ]
  },
  {
   "cell_type": "code",
   "execution_count": 178,
   "id": "under-escape",
   "metadata": {},
   "outputs": [
    {
     "name": "stdout",
     "output_type": "stream",
     "text": [
      "(0, 24)\n"
     ]
    }
   ],
   "source": [
    "# vemos si hay nulos en la columna \"provincia\" creando una mascara\n",
    "\n",
    "mask_provincia_vacio = data6[\"Provincia\"] == \"\"\n",
    "\n",
    "prop_sin_provincia = data6.loc[mask_provincia_vacio,:]\n",
    "print(prop_sin_provincia.shape)"
   ]
  },
  {
   "cell_type": "code",
   "execution_count": null,
   "id": "muslim-karen",
   "metadata": {},
   "outputs": [],
   "source": [
    "### finamente cosneguimos que todas las propiedades tengan u"
   ]
  },
  {
   "cell_type": "code",
   "execution_count": null,
   "id": "catholic-cornell",
   "metadata": {},
   "outputs": [],
   "source": []
  },
  {
   "cell_type": "code",
   "execution_count": null,
   "id": "similar-edition",
   "metadata": {},
   "outputs": [],
   "source": []
  },
  {
   "cell_type": "code",
   "execution_count": null,
   "id": "bronze-remedy",
   "metadata": {},
   "outputs": [],
   "source": []
  },
  {
   "cell_type": "markdown",
   "id": "incorporate-storm",
   "metadata": {},
   "source": [
    "## 3)  La clave esta en la columna price per m2 en usd, por eso vamos a enfocarnos ahora en tener la mayor cantidad de datos posibles en esa columna"
   ]
  },
  {
   "cell_type": "markdown",
   "id": "numeric-immune",
   "metadata": {},
   "source": [
    "### 3.1) Arrancamos con la parte de Superficie\n",
    "- #### vamos tratar de completar los valores que faltan entre las columnas surface total y surface covered"
   ]
  },
  {
   "cell_type": "code",
   "execution_count": 122,
   "id": "available-background",
   "metadata": {},
   "outputs": [
    {
     "data": {
      "text/plain": [
       "NaN        38369\n",
       "40.0        1626\n",
       "50.0        1600\n",
       "45.0        1332\n",
       "60.0        1329\n",
       "           ...  \n",
       "1598.0         1\n",
       "1626.0         1\n",
       "22355.0        1\n",
       "1249.0         1\n",
       "1038.0         1\n",
       "Name: surface_total_in_m2, Length: 1688, dtype: int64"
      ]
     },
     "execution_count": 122,
     "metadata": {},
     "output_type": "execute_result"
    }
   ],
   "source": [
    "# vemos la cantidad de nulos que tiene la columna total\n",
    "\n",
    "data3.surface_total_in_m2.value_counts(dropna = False)"
   ]
  },
  {
   "cell_type": "code",
   "execution_count": 123,
   "id": "corresponding-encyclopedia",
   "metadata": {},
   "outputs": [
    {
     "data": {
      "text/plain": [
       "NaN        18794\n",
       "40.0        2615\n",
       "50.0        2086\n",
       "45.0        2020\n",
       "60.0        1828\n",
       "           ...  \n",
       "823.0          1\n",
       "1075.0         1\n",
       "2499.0         1\n",
       "11680.0        1\n",
       "499.0          1\n",
       "Name: surface_covered_in_m2, Length: 996, dtype: int64"
      ]
     },
     "execution_count": 123,
     "metadata": {},
     "output_type": "execute_result"
    }
   ],
   "source": [
    "# vemos la cantidad de nulos que tiene la columna covered\n",
    "\n",
    "data3.surface_covered_in_m2.value_counts(dropna = False)"
   ]
  },
  {
   "cell_type": "code",
   "execution_count": 124,
   "id": "middle-hacker",
   "metadata": {},
   "outputs": [
    {
     "name": "stdout",
     "output_type": "stream",
     "text": [
      "False    115577\n",
      "True        383\n",
      "Name: surface_total_in_m2, dtype: int64\n"
     ]
    }
   ],
   "source": [
    "# vemos cuantos valores tenemos en 0 para la columna surface total \n",
    "\n",
    "ceros_total_surface = data3['surface_total_in_m2'] == 0\n",
    "print(ceros_total_surface.value_counts())"
   ]
  },
  {
   "cell_type": "code",
   "execution_count": 125,
   "id": "organizational-walnut",
   "metadata": {},
   "outputs": [
    {
     "name": "stdout",
     "output_type": "stream",
     "text": [
      "False    115958\n",
      "True          2\n",
      "Name: surface_covered_in_m2, dtype: int64\n"
     ]
    }
   ],
   "source": [
    "# vemos cuantos valores tenemos en 0 para la columna surface covered \n",
    "\n",
    "ceros_covered_surface = data3['surface_covered_in_m2'] == 0\n",
    "print(ceros_covered_surface.value_counts())"
   ]
  },
  {
   "cell_type": "code",
   "execution_count": 126,
   "id": "absent-ideal",
   "metadata": {},
   "outputs": [],
   "source": [
    "#cambiamos los valores .NaN por ceros que se suman a la lista de ceros ya existente\n",
    "\n",
    "data3['total_en_zeros'] = data3['surface_total_in_m2'].fillna(0)\n",
    "data3['covered_en_zeros'] = data3['surface_covered_in_m2'].fillna(0)"
   ]
  },
  {
   "cell_type": "code",
   "execution_count": 127,
   "id": "positive-ordinance",
   "metadata": {},
   "outputs": [
    {
     "name": "stdout",
     "output_type": "stream",
     "text": [
      "la cantidad de ceros que tiene la coluna surface_total es  38752\n"
     ]
    }
   ],
   "source": [
    "#vemos la cantidad de 0 que tienen ahora la columna total surface\n",
    "\n",
    "ceros_total_mask = data3['total_en_zeros'] == 0\n",
    "ceros_total_mask.value_counts()\n",
    "\n",
    "ceros_total_print = data3[ceros_total_mask]\n",
    "print('la cantidad de ceros que tiene la coluna surface_total es ',ceros_total_print.shape[0])"
   ]
  },
  {
   "cell_type": "code",
   "execution_count": 128,
   "id": "regional-suicide",
   "metadata": {},
   "outputs": [
    {
     "name": "stdout",
     "output_type": "stream",
     "text": [
      "la cantidad de ceros que tiene la coluna surface_covered es  18796\n"
     ]
    }
   ],
   "source": [
    "#vemos la cantidad de 0 que tienen ahora la columna covered surface\n",
    "\n",
    "ceros_covered_mask = data3['covered_en_zeros'] == 0\n",
    "ceros_covered_mask.value_counts()\n",
    "\n",
    "ceros_covered_print = data3[ceros_covered_mask]\n",
    "print('la cantidad de ceros que tiene la coluna surface_covered es ',ceros_covered_print.shape[0])"
   ]
  },
  {
   "cell_type": "code",
   "execution_count": 129,
   "id": "aggressive-thanksgiving",
   "metadata": {},
   "outputs": [
    {
     "name": "stdout",
     "output_type": "stream",
     "text": [
      "count    115960.000000\n",
      "mean        113.379441\n",
      "std         678.652799\n",
      "min           0.000000\n",
      "25%          35.000000\n",
      "50%          61.000000\n",
      "75%         131.000000\n",
      "max      187000.000000\n",
      "Name: covered_en_zeros, dtype: float64 \n",
      "\n",
      "count    115960.000000\n",
      "mean        157.866368\n",
      "std        1306.742249\n",
      "min           0.000000\n",
      "25%           0.000000\n",
      "50%          50.000000\n",
      "75%         128.000000\n",
      "max      200000.000000\n",
      "Name: total_en_zeros, dtype: float64 \n",
      "\n"
     ]
    }
   ],
   "source": [
    "#vamos a ver una description de cada columna \n",
    "\n",
    "print(data3[\"covered_en_zeros\"].describe(), '\\n')\n",
    "\n",
    "print(data3[\"total_en_zeros\"].describe(), '\\n')\n"
   ]
  },
  {
   "cell_type": "code",
   "execution_count": null,
   "id": "hourly-coating",
   "metadata": {},
   "outputs": [],
   "source": []
  },
  {
   "cell_type": "markdown",
   "id": "vulnerable-creator",
   "metadata": {},
   "source": [
    "- #### vamos a calcular los valores que tienen 0 en las dos columnas"
   ]
  },
  {
   "cell_type": "code",
   "execution_count": 130,
   "id": "precious-designer",
   "metadata": {},
   "outputs": [
    {
     "name": "stdout",
     "output_type": "stream",
     "text": [
      "la cantidad de ceros en ambas columnas es  6523\n"
     ]
    }
   ],
   "source": [
    "mask_covered_ceros = data3[\"covered_en_zeros\"] == 0\n",
    "mask_total_ceros = data3[\"total_en_zeros\"] == 0\n",
    "\n",
    "mask_ambas_columnas_cero = data3[data3.covered_en_zeros.isin(mask_covered_ceros) &~ data3.total_en_zeros.isin(mask_total_ceros)]\n",
    "\n",
    "mask_ambas_columnas_cero.shape\n",
    "\n",
    "print('la cantidad de ceros en ambas columnas es ',mask_ambas_columnas_cero.shape[0])"
   ]
  },
  {
   "cell_type": "markdown",
   "id": "accessible-blade",
   "metadata": {},
   "source": [
    "- #### esto equivale a que % de ceros en cada columna?"
   ]
  },
  {
   "cell_type": "code",
   "execution_count": 131,
   "id": "chicken-scottish",
   "metadata": {},
   "outputs": [
    {
     "data": {
      "text/plain": [
       "0.34704192381357735"
      ]
     },
     "execution_count": 131,
     "metadata": {},
     "output_type": "execute_result"
    }
   ],
   "source": [
    "# para la columna covered es:\n",
    "\n",
    "porcentaje_ambos_ceros_covered = mask_ambas_columnas_cero.shape[0]/ceros_covered_print.shape[0]\n",
    "porcentaje_ambos_ceros_covered"
   ]
  },
  {
   "cell_type": "code",
   "execution_count": 132,
   "id": "manual-legend",
   "metadata": {},
   "outputs": [
    {
     "data": {
      "text/plain": [
       "0.1683267960363336"
      ]
     },
     "execution_count": 132,
     "metadata": {},
     "output_type": "execute_result"
    }
   ],
   "source": [
    "# para la columna total es:\n",
    "\n",
    "porcentaje_ambos_ceros_total = mask_ambas_columnas_cero.shape[0]/ceros_total_print.shape[0]\n",
    "porcentaje_ambos_ceros_total"
   ]
  },
  {
   "cell_type": "markdown",
   "id": "direct-criticism",
   "metadata": {},
   "source": [
    "- #### por lo que vimos, la columna covered esta mucho mas completa que la de total surface. Pero tenemos datos que esten en covered pero no en total? "
   ]
  },
  {
   "cell_type": "code",
   "execution_count": 133,
   "id": "imposed-business",
   "metadata": {},
   "outputs": [
    {
     "data": {
      "text/plain": [
       "0    109533\n",
       "1      6427\n",
       "dtype: int64"
      ]
     },
     "execution_count": 133,
     "metadata": {},
     "output_type": "execute_result"
    }
   ],
   "source": [
    "# vamos a caluclar los valores con un 1 q tienen valor en total pero no tienen valot en covered\n",
    "\n",
    "covered_vs_total = data3.apply(lambda x : 1 if x['total_en_zeros']!= 0 and x['covered_en_zeros'] == 0 else 0, axis=1)\n",
    "covered_vs_total.value_counts()"
   ]
  },
  {
   "cell_type": "markdown",
   "id": "suspended-mouth",
   "metadata": {},
   "source": [
    "##### *lo que estamos diciendo aca es que, de un total de 0s de 18.796 en la columna covered_surface, vamos a tener q imputar valores a 6.427 datos, osea que al final me tienen que quedar 12.369 datos con 0*"
   ]
  },
  {
   "cell_type": "code",
   "execution_count": 134,
   "id": "scheduled-polish",
   "metadata": {},
   "outputs": [
    {
     "data": {
      "text/plain": [
       "0    89577\n",
       "1    26383\n",
       "dtype: int64"
      ]
     },
     "execution_count": 134,
     "metadata": {},
     "output_type": "execute_result"
    }
   ],
   "source": [
    "# vamos a caluclar los valores con un 1 q tienen valor covered pero no tienen valot en total\n",
    "\n",
    "covered_vs_total_1 = data3.apply(lambda x : 1 if x['total_en_zeros']== 0 and x['covered_en_zeros'] != 0 else 0, axis=1)\n",
    "covered_vs_total_1.value_counts()"
   ]
  },
  {
   "cell_type": "markdown",
   "id": "seeing-investment",
   "metadata": {},
   "source": [
    "##### *lo que estamos diciendo aca es que, de un total de 0s de 38.752 en la columna total_surface, vamos a tener q imputar valores a 26.383 datos, osea que al final me tienen que quedar 12.369 datos con 0*"
   ]
  },
  {
   "cell_type": "markdown",
   "id": "charged-independence",
   "metadata": {},
   "source": [
    "- #### ahora vamos a crear un ratio que me diga los m2 totales sobre m2 cubiertos para cada tipo de propiedad. Luego vamos a aplicar ese ratio a los valores que completemos "
   ]
  },
  {
   "cell_type": "code",
   "execution_count": 135,
   "id": "preliminary-crossing",
   "metadata": {},
   "outputs": [
    {
     "data": {
      "text/plain": [
       "apartment    66518\n",
       "house        39753\n",
       "PH            5618\n",
       "store         4071\n",
       "Name: property_type, dtype: int64"
      ]
     },
     "execution_count": 135,
     "metadata": {},
     "output_type": "execute_result"
    }
   ],
   "source": [
    "#vemos los tipos de propiedad y la cantidad q tiene cada una\n",
    "\n",
    "data3.property_type.value_counts(dropna = False)"
   ]
  },
  {
   "cell_type": "code",
   "execution_count": 136,
   "id": "functioning-furniture",
   "metadata": {},
   "outputs": [
    {
     "name": "stdout",
     "output_type": "stream",
     "text": [
      "Ratio Apartment: 1.4350058909436791\n",
      "Ratio House: 3.8210825189774926\n",
      "Ratio PH: 1.4963109876069087\n",
      "Ratio Store: 1.663225836433732\n"
     ]
    }
   ],
   "source": [
    "#Creamos función para hacer el promedio de total vs covered según el tipo de propiedad\n",
    "\n",
    "def average_in(prop):\n",
    "    property_type = data3['property_type'] == prop\n",
    "    average_type = data3[property_type]\n",
    "    average = average_type.apply(lambda x : np.nan if x['total_en_zeros'] == 0 or x['covered_en_zeros'] == 0 else x['total_en_zeros']/x['covered_en_zeros'], axis = 1)\n",
    "    return average.mean()\n",
    "\n",
    "ap = 'apartment'\n",
    "ho = 'house'\n",
    "ph = 'PH'\n",
    "st = 'store'\n",
    "\n",
    "ratio_ap = average_in(ap)\n",
    "ratio_ho = average_in(ho)\n",
    "ratio_ph = average_in(ph)\n",
    "ratio_st = average_in(st)\n",
    "\n",
    "print('Ratio Apartment:', ratio_ap)\n",
    "print('Ratio House:', ratio_ho)\n",
    "print('Ratio PH:', ratio_ph)\n",
    "print('Ratio Store:', ratio_st)"
   ]
  },
  {
   "cell_type": "markdown",
   "id": "positive-ethics",
   "metadata": {},
   "source": [
    "- #### ya tenemos los ratios para cada tipo de propiedad y ahora podemos completar los valores de surface total con esos ratios cuando solo tengamos el valor de surface covered"
   ]
  },
  {
   "cell_type": "code",
   "execution_count": 137,
   "id": "genetic-macintosh",
   "metadata": {},
   "outputs": [
    {
     "data": {
      "text/plain": [
       "0.0000       25475\n",
       "40.0000       1626\n",
       "50.0000       1600\n",
       "45.0000       1332\n",
       "60.0000       1329\n",
       "             ...  \n",
       "2016.0000        1\n",
       "3880.0000        1\n",
       "24.3951          1\n",
       "1081.0000        1\n",
       "1038.0000        1\n",
       "Length: 2041, dtype: int64"
      ]
     },
     "execution_count": 137,
     "metadata": {},
     "output_type": "execute_result"
    }
   ],
   "source": [
    "# imputamos los APARTMENT con surface_total en cero y con dato en covered \n",
    "\n",
    "total_ap = data3.apply(lambda x : (x['covered_en_zeros']*ratio_ap) if x['total_en_zeros']== 0 and x['covered_en_zeros'] != 0 and x['property_type'] == ap else 0, axis=1)\n",
    "apartment_total = total_ap + data3['total_en_zeros']\n",
    "\n",
    "apartment_total.value_counts()\n"
   ]
  },
  {
   "cell_type": "code",
   "execution_count": 138,
   "id": "worthy-diagram",
   "metadata": {},
   "outputs": [
    {
     "data": {
      "text/plain": [
       "0.000000       14719\n",
       "40.000000       2615\n",
       "50.000000       2086\n",
       "45.000000       2020\n",
       "60.000000       1828\n",
       "               ...  \n",
       "171.427868         1\n",
       "1112.000000        1\n",
       "331.705955         1\n",
       "1603.000000        1\n",
       "843.000000         1\n",
       "Length: 1248, dtype: int64"
      ]
     },
     "execution_count": 138,
     "metadata": {},
     "output_type": "execute_result"
    }
   ],
   "source": [
    "# imputamos los APARTMENT con surface_covered en cero y con dato en total \n",
    "\n",
    "\n",
    "covered_ap = data3.apply(lambda x : (x['total_en_zeros']/ratio_ap) if x['covered_en_zeros']==0 and x['total_en_zeros'] != 0 and x['property_type'] == ap else 0, axis=1)\n",
    "apartment_covered = covered_ap + data3['covered_en_zeros']\n",
    "apartment_covered.value_counts()"
   ]
  },
  {
   "cell_type": "code",
   "execution_count": 139,
   "id": "experimental-accountability",
   "metadata": {},
   "outputs": [
    {
     "data": {
      "text/plain": [
       "0.000000       28097\n",
       "40.000000       1626\n",
       "50.000000       1600\n",
       "45.000000       1332\n",
       "60.000000       1329\n",
       "               ...  \n",
       "4780.000000        1\n",
       "1914.362342        1\n",
       "2246.000000        1\n",
       "1770.000000        1\n",
       "1164.000000        1\n",
       "Length: 2291, dtype: int64"
      ]
     },
     "execution_count": 139,
     "metadata": {},
     "output_type": "execute_result"
    }
   ],
   "source": [
    "## imputamos los HOUSES con surface_total en cero y con dato en covered \n",
    "\n",
    "total_ho = data3.apply(lambda x : (x['covered_en_zeros']*ratio_ho) if x['total_en_zeros']==0 and x['covered_en_zeros'] != 0 and x['property_type'] == ho else 0, axis=1)\n",
    "house_total = total_ho + data3['total_en_zeros']\n",
    "house_total.value_counts()"
   ]
  },
  {
   "cell_type": "code",
   "execution_count": 140,
   "id": "native-stage",
   "metadata": {},
   "outputs": [
    {
     "data": {
      "text/plain": [
       "0.000000        17115\n",
       "40.000000        2615\n",
       "50.000000        2086\n",
       "45.000000        2020\n",
       "60.000000        1828\n",
       "                ...  \n",
       "291.540419          1\n",
       "2460.035855         1\n",
       "10958.000000        1\n",
       "1215.000000         1\n",
       "566.331658          1\n",
       "Length: 1464, dtype: int64"
      ]
     },
     "execution_count": 140,
     "metadata": {},
     "output_type": "execute_result"
    }
   ],
   "source": [
    "# imputamos los HOUSES con surface_covered en cero y con dato en tot \n",
    "\n",
    "\n",
    "covered_ho = data3.apply(lambda x : (x['total_en_zeros']/ratio_ho) if x['covered_en_zeros']==0 and x['total_en_zeros'] != 0 and x['property_type'] == ho else 0, axis=1)\n",
    "house_covered = covered_ho + data3['covered_en_zeros']\n",
    "house_covered.value_counts()"
   ]
  },
  {
   "cell_type": "code",
   "execution_count": 141,
   "id": "falling-times",
   "metadata": {},
   "outputs": [
    {
     "data": {
      "text/plain": [
       "0.0       37205\n",
       "40.0       1626\n",
       "50.0       1600\n",
       "45.0       1332\n",
       "60.0       1329\n",
       "          ...  \n",
       "2008.0        1\n",
       "3187.0        1\n",
       "1139.0        1\n",
       "3880.0        1\n",
       "1038.0        1\n",
       "Length: 1874, dtype: int64"
      ]
     },
     "execution_count": 141,
     "metadata": {},
     "output_type": "execute_result"
    }
   ],
   "source": [
    "# imputamos los PH con surface_total en cero y con dato en covered \n",
    "\n",
    "\n",
    "total_ph = data3.apply(lambda x : (x['covered_en_zeros']*ratio_ph) if x['total_en_zeros']==0 and x['covered_en_zeros'] != 0 and x['property_type'] == ph else 0, axis=1)\n",
    "ph_total = total_ph + data3['total_en_zeros']\n",
    "ph_total.value_counts()"
   ]
  },
  {
   "cell_type": "code",
   "execution_count": 142,
   "id": "caroline-premises",
   "metadata": {},
   "outputs": [
    {
     "data": {
      "text/plain": [
       "0.000000       18563\n",
       "40.000000       2615\n",
       "50.000000       2086\n",
       "45.000000       2020\n",
       "60.000000       1828\n",
       "               ...  \n",
       "1130.000000        1\n",
       "1967.000000        1\n",
       "1880.000000        1\n",
       "13.366205          1\n",
       "5350.000000        1\n",
       "Length: 1109, dtype: int64"
      ]
     },
     "execution_count": 142,
     "metadata": {},
     "output_type": "execute_result"
    }
   ],
   "source": [
    "# imputamos los PH con surface_covered en cero y con dato en total \n",
    "\n",
    "\n",
    "covered_ph = data3.apply(lambda x : (x['total_en_zeros']/ratio_ph) if x['covered_en_zeros']==0 and x['total_en_zeros'] != 0 and x['property_type'] == ph else 0, axis=1)\n",
    "ph_covered = covered_ph + data3['covered_en_zeros']\n",
    "ph_covered.value_counts()"
   ]
  },
  {
   "cell_type": "code",
   "execution_count": 143,
   "id": "external-puppy",
   "metadata": {},
   "outputs": [
    {
     "data": {
      "text/plain": [
       "0.000000       37848\n",
       "40.000000       1626\n",
       "50.000000       1600\n",
       "45.000000       1332\n",
       "60.000000       1329\n",
       "               ...  \n",
       "961.000000         1\n",
       "138.047744         1\n",
       "1082.000000        1\n",
       "7176.000000        1\n",
       "355.930329         1\n",
       "Length: 1966, dtype: int64"
      ]
     },
     "execution_count": 143,
     "metadata": {},
     "output_type": "execute_result"
    }
   ],
   "source": [
    "# imputamos los STORES con surface_total en cero y con dato en covered \n",
    "\n",
    "\n",
    "total_st = data3.apply(lambda x : (x['covered_en_zeros']*ratio_st) if x['total_en_zeros']==0 and x['covered_en_zeros'] != 0 and x['property_type'] == st else 0, axis=1)\n",
    "store_total = total_st + data3['total_en_zeros']\n",
    "store_total.value_counts()"
   ]
  },
  {
   "cell_type": "code",
   "execution_count": 144,
   "id": "liquid-struggle",
   "metadata": {},
   "outputs": [
    {
     "data": {
      "text/plain": [
       "(115960,)"
      ]
     },
     "execution_count": 144,
     "metadata": {},
     "output_type": "execute_result"
    }
   ],
   "source": [
    "# imputamos los STORES con surface_covered en cero y con dato en total \n",
    "\n",
    "\n",
    "covered_st = data3.apply(lambda x : (x['total_en_zeros']/ratio_st) if x['covered_en_zeros']==0 and x['total_en_zeros'] != 0 and x['property_type'] == st else 0, axis=1)\n",
    "store_covered = covered_st + data3['covered_en_zeros']\n",
    "store_covered.shape\n"
   ]
  },
  {
   "cell_type": "code",
   "execution_count": 145,
   "id": "absent-engine",
   "metadata": {},
   "outputs": [],
   "source": [
    "#creamos las columnas en el dataframe \n",
    "\n",
    "data3['covered_imputados'] = covered_st + covered_ph + covered_ho + covered_ap + data3['covered_en_zeros']\n",
    "data3['total_imputados'] = total_st + total_ph + total_ho + total_ap + data3['total_en_zeros']"
   ]
  },
  {
   "cell_type": "code",
   "execution_count": 146,
   "id": "proud-samoa",
   "metadata": {},
   "outputs": [
    {
     "data": {
      "text/plain": [
       "False    103591\n",
       "True      12369\n",
       "Name: covered_imputados, dtype: int64"
      ]
     },
     "execution_count": 146,
     "metadata": {},
     "output_type": "execute_result"
    }
   ],
   "source": [
    "#vemos los valores en 0 para la columna covered\n",
    "\n",
    "covered_zeros_final_1 = data3['covered_imputados'] == 0\n",
    "covered_zeros_final_1.value_counts()"
   ]
  },
  {
   "cell_type": "code",
   "execution_count": 147,
   "id": "loose-cannon",
   "metadata": {},
   "outputs": [
    {
     "data": {
      "text/plain": [
       "False    103591\n",
       "True      12369\n",
       "Name: total_imputados, dtype: int64"
      ]
     },
     "execution_count": 147,
     "metadata": {},
     "output_type": "execute_result"
    }
   ],
   "source": [
    "#vemos los valores en 0 para la columna total\n",
    "\n",
    "total_zeros_final_1 = data3['total_imputados'] == 0\n",
    "total_zeros_final_1.value_counts()"
   ]
  },
  {
   "cell_type": "markdown",
   "id": "coral-arbitration",
   "metadata": {},
   "source": [
    "##### *finalmente llegamos al valor q estabamos esperando de 12.369 datos con valor 0 en cada columna*"
   ]
  },
  {
   "cell_type": "code",
   "execution_count": null,
   "id": "appointed-vanilla",
   "metadata": {},
   "outputs": [],
   "source": []
  },
  {
   "cell_type": "markdown",
   "id": "proved-terry",
   "metadata": {},
   "source": [
    "## 2.2) Vamos a seguir completando datos de superficie pero vamos a ver si hay info en la columna \"description\""
   ]
  },
  {
   "cell_type": "code",
   "execution_count": 148,
   "id": "younger-permit",
   "metadata": {},
   "outputs": [],
   "source": [
    "import re"
   ]
  },
  {
   "cell_type": "markdown",
   "id": "frozen-madness",
   "metadata": {},
   "source": [
    "#### Lo que descubrimos es que los valores de price per m2 en usd es diferente que los de price per m2, porque uno toma la superficie total y el otro la superficie covered. Por eso debemos crear una sola columna de price per m2 en usd, unificando criterios. vamos a dividir la columna price aprox usd por los m2 totales. para eso tenemos q terminar de completar la columna surface total.  "
   ]
  },
  {
   "cell_type": "code",
   "execution_count": 204,
   "id": "casual-military",
   "metadata": {},
   "outputs": [
    {
     "data": {
      "text/plain": [
       "array(['', '120', nan, '1200', '700', '5', '30', '150', '6', '4', '250',\n",
       "       '48', '15', '318', '35', '400', '650', '2', '80', '10', '300',\n",
       "       '44', '180', '132', '1', '155', '135', '100', '320', '12', '197',\n",
       "       '66', '2973', '2453', '4336', '1142', '3405', '125', '50', '37',\n",
       "       '1000', '60', '20', '3', '23', '40', '240', '67'], dtype=object)"
      ]
     },
     "execution_count": 204,
     "metadata": {},
     "output_type": "execute_result"
    }
   ],
   "source": [
    "# arrancamos creando una busqueda de la palabra metros y el valor que tiene previamente\n",
    "\n",
    "patron_valor_metros = '(?P<valor_mts>\\d{0,4})(?P<metros>m?e?t2?s?2?)'\n",
    "patron_regex_metros = re.compile(patron_valor_metros, re.IGNORECASE)\n",
    "\n",
    "resultado_patron_metros = data6['description'].apply(lambda x: x if x is np.NaN else patron_regex_metros.search(x) if patron_regex_metros.search(x) != None else np.NaN)\n",
    "\n",
    "metros_match = resultado_patron_metros.apply(lambda x: x if x is np.NaN else x.group('metros'))\n",
    "valor_mts_match = resultado_patron_metros.apply(lambda x: x if x is np.NaN else x.group('valor_mts'))\n",
    "\n",
    "\n",
    "data6['metros_description'] = valor_mts_match\n",
    "data6['metros_description'].unique()\n",
    "\n",
    "#creamos una columna metros con 0s y 1s\n",
    "\n",
    "#columna_metros = data6['metros'].apply(lambda x: 0 if x is np.NaN else 1)\n",
    "\n",
    "#data6['metros'] = columna_metros\n",
    "#data6['metros'].value_counts()"
   ]
  },
  {
   "cell_type": "code",
   "execution_count": 205,
   "id": "million-commissioner",
   "metadata": {},
   "outputs": [
    {
     "data": {
      "text/plain": [
       "103680"
      ]
     },
     "execution_count": 205,
     "metadata": {},
     "output_type": "execute_result"
    }
   ],
   "source": [
    "metros_description_not_null = data6['metros_description'].notnull()\n",
    "metros_description_not_null.sum()"
   ]
  },
  {
   "cell_type": "markdown",
   "id": "working-scope",
   "metadata": {},
   "source": [
    "- #### vamos a buscar los valores q conseguimos por description, y los que tienen en 0 la columna de \"superficie total\" que armamos antes"
   ]
  },
  {
   "cell_type": "code",
   "execution_count": 206,
   "id": "restricted-exclusion",
   "metadata": {},
   "outputs": [
    {
     "data": {
      "text/plain": [
       "0         False\n",
       "1          True\n",
       "2         False\n",
       "3          True\n",
       "4         False\n",
       "          ...  \n",
       "121214    False\n",
       "121215    False\n",
       "121216    False\n",
       "121217    False\n",
       "121218    False\n",
       "Name: total_imputados, Length: 104137, dtype: bool"
      ]
     },
     "execution_count": 206,
     "metadata": {},
     "output_type": "execute_result"
    }
   ],
   "source": [
    "mask_propiedades_metros_cero = data6[\"total_imputados\"] == 0\n",
    "mask_propiedades_metros_cero"
   ]
  },
  {
   "cell_type": "code",
   "execution_count": 207,
   "id": "agricultural-prize",
   "metadata": {},
   "outputs": [],
   "source": [
    "# vamos a completar los nulos de la columna metros_description con un 0 para poder trabajarlos\n",
    "\n",
    "data6[\"metros_description_fill\"] = data6['metros_description'].fillna(0)"
   ]
  },
  {
   "cell_type": "code",
   "execution_count": 210,
   "id": "medical-studio",
   "metadata": {},
   "outputs": [
    {
     "name": "stdout",
     "output_type": "stream",
     "text": [
      "0    104130\n",
      "1         7\n",
      "dtype: int64\n"
     ]
    }
   ],
   "source": [
    "#vamos a ver cuantos valores tienen \"0\" en la columna \"total impputados\" y valores en la columna \"metros description\", q son los que queremos completar\n",
    "\n",
    "imputados_vs_description = data6.apply(lambda x : 1 if x['total_imputados'] == 0 and x['metros_description_fill'] != 0 and x['metros_description_fill'] != '' else 0, axis=1)\n",
    "print(imputados_vs_description.value_counts())"
   ]
  },
  {
   "cell_type": "code",
   "execution_count": 192,
   "id": "rapid-beaver",
   "metadata": {},
   "outputs": [
    {
     "data": {
      "text/plain": [
       "0          \n",
       "1          \n",
       "2          \n",
       "3          \n",
       "4          \n",
       "         ..\n",
       "121214     \n",
       "121215     \n",
       "121216     \n",
       "121217     \n",
       "121218     \n",
       "Name: metros_description_fill, Length: 104137, dtype: object"
      ]
     },
     "execution_count": 192,
     "metadata": {},
     "output_type": "execute_result"
    }
   ],
   "source": [
    "# tenemos 1.713 datos que podemos usar para completar los m2 en la columna \"total_imputados\"\n",
    "\n",
    "data6[\"metros_description_fill\"]\n",
    "#tenemos q pasar de str a float los datos del metros description fill\n",
    "\n",
    "#data6[\"metros_description_fill\"] = data6[\"metros_description_fill\"].replace(\",\", \".\")\n",
    "\n",
    "#data6[\"metros_description_fill\"].unique()"
   ]
  },
  {
   "cell_type": "code",
   "execution_count": 193,
   "id": "english-sensitivity",
   "metadata": {},
   "outputs": [
    {
     "data": {
      "text/plain": [
       "0          55.0\n",
       "1           NaN\n",
       "2          55.0\n",
       "3           NaN\n",
       "4          35.0\n",
       "          ...  \n",
       "121214    123.0\n",
       "121215    113.0\n",
       "121216    360.0\n",
       "121217     46.0\n",
       "121218     48.0\n",
       "Name: total_imputados, Length: 104137, dtype: float64"
      ]
     },
     "execution_count": 193,
     "metadata": {},
     "output_type": "execute_result"
    }
   ],
   "source": [
    "#vamos a cambiar los 0 por nulos de la columna total para luego imputar los valores de m2 que conseguimos en description\n",
    "\n",
    "data6['total_imputados'].replace(0, np.nan)"
   ]
  },
  {
   "cell_type": "code",
   "execution_count": 197,
   "id": "christian-palestinian",
   "metadata": {},
   "outputs": [
    {
     "data": {
      "text/plain": [
       "0"
      ]
     },
     "execution_count": 197,
     "metadata": {},
     "output_type": "execute_result"
    }
   ],
   "source": [
    "data6['total_imputados'].isnull().sum()"
   ]
  },
  {
   "cell_type": "code",
   "execution_count": 196,
   "id": "corrected-cricket",
   "metadata": {},
   "outputs": [],
   "source": [
    "data6[\"total_imputados\"].fillna(data6[\"metros_description_fill\"], inplace=True)\n"
   ]
  },
  {
   "cell_type": "code",
   "execution_count": null,
   "id": "postal-comparison",
   "metadata": {},
   "outputs": [],
   "source": []
  },
  {
   "cell_type": "code",
   "execution_count": null,
   "id": "married-glance",
   "metadata": {},
   "outputs": [],
   "source": []
  },
  {
   "cell_type": "code",
   "execution_count": 198,
   "id": "enabling-burlington",
   "metadata": {},
   "outputs": [
    {
     "data": {
      "text/plain": [
       "0       94564\n",
       "         9566\n",
       "4           1\n",
       "400         1\n",
       "50          1\n",
       "4336        1\n",
       "5           1\n",
       "132         1\n",
       "37          1\n",
       "dtype: int64"
      ]
     },
     "execution_count": 198,
     "metadata": {},
     "output_type": "execute_result"
    }
   ],
   "source": [
    "# vamos a completar la columna total imputados con las 1713 propiedades que obtuvimos los m2 de description\n",
    "\n",
    "imputados_nuevos = data6.apply(lambda x : (x['metros_description_fill']) if x['total_imputados'] == 0 and x['metros_description_fill'] != 0 else 0, axis=1)\n",
    "imputados_nuevos.value_counts()\n",
    "\n",
    "#data6[\"superficie_total_final\"] = imputados_nuevos + data6['total_imputados']"
   ]
  },
  {
   "cell_type": "code",
   "execution_count": null,
   "id": "cloudy-moore",
   "metadata": {},
   "outputs": [],
   "source": []
  },
  {
   "cell_type": "code",
   "execution_count": null,
   "id": "ongoing-bacteria",
   "metadata": {},
   "outputs": [],
   "source": []
  },
  {
   "cell_type": "raw",
   "id": "forty-melbourne",
   "metadata": {},
   "source": []
  },
  {
   "cell_type": "code",
   "execution_count": null,
   "id": "another-diploma",
   "metadata": {},
   "outputs": [],
   "source": []
  },
  {
   "cell_type": "code",
   "execution_count": null,
   "id": "binary-romania",
   "metadata": {},
   "outputs": [],
   "source": []
  },
  {
   "cell_type": "code",
   "execution_count": null,
   "id": "vulnerable-karaoke",
   "metadata": {},
   "outputs": [],
   "source": []
  },
  {
   "cell_type": "markdown",
   "id": "electric-boating",
   "metadata": {},
   "source": [
    "- ### la columna \"provincia\" esta en 0 por ende esta completa para todas las propiedades"
   ]
  },
  {
   "cell_type": "markdown",
   "id": "outer-primary",
   "metadata": {},
   "source": [
    "# Trabajamos sobre rejex para descubrir otras conexiones al precio"
   ]
  },
  {
   "cell_type": "code",
   "execution_count": 179,
   "id": "prompt-castle",
   "metadata": {},
   "outputs": [
    {
     "data": {
      "text/plain": [
       "0    2 AMBIENTES TIPO CASA PLANTA BAJA POR PASILLO,...\n",
       "1    Venta de departamento en décimo piso al frente...\n",
       "2    2 AMBIENTES 3ER PISO LATERAL LIVING COMEDOR AM...\n",
       "3    PH 3 ambientes con patio. Hay 3 deptos en lote...\n",
       "4    DEPARTAMENTO CON FANTÁSTICA ILUMINACIÓN NATURA...\n",
       "Name: description, dtype: object"
      ]
     },
     "execution_count": 179,
     "metadata": {},
     "output_type": "execute_result"
    }
   ],
   "source": [
    "#vamos a separar la columna \"description\" para analizarla sola\n",
    "\n",
    "data_description = data3[\"description\"]\n",
    "\n",
    "data_description.head(5)\n"
   ]
  },
  {
   "cell_type": "code",
   "execution_count": 152,
   "id": "single-decrease",
   "metadata": {},
   "outputs": [
    {
     "name": "stdout",
     "output_type": "stream",
     "text": [
      "hay  2 valores nulos\n"
     ]
    },
    {
     "data": {
      "text/html": [
       "<div>\n",
       "<style scoped>\n",
       "    .dataframe tbody tr th:only-of-type {\n",
       "        vertical-align: middle;\n",
       "    }\n",
       "\n",
       "    .dataframe tbody tr th {\n",
       "        vertical-align: top;\n",
       "    }\n",
       "\n",
       "    .dataframe thead th {\n",
       "        text-align: right;\n",
       "    }\n",
       "</style>\n",
       "<table border=\"1\" class=\"dataframe\">\n",
       "  <thead>\n",
       "    <tr style=\"text-align: right;\">\n",
       "      <th></th>\n",
       "      <th>Unnamed: 0</th>\n",
       "      <th>operation</th>\n",
       "      <th>property_type</th>\n",
       "      <th>place_name</th>\n",
       "      <th>place_with_parent_names</th>\n",
       "      <th>country_name</th>\n",
       "      <th>state_name</th>\n",
       "      <th>geonames_id</th>\n",
       "      <th>lat-lon</th>\n",
       "      <th>lat</th>\n",
       "      <th>...</th>\n",
       "      <th>surface_covered_in_m2</th>\n",
       "      <th>price_usd_per_m2</th>\n",
       "      <th>price_per_m2</th>\n",
       "      <th>floor</th>\n",
       "      <th>rooms</th>\n",
       "      <th>expenses</th>\n",
       "      <th>properati_url</th>\n",
       "      <th>description</th>\n",
       "      <th>title</th>\n",
       "      <th>image_thumbnail</th>\n",
       "    </tr>\n",
       "  </thead>\n",
       "  <tbody>\n",
       "    <tr>\n",
       "      <th>10664</th>\n",
       "      <td>10664</td>\n",
       "      <td>sell</td>\n",
       "      <td>apartment</td>\n",
       "      <td>Villa Carlos Paz</td>\n",
       "      <td>|Argentina|Córdoba|Villa Carlos Paz|</td>\n",
       "      <td>Argentina</td>\n",
       "      <td>Córdoba</td>\n",
       "      <td>3832791.0</td>\n",
       "      <td>-31.4207828,-64.4992141</td>\n",
       "      <td>-31.420783</td>\n",
       "      <td>...</td>\n",
       "      <td>NaN</td>\n",
       "      <td>NaN</td>\n",
       "      <td>NaN</td>\n",
       "      <td>NaN</td>\n",
       "      <td>NaN</td>\n",
       "      <td>NaN</td>\n",
       "      <td>http://www.properati.com.ar/168nc_venta_depart...</td>\n",
       "      <td>NaN</td>\n",
       "      <td>HERMOSO DEPARTAMENTO CON PISCINA Y COCHERA</td>\n",
       "      <td>https://thumbs4.properati.com/6/JiAoy6zsKPeBob...</td>\n",
       "    </tr>\n",
       "    <tr>\n",
       "      <th>96691</th>\n",
       "      <td>96691</td>\n",
       "      <td>sell</td>\n",
       "      <td>apartment</td>\n",
       "      <td>San Fernando</td>\n",
       "      <td>|Argentina|Bs.As. G.B.A. Zona Norte|San Fernando|</td>\n",
       "      <td>Argentina</td>\n",
       "      <td>Bs.As. G.B.A. Zona Norte</td>\n",
       "      <td>3429088.0</td>\n",
       "      <td>NaN</td>\n",
       "      <td>NaN</td>\n",
       "      <td>...</td>\n",
       "      <td>55.0</td>\n",
       "      <td>NaN</td>\n",
       "      <td>1781.818182</td>\n",
       "      <td>NaN</td>\n",
       "      <td>NaN</td>\n",
       "      <td>NaN</td>\n",
       "      <td>http://www.properati.com.ar/1bj1r_venta_depart...</td>\n",
       "      <td>NaN</td>\n",
       "      <td>Departamento - San Fernando</td>\n",
       "      <td>https://thumbs4.properati.com/1/FZZcNCsb4-ucU2...</td>\n",
       "    </tr>\n",
       "  </tbody>\n",
       "</table>\n",
       "<p>2 rows × 26 columns</p>\n",
       "</div>"
      ],
      "text/plain": [
       "       Unnamed: 0 operation property_type        place_name  \\\n",
       "10664       10664      sell     apartment  Villa Carlos Paz   \n",
       "96691       96691      sell     apartment      San Fernando   \n",
       "\n",
       "                                 place_with_parent_names country_name  \\\n",
       "10664               |Argentina|Córdoba|Villa Carlos Paz|    Argentina   \n",
       "96691  |Argentina|Bs.As. G.B.A. Zona Norte|San Fernando|    Argentina   \n",
       "\n",
       "                     state_name  geonames_id                  lat-lon  \\\n",
       "10664                   Córdoba    3832791.0  -31.4207828,-64.4992141   \n",
       "96691  Bs.As. G.B.A. Zona Norte    3429088.0                      NaN   \n",
       "\n",
       "             lat  ...  surface_covered_in_m2  price_usd_per_m2 price_per_m2  \\\n",
       "10664 -31.420783  ...                    NaN               NaN          NaN   \n",
       "96691        NaN  ...                   55.0               NaN  1781.818182   \n",
       "\n",
       "       floor  rooms  expenses  \\\n",
       "10664    NaN    NaN       NaN   \n",
       "96691    NaN    NaN       NaN   \n",
       "\n",
       "                                           properati_url  description  \\\n",
       "10664  http://www.properati.com.ar/168nc_venta_depart...          NaN   \n",
       "96691  http://www.properati.com.ar/1bj1r_venta_depart...          NaN   \n",
       "\n",
       "                                             title  \\\n",
       "10664  HERMOSO DEPARTAMENTO CON PISCINA Y COCHERA    \n",
       "96691                  Departamento - San Fernando   \n",
       "\n",
       "                                         image_thumbnail  \n",
       "10664  https://thumbs4.properati.com/6/JiAoy6zsKPeBob...  \n",
       "96691  https://thumbs4.properati.com/1/FZZcNCsb4-ucU2...  \n",
       "\n",
       "[2 rows x 26 columns]"
      ]
     },
     "execution_count": 152,
     "metadata": {},
     "output_type": "execute_result"
    }
   ],
   "source": [
    "#vamos a ver los que son nulos\n",
    "\n",
    "data_description_null = data_description.isnull()\n",
    "print(\"hay \",data_description_null.sum(), \"valores nulos\")\n",
    "\n",
    "#identificamos las dos filas q tienen valores nulos en \"description\"\n",
    "data_description_null = data[data.description.isnull()]\n",
    "data_description_null"
   ]
  },
  {
   "cell_type": "code",
   "execution_count": null,
   "id": "proof-engineer",
   "metadata": {},
   "outputs": [],
   "source": [
    "# quiero compltarlos pero sin modificar el dataset original o el data3 q es el q estamos usando\n"
   ]
  },
  {
   "cell_type": "code",
   "execution_count": 153,
   "id": "cultural-report",
   "metadata": {},
   "outputs": [
    {
     "name": "stdout",
     "output_type": "stream",
     "text": [
      "                                              description refaccionado\n",
      "0       2 AMBIENTES TIPO CASA PLANTA BAJA POR PASILLO,...         True\n",
      "1       Venta de departamento en décimo piso al frente...        False\n",
      "2       2 AMBIENTES 3ER PISO LATERAL LIVING COMEDOR AM...        False\n",
      "3       PH 3 ambientes con patio. Hay 3 deptos en lote...        False\n",
      "4       DEPARTAMENTO CON FANTÁSTICA ILUMINACIÓN NATURA...        False\n",
      "...                                                   ...          ...\n",
      "121215  TORRE FORUM ALCORTA - MÁXIMA CATEGORÍA.Impecab...        False\n",
      "121216  Excelente e impecable casa en Venta en Las Lom...        False\n",
      "121217  VENTA DEPARTAMENTO AMBIENTE DIVISIBLE A ESTREN...        False\n",
      "121218  2 Amb al contrafrente,  luminoso. El departame...        False\n",
      "121219  Departamento de 77 m2 apto profesional. Edific...        False\n",
      "\n",
      "[115960 rows x 2 columns]\n"
     ]
    }
   ],
   "source": [
    "#vamos a buscar la palabra \"refaccionado\" ya que podria afectar el precio al ser un departamento mejorado. estos datos los ingresamos en la columna nueva de \"refaccionados\"\n",
    "\n",
    "import re\n",
    "\n",
    "data3[\"refaccionado\"] = data3.description.str.contains(r'(?i)refac|refaccionado')\n",
    "print(data3[[\"description\",\"refaccionado\"]])"
   ]
  },
  {
   "cell_type": "code",
   "execution_count": 154,
   "id": "logical-material",
   "metadata": {},
   "outputs": [
    {
     "name": "stdout",
     "output_type": "stream",
     "text": [
      "0    114070\n",
      "1      1890\n",
      "dtype: int64\n"
     ]
    }
   ],
   "source": [
    "#ahora tenemos todos los refaccionados como True en la columna \"refaccionados\", vamos a ver cuantos departamentos refaccionados hay\n",
    "#para eso definimos como 0 a las propiedades q no son 'refaccionadas' y como 1 las que si\n",
    "\n",
    "data_refaccionado_column =  data3.apply(lambda x: 0 if x.refaccionado == False else 1, axis=1)\n",
    "\n",
    "print(data_refaccionado_column.value_counts())\n",
    "\n",
    "data3[\"refaccionado\"] = data_refaccionado_column\n"
   ]
  },
  {
   "cell_type": "markdown",
   "id": "homeless-upper",
   "metadata": {},
   "source": [
    "#### podemos decir q tenemos 1.890 propiedades que estan refaccionadas"
   ]
  },
  {
   "cell_type": "code",
   "execution_count": 155,
   "id": "hearing-pharmacology",
   "metadata": {},
   "outputs": [
    {
     "name": "stdout",
     "output_type": "stream",
     "text": [
      "                                              description pileta\n",
      "0       2 AMBIENTES TIPO CASA PLANTA BAJA POR PASILLO,...  False\n",
      "1       Venta de departamento en décimo piso al frente...  False\n",
      "2       2 AMBIENTES 3ER PISO LATERAL LIVING COMEDOR AM...  False\n",
      "3       PH 3 ambientes con patio. Hay 3 deptos en lote...  False\n",
      "4       DEPARTAMENTO CON FANTÁSTICA ILUMINACIÓN NATURA...  False\n",
      "...                                                   ...    ...\n",
      "121215  TORRE FORUM ALCORTA - MÁXIMA CATEGORÍA.Impecab...   True\n",
      "121216  Excelente e impecable casa en Venta en Las Lom...   True\n",
      "121217  VENTA DEPARTAMENTO AMBIENTE DIVISIBLE A ESTREN...  False\n",
      "121218  2 Amb al contrafrente,  luminoso. El departame...  False\n",
      "121219  Departamento de 77 m2 apto profesional. Edific...  False\n",
      "\n",
      "[115960 rows x 2 columns]\n"
     ]
    }
   ],
   "source": [
    "#ahora vamos a buscar los q tienen pileta\n",
    "\n",
    "data3[\"pileta\"] = data3.description.str.contains(r'(?i)pileta|piscina')\n",
    "print(data3[[\"description\",\"pileta\"]])"
   ]
  },
  {
   "cell_type": "code",
   "execution_count": 156,
   "id": "informative-leone",
   "metadata": {},
   "outputs": [
    {
     "name": "stdout",
     "output_type": "stream",
     "text": [
      "0    84669\n",
      "1    31291\n",
      "dtype: int64\n"
     ]
    },
    {
     "data": {
      "text/plain": [
       "0         0\n",
       "1         0\n",
       "2         0\n",
       "3         0\n",
       "4         0\n",
       "         ..\n",
       "121215    1\n",
       "121216    1\n",
       "121217    0\n",
       "121218    0\n",
       "121219    0\n",
       "Name: pileta, Length: 115960, dtype: int64"
      ]
     },
     "execution_count": 156,
     "metadata": {},
     "output_type": "execute_result"
    }
   ],
   "source": [
    "#hacemos lo mismo de ver cuantas propeidades tienen pileta y ponemos 0 las que no tiene (osea q son false) y 1 las q si\n",
    "\n",
    "data_pileta_column =  data3.apply(lambda x: 0 if x.pileta == False else 1, axis=1)\n",
    "\n",
    "print(data_pileta_column.value_counts())\n",
    "\n",
    "#ponemos la data de pileta en la columna pileta del data frame\n",
    "data3[\"pileta\"] = data_pileta_column\n",
    "\n",
    "#ahi quedo la columna pileta con 0s y 1s \n",
    "data3[\"pileta\"] \n"
   ]
  },
  {
   "cell_type": "markdown",
   "id": "committed-stuff",
   "metadata": {},
   "source": [
    "#### podemos decir q tenemos 31.291 propiedades con pileta"
   ]
  },
  {
   "cell_type": "code",
   "execution_count": 157,
   "id": "relative-appearance",
   "metadata": {},
   "outputs": [
    {
     "name": "stdout",
     "output_type": "stream",
     "text": [
      "                                              description amenities\n",
      "0       2 AMBIENTES TIPO CASA PLANTA BAJA POR PASILLO,...     False\n",
      "1       Venta de departamento en décimo piso al frente...     False\n",
      "2       2 AMBIENTES 3ER PISO LATERAL LIVING COMEDOR AM...     False\n",
      "3       PH 3 ambientes con patio. Hay 3 deptos en lote...     False\n",
      "4       DEPARTAMENTO CON FANTÁSTICA ILUMINACIÓN NATURA...     False\n",
      "...                                                   ...       ...\n",
      "121215  TORRE FORUM ALCORTA - MÁXIMA CATEGORÍA.Impecab...     False\n",
      "121216  Excelente e impecable casa en Venta en Las Lom...     False\n",
      "121217  VENTA DEPARTAMENTO AMBIENTE DIVISIBLE A ESTREN...      True\n",
      "121218  2 Amb al contrafrente,  luminoso. El departame...     False\n",
      "121219  Departamento de 77 m2 apto profesional. Edific...     False\n",
      "\n",
      "[115960 rows x 2 columns]\n"
     ]
    }
   ],
   "source": [
    "#ahora vamos a buscar los q tienen amenities\n",
    "\n",
    "data3[\"amenities\"] = data.description.str.contains(r'(?i)amenities')\n",
    "print(data3[[\"description\",\"amenities\"]])"
   ]
  },
  {
   "cell_type": "code",
   "execution_count": 158,
   "id": "brilliant-farming",
   "metadata": {},
   "outputs": [
    {
     "name": "stdout",
     "output_type": "stream",
     "text": [
      "0    105916\n",
      "1     10044\n",
      "dtype: int64\n"
     ]
    }
   ],
   "source": [
    "#hacemos lo mismo de ver cuantas propeidades tienen amenities y ponemos 0 las que no tiene (osea q son false) y 1 las q si\n",
    "\n",
    "data_amenities_column =  data3.apply(lambda x: 0 if x.amenities == False else 1, axis=1)\n",
    "\n",
    "print(data_amenities_column.value_counts())\n"
   ]
  },
  {
   "cell_type": "code",
   "execution_count": 159,
   "id": "reliable-official",
   "metadata": {},
   "outputs": [
    {
     "data": {
      "text/plain": [
       "0         0\n",
       "1         0\n",
       "2         0\n",
       "3         0\n",
       "4         0\n",
       "         ..\n",
       "121215    0\n",
       "121216    0\n",
       "121217    1\n",
       "121218    0\n",
       "121219    0\n",
       "Name: amenities, Length: 115960, dtype: int64"
      ]
     },
     "execution_count": 159,
     "metadata": {},
     "output_type": "execute_result"
    }
   ],
   "source": [
    "#ponemos la data de amenities en la columna amenities del data frame\n",
    "data3[\"amenities\"] = data_amenities_column\n",
    "\n",
    "#ahi quedo la columna amenities con 0s y 1s \n",
    "data3[\"amenities\"] \n"
   ]
  },
  {
   "cell_type": "markdown",
   "id": "assured-production",
   "metadata": {},
   "source": [
    "#### podemos decir q tenemos 10.044 propiedades con amenities"
   ]
  },
  {
   "cell_type": "code",
   "execution_count": null,
   "id": "opened-jason",
   "metadata": {},
   "outputs": [],
   "source": [
    "#ahora vamos a buscar los q tienen cochera\n",
    "\n",
    "data3[\"cochera\"] = data3.description.str.contains(r'(?i)cochera')\n",
    "print(data3[[\"description\",\"cochera\"]])"
   ]
  },
  {
   "cell_type": "code",
   "execution_count": null,
   "id": "coordinated-trail",
   "metadata": {},
   "outputs": [],
   "source": [
    "#hacemos lo mismo de ver cuantas propeidades tienen cochera y ponemos 0 las que no tiene (osea q son false) y 1 las q si\n",
    "\n",
    "data_cochera_column =  data3.apply(lambda x: 0 if x.cochera == False else 1, axis=1)\n",
    "\n",
    "print(data_cochera_column.value_counts())\n",
    "\n",
    "data3[\"cochera\"] = data_cochera_column"
   ]
  },
  {
   "cell_type": "markdown",
   "id": "stylish-winner",
   "metadata": {},
   "source": [
    "#### podemos decir q tenemos 40.384 propiedades con cochera"
   ]
  },
  {
   "cell_type": "code",
   "execution_count": null,
   "id": "faced-nicaragua",
   "metadata": {},
   "outputs": [],
   "source": [
    "#ahora vamos a buscar los q dicen cuotas o financiacion porque muchas veces me contaminan el precio, poniendo el valot de una cuota y que luego me afecta el precio por m2\n",
    "\n",
    "data3[\"financiacion\"] = data3.description.str.contains(r'(?i)financiacion|cuota')\n",
    "print(data3[[\"description\",\"financiacion\"]])"
   ]
  },
  {
   "cell_type": "code",
   "execution_count": 150,
   "id": "imported-hopkins",
   "metadata": {},
   "outputs": [
    {
     "ename": "AttributeError",
     "evalue": "'Series' object has no attribute 'financiacion'",
     "output_type": "error",
     "traceback": [
      "\u001b[1;31m---------------------------------------------------------------------------\u001b[0m",
      "\u001b[1;31mAttributeError\u001b[0m                            Traceback (most recent call last)",
      "\u001b[1;32m<ipython-input-150-fceb2559c785>\u001b[0m in \u001b[0;36m<module>\u001b[1;34m\u001b[0m\n\u001b[0;32m      1\u001b[0m \u001b[1;31m#hacemos lo mismo de ver cuantas propeidades tienen financiacion y ponemos 0 las que no tiene (osea q son false) y 1 las q si\u001b[0m\u001b[1;33m\u001b[0m\u001b[1;33m\u001b[0m\u001b[1;33m\u001b[0m\u001b[0m\n\u001b[0;32m      2\u001b[0m \u001b[1;33m\u001b[0m\u001b[0m\n\u001b[1;32m----> 3\u001b[1;33m \u001b[0mdata_financiacion_column\u001b[0m \u001b[1;33m=\u001b[0m  \u001b[0mdata3\u001b[0m\u001b[1;33m.\u001b[0m\u001b[0mapply\u001b[0m\u001b[1;33m(\u001b[0m\u001b[1;32mlambda\u001b[0m \u001b[0mx\u001b[0m\u001b[1;33m:\u001b[0m \u001b[1;36m0\u001b[0m \u001b[1;32mif\u001b[0m \u001b[0mx\u001b[0m\u001b[1;33m.\u001b[0m\u001b[0mfinanciacion\u001b[0m \u001b[1;33m==\u001b[0m \u001b[1;32mFalse\u001b[0m \u001b[1;32melse\u001b[0m \u001b[1;36m1\u001b[0m\u001b[1;33m,\u001b[0m \u001b[0maxis\u001b[0m\u001b[1;33m=\u001b[0m\u001b[1;36m1\u001b[0m\u001b[1;33m)\u001b[0m\u001b[1;33m\u001b[0m\u001b[1;33m\u001b[0m\u001b[0m\n\u001b[0m\u001b[0;32m      4\u001b[0m \u001b[1;33m\u001b[0m\u001b[0m\n\u001b[0;32m      5\u001b[0m \u001b[0mprint\u001b[0m\u001b[1;33m(\u001b[0m\u001b[0mdata_financiacion_column\u001b[0m\u001b[1;33m.\u001b[0m\u001b[0mvalue_counts\u001b[0m\u001b[1;33m(\u001b[0m\u001b[1;33m)\u001b[0m\u001b[1;33m)\u001b[0m\u001b[1;33m\u001b[0m\u001b[1;33m\u001b[0m\u001b[0m\n",
      "\u001b[1;32m~\\anaconda3\\envs\\dhdsblend2021\\lib\\site-packages\\pandas\\core\\frame.py\u001b[0m in \u001b[0;36mapply\u001b[1;34m(self, func, axis, raw, result_type, args, **kwds)\u001b[0m\n\u001b[0;32m   7550\u001b[0m             \u001b[0mkwds\u001b[0m\u001b[1;33m=\u001b[0m\u001b[0mkwds\u001b[0m\u001b[1;33m,\u001b[0m\u001b[1;33m\u001b[0m\u001b[1;33m\u001b[0m\u001b[0m\n\u001b[0;32m   7551\u001b[0m         )\n\u001b[1;32m-> 7552\u001b[1;33m         \u001b[1;32mreturn\u001b[0m \u001b[0mop\u001b[0m\u001b[1;33m.\u001b[0m\u001b[0mget_result\u001b[0m\u001b[1;33m(\u001b[0m\u001b[1;33m)\u001b[0m\u001b[1;33m\u001b[0m\u001b[1;33m\u001b[0m\u001b[0m\n\u001b[0m\u001b[0;32m   7553\u001b[0m \u001b[1;33m\u001b[0m\u001b[0m\n\u001b[0;32m   7554\u001b[0m     \u001b[1;32mdef\u001b[0m \u001b[0mapplymap\u001b[0m\u001b[1;33m(\u001b[0m\u001b[0mself\u001b[0m\u001b[1;33m,\u001b[0m \u001b[0mfunc\u001b[0m\u001b[1;33m)\u001b[0m \u001b[1;33m->\u001b[0m \u001b[1;34m\"DataFrame\"\u001b[0m\u001b[1;33m:\u001b[0m\u001b[1;33m\u001b[0m\u001b[1;33m\u001b[0m\u001b[0m\n",
      "\u001b[1;32m~\\anaconda3\\envs\\dhdsblend2021\\lib\\site-packages\\pandas\\core\\apply.py\u001b[0m in \u001b[0;36mget_result\u001b[1;34m(self)\u001b[0m\n\u001b[0;32m    183\u001b[0m             \u001b[1;32mreturn\u001b[0m \u001b[0mself\u001b[0m\u001b[1;33m.\u001b[0m\u001b[0mapply_raw\u001b[0m\u001b[1;33m(\u001b[0m\u001b[1;33m)\u001b[0m\u001b[1;33m\u001b[0m\u001b[1;33m\u001b[0m\u001b[0m\n\u001b[0;32m    184\u001b[0m \u001b[1;33m\u001b[0m\u001b[0m\n\u001b[1;32m--> 185\u001b[1;33m         \u001b[1;32mreturn\u001b[0m \u001b[0mself\u001b[0m\u001b[1;33m.\u001b[0m\u001b[0mapply_standard\u001b[0m\u001b[1;33m(\u001b[0m\u001b[1;33m)\u001b[0m\u001b[1;33m\u001b[0m\u001b[1;33m\u001b[0m\u001b[0m\n\u001b[0m\u001b[0;32m    186\u001b[0m \u001b[1;33m\u001b[0m\u001b[0m\n\u001b[0;32m    187\u001b[0m     \u001b[1;32mdef\u001b[0m \u001b[0mapply_empty_result\u001b[0m\u001b[1;33m(\u001b[0m\u001b[0mself\u001b[0m\u001b[1;33m)\u001b[0m\u001b[1;33m:\u001b[0m\u001b[1;33m\u001b[0m\u001b[1;33m\u001b[0m\u001b[0m\n",
      "\u001b[1;32m~\\anaconda3\\envs\\dhdsblend2021\\lib\\site-packages\\pandas\\core\\apply.py\u001b[0m in \u001b[0;36mapply_standard\u001b[1;34m(self)\u001b[0m\n\u001b[0;32m    274\u001b[0m \u001b[1;33m\u001b[0m\u001b[0m\n\u001b[0;32m    275\u001b[0m     \u001b[1;32mdef\u001b[0m \u001b[0mapply_standard\u001b[0m\u001b[1;33m(\u001b[0m\u001b[0mself\u001b[0m\u001b[1;33m)\u001b[0m\u001b[1;33m:\u001b[0m\u001b[1;33m\u001b[0m\u001b[1;33m\u001b[0m\u001b[0m\n\u001b[1;32m--> 276\u001b[1;33m         \u001b[0mresults\u001b[0m\u001b[1;33m,\u001b[0m \u001b[0mres_index\u001b[0m \u001b[1;33m=\u001b[0m \u001b[0mself\u001b[0m\u001b[1;33m.\u001b[0m\u001b[0mapply_series_generator\u001b[0m\u001b[1;33m(\u001b[0m\u001b[1;33m)\u001b[0m\u001b[1;33m\u001b[0m\u001b[1;33m\u001b[0m\u001b[0m\n\u001b[0m\u001b[0;32m    277\u001b[0m \u001b[1;33m\u001b[0m\u001b[0m\n\u001b[0;32m    278\u001b[0m         \u001b[1;31m# wrap results\u001b[0m\u001b[1;33m\u001b[0m\u001b[1;33m\u001b[0m\u001b[1;33m\u001b[0m\u001b[0m\n",
      "\u001b[1;32m~\\anaconda3\\envs\\dhdsblend2021\\lib\\site-packages\\pandas\\core\\apply.py\u001b[0m in \u001b[0;36mapply_series_generator\u001b[1;34m(self)\u001b[0m\n\u001b[0;32m    303\u001b[0m                 \u001b[1;32mfor\u001b[0m \u001b[0mi\u001b[0m\u001b[1;33m,\u001b[0m \u001b[0mv\u001b[0m \u001b[1;32min\u001b[0m \u001b[0menumerate\u001b[0m\u001b[1;33m(\u001b[0m\u001b[0mseries_gen\u001b[0m\u001b[1;33m)\u001b[0m\u001b[1;33m:\u001b[0m\u001b[1;33m\u001b[0m\u001b[1;33m\u001b[0m\u001b[0m\n\u001b[0;32m    304\u001b[0m                     \u001b[1;31m# ignore SettingWithCopy here in case the user mutates\u001b[0m\u001b[1;33m\u001b[0m\u001b[1;33m\u001b[0m\u001b[1;33m\u001b[0m\u001b[0m\n\u001b[1;32m--> 305\u001b[1;33m                     \u001b[0mresults\u001b[0m\u001b[1;33m[\u001b[0m\u001b[0mi\u001b[0m\u001b[1;33m]\u001b[0m \u001b[1;33m=\u001b[0m \u001b[0mself\u001b[0m\u001b[1;33m.\u001b[0m\u001b[0mf\u001b[0m\u001b[1;33m(\u001b[0m\u001b[0mv\u001b[0m\u001b[1;33m)\u001b[0m\u001b[1;33m\u001b[0m\u001b[1;33m\u001b[0m\u001b[0m\n\u001b[0m\u001b[0;32m    306\u001b[0m                     \u001b[1;32mif\u001b[0m \u001b[0misinstance\u001b[0m\u001b[1;33m(\u001b[0m\u001b[0mresults\u001b[0m\u001b[1;33m[\u001b[0m\u001b[0mi\u001b[0m\u001b[1;33m]\u001b[0m\u001b[1;33m,\u001b[0m \u001b[0mABCSeries\u001b[0m\u001b[1;33m)\u001b[0m\u001b[1;33m:\u001b[0m\u001b[1;33m\u001b[0m\u001b[1;33m\u001b[0m\u001b[0m\n\u001b[0;32m    307\u001b[0m                         \u001b[1;31m# If we have a view on v, we need to make a copy because\u001b[0m\u001b[1;33m\u001b[0m\u001b[1;33m\u001b[0m\u001b[1;33m\u001b[0m\u001b[0m\n",
      "\u001b[1;32m<ipython-input-150-fceb2559c785>\u001b[0m in \u001b[0;36m<lambda>\u001b[1;34m(x)\u001b[0m\n\u001b[0;32m      1\u001b[0m \u001b[1;31m#hacemos lo mismo de ver cuantas propeidades tienen financiacion y ponemos 0 las que no tiene (osea q son false) y 1 las q si\u001b[0m\u001b[1;33m\u001b[0m\u001b[1;33m\u001b[0m\u001b[1;33m\u001b[0m\u001b[0m\n\u001b[0;32m      2\u001b[0m \u001b[1;33m\u001b[0m\u001b[0m\n\u001b[1;32m----> 3\u001b[1;33m \u001b[0mdata_financiacion_column\u001b[0m \u001b[1;33m=\u001b[0m  \u001b[0mdata3\u001b[0m\u001b[1;33m.\u001b[0m\u001b[0mapply\u001b[0m\u001b[1;33m(\u001b[0m\u001b[1;32mlambda\u001b[0m \u001b[0mx\u001b[0m\u001b[1;33m:\u001b[0m \u001b[1;36m0\u001b[0m \u001b[1;32mif\u001b[0m \u001b[0mx\u001b[0m\u001b[1;33m.\u001b[0m\u001b[0mfinanciacion\u001b[0m \u001b[1;33m==\u001b[0m \u001b[1;32mFalse\u001b[0m \u001b[1;32melse\u001b[0m \u001b[1;36m1\u001b[0m\u001b[1;33m,\u001b[0m \u001b[0maxis\u001b[0m\u001b[1;33m=\u001b[0m\u001b[1;36m1\u001b[0m\u001b[1;33m)\u001b[0m\u001b[1;33m\u001b[0m\u001b[1;33m\u001b[0m\u001b[0m\n\u001b[0m\u001b[0;32m      4\u001b[0m \u001b[1;33m\u001b[0m\u001b[0m\n\u001b[0;32m      5\u001b[0m \u001b[0mprint\u001b[0m\u001b[1;33m(\u001b[0m\u001b[0mdata_financiacion_column\u001b[0m\u001b[1;33m.\u001b[0m\u001b[0mvalue_counts\u001b[0m\u001b[1;33m(\u001b[0m\u001b[1;33m)\u001b[0m\u001b[1;33m)\u001b[0m\u001b[1;33m\u001b[0m\u001b[1;33m\u001b[0m\u001b[0m\n",
      "\u001b[1;32m~\\anaconda3\\envs\\dhdsblend2021\\lib\\site-packages\\pandas\\core\\generic.py\u001b[0m in \u001b[0;36m__getattr__\u001b[1;34m(self, name)\u001b[0m\n\u001b[0;32m   5139\u001b[0m             \u001b[1;32mif\u001b[0m \u001b[0mself\u001b[0m\u001b[1;33m.\u001b[0m\u001b[0m_info_axis\u001b[0m\u001b[1;33m.\u001b[0m\u001b[0m_can_hold_identifiers_and_holds_name\u001b[0m\u001b[1;33m(\u001b[0m\u001b[0mname\u001b[0m\u001b[1;33m)\u001b[0m\u001b[1;33m:\u001b[0m\u001b[1;33m\u001b[0m\u001b[1;33m\u001b[0m\u001b[0m\n\u001b[0;32m   5140\u001b[0m                 \u001b[1;32mreturn\u001b[0m \u001b[0mself\u001b[0m\u001b[1;33m[\u001b[0m\u001b[0mname\u001b[0m\u001b[1;33m]\u001b[0m\u001b[1;33m\u001b[0m\u001b[1;33m\u001b[0m\u001b[0m\n\u001b[1;32m-> 5141\u001b[1;33m             \u001b[1;32mreturn\u001b[0m \u001b[0mobject\u001b[0m\u001b[1;33m.\u001b[0m\u001b[0m__getattribute__\u001b[0m\u001b[1;33m(\u001b[0m\u001b[0mself\u001b[0m\u001b[1;33m,\u001b[0m \u001b[0mname\u001b[0m\u001b[1;33m)\u001b[0m\u001b[1;33m\u001b[0m\u001b[1;33m\u001b[0m\u001b[0m\n\u001b[0m\u001b[0;32m   5142\u001b[0m \u001b[1;33m\u001b[0m\u001b[0m\n\u001b[0;32m   5143\u001b[0m     \u001b[1;32mdef\u001b[0m \u001b[0m__setattr__\u001b[0m\u001b[1;33m(\u001b[0m\u001b[0mself\u001b[0m\u001b[1;33m,\u001b[0m \u001b[0mname\u001b[0m\u001b[1;33m:\u001b[0m \u001b[0mstr\u001b[0m\u001b[1;33m,\u001b[0m \u001b[0mvalue\u001b[0m\u001b[1;33m)\u001b[0m \u001b[1;33m->\u001b[0m \u001b[1;32mNone\u001b[0m\u001b[1;33m:\u001b[0m\u001b[1;33m\u001b[0m\u001b[1;33m\u001b[0m\u001b[0m\n",
      "\u001b[1;31mAttributeError\u001b[0m: 'Series' object has no attribute 'financiacion'"
     ]
    }
   ],
   "source": [
    "#hacemos lo mismo de ver cuantas propeidades tienen financiacion y ponemos 0 las que no tiene (osea q son false) y 1 las q si\n",
    "\n",
    "data_financiacion_column =  data3.apply(lambda x: 0 if x.financiacion == False else 1, axis=1)\n",
    "\n",
    "print(data_financiacion_column.value_counts())\n",
    "\n",
    "data3[\"financiacion\"] = data_financiacion_column"
   ]
  },
  {
   "cell_type": "markdown",
   "id": "injured-guyana",
   "metadata": {},
   "source": [
    "#### podemos decir q tenemos 9.471 propiedades con cuotas o financiacion. estas propiedades deberiamos analizarla con la variable precio o precio por m2 a ver si encontramos una relacion de tener precio mas bajo q el promedio"
   ]
  },
  {
   "cell_type": "code",
   "execution_count": null,
   "id": "executive-dialogue",
   "metadata": {},
   "outputs": [],
   "source": [
    "data3.head(3)"
   ]
  },
  {
   "cell_type": "markdown",
   "id": "ideal-yemen",
   "metadata": {},
   "source": [
    "## Aca abajo deberiamos sumar las regex que estuvo laburando segun "
   ]
  },
  {
   "cell_type": "code",
   "execution_count": null,
   "id": "falling-strand",
   "metadata": {},
   "outputs": [],
   "source": []
  },
  {
   "cell_type": "code",
   "execution_count": null,
   "id": "known-married",
   "metadata": {},
   "outputs": [],
   "source": []
  },
  {
   "cell_type": "code",
   "execution_count": null,
   "id": "collectible-tours",
   "metadata": {},
   "outputs": [],
   "source": []
  },
  {
   "cell_type": "markdown",
   "id": "consecutive-violin",
   "metadata": {},
   "source": [
    "## Luego de tener eso debemos definir q filas borramos y que no, yo lo que no tenga localidad, precio y superficie lo volaria, lo q no tenga superficie tambien lo volaria"
   ]
  },
  {
   "cell_type": "code",
   "execution_count": null,
   "id": "legislative-candidate",
   "metadata": {},
   "outputs": [],
   "source": []
  },
  {
   "cell_type": "code",
   "execution_count": null,
   "id": "atmospheric-filter",
   "metadata": {},
   "outputs": [],
   "source": []
  },
  {
   "cell_type": "code",
   "execution_count": null,
   "id": "insured-pocket",
   "metadata": {},
   "outputs": [],
   "source": []
  },
  {
   "cell_type": "markdown",
   "id": "chicken-sussex",
   "metadata": {},
   "source": [
    "## despues de tener las regex, deberiamos analizar algunos outliers en columnas como superficie, o precio por m2 en usd y limpiarlos"
   ]
  },
  {
   "cell_type": "code",
   "execution_count": null,
   "id": "prepared-house",
   "metadata": {},
   "outputs": [],
   "source": []
  },
  {
   "cell_type": "code",
   "execution_count": null,
   "id": "meaningful-shepherd",
   "metadata": {},
   "outputs": [],
   "source": []
  },
  {
   "cell_type": "markdown",
   "id": "beneficial-accused",
   "metadata": {},
   "source": [
    "## luego de limpiar outliers deberiamos armar algunos graficos "
   ]
  },
  {
   "cell_type": "code",
   "execution_count": null,
   "id": "hawaiian-database",
   "metadata": {},
   "outputs": [],
   "source": []
  },
  {
   "cell_type": "code",
   "execution_count": null,
   "id": "knowing-aquarium",
   "metadata": {},
   "outputs": [],
   "source": []
  },
  {
   "cell_type": "code",
   "execution_count": null,
   "id": "seventh-possession",
   "metadata": {},
   "outputs": [],
   "source": []
  },
  {
   "cell_type": "code",
   "execution_count": null,
   "id": "nuclear-journalism",
   "metadata": {},
   "outputs": [],
   "source": []
  }
 ],
 "metadata": {
  "kernelspec": {
   "display_name": "Python 3",
   "language": "python",
   "name": "python3"
  },
  "language_info": {
   "codemirror_mode": {
    "name": "ipython",
    "version": 3
   },
   "file_extension": ".py",
   "mimetype": "text/x-python",
   "name": "python",
   "nbconvert_exporter": "python",
   "pygments_lexer": "ipython3",
   "version": "3.8.8"
  }
 },
 "nbformat": 4,
 "nbformat_minor": 5
}
