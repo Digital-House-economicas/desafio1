{
 "cells": [
  {
   "cell_type": "markdown",
   "id": "cooked-worker",
   "metadata": {},
   "source": [
    "# Desafio 1 - Grupo 2 "
   ]
  },
  {
   "cell_type": "markdown",
   "id": "valued-going",
   "metadata": {},
   "source": [
    "### vamos a importar y ver un poco como es el data set"
   ]
  },
  {
   "cell_type": "code",
   "execution_count": 220,
   "id": "veterinary-determination",
   "metadata": {},
   "outputs": [],
   "source": [
    "import pandas as pd\n",
    "import numpy as np \n",
    "import matplotlib.pyplot as plt\n",
    "import seaborn as sns \n",
    "import re "
   ]
  },
  {
   "cell_type": "code",
   "execution_count": 221,
   "id": "played-limit",
   "metadata": {},
   "outputs": [
    {
     "data": {
      "text/html": [
       "<div>\n",
       "<style scoped>\n",
       "    .dataframe tbody tr th:only-of-type {\n",
       "        vertical-align: middle;\n",
       "    }\n",
       "\n",
       "    .dataframe tbody tr th {\n",
       "        vertical-align: top;\n",
       "    }\n",
       "\n",
       "    .dataframe thead th {\n",
       "        text-align: right;\n",
       "    }\n",
       "</style>\n",
       "<table border=\"1\" class=\"dataframe\">\n",
       "  <thead>\n",
       "    <tr style=\"text-align: right;\">\n",
       "      <th></th>\n",
       "      <th>Unnamed: 0</th>\n",
       "      <th>operation</th>\n",
       "      <th>property_type</th>\n",
       "      <th>place_name</th>\n",
       "      <th>place_with_parent_names</th>\n",
       "      <th>country_name</th>\n",
       "      <th>state_name</th>\n",
       "      <th>geonames_id</th>\n",
       "      <th>lat-lon</th>\n",
       "      <th>lat</th>\n",
       "      <th>...</th>\n",
       "      <th>surface_covered_in_m2</th>\n",
       "      <th>price_usd_per_m2</th>\n",
       "      <th>price_per_m2</th>\n",
       "      <th>floor</th>\n",
       "      <th>rooms</th>\n",
       "      <th>expenses</th>\n",
       "      <th>properati_url</th>\n",
       "      <th>description</th>\n",
       "      <th>title</th>\n",
       "      <th>image_thumbnail</th>\n",
       "    </tr>\n",
       "  </thead>\n",
       "  <tbody>\n",
       "    <tr>\n",
       "      <th>0</th>\n",
       "      <td>0</td>\n",
       "      <td>sell</td>\n",
       "      <td>PH</td>\n",
       "      <td>Mataderos</td>\n",
       "      <td>|Argentina|Capital Federal|Mataderos|</td>\n",
       "      <td>Argentina</td>\n",
       "      <td>Capital Federal</td>\n",
       "      <td>3430787.0</td>\n",
       "      <td>-34.6618237,-58.5088387</td>\n",
       "      <td>-34.661824</td>\n",
       "      <td>...</td>\n",
       "      <td>40.0</td>\n",
       "      <td>1127.272727</td>\n",
       "      <td>1550.000000</td>\n",
       "      <td>NaN</td>\n",
       "      <td>NaN</td>\n",
       "      <td>NaN</td>\n",
       "      <td>http://www.properati.com.ar/15bo8_venta_ph_mat...</td>\n",
       "      <td>2 AMBIENTES TIPO CASA PLANTA BAJA POR PASILLO,...</td>\n",
       "      <td>2 AMB TIPO CASA SIN EXPENSAS EN PB</td>\n",
       "      <td>https://thumbs4.properati.com/8/BluUYiHJLhgIIK...</td>\n",
       "    </tr>\n",
       "    <tr>\n",
       "      <th>1</th>\n",
       "      <td>1</td>\n",
       "      <td>sell</td>\n",
       "      <td>apartment</td>\n",
       "      <td>La Plata</td>\n",
       "      <td>|Argentina|Bs.As. G.B.A. Zona Sur|La Plata|</td>\n",
       "      <td>Argentina</td>\n",
       "      <td>Bs.As. G.B.A. Zona Sur</td>\n",
       "      <td>3432039.0</td>\n",
       "      <td>-34.9038831,-57.9643295</td>\n",
       "      <td>-34.903883</td>\n",
       "      <td>...</td>\n",
       "      <td>NaN</td>\n",
       "      <td>NaN</td>\n",
       "      <td>NaN</td>\n",
       "      <td>NaN</td>\n",
       "      <td>NaN</td>\n",
       "      <td>NaN</td>\n",
       "      <td>http://www.properati.com.ar/15bob_venta_depart...</td>\n",
       "      <td>Venta de departamento en décimo piso al frente...</td>\n",
       "      <td>VENTA Depto 2 dorm. a estrenar 7 e/ 36 y 37   ...</td>\n",
       "      <td>https://thumbs4.properati.com/7/ikpVBu2ztHA7jv...</td>\n",
       "    </tr>\n",
       "    <tr>\n",
       "      <th>2</th>\n",
       "      <td>2</td>\n",
       "      <td>sell</td>\n",
       "      <td>apartment</td>\n",
       "      <td>Mataderos</td>\n",
       "      <td>|Argentina|Capital Federal|Mataderos|</td>\n",
       "      <td>Argentina</td>\n",
       "      <td>Capital Federal</td>\n",
       "      <td>3430787.0</td>\n",
       "      <td>-34.6522615,-58.5229825</td>\n",
       "      <td>-34.652262</td>\n",
       "      <td>...</td>\n",
       "      <td>55.0</td>\n",
       "      <td>1309.090909</td>\n",
       "      <td>1309.090909</td>\n",
       "      <td>NaN</td>\n",
       "      <td>NaN</td>\n",
       "      <td>NaN</td>\n",
       "      <td>http://www.properati.com.ar/15bod_venta_depart...</td>\n",
       "      <td>2 AMBIENTES 3ER PISO LATERAL LIVING COMEDOR AM...</td>\n",
       "      <td>2 AMB 3ER PISO CON ASCENSOR APTO CREDITO</td>\n",
       "      <td>https://thumbs4.properati.com/5/SXKr34F_IwG3W_...</td>\n",
       "    </tr>\n",
       "  </tbody>\n",
       "</table>\n",
       "<p>3 rows × 26 columns</p>\n",
       "</div>"
      ],
      "text/plain": [
       "   Unnamed: 0 operation property_type place_name  \\\n",
       "0           0      sell            PH  Mataderos   \n",
       "1           1      sell     apartment   La Plata   \n",
       "2           2      sell     apartment  Mataderos   \n",
       "\n",
       "                       place_with_parent_names country_name  \\\n",
       "0        |Argentina|Capital Federal|Mataderos|    Argentina   \n",
       "1  |Argentina|Bs.As. G.B.A. Zona Sur|La Plata|    Argentina   \n",
       "2        |Argentina|Capital Federal|Mataderos|    Argentina   \n",
       "\n",
       "               state_name  geonames_id                  lat-lon        lat  \\\n",
       "0         Capital Federal    3430787.0  -34.6618237,-58.5088387 -34.661824   \n",
       "1  Bs.As. G.B.A. Zona Sur    3432039.0  -34.9038831,-57.9643295 -34.903883   \n",
       "2         Capital Federal    3430787.0  -34.6522615,-58.5229825 -34.652262   \n",
       "\n",
       "   ...  surface_covered_in_m2  price_usd_per_m2 price_per_m2  floor  rooms  \\\n",
       "0  ...                   40.0       1127.272727  1550.000000    NaN    NaN   \n",
       "1  ...                    NaN               NaN          NaN    NaN    NaN   \n",
       "2  ...                   55.0       1309.090909  1309.090909    NaN    NaN   \n",
       "\n",
       "   expenses                                      properati_url  \\\n",
       "0       NaN  http://www.properati.com.ar/15bo8_venta_ph_mat...   \n",
       "1       NaN  http://www.properati.com.ar/15bob_venta_depart...   \n",
       "2       NaN  http://www.properati.com.ar/15bod_venta_depart...   \n",
       "\n",
       "                                         description  \\\n",
       "0  2 AMBIENTES TIPO CASA PLANTA BAJA POR PASILLO,...   \n",
       "1  Venta de departamento en décimo piso al frente...   \n",
       "2  2 AMBIENTES 3ER PISO LATERAL LIVING COMEDOR AM...   \n",
       "\n",
       "                                               title  \\\n",
       "0                 2 AMB TIPO CASA SIN EXPENSAS EN PB   \n",
       "1  VENTA Depto 2 dorm. a estrenar 7 e/ 36 y 37   ...   \n",
       "2           2 AMB 3ER PISO CON ASCENSOR APTO CREDITO   \n",
       "\n",
       "                                     image_thumbnail  \n",
       "0  https://thumbs4.properati.com/8/BluUYiHJLhgIIK...  \n",
       "1  https://thumbs4.properati.com/7/ikpVBu2ztHA7jv...  \n",
       "2  https://thumbs4.properati.com/5/SXKr34F_IwG3W_...  \n",
       "\n",
       "[3 rows x 26 columns]"
      ]
     },
     "execution_count": 221,
     "metadata": {},
     "output_type": "execute_result"
    }
   ],
   "source": [
    "# ubicacion del dataset\n",
    "data_location = \"../Data/properatti.csv\"\n",
    "\n",
    "data = pd.read_csv(data_location)\n",
    "\n",
    "#vemos el dataset como esta compuesto\n",
    "\n",
    "data.head(3)"
   ]
  },
  {
   "cell_type": "code",
   "execution_count": 222,
   "id": "quality-disposal",
   "metadata": {},
   "outputs": [
    {
     "name": "stdout",
     "output_type": "stream",
     "text": [
      "cantidad de filas  121220\n",
      "cantidad de columnas  26\n"
     ]
    }
   ],
   "source": [
    "#vemos que cantidad de filas y columnas tiene el dataset\n",
    "\n",
    "print ( \"cantidad de filas \", data.shape[0])\n",
    "print ( \"cantidad de columnas \", data.shape[1])"
   ]
  },
  {
   "cell_type": "code",
   "execution_count": 223,
   "id": "light-madison",
   "metadata": {},
   "outputs": [
    {
     "data": {
      "text/plain": [
       "Unnamed: 0                      int64\n",
       "operation                      object\n",
       "property_type                  object\n",
       "place_name                     object\n",
       "place_with_parent_names        object\n",
       "country_name                   object\n",
       "state_name                     object\n",
       "geonames_id                   float64\n",
       "lat-lon                        object\n",
       "lat                           float64\n",
       "lon                           float64\n",
       "price                         float64\n",
       "currency                       object\n",
       "price_aprox_local_currency    float64\n",
       "price_aprox_usd               float64\n",
       "surface_total_in_m2           float64\n",
       "surface_covered_in_m2         float64\n",
       "price_usd_per_m2              float64\n",
       "price_per_m2                  float64\n",
       "floor                         float64\n",
       "rooms                         float64\n",
       "expenses                      float64\n",
       "properati_url                  object\n",
       "description                    object\n",
       "title                          object\n",
       "image_thumbnail                object\n",
       "dtype: object"
      ]
     },
     "execution_count": 223,
     "metadata": {},
     "output_type": "execute_result"
    }
   ],
   "source": [
    "# vemos que tipo de datos es cada columna\n",
    "\n",
    "data.dtypes"
   ]
  },
  {
   "cell_type": "markdown",
   "id": "consolidated-conviction",
   "metadata": {},
   "source": [
    "### vamos a seleccionar las columnas que nos interesan y borrar las filas duplicadas"
   ]
  },
  {
   "cell_type": "markdown",
   "id": "second-header",
   "metadata": {},
   "source": [
    "- #### primeros valores eliminados (eliminados: 5.251)"
   ]
  },
  {
   "cell_type": "code",
   "execution_count": 224,
   "id": "limiting-paraguay",
   "metadata": {},
   "outputs": [
    {
     "name": "stdout",
     "output_type": "stream",
     "text": [
      "antes teniamos  121220 filas y  26 columnas\n",
      "cantidad de datos duplicados  5251\n",
      "ahora tenemos  115969 filas y  16 columnas\n"
     ]
    }
   ],
   "source": [
    "#vamos a limpiar las columnas q no usamos para luego identificar los duplicados\n",
    "\n",
    "#creamos un nuevo dataset llamado data1 y seleccionamos las columnas que queremos\n",
    "\n",
    "data1 = data[[\"property_type\", \"place_name\", \"place_with_parent_names\", \"state_name\", \"lat-lon\", \"price\", \"currency\", \"price_aprox_local_currency\", \"price_aprox_usd\", \"surface_total_in_m2\", \"surface_covered_in_m2\", \"price_usd_per_m2\", \"price_per_m2\", \"rooms\", \"description\", \"title\"]]\n",
    "\n",
    "print(\"antes teniamos \", data.shape[0], \"filas y \", data.shape[1], \"columnas\")\n",
    "\n",
    "#ahora vamos a identificar los duplicados\n",
    "data1_duplicados = data1.duplicated()\n",
    "print(\"cantidad de datos duplicados \", data1_duplicados.sum())\n",
    "             \n",
    "#ahora con drop duplicate vamos a eliminar los que son True y estan duplicados\n",
    "\n",
    "data1 = data1.drop_duplicates()\n",
    "\n",
    "print(\"ahora tenemos \", data1.shape[0], \"filas y \", data1.shape[1], \"columnas\")"
   ]
  },
  {
   "cell_type": "markdown",
   "id": "located-leone",
   "metadata": {},
   "source": [
    "## Tenemos que analizr bien la columna price usd per m2 ya que es la clave para el trabajo "
   ]
  },
  {
   "cell_type": "markdown",
   "id": "severe-french",
   "metadata": {},
   "source": [
    "- ### empezamos con la cantidad de nulos que tiene el dataset"
   ]
  },
  {
   "cell_type": "code",
   "execution_count": 225,
   "id": "rural-sacrifice",
   "metadata": {},
   "outputs": [
    {
     "name": "stdout",
     "output_type": "stream",
     "text": [
      "*cantidad de nulos* \n",
      "\n",
      "property_type                     0\n",
      "place_name                       23\n",
      "place_with_parent_names           0\n",
      "state_name                        0\n",
      "lat-lon                       48214\n",
      "price                         17435\n",
      "currency                      17436\n",
      "price_aprox_local_currency    17435\n",
      "price_aprox_usd               17435\n",
      "surface_total_in_m2           38375\n",
      "surface_covered_in_m2         18801\n",
      "price_usd_per_m2              49167\n",
      "price_per_m2                  30314\n",
      "rooms                         69899\n",
      "description                       2\n",
      "title                             0\n",
      "dtype: int64 \n",
      "\n",
      "*porcentaje de nulos* \n",
      "\n",
      "property_type                 0.000000\n",
      "place_name                    0.000198\n",
      "place_with_parent_names       0.000000\n",
      "state_name                    0.000000\n",
      "lat-lon                       0.415749\n",
      "price                         0.150342\n",
      "currency                      0.150351\n",
      "price_aprox_local_currency    0.150342\n",
      "price_aprox_usd               0.150342\n",
      "surface_total_in_m2           0.330907\n",
      "surface_covered_in_m2         0.162121\n",
      "price_usd_per_m2              0.423967\n",
      "price_per_m2                  0.261397\n",
      "rooms                         0.602739\n",
      "description                   0.000017\n",
      "title                         0.000000\n",
      "dtype: float64\n"
     ]
    }
   ],
   "source": [
    "#ahora vamos a ver la cantidad de elementos nulos que tiene cada columna\n",
    "data_nulos = data1.isnull()\n",
    "cantidad_nulos = data_nulos.sum()\n",
    "print(\"*cantidad de nulos*\" , '\\n')\n",
    "print(cantidad_nulos, '\\n')\n",
    "\n",
    "#la idea es ver el % de nulos asi sabemos si las columnas sirven o no, o que trabajo tenemos que hacerle a cada una\n",
    "cantidad_registros = data1.shape[0]\n",
    "porcentaje_nulos = cantidad_nulos / cantidad_registros\n",
    "print(\"*porcentaje de nulos*\", '\\n')\n",
    "print(porcentaje_nulos)"
   ]
  },
  {
   "cell_type": "markdown",
   "id": "informal-premium",
   "metadata": {},
   "source": [
    "## vamos a investigar un poco ciertas columnas que nos interesan"
   ]
  },
  {
   "cell_type": "markdown",
   "id": "seeing-fight",
   "metadata": {},
   "source": [
    "- #### Investigamos la columna price_aprox_usd"
   ]
  },
  {
   "cell_type": "code",
   "execution_count": 226,
   "id": "governmental-clock",
   "metadata": {},
   "outputs": [
    {
     "name": "stdout",
     "output_type": "stream",
     "text": [
      "Tamaño columna price ---> 115969 \n",
      "\n",
      "Valores nulos columna price ---> 17435 \n",
      "\n",
      "Valores NO nulos columna price ---> 98534 \n",
      "\n",
      "count    9.853400e+04\n",
      "mean     2.408766e+05\n",
      "std      3.936819e+05\n",
      "min      0.000000e+00\n",
      "25%      9.000000e+04\n",
      "50%      1.450000e+05\n",
      "75%      2.680000e+05\n",
      "max      4.654544e+07\n",
      "Name: price_aprox_usd, dtype: float64\n"
     ]
    }
   ],
   "source": [
    "print('Tamaño columna price --->', data1['price_aprox_usd'].shape[0], '\\n')\n",
    "print('Valores nulos columna price --->', data1['price_aprox_usd'].isnull().sum(), '\\n')\n",
    "print('Valores NO nulos columna price --->', data1['price_aprox_usd'].notnull().sum(), '\\n')\n",
    "print(data1['price_aprox_usd'].describe())"
   ]
  },
  {
   "cell_type": "markdown",
   "id": "italic-desert",
   "metadata": {},
   "source": [
    "- #### Investigamos la columna property_type"
   ]
  },
  {
   "cell_type": "code",
   "execution_count": 227,
   "id": "fantastic-district",
   "metadata": {},
   "outputs": [
    {
     "data": {
      "text/plain": [
       "apartment    66519\n",
       "house        39761\n",
       "PH            5618\n",
       "store         4071\n",
       "Name: property_type, dtype: int64"
      ]
     },
     "execution_count": 227,
     "metadata": {},
     "output_type": "execute_result"
    }
   ],
   "source": [
    "data1['property_type'].value_counts()"
   ]
  },
  {
   "cell_type": "markdown",
   "id": "coral-ensemble",
   "metadata": {},
   "source": [
    "- #### de las 17.435 propiedades nulas, vamos a analizar que tipo de propiedad son para entender mejor "
   ]
  },
  {
   "cell_type": "code",
   "execution_count": 228,
   "id": "turkish-value",
   "metadata": {},
   "outputs": [],
   "source": [
    "# vamos a analizar cada tipo de propiedad\n",
    "\n",
    "price_aprox_usd = data1['price_aprox_usd']\n",
    "property_type_PH = data1['property_type'] == 'PH' \n",
    "PH_price = data1.loc[property_type_PH, 'price_aprox_usd']\n",
    "\n",
    "property_type_apartment = data1['property_type'] == 'apartment' \n",
    "apartment_price = data1.loc[property_type_apartment, 'price_aprox_usd']\n",
    "\n",
    "property_type_house = data1['property_type'] == 'house' \n",
    "house_price = data1.loc[property_type_house, 'price_aprox_usd']\n",
    "\n",
    "property_type_store = data1['property_type'] == 'store' \n",
    "store_price = data1.loc[property_type_store, 'price_aprox_usd']"
   ]
  },
  {
   "cell_type": "code",
   "execution_count": 229,
   "id": "vital-bunny",
   "metadata": {},
   "outputs": [
    {
     "name": "stdout",
     "output_type": "stream",
     "text": [
      "Cantidad de nulos en PH ---> 453 \n",
      "\n",
      "Cantidad de nulos en apartment ---> 8844 \n",
      "\n",
      "Cantidad de nulos en house ---> 7285 \n",
      "\n",
      "Cantidad de nulos en store ---> 853 \n",
      "\n"
     ]
    }
   ],
   "source": [
    "#ahora imprimos la cantidad de nulos para cada tipo de propiedad \n",
    "\n",
    "print('Cantidad de nulos en PH --->', PH_price.isnull().sum(), '\\n')\n",
    "print('Cantidad de nulos en apartment --->', apartment_price.isnull().sum(), '\\n')\n",
    "print('Cantidad de nulos en house --->', house_price.isnull().sum(), '\\n')\n",
    "print('Cantidad de nulos en store --->', store_price.isnull().sum(), '\\n')"
   ]
  },
  {
   "cell_type": "code",
   "execution_count": 230,
   "id": "greenhouse-dispute",
   "metadata": {},
   "outputs": [
    {
     "name": "stdout",
     "output_type": "stream",
     "text": [
      "Cantidad de nulos en PH ---> 0.08063367746529014 \n",
      "\n",
      "Cantidad de nulos en apartment ---> 0.13295449420466332 \n",
      "\n",
      "Cantidad de nulos en house ---> 0.18321973793415658 \n",
      "\n",
      "Cantidad de nulos en store ---> 0.20953082780643575 \n",
      "\n"
     ]
    }
   ],
   "source": [
    "#ahora vemos que % de nulos tiene cada tipo de propiedad \n",
    "\n",
    "print('Cantidad de nulos en PH --->', PH_price.isnull().sum() / PH_price.shape[0] , '\\n')\n",
    "print('Cantidad de nulos en apartment --->', apartment_price.isnull().sum() / apartment_price.shape[0] , '\\n')\n",
    "print('Cantidad de nulos en house --->', house_price.isnull().sum() / house_price.shape[0] , '\\n')\n",
    "print('Cantidad de nulos en store --->', store_price.isnull().sum() / store_price.shape[0] , '\\n')"
   ]
  },
  {
   "cell_type": "markdown",
   "id": "funded-dance",
   "metadata": {},
   "source": [
    "- #### vamos a separar en bins para ver como se agrupan por precio todas las propiedades"
   ]
  },
  {
   "cell_type": "code",
   "execution_count": 231,
   "id": "blind-catalog",
   "metadata": {},
   "outputs": [
    {
     "data": {
      "text/plain": [
       "(-0.001, 90000.0]         25515\n",
       "(268000.0, 46545445.0]    24633\n",
       "(145000.0, 268000.0]      24450\n",
       "(90000.0, 145000.0]       23936\n",
       "Name: price_aprox_usd, dtype: int64"
      ]
     },
     "execution_count": 231,
     "metadata": {},
     "output_type": "execute_result"
    }
   ],
   "source": [
    "#con qcut separamos en 4 bins de misma cantidad de datos, dejando afeura los nulos\n",
    "\n",
    "priceusd_categorias = pd.qcut(data1['price_aprox_usd'], 4)\n",
    "priceusd_categorias.value_counts()"
   ]
  },
  {
   "cell_type": "code",
   "execution_count": 232,
   "id": "worthy-variation",
   "metadata": {},
   "outputs": [
    {
     "data": {
      "text/plain": [
       "False    115968\n",
       "True          1\n",
       "Name: price_aprox_usd, dtype: int64"
      ]
     },
     "execution_count": 232,
     "metadata": {},
     "output_type": "execute_result"
    }
   ],
   "source": [
    "# vemos los valores menores a 1000 usd y cuantos son\n",
    "\n",
    "priceusd_menor_1000 = data1['price_aprox_usd'] < 1000\n",
    "priceusd_menor_1000.value_counts()"
   ]
  },
  {
   "cell_type": "code",
   "execution_count": 233,
   "id": "economic-welding",
   "metadata": {},
   "outputs": [
    {
     "data": {
      "text/html": [
       "<div>\n",
       "<style scoped>\n",
       "    .dataframe tbody tr th:only-of-type {\n",
       "        vertical-align: middle;\n",
       "    }\n",
       "\n",
       "    .dataframe tbody tr th {\n",
       "        vertical-align: top;\n",
       "    }\n",
       "\n",
       "    .dataframe thead th {\n",
       "        text-align: right;\n",
       "    }\n",
       "</style>\n",
       "<table border=\"1\" class=\"dataframe\">\n",
       "  <thead>\n",
       "    <tr style=\"text-align: right;\">\n",
       "      <th></th>\n",
       "      <th>property_type</th>\n",
       "      <th>place_name</th>\n",
       "      <th>place_with_parent_names</th>\n",
       "      <th>state_name</th>\n",
       "      <th>lat-lon</th>\n",
       "      <th>price</th>\n",
       "      <th>currency</th>\n",
       "      <th>price_aprox_local_currency</th>\n",
       "      <th>price_aprox_usd</th>\n",
       "      <th>surface_total_in_m2</th>\n",
       "      <th>surface_covered_in_m2</th>\n",
       "      <th>price_usd_per_m2</th>\n",
       "      <th>price_per_m2</th>\n",
       "      <th>rooms</th>\n",
       "      <th>description</th>\n",
       "      <th>title</th>\n",
       "    </tr>\n",
       "  </thead>\n",
       "  <tbody>\n",
       "    <tr>\n",
       "      <th>9761</th>\n",
       "      <td>house</td>\n",
       "      <td>Córdoba</td>\n",
       "      <td>|Argentina|Córdoba|</td>\n",
       "      <td>Córdoba</td>\n",
       "      <td>4.5458426,-75.67893099</td>\n",
       "      <td>0.0</td>\n",
       "      <td>NaN</td>\n",
       "      <td>0.0</td>\n",
       "      <td>0.0</td>\n",
       "      <td>NaN</td>\n",
       "      <td>NaN</td>\n",
       "      <td>NaN</td>\n",
       "      <td>NaN</td>\n",
       "      <td>3.0</td>\n",
       "      <td>Casa en Venta de 2 dorm. en Armenia</td>\n",
       "      <td>SE VENDE CASA EN EL BARRIO EL LIMONAR</td>\n",
       "    </tr>\n",
       "  </tbody>\n",
       "</table>\n",
       "</div>"
      ],
      "text/plain": [
       "     property_type place_name place_with_parent_names state_name  \\\n",
       "9761         house    Córdoba     |Argentina|Córdoba|    Córdoba   \n",
       "\n",
       "                     lat-lon  price currency  price_aprox_local_currency  \\\n",
       "9761  4.5458426,-75.67893099    0.0      NaN                         0.0   \n",
       "\n",
       "      price_aprox_usd  surface_total_in_m2  surface_covered_in_m2  \\\n",
       "9761              0.0                  NaN                    NaN   \n",
       "\n",
       "      price_usd_per_m2  price_per_m2  rooms  \\\n",
       "9761               NaN           NaN    3.0   \n",
       "\n",
       "                              description  \\\n",
       "9761  Casa en Venta de 2 dorm. en Armenia   \n",
       "\n",
       "                                      title  \n",
       "9761  SE VENDE CASA EN EL BARRIO EL LIMONAR  "
      ]
     },
     "execution_count": 233,
     "metadata": {},
     "output_type": "execute_result"
    }
   ],
   "source": [
    "# buscamos ese dato menos a 1.000 usd para analizarlo\n",
    "\n",
    "dato_menor = data1[priceusd_menor_1000]\n",
    "dato_menor"
   ]
  },
  {
   "cell_type": "markdown",
   "id": "medical-canal",
   "metadata": {},
   "source": [
    "- #### segundos valores elimiandos (eliminados: 1)"
   ]
  },
  {
   "cell_type": "code",
   "execution_count": 234,
   "id": "honest-civilian",
   "metadata": {},
   "outputs": [
    {
     "data": {
      "text/plain": [
       "(115968, 16)"
      ]
     },
     "execution_count": 234,
     "metadata": {},
     "output_type": "execute_result"
    }
   ],
   "source": [
    "#vamos a eliminar ese dato porque no nos aporta nada ya quer no tiene ni precio ni superficie (tampoco esta la info en description)\n",
    "\n",
    "data2 = data1.drop([9761], axis = 0)\n",
    "data2.shape\n",
    "\n",
    "#data2.head(3)"
   ]
  },
  {
   "cell_type": "code",
   "execution_count": 235,
   "id": "korean-police",
   "metadata": {},
   "outputs": [
    {
     "data": {
      "text/plain": [
       "(4666.619, 90000.0]       25514\n",
       "(268000.0, 46545445.0]    24633\n",
       "(145000.0, 268000.0]      24450\n",
       "(90000.0, 145000.0]       23936\n",
       "Name: price_aprox_usd, dtype: int64"
      ]
     },
     "execution_count": 235,
     "metadata": {},
     "output_type": "execute_result"
    }
   ],
   "source": [
    "#vemos ahora los nuevos bins q se armaron \n",
    "\n",
    "priceusd_categorias = pd.qcut(data2['price_aprox_usd'], 4)\n",
    "priceusd_categorias.value_counts()"
   ]
  },
  {
   "cell_type": "code",
   "execution_count": 236,
   "id": "satisfactory-uncle",
   "metadata": {},
   "outputs": [
    {
     "data": {
      "text/plain": [
       "False    115945\n",
       "True         23\n",
       "Name: price_aprox_usd, dtype: int64"
      ]
     },
     "execution_count": 236,
     "metadata": {},
     "output_type": "execute_result"
    }
   ],
   "source": [
    "#ahora analizamos los que son mayores a 7,99mm de usd\n",
    "\n",
    "priceusd_mayor_8m = data2['price_aprox_usd'] > 7999999\n",
    "priceusd_mayor_8m.value_counts()"
   ]
  },
  {
   "cell_type": "code",
   "execution_count": 237,
   "id": "inclusive-dining",
   "metadata": {},
   "outputs": [
    {
     "data": {
      "text/html": [
       "<div>\n",
       "<style scoped>\n",
       "    .dataframe tbody tr th:only-of-type {\n",
       "        vertical-align: middle;\n",
       "    }\n",
       "\n",
       "    .dataframe tbody tr th {\n",
       "        vertical-align: top;\n",
       "    }\n",
       "\n",
       "    .dataframe thead th {\n",
       "        text-align: right;\n",
       "    }\n",
       "</style>\n",
       "<table border=\"1\" class=\"dataframe\">\n",
       "  <thead>\n",
       "    <tr style=\"text-align: right;\">\n",
       "      <th></th>\n",
       "      <th>property_type</th>\n",
       "      <th>place_name</th>\n",
       "      <th>place_with_parent_names</th>\n",
       "      <th>state_name</th>\n",
       "      <th>lat-lon</th>\n",
       "      <th>price</th>\n",
       "      <th>currency</th>\n",
       "      <th>price_aprox_local_currency</th>\n",
       "      <th>price_aprox_usd</th>\n",
       "      <th>surface_total_in_m2</th>\n",
       "      <th>surface_covered_in_m2</th>\n",
       "      <th>price_usd_per_m2</th>\n",
       "      <th>price_per_m2</th>\n",
       "      <th>rooms</th>\n",
       "      <th>description</th>\n",
       "      <th>title</th>\n",
       "    </tr>\n",
       "  </thead>\n",
       "  <tbody>\n",
       "    <tr>\n",
       "      <th>525</th>\n",
       "      <td>house</td>\n",
       "      <td>Acassuso</td>\n",
       "      <td>|Argentina|Bs.As. G.B.A. Zona Norte|San Isidro...</td>\n",
       "      <td>Bs.As. G.B.A. Zona Norte</td>\n",
       "      <td>NaN</td>\n",
       "      <td>11000000.0</td>\n",
       "      <td>USD</td>\n",
       "      <td>1.940895e+08</td>\n",
       "      <td>11000000.00</td>\n",
       "      <td>7500.0</td>\n",
       "      <td>1800.0</td>\n",
       "      <td>1466.666667</td>\n",
       "      <td>6111.111111</td>\n",
       "      <td>NaN</td>\n",
       "      <td>Total vista al rÃ­o. Sobre 7500 m2 de parque a...</td>\n",
       "      <td>Casa 7500m² con Dependencias en Garay, Juan De...</td>\n",
       "    </tr>\n",
       "    <tr>\n",
       "      <th>11349</th>\n",
       "      <td>house</td>\n",
       "      <td>Capital Federal</td>\n",
       "      <td>|Argentina|Capital Federal|</td>\n",
       "      <td>Capital Federal</td>\n",
       "      <td>NaN</td>\n",
       "      <td>8500000.0</td>\n",
       "      <td>USD</td>\n",
       "      <td>1.499782e+08</td>\n",
       "      <td>8500000.00</td>\n",
       "      <td>7832.0</td>\n",
       "      <td>4111.0</td>\n",
       "      <td>1085.291113</td>\n",
       "      <td>2067.623449</td>\n",
       "      <td>NaN</td>\n",
       "      <td>Sobre 7832m2 de lote existen 4111m2 cubiertas ...</td>\n",
       "      <td>Casa 7832m² con Dependencias en Don Bosco 3400...</td>\n",
       "    </tr>\n",
       "    <tr>\n",
       "      <th>24548</th>\n",
       "      <td>apartment</td>\n",
       "      <td>San Telmo</td>\n",
       "      <td>|Argentina|Capital Federal|San Telmo|</td>\n",
       "      <td>Capital Federal</td>\n",
       "      <td>-34.6213421,-58.3741846</td>\n",
       "      <td>46545445.0</td>\n",
       "      <td>USD</td>\n",
       "      <td>8.212711e+08</td>\n",
       "      <td>46545445.00</td>\n",
       "      <td>200000.0</td>\n",
       "      <td>NaN</td>\n",
       "      <td>232.727225</td>\n",
       "      <td>NaN</td>\n",
       "      <td>3.0</td>\n",
       "      <td>dsdffhghvcvbcdfdfghdfhghkjhkhjklhjkfgvghfghnfg...</td>\n",
       "      <td>Departamento venta</td>\n",
       "    </tr>\n",
       "    <tr>\n",
       "      <th>34638</th>\n",
       "      <td>house</td>\n",
       "      <td>Olivos</td>\n",
       "      <td>|Argentina|Bs.As. G.B.A. Zona Norte|Vicente Ló...</td>\n",
       "      <td>Bs.As. G.B.A. Zona Norte</td>\n",
       "      <td>NaN</td>\n",
       "      <td>14000000.0</td>\n",
       "      <td>USD</td>\n",
       "      <td>2.470230e+08</td>\n",
       "      <td>14000000.00</td>\n",
       "      <td>2079.0</td>\n",
       "      <td>NaN</td>\n",
       "      <td>6734.006734</td>\n",
       "      <td>NaN</td>\n",
       "      <td>NaN</td>\n",
       "      <td>Excelente zona. Cerca de la Quinat Presidencia...</td>\n",
       "      <td>Casa 2079m² en Del Libertador, Av. 2200, Vicen...</td>\n",
       "    </tr>\n",
       "    <tr>\n",
       "      <th>44684</th>\n",
       "      <td>apartment</td>\n",
       "      <td>Palermo Chico</td>\n",
       "      <td>|Argentina|Capital Federal|Palermo|Palermo Chico|</td>\n",
       "      <td>Capital Federal</td>\n",
       "      <td>-34.5789246,-58.4013987</td>\n",
       "      <td>8000000.0</td>\n",
       "      <td>USD</td>\n",
       "      <td>1.411560e+08</td>\n",
       "      <td>8000000.00</td>\n",
       "      <td>410.0</td>\n",
       "      <td>410.0</td>\n",
       "      <td>19512.195122</td>\n",
       "      <td>19512.195122</td>\n",
       "      <td>5.0</td>\n",
       "      <td>CONTACTO: MARTIN PINUS 15- EXCELENTISIMA PROPI...</td>\n",
       "      <td>LE PARC ALCORTA - PISO MUY ALTO DE 410 M2 CON ...</td>\n",
       "    </tr>\n",
       "    <tr>\n",
       "      <th>44685</th>\n",
       "      <td>apartment</td>\n",
       "      <td>Palermo Chico</td>\n",
       "      <td>|Argentina|Capital Federal|Palermo|Palermo Chico|</td>\n",
       "      <td>Capital Federal</td>\n",
       "      <td>-34.5789246,-58.4013987</td>\n",
       "      <td>8500000.0</td>\n",
       "      <td>USD</td>\n",
       "      <td>1.499782e+08</td>\n",
       "      <td>8500000.00</td>\n",
       "      <td>410.0</td>\n",
       "      <td>410.0</td>\n",
       "      <td>20731.707317</td>\n",
       "      <td>20731.707317</td>\n",
       "      <td>5.0</td>\n",
       "      <td>CONTACTO: MARTIN PINUS 15- EXCELENTISIMA PROPI...</td>\n",
       "      <td>LE PARC ALCORTA - PISO MUY ALTO DE 410 M2 CON ...</td>\n",
       "    </tr>\n",
       "    <tr>\n",
       "      <th>45689</th>\n",
       "      <td>house</td>\n",
       "      <td>Rosario</td>\n",
       "      <td>|Argentina|Santa Fe|Rosario|</td>\n",
       "      <td>Santa Fe</td>\n",
       "      <td>-32.933983,-60.7319772</td>\n",
       "      <td>11111111.0</td>\n",
       "      <td>USD</td>\n",
       "      <td>1.960500e+08</td>\n",
       "      <td>11111111.00</td>\n",
       "      <td>304.0</td>\n",
       "      <td>149.0</td>\n",
       "      <td>36549.707237</td>\n",
       "      <td>74571.214765</td>\n",
       "      <td>NaN</td>\n",
       "      <td>CODIGO: 2062-670 ubicado en: URQUIZA 7900 -  P...</td>\n",
       "      <td>VENTA CASA AL FRENTE. 3 DORMITORIOS. 2 BAÑOS. ...</td>\n",
       "    </tr>\n",
       "    <tr>\n",
       "      <th>49083</th>\n",
       "      <td>house</td>\n",
       "      <td>San Carlos de Bariloche</td>\n",
       "      <td>|Argentina|Río Negro|San Carlos de Bariloche|S...</td>\n",
       "      <td>Río Negro</td>\n",
       "      <td>NaN</td>\n",
       "      <td>15500000.0</td>\n",
       "      <td>USD</td>\n",
       "      <td>2.734898e+08</td>\n",
       "      <td>15500000.00</td>\n",
       "      <td>NaN</td>\n",
       "      <td>NaN</td>\n",
       "      <td>NaN</td>\n",
       "      <td>NaN</td>\n",
       "      <td>NaN</td>\n",
       "      <td>CODIGO: 1092-vta-angostura ubicado en: Villa L...</td>\n",
       "      <td>CASTILLO DE 1500 MTS CON VISTA AL LAGO,CASA DE...</td>\n",
       "    </tr>\n",
       "    <tr>\n",
       "      <th>55319</th>\n",
       "      <td>house</td>\n",
       "      <td>Acassuso</td>\n",
       "      <td>|Argentina|Bs.As. G.B.A. Zona Norte|San Isidro...</td>\n",
       "      <td>Bs.As. G.B.A. Zona Norte</td>\n",
       "      <td>-34.4722088,-58.4996791</td>\n",
       "      <td>9900000.0</td>\n",
       "      <td>USD</td>\n",
       "      <td>1.746806e+08</td>\n",
       "      <td>9900000.00</td>\n",
       "      <td>1000.0</td>\n",
       "      <td>1000.0</td>\n",
       "      <td>9900.000000</td>\n",
       "      <td>9900.000000</td>\n",
       "      <td>NaN</td>\n",
       "      <td>Casa importante en lote privilegiado con vista...</td>\n",
       "      <td>Casa importante en lote privilegiado con vista...</td>\n",
       "    </tr>\n",
       "    <tr>\n",
       "      <th>57907</th>\n",
       "      <td>house</td>\n",
       "      <td>San Isidro</td>\n",
       "      <td>|Argentina|Bs.As. G.B.A. Zona Norte|San Isidro...</td>\n",
       "      <td>Bs.As. G.B.A. Zona Norte</td>\n",
       "      <td>-34.4877803,-58.5557866</td>\n",
       "      <td>8500000.0</td>\n",
       "      <td>USD</td>\n",
       "      <td>1.499782e+08</td>\n",
       "      <td>8500000.00</td>\n",
       "      <td>NaN</td>\n",
       "      <td>4111.0</td>\n",
       "      <td>NaN</td>\n",
       "      <td>2067.623449</td>\n",
       "      <td>NaN</td>\n",
       "      <td>Sobre 7832m2 de lote existen 4111m2 cubiertas ...</td>\n",
       "      <td>DON BOSCO 3400</td>\n",
       "    </tr>\n",
       "    <tr>\n",
       "      <th>66045</th>\n",
       "      <td>store</td>\n",
       "      <td>Boca</td>\n",
       "      <td>|Argentina|Capital Federal|Boca|</td>\n",
       "      <td>Capital Federal</td>\n",
       "      <td>-34.6443487086,-58.3654248049</td>\n",
       "      <td>8000000.0</td>\n",
       "      <td>USD</td>\n",
       "      <td>1.411560e+08</td>\n",
       "      <td>8000000.00</td>\n",
       "      <td>7722.0</td>\n",
       "      <td>7722.0</td>\n",
       "      <td>1036.001036</td>\n",
       "      <td>1036.001036</td>\n",
       "      <td>NaN</td>\n",
       "      <td>C.A.B.A - Boca - PRECIO A CONSULTAR - CÓDIGO 0...</td>\n",
       "      <td>Venta con RENTA. Espectacular depósito premium</td>\n",
       "    </tr>\n",
       "    <tr>\n",
       "      <th>67528</th>\n",
       "      <td>store</td>\n",
       "      <td>Beccar</td>\n",
       "      <td>|Argentina|Bs.As. G.B.A. Zona Norte|San Isidro...</td>\n",
       "      <td>Bs.As. G.B.A. Zona Norte</td>\n",
       "      <td>NaN</td>\n",
       "      <td>8000000.0</td>\n",
       "      <td>USD</td>\n",
       "      <td>1.411560e+08</td>\n",
       "      <td>8000000.00</td>\n",
       "      <td>13200.0</td>\n",
       "      <td>13200.0</td>\n",
       "      <td>606.060606</td>\n",
       "      <td>606.060606</td>\n",
       "      <td>NaN</td>\n",
       "      <td>Excepcional Planta Industrial  -  Partido de S...</td>\n",
       "      <td>Excepcional Planta Industrial totalmente refac...</td>\n",
       "    </tr>\n",
       "    <tr>\n",
       "      <th>67690</th>\n",
       "      <td>store</td>\n",
       "      <td>Moreno</td>\n",
       "      <td>|Argentina|Bs.As. G.B.A. Zona Oeste|Moreno|Mor...</td>\n",
       "      <td>Bs.As. G.B.A. Zona Oeste</td>\n",
       "      <td>-34.5676494,-58.8491775</td>\n",
       "      <td>9000000.0</td>\n",
       "      <td>USD</td>\n",
       "      <td>1.588005e+08</td>\n",
       "      <td>9000000.00</td>\n",
       "      <td>NaN</td>\n",
       "      <td>13000.0</td>\n",
       "      <td>NaN</td>\n",
       "      <td>692.307692</td>\n",
       "      <td>NaN</td>\n",
       "      <td>Moreno - CÓDIGO 0167Excelente Inmueble Industr...</td>\n",
       "      <td>Excelente Inmueble Industrial de 13.000 m2</td>\n",
       "    </tr>\n",
       "    <tr>\n",
       "      <th>69115</th>\n",
       "      <td>store</td>\n",
       "      <td>Villa Soldati</td>\n",
       "      <td>|Argentina|Capital Federal|Villa Soldati|</td>\n",
       "      <td>Capital Federal</td>\n",
       "      <td>-34.6601221702,-58.4302513174</td>\n",
       "      <td>8500000.0</td>\n",
       "      <td>USD</td>\n",
       "      <td>1.499782e+08</td>\n",
       "      <td>8500000.00</td>\n",
       "      <td>10958.0</td>\n",
       "      <td>10958.0</td>\n",
       "      <td>775.688994</td>\n",
       "      <td>775.688994</td>\n",
       "      <td>NaN</td>\n",
       "      <td>C.A.B.A - Villa Soldati - CÓDIGO 0146Excelente...</td>\n",
       "      <td>Excelente Nave Industrial de 10.960 m2 sobre t...</td>\n",
       "    </tr>\n",
       "    <tr>\n",
       "      <th>73029</th>\n",
       "      <td>apartment</td>\n",
       "      <td>Palermo</td>\n",
       "      <td>|Argentina|Capital Federal|Palermo|</td>\n",
       "      <td>Capital Federal</td>\n",
       "      <td>NaN</td>\n",
       "      <td>8000000.0</td>\n",
       "      <td>USD</td>\n",
       "      <td>1.411560e+08</td>\n",
       "      <td>8000000.00</td>\n",
       "      <td>800.0</td>\n",
       "      <td>NaN</td>\n",
       "      <td>10000.000000</td>\n",
       "      <td>NaN</td>\n",
       "      <td>NaN</td>\n",
       "      <td>VENTA DEPARTAMENTO PISO DE 2 UNIDADES ANEXADAS...</td>\n",
       "      <td>Departamento en Palermo</td>\n",
       "    </tr>\n",
       "    <tr>\n",
       "      <th>84400</th>\n",
       "      <td>store</td>\n",
       "      <td>Bs.As. G.B.A. Zona Norte</td>\n",
       "      <td>|Argentina|Bs.As. G.B.A. Zona Norte|</td>\n",
       "      <td>Bs.As. G.B.A. Zona Norte</td>\n",
       "      <td>NaN</td>\n",
       "      <td>13000000.0</td>\n",
       "      <td>USD</td>\n",
       "      <td>2.293785e+08</td>\n",
       "      <td>13000000.00</td>\n",
       "      <td>NaN</td>\n",
       "      <td>NaN</td>\n",
       "      <td>NaN</td>\n",
       "      <td>NaN</td>\n",
       "      <td>NaN</td>\n",
       "      <td>AL VALOR PUBLICADO DEBERÁ ADICIONÁRSELE EL IMP...</td>\n",
       "      <td>Playa vehicular en venta-alquiler- Zarate</td>\n",
       "    </tr>\n",
       "    <tr>\n",
       "      <th>91229</th>\n",
       "      <td>house</td>\n",
       "      <td>Punilla</td>\n",
       "      <td>|Argentina|Córdoba|Punilla|</td>\n",
       "      <td>Córdoba</td>\n",
       "      <td>NaN</td>\n",
       "      <td>14000000.0</td>\n",
       "      <td>USD</td>\n",
       "      <td>2.470230e+08</td>\n",
       "      <td>14000000.00</td>\n",
       "      <td>NaN</td>\n",
       "      <td>NaN</td>\n",
       "      <td>NaN</td>\n",
       "      <td>NaN</td>\n",
       "      <td>NaN</td>\n",
       "      <td>Casa con Agua Corriente, Córdoba, Punilla, por...</td>\n",
       "      <td>Casa - Villa Carlos Paz</td>\n",
       "    </tr>\n",
       "    <tr>\n",
       "      <th>91289</th>\n",
       "      <td>house</td>\n",
       "      <td>Punilla</td>\n",
       "      <td>|Argentina|Córdoba|Punilla|</td>\n",
       "      <td>Córdoba</td>\n",
       "      <td>NaN</td>\n",
       "      <td>16000000.0</td>\n",
       "      <td>USD</td>\n",
       "      <td>2.823120e+08</td>\n",
       "      <td>16000000.00</td>\n",
       "      <td>NaN</td>\n",
       "      <td>NaN</td>\n",
       "      <td>NaN</td>\n",
       "      <td>NaN</td>\n",
       "      <td>NaN</td>\n",
       "      <td>En Bv Artigas 876 , Parque Jardín, La Falda .A...</td>\n",
       "      <td>Casa - La Falda</td>\n",
       "    </tr>\n",
       "    <tr>\n",
       "      <th>91428</th>\n",
       "      <td>house</td>\n",
       "      <td>Punilla</td>\n",
       "      <td>|Argentina|Córdoba|Punilla|</td>\n",
       "      <td>Córdoba</td>\n",
       "      <td>NaN</td>\n",
       "      <td>14700000.0</td>\n",
       "      <td>USD</td>\n",
       "      <td>2.593742e+08</td>\n",
       "      <td>14700000.00</td>\n",
       "      <td>NaN</td>\n",
       "      <td>NaN</td>\n",
       "      <td>NaN</td>\n",
       "      <td>NaN</td>\n",
       "      <td>NaN</td>\n",
       "      <td>\\tCECILIA INMUEBLES OFRECE:APTO CREDITO HIPOTE...</td>\n",
       "      <td>Casa - Parque Siquiman</td>\n",
       "    </tr>\n",
       "    <tr>\n",
       "      <th>91468</th>\n",
       "      <td>house</td>\n",
       "      <td>Punilla</td>\n",
       "      <td>|Argentina|Córdoba|Punilla|</td>\n",
       "      <td>Córdoba</td>\n",
       "      <td>NaN</td>\n",
       "      <td>25000000.0</td>\n",
       "      <td>USD</td>\n",
       "      <td>4.411125e+08</td>\n",
       "      <td>25000000.00</td>\n",
       "      <td>NaN</td>\n",
       "      <td>NaN</td>\n",
       "      <td>NaN</td>\n",
       "      <td>NaN</td>\n",
       "      <td>NaN</td>\n",
       "      <td>Casa con Agua Corriente, Córdoba, Punilla, por...</td>\n",
       "      <td>Casa - Parque Siquiman</td>\n",
       "    </tr>\n",
       "    <tr>\n",
       "      <th>91479</th>\n",
       "      <td>house</td>\n",
       "      <td>Punilla</td>\n",
       "      <td>|Argentina|Córdoba|Punilla|</td>\n",
       "      <td>Córdoba</td>\n",
       "      <td>NaN</td>\n",
       "      <td>19500000.0</td>\n",
       "      <td>USD</td>\n",
       "      <td>3.440678e+08</td>\n",
       "      <td>19500000.00</td>\n",
       "      <td>NaN</td>\n",
       "      <td>NaN</td>\n",
       "      <td>NaN</td>\n",
       "      <td>NaN</td>\n",
       "      <td>NaN</td>\n",
       "      <td>\\tCECILIA INMUEBLES OFRECE:INCREIBLE PROPIEDAD...</td>\n",
       "      <td>Casa - Parque Siquiman</td>\n",
       "    </tr>\n",
       "    <tr>\n",
       "      <th>107390</th>\n",
       "      <td>house</td>\n",
       "      <td>San Roque</td>\n",
       "      <td>|Argentina|Mendoza|San Roque|</td>\n",
       "      <td>Mendoza</td>\n",
       "      <td>NaN</td>\n",
       "      <td>650000000.0</td>\n",
       "      <td>UYU</td>\n",
       "      <td>4.054773e+08</td>\n",
       "      <td>22980378.29</td>\n",
       "      <td>NaN</td>\n",
       "      <td>NaN</td>\n",
       "      <td>NaN</td>\n",
       "      <td>NaN</td>\n",
       "      <td>NaN</td>\n",
       "      <td>Casa con Calefacción central, Mendoza, San Roq...</td>\n",
       "      <td>Casa - San Vicente</td>\n",
       "    </tr>\n",
       "    <tr>\n",
       "      <th>114131</th>\n",
       "      <td>house</td>\n",
       "      <td>Ituzaingó</td>\n",
       "      <td>|Argentina|Bs.As. G.B.A. Zona Oeste|Ituzaingó|</td>\n",
       "      <td>Bs.As. G.B.A. Zona Oeste</td>\n",
       "      <td>-34.6571706,-58.6826249</td>\n",
       "      <td>12000000.0</td>\n",
       "      <td>USD</td>\n",
       "      <td>2.117340e+08</td>\n",
       "      <td>12000000.00</td>\n",
       "      <td>150.0</td>\n",
       "      <td>85.0</td>\n",
       "      <td>80000.000000</td>\n",
       "      <td>141176.470588</td>\n",
       "      <td>NaN</td>\n",
       "      <td>CODIGO:  ubicado en: MONSEÑOR TERRERO , Ituzai...</td>\n",
       "      <td>MONSEÑOR TERRERO , Ituzaingó, Buenos Aires.</td>\n",
       "    </tr>\n",
       "  </tbody>\n",
       "</table>\n",
       "</div>"
      ],
      "text/plain": [
       "       property_type                place_name  \\\n",
       "525            house                  Acassuso   \n",
       "11349          house           Capital Federal   \n",
       "24548      apartment                 San Telmo   \n",
       "34638          house                    Olivos   \n",
       "44684      apartment             Palermo Chico   \n",
       "44685      apartment             Palermo Chico   \n",
       "45689          house                   Rosario   \n",
       "49083          house   San Carlos de Bariloche   \n",
       "55319          house                  Acassuso   \n",
       "57907          house                San Isidro   \n",
       "66045          store                      Boca   \n",
       "67528          store                    Beccar   \n",
       "67690          store                    Moreno   \n",
       "69115          store             Villa Soldati   \n",
       "73029      apartment                   Palermo   \n",
       "84400          store  Bs.As. G.B.A. Zona Norte   \n",
       "91229          house                   Punilla   \n",
       "91289          house                   Punilla   \n",
       "91428          house                   Punilla   \n",
       "91468          house                   Punilla   \n",
       "91479          house                   Punilla   \n",
       "107390         house                 San Roque   \n",
       "114131         house                 Ituzaingó   \n",
       "\n",
       "                                  place_with_parent_names  \\\n",
       "525     |Argentina|Bs.As. G.B.A. Zona Norte|San Isidro...   \n",
       "11349                         |Argentina|Capital Federal|   \n",
       "24548               |Argentina|Capital Federal|San Telmo|   \n",
       "34638   |Argentina|Bs.As. G.B.A. Zona Norte|Vicente Ló...   \n",
       "44684   |Argentina|Capital Federal|Palermo|Palermo Chico|   \n",
       "44685   |Argentina|Capital Federal|Palermo|Palermo Chico|   \n",
       "45689                        |Argentina|Santa Fe|Rosario|   \n",
       "49083   |Argentina|Río Negro|San Carlos de Bariloche|S...   \n",
       "55319   |Argentina|Bs.As. G.B.A. Zona Norte|San Isidro...   \n",
       "57907   |Argentina|Bs.As. G.B.A. Zona Norte|San Isidro...   \n",
       "66045                    |Argentina|Capital Federal|Boca|   \n",
       "67528   |Argentina|Bs.As. G.B.A. Zona Norte|San Isidro...   \n",
       "67690   |Argentina|Bs.As. G.B.A. Zona Oeste|Moreno|Mor...   \n",
       "69115           |Argentina|Capital Federal|Villa Soldati|   \n",
       "73029                 |Argentina|Capital Federal|Palermo|   \n",
       "84400                |Argentina|Bs.As. G.B.A. Zona Norte|   \n",
       "91229                         |Argentina|Córdoba|Punilla|   \n",
       "91289                         |Argentina|Córdoba|Punilla|   \n",
       "91428                         |Argentina|Córdoba|Punilla|   \n",
       "91468                         |Argentina|Córdoba|Punilla|   \n",
       "91479                         |Argentina|Córdoba|Punilla|   \n",
       "107390                      |Argentina|Mendoza|San Roque|   \n",
       "114131     |Argentina|Bs.As. G.B.A. Zona Oeste|Ituzaingó|   \n",
       "\n",
       "                      state_name                        lat-lon        price  \\\n",
       "525     Bs.As. G.B.A. Zona Norte                            NaN   11000000.0   \n",
       "11349            Capital Federal                            NaN    8500000.0   \n",
       "24548            Capital Federal        -34.6213421,-58.3741846   46545445.0   \n",
       "34638   Bs.As. G.B.A. Zona Norte                            NaN   14000000.0   \n",
       "44684            Capital Federal        -34.5789246,-58.4013987    8000000.0   \n",
       "44685            Capital Federal        -34.5789246,-58.4013987    8500000.0   \n",
       "45689                   Santa Fe         -32.933983,-60.7319772   11111111.0   \n",
       "49083                  Río Negro                            NaN   15500000.0   \n",
       "55319   Bs.As. G.B.A. Zona Norte        -34.4722088,-58.4996791    9900000.0   \n",
       "57907   Bs.As. G.B.A. Zona Norte        -34.4877803,-58.5557866    8500000.0   \n",
       "66045            Capital Federal  -34.6443487086,-58.3654248049    8000000.0   \n",
       "67528   Bs.As. G.B.A. Zona Norte                            NaN    8000000.0   \n",
       "67690   Bs.As. G.B.A. Zona Oeste        -34.5676494,-58.8491775    9000000.0   \n",
       "69115            Capital Federal  -34.6601221702,-58.4302513174    8500000.0   \n",
       "73029            Capital Federal                            NaN    8000000.0   \n",
       "84400   Bs.As. G.B.A. Zona Norte                            NaN   13000000.0   \n",
       "91229                    Córdoba                            NaN   14000000.0   \n",
       "91289                    Córdoba                            NaN   16000000.0   \n",
       "91428                    Córdoba                            NaN   14700000.0   \n",
       "91468                    Córdoba                            NaN   25000000.0   \n",
       "91479                    Córdoba                            NaN   19500000.0   \n",
       "107390                   Mendoza                            NaN  650000000.0   \n",
       "114131  Bs.As. G.B.A. Zona Oeste        -34.6571706,-58.6826249   12000000.0   \n",
       "\n",
       "       currency  price_aprox_local_currency  price_aprox_usd  \\\n",
       "525         USD                1.940895e+08      11000000.00   \n",
       "11349       USD                1.499782e+08       8500000.00   \n",
       "24548       USD                8.212711e+08      46545445.00   \n",
       "34638       USD                2.470230e+08      14000000.00   \n",
       "44684       USD                1.411560e+08       8000000.00   \n",
       "44685       USD                1.499782e+08       8500000.00   \n",
       "45689       USD                1.960500e+08      11111111.00   \n",
       "49083       USD                2.734898e+08      15500000.00   \n",
       "55319       USD                1.746806e+08       9900000.00   \n",
       "57907       USD                1.499782e+08       8500000.00   \n",
       "66045       USD                1.411560e+08       8000000.00   \n",
       "67528       USD                1.411560e+08       8000000.00   \n",
       "67690       USD                1.588005e+08       9000000.00   \n",
       "69115       USD                1.499782e+08       8500000.00   \n",
       "73029       USD                1.411560e+08       8000000.00   \n",
       "84400       USD                2.293785e+08      13000000.00   \n",
       "91229       USD                2.470230e+08      14000000.00   \n",
       "91289       USD                2.823120e+08      16000000.00   \n",
       "91428       USD                2.593742e+08      14700000.00   \n",
       "91468       USD                4.411125e+08      25000000.00   \n",
       "91479       USD                3.440678e+08      19500000.00   \n",
       "107390      UYU                4.054773e+08      22980378.29   \n",
       "114131      USD                2.117340e+08      12000000.00   \n",
       "\n",
       "        surface_total_in_m2  surface_covered_in_m2  price_usd_per_m2  \\\n",
       "525                  7500.0                 1800.0       1466.666667   \n",
       "11349                7832.0                 4111.0       1085.291113   \n",
       "24548              200000.0                    NaN        232.727225   \n",
       "34638                2079.0                    NaN       6734.006734   \n",
       "44684                 410.0                  410.0      19512.195122   \n",
       "44685                 410.0                  410.0      20731.707317   \n",
       "45689                 304.0                  149.0      36549.707237   \n",
       "49083                   NaN                    NaN               NaN   \n",
       "55319                1000.0                 1000.0       9900.000000   \n",
       "57907                   NaN                 4111.0               NaN   \n",
       "66045                7722.0                 7722.0       1036.001036   \n",
       "67528               13200.0                13200.0        606.060606   \n",
       "67690                   NaN                13000.0               NaN   \n",
       "69115               10958.0                10958.0        775.688994   \n",
       "73029                 800.0                    NaN      10000.000000   \n",
       "84400                   NaN                    NaN               NaN   \n",
       "91229                   NaN                    NaN               NaN   \n",
       "91289                   NaN                    NaN               NaN   \n",
       "91428                   NaN                    NaN               NaN   \n",
       "91468                   NaN                    NaN               NaN   \n",
       "91479                   NaN                    NaN               NaN   \n",
       "107390                  NaN                    NaN               NaN   \n",
       "114131                150.0                   85.0      80000.000000   \n",
       "\n",
       "         price_per_m2  rooms  \\\n",
       "525       6111.111111    NaN   \n",
       "11349     2067.623449    NaN   \n",
       "24548             NaN    3.0   \n",
       "34638             NaN    NaN   \n",
       "44684    19512.195122    5.0   \n",
       "44685    20731.707317    5.0   \n",
       "45689    74571.214765    NaN   \n",
       "49083             NaN    NaN   \n",
       "55319     9900.000000    NaN   \n",
       "57907     2067.623449    NaN   \n",
       "66045     1036.001036    NaN   \n",
       "67528      606.060606    NaN   \n",
       "67690      692.307692    NaN   \n",
       "69115      775.688994    NaN   \n",
       "73029             NaN    NaN   \n",
       "84400             NaN    NaN   \n",
       "91229             NaN    NaN   \n",
       "91289             NaN    NaN   \n",
       "91428             NaN    NaN   \n",
       "91468             NaN    NaN   \n",
       "91479             NaN    NaN   \n",
       "107390            NaN    NaN   \n",
       "114131  141176.470588    NaN   \n",
       "\n",
       "                                              description  \\\n",
       "525     Total vista al rÃ­o. Sobre 7500 m2 de parque a...   \n",
       "11349   Sobre 7832m2 de lote existen 4111m2 cubiertas ...   \n",
       "24548   dsdffhghvcvbcdfdfghdfhghkjhkhjklhjkfgvghfghnfg...   \n",
       "34638   Excelente zona. Cerca de la Quinat Presidencia...   \n",
       "44684   CONTACTO: MARTIN PINUS 15- EXCELENTISIMA PROPI...   \n",
       "44685   CONTACTO: MARTIN PINUS 15- EXCELENTISIMA PROPI...   \n",
       "45689   CODIGO: 2062-670 ubicado en: URQUIZA 7900 -  P...   \n",
       "49083   CODIGO: 1092-vta-angostura ubicado en: Villa L...   \n",
       "55319   Casa importante en lote privilegiado con vista...   \n",
       "57907   Sobre 7832m2 de lote existen 4111m2 cubiertas ...   \n",
       "66045   C.A.B.A - Boca - PRECIO A CONSULTAR - CÓDIGO 0...   \n",
       "67528   Excepcional Planta Industrial  -  Partido de S...   \n",
       "67690   Moreno - CÓDIGO 0167Excelente Inmueble Industr...   \n",
       "69115   C.A.B.A - Villa Soldati - CÓDIGO 0146Excelente...   \n",
       "73029   VENTA DEPARTAMENTO PISO DE 2 UNIDADES ANEXADAS...   \n",
       "84400   AL VALOR PUBLICADO DEBERÁ ADICIONÁRSELE EL IMP...   \n",
       "91229   Casa con Agua Corriente, Córdoba, Punilla, por...   \n",
       "91289   En Bv Artigas 876 , Parque Jardín, La Falda .A...   \n",
       "91428   \\tCECILIA INMUEBLES OFRECE:APTO CREDITO HIPOTE...   \n",
       "91468   Casa con Agua Corriente, Córdoba, Punilla, por...   \n",
       "91479   \\tCECILIA INMUEBLES OFRECE:INCREIBLE PROPIEDAD...   \n",
       "107390  Casa con Calefacción central, Mendoza, San Roq...   \n",
       "114131  CODIGO:  ubicado en: MONSEÑOR TERRERO , Ituzai...   \n",
       "\n",
       "                                                    title  \n",
       "525     Casa 7500m² con Dependencias en Garay, Juan De...  \n",
       "11349   Casa 7832m² con Dependencias en Don Bosco 3400...  \n",
       "24548                                  Departamento venta  \n",
       "34638   Casa 2079m² en Del Libertador, Av. 2200, Vicen...  \n",
       "44684   LE PARC ALCORTA - PISO MUY ALTO DE 410 M2 CON ...  \n",
       "44685   LE PARC ALCORTA - PISO MUY ALTO DE 410 M2 CON ...  \n",
       "45689   VENTA CASA AL FRENTE. 3 DORMITORIOS. 2 BAÑOS. ...  \n",
       "49083   CASTILLO DE 1500 MTS CON VISTA AL LAGO,CASA DE...  \n",
       "55319   Casa importante en lote privilegiado con vista...  \n",
       "57907                                      DON BOSCO 3400  \n",
       "66045      Venta con RENTA. Espectacular depósito premium  \n",
       "67528   Excepcional Planta Industrial totalmente refac...  \n",
       "67690          Excelente Inmueble Industrial de 13.000 m2  \n",
       "69115   Excelente Nave Industrial de 10.960 m2 sobre t...  \n",
       "73029                             Departamento en Palermo  \n",
       "84400           Playa vehicular en venta-alquiler- Zarate  \n",
       "91229                             Casa - Villa Carlos Paz  \n",
       "91289                                     Casa - La Falda  \n",
       "91428                              Casa - Parque Siquiman  \n",
       "91468                              Casa - Parque Siquiman  \n",
       "91479                              Casa - Parque Siquiman  \n",
       "107390                                 Casa - San Vicente  \n",
       "114131        MONSEÑOR TERRERO , Ituzaingó, Buenos Aires.  "
      ]
     },
     "execution_count": 237,
     "metadata": {},
     "output_type": "execute_result"
    }
   ],
   "source": [
    "datos_mayores = data2[priceusd_mayor_8m]\n",
    "datos_mayores"
   ]
  },
  {
   "cell_type": "markdown",
   "id": "subsequent-medium",
   "metadata": {},
   "source": [
    "- #### tercer eliminacion de valores (eliminados: 8)"
   ]
  },
  {
   "cell_type": "code",
   "execution_count": 238,
   "id": "closed-colors",
   "metadata": {},
   "outputs": [],
   "source": [
    "#vamos a borrar en base a lo que vimos los sigueintes indices porque no son propiedades reales, o son errores de carga\n",
    "\n",
    "data3 = data2.drop([24548, 91468, 107390, 91479, 91289, 91428, 114131, 45689], axis = 0)"
   ]
  },
  {
   "cell_type": "code",
   "execution_count": 239,
   "id": "boring-identification",
   "metadata": {},
   "outputs": [
    {
     "data": {
      "text/plain": [
       "(115960, 16)"
      ]
     },
     "execution_count": 239,
     "metadata": {},
     "output_type": "execute_result"
    }
   ],
   "source": [
    "data3.shape"
   ]
  },
  {
   "cell_type": "markdown",
   "id": "knowing-interpretation",
   "metadata": {},
   "source": [
    "### vamos a dejar por el momento la columna price y nos vamos en enfocar en la superficie para obtener bien los m2 y poder calcular el precio en usd por m2"
   ]
  },
  {
   "cell_type": "markdown",
   "id": "solid-dairy",
   "metadata": {},
   "source": [
    "- ### para eso vamos tratar de completar los valores que faltan entre las columnas surface total y surface covered"
   ]
  },
  {
   "cell_type": "code",
   "execution_count": 240,
   "id": "empirical-litigation",
   "metadata": {},
   "outputs": [
    {
     "data": {
      "text/plain": [
       "NaN        38369\n",
       "40.0        1626\n",
       "50.0        1600\n",
       "45.0        1332\n",
       "60.0        1329\n",
       "           ...  \n",
       "1598.0         1\n",
       "1626.0         1\n",
       "22355.0        1\n",
       "1249.0         1\n",
       "1038.0         1\n",
       "Name: surface_total_in_m2, Length: 1688, dtype: int64"
      ]
     },
     "execution_count": 240,
     "metadata": {},
     "output_type": "execute_result"
    }
   ],
   "source": [
    "# vemos la cantidad de nulos que tiene la columna total\n",
    "\n",
    "data3.surface_total_in_m2.value_counts(dropna = False)"
   ]
  },
  {
   "cell_type": "code",
   "execution_count": 241,
   "id": "renewable-barrel",
   "metadata": {},
   "outputs": [
    {
     "data": {
      "text/plain": [
       "NaN        18794\n",
       "40.0        2615\n",
       "50.0        2086\n",
       "45.0        2020\n",
       "60.0        1828\n",
       "           ...  \n",
       "823.0          1\n",
       "1075.0         1\n",
       "2499.0         1\n",
       "11680.0        1\n",
       "499.0          1\n",
       "Name: surface_covered_in_m2, Length: 996, dtype: int64"
      ]
     },
     "execution_count": 241,
     "metadata": {},
     "output_type": "execute_result"
    }
   ],
   "source": [
    "# vemos la cantidad de nulos que tiene la columna covered\n",
    "\n",
    "data3.surface_covered_in_m2.value_counts(dropna = False)"
   ]
  },
  {
   "cell_type": "code",
   "execution_count": 242,
   "id": "floppy-blogger",
   "metadata": {},
   "outputs": [
    {
     "name": "stdout",
     "output_type": "stream",
     "text": [
      "False    115577\n",
      "True        383\n",
      "Name: surface_total_in_m2, dtype: int64\n"
     ]
    }
   ],
   "source": [
    "# vemos cuantos valores tenemos en 0 para la columna surface total \n",
    "\n",
    "ceros_total_surface = data3['surface_total_in_m2'] == 0\n",
    "print(ceros_total_surface.value_counts())"
   ]
  },
  {
   "cell_type": "code",
   "execution_count": 243,
   "id": "mighty-lawyer",
   "metadata": {},
   "outputs": [
    {
     "name": "stdout",
     "output_type": "stream",
     "text": [
      "False    115958\n",
      "True          2\n",
      "Name: surface_covered_in_m2, dtype: int64\n"
     ]
    }
   ],
   "source": [
    "# vemos cuantos valores tenemos en 0 para la columna surface covered \n",
    "\n",
    "ceros_covered_surface = data3['surface_covered_in_m2'] == 0\n",
    "print(ceros_covered_surface.value_counts())"
   ]
  },
  {
   "cell_type": "code",
   "execution_count": 244,
   "id": "manual-bronze",
   "metadata": {},
   "outputs": [],
   "source": [
    "#cambiamos los valores .NaN por ceros que se suman a la lista de ceros ya existente\n",
    "\n",
    "data3['total_en_zeros'] = data3['surface_total_in_m2'].fillna(0)\n",
    "data3['covered_en_zeros'] = data3['surface_covered_in_m2'].fillna(0)"
   ]
  },
  {
   "cell_type": "code",
   "execution_count": 245,
   "id": "threaded-harris",
   "metadata": {},
   "outputs": [
    {
     "name": "stdout",
     "output_type": "stream",
     "text": [
      "la cantidad de ceros que tiene la coluna surface_total es  38752\n"
     ]
    }
   ],
   "source": [
    "#vemos la cantidad de 0 que tienen ahora la columna total surface\n",
    "\n",
    "ceros_total_mask = data3['total_en_zeros'] == 0\n",
    "ceros_total_mask.value_counts()\n",
    "\n",
    "ceros_total_print = data3[ceros_total_mask]\n",
    "print('la cantidad de ceros que tiene la coluna surface_total es ',ceros_total_print.shape[0])"
   ]
  },
  {
   "cell_type": "code",
   "execution_count": 246,
   "id": "integrated-cincinnati",
   "metadata": {},
   "outputs": [
    {
     "name": "stdout",
     "output_type": "stream",
     "text": [
      "la cantidad de ceros que tiene la coluna surface_covered es  18796\n"
     ]
    }
   ],
   "source": [
    "#vemos la cantidad de 0 que tienen ahora la columna covered surface\n",
    "\n",
    "ceros_covered_mask = data3['covered_en_zeros'] == 0\n",
    "ceros_covered_mask.value_counts()\n",
    "\n",
    "ceros_covered_print = data3[ceros_covered_mask]\n",
    "print('la cantidad de ceros que tiene la coluna surface_covered es ',ceros_covered_print.shape[0])"
   ]
  },
  {
   "cell_type": "code",
   "execution_count": 247,
   "id": "beautiful-notice",
   "metadata": {},
   "outputs": [
    {
     "name": "stdout",
     "output_type": "stream",
     "text": [
      "count    115960.000000\n",
      "mean        113.379441\n",
      "std         678.652799\n",
      "min           0.000000\n",
      "25%          35.000000\n",
      "50%          61.000000\n",
      "75%         131.000000\n",
      "max      187000.000000\n",
      "Name: covered_en_zeros, dtype: float64 \n",
      "\n",
      "count    115960.000000\n",
      "mean        157.866368\n",
      "std        1306.742249\n",
      "min           0.000000\n",
      "25%           0.000000\n",
      "50%          50.000000\n",
      "75%         128.000000\n",
      "max      200000.000000\n",
      "Name: total_en_zeros, dtype: float64 \n",
      "\n"
     ]
    }
   ],
   "source": [
    "#vamos a ver una description de cada columna \n",
    "\n",
    "print(data3[\"covered_en_zeros\"].describe(), '\\n')\n",
    "\n",
    "print(data3[\"total_en_zeros\"].describe(), '\\n')\n"
   ]
  },
  {
   "cell_type": "markdown",
   "id": "turkish-things",
   "metadata": {},
   "source": [
    "### ya sabemos la cantidad de 0 q tiene cada columna, ahora vamos a completar los datos que faltan de una con la otra"
   ]
  },
  {
   "cell_type": "markdown",
   "id": "apart-airline",
   "metadata": {},
   "source": [
    "- #### vamos a calcular los valores que tienen 0 en las dos columnas"
   ]
  },
  {
   "cell_type": "code",
   "execution_count": 248,
   "id": "composite-transformation",
   "metadata": {},
   "outputs": [
    {
     "name": "stdout",
     "output_type": "stream",
     "text": [
      "la cantidad de ceros en ambas columnas es  6523\n"
     ]
    }
   ],
   "source": [
    "mask_covered_ceros = data3[\"covered_en_zeros\"] == 0\n",
    "mask_total_ceros = data3[\"total_en_zeros\"] == 0\n",
    "\n",
    "mask_ambas_columnas_cero = data3[data3.covered_en_zeros.isin(mask_covered_ceros) &~ data3.total_en_zeros.isin(mask_total_ceros)]\n",
    "\n",
    "mask_ambas_columnas_cero.shape\n",
    "\n",
    "print('la cantidad de ceros en ambas columnas es ',mask_ambas_columnas_cero.shape[0])"
   ]
  },
  {
   "cell_type": "markdown",
   "id": "resistant-glass",
   "metadata": {},
   "source": [
    "- #### esto equivale a que % de ceros en cada columna?"
   ]
  },
  {
   "cell_type": "code",
   "execution_count": 249,
   "id": "first-consumer",
   "metadata": {},
   "outputs": [
    {
     "data": {
      "text/plain": [
       "0.34704192381357735"
      ]
     },
     "execution_count": 249,
     "metadata": {},
     "output_type": "execute_result"
    }
   ],
   "source": [
    "# para la columna covered es:\n",
    "\n",
    "porcentaje_ambos_ceros_covered = mask_ambas_columnas_cero.shape[0]/ceros_covered_print.shape[0]\n",
    "porcentaje_ambos_ceros_covered"
   ]
  },
  {
   "cell_type": "code",
   "execution_count": 250,
   "id": "analyzed-explanation",
   "metadata": {},
   "outputs": [
    {
     "data": {
      "text/plain": [
       "0.1683267960363336"
      ]
     },
     "execution_count": 250,
     "metadata": {},
     "output_type": "execute_result"
    }
   ],
   "source": [
    "# para la columna total es:\n",
    "\n",
    "porcentaje_ambos_ceros_total = mask_ambas_columnas_cero.shape[0]/ceros_total_print.shape[0]\n",
    "porcentaje_ambos_ceros_total"
   ]
  },
  {
   "cell_type": "markdown",
   "id": "human-feedback",
   "metadata": {},
   "source": [
    "- ##### por lo que vimos, la columna covered esta mucho mas completa que la de total surface. Pero tenemos datos que esten en covered pero no en total? "
   ]
  },
  {
   "cell_type": "code",
   "execution_count": 251,
   "id": "composed-maldives",
   "metadata": {},
   "outputs": [
    {
     "data": {
      "text/plain": [
       "0    109533\n",
       "1      6427\n",
       "dtype: int64"
      ]
     },
     "execution_count": 251,
     "metadata": {},
     "output_type": "execute_result"
    }
   ],
   "source": [
    "# vamos a caluclar los valores con un 1 q tienen valor en total pero no tienen valot en covered\n",
    "\n",
    "covered_vs_total = data3.apply(lambda x : 1 if x['total_en_zeros']!= 0 and x['covered_en_zeros'] == 0 else 0, axis=1)\n",
    "covered_vs_total.value_counts()"
   ]
  },
  {
   "cell_type": "markdown",
   "id": "proved-silicon",
   "metadata": {},
   "source": [
    "#### *lo que estamos diciendo aca es que, de un total de 0s de 18.796 en la columna covered_surface, vamos a tener q imputar valores a 6.427 datos, osea que al final me tienen que quedar 12.369 datos con 0*"
   ]
  },
  {
   "cell_type": "code",
   "execution_count": 252,
   "id": "consistent-initial",
   "metadata": {},
   "outputs": [
    {
     "data": {
      "text/plain": [
       "0    89577\n",
       "1    26383\n",
       "dtype: int64"
      ]
     },
     "execution_count": 252,
     "metadata": {},
     "output_type": "execute_result"
    }
   ],
   "source": [
    "# vamos a caluclar los valores con un 1 q tienen valor covered pero no tienen valot en total\n",
    "\n",
    "covered_vs_total_1 = data3.apply(lambda x : 1 if x['total_en_zeros']== 0 and x['covered_en_zeros'] != 0 else 0, axis=1)\n",
    "covered_vs_total_1.value_counts()"
   ]
  },
  {
   "cell_type": "markdown",
   "id": "intensive-fence",
   "metadata": {},
   "source": [
    "#### *lo que estamos diciendo aca es que, de un total de 0s de 38.752 en la columna total_surface, vamos a tener q imputar valores a 26.383 datos, osea que al final me tienen que quedar 12.369 datos con 0*"
   ]
  },
  {
   "cell_type": "markdown",
   "id": "wooden-george",
   "metadata": {},
   "source": [
    "- #### ahora vamos a crear un ratio que me diga los m2 totales sobre m2 cubiertos para cada tipo de propiedad. Luego vamos a aplicar ese ratio a los valores que completemos "
   ]
  },
  {
   "cell_type": "code",
   "execution_count": 253,
   "id": "northern-granny",
   "metadata": {},
   "outputs": [
    {
     "data": {
      "text/plain": [
       "apartment    66518\n",
       "house        39753\n",
       "PH            5618\n",
       "store         4071\n",
       "Name: property_type, dtype: int64"
      ]
     },
     "execution_count": 253,
     "metadata": {},
     "output_type": "execute_result"
    }
   ],
   "source": [
    "#vemos los tipos de propiedad y la cantidad q tiene cada una\n",
    "\n",
    "data3.property_type.value_counts(dropna = False)"
   ]
  },
  {
   "cell_type": "code",
   "execution_count": 254,
   "id": "horizontal-twins",
   "metadata": {},
   "outputs": [
    {
     "name": "stdout",
     "output_type": "stream",
     "text": [
      "Ratio Apartment: 1.4350058909436791\n",
      "Ratio House: 3.8210825189774926\n",
      "Ratio PH: 1.4963109876069087\n",
      "Ratio Store: 1.663225836433732\n"
     ]
    }
   ],
   "source": [
    "#Creamos función para hacer el promedio de total vs covered según el tipo de propiedad\n",
    "\n",
    "def average_in(prop):\n",
    "    property_type = data3['property_type'] == prop\n",
    "    average_type = data3[property_type]\n",
    "    average = average_type.apply(lambda x : np.nan if x['total_en_zeros'] == 0 or x['covered_en_zeros'] == 0 else x['total_en_zeros']/x['covered_en_zeros'], axis = 1)\n",
    "    return average.mean()\n",
    "\n",
    "ap = 'apartment'\n",
    "ho = 'house'\n",
    "ph = 'PH'\n",
    "st = 'store'\n",
    "\n",
    "ratio_ap = average_in(ap)\n",
    "ratio_ho = average_in(ho)\n",
    "ratio_ph = average_in(ph)\n",
    "ratio_st = average_in(st)\n",
    "\n",
    "print('Ratio Apartment:', ratio_ap)\n",
    "print('Ratio House:', ratio_ho)\n",
    "print('Ratio PH:', ratio_ph)\n",
    "print('Ratio Store:', ratio_st)"
   ]
  },
  {
   "cell_type": "markdown",
   "id": "neutral-floor",
   "metadata": {},
   "source": [
    "- #### ya tenemos los ratios para cada tipo de propiedad y ahora podemos completar los valores de surface total con esos ratios cuando solo tengamos el valor de surface covered"
   ]
  },
  {
   "cell_type": "code",
   "execution_count": 255,
   "id": "social-large",
   "metadata": {},
   "outputs": [
    {
     "data": {
      "text/plain": [
       "0.0000       25475\n",
       "40.0000       1626\n",
       "50.0000       1600\n",
       "45.0000       1332\n",
       "60.0000       1329\n",
       "             ...  \n",
       "2016.0000        1\n",
       "3880.0000        1\n",
       "24.3951          1\n",
       "1081.0000        1\n",
       "1038.0000        1\n",
       "Length: 2041, dtype: int64"
      ]
     },
     "execution_count": 255,
     "metadata": {},
     "output_type": "execute_result"
    }
   ],
   "source": [
    "# imputamos los APARTMENT con surface_total en cero y con dato en covered \n",
    "\n",
    "total_ap = data3.apply(lambda x : (x['covered_en_zeros']*ratio_ap) if x['total_en_zeros']== 0 and x['covered_en_zeros'] != 0 and x['property_type'] == ap else 0, axis=1)\n",
    "apartment_total = total_ap + data3['total_en_zeros']\n",
    "\n",
    "apartment_total.value_counts()\n"
   ]
  },
  {
   "cell_type": "code",
   "execution_count": 256,
   "id": "pharmaceutical-component",
   "metadata": {},
   "outputs": [
    {
     "data": {
      "text/plain": [
       "0.000000       14719\n",
       "40.000000       2615\n",
       "50.000000       2086\n",
       "45.000000       2020\n",
       "60.000000       1828\n",
       "               ...  \n",
       "171.427868         1\n",
       "1112.000000        1\n",
       "331.705955         1\n",
       "1603.000000        1\n",
       "843.000000         1\n",
       "Length: 1248, dtype: int64"
      ]
     },
     "execution_count": 256,
     "metadata": {},
     "output_type": "execute_result"
    }
   ],
   "source": [
    "# imputamos los APARTMENT con surface_covered en cero y con dato en total \n",
    "\n",
    "\n",
    "covered_ap = data3.apply(lambda x : (x['total_en_zeros']/ratio_ap) if x['covered_en_zeros']==0 and x['total_en_zeros'] != 0 and x['property_type'] == ap else 0, axis=1)\n",
    "apartment_covered = covered_ap + data3['covered_en_zeros']\n",
    "apartment_covered.value_counts()"
   ]
  },
  {
   "cell_type": "code",
   "execution_count": 257,
   "id": "disciplinary-niger",
   "metadata": {},
   "outputs": [
    {
     "data": {
      "text/plain": [
       "0.000000       28097\n",
       "40.000000       1626\n",
       "50.000000       1600\n",
       "45.000000       1332\n",
       "60.000000       1329\n",
       "               ...  \n",
       "4780.000000        1\n",
       "1914.362342        1\n",
       "2246.000000        1\n",
       "1770.000000        1\n",
       "1164.000000        1\n",
       "Length: 2291, dtype: int64"
      ]
     },
     "execution_count": 257,
     "metadata": {},
     "output_type": "execute_result"
    }
   ],
   "source": [
    "## imputamos los HOUSES con surface_total en cero y con dato en covered \n",
    "\n",
    "total_ho = data3.apply(lambda x : (x['covered_en_zeros']*ratio_ho) if x['total_en_zeros']==0 and x['covered_en_zeros'] != 0 and x['property_type'] == ho else 0, axis=1)\n",
    "house_total = total_ho + data3['total_en_zeros']\n",
    "house_total.value_counts()"
   ]
  },
  {
   "cell_type": "code",
   "execution_count": 258,
   "id": "preceding-halifax",
   "metadata": {},
   "outputs": [
    {
     "data": {
      "text/plain": [
       "0.000000        17115\n",
       "40.000000        2615\n",
       "50.000000        2086\n",
       "45.000000        2020\n",
       "60.000000        1828\n",
       "                ...  \n",
       "291.540419          1\n",
       "2460.035855         1\n",
       "10958.000000        1\n",
       "1215.000000         1\n",
       "566.331658          1\n",
       "Length: 1464, dtype: int64"
      ]
     },
     "execution_count": 258,
     "metadata": {},
     "output_type": "execute_result"
    }
   ],
   "source": [
    "# imputamos los HOUSES con surface_covered en cero y con dato en tot \n",
    "\n",
    "\n",
    "covered_ho = data3.apply(lambda x : (x['total_en_zeros']/ratio_ho) if x['covered_en_zeros']==0 and x['total_en_zeros'] != 0 and x['property_type'] == ho else 0, axis=1)\n",
    "house_covered = covered_ho + data3['covered_en_zeros']\n",
    "house_covered.value_counts()"
   ]
  },
  {
   "cell_type": "code",
   "execution_count": 259,
   "id": "ordinary-cookbook",
   "metadata": {},
   "outputs": [
    {
     "data": {
      "text/plain": [
       "0.0       37205\n",
       "40.0       1626\n",
       "50.0       1600\n",
       "45.0       1332\n",
       "60.0       1329\n",
       "          ...  \n",
       "2008.0        1\n",
       "3187.0        1\n",
       "1139.0        1\n",
       "3880.0        1\n",
       "1038.0        1\n",
       "Length: 1874, dtype: int64"
      ]
     },
     "execution_count": 259,
     "metadata": {},
     "output_type": "execute_result"
    }
   ],
   "source": [
    "# imputamos los PH con surface_total en cero y con dato en covered \n",
    "\n",
    "\n",
    "total_ph = data3.apply(lambda x : (x['covered_en_zeros']*ratio_ph) if x['total_en_zeros']==0 and x['covered_en_zeros'] != 0 and x['property_type'] == ph else 0, axis=1)\n",
    "ph_total = total_ph + data3['total_en_zeros']\n",
    "ph_total.value_counts()"
   ]
  },
  {
   "cell_type": "code",
   "execution_count": 260,
   "id": "material-semester",
   "metadata": {},
   "outputs": [
    {
     "data": {
      "text/plain": [
       "0.000000       18563\n",
       "40.000000       2615\n",
       "50.000000       2086\n",
       "45.000000       2020\n",
       "60.000000       1828\n",
       "               ...  \n",
       "1130.000000        1\n",
       "1967.000000        1\n",
       "1880.000000        1\n",
       "13.366205          1\n",
       "5350.000000        1\n",
       "Length: 1109, dtype: int64"
      ]
     },
     "execution_count": 260,
     "metadata": {},
     "output_type": "execute_result"
    }
   ],
   "source": [
    "# imputamos los PH con surface_covered en cero y con dato en total \n",
    "\n",
    "\n",
    "covered_ph = data3.apply(lambda x : (x['total_en_zeros']/ratio_ph) if x['covered_en_zeros']==0 and x['total_en_zeros'] != 0 and x['property_type'] == ph else 0, axis=1)\n",
    "ph_covered = covered_ph + data3['covered_en_zeros']\n",
    "ph_covered.value_counts()"
   ]
  },
  {
   "cell_type": "code",
   "execution_count": 261,
   "id": "varying-citizenship",
   "metadata": {},
   "outputs": [
    {
     "data": {
      "text/plain": [
       "0.000000       37848\n",
       "40.000000       1626\n",
       "50.000000       1600\n",
       "45.000000       1332\n",
       "60.000000       1329\n",
       "               ...  \n",
       "961.000000         1\n",
       "138.047744         1\n",
       "1082.000000        1\n",
       "7176.000000        1\n",
       "355.930329         1\n",
       "Length: 1966, dtype: int64"
      ]
     },
     "execution_count": 261,
     "metadata": {},
     "output_type": "execute_result"
    }
   ],
   "source": [
    "# imputamos los STORES con surface_total en cero y con dato en covered \n",
    "\n",
    "\n",
    "total_st = data3.apply(lambda x : (x['covered_en_zeros']*ratio_st) if x['total_en_zeros']==0 and x['covered_en_zeros'] != 0 and x['property_type'] == st else 0, axis=1)\n",
    "store_total = total_st + data3['total_en_zeros']\n",
    "store_total.value_counts()"
   ]
  },
  {
   "cell_type": "code",
   "execution_count": 262,
   "id": "cordless-finnish",
   "metadata": {},
   "outputs": [
    {
     "data": {
      "text/plain": [
       "(115960,)"
      ]
     },
     "execution_count": 262,
     "metadata": {},
     "output_type": "execute_result"
    }
   ],
   "source": [
    "# imputamos los STORES con surface_covered en cero y con dato en total \n",
    "\n",
    "\n",
    "covered_st = data3.apply(lambda x : (x['total_en_zeros']/ratio_st) if x['covered_en_zeros']==0 and x['total_en_zeros'] != 0 and x['property_type'] == st else 0, axis=1)\n",
    "store_covered = covered_st + data3['covered_en_zeros']\n",
    "store_covered.shape\n"
   ]
  },
  {
   "cell_type": "code",
   "execution_count": 263,
   "id": "tough-pittsburgh",
   "metadata": {},
   "outputs": [],
   "source": [
    "#creamos las columnas en el dataframe \n",
    "\n",
    "data3['covered_imputados'] = covered_st + covered_ph + covered_ho + covered_ap + data3['covered_en_zeros']\n",
    "data3['total_imputados'] = total_st + total_ph + total_ho + total_ap + data3['total_en_zeros']"
   ]
  },
  {
   "cell_type": "code",
   "execution_count": 264,
   "id": "fossil-malpractice",
   "metadata": {},
   "outputs": [
    {
     "data": {
      "text/plain": [
       "False    103591\n",
       "True      12369\n",
       "Name: covered_imputados, dtype: int64"
      ]
     },
     "execution_count": 264,
     "metadata": {},
     "output_type": "execute_result"
    }
   ],
   "source": [
    "#vemos los valores en 0 para la columna covered\n",
    "\n",
    "covered_zeros_final_1 = data3['covered_imputados'] == 0\n",
    "covered_zeros_final_1.value_counts()"
   ]
  },
  {
   "cell_type": "code",
   "execution_count": 265,
   "id": "outdoor-dayton",
   "metadata": {},
   "outputs": [
    {
     "data": {
      "text/plain": [
       "False    103591\n",
       "True      12369\n",
       "Name: total_imputados, dtype: int64"
      ]
     },
     "execution_count": 265,
     "metadata": {},
     "output_type": "execute_result"
    }
   ],
   "source": [
    "#vemos los valores en 0 para la columna total\n",
    "\n",
    "total_zeros_final_1 = data3['total_imputados'] == 0\n",
    "total_zeros_final_1.value_counts()"
   ]
  },
  {
   "cell_type": "markdown",
   "id": "backed-sheffield",
   "metadata": {},
   "source": [
    "#### finalmente llegamos al valor q estabamos esperando de 12.369 datos con valor 0 en cada columna"
   ]
  },
  {
   "cell_type": "markdown",
   "id": "fatty-colorado",
   "metadata": {},
   "source": [
    "- #### deberiamos borrar las columnas que usamos previamente como \"total_en_zeros\" y \"covered_en_zeros\" pero nose bien si eso va a afectar las columnas que le siguen q tienen la data final"
   ]
  },
  {
   "cell_type": "markdown",
   "id": "previous-there",
   "metadata": {},
   "source": [
    "## Luego de esto, deberiamos aplicar la regex donde obtenemos datos de m2 desde la columna description, para poder terminar de completar la columna surface"
   ]
  },
  {
   "cell_type": "code",
   "execution_count": 266,
   "id": "velvet-variation",
   "metadata": {},
   "outputs": [],
   "source": [
    "#esto lo esta armando thomas, asique cuando me lo pase lo agrego\n"
   ]
  },
  {
   "cell_type": "markdown",
   "id": "finnish-diana",
   "metadata": {},
   "source": [
    "#### Lo que descubrimos es que los valores de price per m2 en usd es diferente que los de price per m2, porque uno toma la superficie total y el otro la superficie covered. Por eso debemos crear una sola columna de price per m2 en usd, unificando criterios. vamos a dividir la columna price aprox usd por los m2 totales. para eso tenemos q terminar de completar la columna surface total.  "
   ]
  },
  {
   "cell_type": "code",
   "execution_count": null,
   "id": "changing-point",
   "metadata": {},
   "outputs": [],
   "source": []
  },
  {
   "cell_type": "code",
   "execution_count": null,
   "id": "conditional-museum",
   "metadata": {},
   "outputs": [],
   "source": []
  },
  {
   "cell_type": "markdown",
   "id": "working-office",
   "metadata": {},
   "source": [
    "#### una vez que tenemos la regex de thomas con todos los valores de m2, agregamos los datos a las dos columnas covered y total y ya podemos dividir la columna precio aprox usd por la columna final de surface que usemos para el total de la superficie. de esta manera obtenemos el verdadero valor de price per m2 REAL"
   ]
  },
  {
   "cell_type": "code",
   "execution_count": null,
   "id": "adopted-mount",
   "metadata": {},
   "outputs": [],
   "source": []
  },
  {
   "cell_type": "markdown",
   "id": "fatal-holocaust",
   "metadata": {},
   "source": [
    "# ahora vamos a trabajar sobre las columnas de ubicacion"
   ]
  },
  {
   "cell_type": "code",
   "execution_count": 267,
   "id": "convinced-trinity",
   "metadata": {},
   "outputs": [],
   "source": [
    "# tengo q linkear la notebook de segun aca"
   ]
  },
  {
   "cell_type": "code",
   "execution_count": null,
   "id": "hindu-average",
   "metadata": {},
   "outputs": [],
   "source": []
  },
  {
   "cell_type": "code",
   "execution_count": null,
   "id": "passing-charge",
   "metadata": {},
   "outputs": [],
   "source": []
  },
  {
   "cell_type": "code",
   "execution_count": null,
   "id": "proof-slave",
   "metadata": {},
   "outputs": [],
   "source": []
  },
  {
   "cell_type": "code",
   "execution_count": null,
   "id": "enhanced-stomach",
   "metadata": {},
   "outputs": [],
   "source": []
  },
  {
   "cell_type": "markdown",
   "id": "painful-seattle",
   "metadata": {},
   "source": [
    "# Trabajamos sobre rejex para descubrir otras conexiones al precio"
   ]
  },
  {
   "cell_type": "code",
   "execution_count": 268,
   "id": "muslim-allergy",
   "metadata": {},
   "outputs": [
    {
     "data": {
      "text/plain": [
       "0    2 AMBIENTES TIPO CASA PLANTA BAJA POR PASILLO,...\n",
       "1    Venta de departamento en décimo piso al frente...\n",
       "2    2 AMBIENTES 3ER PISO LATERAL LIVING COMEDOR AM...\n",
       "3    PH 3 ambientes con patio. Hay 3 deptos en lote...\n",
       "4    DEPARTAMENTO CON FANTÁSTICA ILUMINACIÓN NATURA...\n",
       "Name: description, dtype: object"
      ]
     },
     "execution_count": 268,
     "metadata": {},
     "output_type": "execute_result"
    }
   ],
   "source": [
    "#vamos a separar la columna \"description\" para analizarla sola\n",
    "\n",
    "data_description = data3[\"description\"]\n",
    "\n",
    "data_description.head(5)\n"
   ]
  },
  {
   "cell_type": "code",
   "execution_count": 269,
   "id": "understood-secretariat",
   "metadata": {},
   "outputs": [
    {
     "name": "stdout",
     "output_type": "stream",
     "text": [
      "hay  2 valores nulos\n"
     ]
    },
    {
     "data": {
      "text/html": [
       "<div>\n",
       "<style scoped>\n",
       "    .dataframe tbody tr th:only-of-type {\n",
       "        vertical-align: middle;\n",
       "    }\n",
       "\n",
       "    .dataframe tbody tr th {\n",
       "        vertical-align: top;\n",
       "    }\n",
       "\n",
       "    .dataframe thead th {\n",
       "        text-align: right;\n",
       "    }\n",
       "</style>\n",
       "<table border=\"1\" class=\"dataframe\">\n",
       "  <thead>\n",
       "    <tr style=\"text-align: right;\">\n",
       "      <th></th>\n",
       "      <th>Unnamed: 0</th>\n",
       "      <th>operation</th>\n",
       "      <th>property_type</th>\n",
       "      <th>place_name</th>\n",
       "      <th>place_with_parent_names</th>\n",
       "      <th>country_name</th>\n",
       "      <th>state_name</th>\n",
       "      <th>geonames_id</th>\n",
       "      <th>lat-lon</th>\n",
       "      <th>lat</th>\n",
       "      <th>...</th>\n",
       "      <th>surface_covered_in_m2</th>\n",
       "      <th>price_usd_per_m2</th>\n",
       "      <th>price_per_m2</th>\n",
       "      <th>floor</th>\n",
       "      <th>rooms</th>\n",
       "      <th>expenses</th>\n",
       "      <th>properati_url</th>\n",
       "      <th>description</th>\n",
       "      <th>title</th>\n",
       "      <th>image_thumbnail</th>\n",
       "    </tr>\n",
       "  </thead>\n",
       "  <tbody>\n",
       "    <tr>\n",
       "      <th>10664</th>\n",
       "      <td>10664</td>\n",
       "      <td>sell</td>\n",
       "      <td>apartment</td>\n",
       "      <td>Villa Carlos Paz</td>\n",
       "      <td>|Argentina|Córdoba|Villa Carlos Paz|</td>\n",
       "      <td>Argentina</td>\n",
       "      <td>Córdoba</td>\n",
       "      <td>3832791.0</td>\n",
       "      <td>-31.4207828,-64.4992141</td>\n",
       "      <td>-31.420783</td>\n",
       "      <td>...</td>\n",
       "      <td>NaN</td>\n",
       "      <td>NaN</td>\n",
       "      <td>NaN</td>\n",
       "      <td>NaN</td>\n",
       "      <td>NaN</td>\n",
       "      <td>NaN</td>\n",
       "      <td>http://www.properati.com.ar/168nc_venta_depart...</td>\n",
       "      <td>NaN</td>\n",
       "      <td>HERMOSO DEPARTAMENTO CON PISCINA Y COCHERA</td>\n",
       "      <td>https://thumbs4.properati.com/6/JiAoy6zsKPeBob...</td>\n",
       "    </tr>\n",
       "    <tr>\n",
       "      <th>96691</th>\n",
       "      <td>96691</td>\n",
       "      <td>sell</td>\n",
       "      <td>apartment</td>\n",
       "      <td>San Fernando</td>\n",
       "      <td>|Argentina|Bs.As. G.B.A. Zona Norte|San Fernando|</td>\n",
       "      <td>Argentina</td>\n",
       "      <td>Bs.As. G.B.A. Zona Norte</td>\n",
       "      <td>3429088.0</td>\n",
       "      <td>NaN</td>\n",
       "      <td>NaN</td>\n",
       "      <td>...</td>\n",
       "      <td>55.0</td>\n",
       "      <td>NaN</td>\n",
       "      <td>1781.818182</td>\n",
       "      <td>NaN</td>\n",
       "      <td>NaN</td>\n",
       "      <td>NaN</td>\n",
       "      <td>http://www.properati.com.ar/1bj1r_venta_depart...</td>\n",
       "      <td>NaN</td>\n",
       "      <td>Departamento - San Fernando</td>\n",
       "      <td>https://thumbs4.properati.com/1/FZZcNCsb4-ucU2...</td>\n",
       "    </tr>\n",
       "  </tbody>\n",
       "</table>\n",
       "<p>2 rows × 26 columns</p>\n",
       "</div>"
      ],
      "text/plain": [
       "       Unnamed: 0 operation property_type        place_name  \\\n",
       "10664       10664      sell     apartment  Villa Carlos Paz   \n",
       "96691       96691      sell     apartment      San Fernando   \n",
       "\n",
       "                                 place_with_parent_names country_name  \\\n",
       "10664               |Argentina|Córdoba|Villa Carlos Paz|    Argentina   \n",
       "96691  |Argentina|Bs.As. G.B.A. Zona Norte|San Fernando|    Argentina   \n",
       "\n",
       "                     state_name  geonames_id                  lat-lon  \\\n",
       "10664                   Córdoba    3832791.0  -31.4207828,-64.4992141   \n",
       "96691  Bs.As. G.B.A. Zona Norte    3429088.0                      NaN   \n",
       "\n",
       "             lat  ...  surface_covered_in_m2  price_usd_per_m2 price_per_m2  \\\n",
       "10664 -31.420783  ...                    NaN               NaN          NaN   \n",
       "96691        NaN  ...                   55.0               NaN  1781.818182   \n",
       "\n",
       "       floor  rooms  expenses  \\\n",
       "10664    NaN    NaN       NaN   \n",
       "96691    NaN    NaN       NaN   \n",
       "\n",
       "                                           properati_url  description  \\\n",
       "10664  http://www.properati.com.ar/168nc_venta_depart...          NaN   \n",
       "96691  http://www.properati.com.ar/1bj1r_venta_depart...          NaN   \n",
       "\n",
       "                                             title  \\\n",
       "10664  HERMOSO DEPARTAMENTO CON PISCINA Y COCHERA    \n",
       "96691                  Departamento - San Fernando   \n",
       "\n",
       "                                         image_thumbnail  \n",
       "10664  https://thumbs4.properati.com/6/JiAoy6zsKPeBob...  \n",
       "96691  https://thumbs4.properati.com/1/FZZcNCsb4-ucU2...  \n",
       "\n",
       "[2 rows x 26 columns]"
      ]
     },
     "execution_count": 269,
     "metadata": {},
     "output_type": "execute_result"
    }
   ],
   "source": [
    "#vamos a ver los que son nulos\n",
    "\n",
    "data_description_null = data_description.isnull()\n",
    "print(\"hay \",data_description_null.sum(), \"valores nulos\")\n",
    "\n",
    "#identificamos las dos filas q tienen valores nulos en \"description\"\n",
    "data_description_null = data[data.description.isnull()]\n",
    "data_description_null"
   ]
  },
  {
   "cell_type": "code",
   "execution_count": null,
   "id": "senior-launch",
   "metadata": {},
   "outputs": [],
   "source": [
    "# quiero compltarlos pero sin modificar el dataset original o el data3 q es el q estamos usando\n"
   ]
  },
  {
   "cell_type": "code",
   "execution_count": 282,
   "id": "compound-overhead",
   "metadata": {},
   "outputs": [
    {
     "name": "stdout",
     "output_type": "stream",
     "text": [
      "                                              description refaccionado\n",
      "0       2 AMBIENTES TIPO CASA PLANTA BAJA POR PASILLO,...         True\n",
      "1       Venta de departamento en décimo piso al frente...        False\n",
      "2       2 AMBIENTES 3ER PISO LATERAL LIVING COMEDOR AM...        False\n",
      "3       PH 3 ambientes con patio. Hay 3 deptos en lote...        False\n",
      "4       DEPARTAMENTO CON FANTÁSTICA ILUMINACIÓN NATURA...        False\n",
      "...                                                   ...          ...\n",
      "121215  TORRE FORUM ALCORTA - MÁXIMA CATEGORÍA.Impecab...        False\n",
      "121216  Excelente e impecable casa en Venta en Las Lom...        False\n",
      "121217  VENTA DEPARTAMENTO AMBIENTE DIVISIBLE A ESTREN...        False\n",
      "121218  2 Amb al contrafrente,  luminoso. El departame...        False\n",
      "121219  Departamento de 77 m2 apto profesional. Edific...        False\n",
      "\n",
      "[115960 rows x 2 columns]\n"
     ]
    }
   ],
   "source": [
    "#vamos a buscar la palabra \"refaccionado\" ya que podria afectar el precio al ser un departamento mejorado. estos datos los ingresamos en la columna nueva de \"refaccionados\"\n",
    "\n",
    "import re\n",
    "\n",
    "data3[\"refaccionado\"] = data3.description.str.contains(r'(?i)refac|refaccionado')\n",
    "print(data3[[\"description\",\"refaccionado\"]])"
   ]
  },
  {
   "cell_type": "code",
   "execution_count": 283,
   "id": "injured-crash",
   "metadata": {},
   "outputs": [
    {
     "name": "stdout",
     "output_type": "stream",
     "text": [
      "0    114070\n",
      "1      1890\n",
      "dtype: int64\n"
     ]
    }
   ],
   "source": [
    "#ahora tenemos todos los refaccionados como True en la columna \"refaccionados\", vamos a ver cuantos departamentos refaccionados hay\n",
    "#para eso definimos como 0 a las propiedades q no son 'refaccionadas' y como 1 las que si\n",
    "\n",
    "data_refaccionado_column =  data3.apply(lambda x: 0 if x.refaccionado == False else 1, axis=1)\n",
    "\n",
    "print(data_refaccionado_column.value_counts())\n",
    "\n",
    "data3[\"refaccionado\"] = data_refaccionado_column\n"
   ]
  },
  {
   "cell_type": "markdown",
   "id": "becoming-classification",
   "metadata": {},
   "source": [
    "#### podemos decir q tenemos 1.890 propiedades que estan refaccionadas"
   ]
  },
  {
   "cell_type": "code",
   "execution_count": 274,
   "id": "anonymous-compact",
   "metadata": {},
   "outputs": [
    {
     "name": "stdout",
     "output_type": "stream",
     "text": [
      "                                              description pileta\n",
      "0       2 AMBIENTES TIPO CASA PLANTA BAJA POR PASILLO,...  False\n",
      "1       Venta de departamento en décimo piso al frente...  False\n",
      "2       2 AMBIENTES 3ER PISO LATERAL LIVING COMEDOR AM...  False\n",
      "3       PH 3 ambientes con patio. Hay 3 deptos en lote...  False\n",
      "4       DEPARTAMENTO CON FANTÁSTICA ILUMINACIÓN NATURA...  False\n",
      "...                                                   ...    ...\n",
      "121215  TORRE FORUM ALCORTA - MÁXIMA CATEGORÍA.Impecab...   True\n",
      "121216  Excelente e impecable casa en Venta en Las Lom...   True\n",
      "121217  VENTA DEPARTAMENTO AMBIENTE DIVISIBLE A ESTREN...  False\n",
      "121218  2 Amb al contrafrente,  luminoso. El departame...  False\n",
      "121219  Departamento de 77 m2 apto profesional. Edific...  False\n",
      "\n",
      "[115960 rows x 2 columns]\n"
     ]
    }
   ],
   "source": [
    "#ahora vamos a buscar los q tienen pileta\n",
    "\n",
    "data3[\"pileta\"] = data3.description.str.contains(r'(?i)pileta|piscina')\n",
    "print(data3[[\"description\",\"pileta\"]])"
   ]
  },
  {
   "cell_type": "code",
   "execution_count": 277,
   "id": "forty-ukraine",
   "metadata": {},
   "outputs": [
    {
     "name": "stdout",
     "output_type": "stream",
     "text": [
      "0    84669\n",
      "1    31291\n",
      "dtype: int64\n"
     ]
    },
    {
     "data": {
      "text/plain": [
       "0         0\n",
       "1         0\n",
       "2         0\n",
       "3         0\n",
       "4         0\n",
       "         ..\n",
       "121215    1\n",
       "121216    1\n",
       "121217    0\n",
       "121218    0\n",
       "121219    0\n",
       "Name: pileta, Length: 115960, dtype: int64"
      ]
     },
     "execution_count": 277,
     "metadata": {},
     "output_type": "execute_result"
    }
   ],
   "source": [
    "#hacemos lo mismo de ver cuantas propeidades tienen pileta y ponemos 0 las que no tiene (osea q son false) y 1 las q si\n",
    "\n",
    "data_pileta_column =  data3.apply(lambda x: 0 if x.pileta == False else 1, axis=1)\n",
    "\n",
    "print(data_pileta_column.value_counts())\n",
    "\n",
    "#ponemos la data de pileta en la columna pileta del data frame\n",
    "data3[\"pileta\"] = data_pileta_column\n",
    "\n",
    "#ahi quedo la columna pileta con 0s y 1s \n",
    "data3[\"pileta\"] \n"
   ]
  },
  {
   "cell_type": "markdown",
   "id": "outside-treat",
   "metadata": {},
   "source": [
    "#### podemos decir q tenemos 31.291 propiedades con pileta"
   ]
  },
  {
   "cell_type": "code",
   "execution_count": 281,
   "id": "organic-appreciation",
   "metadata": {},
   "outputs": [
    {
     "name": "stdout",
     "output_type": "stream",
     "text": [
      "                                              description amenities\n",
      "0       2 AMBIENTES TIPO CASA PLANTA BAJA POR PASILLO,...     False\n",
      "1       Venta de departamento en décimo piso al frente...     False\n",
      "2       2 AMBIENTES 3ER PISO LATERAL LIVING COMEDOR AM...     False\n",
      "3       PH 3 ambientes con patio. Hay 3 deptos en lote...     False\n",
      "4       DEPARTAMENTO CON FANTÁSTICA ILUMINACIÓN NATURA...     False\n",
      "...                                                   ...       ...\n",
      "121215  TORRE FORUM ALCORTA - MÁXIMA CATEGORÍA.Impecab...     False\n",
      "121216  Excelente e impecable casa en Venta en Las Lom...     False\n",
      "121217  VENTA DEPARTAMENTO AMBIENTE DIVISIBLE A ESTREN...      True\n",
      "121218  2 Amb al contrafrente,  luminoso. El departame...     False\n",
      "121219  Departamento de 77 m2 apto profesional. Edific...     False\n",
      "\n",
      "[115960 rows x 2 columns]\n"
     ]
    }
   ],
   "source": [
    "#ahora vamos a buscar los q tienen amenities\n",
    "\n",
    "data3[\"amenities\"] = data.description.str.contains(r'(?i)amenities')\n",
    "print(data3[[\"description\",\"amenities\"]])"
   ]
  },
  {
   "cell_type": "code",
   "execution_count": 284,
   "id": "expressed-lambda",
   "metadata": {},
   "outputs": [
    {
     "name": "stdout",
     "output_type": "stream",
     "text": [
      "0    105916\n",
      "1     10044\n",
      "dtype: int64\n"
     ]
    }
   ],
   "source": [
    "#hacemos lo mismo de ver cuantas propeidades tienen amenities y ponemos 0 las que no tiene (osea q son false) y 1 las q si\n",
    "\n",
    "data_amenities_column =  data3.apply(lambda x: 0 if x.amenities == False else 1, axis=1)\n",
    "\n",
    "print(data_amenities_column.value_counts())\n"
   ]
  },
  {
   "cell_type": "code",
   "execution_count": 285,
   "id": "photographic-newman",
   "metadata": {},
   "outputs": [
    {
     "data": {
      "text/plain": [
       "0         0\n",
       "1         0\n",
       "2         0\n",
       "3         0\n",
       "4         0\n",
       "         ..\n",
       "121215    0\n",
       "121216    0\n",
       "121217    1\n",
       "121218    0\n",
       "121219    0\n",
       "Name: amenities, Length: 115960, dtype: int64"
      ]
     },
     "execution_count": 285,
     "metadata": {},
     "output_type": "execute_result"
    }
   ],
   "source": [
    "#ponemos la data de amenities en la columna amenities del data frame\n",
    "data3[\"amenities\"] = data_amenities_column\n",
    "\n",
    "#ahi quedo la columna amenities con 0s y 1s \n",
    "data3[\"amenities\"] \n"
   ]
  },
  {
   "cell_type": "markdown",
   "id": "offensive-rating",
   "metadata": {},
   "source": [
    "#### podemos decir q tenemos 10.044 propiedades con amenities"
   ]
  },
  {
   "cell_type": "code",
   "execution_count": 286,
   "id": "departmental-summit",
   "metadata": {},
   "outputs": [
    {
     "name": "stdout",
     "output_type": "stream",
     "text": [
      "                                              description cochera\n",
      "0       2 AMBIENTES TIPO CASA PLANTA BAJA POR PASILLO,...   False\n",
      "1       Venta de departamento en décimo piso al frente...    True\n",
      "2       2 AMBIENTES 3ER PISO LATERAL LIVING COMEDOR AM...   False\n",
      "3       PH 3 ambientes con patio. Hay 3 deptos en lote...   False\n",
      "4       DEPARTAMENTO CON FANTÁSTICA ILUMINACIÓN NATURA...   False\n",
      "...                                                   ...     ...\n",
      "121215  TORRE FORUM ALCORTA - MÁXIMA CATEGORÍA.Impecab...    True\n",
      "121216  Excelente e impecable casa en Venta en Las Lom...   False\n",
      "121217  VENTA DEPARTAMENTO AMBIENTE DIVISIBLE A ESTREN...    True\n",
      "121218  2 Amb al contrafrente,  luminoso. El departame...   False\n",
      "121219  Departamento de 77 m2 apto profesional. Edific...   False\n",
      "\n",
      "[115960 rows x 2 columns]\n"
     ]
    }
   ],
   "source": [
    "#ahora vamos a buscar los q tienen cochera\n",
    "\n",
    "data3[\"cochera\"] = data3.description.str.contains(r'(?i)cochera')\n",
    "print(data3[[\"description\",\"cochera\"]])"
   ]
  },
  {
   "cell_type": "code",
   "execution_count": 288,
   "id": "changing-rings",
   "metadata": {},
   "outputs": [
    {
     "name": "stdout",
     "output_type": "stream",
     "text": [
      "0    75576\n",
      "1    40384\n",
      "dtype: int64\n"
     ]
    }
   ],
   "source": [
    "#hacemos lo mismo de ver cuantas propeidades tienen cochera y ponemos 0 las que no tiene (osea q son false) y 1 las q si\n",
    "\n",
    "data_cochera_column =  data3.apply(lambda x: 0 if x.cochera == False else 1, axis=1)\n",
    "\n",
    "print(data_cochera_column.value_counts())\n",
    "\n",
    "data3[\"cochera\"] = data_cochera_column"
   ]
  },
  {
   "cell_type": "markdown",
   "id": "interstate-benchmark",
   "metadata": {},
   "source": [
    "#### podemos decir q tenemos 40.384 propiedades con cochera"
   ]
  },
  {
   "cell_type": "code",
   "execution_count": 289,
   "id": "compliant-heather",
   "metadata": {},
   "outputs": [
    {
     "name": "stdout",
     "output_type": "stream",
     "text": [
      "                                              description financiacion\n",
      "0       2 AMBIENTES TIPO CASA PLANTA BAJA POR PASILLO,...        False\n",
      "1       Venta de departamento en décimo piso al frente...        False\n",
      "2       2 AMBIENTES 3ER PISO LATERAL LIVING COMEDOR AM...        False\n",
      "3       PH 3 ambientes con patio. Hay 3 deptos en lote...        False\n",
      "4       DEPARTAMENTO CON FANTÁSTICA ILUMINACIÓN NATURA...        False\n",
      "...                                                   ...          ...\n",
      "121215  TORRE FORUM ALCORTA - MÁXIMA CATEGORÍA.Impecab...        False\n",
      "121216  Excelente e impecable casa en Venta en Las Lom...        False\n",
      "121217  VENTA DEPARTAMENTO AMBIENTE DIVISIBLE A ESTREN...        False\n",
      "121218  2 Amb al contrafrente,  luminoso. El departame...        False\n",
      "121219  Departamento de 77 m2 apto profesional. Edific...        False\n",
      "\n",
      "[115960 rows x 2 columns]\n"
     ]
    }
   ],
   "source": [
    "#ahora vamos a buscar los q dicen cuotas o financiacion porque muchas veces me contaminan el precio, poniendo el valot de una cuota y que luego me afecta el precio por m2\n",
    "\n",
    "data3[\"financiacion\"] = data3.description.str.contains(r'(?i)financiacion|cuota')\n",
    "print(data3[[\"description\",\"financiacion\"]])"
   ]
  },
  {
   "cell_type": "code",
   "execution_count": 290,
   "id": "level-palestinian",
   "metadata": {},
   "outputs": [
    {
     "name": "stdout",
     "output_type": "stream",
     "text": [
      "0    106489\n",
      "1      9471\n",
      "dtype: int64\n"
     ]
    }
   ],
   "source": [
    "#hacemos lo mismo de ver cuantas propeidades tienen financiacion y ponemos 0 las que no tiene (osea q son false) y 1 las q si\n",
    "\n",
    "data_financiacion_column =  data3.apply(lambda x: 0 if x.financiacion == False else 1, axis=1)\n",
    "\n",
    "print(data_financiacion_column.value_counts())\n",
    "\n",
    "data3[\"financiacion\"] = data_financiacion_column"
   ]
  },
  {
   "cell_type": "markdown",
   "id": "unnecessary-stability",
   "metadata": {},
   "source": [
    "#### podemos decir q tenemos 9.471 propiedades con cuotas o financiacion. estas propiedades deberiamos analizarla con la variable precio o precio por m2 a ver si encontramos una relacion de tener precio mas bajo q el promedio"
   ]
  },
  {
   "cell_type": "code",
   "execution_count": 291,
   "id": "prompt-holder",
   "metadata": {},
   "outputs": [
    {
     "data": {
      "text/html": [
       "<div>\n",
       "<style scoped>\n",
       "    .dataframe tbody tr th:only-of-type {\n",
       "        vertical-align: middle;\n",
       "    }\n",
       "\n",
       "    .dataframe tbody tr th {\n",
       "        vertical-align: top;\n",
       "    }\n",
       "\n",
       "    .dataframe thead th {\n",
       "        text-align: right;\n",
       "    }\n",
       "</style>\n",
       "<table border=\"1\" class=\"dataframe\">\n",
       "  <thead>\n",
       "    <tr style=\"text-align: right;\">\n",
       "      <th></th>\n",
       "      <th>property_type</th>\n",
       "      <th>place_name</th>\n",
       "      <th>place_with_parent_names</th>\n",
       "      <th>state_name</th>\n",
       "      <th>lat-lon</th>\n",
       "      <th>price</th>\n",
       "      <th>currency</th>\n",
       "      <th>price_aprox_local_currency</th>\n",
       "      <th>price_aprox_usd</th>\n",
       "      <th>surface_total_in_m2</th>\n",
       "      <th>...</th>\n",
       "      <th>title</th>\n",
       "      <th>total_en_zeros</th>\n",
       "      <th>covered_en_zeros</th>\n",
       "      <th>covered_imputados</th>\n",
       "      <th>total_imputados</th>\n",
       "      <th>refaccionado</th>\n",
       "      <th>pileta</th>\n",
       "      <th>amenities</th>\n",
       "      <th>cochera</th>\n",
       "      <th>financiacion</th>\n",
       "    </tr>\n",
       "  </thead>\n",
       "  <tbody>\n",
       "    <tr>\n",
       "      <th>0</th>\n",
       "      <td>PH</td>\n",
       "      <td>Mataderos</td>\n",
       "      <td>|Argentina|Capital Federal|Mataderos|</td>\n",
       "      <td>Capital Federal</td>\n",
       "      <td>-34.6618237,-58.5088387</td>\n",
       "      <td>62000.0</td>\n",
       "      <td>USD</td>\n",
       "      <td>1093959.0</td>\n",
       "      <td>62000.0</td>\n",
       "      <td>55.0</td>\n",
       "      <td>...</td>\n",
       "      <td>2 AMB TIPO CASA SIN EXPENSAS EN PB</td>\n",
       "      <td>55.0</td>\n",
       "      <td>40.0</td>\n",
       "      <td>40.0</td>\n",
       "      <td>55.0</td>\n",
       "      <td>1</td>\n",
       "      <td>0</td>\n",
       "      <td>0</td>\n",
       "      <td>0</td>\n",
       "      <td>0</td>\n",
       "    </tr>\n",
       "    <tr>\n",
       "      <th>1</th>\n",
       "      <td>apartment</td>\n",
       "      <td>La Plata</td>\n",
       "      <td>|Argentina|Bs.As. G.B.A. Zona Sur|La Plata|</td>\n",
       "      <td>Bs.As. G.B.A. Zona Sur</td>\n",
       "      <td>-34.9038831,-57.9643295</td>\n",
       "      <td>150000.0</td>\n",
       "      <td>USD</td>\n",
       "      <td>2646675.0</td>\n",
       "      <td>150000.0</td>\n",
       "      <td>NaN</td>\n",
       "      <td>...</td>\n",
       "      <td>VENTA Depto 2 dorm. a estrenar 7 e/ 36 y 37   ...</td>\n",
       "      <td>0.0</td>\n",
       "      <td>0.0</td>\n",
       "      <td>0.0</td>\n",
       "      <td>0.0</td>\n",
       "      <td>0</td>\n",
       "      <td>0</td>\n",
       "      <td>0</td>\n",
       "      <td>1</td>\n",
       "      <td>0</td>\n",
       "    </tr>\n",
       "    <tr>\n",
       "      <th>2</th>\n",
       "      <td>apartment</td>\n",
       "      <td>Mataderos</td>\n",
       "      <td>|Argentina|Capital Federal|Mataderos|</td>\n",
       "      <td>Capital Federal</td>\n",
       "      <td>-34.6522615,-58.5229825</td>\n",
       "      <td>72000.0</td>\n",
       "      <td>USD</td>\n",
       "      <td>1270404.0</td>\n",
       "      <td>72000.0</td>\n",
       "      <td>55.0</td>\n",
       "      <td>...</td>\n",
       "      <td>2 AMB 3ER PISO CON ASCENSOR APTO CREDITO</td>\n",
       "      <td>55.0</td>\n",
       "      <td>55.0</td>\n",
       "      <td>55.0</td>\n",
       "      <td>55.0</td>\n",
       "      <td>0</td>\n",
       "      <td>0</td>\n",
       "      <td>0</td>\n",
       "      <td>0</td>\n",
       "      <td>0</td>\n",
       "    </tr>\n",
       "  </tbody>\n",
       "</table>\n",
       "<p>3 rows × 25 columns</p>\n",
       "</div>"
      ],
      "text/plain": [
       "  property_type place_name                      place_with_parent_names  \\\n",
       "0            PH  Mataderos        |Argentina|Capital Federal|Mataderos|   \n",
       "1     apartment   La Plata  |Argentina|Bs.As. G.B.A. Zona Sur|La Plata|   \n",
       "2     apartment  Mataderos        |Argentina|Capital Federal|Mataderos|   \n",
       "\n",
       "               state_name                  lat-lon     price currency  \\\n",
       "0         Capital Federal  -34.6618237,-58.5088387   62000.0      USD   \n",
       "1  Bs.As. G.B.A. Zona Sur  -34.9038831,-57.9643295  150000.0      USD   \n",
       "2         Capital Federal  -34.6522615,-58.5229825   72000.0      USD   \n",
       "\n",
       "   price_aprox_local_currency  price_aprox_usd  surface_total_in_m2  ...  \\\n",
       "0                   1093959.0          62000.0                 55.0  ...   \n",
       "1                   2646675.0         150000.0                  NaN  ...   \n",
       "2                   1270404.0          72000.0                 55.0  ...   \n",
       "\n",
       "                                               title  total_en_zeros  \\\n",
       "0                 2 AMB TIPO CASA SIN EXPENSAS EN PB            55.0   \n",
       "1  VENTA Depto 2 dorm. a estrenar 7 e/ 36 y 37   ...             0.0   \n",
       "2           2 AMB 3ER PISO CON ASCENSOR APTO CREDITO            55.0   \n",
       "\n",
       "   covered_en_zeros  covered_imputados total_imputados refaccionado  pileta  \\\n",
       "0              40.0               40.0            55.0            1       0   \n",
       "1               0.0                0.0             0.0            0       0   \n",
       "2              55.0               55.0            55.0            0       0   \n",
       "\n",
       "   amenities  cochera  financiacion  \n",
       "0          0        0             0  \n",
       "1          0        1             0  \n",
       "2          0        0             0  \n",
       "\n",
       "[3 rows x 25 columns]"
      ]
     },
     "execution_count": 291,
     "metadata": {},
     "output_type": "execute_result"
    }
   ],
   "source": [
    "data3.head(3)"
   ]
  },
  {
   "cell_type": "markdown",
   "id": "spoken-microwave",
   "metadata": {},
   "source": [
    "## Aca abajo deberiamos sumar las regex que estuvo laburando segun "
   ]
  },
  {
   "cell_type": "code",
   "execution_count": null,
   "id": "intensive-editing",
   "metadata": {},
   "outputs": [],
   "source": []
  },
  {
   "cell_type": "code",
   "execution_count": null,
   "id": "logical-diagram",
   "metadata": {},
   "outputs": [],
   "source": []
  },
  {
   "cell_type": "code",
   "execution_count": null,
   "id": "former-navigation",
   "metadata": {},
   "outputs": [],
   "source": []
  },
  {
   "cell_type": "markdown",
   "id": "recent-disabled",
   "metadata": {},
   "source": [
    "## despues de tener las regex, deberiamos analizar algunos outliers en columnas como superficie, o precio por m2 en usd y limpiarlos"
   ]
  },
  {
   "cell_type": "code",
   "execution_count": null,
   "id": "proved-cancellation",
   "metadata": {},
   "outputs": [],
   "source": []
  },
  {
   "cell_type": "code",
   "execution_count": null,
   "id": "processed-bargain",
   "metadata": {},
   "outputs": [],
   "source": []
  },
  {
   "cell_type": "markdown",
   "id": "silent-notion",
   "metadata": {},
   "source": [
    "## luego de limpiar outliers deberiamos armar algunos graficos "
   ]
  },
  {
   "cell_type": "code",
   "execution_count": null,
   "id": "organizational-minute",
   "metadata": {},
   "outputs": [],
   "source": []
  },
  {
   "cell_type": "code",
   "execution_count": null,
   "id": "large-belfast",
   "metadata": {},
   "outputs": [],
   "source": []
  },
  {
   "cell_type": "code",
   "execution_count": null,
   "id": "quantitative-administrator",
   "metadata": {},
   "outputs": [],
   "source": []
  },
  {
   "cell_type": "code",
   "execution_count": null,
   "id": "unnecessary-holmes",
   "metadata": {},
   "outputs": [],
   "source": []
  }
 ],
 "metadata": {
  "kernelspec": {
   "display_name": "Python 3",
   "language": "python",
   "name": "python3"
  },
  "language_info": {
   "codemirror_mode": {
    "name": "ipython",
    "version": 3
   },
   "file_extension": ".py",
   "mimetype": "text/x-python",
   "name": "python",
   "nbconvert_exporter": "python",
   "pygments_lexer": "ipython3",
   "version": "3.8.8"
  }
 },
 "nbformat": 4,
 "nbformat_minor": 5
}
