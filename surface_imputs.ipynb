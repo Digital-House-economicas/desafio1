{
 "cells": [
  {
   "cell_type": "code",
   "execution_count": 1,
   "id": "0a2454db",
   "metadata": {},
   "outputs": [
    {
     "data": {
      "text/html": [
       "<div>\n",
       "<style scoped>\n",
       "    .dataframe tbody tr th:only-of-type {\n",
       "        vertical-align: middle;\n",
       "    }\n",
       "\n",
       "    .dataframe tbody tr th {\n",
       "        vertical-align: top;\n",
       "    }\n",
       "\n",
       "    .dataframe thead th {\n",
       "        text-align: right;\n",
       "    }\n",
       "</style>\n",
       "<table border=\"1\" class=\"dataframe\">\n",
       "  <thead>\n",
       "    <tr style=\"text-align: right;\">\n",
       "      <th></th>\n",
       "      <th>Unnamed: 0</th>\n",
       "      <th>operation</th>\n",
       "      <th>property_type</th>\n",
       "      <th>place_name</th>\n",
       "      <th>place_with_parent_names</th>\n",
       "      <th>country_name</th>\n",
       "      <th>state_name</th>\n",
       "      <th>geonames_id</th>\n",
       "      <th>lat-lon</th>\n",
       "      <th>lat</th>\n",
       "      <th>...</th>\n",
       "      <th>surface_covered_in_m2</th>\n",
       "      <th>price_usd_per_m2</th>\n",
       "      <th>price_per_m2</th>\n",
       "      <th>floor</th>\n",
       "      <th>rooms</th>\n",
       "      <th>expenses</th>\n",
       "      <th>properati_url</th>\n",
       "      <th>description</th>\n",
       "      <th>title</th>\n",
       "      <th>image_thumbnail</th>\n",
       "    </tr>\n",
       "  </thead>\n",
       "  <tbody>\n",
       "    <tr>\n",
       "      <th>0</th>\n",
       "      <td>0</td>\n",
       "      <td>sell</td>\n",
       "      <td>PH</td>\n",
       "      <td>Mataderos</td>\n",
       "      <td>|Argentina|Capital Federal|Mataderos|</td>\n",
       "      <td>Argentina</td>\n",
       "      <td>Capital Federal</td>\n",
       "      <td>3430787.0</td>\n",
       "      <td>-34.6618237,-58.5088387</td>\n",
       "      <td>-34.661824</td>\n",
       "      <td>...</td>\n",
       "      <td>40.0</td>\n",
       "      <td>1127.272727</td>\n",
       "      <td>1550.000000</td>\n",
       "      <td>NaN</td>\n",
       "      <td>NaN</td>\n",
       "      <td>NaN</td>\n",
       "      <td>http://www.properati.com.ar/15bo8_venta_ph_mat...</td>\n",
       "      <td>2 AMBIENTES TIPO CASA PLANTA BAJA POR PASILLO,...</td>\n",
       "      <td>2 AMB TIPO CASA SIN EXPENSAS EN PB</td>\n",
       "      <td>https://thumbs4.properati.com/8/BluUYiHJLhgIIK...</td>\n",
       "    </tr>\n",
       "    <tr>\n",
       "      <th>1</th>\n",
       "      <td>1</td>\n",
       "      <td>sell</td>\n",
       "      <td>apartment</td>\n",
       "      <td>La Plata</td>\n",
       "      <td>|Argentina|Bs.As. G.B.A. Zona Sur|La Plata|</td>\n",
       "      <td>Argentina</td>\n",
       "      <td>Bs.As. G.B.A. Zona Sur</td>\n",
       "      <td>3432039.0</td>\n",
       "      <td>-34.9038831,-57.9643295</td>\n",
       "      <td>-34.903883</td>\n",
       "      <td>...</td>\n",
       "      <td>NaN</td>\n",
       "      <td>NaN</td>\n",
       "      <td>NaN</td>\n",
       "      <td>NaN</td>\n",
       "      <td>NaN</td>\n",
       "      <td>NaN</td>\n",
       "      <td>http://www.properati.com.ar/15bob_venta_depart...</td>\n",
       "      <td>Venta de departamento en décimo piso al frente...</td>\n",
       "      <td>VENTA Depto 2 dorm. a estrenar 7 e/ 36 y 37   ...</td>\n",
       "      <td>https://thumbs4.properati.com/7/ikpVBu2ztHA7jv...</td>\n",
       "    </tr>\n",
       "    <tr>\n",
       "      <th>2</th>\n",
       "      <td>2</td>\n",
       "      <td>sell</td>\n",
       "      <td>apartment</td>\n",
       "      <td>Mataderos</td>\n",
       "      <td>|Argentina|Capital Federal|Mataderos|</td>\n",
       "      <td>Argentina</td>\n",
       "      <td>Capital Federal</td>\n",
       "      <td>3430787.0</td>\n",
       "      <td>-34.6522615,-58.5229825</td>\n",
       "      <td>-34.652262</td>\n",
       "      <td>...</td>\n",
       "      <td>55.0</td>\n",
       "      <td>1309.090909</td>\n",
       "      <td>1309.090909</td>\n",
       "      <td>NaN</td>\n",
       "      <td>NaN</td>\n",
       "      <td>NaN</td>\n",
       "      <td>http://www.properati.com.ar/15bod_venta_depart...</td>\n",
       "      <td>2 AMBIENTES 3ER PISO LATERAL LIVING COMEDOR AM...</td>\n",
       "      <td>2 AMB 3ER PISO CON ASCENSOR APTO CREDITO</td>\n",
       "      <td>https://thumbs4.properati.com/5/SXKr34F_IwG3W_...</td>\n",
       "    </tr>\n",
       "    <tr>\n",
       "      <th>3</th>\n",
       "      <td>3</td>\n",
       "      <td>sell</td>\n",
       "      <td>PH</td>\n",
       "      <td>Liniers</td>\n",
       "      <td>|Argentina|Capital Federal|Liniers|</td>\n",
       "      <td>Argentina</td>\n",
       "      <td>Capital Federal</td>\n",
       "      <td>3431333.0</td>\n",
       "      <td>-34.6477969,-58.5164244</td>\n",
       "      <td>-34.647797</td>\n",
       "      <td>...</td>\n",
       "      <td>NaN</td>\n",
       "      <td>NaN</td>\n",
       "      <td>NaN</td>\n",
       "      <td>NaN</td>\n",
       "      <td>NaN</td>\n",
       "      <td>NaN</td>\n",
       "      <td>http://www.properati.com.ar/15boh_venta_ph_lin...</td>\n",
       "      <td>PH 3 ambientes con patio. Hay 3 deptos en lote...</td>\n",
       "      <td>PH 3 amb. cfte. reciclado</td>\n",
       "      <td>https://thumbs4.properati.com/3/DgIfX-85Mog5SP...</td>\n",
       "    </tr>\n",
       "    <tr>\n",
       "      <th>4</th>\n",
       "      <td>4</td>\n",
       "      <td>sell</td>\n",
       "      <td>apartment</td>\n",
       "      <td>Centro</td>\n",
       "      <td>|Argentina|Buenos Aires Costa Atlántica|Mar de...</td>\n",
       "      <td>Argentina</td>\n",
       "      <td>Buenos Aires Costa Atlántica</td>\n",
       "      <td>3435548.0</td>\n",
       "      <td>-38.0026256,-57.5494468</td>\n",
       "      <td>-38.002626</td>\n",
       "      <td>...</td>\n",
       "      <td>35.0</td>\n",
       "      <td>1828.571429</td>\n",
       "      <td>1828.571429</td>\n",
       "      <td>NaN</td>\n",
       "      <td>NaN</td>\n",
       "      <td>NaN</td>\n",
       "      <td>http://www.properati.com.ar/15bok_venta_depart...</td>\n",
       "      <td>DEPARTAMENTO CON FANTÁSTICA ILUMINACIÓN NATURA...</td>\n",
       "      <td>DEPTO 2 AMB AL CONTRAFRENTE ZONA CENTRO/PLAZA ...</td>\n",
       "      <td>https://thumbs4.properati.com/5/xrRqlNcSI_vs-f...</td>\n",
       "    </tr>\n",
       "  </tbody>\n",
       "</table>\n",
       "<p>5 rows × 26 columns</p>\n",
       "</div>"
      ],
      "text/plain": [
       "   Unnamed: 0 operation property_type place_name  \\\n",
       "0           0      sell            PH  Mataderos   \n",
       "1           1      sell     apartment   La Plata   \n",
       "2           2      sell     apartment  Mataderos   \n",
       "3           3      sell            PH    Liniers   \n",
       "4           4      sell     apartment     Centro   \n",
       "\n",
       "                             place_with_parent_names country_name  \\\n",
       "0              |Argentina|Capital Federal|Mataderos|    Argentina   \n",
       "1        |Argentina|Bs.As. G.B.A. Zona Sur|La Plata|    Argentina   \n",
       "2              |Argentina|Capital Federal|Mataderos|    Argentina   \n",
       "3                |Argentina|Capital Federal|Liniers|    Argentina   \n",
       "4  |Argentina|Buenos Aires Costa Atlántica|Mar de...    Argentina   \n",
       "\n",
       "                     state_name  geonames_id                  lat-lon  \\\n",
       "0               Capital Federal    3430787.0  -34.6618237,-58.5088387   \n",
       "1        Bs.As. G.B.A. Zona Sur    3432039.0  -34.9038831,-57.9643295   \n",
       "2               Capital Federal    3430787.0  -34.6522615,-58.5229825   \n",
       "3               Capital Federal    3431333.0  -34.6477969,-58.5164244   \n",
       "4  Buenos Aires Costa Atlántica    3435548.0  -38.0026256,-57.5494468   \n",
       "\n",
       "         lat  ...  surface_covered_in_m2  price_usd_per_m2 price_per_m2  \\\n",
       "0 -34.661824  ...                   40.0       1127.272727  1550.000000   \n",
       "1 -34.903883  ...                    NaN               NaN          NaN   \n",
       "2 -34.652262  ...                   55.0       1309.090909  1309.090909   \n",
       "3 -34.647797  ...                    NaN               NaN          NaN   \n",
       "4 -38.002626  ...                   35.0       1828.571429  1828.571429   \n",
       "\n",
       "   floor  rooms  expenses                                      properati_url  \\\n",
       "0    NaN    NaN       NaN  http://www.properati.com.ar/15bo8_venta_ph_mat...   \n",
       "1    NaN    NaN       NaN  http://www.properati.com.ar/15bob_venta_depart...   \n",
       "2    NaN    NaN       NaN  http://www.properati.com.ar/15bod_venta_depart...   \n",
       "3    NaN    NaN       NaN  http://www.properati.com.ar/15boh_venta_ph_lin...   \n",
       "4    NaN    NaN       NaN  http://www.properati.com.ar/15bok_venta_depart...   \n",
       "\n",
       "                                         description  \\\n",
       "0  2 AMBIENTES TIPO CASA PLANTA BAJA POR PASILLO,...   \n",
       "1  Venta de departamento en décimo piso al frente...   \n",
       "2  2 AMBIENTES 3ER PISO LATERAL LIVING COMEDOR AM...   \n",
       "3  PH 3 ambientes con patio. Hay 3 deptos en lote...   \n",
       "4  DEPARTAMENTO CON FANTÁSTICA ILUMINACIÓN NATURA...   \n",
       "\n",
       "                                               title  \\\n",
       "0                 2 AMB TIPO CASA SIN EXPENSAS EN PB   \n",
       "1  VENTA Depto 2 dorm. a estrenar 7 e/ 36 y 37   ...   \n",
       "2           2 AMB 3ER PISO CON ASCENSOR APTO CREDITO   \n",
       "3                       PH 3 amb. cfte. reciclado      \n",
       "4  DEPTO 2 AMB AL CONTRAFRENTE ZONA CENTRO/PLAZA ...   \n",
       "\n",
       "                                     image_thumbnail  \n",
       "0  https://thumbs4.properati.com/8/BluUYiHJLhgIIK...  \n",
       "1  https://thumbs4.properati.com/7/ikpVBu2ztHA7jv...  \n",
       "2  https://thumbs4.properati.com/5/SXKr34F_IwG3W_...  \n",
       "3  https://thumbs4.properati.com/3/DgIfX-85Mog5SP...  \n",
       "4  https://thumbs4.properati.com/5/xrRqlNcSI_vs-f...  \n",
       "\n",
       "[5 rows x 26 columns]"
      ]
     },
     "execution_count": 1,
     "metadata": {},
     "output_type": "execute_result"
    }
   ],
   "source": [
    "#data original\n",
    "\n",
    "import pandas as pd\n",
    "import numpy as np\n",
    "\n",
    "data_location = 'properatti.csv'\n",
    "\n",
    "data = pd.read_csv(data_location)\n",
    "data.head()"
   ]
  },
  {
   "cell_type": "code",
   "execution_count": 2,
   "id": "f024712d",
   "metadata": {},
   "outputs": [
    {
     "data": {
      "text/html": [
       "<div>\n",
       "<style scoped>\n",
       "    .dataframe tbody tr th:only-of-type {\n",
       "        vertical-align: middle;\n",
       "    }\n",
       "\n",
       "    .dataframe tbody tr th {\n",
       "        vertical-align: top;\n",
       "    }\n",
       "\n",
       "    .dataframe thead th {\n",
       "        text-align: right;\n",
       "    }\n",
       "</style>\n",
       "<table border=\"1\" class=\"dataframe\">\n",
       "  <thead>\n",
       "    <tr style=\"text-align: right;\">\n",
       "      <th></th>\n",
       "      <th>property_type</th>\n",
       "      <th>country_name</th>\n",
       "      <th>state_name</th>\n",
       "      <th>price</th>\n",
       "      <th>currency</th>\n",
       "      <th>price_aprox_usd</th>\n",
       "      <th>surface_total_in_m2</th>\n",
       "      <th>surface_covered_in_m2</th>\n",
       "      <th>price_per_m2</th>\n",
       "      <th>rooms</th>\n",
       "      <th>description</th>\n",
       "      <th>title</th>\n",
       "    </tr>\n",
       "  </thead>\n",
       "  <tbody>\n",
       "    <tr>\n",
       "      <th>0</th>\n",
       "      <td>PH</td>\n",
       "      <td>Argentina</td>\n",
       "      <td>Capital Federal</td>\n",
       "      <td>62000.0</td>\n",
       "      <td>USD</td>\n",
       "      <td>62000.0</td>\n",
       "      <td>55.0</td>\n",
       "      <td>40.0</td>\n",
       "      <td>1550.000000</td>\n",
       "      <td>NaN</td>\n",
       "      <td>2 AMBIENTES TIPO CASA PLANTA BAJA POR PASILLO,...</td>\n",
       "      <td>2 AMB TIPO CASA SIN EXPENSAS EN PB</td>\n",
       "    </tr>\n",
       "    <tr>\n",
       "      <th>1</th>\n",
       "      <td>apartment</td>\n",
       "      <td>Argentina</td>\n",
       "      <td>Bs.As. G.B.A. Zona Sur</td>\n",
       "      <td>150000.0</td>\n",
       "      <td>USD</td>\n",
       "      <td>150000.0</td>\n",
       "      <td>NaN</td>\n",
       "      <td>NaN</td>\n",
       "      <td>NaN</td>\n",
       "      <td>NaN</td>\n",
       "      <td>Venta de departamento en décimo piso al frente...</td>\n",
       "      <td>VENTA Depto 2 dorm. a estrenar 7 e/ 36 y 37   ...</td>\n",
       "    </tr>\n",
       "    <tr>\n",
       "      <th>2</th>\n",
       "      <td>apartment</td>\n",
       "      <td>Argentina</td>\n",
       "      <td>Capital Federal</td>\n",
       "      <td>72000.0</td>\n",
       "      <td>USD</td>\n",
       "      <td>72000.0</td>\n",
       "      <td>55.0</td>\n",
       "      <td>55.0</td>\n",
       "      <td>1309.090909</td>\n",
       "      <td>NaN</td>\n",
       "      <td>2 AMBIENTES 3ER PISO LATERAL LIVING COMEDOR AM...</td>\n",
       "      <td>2 AMB 3ER PISO CON ASCENSOR APTO CREDITO</td>\n",
       "    </tr>\n",
       "    <tr>\n",
       "      <th>3</th>\n",
       "      <td>PH</td>\n",
       "      <td>Argentina</td>\n",
       "      <td>Capital Federal</td>\n",
       "      <td>95000.0</td>\n",
       "      <td>USD</td>\n",
       "      <td>95000.0</td>\n",
       "      <td>NaN</td>\n",
       "      <td>NaN</td>\n",
       "      <td>NaN</td>\n",
       "      <td>NaN</td>\n",
       "      <td>PH 3 ambientes con patio. Hay 3 deptos en lote...</td>\n",
       "      <td>PH 3 amb. cfte. reciclado</td>\n",
       "    </tr>\n",
       "    <tr>\n",
       "      <th>4</th>\n",
       "      <td>apartment</td>\n",
       "      <td>Argentina</td>\n",
       "      <td>Buenos Aires Costa Atlántica</td>\n",
       "      <td>64000.0</td>\n",
       "      <td>USD</td>\n",
       "      <td>64000.0</td>\n",
       "      <td>35.0</td>\n",
       "      <td>35.0</td>\n",
       "      <td>1828.571429</td>\n",
       "      <td>NaN</td>\n",
       "      <td>DEPARTAMENTO CON FANTÁSTICA ILUMINACIÓN NATURA...</td>\n",
       "      <td>DEPTO 2 AMB AL CONTRAFRENTE ZONA CENTRO/PLAZA ...</td>\n",
       "    </tr>\n",
       "  </tbody>\n",
       "</table>\n",
       "</div>"
      ],
      "text/plain": [
       "  property_type country_name                    state_name     price currency  \\\n",
       "0            PH    Argentina               Capital Federal   62000.0      USD   \n",
       "1     apartment    Argentina        Bs.As. G.B.A. Zona Sur  150000.0      USD   \n",
       "2     apartment    Argentina               Capital Federal   72000.0      USD   \n",
       "3            PH    Argentina               Capital Federal   95000.0      USD   \n",
       "4     apartment    Argentina  Buenos Aires Costa Atlántica   64000.0      USD   \n",
       "\n",
       "   price_aprox_usd  surface_total_in_m2  surface_covered_in_m2  price_per_m2  \\\n",
       "0          62000.0                 55.0                   40.0   1550.000000   \n",
       "1         150000.0                  NaN                    NaN           NaN   \n",
       "2          72000.0                 55.0                   55.0   1309.090909   \n",
       "3          95000.0                  NaN                    NaN           NaN   \n",
       "4          64000.0                 35.0                   35.0   1828.571429   \n",
       "\n",
       "   rooms                                        description  \\\n",
       "0    NaN  2 AMBIENTES TIPO CASA PLANTA BAJA POR PASILLO,...   \n",
       "1    NaN  Venta de departamento en décimo piso al frente...   \n",
       "2    NaN  2 AMBIENTES 3ER PISO LATERAL LIVING COMEDOR AM...   \n",
       "3    NaN  PH 3 ambientes con patio. Hay 3 deptos en lote...   \n",
       "4    NaN  DEPARTAMENTO CON FANTÁSTICA ILUMINACIÓN NATURA...   \n",
       "\n",
       "                                               title  \n",
       "0                 2 AMB TIPO CASA SIN EXPENSAS EN PB  \n",
       "1  VENTA Depto 2 dorm. a estrenar 7 e/ 36 y 37   ...  \n",
       "2           2 AMB 3ER PISO CON ASCENSOR APTO CREDITO  \n",
       "3                       PH 3 amb. cfte. reciclado     \n",
       "4  DEPTO 2 AMB AL CONTRAFRENTE ZONA CENTRO/PLAZA ...  "
      ]
     },
     "execution_count": 2,
     "metadata": {},
     "output_type": "execute_result"
    }
   ],
   "source": [
    "#creamos nuevo data frame para laburar\n",
    "\n",
    "df_nuevo1 = data.loc[:,['property_type', 'country_name', 'state_name', 'price', 'currency', 'price_aprox_usd', 'surface_total_in_m2','surface_covered_in_m2','price_per_m2', 'rooms','description', 'title']]\n",
    "df_nuevo1.head()"
   ]
  },
  {
   "cell_type": "code",
   "execution_count": 20,
   "id": "16428411",
   "metadata": {},
   "outputs": [
    {
     "data": {
      "text/plain": [
       "NaN       39328\n",
       "50.0       1721\n",
       "40.0       1698\n",
       "45.0       1404\n",
       "60.0       1396\n",
       "          ...  \n",
       "1465.0        1\n",
       "6648.0        1\n",
       "1682.0        1\n",
       "838.0         1\n",
       "1038.0        1\n",
       "Name: surface_total_in_m2, Length: 1688, dtype: int64"
      ]
     },
     "execution_count": 20,
     "metadata": {},
     "output_type": "execute_result"
    }
   ],
   "source": [
    "#contamos los valores de total_surface\n",
    "\n",
    "df_nuevo1.surface_total_in_m2.value_counts(dropna = False)"
   ]
  },
  {
   "cell_type": "code",
   "execution_count": 21,
   "id": "3fc54b0c",
   "metadata": {},
   "outputs": [
    {
     "data": {
      "text/plain": [
       "NaN       19907\n",
       "40.0       2736\n",
       "50.0       2184\n",
       "45.0       2142\n",
       "60.0       1888\n",
       "          ...  \n",
       "843.0         1\n",
       "810.0         1\n",
       "4350.0        1\n",
       "960.0         1\n",
       "1761.0        1\n",
       "Name: surface_covered_in_m2, Length: 996, dtype: int64"
      ]
     },
     "execution_count": 21,
     "metadata": {},
     "output_type": "execute_result"
    }
   ],
   "source": [
    "#contamos los valores de covered_surface\n",
    "\n",
    "\n",
    "df_nuevo1.surface_covered_in_m2.value_counts(dropna = False)"
   ]
  },
  {
   "cell_type": "code",
   "execution_count": 24,
   "id": "600a9e1f",
   "metadata": {},
   "outputs": [],
   "source": [
    "#cambiamos los valores .nan por ceros\n",
    "\n",
    "df_nuevo1['total_en_zeros'] = df_nuevo1['surface_total_in_m2'].fillna(0)\n",
    "df_nuevo1['covered_en_zeros'] = df_nuevo1['surface_covered_in_m2'].fillna(0)"
   ]
  },
  {
   "cell_type": "code",
   "execution_count": 25,
   "id": "fc479fb4",
   "metadata": {},
   "outputs": [
    {
     "data": {
      "text/plain": [
       "apartment    71065\n",
       "house        40268\n",
       "PH            5751\n",
       "store         4136\n",
       "Name: property_type, dtype: int64"
      ]
     },
     "execution_count": 25,
     "metadata": {},
     "output_type": "execute_result"
    }
   ],
   "source": [
    "#contamos los tipos de propiedad\n",
    "\n",
    "df_nuevo1.property_type.value_counts(dropna = False)"
   ]
  },
  {
   "cell_type": "code",
   "execution_count": 81,
   "id": "c37dec9b",
   "metadata": {},
   "outputs": [
    {
     "name": "stdout",
     "output_type": "stream",
     "text": [
      "Función Apartment: 1.44564000550622\n",
      "Función House: 3.811037496054194\n",
      "Función PH: 1.4858482403148943\n",
      "Función Store: 1.6677401233906952\n"
     ]
    }
   ],
   "source": [
    "#Creamos función para hacer el promedio de total vs covered según el tipo de propiedad\n",
    "\n",
    "def average_in(prop):\n",
    "    property_type = df_nuevo1['property_type'] == prop\n",
    "    average_type = df_nuevo1[property_type]\n",
    "    average = average_type.apply(lambda x : np.nan if x['total_en_zeros'] == 0 or x['covered_en_zeros'] == 0 else x['total_en_zeros']/x['covered_en_zeros'], axis = 1)\n",
    "    return average.mean()\n",
    "\n",
    "ap = 'apartment'\n",
    "ho = 'house'\n",
    "ph = 'PH'\n",
    "st = 'store'\n",
    "\n",
    "function_ap = average_in(ap)\n",
    "function_ho = average_in(ho)\n",
    "function_ph = average_in(ph)\n",
    "function_st = average_in(st)\n",
    "\n",
    "print('Función Apartment:', function_ap)\n",
    "print('Función House:', function_ho)\n",
    "print('Función PH:', function_ph)\n",
    "print('Función Store:', function_st)"
   ]
  },
  {
   "cell_type": "code",
   "execution_count": 61,
   "id": "817fd10f",
   "metadata": {},
   "outputs": [
    {
     "data": {
      "text/plain": [
       "0.000000        26032\n",
       "50.000000        1721\n",
       "40.000000        1698\n",
       "45.000000        1404\n",
       "60.000000        1396\n",
       "                ...  \n",
       "1530.000000         1\n",
       "14666.017856        1\n",
       "1259.000000         1\n",
       "1330.000000         1\n",
       "4590.000000         1\n",
       "Length: 2041, dtype: int64"
      ]
     },
     "execution_count": 61,
     "metadata": {},
     "output_type": "execute_result"
    }
   ],
   "source": [
    "# imputamos los APARTMENT con surface_total en cero y con dato en covered \n",
    "\n",
    "total_ap = df_nuevo1.apply(lambda x : (x['covered_en_zeros']*function_ap) if x['total_en_zeros']==0 and x['covered_en_zeros'] != 0 and x['property_type'] == ap else 0, axis=1)\n",
    "apartment_total = total_ap + df_nuevo1['total_en_zeros']\n",
    "apartment_total.value_counts()\n",
    "\n"
   ]
  },
  {
   "cell_type": "code",
   "execution_count": 41,
   "id": "cccc307c",
   "metadata": {},
   "outputs": [
    {
     "data": {
      "text/plain": [
       "0.000000       15128\n",
       "40.000000       2736\n",
       "50.000000       2184\n",
       "45.000000       2142\n",
       "60.000000       1888\n",
       "               ...  \n",
       "595.000000         1\n",
       "170.166846         1\n",
       "4906.000000        1\n",
       "1416.000000        1\n",
       "240.723831         1\n",
       "Length: 1249, dtype: int64"
      ]
     },
     "execution_count": 41,
     "metadata": {},
     "output_type": "execute_result"
    }
   ],
   "source": [
    "# imputamos los APARTMENT con surface_covered en cero y con dato en total \n",
    "\n",
    "\n",
    "covered_ap = df_nuevo1.apply(lambda x : (x['total_en_zeros']/function_ap) if x['covered_en_zeros']==0 and x['total_en_zeros'] != 0 and x['property_type'] == ap else 0, axis=1)\n",
    "apartment_covered = covered_ap + df_nuevo1['covered_en_zeros']\n",
    "apartment_covered.value_counts()"
   ]
  },
  {
   "cell_type": "code",
   "execution_count": 42,
   "id": "c5546346",
   "metadata": {},
   "outputs": [
    {
     "data": {
      "text/plain": [
       "0.0       28898\n",
       "50.0       1721\n",
       "40.0       1698\n",
       "45.0       1404\n",
       "60.0       1396\n",
       "          ...  \n",
       "3181.0        1\n",
       "1611.0        1\n",
       "3250.0        1\n",
       "2029.0        1\n",
       "1241.0        1\n",
       "Length: 2291, dtype: int64"
      ]
     },
     "execution_count": 42,
     "metadata": {},
     "output_type": "execute_result"
    }
   ],
   "source": [
    "## imputamos los HOUSES con surface_total en cero y con dato en covered \n",
    "\n",
    "total_ho = df_nuevo1.apply(lambda x : (x['covered_en_zeros']*function_ho) if x['total_en_zeros']==0 and x['covered_en_zeros'] != 0 and x['property_type'] == ho else 0, axis=1)\n",
    "house_total = total_ho + df_nuevo1['total_en_zeros']\n",
    "house_total.value_counts()"
   ]
  },
  {
   "cell_type": "code",
   "execution_count": 44,
   "id": "9e45b8ed",
   "metadata": {},
   "outputs": [
    {
     "data": {
      "text/plain": [
       "0.000000       18215\n",
       "40.000000       2736\n",
       "50.000000       2184\n",
       "45.000000       2142\n",
       "60.000000       1888\n",
       "               ...  \n",
       "9152.000000        1\n",
       "70.584454          1\n",
       "5426.000000        1\n",
       "937.000000         1\n",
       "2300.000000        1\n",
       "Length: 1464, dtype: int64"
      ]
     },
     "execution_count": 44,
     "metadata": {},
     "output_type": "execute_result"
    }
   ],
   "source": [
    "# imputamos los houses con surface_covered en cero y con dato en tot \n",
    "\n",
    "\n",
    "covered_ho = df_nuevo1.apply(lambda x : (x['total_en_zeros']/function_ho) if x['covered_en_zeros']==0 and x['total_en_zeros'] != 0 and x['property_type'] == ho else 0, axis=1)\n",
    "house_covered = covered_ho + df_nuevo1['covered_en_zeros']\n",
    "house_covered.value_counts()"
   ]
  },
  {
   "cell_type": "code",
   "execution_count": 45,
   "id": "fc9df0fe",
   "metadata": {},
   "outputs": [
    {
     "data": {
      "text/plain": [
       "0.0        38158\n",
       "50.0        1721\n",
       "40.0        1698\n",
       "45.0        1404\n",
       "60.0        1396\n",
       "           ...  \n",
       "1983.0         1\n",
       "25980.0        1\n",
       "711.0          1\n",
       "1891.0         1\n",
       "3230.0         1\n",
       "Length: 1874, dtype: int64"
      ]
     },
     "execution_count": 45,
     "metadata": {},
     "output_type": "execute_result"
    }
   ],
   "source": [
    "# imputamos los PH con surface_total en cero y con dato en covered \n",
    "\n",
    "\n",
    "total_ph = df_nuevo1.apply(lambda x : (x['covered_en_zeros']*function_ph) if x['total_en_zeros']==0 and x['covered_en_zeros'] != 0 and x['property_type'] == ph else 0, axis=1)\n",
    "ph_total = total_ph + df_nuevo1['total_en_zeros']\n",
    "ph_total.value_counts()"
   ]
  },
  {
   "cell_type": "code",
   "execution_count": 46,
   "id": "8c5390c0",
   "metadata": {},
   "outputs": [
    {
     "data": {
      "text/plain": [
       "0.000000       19676\n",
       "40.000000       2736\n",
       "50.000000       2184\n",
       "45.000000       2142\n",
       "60.000000       1888\n",
       "               ...  \n",
       "24.901601          1\n",
       "4550.000000        1\n",
       "1215.000000        1\n",
       "803.000000         1\n",
       "292.762066         1\n",
       "Length: 1109, dtype: int64"
      ]
     },
     "execution_count": 46,
     "metadata": {},
     "output_type": "execute_result"
    }
   ],
   "source": [
    "# imputamos los PH con surface_covered en cero y con dato en total \n",
    "\n",
    "\n",
    "covered_ph = df_nuevo1.apply(lambda x : (x['total_en_zeros']/function_ph) if x['covered_en_zeros']==0 and x['total_en_zeros'] != 0 and x['property_type'] == ph else 0, axis=1)\n",
    "ph_covered = covered_ph + df_nuevo1['covered_en_zeros']\n",
    "ph_covered.value_counts()"
   ]
  },
  {
   "cell_type": "code",
   "execution_count": 66,
   "id": "f3acb133",
   "metadata": {},
   "outputs": [
    {
     "data": {
      "text/plain": [
       "0    55.0\n",
       "1     0.0\n",
       "2    55.0\n",
       "3     0.0\n",
       "4    35.0\n",
       "dtype: float64"
      ]
     },
     "execution_count": 66,
     "metadata": {},
     "output_type": "execute_result"
    }
   ],
   "source": [
    "# imputamos los STORES con surface_total en cero y con dato en covered \n",
    "\n",
    "\n",
    "total_st = df_nuevo1.apply(lambda x : (x['covered_en_zeros']*function_st) if x['total_en_zeros']==0 and x['covered_en_zeros'] != 0 and x['property_type'] == st else 0, axis=1)\n",
    "store_total = total_st + df_nuevo1['total_en_zeros']\n",
    "store_total.head()"
   ]
  },
  {
   "cell_type": "code",
   "execution_count": 65,
   "id": "9f0a409a",
   "metadata": {},
   "outputs": [
    {
     "data": {
      "text/plain": [
       "0    40.0\n",
       "1     0.0\n",
       "2    55.0\n",
       "3     0.0\n",
       "4    35.0\n",
       "dtype: float64"
      ]
     },
     "execution_count": 65,
     "metadata": {},
     "output_type": "execute_result"
    }
   ],
   "source": [
    "# imputamos los STORES con surface_covered en cero y con dato en total \n",
    "\n",
    "\n",
    "covered_st = df_nuevo1.apply(lambda x : (x['total_en_zeros']/function_st) if x['covered_en_zeros']==0 and x['total_en_zeros'] != 0 and x['property_type'] == st else 0, axis=1)\n",
    "store_covered = covered_st + df_nuevo1['covered_en_zeros']\n",
    "store_covered.head()\n",
    "\n"
   ]
  },
  {
   "cell_type": "code",
   "execution_count": 73,
   "id": "c96b9a36",
   "metadata": {},
   "outputs": [
    {
     "name": "stdout",
     "output_type": "stream",
     "text": [
      "0.000000       12752\n",
      "40.000000       2736\n",
      "50.000000       2184\n",
      "45.000000       2142\n",
      "60.000000       1888\n",
      "               ...  \n",
      "1133.000000        1\n",
      "415.041087         1\n",
      "24.402804          1\n",
      "409.507206         1\n",
      "1663.000000        1\n",
      "Name: covered_imputados, Length: 2057, dtype: int64\n",
      "0.000000       12752\n",
      "50.000000       1721\n",
      "40.000000       1698\n",
      "45.000000       1404\n",
      "60.000000       1396\n",
      "               ...  \n",
      "1543.470186        1\n",
      "48.364464          1\n",
      "374.420761         1\n",
      "991.000000         1\n",
      "1288.000000        1\n",
      "Name: total_imputados, Length: 3111, dtype: int64\n"
     ]
    }
   ],
   "source": [
    "# creamos las columnas con las nuevas imputaciones y las contamos\n",
    "\n",
    "df_nuevo1['covered_imputados'] = covered_st + covered_ph + covered_ho + covered_ap + df_nuevo1['covered_en_zeros']\n",
    "df_nuevo1['total_imputados'] = total_st + total_ph + total_ho + total_ap + df_nuevo1['total_en_zeros']\n",
    "print(df_nuevo1['covered_imputados'].value_counts())\n",
    "print(df_nuevo1['total_imputados'].value_counts())"
   ]
  },
  {
   "cell_type": "code",
   "execution_count": 74,
   "id": "dcf0e23e",
   "metadata": {},
   "outputs": [
    {
     "name": "stdout",
     "output_type": "stream",
     "text": [
      "117.4589180140329\n",
      "247.80693047674754\n"
     ]
    }
   ],
   "source": [
    "#comparamos la media de los nuevos datos\n",
    "\n",
    "print(df_nuevo1['covered_imputados'].mean())\n",
    "print(df_nuevo1['total_imputados'].mean())"
   ]
  },
  {
   "cell_type": "code",
   "execution_count": 75,
   "id": "1d689be8",
   "metadata": {},
   "outputs": [
    {
     "name": "stdout",
     "output_type": "stream",
     "text": [
      "133.05018112186985\n",
      "233.79532799296635\n"
     ]
    }
   ],
   "source": [
    "#comparamos la media de los datos originales\n",
    "\n",
    "print(df_nuevo1['surface_covered_in_m2'].mean())\n",
    "print(df_nuevo1['surface_total_in_m2'].mean())"
   ]
  },
  {
   "cell_type": "code",
   "execution_count": 76,
   "id": "55d354dc",
   "metadata": {},
   "outputs": [
    {
     "name": "stdout",
     "output_type": "stream",
     "text": [
      "2.109732787144709\n"
     ]
    }
   ],
   "source": [
    "#comparamos la media de total sobre la media de covered (sin desglosar por tipo de propiedad el ratio era 1.1)\n",
    "\n",
    "print((df_nuevo1['total_imputados'].mean())/(df_nuevo1['covered_imputados']).mean())"
   ]
  },
  {
   "cell_type": "code",
   "execution_count": 80,
   "id": "2071edad",
   "metadata": {},
   "outputs": [
    {
     "data": {
      "text/html": [
       "<div>\n",
       "<style scoped>\n",
       "    .dataframe tbody tr th:only-of-type {\n",
       "        vertical-align: middle;\n",
       "    }\n",
       "\n",
       "    .dataframe tbody tr th {\n",
       "        vertical-align: top;\n",
       "    }\n",
       "\n",
       "    .dataframe thead th {\n",
       "        text-align: right;\n",
       "    }\n",
       "</style>\n",
       "<table border=\"1\" class=\"dataframe\">\n",
       "  <thead>\n",
       "    <tr style=\"text-align: right;\">\n",
       "      <th></th>\n",
       "      <th>total_imputados</th>\n",
       "      <th>covered_imputados</th>\n",
       "    </tr>\n",
       "  </thead>\n",
       "  <tbody>\n",
       "    <tr>\n",
       "      <th>0</th>\n",
       "      <td>55.0</td>\n",
       "      <td>40.0</td>\n",
       "    </tr>\n",
       "    <tr>\n",
       "      <th>1</th>\n",
       "      <td>0.0</td>\n",
       "      <td>0.0</td>\n",
       "    </tr>\n",
       "    <tr>\n",
       "      <th>2</th>\n",
       "      <td>55.0</td>\n",
       "      <td>55.0</td>\n",
       "    </tr>\n",
       "    <tr>\n",
       "      <th>3</th>\n",
       "      <td>0.0</td>\n",
       "      <td>0.0</td>\n",
       "    </tr>\n",
       "    <tr>\n",
       "      <th>4</th>\n",
       "      <td>35.0</td>\n",
       "      <td>35.0</td>\n",
       "    </tr>\n",
       "    <tr>\n",
       "      <th>...</th>\n",
       "      <td>...</td>\n",
       "      <td>...</td>\n",
       "    </tr>\n",
       "    <tr>\n",
       "      <th>121215</th>\n",
       "      <td>113.0</td>\n",
       "      <td>93.0</td>\n",
       "    </tr>\n",
       "    <tr>\n",
       "      <th>121216</th>\n",
       "      <td>360.0</td>\n",
       "      <td>360.0</td>\n",
       "    </tr>\n",
       "    <tr>\n",
       "      <th>121217</th>\n",
       "      <td>46.0</td>\n",
       "      <td>39.0</td>\n",
       "    </tr>\n",
       "    <tr>\n",
       "      <th>121218</th>\n",
       "      <td>48.0</td>\n",
       "      <td>48.0</td>\n",
       "    </tr>\n",
       "    <tr>\n",
       "      <th>121219</th>\n",
       "      <td>77.0</td>\n",
       "      <td>77.0</td>\n",
       "    </tr>\n",
       "  </tbody>\n",
       "</table>\n",
       "<p>121220 rows × 2 columns</p>\n",
       "</div>"
      ],
      "text/plain": [
       "        total_imputados  covered_imputados\n",
       "0                  55.0               40.0\n",
       "1                   0.0                0.0\n",
       "2                  55.0               55.0\n",
       "3                   0.0                0.0\n",
       "4                  35.0               35.0\n",
       "...                 ...                ...\n",
       "121215            113.0               93.0\n",
       "121216            360.0              360.0\n",
       "121217             46.0               39.0\n",
       "121218             48.0               48.0\n",
       "121219             77.0               77.0\n",
       "\n",
       "[121220 rows x 2 columns]"
      ]
     },
     "execution_count": 80,
     "metadata": {},
     "output_type": "execute_result"
    }
   ],
   "source": [
    "#vemos las nuevas columnas\n",
    "\n",
    "df_nuevo1.loc[:,['total_imputados', 'covered_imputados']]"
   ]
  },
  {
   "cell_type": "code",
   "execution_count": null,
   "id": "2ac27978",
   "metadata": {},
   "outputs": [],
   "source": []
  }
 ],
 "metadata": {
  "kernelspec": {
   "display_name": "Python [conda env:dhdsblend2021_clase100] *",
   "language": "python",
   "name": "conda-env-dhdsblend2021_clase100-py"
  },
  "language_info": {
   "codemirror_mode": {
    "name": "ipython",
    "version": 3
   },
   "file_extension": ".py",
   "mimetype": "text/x-python",
   "name": "python",
   "nbconvert_exporter": "python",
   "pygments_lexer": "ipython3",
   "version": "3.7.10"
  }
 },
 "nbformat": 4,
 "nbformat_minor": 5
}
