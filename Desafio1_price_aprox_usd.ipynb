{
 "cells": [
  {
   "cell_type": "markdown",
   "id": "through-carbon",
   "metadata": {},
   "source": [
    "# *DESAFIO 1*\n",
    "\n",
    "- #### Como primer medida vamos a importar las librerías que vamos a utilizar a lo largo de la notebook, y todas las herramientas que creamos necesarias. "
   ]
  },
  {
   "cell_type": "code",
   "execution_count": 1,
   "id": "logical-reliance",
   "metadata": {},
   "outputs": [],
   "source": [
    "import pandas as pd\n",
    "import numpy as np \n",
    "import matplotlib.pyplot as plt\n",
    "import seaborn as sns \n",
    "import re \n",
    "\n",
    "%matplotlib inline"
   ]
  },
  {
   "cell_type": "markdown",
   "id": "running-boston",
   "metadata": {},
   "source": [
    "- #### El siguiente paso es importar el Dataset y comenzar a revisarlo"
   ]
  },
  {
   "cell_type": "code",
   "execution_count": 2,
   "id": "polyphonic-florist",
   "metadata": {},
   "outputs": [],
   "source": [
    "data_location = 'C:/Users/USUARIO/Desktop/Digital House - DS/Data Sets/properatti.csv'\n",
    "data = pd.read_csv(data_location)\n",
    "\n",
    "data_final = data[['property_type','place_name','place_with_parent_names','state_name','price','currency','price_aprox_usd',\n",
    "                         'surface_total_in_m2','surface_covered_in_m2','price_per_m2','rooms','description','title']].copy()"
   ]
  },
  {
   "cell_type": "code",
   "execution_count": 3,
   "id": "awful-electricity",
   "metadata": {},
   "outputs": [
    {
     "data": {
      "text/plain": [
       "property_type               object\n",
       "place_name                  object\n",
       "place_with_parent_names     object\n",
       "state_name                  object\n",
       "price                      float64\n",
       "currency                    object\n",
       "price_aprox_usd            float64\n",
       "surface_total_in_m2        float64\n",
       "surface_covered_in_m2      float64\n",
       "price_per_m2               float64\n",
       "rooms                      float64\n",
       "description                 object\n",
       "title                       object\n",
       "dtype: object"
      ]
     },
     "execution_count": 3,
     "metadata": {},
     "output_type": "execute_result"
    }
   ],
   "source": [
    "data_final.dtypes"
   ]
  },
  {
   "cell_type": "code",
   "execution_count": 4,
   "id": "recorded-express",
   "metadata": {},
   "outputs": [
    {
     "name": "stdout",
     "output_type": "stream",
     "text": [
      "property_type              0.000000\n",
      "place_name                 0.000190\n",
      "place_with_parent_names    0.000000\n",
      "state_name                 0.000000\n",
      "price                      0.168372\n",
      "currency                   0.168380\n",
      "price_aprox_usd            0.168372\n",
      "surface_total_in_m2        0.324435\n",
      "surface_covered_in_m2      0.164222\n",
      "price_per_m2               0.276869\n",
      "rooms                      0.609058\n",
      "description                0.000016\n",
      "title                      0.000000\n",
      "dtype: float64 \n",
      "\n"
     ]
    }
   ],
   "source": [
    "print(data_final.isnull().sum() / data_final.shape[0], '\\n')"
   ]
  },
  {
   "cell_type": "markdown",
   "id": "practical-webcam",
   "metadata": {},
   "source": [
    "- #### Miramos si hay valores duplicados. En caso de que los haya, los eliminamos"
   ]
  },
  {
   "cell_type": "code",
   "execution_count": 5,
   "id": "worthy-consumer",
   "metadata": {},
   "outputs": [
    {
     "name": "stdout",
     "output_type": "stream",
     "text": [
      "121220\n",
      "5410\n",
      "----\n",
      "115810\n"
     ]
    }
   ],
   "source": [
    "duplicados = data_final.duplicated()\n",
    "print(duplicados.shape[0])\n",
    "print(duplicados.sum())\n",
    "print('----')\n",
    "\n",
    "data_final.loc[duplicados].head(40)\n",
    "data_final.drop_duplicates(inplace=True)\n",
    "\n",
    "print(data_final.shape[0])"
   ]
  },
  {
   "cell_type": "code",
   "execution_count": 6,
   "id": "bridal-needle",
   "metadata": {},
   "outputs": [
    {
     "name": "stdout",
     "output_type": "stream",
     "text": [
      "115810\n"
     ]
    }
   ],
   "source": [
    "data_final.drop_duplicates(inplace=True)\n",
    "print(data_final.shape[0])"
   ]
  },
  {
   "cell_type": "markdown",
   "id": "extraordinary-boutique",
   "metadata": {},
   "source": [
    "- #### *Investigamos la columna price_aprox_usd*"
   ]
  },
  {
   "cell_type": "code",
   "execution_count": 7,
   "id": "early-bouquet",
   "metadata": {},
   "outputs": [
    {
     "name": "stdout",
     "output_type": "stream",
     "text": [
      "Tamaño columna price ---> 115810 \n",
      "\n",
      "Valores nulos columna price ---> 17374 \n",
      "\n",
      "Valores NO nulos columna price ---> 98436 \n",
      "\n",
      "count    9.843600e+04\n",
      "mean     2.408911e+05\n",
      "std      3.938126e+05\n",
      "min      0.000000e+00\n",
      "25%      9.000000e+04\n",
      "50%      1.450000e+05\n",
      "75%      2.680000e+05\n",
      "max      4.654544e+07\n",
      "Name: price_aprox_usd, dtype: float64 \n",
      "\n"
     ]
    }
   ],
   "source": [
    "print('Tamaño columna price --->', data_final['price_aprox_usd'].shape[0], '\\n')\n",
    "print('Valores nulos columna price --->', data_final['price_aprox_usd'].isnull().sum(), '\\n')\n",
    "print('Valores NO nulos columna price --->', data_final['price_aprox_usd'].notnull().sum(), '\\n')\n",
    "print(data_final['price_aprox_usd'].describe(), '\\n')"
   ]
  },
  {
   "cell_type": "markdown",
   "id": "future-classroom",
   "metadata": {},
   "source": [
    "- #### *Investigamos la columna property_type*"
   ]
  },
  {
   "cell_type": "code",
   "execution_count": 8,
   "id": "covered-papua",
   "metadata": {},
   "outputs": [
    {
     "data": {
      "text/plain": [
       "apartment    66418\n",
       "house        39712\n",
       "PH            5613\n",
       "store         4067\n",
       "Name: property_type, dtype: int64"
      ]
     },
     "execution_count": 8,
     "metadata": {},
     "output_type": "execute_result"
    }
   ],
   "source": [
    "data_final['property_type'].value_counts()"
   ]
  },
  {
   "cell_type": "code",
   "execution_count": 9,
   "id": "advance-flavor",
   "metadata": {},
   "outputs": [
    {
     "data": {
      "text/plain": [
       "count        115810\n",
       "unique            4\n",
       "top       apartment\n",
       "freq          66418\n",
       "Name: property_type, dtype: object"
      ]
     },
     "execution_count": 9,
     "metadata": {},
     "output_type": "execute_result"
    }
   ],
   "source": [
    "data_final['property_type'].describe()"
   ]
  },
  {
   "cell_type": "code",
   "execution_count": 68,
   "id": "operational-fishing",
   "metadata": {},
   "outputs": [],
   "source": [
    "price_aprox_usd = data_final['price_aprox_usd']\n",
    "property_type_PH = data_final['property_type'] == 'PH' \n",
    "PH_price = price_aprox_usd[property_type_PH]\n",
    "\n",
    "property_type_apartment = data_final['property_type'] == 'apartment' \n",
    "apartment_price = price_aprox_usd[property_type_apartment]\n",
    "\n",
    "property_type_house = data_final['property_type'] == 'house' \n",
    "house_price = price_aprox_usd[property_type_house]\n",
    "\n",
    "property_type_store = data_final['property_type'] == 'store' \n",
    "store_price = price_aprox_usd[property_type_store]"
   ]
  },
  {
   "cell_type": "code",
   "execution_count": 69,
   "id": "composite-steering",
   "metadata": {},
   "outputs": [
    {
     "name": "stdout",
     "output_type": "stream",
     "text": [
      "Cantidad de nulos en PH ---> 0.08070550507749866 \n",
      "\n",
      "Cantidad de nulos en apartment ---> 0.1325694841759764 \n",
      "\n",
      "Cantidad de nulos en house ---> 0.18289182111200644 \n",
      "\n",
      "Cantidad de nulos en store ---> 0.20973690681091714 \n",
      "\n"
     ]
    }
   ],
   "source": [
    "print('Cantidad de nulos en PH --->', PH_price.isnull().sum() / PH_price.shape[0] , '\\n')\n",
    "print('Cantidad de nulos en apartment --->', apartment_price.isnull().sum() / apartment_price.shape[0] , '\\n')\n",
    "print('Cantidad de nulos en house --->', house_price.isnull().sum() / house_price.shape[0] , '\\n')\n",
    "print('Cantidad de nulos en store --->', store_price.isnull().sum() / store_price.shape[0] , '\\n')"
   ]
  },
  {
   "cell_type": "markdown",
   "id": "horizontal-germany",
   "metadata": {},
   "source": [
    "- #### Cantidad de outliers para PH "
   ]
  },
  {
   "cell_type": "code",
   "execution_count": 12,
   "id": "durable-parker",
   "metadata": {},
   "outputs": [
    {
     "data": {
      "text/plain": [
       "count    5.160000e+03\n",
       "mean     1.478231e+05\n",
       "std      1.496184e+05\n",
       "min      5.047530e+03\n",
       "25%      8.500000e+04\n",
       "50%      1.200000e+05\n",
       "75%      1.650000e+05\n",
       "max      2.800000e+06\n",
       "Name: price_aprox_usd, dtype: float64"
      ]
     },
     "execution_count": 12,
     "metadata": {},
     "output_type": "execute_result"
    }
   ],
   "source": [
    "PH_price.describe()"
   ]
  },
  {
   "cell_type": "code",
   "execution_count": 150,
   "id": "occupational-frank",
   "metadata": {},
   "outputs": [
    {
     "name": "stdout",
     "output_type": "stream",
     "text": [
      "5613\n",
      "5613\n",
      "Cantidad outliers PH ---> 1283\n"
     ]
    }
   ],
   "source": [
    "print(PH_price.shape[0])\n",
    "print(PH_price.notnull().sum())\n",
    "\n",
    "price_aprox_usd_ph_alto = PH_price > 165000\n",
    "cantidad_outliers_ph = price_aprox_usd_ph_alto.sum()\n",
    "print('Cantidad outliers PH --->', cantidad_outliers_ph)"
   ]
  },
  {
   "cell_type": "code",
   "execution_count": 154,
   "id": "equal-catch",
   "metadata": {},
   "outputs": [
    {
     "name": "stdout",
     "output_type": "stream",
     "text": [
      "Porcentaje outliers PH ---> 0.22857651879565294\n"
     ]
    }
   ],
   "source": [
    "porcentaje_outliers_PH = cantidad_outliers_ph / PH_price.notnull().sum()\n",
    "print('Porcentaje outliers PH --->', porcentaje_outliers_PH)"
   ]
  },
  {
   "cell_type": "markdown",
   "id": "applied-portland",
   "metadata": {},
   "source": [
    "- #### Cantidad de outliers para Apartment "
   ]
  },
  {
   "cell_type": "code",
   "execution_count": 15,
   "id": "loaded-glory",
   "metadata": {},
   "outputs": [
    {
     "data": {
      "text/plain": [
       "count    5.761300e+04\n",
       "mean     1.883107e+05\n",
       "std      3.189413e+05\n",
       "min      4.666620e+03\n",
       "25%      8.000000e+04\n",
       "50%      1.199000e+05\n",
       "75%      1.930000e+05\n",
       "max      4.654544e+07\n",
       "Name: price_aprox_usd, dtype: float64"
      ]
     },
     "execution_count": 15,
     "metadata": {},
     "output_type": "execute_result"
    }
   ],
   "source": [
    "apartment_price.describe()"
   ]
  },
  {
   "cell_type": "code",
   "execution_count": 143,
   "id": "cleared-update",
   "metadata": {},
   "outputs": [
    {
     "name": "stdout",
     "output_type": "stream",
     "text": [
      "66418\n",
      "66418\n",
      "Cantidad outliers apartment ---> 14394\n"
     ]
    }
   ],
   "source": [
    "print(apartment_price.shape[0])\n",
    "print(apartment_price.notnull().sum())\n",
    "\n",
    "price_aprox_usd_apartment_alto = apartment_price > 193000\n",
    "cantidad_outliers_apartment = price_aprox_usd_apartment_alto.sum()\n",
    "print('Cantidad outliers apartment --->', cantidad_outliers_apartment)"
   ]
  },
  {
   "cell_type": "code",
   "execution_count": 152,
   "id": "respiratory-benefit",
   "metadata": {},
   "outputs": [
    {
     "name": "stdout",
     "output_type": "stream",
     "text": [
      "Porcentaje outliers Apartment ---> 0.21671835948086363\n"
     ]
    }
   ],
   "source": [
    "porcentaje_outliers_apartment = cantidad_outliers_apartment / apartment_price.notnull().sum()\n",
    "print('Porcentaje outliers Apartment --->', porcentaje_outliers_apartment)"
   ]
  },
  {
   "cell_type": "markdown",
   "id": "thrown-aging",
   "metadata": {},
   "source": [
    "- #### Cantidad de outliers para House"
   ]
  },
  {
   "cell_type": "code",
   "execution_count": 18,
   "id": "extra-channels",
   "metadata": {},
   "outputs": [
    {
     "data": {
      "text/plain": [
       "count    3.244900e+04\n",
       "mean     3.293453e+05\n",
       "std      4.587110e+05\n",
       "min      0.000000e+00\n",
       "25%      1.400000e+05\n",
       "50%      2.400000e+05\n",
       "75%      3.800000e+05\n",
       "max      2.500000e+07\n",
       "Name: price_aprox_usd, dtype: float64"
      ]
     },
     "execution_count": 18,
     "metadata": {},
     "output_type": "execute_result"
    }
   ],
   "source": [
    "house_price.describe()"
   ]
  },
  {
   "cell_type": "code",
   "execution_count": 144,
   "id": "handmade-extension",
   "metadata": {},
   "outputs": [
    {
     "name": "stdout",
     "output_type": "stream",
     "text": [
      "39712\n",
      "39712\n",
      "Cantidad outliers house 8107\n"
     ]
    }
   ],
   "source": [
    "print(house_price.shape[0])\n",
    "print(house_price.notnull().sum())\n",
    "\n",
    "price_aprox_usd_house_alto = house_price > 380000\n",
    "cantidad_outliers_house = price_aprox_usd_house_alto.sum()\n",
    "print('Cantidad outliers house', cantidad_outliers_house)"
   ]
  },
  {
   "cell_type": "code",
   "execution_count": 155,
   "id": "bacterial-lewis",
   "metadata": {},
   "outputs": [
    {
     "name": "stdout",
     "output_type": "stream",
     "text": [
      "Porcentaje outliers house ---> 0.2041448428686543\n"
     ]
    }
   ],
   "source": [
    "porcentaje_outliers_house = cantidad_outliers_house / house_price.notnull().sum()\n",
    "print('Porcentaje outliers house --->', porcentaje_outliers_house)"
   ]
  },
  {
   "cell_type": "markdown",
   "id": "northern-hypothesis",
   "metadata": {},
   "source": [
    "- #### Cantidad de outliers para Store"
   ]
  },
  {
   "cell_type": "code",
   "execution_count": 21,
   "id": "suspended-youth",
   "metadata": {},
   "outputs": [
    {
     "data": {
      "text/plain": [
       "count    3.214000e+03\n",
       "mean     4.398016e+05\n",
       "std      7.644325e+05\n",
       "min      4.952450e+03\n",
       "25%      9.500000e+04\n",
       "50%      2.100000e+05\n",
       "75%      4.500000e+05\n",
       "max      1.300000e+07\n",
       "Name: price_aprox_usd, dtype: float64"
      ]
     },
     "execution_count": 21,
     "metadata": {},
     "output_type": "execute_result"
    }
   ],
   "source": [
    "store_price.describe()"
   ]
  },
  {
   "cell_type": "code",
   "execution_count": 147,
   "id": "elementary-burst",
   "metadata": {},
   "outputs": [
    {
     "name": "stdout",
     "output_type": "stream",
     "text": [
      "4067\n",
      "4067\n",
      "Cantidad de outliers store ---> 777\n"
     ]
    }
   ],
   "source": [
    "print(store_price.shape[0])\n",
    "print(store_price.notnull().sum())\n",
    "\n",
    "price_aprox_usd_store_alto = store_price > 450000\n",
    "cantidad_outliers_store = price_aprox_usd_store_alto.sum()\n",
    "print('Cantidad de outliers store --->', cantidad_outliers_store)"
   ]
  },
  {
   "cell_type": "code",
   "execution_count": 156,
   "id": "grateful-appliance",
   "metadata": {},
   "outputs": [
    {
     "name": "stdout",
     "output_type": "stream",
     "text": [
      "Porcentaje outliers store ---> 0.19104991394148021\n"
     ]
    }
   ],
   "source": [
    "porcentaje_outliers_store = cantidad_outliers_store / store_price.notnull().sum()\n",
    "print('Porcentaje outliers store --->', porcentaje_outliers_store)"
   ]
  },
  {
   "cell_type": "markdown",
   "id": "mounted-authentication",
   "metadata": {},
   "source": [
    "- #### En el gráfico podemos ver mas claramente la distribución de los precios por tipo de propiedad"
   ]
  },
  {
   "cell_type": "code",
   "execution_count": 148,
   "id": "actual-hometown",
   "metadata": {},
   "outputs": [
    {
     "data": {
      "image/png": "[encoded data removed]",
      "text/plain": [
       "<Figure size 432x288 with 1 Axes>"
      ]
     },
     "metadata": {
      "needs_background": "light"
     },
     "output_type": "display_data"
    }
   ],
   "source": [
    "mask = data_final['price_aprox_usd'] < 800000\n",
    "fig = sns.boxplot(data = data_final.loc[mask,['price_aprox_usd','property_type']], x ='property_type', y = 'price_aprox_usd')"
   ]
  },
  {
   "cell_type": "code",
   "execution_count": 165,
   "id": "close-cross",
   "metadata": {},
   "outputs": [
    {
     "data": {
      "text/plain": [
       "medio --->$100k a $500k        59676\n",
       "bajo ---> $0 a $100k           29868\n",
       "alto ---> $500k to $1MM         6469\n",
       "muy alto ---> $1MM to $10MM     2423\n",
       "Name: price_aprox_usd, dtype: int64"
      ]
     },
     "execution_count": 165,
     "metadata": {},
     "output_type": "execute_result"
    }
   ],
   "source": [
    "bins = [0,100000,500000,1000000,65000000]\n",
    "\n",
    "priceusd_categorias = pd.cut(data_final['price_aprox_usd'], bins, right=False, labels=['bajo ---> $0 a $100k','medio --->$100k a $500k','alto ---> $500k to $1MM',\n",
    "                                                                                'muy alto ---> $1MM to $10MM'], ordered=True)\n",
    "priceusd_categorias.value_counts()"
   ]
  },
  {
   "cell_type": "markdown",
   "id": "numerous-damage",
   "metadata": {},
   "source": [
    "- #### Imputación de valores nulos "
   ]
  },
  {
   "cell_type": "code",
   "execution_count": 136,
   "id": "sustainable-cartoon",
   "metadata": {},
   "outputs": [
    {
     "data": {
      "text/plain": [
       "apartment    66418\n",
       "house        39712\n",
       "PH            5613\n",
       "store         4067\n",
       "Name: property_type, dtype: int64"
      ]
     },
     "execution_count": 136,
     "metadata": {},
     "output_type": "execute_result"
    }
   ],
   "source": [
    "data_final['property_type'].value_counts()"
   ]
  },
  {
   "cell_type": "code",
   "execution_count": 137,
   "id": "activated-hypothesis",
   "metadata": {},
   "outputs": [
    {
     "data": {
      "text/plain": [
       "17374"
      ]
     },
     "execution_count": 137,
     "metadata": {},
     "output_type": "execute_result"
    }
   ],
   "source": [
    "data_final['price_aprox_usd'].isnull().sum()"
   ]
  },
  {
   "cell_type": "markdown",
   "id": "recovered-ending",
   "metadata": {},
   "source": [
    "- #### Imputamos PH"
   ]
  },
  {
   "cell_type": "code",
   "execution_count": 157,
   "id": "involved-telephone",
   "metadata": {},
   "outputs": [
    {
     "name": "stdout",
     "output_type": "stream",
     "text": [
      "5160\n",
      "----\n",
      "453\n"
     ]
    }
   ],
   "source": [
    "# algunas de estas variable estan definidas mas arriba, pero las escribí acá para poder mostrar el error en la imputación de los datos \n",
    "\n",
    "price_aprox_usd = data_final['price_aprox_usd']\n",
    "property_type_PH = data_final['property_type'] == 'PH' \n",
    "PH_price = price_aprox_usd[property_type_PH]\n",
    "\n",
    "PH_priceusd_mean = PH_price.mean()\n",
    "PH_priceusd_null_count = PH_price.isnull().sum()\n",
    "PH_priceusd_notnull_count = PH_price.notnull().sum()\n",
    "\n",
    "print(PH_priceusd_notnull_count)\n",
    "print('----')\n",
    "print(PH_priceusd_null_count)"
   ]
  },
  {
   "cell_type": "code",
   "execution_count": 158,
   "id": "female-tradition",
   "metadata": {},
   "outputs": [
    {
     "name": "stdout",
     "output_type": "stream",
     "text": [
      "0\n"
     ]
    }
   ],
   "source": [
    "# Imputamos los datos \n",
    "\n",
    "PH_price.fillna(PH_priceusd_mean, axis=0, inplace=True)\n",
    "\n",
    "print(PH_price.isnull().sum())"
   ]
  },
  {
   "cell_type": "code",
   "execution_count": 159,
   "id": "sophisticated-morning",
   "metadata": {},
   "outputs": [
    {
     "data": {
      "text/plain": [
       "17374"
      ]
     },
     "execution_count": 159,
     "metadata": {},
     "output_type": "execute_result"
    }
   ],
   "source": [
    "data_final['price_aprox_usd'].isnull().sum()"
   ]
  },
  {
   "cell_type": "markdown",
   "id": "floppy-control",
   "metadata": {},
   "source": [
    "- #### Imputamos Apartment"
   ]
  },
  {
   "cell_type": "code",
   "execution_count": 122,
   "id": "universal-classic",
   "metadata": {},
   "outputs": [
    {
     "name": "stdout",
     "output_type": "stream",
     "text": [
      "66418\n",
      "----\n",
      "0\n"
     ]
    }
   ],
   "source": [
    "apartment_priceusd_mean = apartment_price.mean()\n",
    "apartment_priceusd_null_count = apartment_price.isnull().sum()\n",
    "apartment_priceusd_notnull_count = apartment_price.notnull().sum()\n",
    "\n",
    "print(apartment_priceusd_notnull_count)\n",
    "print('----')\n",
    "print(apartment_priceusd_null_count)"
   ]
  },
  {
   "cell_type": "code",
   "execution_count": 123,
   "id": "defensive-computer",
   "metadata": {},
   "outputs": [
    {
     "name": "stdout",
     "output_type": "stream",
     "text": [
      "0\n"
     ]
    }
   ],
   "source": [
    "# Imputamos los datos \n",
    "\n",
    "apartment_price.fillna(apartment_priceusd_mean, axis=0, inplace=True)\n",
    "\n",
    "print(apartment_price.isnull().sum())"
   ]
  },
  {
   "cell_type": "code",
   "execution_count": 124,
   "id": "surface-jesus",
   "metadata": {},
   "outputs": [
    {
     "data": {
      "text/plain": [
       "17374"
      ]
     },
     "execution_count": 124,
     "metadata": {},
     "output_type": "execute_result"
    }
   ],
   "source": [
    "data_final['price_aprox_usd'].isnull().sum()"
   ]
  },
  {
   "cell_type": "markdown",
   "id": "colored-peter",
   "metadata": {},
   "source": [
    "- #### Imputamos House"
   ]
  },
  {
   "cell_type": "code",
   "execution_count": 125,
   "id": "premier-british",
   "metadata": {},
   "outputs": [
    {
     "name": "stdout",
     "output_type": "stream",
     "text": [
      "32449\n",
      "----\n",
      "7263\n"
     ]
    }
   ],
   "source": [
    "house_priceusd_mean = house_price.mean()\n",
    "house_priceusd_null_count = house_price.isnull().sum()\n",
    "house_priceusd_notnull_count = house_price.notnull().sum()\n",
    "\n",
    "print(house_priceusd_notnull_count)\n",
    "print('----')\n",
    "print(house_priceusd_null_count)"
   ]
  },
  {
   "cell_type": "code",
   "execution_count": 126,
   "id": "statutory-printing",
   "metadata": {},
   "outputs": [
    {
     "name": "stdout",
     "output_type": "stream",
     "text": [
      "0\n"
     ]
    }
   ],
   "source": [
    "# Imputamos los datos \n",
    "\n",
    "house_price.fillna(apartment_priceusd_mean, axis=0, inplace=True)\n",
    "\n",
    "print(house_price.isnull().sum())"
   ]
  },
  {
   "cell_type": "markdown",
   "id": "asian-aviation",
   "metadata": {},
   "source": [
    "- #### Imputamos Store"
   ]
  },
  {
   "cell_type": "code",
   "execution_count": 130,
   "id": "expanded-karma",
   "metadata": {},
   "outputs": [
    {
     "name": "stdout",
     "output_type": "stream",
     "text": [
      "3214\n",
      "----\n",
      "853\n"
     ]
    }
   ],
   "source": [
    "store_priceusd_mean = store_price.mean()\n",
    "store_priceusd_null_count = store_price.isnull().sum()\n",
    "store_priceusd_notnull_count = store_price.notnull().sum()\n",
    "\n",
    "print(store_priceusd_notnull_count)\n",
    "print('----')\n",
    "print(store_priceusd_null_count)"
   ]
  },
  {
   "cell_type": "code",
   "execution_count": 131,
   "id": "endangered-control",
   "metadata": {},
   "outputs": [
    {
     "name": "stdout",
     "output_type": "stream",
     "text": [
      "0\n"
     ]
    }
   ],
   "source": [
    "# Imputamos los datos \n",
    "\n",
    "store_price.fillna(store_priceusd_mean, axis=0, inplace=True)\n",
    "\n",
    "print(store_price.isnull().sum())"
   ]
  },
  {
   "cell_type": "markdown",
   "id": "bronze-olive",
   "metadata": {},
   "source": [
    "- #### Volvemos a graficar para ver los cambios en los datos luego de la imputación. "
   ]
  },
  {
   "cell_type": "code",
   "execution_count": 98,
   "id": "classical-fight",
   "metadata": {},
   "outputs": [
    {
     "data": {
      "image/png": "[encoded data removed]",
      "text/plain": [
       "<Figure size 432x288 with 1 Axes>"
      ]
     },
     "metadata": {
      "needs_background": "light"
     },
     "output_type": "display_data"
    }
   ],
   "source": [
    "mask = data_final['price_aprox_usd'] < 800000\n",
    "fig = sns.violinplot(data = data_final.loc[mask,['price_aprox_usd','property_type']], x ='property_type', y = 'price_aprox_usd')"
   ]
  },
  {
   "cell_type": "code",
   "execution_count": 99,
   "id": "cross-shore",
   "metadata": {},
   "outputs": [
    {
     "data": {
      "text/plain": [
       "17374"
      ]
     },
     "execution_count": 99,
     "metadata": {},
     "output_type": "execute_result"
    }
   ],
   "source": [
    "data_final['price_aprox_usd'].isnull().sum()"
   ]
  },
  {
   "cell_type": "code",
   "execution_count": 149,
   "id": "middle-telephone",
   "metadata": {},
   "outputs": [
    {
     "data": {
      "text/plain": [
       "0"
      ]
     },
     "execution_count": 149,
     "metadata": {},
     "output_type": "execute_result"
    }
   ],
   "source": [
    "data_final['property_type'].isnull().sum()"
   ]
  },
  {
   "cell_type": "code",
   "execution_count": 101,
   "id": "promising-electron",
   "metadata": {},
   "outputs": [
    {
     "data": {
      "text/html": [
       "<div>\n",
       "<style scoped>\n",
       "    .dataframe tbody tr th:only-of-type {\n",
       "        vertical-align: middle;\n",
       "    }\n",
       "\n",
       "    .dataframe tbody tr th {\n",
       "        vertical-align: top;\n",
       "    }\n",
       "\n",
       "    .dataframe thead th {\n",
       "        text-align: right;\n",
       "    }\n",
       "</style>\n",
       "<table border=\"1\" class=\"dataframe\">\n",
       "  <thead>\n",
       "    <tr style=\"text-align: right;\">\n",
       "      <th></th>\n",
       "      <th>property_type</th>\n",
       "      <th>place_name</th>\n",
       "      <th>place_with_parent_names</th>\n",
       "      <th>state_name</th>\n",
       "      <th>price</th>\n",
       "      <th>currency</th>\n",
       "      <th>price_aprox_usd</th>\n",
       "      <th>surface_total_in_m2</th>\n",
       "      <th>surface_covered_in_m2</th>\n",
       "      <th>price_per_m2</th>\n",
       "      <th>rooms</th>\n",
       "      <th>description</th>\n",
       "      <th>title</th>\n",
       "    </tr>\n",
       "  </thead>\n",
       "  <tbody>\n",
       "    <tr>\n",
       "      <th>5</th>\n",
       "      <td>house</td>\n",
       "      <td>Gualeguaychú</td>\n",
       "      <td>|Argentina|Entre Ríos|Gualeguaychú|</td>\n",
       "      <td>Entre Ríos</td>\n",
       "      <td>NaN</td>\n",
       "      <td>NaN</td>\n",
       "      <td>NaN</td>\n",
       "      <td>53.0</td>\n",
       "      <td>NaN</td>\n",
       "      <td>NaN</td>\n",
       "      <td>NaN</td>\n",
       "      <td>Casa en el perímetro del barrio 338, ubicada e...</td>\n",
       "      <td>Casa Barrio 338. Sobre calle 3 de caballería, ...</td>\n",
       "    </tr>\n",
       "    <tr>\n",
       "      <th>20</th>\n",
       "      <td>house</td>\n",
       "      <td>Villa Giardino</td>\n",
       "      <td>|Argentina|Córdoba|Villa Giardino|</td>\n",
       "      <td>Córdoba</td>\n",
       "      <td>NaN</td>\n",
       "      <td>NaN</td>\n",
       "      <td>NaN</td>\n",
       "      <td>148.0</td>\n",
       "      <td>148.0</td>\n",
       "      <td>NaN</td>\n",
       "      <td>NaN</td>\n",
       "      <td>Consta de: Comedor-cocina, cuatro dormitorios ...</td>\n",
       "      <td>Casa con excelente ubicaciòn, calle asfaltada,...</td>\n",
       "    </tr>\n",
       "    <tr>\n",
       "      <th>41</th>\n",
       "      <td>apartment</td>\n",
       "      <td>Villa Carlos Paz</td>\n",
       "      <td>|Argentina|Córdoba|Villa Carlos Paz|</td>\n",
       "      <td>Córdoba</td>\n",
       "      <td>NaN</td>\n",
       "      <td>NaN</td>\n",
       "      <td>NaN</td>\n",
       "      <td>115.0</td>\n",
       "      <td>115.0</td>\n",
       "      <td>NaN</td>\n",
       "      <td>4.0</td>\n",
       "      <td>“Arecas” es un complejo de dúplex y departamen...</td>\n",
       "      <td>Venta en pozo deptos-dúplex- Barrio Santa Rita...</td>\n",
       "    </tr>\n",
       "    <tr>\n",
       "      <th>62</th>\n",
       "      <td>house</td>\n",
       "      <td>Berazategui</td>\n",
       "      <td>|Argentina|Bs.As. G.B.A. Zona Sur|Berazategui|</td>\n",
       "      <td>Bs.As. G.B.A. Zona Sur</td>\n",
       "      <td>NaN</td>\n",
       "      <td>NaN</td>\n",
       "      <td>NaN</td>\n",
       "      <td>156.0</td>\n",
       "      <td>156.0</td>\n",
       "      <td>NaN</td>\n",
       "      <td>NaN</td>\n",
       "      <td>Casa moderna en dos plantas.PB : Living con ho...</td>\n",
       "      <td>MODERNA CASA EN OMBUES DE HUDSON</td>\n",
       "    </tr>\n",
       "    <tr>\n",
       "      <th>67</th>\n",
       "      <td>house</td>\n",
       "      <td>Ituzaingó</td>\n",
       "      <td>|Argentina|Bs.As. G.B.A. Zona Oeste|Ituzaingó|</td>\n",
       "      <td>Bs.As. G.B.A. Zona Oeste</td>\n",
       "      <td>NaN</td>\n",
       "      <td>NaN</td>\n",
       "      <td>NaN</td>\n",
       "      <td>220.0</td>\n",
       "      <td>NaN</td>\n",
       "      <td>NaN</td>\n",
       "      <td>5.0</td>\n",
       "      <td>PLANTA ALTA: DORMITORIO EN SUITE - BALCÓNPLANT...</td>\n",
       "      <td>Chalet en Venta. Ambientes. Dormitorios. 220 m2</td>\n",
       "    </tr>\n",
       "    <tr>\n",
       "      <th>...</th>\n",
       "      <td>...</td>\n",
       "      <td>...</td>\n",
       "      <td>...</td>\n",
       "      <td>...</td>\n",
       "      <td>...</td>\n",
       "      <td>...</td>\n",
       "      <td>...</td>\n",
       "      <td>...</td>\n",
       "      <td>...</td>\n",
       "      <td>...</td>\n",
       "      <td>...</td>\n",
       "      <td>...</td>\n",
       "      <td>...</td>\n",
       "    </tr>\n",
       "    <tr>\n",
       "      <th>121210</th>\n",
       "      <td>house</td>\n",
       "      <td>Martínez</td>\n",
       "      <td>|Argentina|Bs.As. G.B.A. Zona Norte|San Isidro...</td>\n",
       "      <td>Bs.As. G.B.A. Zona Norte</td>\n",
       "      <td>NaN</td>\n",
       "      <td>NaN</td>\n",
       "      <td>NaN</td>\n",
       "      <td>NaN</td>\n",
       "      <td>120.0</td>\n",
       "      <td>NaN</td>\n",
       "      <td>NaN</td>\n",
       "      <td>Dos viviendas en block en excelente ubicación ...</td>\n",
       "      <td>Casa - Martinez</td>\n",
       "    </tr>\n",
       "    <tr>\n",
       "      <th>121211</th>\n",
       "      <td>apartment</td>\n",
       "      <td>Acassuso</td>\n",
       "      <td>|Argentina|Bs.As. G.B.A. Zona Norte|San Isidro...</td>\n",
       "      <td>Bs.As. G.B.A. Zona Norte</td>\n",
       "      <td>NaN</td>\n",
       "      <td>NaN</td>\n",
       "      <td>NaN</td>\n",
       "      <td>205.0</td>\n",
       "      <td>205.0</td>\n",
       "      <td>NaN</td>\n",
       "      <td>NaN</td>\n",
       "      <td>Excelente departamento de categoría con vistas...</td>\n",
       "      <td>Departamento - Acassuso</td>\n",
       "    </tr>\n",
       "    <tr>\n",
       "      <th>121212</th>\n",
       "      <td>house</td>\n",
       "      <td>Acassuso</td>\n",
       "      <td>|Argentina|Bs.As. G.B.A. Zona Norte|San Isidro...</td>\n",
       "      <td>Bs.As. G.B.A. Zona Norte</td>\n",
       "      <td>NaN</td>\n",
       "      <td>NaN</td>\n",
       "      <td>NaN</td>\n",
       "      <td>420.0</td>\n",
       "      <td>420.0</td>\n",
       "      <td>NaN</td>\n",
       "      <td>NaN</td>\n",
       "      <td>ESPECTACULAR CASA ESTILO RACIONALISTA EN CALLE...</td>\n",
       "      <td>Casa - Acassuso</td>\n",
       "    </tr>\n",
       "    <tr>\n",
       "      <th>121213</th>\n",
       "      <td>house</td>\n",
       "      <td>Martínez</td>\n",
       "      <td>|Argentina|Bs.As. G.B.A. Zona Norte|San Isidro...</td>\n",
       "      <td>Bs.As. G.B.A. Zona Norte</td>\n",
       "      <td>NaN</td>\n",
       "      <td>NaN</td>\n",
       "      <td>NaN</td>\n",
       "      <td>600.0</td>\n",
       "      <td>600.0</td>\n",
       "      <td>NaN</td>\n",
       "      <td>NaN</td>\n",
       "      <td>EXCELENTE casa en Martinez. Inmejorable ubicai...</td>\n",
       "      <td>Casa - Martinez</td>\n",
       "    </tr>\n",
       "    <tr>\n",
       "      <th>121214</th>\n",
       "      <td>store</td>\n",
       "      <td>San Isidro</td>\n",
       "      <td>|Argentina|Bs.As. G.B.A. Zona Norte|San Isidro|</td>\n",
       "      <td>Bs.As. G.B.A. Zona Norte</td>\n",
       "      <td>NaN</td>\n",
       "      <td>NaN</td>\n",
       "      <td>NaN</td>\n",
       "      <td>123.0</td>\n",
       "      <td>123.0</td>\n",
       "      <td>NaN</td>\n",
       "      <td>NaN</td>\n",
       "      <td>***VENTA CON RENTA***Local en EDIFICIO lomas ...</td>\n",
       "      <td>Local - San Isidro</td>\n",
       "    </tr>\n",
       "  </tbody>\n",
       "</table>\n",
       "<p>17374 rows × 13 columns</p>\n",
       "</div>"
      ],
      "text/plain": [
       "       property_type        place_name  \\\n",
       "5              house      Gualeguaychú   \n",
       "20             house    Villa Giardino   \n",
       "41         apartment  Villa Carlos Paz   \n",
       "62             house       Berazategui   \n",
       "67             house         Ituzaingó   \n",
       "...              ...               ...   \n",
       "121210         house          Martínez   \n",
       "121211     apartment          Acassuso   \n",
       "121212         house          Acassuso   \n",
       "121213         house          Martínez   \n",
       "121214         store        San Isidro   \n",
       "\n",
       "                                  place_with_parent_names  \\\n",
       "5                     |Argentina|Entre Ríos|Gualeguaychú|   \n",
       "20                     |Argentina|Córdoba|Villa Giardino|   \n",
       "41                   |Argentina|Córdoba|Villa Carlos Paz|   \n",
       "62         |Argentina|Bs.As. G.B.A. Zona Sur|Berazategui|   \n",
       "67         |Argentina|Bs.As. G.B.A. Zona Oeste|Ituzaingó|   \n",
       "...                                                   ...   \n",
       "121210  |Argentina|Bs.As. G.B.A. Zona Norte|San Isidro...   \n",
       "121211  |Argentina|Bs.As. G.B.A. Zona Norte|San Isidro...   \n",
       "121212  |Argentina|Bs.As. G.B.A. Zona Norte|San Isidro...   \n",
       "121213  |Argentina|Bs.As. G.B.A. Zona Norte|San Isidro...   \n",
       "121214    |Argentina|Bs.As. G.B.A. Zona Norte|San Isidro|   \n",
       "\n",
       "                      state_name  price currency  price_aprox_usd  \\\n",
       "5                     Entre Ríos    NaN      NaN              NaN   \n",
       "20                       Córdoba    NaN      NaN              NaN   \n",
       "41                       Córdoba    NaN      NaN              NaN   \n",
       "62        Bs.As. G.B.A. Zona Sur    NaN      NaN              NaN   \n",
       "67      Bs.As. G.B.A. Zona Oeste    NaN      NaN              NaN   \n",
       "...                          ...    ...      ...              ...   \n",
       "121210  Bs.As. G.B.A. Zona Norte    NaN      NaN              NaN   \n",
       "121211  Bs.As. G.B.A. Zona Norte    NaN      NaN              NaN   \n",
       "121212  Bs.As. G.B.A. Zona Norte    NaN      NaN              NaN   \n",
       "121213  Bs.As. G.B.A. Zona Norte    NaN      NaN              NaN   \n",
       "121214  Bs.As. G.B.A. Zona Norte    NaN      NaN              NaN   \n",
       "\n",
       "        surface_total_in_m2  surface_covered_in_m2  price_per_m2  rooms  \\\n",
       "5                      53.0                    NaN           NaN    NaN   \n",
       "20                    148.0                  148.0           NaN    NaN   \n",
       "41                    115.0                  115.0           NaN    4.0   \n",
       "62                    156.0                  156.0           NaN    NaN   \n",
       "67                    220.0                    NaN           NaN    5.0   \n",
       "...                     ...                    ...           ...    ...   \n",
       "121210                  NaN                  120.0           NaN    NaN   \n",
       "121211                205.0                  205.0           NaN    NaN   \n",
       "121212                420.0                  420.0           NaN    NaN   \n",
       "121213                600.0                  600.0           NaN    NaN   \n",
       "121214                123.0                  123.0           NaN    NaN   \n",
       "\n",
       "                                              description  \\\n",
       "5       Casa en el perímetro del barrio 338, ubicada e...   \n",
       "20      Consta de: Comedor-cocina, cuatro dormitorios ...   \n",
       "41      “Arecas” es un complejo de dúplex y departamen...   \n",
       "62      Casa moderna en dos plantas.PB : Living con ho...   \n",
       "67      PLANTA ALTA: DORMITORIO EN SUITE - BALCÓNPLANT...   \n",
       "...                                                   ...   \n",
       "121210  Dos viviendas en block en excelente ubicación ...   \n",
       "121211  Excelente departamento de categoría con vistas...   \n",
       "121212  ESPECTACULAR CASA ESTILO RACIONALISTA EN CALLE...   \n",
       "121213  EXCELENTE casa en Martinez. Inmejorable ubicai...   \n",
       "121214   ***VENTA CON RENTA***Local en EDIFICIO lomas ...   \n",
       "\n",
       "                                                    title  \n",
       "5       Casa Barrio 338. Sobre calle 3 de caballería, ...  \n",
       "20      Casa con excelente ubicaciòn, calle asfaltada,...  \n",
       "41      Venta en pozo deptos-dúplex- Barrio Santa Rita...  \n",
       "62                       MODERNA CASA EN OMBUES DE HUDSON  \n",
       "67        Chalet en Venta. Ambientes. Dormitorios. 220 m2  \n",
       "...                                                   ...  \n",
       "121210                                    Casa - Martinez  \n",
       "121211                            Departamento - Acassuso  \n",
       "121212                                    Casa - Acassuso  \n",
       "121213                                    Casa - Martinez  \n",
       "121214                                 Local - San Isidro  \n",
       "\n",
       "[17374 rows x 13 columns]"
      ]
     },
     "execution_count": 101,
     "metadata": {},
     "output_type": "execute_result"
    }
   ],
   "source": [
    "nulos = data_final['price_aprox_usd'].isnull()\n",
    "data_final.loc[nulos]"
   ]
  },
  {
   "cell_type": "markdown",
   "id": "unavailable-cooper",
   "metadata": {},
   "source": [
    "- #### *Ahora vamos a comenzar a filtrar la columna price_per_m2*"
   ]
  },
  {
   "cell_type": "code",
   "execution_count": 161,
   "id": "humanitarian-indication",
   "metadata": {},
   "outputs": [],
   "source": [
    "price_per_m2 = data_final['price_per_m2']"
   ]
  },
  {
   "cell_type": "code",
   "execution_count": 162,
   "id": "attended-seminar",
   "metadata": {},
   "outputs": [
    {
     "data": {
      "text/plain": [
       "count    8.556600e+04\n",
       "mean     6.807449e+03\n",
       "std      2.851236e+04\n",
       "min      1.510204e+00\n",
       "25%      1.538462e+03\n",
       "50%      2.200000e+03\n",
       "75%      3.333333e+03\n",
       "max      4.000000e+06\n",
       "Name: price_per_m2, dtype: float64"
      ]
     },
     "execution_count": 162,
     "metadata": {},
     "output_type": "execute_result"
    }
   ],
   "source": [
    "price_per_m2.describe()"
   ]
  },
  {
   "cell_type": "code",
   "execution_count": 163,
   "id": "wicked-broadcasting",
   "metadata": {},
   "outputs": [
    {
     "name": "stdout",
     "output_type": "stream",
     "text": [
      "Nulos price_per_m2 ---> 30244\n",
      "Valores NO nulos price_per_m2 ---> 85566\n"
     ]
    }
   ],
   "source": [
    "print('Nulos price_per_m2 --->',price_per_m2.isnull().sum())\n",
    "print('Valores NO nulos price_per_m2 --->', price_per_m2.notnull().sum())"
   ]
  },
  {
   "cell_type": "code",
   "execution_count": 164,
   "id": "prompt-minneapolis",
   "metadata": {},
   "outputs": [
    {
     "data": {
      "image/png": "[encoded data removed]",
      "text/plain": [
       "<Figure size 432x288 with 1 Axes>"
      ]
     },
     "metadata": {
      "needs_background": "light"
     },
     "output_type": "display_data"
    }
   ],
   "source": [
    "mask_priceperm2 = data_final['price_per_m2'] < 4000\n",
    "fig = sns.violinplot(data = data_final.loc[mask_priceperm2,['price_per_m2','property_type']], x ='property_type', y = 'price_per_m2')"
   ]
  },
  {
   "cell_type": "code",
   "execution_count": null,
   "id": "differential-compensation",
   "metadata": {},
   "outputs": [],
   "source": [
    "bins = [0,1600,2200,3400,4000]\n",
    "\n",
    "priceusd_categorias = pd.cut(data_final['priceusd'], bins, right=False, labels=['bajo ---> $0 a $1600 per m2','medio --->$1600 a $2200 per m2','alto ---> $2200 a $3400 per m2',\n",
    "                                                                                'muy alto ---> $3400 a $5000 per m2'], ordered=True)\n",
    "priceusd_categorias.value_counts()"
   ]
  },
  {
   "cell_type": "code",
   "execution_count": null,
   "id": "constitutional-clock",
   "metadata": {},
   "outputs": [],
   "source": []
  },
  {
   "cell_type": "code",
   "execution_count": null,
   "id": "flush-attention",
   "metadata": {},
   "outputs": [],
   "source": []
  }
 ],
 "metadata": {
  "kernelspec": {
   "display_name": "Python [conda env:dhdsblend2021] *",
   "language": "python",
   "name": "conda-env-dhdsblend2021-py"
  },
  "language_info": {
   "codemirror_mode": {
    "name": "ipython",
    "version": 3
   },
   "file_extension": ".py",
   "mimetype": "text/x-python",
   "name": "python",
   "nbconvert_exporter": "python",
   "pygments_lexer": "ipython3",
   "version": "3.8.8"
  }
 },
 "nbformat": 4,
 "nbformat_minor": 5
}
