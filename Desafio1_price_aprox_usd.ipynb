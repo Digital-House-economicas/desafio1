{
 "cells": [
  {
   "cell_type": "markdown",
   "id": "instant-neighbor",
   "metadata": {},
   "source": [
    "# *DESAFIO 1*\n",
    "\n",
    "- #### Como primer medida vamos a importar las librerías que vamos a utilizar a lo largo de la notebook, y todas las herramientas que creamos necesarias. "
   ]
  },
  {
   "cell_type": "code",
   "execution_count": 57,
   "id": "christian-boxing",
   "metadata": {},
   "outputs": [],
   "source": [
    "import pandas as pd\n",
    "import numpy as np \n",
    "import matplotlib.pyplot as plt\n",
    "import seaborn as sns \n",
    "import re \n",
    "\n",
    "%matplotlib inline"
   ]
  },
  {
   "cell_type": "markdown",
   "id": "angry-speech",
   "metadata": {},
   "source": [
    "- #### El siguiente paso es importar el Dataset y comenzar a revisarlo"
   ]
  },
  {
   "cell_type": "code",
   "execution_count": 58,
   "id": "close-prince",
   "metadata": {},
   "outputs": [],
   "source": [
    "data_location = 'C:/Users/USUARIO/Desktop/Digital House - DS/Data Sets/properatti.csv'\n",
    "data = pd.read_csv(data_location)\n",
    "\n",
    "data_final = data[['property_type','place_name','place_with_parent_names','state_name','lat-lon','lon','lat','price','currency','price_aprox_usd',\n",
    "                         'surface_total_in_m2','surface_covered_in_m2','price_per_m2','rooms','description','title']].copy()"
   ]
  },
  {
   "cell_type": "code",
   "execution_count": 59,
   "id": "married-guyana",
   "metadata": {},
   "outputs": [
    {
     "data": {
      "text/plain": [
       "property_type               object\n",
       "place_name                  object\n",
       "place_with_parent_names     object\n",
       "state_name                  object\n",
       "lat-lon                     object\n",
       "lon                        float64\n",
       "lat                        float64\n",
       "price                      float64\n",
       "currency                    object\n",
       "price_aprox_usd            float64\n",
       "surface_total_in_m2        float64\n",
       "surface_covered_in_m2      float64\n",
       "price_per_m2               float64\n",
       "rooms                      float64\n",
       "description                 object\n",
       "title                       object\n",
       "dtype: object"
      ]
     },
     "execution_count": 59,
     "metadata": {},
     "output_type": "execute_result"
    }
   ],
   "source": [
    "data_final.dtypes"
   ]
  },
  {
   "cell_type": "code",
   "execution_count": 60,
   "id": "extended-officer",
   "metadata": {},
   "outputs": [
    {
     "name": "stdout",
     "output_type": "stream",
     "text": [
      "property_type              0.000000\n",
      "place_name                 0.000190\n",
      "place_with_parent_names    0.000000\n",
      "state_name                 0.000000\n",
      "lat-lon                    0.425260\n",
      "lon                        0.425260\n",
      "lat                        0.425260\n",
      "price                      0.168372\n",
      "currency                   0.168380\n",
      "price_aprox_usd            0.168372\n",
      "surface_total_in_m2        0.324435\n",
      "surface_covered_in_m2      0.164222\n",
      "price_per_m2               0.276869\n",
      "rooms                      0.609058\n",
      "description                0.000016\n",
      "title                      0.000000\n",
      "dtype: float64 \n",
      "\n"
     ]
    }
   ],
   "source": [
    "print(data_final.isnull().sum() / data_final.shape[0], '\\n')"
   ]
  },
  {
   "cell_type": "markdown",
   "id": "composite-grave",
   "metadata": {},
   "source": [
    "- #### Miramos si hay valores duplicados. En caso de que los haya, los eliminamos"
   ]
  },
  {
   "cell_type": "code",
   "execution_count": 61,
   "id": "strange-beatles",
   "metadata": {},
   "outputs": [
    {
     "name": "stdout",
     "output_type": "stream",
     "text": [
      "121220\n",
      "5251\n",
      "----\n",
      "115969\n"
     ]
    }
   ],
   "source": [
    "duplicados = data_final.duplicated()\n",
    "print(duplicados.shape[0])\n",
    "print(duplicados.sum())\n",
    "print('----')\n",
    "\n",
    "data_final.loc[duplicados].head(40)\n",
    "data_final.drop_duplicates(inplace=True)\n",
    "\n",
    "print(data_final.shape[0])"
   ]
  },
  {
   "cell_type": "markdown",
   "id": "pleasant-dictionary",
   "metadata": {},
   "source": [
    "- #### *Investigamos la columna price_aprox_usd*"
   ]
  },
  {
   "cell_type": "code",
   "execution_count": 62,
   "id": "western-craft",
   "metadata": {},
   "outputs": [
    {
     "name": "stdout",
     "output_type": "stream",
     "text": [
      "Tamaño columna price ---> 115969 \n",
      "\n",
      "Valores nulos columna price ---> 17435 \n",
      "\n",
      "Valores NO nulos columna price ---> 98534 \n",
      "\n",
      "count    9.853400e+04\n",
      "mean     2.408766e+05\n",
      "std      3.936819e+05\n",
      "min      0.000000e+00\n",
      "25%      9.000000e+04\n",
      "50%      1.450000e+05\n",
      "75%      2.680000e+05\n",
      "max      4.654544e+07\n",
      "Name: price_aprox_usd, dtype: float64 \n",
      "\n"
     ]
    }
   ],
   "source": [
    "print('Tamaño columna price --->', data_final['price_aprox_usd'].shape[0], '\\n')\n",
    "print('Valores nulos columna price --->', data_final['price_aprox_usd'].isnull().sum(), '\\n')\n",
    "print('Valores NO nulos columna price --->', data_final['price_aprox_usd'].notnull().sum(), '\\n')\n",
    "print(data_final['price_aprox_usd'].describe(), '\\n')"
   ]
  },
  {
   "cell_type": "markdown",
   "id": "suspended-determination",
   "metadata": {},
   "source": [
    "- #### *Investigamos la columna property_type*"
   ]
  },
  {
   "cell_type": "code",
   "execution_count": 63,
   "id": "approved-painting",
   "metadata": {},
   "outputs": [
    {
     "data": {
      "text/plain": [
       "apartment    66519\n",
       "house        39761\n",
       "PH            5618\n",
       "store         4071\n",
       "Name: property_type, dtype: int64"
      ]
     },
     "execution_count": 63,
     "metadata": {},
     "output_type": "execute_result"
    }
   ],
   "source": [
    "data_final['property_type'].value_counts()"
   ]
  },
  {
   "cell_type": "code",
   "execution_count": 64,
   "id": "streaming-milwaukee",
   "metadata": {},
   "outputs": [
    {
     "data": {
      "text/plain": [
       "count        115969\n",
       "unique            4\n",
       "top       apartment\n",
       "freq          66519\n",
       "Name: property_type, dtype: object"
      ]
     },
     "execution_count": 64,
     "metadata": {},
     "output_type": "execute_result"
    }
   ],
   "source": [
    "data_final['property_type'].describe()"
   ]
  },
  {
   "cell_type": "code",
   "execution_count": 183,
   "id": "vanilla-running",
   "metadata": {},
   "outputs": [],
   "source": [
    "price_aprox_usd = data_final['price_aprox_usd']\n",
    "property_type_PH = data_final['property_type'] == 'PH' \n",
    "PH_price = data_final.loc[property_type_PH, 'price_aprox_usd']\n",
    "\n",
    "property_type_apartment = data_final['property_type'] == 'apartment' \n",
    "apartment_price = data_final.loc[property_type_apartment, 'price_aprox_usd']\n",
    "\n",
    "property_type_house = data_final['property_type'] == 'house' \n",
    "house_price = data_final.loc[property_type_house, 'price_aprox_usd']\n",
    "\n",
    "property_type_store = data_final['property_type'] == 'store' \n",
    "store_price = data_final.loc[property_type_store, 'price_aprox_usd']"
   ]
  },
  {
   "cell_type": "code",
   "execution_count": 184,
   "id": "shared-monthly",
   "metadata": {},
   "outputs": [
    {
     "name": "stdout",
     "output_type": "stream",
     "text": [
      "Cantidad de nulos en PH ---> 0.08063367746529014 \n",
      "\n",
      "Cantidad de nulos en apartment ---> 0.13295449420466332 \n",
      "\n",
      "Cantidad de nulos en house ---> 0.18321973793415658 \n",
      "\n",
      "Cantidad de nulos en store ---> 0.20953082780643575 \n",
      "\n"
     ]
    }
   ],
   "source": [
    "print('Cantidad de nulos en PH --->', PH_price.isnull().sum() / PH_price.shape[0] , '\\n')\n",
    "print('Cantidad de nulos en apartment --->', apartment_price.isnull().sum() / apartment_price.shape[0] , '\\n')\n",
    "print('Cantidad de nulos en house --->', house_price.isnull().sum() / house_price.shape[0] , '\\n')\n",
    "print('Cantidad de nulos en store --->', store_price.isnull().sum() / store_price.shape[0] , '\\n')"
   ]
  },
  {
   "cell_type": "markdown",
   "id": "dynamic-garbage",
   "metadata": {},
   "source": [
    "- #### Cantidad de outliers para PH "
   ]
  },
  {
   "cell_type": "code",
   "execution_count": 185,
   "id": "three-suicide",
   "metadata": {},
   "outputs": [
    {
     "data": {
      "text/plain": [
       "count    5.165000e+03\n",
       "mean     1.478223e+05\n",
       "std      1.495628e+05\n",
       "min      5.047530e+03\n",
       "25%      8.500000e+04\n",
       "50%      1.200000e+05\n",
       "75%      1.650000e+05\n",
       "max      2.800000e+06\n",
       "Name: price_aprox_usd, dtype: float64"
      ]
     },
     "execution_count": 185,
     "metadata": {},
     "output_type": "execute_result"
    }
   ],
   "source": [
    "PH_price.describe()"
   ]
  },
  {
   "cell_type": "code",
   "execution_count": 186,
   "id": "ready-proposition",
   "metadata": {},
   "outputs": [
    {
     "name": "stdout",
     "output_type": "stream",
     "text": [
      "5618\n",
      "5165\n",
      "Cantidad outliers PH ---> 1284\n"
     ]
    }
   ],
   "source": [
    "print(PH_price.shape[0])\n",
    "print(PH_price.notnull().sum())\n",
    "\n",
    "price_aprox_usd_ph_alto = PH_price > 165000\n",
    "cantidad_outliers_ph = price_aprox_usd_ph_alto.sum()\n",
    "print('Cantidad outliers PH --->', cantidad_outliers_ph)"
   ]
  },
  {
   "cell_type": "code",
   "execution_count": 187,
   "id": "innovative-robinson",
   "metadata": {},
   "outputs": [
    {
     "name": "stdout",
     "output_type": "stream",
     "text": [
      "Porcentaje outliers PH ---> 0.24859632139399807\n"
     ]
    }
   ],
   "source": [
    "porcentaje_outliers_PH = cantidad_outliers_ph / PH_price.notnull().sum()\n",
    "print('Porcentaje outliers PH --->', porcentaje_outliers_PH)"
   ]
  },
  {
   "cell_type": "markdown",
   "id": "wireless-sentence",
   "metadata": {},
   "source": [
    "- #### Cantidad de outliers para Apartment "
   ]
  },
  {
   "cell_type": "code",
   "execution_count": 188,
   "id": "raising-possible",
   "metadata": {},
   "outputs": [
    {
     "data": {
      "text/plain": [
       "count    5.767500e+04\n",
       "mean     1.883022e+05\n",
       "std      3.188218e+05\n",
       "min      4.666620e+03\n",
       "25%      8.000000e+04\n",
       "50%      1.199000e+05\n",
       "75%      1.930000e+05\n",
       "max      4.654544e+07\n",
       "Name: price_aprox_usd, dtype: float64"
      ]
     },
     "execution_count": 188,
     "metadata": {},
     "output_type": "execute_result"
    }
   ],
   "source": [
    "apartment_price.describe()"
   ]
  },
  {
   "cell_type": "code",
   "execution_count": 189,
   "id": "enabling-packaging",
   "metadata": {},
   "outputs": [
    {
     "name": "stdout",
     "output_type": "stream",
     "text": [
      "66519\n",
      "57675\n",
      "Cantidad outliers apartment ---> 14408\n"
     ]
    }
   ],
   "source": [
    "print(apartment_price.shape[0])\n",
    "print(apartment_price.notnull().sum())\n",
    "\n",
    "price_aprox_usd_apartment_alto = apartment_price > 193000\n",
    "cantidad_outliers_apartment = price_aprox_usd_apartment_alto.sum()\n",
    "print('Cantidad outliers apartment --->', cantidad_outliers_apartment)"
   ]
  },
  {
   "cell_type": "code",
   "execution_count": 190,
   "id": "visible-airplane",
   "metadata": {},
   "outputs": [
    {
     "name": "stdout",
     "output_type": "stream",
     "text": [
      "Porcentaje outliers Apartment ---> 0.24981361074989164\n"
     ]
    }
   ],
   "source": [
    "porcentaje_outliers_apartment = cantidad_outliers_apartment / apartment_price.notnull().sum()\n",
    "print('Porcentaje outliers Apartment --->', porcentaje_outliers_apartment)"
   ]
  },
  {
   "cell_type": "markdown",
   "id": "cheap-spiritual",
   "metadata": {},
   "source": [
    "- #### Cantidad de outliers para House"
   ]
  },
  {
   "cell_type": "code",
   "execution_count": 191,
   "id": "exceptional-folder",
   "metadata": {},
   "outputs": [
    {
     "data": {
      "text/plain": [
       "count    3.247600e+04\n",
       "mean     3.293719e+05\n",
       "std      4.586008e+05\n",
       "min      0.000000e+00\n",
       "25%      1.400000e+05\n",
       "50%      2.400000e+05\n",
       "75%      3.800000e+05\n",
       "max      2.500000e+07\n",
       "Name: price_aprox_usd, dtype: float64"
      ]
     },
     "execution_count": 191,
     "metadata": {},
     "output_type": "execute_result"
    }
   ],
   "source": [
    "house_price.describe()"
   ]
  },
  {
   "cell_type": "code",
   "execution_count": 192,
   "id": "behavioral-habitat",
   "metadata": {},
   "outputs": [
    {
     "name": "stdout",
     "output_type": "stream",
     "text": [
      "39761\n",
      "32476\n",
      "Cantidad outliers house 8115\n"
     ]
    }
   ],
   "source": [
    "print(house_price.shape[0])\n",
    "print(house_price.notnull().sum())\n",
    "\n",
    "price_aprox_usd_house_alto = house_price > 380000\n",
    "cantidad_outliers_house = price_aprox_usd_house_alto.sum()\n",
    "print('Cantidad outliers house', cantidad_outliers_house)"
   ]
  },
  {
   "cell_type": "code",
   "execution_count": 193,
   "id": "technological-spelling",
   "metadata": {},
   "outputs": [
    {
     "name": "stdout",
     "output_type": "stream",
     "text": [
      "Porcentaje outliers house ---> 0.24987683212218254\n"
     ]
    }
   ],
   "source": [
    "porcentaje_outliers_house = cantidad_outliers_house / house_price.notnull().sum()\n",
    "print('Porcentaje outliers house --->', porcentaje_outliers_house)"
   ]
  },
  {
   "cell_type": "markdown",
   "id": "harmful-exhaust",
   "metadata": {},
   "source": [
    "- #### Cantidad de outliers para Store"
   ]
  },
  {
   "cell_type": "code",
   "execution_count": 194,
   "id": "hearing-tracker",
   "metadata": {},
   "outputs": [
    {
     "data": {
      "text/plain": [
       "count    3.218000e+03\n",
       "mean     4.394095e+05\n",
       "std      7.640450e+05\n",
       "min      4.952450e+03\n",
       "25%      9.500000e+04\n",
       "50%      2.100000e+05\n",
       "75%      4.500000e+05\n",
       "max      1.300000e+07\n",
       "Name: price_aprox_usd, dtype: float64"
      ]
     },
     "execution_count": 194,
     "metadata": {},
     "output_type": "execute_result"
    }
   ],
   "source": [
    "store_price.describe()"
   ]
  },
  {
   "cell_type": "code",
   "execution_count": 195,
   "id": "signal-blanket",
   "metadata": {},
   "outputs": [
    {
     "name": "stdout",
     "output_type": "stream",
     "text": [
      "4071\n",
      "3218\n",
      "Cantidad de outliers store ---> 777\n"
     ]
    }
   ],
   "source": [
    "print(store_price.shape[0])\n",
    "print(store_price.notnull().sum())\n",
    "\n",
    "price_aprox_usd_store_alto = store_price > 450000\n",
    "cantidad_outliers_store = price_aprox_usd_store_alto.sum()\n",
    "print('Cantidad de outliers store --->', cantidad_outliers_store)"
   ]
  },
  {
   "cell_type": "code",
   "execution_count": 196,
   "id": "adjusted-theology",
   "metadata": {},
   "outputs": [
    {
     "name": "stdout",
     "output_type": "stream",
     "text": [
      "Porcentaje outliers store ---> 0.24145431945307644\n"
     ]
    }
   ],
   "source": [
    "porcentaje_outliers_store = cantidad_outliers_store / store_price.notnull().sum()\n",
    "print('Porcentaje outliers store --->', porcentaje_outliers_store)"
   ]
  },
  {
   "cell_type": "markdown",
   "id": "communist-minority",
   "metadata": {},
   "source": [
    "- #### En el gráfico podemos ver mas claramente la distribución de los precios por tipo de propiedad"
   ]
  },
  {
   "cell_type": "code",
   "execution_count": 197,
   "id": "welcome-nature",
   "metadata": {},
   "outputs": [
    {
     "data": {
      "image/png": "[encoded data removed]",
      "text/plain": [
       "<Figure size 432x288 with 1 Axes>"
      ]
     },
     "metadata": {
      "needs_background": "light"
     },
     "output_type": "display_data"
    }
   ],
   "source": [
    "mask = data_final['price_aprox_usd'] < 800000\n",
    "fig = sns.boxplot(data = data_final.loc[mask,['price_aprox_usd','property_type']], x ='property_type', y = 'price_aprox_usd')"
   ]
  },
  {
   "cell_type": "code",
   "execution_count": 80,
   "id": "spread-qatar",
   "metadata": {},
   "outputs": [
    {
     "data": {
      "text/plain": [
       "medio --->$100k a $500k        59735\n",
       "bajo ---> $0 a $100k           29900\n",
       "alto ---> $500k to $1MM         6475\n",
       "muy alto ---> $1MM to $10MM     2424\n",
       "Name: price_aprox_usd, dtype: int64"
      ]
     },
     "execution_count": 80,
     "metadata": {},
     "output_type": "execute_result"
    }
   ],
   "source": [
    "bins = [0,100000,500000,1000000,65000000]\n",
    "\n",
    "priceusd_categorias = pd.cut(data_final['price_aprox_usd'], bins, right=False, labels=['bajo ---> $0 a $100k','medio --->$100k a $500k','alto ---> $500k to $1MM',\n",
    "                                                                                'muy alto ---> $1MM to $10MM'], ordered=True)\n",
    "priceusd_categorias.value_counts()"
   ]
  },
  {
   "cell_type": "code",
   "execution_count": 169,
   "id": "electoral-diary",
   "metadata": {},
   "outputs": [
    {
     "data": {
      "text/plain": [
       "apartment    66519\n",
       "house        39761\n",
       "PH            5618\n",
       "store         4071\n",
       "Name: property_type, dtype: int64"
      ]
     },
     "execution_count": 169,
     "metadata": {},
     "output_type": "execute_result"
    }
   ],
   "source": [
    "data_final['property_type'].value_counts()"
   ]
  },
  {
   "cell_type": "markdown",
   "id": "thorough-solution",
   "metadata": {},
   "source": [
    "- #### *Miramos la columna price_per_m2*"
   ]
  },
  {
   "cell_type": "code",
   "execution_count": 199,
   "id": "sacred-terrain",
   "metadata": {},
   "outputs": [],
   "source": [
    "price_per_m2 = data_final['price_per_m2']"
   ]
  },
  {
   "cell_type": "code",
   "execution_count": 200,
   "id": "referenced-polyester",
   "metadata": {},
   "outputs": [
    {
     "data": {
      "text/plain": [
       "count    8.565500e+04\n",
       "mean     6.806705e+03\n",
       "std      2.850105e+04\n",
       "min      1.510204e+00\n",
       "25%      1.538462e+03\n",
       "50%      2.200000e+03\n",
       "75%      3.333333e+03\n",
       "max      4.000000e+06\n",
       "Name: price_per_m2, dtype: float64"
      ]
     },
     "execution_count": 200,
     "metadata": {},
     "output_type": "execute_result"
    }
   ],
   "source": [
    "price_per_m2.describe()"
   ]
  },
  {
   "cell_type": "code",
   "execution_count": 201,
   "id": "treated-ukraine",
   "metadata": {},
   "outputs": [
    {
     "name": "stdout",
     "output_type": "stream",
     "text": [
      "Nulos price_per_m2 ---> 30314\n",
      "Valores NO nulos price_per_m2 ---> 85655\n"
     ]
    }
   ],
   "source": [
    "print('Nulos price_per_m2 --->',price_per_m2.isnull().sum())\n",
    "print('Valores NO nulos price_per_m2 --->', price_per_m2.notnull().sum())"
   ]
  },
  {
   "cell_type": "code",
   "execution_count": 202,
   "id": "adjusted-atlantic",
   "metadata": {},
   "outputs": [
    {
     "data": {
      "image/png": "[encoded data removed]",
      "text/plain": [
       "<Figure size 432x288 with 1 Axes>"
      ]
     },
     "metadata": {
      "needs_background": "light"
     },
     "output_type": "display_data"
    }
   ],
   "source": [
    "mask_priceperm2 = data_final['price_per_m2'] < 4000\n",
    "fig = sns.violinplot(data = data_final.loc[mask_priceperm2,['price_per_m2','property_type']], x ='property_type', y = 'price_per_m2')"
   ]
  },
  {
   "cell_type": "code",
   "execution_count": 204,
   "id": "funky-address",
   "metadata": {},
   "outputs": [
    {
     "data": {
      "text/plain": [
       "bajo ---> $0 a $1600 per m2           23342\n",
       "alto ---> $2200 a $3400 per m2        22245\n",
       "medio --->$1600 a $2200 per m2        19295\n",
       "muy alto ---> $3400 a $5000 per m2     3996\n",
       "Name: price_per_m2, dtype: int64"
      ]
     },
     "execution_count": 204,
     "metadata": {},
     "output_type": "execute_result"
    }
   ],
   "source": [
    "bins = [0,1600,2200,3400,4000]\n",
    "\n",
    "priceusd_categorias = pd.cut(data_final['price_per_m2'], bins, right=False, labels=['bajo ---> $0 a $1600 per m2','medio --->$1600 a $2200 per m2','alto ---> $2200 a $3400 per m2',\n",
    "                                                                                'muy alto ---> $3400 a $5000 per m2'], ordered=True)\n",
    "priceusd_categorias.value_counts()"
   ]
  },
  {
   "cell_type": "code",
   "execution_count": null,
   "id": "every-underwear",
   "metadata": {},
   "outputs": [],
   "source": []
  },
  {
   "cell_type": "code",
   "execution_count": null,
   "id": "ahead-texas",
   "metadata": {},
   "outputs": [],
   "source": []
  }
 ],
 "metadata": {
  "kernelspec": {
   "display_name": "Python [conda env:dhdsblend2021] *",
   "language": "python",
   "name": "conda-env-dhdsblend2021-py"
  },
  "language_info": {
   "codemirror_mode": {
    "name": "ipython",
    "version": 3
   },
   "file_extension": ".py",
   "mimetype": "text/x-python",
   "name": "python",
   "nbconvert_exporter": "python",
   "pygments_lexer": "ipython3",
   "version": "3.8.8"
  }
 },
 "nbformat": 4,
 "nbformat_minor": 5
}
