{
 "cells": [
  {
   "cell_type": "markdown",
   "id": "handmade-freedom",
   "metadata": {},
   "source": [
    "## Regex: m2 y superficie"
   ]
  },
  {
   "cell_type": "code",
   "execution_count": 2,
   "id": "seeing-suspect",
   "metadata": {},
   "outputs": [],
   "source": [
    "import re"
   ]
  },
  {
   "cell_type": "code",
   "execution_count": 6,
   "id": "balanced-bailey",
   "metadata": {
    "collapsed": true,
    "jupyter": {
     "outputs_hidden": true
    }
   },
   "outputs": [
    {
     "ename": "NameError",
     "evalue": "name 'data_final' is not defined",
     "output_type": "error",
     "traceback": [
      "\u001b[1;31m---------------------------------------------------------------------------\u001b[0m",
      "\u001b[1;31mNameError\u001b[0m                                 Traceback (most recent call last)",
      "\u001b[1;32m<ipython-input-6-84afd9d2a4f7>\u001b[0m in \u001b[0;36m<module>\u001b[1;34m\u001b[0m\n\u001b[0;32m      2\u001b[0m \u001b[0mpatron_regex_metros\u001b[0m \u001b[1;33m=\u001b[0m \u001b[0mre\u001b[0m\u001b[1;33m.\u001b[0m\u001b[0mcompile\u001b[0m\u001b[1;33m(\u001b[0m\u001b[0mpatron_valor_metros\u001b[0m\u001b[1;33m,\u001b[0m \u001b[0mre\u001b[0m\u001b[1;33m.\u001b[0m\u001b[0mIGNORECASE\u001b[0m\u001b[1;33m)\u001b[0m\u001b[1;33m\u001b[0m\u001b[1;33m\u001b[0m\u001b[0m\n\u001b[0;32m      3\u001b[0m \u001b[1;33m\u001b[0m\u001b[0m\n\u001b[1;32m----> 4\u001b[1;33m \u001b[0mresultado_patron_metros\u001b[0m \u001b[1;33m=\u001b[0m \u001b[0mdata_final\u001b[0m\u001b[1;33m[\u001b[0m\u001b[1;34m'description'\u001b[0m\u001b[1;33m]\u001b[0m\u001b[1;33m.\u001b[0m\u001b[0mapply\u001b[0m\u001b[1;33m(\u001b[0m\u001b[1;32mlambda\u001b[0m \u001b[0mx\u001b[0m\u001b[1;33m:\u001b[0m \u001b[0mx\u001b[0m \u001b[1;32mif\u001b[0m \u001b[0mx\u001b[0m \u001b[1;32mis\u001b[0m \u001b[0mnp\u001b[0m\u001b[1;33m.\u001b[0m\u001b[0mNaN\u001b[0m \u001b[1;32melse\u001b[0m \u001b[0mpatron_regex_metros\u001b[0m\u001b[1;33m.\u001b[0m\u001b[0msearch\u001b[0m\u001b[1;33m(\u001b[0m\u001b[0mx\u001b[0m\u001b[1;33m)\u001b[0m \u001b[1;32mif\u001b[0m \u001b[0mpatron_regex_metros\u001b[0m\u001b[1;33m.\u001b[0m\u001b[0msearch\u001b[0m\u001b[1;33m(\u001b[0m\u001b[0mx\u001b[0m\u001b[1;33m)\u001b[0m \u001b[1;33m!=\u001b[0m \u001b[1;32mNone\u001b[0m \u001b[1;32melse\u001b[0m \u001b[0mnp\u001b[0m\u001b[1;33m.\u001b[0m\u001b[0mNaN\u001b[0m\u001b[1;33m)\u001b[0m\u001b[1;33m\u001b[0m\u001b[1;33m\u001b[0m\u001b[0m\n\u001b[0m\u001b[0;32m      5\u001b[0m \u001b[1;33m\u001b[0m\u001b[0m\n\u001b[0;32m      6\u001b[0m \u001b[0mmetros_match\u001b[0m \u001b[1;33m=\u001b[0m \u001b[0mresultado_patron_metros\u001b[0m\u001b[1;33m.\u001b[0m\u001b[0mapply\u001b[0m\u001b[1;33m(\u001b[0m\u001b[1;32mlambda\u001b[0m \u001b[0mx\u001b[0m\u001b[1;33m:\u001b[0m \u001b[0mx\u001b[0m \u001b[1;32mif\u001b[0m \u001b[0mx\u001b[0m \u001b[1;32mis\u001b[0m \u001b[0mnp\u001b[0m\u001b[1;33m.\u001b[0m\u001b[0mNaN\u001b[0m \u001b[1;32melse\u001b[0m \u001b[0mx\u001b[0m\u001b[1;33m.\u001b[0m\u001b[0mgroup\u001b[0m\u001b[1;33m(\u001b[0m\u001b[1;34m'metros'\u001b[0m\u001b[1;33m)\u001b[0m\u001b[1;33m)\u001b[0m\u001b[1;33m\u001b[0m\u001b[1;33m\u001b[0m\u001b[0m\n",
      "\u001b[1;31mNameError\u001b[0m: name 'data_final' is not defined"
     ]
    }
   ],
   "source": [
    "patron_valor_metros = '(?P<valor_mts>\\d+.?,?\\d+\\s?)(?P<metros>m?e?t2?s?2?)'\n",
    "patron_regex_metros = re.compile(patron_valor_metros, re.IGNORECASE)\n",
    "\n",
    "resultado_patron_metros = data_final['description'].apply(lambda x: x if x is np.NaN else patron_regex_metros.search(x) if patron_regex_metros.search(x) != None else np.NaN)\n",
    "\n",
    "metros_match = resultado_patron_metros.apply(lambda x: x if x is np.NaN else x.group('metros'))\n",
    "valor_mts_match = resultado_patron_metros.apply(lambda x: x if x is np.NaN else x.group('valor_mts'))\n",
    "\n",
    "#creamos una columna metros con 0s y 1s\n",
    "\n",
    "data_final['metros'] = metros_match\n",
    "columna_metros = data_final['metros'].apply(lambda x: 0 if x is np.NaN else 1)\n",
    "\n",
    "data_final['metros'] = columna_metros\n",
    "data_final['metros'].value_counts()"
   ]
  },
  {
   "cell_type": "code",
   "execution_count": null,
   "id": "noted-firewall",
   "metadata": {},
   "outputs": [],
   "source": [
    "patron_superficie = '(?P<superficie>\\d{0,100}superficie?\\d{0,100})' \n",
    "patron_regex_superficie = re.compile(patron_superficie, re.IGNORECASE)\n",
    "\n",
    "resultado_patron_superficie = data_final['description'].apply(lambda x: x if x is np.NaN else patron_regex_superficie.search(x) if patron_regex_superficie.search(x) != None else np.NaN)\n",
    "\n",
    "superficie_match = resultado_patron_superficie.apply(lambda x: x if x is np.NaN else x.group('superficie'))\n",
    "\n",
    "#creamos una columna superficie con 0s y 1s\n",
    "\n",
    "data_final['superficie'] = superficie_match\n",
    "columna_superficie = data_final['superficie'].apply(lambda x: 0 if x is np.NaN else 1)\n",
    "\n",
    "data_final['superficie'] = columna_superficie\n",
    "data_final['superficie'].value_counts()"
   ]
  },
  {
   "cell_type": "code",
   "execution_count": null,
   "id": "effective-corruption",
   "metadata": {},
   "outputs": [],
   "source": [
    "patron_s2 = '(?P<s2>\\d{0,100}s2\\d{0,100})' \n",
    "patron_regex_s2 = re.compile(patron_s2, re.IGNORECASE)\n",
    "\n",
    "resultado_patron_s2 = data_final['description'].apply(lambda x: x if x is np.NaN else patron_regex_s2.search(x) if patron_regex_s2.search(x) != None else np.NaN)\n",
    "\n",
    "s2_match = resultado_patron_s2.apply(lambda x: x if x is np.NaN else x.group('s2'))\n",
    "\n",
    "#creamos la columna s2 con 0s y 1s\n",
    "\n",
    "data_final['s2'] = s2_match\n",
    "columna_s2 = data_final['s2'].apply(lambda x: 0 if x is np.NaN else 1)\n",
    "\n",
    "data_final['s2'] = columna_s2\n",
    "data_final['s2'].value_counts()"
   ]
  },
  {
   "cell_type": "code",
   "execution_count": null,
   "id": "strategic-alexander",
   "metadata": {},
   "outputs": [],
   "source": []
  }
 ],
 "metadata": {
  "kernelspec": {
   "display_name": "Python [conda env:dhdsblend2021] *",
   "language": "python",
   "name": "conda-env-dhdsblend2021-py"
  },
  "language_info": {
   "codemirror_mode": {
    "name": "ipython",
    "version": 3
   },
   "file_extension": ".py",
   "mimetype": "text/x-python",
   "name": "python",
   "nbconvert_exporter": "python",
   "pygments_lexer": "ipython3",
   "version": "3.8.8"
  }
 },
 "nbformat": 4,
 "nbformat_minor": 5
}
