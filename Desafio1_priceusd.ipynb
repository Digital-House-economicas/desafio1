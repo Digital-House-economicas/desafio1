{
 "cells": [
  {
   "cell_type": "markdown",
   "id": "innovative-welsh",
   "metadata": {},
   "source": [
    "# *DESAFIO 1*"
   ]
  },
  {
   "cell_type": "markdown",
   "id": "broad-assumption",
   "metadata": {},
   "source": [
    "- #### Como primer medida vamos a importar las librerías que vamos a utilizar a lo largo de la notebook, y todas las herramientas que creamos necesarias. "
   ]
  },
  {
   "cell_type": "code",
   "execution_count": 1,
   "id": "legislative-invalid",
   "metadata": {},
   "outputs": [],
   "source": [
    "import pandas as pd\n",
    "import numpy as np \n",
    "import matplotlib.pyplot as plt\n",
    "import seaborn as sns \n",
    "import re \n",
    "\n",
    "%matplotlib inline"
   ]
  },
  {
   "cell_type": "markdown",
   "id": "covered-graph",
   "metadata": {},
   "source": [
    "- #### El siguiente paso es importar el Dataset y comenzar a revisarlo"
   ]
  },
  {
   "cell_type": "code",
   "execution_count": 2,
   "id": "figured-kernel",
   "metadata": {},
   "outputs": [
    {
     "name": "stdout",
     "output_type": "stream",
     "text": [
      "(121220, 26) \n",
      "\n",
      "          Unnamed: 0   geonames_id           lat           lon         price  \\\n",
      "count  121220.000000  1.025030e+05  69670.000000  69670.000000  1.008100e+05   \n",
      "mean    60609.500000  3.574442e+06    -34.626210    -59.266290  4.685259e+05   \n",
      "std     34993.344153  3.541306e+05      1.980936      2.299922  2.260101e+06   \n",
      "min         0.000000  3.427208e+06    -54.823985    -75.678931  0.000000e+00   \n",
      "25%     30304.750000  3.430234e+06    -34.669065    -58.727040  1.100000e+05   \n",
      "50%     60609.500000  3.433910e+06    -34.597985    -58.480128  1.850000e+05   \n",
      "75%     90914.250000  3.836668e+06    -34.441299    -58.395908  4.200000e+05   \n",
      "max    121219.000000  6.948895e+06      4.545843    -53.733330  6.500000e+08   \n",
      "\n",
      "       price_aprox_local_currency  price_aprox_usd  surface_total_in_m2  \\\n",
      "count                1.008100e+05     1.008100e+05         81892.000000   \n",
      "mean                 4.229397e+06     2.397006e+05           233.795328   \n",
      "std                  6.904714e+06     3.913239e+05          1782.222147   \n",
      "min                  0.000000e+00     0.000000e+00             0.000000   \n",
      "25%                  1.583309e+06     8.973388e+04            50.000000   \n",
      "50%                  2.558452e+06     1.450000e+05            84.000000   \n",
      "75%                  4.675792e+06     2.650000e+05           200.000000   \n",
      "max                  8.212711e+08     4.654544e+07        200000.000000   \n",
      "\n",
      "       surface_covered_in_m2  price_usd_per_m2  price_per_m2        floor  \\\n",
      "count          101313.000000      68617.000000  8.765800e+04  7899.000000   \n",
      "mean              133.050181       2160.086916  6.912216e+03    17.452336   \n",
      "std               724.351479       2759.288621  2.837864e+04   120.243621   \n",
      "min                 0.000000          0.600000  1.510204e+00     1.000000   \n",
      "25%                45.000000       1218.181818  1.550000e+03     1.000000   \n",
      "50%                75.000000       1800.000000  2.213115e+03     3.000000   \n",
      "75%               150.000000       2486.411765  3.355549e+03     6.000000   \n",
      "max            187000.000000     206333.333333  4.000000e+06  3150.000000   \n",
      "\n",
      "              rooms      expenses  \n",
      "count  47390.000000  1.426200e+04  \n",
      "mean       3.080840  5.009234e+03  \n",
      "std        1.860773  1.204403e+05  \n",
      "min        1.000000  1.000000e+00  \n",
      "25%        2.000000  1.000000e+03  \n",
      "50%        3.000000  2.000000e+03  \n",
      "75%        4.000000  4.000000e+03  \n",
      "max       32.000000  1.000150e+07  \n",
      "Unnamed: 0                    0.000000\n",
      "operation                     0.000000\n",
      "property_type                 0.000000\n",
      "place_name                    0.000190\n",
      "place_with_parent_names       0.000000\n",
      "country_name                  0.000000\n",
      "state_name                    0.000000\n",
      "geonames_id                   0.154405\n",
      "lat-lon                       0.425260\n",
      "lat                           0.425260\n",
      "lon                           0.425260\n",
      "price                         0.168372\n",
      "currency                      0.168380\n",
      "price_aprox_local_currency    0.168372\n",
      "price_aprox_usd               0.168372\n",
      "surface_total_in_m2           0.324435\n",
      "surface_covered_in_m2         0.164222\n",
      "price_usd_per_m2              0.433947\n",
      "price_per_m2                  0.276869\n",
      "floor                         0.934837\n",
      "rooms                         0.609058\n",
      "expenses                      0.882346\n",
      "properati_url                 0.000000\n",
      "description                   0.000016\n",
      "title                         0.000000\n",
      "image_thumbnail               0.025672\n",
      "dtype: float64\n"
     ]
    }
   ],
   "source": [
    "data_location = 'C:/Users/USUARIO/Desktop/Digital House - DS/Data Sets/properatti.csv'\n",
    "data = pd.read_csv(data_location)\n",
    "\n",
    "print(data.shape, '\\n')\n",
    "\n",
    "# hacemos un describe para ver algunos datos estadisticos del dataset \n",
    "print(data.describe())\n",
    "\n",
    "# mostramos el porcentaje de nulos que tiene cada columna del dataset \n",
    "print(data.isnull().sum() / data.shape[0])"
   ]
  },
  {
   "cell_type": "markdown",
   "id": "incorrect-kingston",
   "metadata": {},
   "source": [
    "- #### Creamos un nuevo dataset con las columnas mas relevantes, sobre las que vamos a llevar a cabo la limpieza e imputación de datos"
   ]
  },
  {
   "cell_type": "code",
   "execution_count": 3,
   "id": "occupied-provider",
   "metadata": {},
   "outputs": [
    {
     "name": "stdout",
     "output_type": "stream",
     "text": [
      "Cantidad de NO nulos en la columna expenses ---> 14262 \n",
      "\n",
      "Cantidad total de filas en la columna expenses ---> 121220 \n",
      "\n",
      "property_type              0.000000\n",
      "place_name                 0.000190\n",
      "place_with_parent_names    0.000000\n",
      "state_name                 0.000000\n",
      "price                      0.168372\n",
      "currency                   0.168380\n",
      "price_aprox_usd            0.168372\n",
      "surface_total_in_m2        0.324435\n",
      "surface_covered_in_m2      0.164222\n",
      "price_per_m2               0.276869\n",
      "rooms                      0.609058\n",
      "description                0.000016\n",
      "title                      0.000000\n",
      "dtype: float64 \n",
      "\n"
     ]
    }
   ],
   "source": [
    "data_final = data[['property_type','place_name','place_with_parent_names','state_name','price','currency','price_aprox_usd',\n",
    "                         'surface_total_in_m2','surface_covered_in_m2','price_per_m2','rooms','description','title']].copy()\n",
    "\n",
    "# La columna 'expenses', si bien podría haber aportado información relevante, la desestimamos debido a su alto porcentaje de nulos.  \n",
    "\n",
    "print('Cantidad de NO nulos en la columna expenses --->', data['expenses'].notnull().sum(), '\\n')\n",
    "print('Cantidad total de filas en la columna expenses --->', data['expenses'].shape[0], '\\n')\n",
    "\n",
    "# Evaluamos nuestro dataset final donde llevaremos a cabo la limpieza e imputación de datos. Vemos que la cantidad de nulos de las columnas\n",
    "# sea baja para poder comenzar a trabajar. \n",
    "\n",
    "print(data_final.isnull().sum() / data_final.shape[0], '\\n')"
   ]
  },
  {
   "cell_type": "markdown",
   "id": "failing-facility",
   "metadata": {},
   "source": [
    "- #### Miramos si hay valores duplicados. En caso de que los haya, los eliminamos"
   ]
  },
  {
   "cell_type": "code",
   "execution_count": 4,
   "id": "unique-synthesis",
   "metadata": {},
   "outputs": [
    {
     "name": "stdout",
     "output_type": "stream",
     "text": [
      "121220\n",
      "5410\n",
      "----\n",
      "115810\n"
     ]
    }
   ],
   "source": [
    "duplicados = data_final.duplicated()\n",
    "print(duplicados.shape[0])\n",
    "print(duplicados.sum())\n",
    "print('----')\n",
    "\n",
    "data_final.loc[duplicados].head(40)\n",
    "data_final.drop_duplicates(inplace=True)\n",
    "\n",
    "print(data_final.shape[0])"
   ]
  },
  {
   "cell_type": "code",
   "execution_count": 5,
   "id": "assigned-patio",
   "metadata": {},
   "outputs": [
    {
     "name": "stdout",
     "output_type": "stream",
     "text": [
      "115810\n"
     ]
    }
   ],
   "source": [
    "data_final.drop_duplicates(inplace=True)\n",
    "print(data_final.shape[0])"
   ]
  },
  {
   "cell_type": "markdown",
   "id": "later-setting",
   "metadata": {},
   "source": [
    "- #### *Investigamos la columna price*"
   ]
  },
  {
   "cell_type": "code",
   "execution_count": 6,
   "id": "pressing-judgment",
   "metadata": {},
   "outputs": [
    {
     "name": "stdout",
     "output_type": "stream",
     "text": [
      "Tamaño columna price ---> 115810 \n",
      "\n",
      "Valores nulos columna price ---> 17374 \n",
      "\n",
      "Valores NO nulos columna price ---> 98436 \n",
      "\n",
      "count    9.843600e+04\n",
      "mean     4.647985e+05\n",
      "std      2.272420e+06\n",
      "min      0.000000e+00\n",
      "25%      1.100000e+05\n",
      "50%      1.850000e+05\n",
      "75%      4.184175e+05\n",
      "max      6.500000e+08\n",
      "Name: price, dtype: float64 \n",
      "\n"
     ]
    }
   ],
   "source": [
    "print('Tamaño columna price --->', data_final['price'].shape[0], '\\n')\n",
    "print('Valores nulos columna price --->', data_final['price'].isnull().sum(), '\\n')\n",
    "print('Valores NO nulos columna price --->', data_final['price'].notnull().sum(), '\\n')\n",
    "print(data_final['price'].describe(), '\\n')"
   ]
  },
  {
   "cell_type": "markdown",
   "id": "studied-plymouth",
   "metadata": {},
   "source": [
    "- #### Verificamos que no haya datos faltantes y que todos los precios expresados en ARS estén en la columna price_aprox_usd denominados en USD. "
   ]
  },
  {
   "cell_type": "code",
   "execution_count": 7,
   "id": "certified-slope",
   "metadata": {},
   "outputs": [],
   "source": [
    "price_aprox_usd = data_final['price_aprox_usd']\n",
    "pesos_mask = data_final['currency'] == 'ARS'\n",
    "price_pesos = data_final.loc[pesos_mask]"
   ]
  },
  {
   "cell_type": "code",
   "execution_count": 8,
   "id": "recognized-raising",
   "metadata": {},
   "outputs": [
    {
     "name": "stdout",
     "output_type": "stream",
     "text": [
      "Cantidad de precio aproximado en USD para los valores expresados ARS ---> 12646 \n",
      "\n",
      "Cantidad de  precios expresados en ARS ---> 12646\n"
     ]
    }
   ],
   "source": [
    "print('Cantidad de precio aproximado en USD para los valores expresados ARS --->', price_aprox_usd[pesos_mask].shape[0], '\\n')\n",
    "print('Cantidad de  precios expresados en ARS --->', data_final[pesos_mask].shape[0])"
   ]
  },
  {
   "cell_type": "markdown",
   "id": "thorough-youth",
   "metadata": {},
   "source": [
    "- #### Lo primero que tenemos que hacer es pasar los precios expresados en pesos a valores en dolares, utilizando la columna price_aprox_usd. \n",
    "- #### Luego vamos a mirar como se distribuyen los valores de cada property_type, si no tienen muchos outliers, imputaremos los datos faltantes por el precio promedio de cada tipo de propiedad; si tienen muchos outliers utilizaremos la mediana para no sesgar los resultados.  \n"
   ]
  },
  {
   "cell_type": "code",
   "execution_count": 9,
   "id": "electoral-invention",
   "metadata": {},
   "outputs": [],
   "source": [
    "data_final['priceusd'] = data_final['price']\n",
    "data_final.loc[pesos_mask ,'priceusd'] = data_final.loc[pesos_mask,'price_aprox_usd']"
   ]
  },
  {
   "cell_type": "code",
   "execution_count": 10,
   "id": "desirable-ridge",
   "metadata": {},
   "outputs": [
    {
     "name": "stdout",
     "output_type": "stream",
     "text": [
      "         priceusd property_type  price_aprox_usd\n",
      "9        25798.49         house         25798.49\n",
      "32       30846.02     apartment         30846.02\n",
      "37       70104.59         house         70104.59\n",
      "78      308460.22         house        308460.22\n",
      "97       79851.93     apartment         79851.93\n",
      "...           ...           ...              ...\n",
      "121199   84237.68     apartment         84237.68\n",
      "121200   84013.34     apartment         84013.34\n",
      "121202   84518.10     apartment         84518.10\n",
      "121203   84237.68     apartment         84237.68\n",
      "121205   84518.10     apartment         84518.10\n",
      "\n",
      "[12646 rows x 3 columns] \n",
      "\n"
     ]
    },
    {
     "data": {
      "text/plain": [
       "apartment    66418\n",
       "house        39712\n",
       "PH            5613\n",
       "store         4067\n",
       "Name: property_type, dtype: int64"
      ]
     },
     "execution_count": 10,
     "metadata": {},
     "output_type": "execute_result"
    }
   ],
   "source": [
    "# En estas líneas de código corroboramos que los precios denominados en pesos, cambiaron a su aproximado en dolares. \n",
    "\n",
    "priceusd_check = data_final.loc[:,['priceusd','property_type','price_aprox_usd']]\n",
    "print(priceusd_check[pesos_mask], '\\n')\n",
    "\n",
    "# Una vez que logramos trabajar con todos los valores en usd, vamos a visualizar si hay outliers en los precios de cada uno de los tipos de \n",
    "# propiedades, para definir el tipo de imputación a la columna price.\n",
    "\n",
    "data_final['property_type'].value_counts()"
   ]
  },
  {
   "cell_type": "code",
   "execution_count": 11,
   "id": "legitimate-leather",
   "metadata": {},
   "outputs": [
    {
     "name": "stdout",
     "output_type": "stream",
     "text": [
      "98436\n",
      "17374\n",
      "115810\n"
     ]
    }
   ],
   "source": [
    "# Los valores en la columna price usd son los valores en dólares y los valores aproximados en dólares de las propiedades denominadas en pesos. \n",
    "\n",
    "print(data_final['priceusd'].notnull().sum())\n",
    "\n",
    "print(data_final['price_aprox_usd'].isnull().sum())\n",
    "print(data_final['price_aprox_usd'].shape[0])\n"
   ]
  },
  {
   "cell_type": "markdown",
   "id": "interpreted-carnival",
   "metadata": {},
   "source": [
    "- #### Variable de los precios por tipo de propiedad "
   ]
  },
  {
   "cell_type": "code",
   "execution_count": 12,
   "id": "circular-cycling",
   "metadata": {},
   "outputs": [],
   "source": [
    "price = data_final['priceusd']\n",
    "property_type_PH = data_final['property_type'] == 'PH' \n",
    "PH_price = price[property_type_PH]\n",
    "\n",
    "price = data_final['priceusd']\n",
    "property_type_apartment = data_final['property_type'] == 'apartment' \n",
    "apartment_price = price[property_type_apartment]\n",
    "\n",
    "price = data_final['priceusd']\n",
    "property_type_house = data_final['property_type'] == 'house' \n",
    "house_price = price[property_type_house]\n",
    "\n",
    "price = data_final['priceusd']\n",
    "property_type_store = data_final['property_type'] == 'store' \n",
    "store_price = price[property_type_store]"
   ]
  },
  {
   "cell_type": "markdown",
   "id": "decent-glenn",
   "metadata": {},
   "source": [
    "- #### Porcentaje de nulos por tipo de propiedad"
   ]
  },
  {
   "cell_type": "code",
   "execution_count": 13,
   "id": "false-helena",
   "metadata": {},
   "outputs": [
    {
     "name": "stdout",
     "output_type": "stream",
     "text": [
      "Cantidad de nulos en PH ---> 0.08070550507749866 \n",
      "\n",
      "Cantidad de nulos en apartment ---> 0.1325694841759764 \n",
      "\n",
      "Cantidad de nulos en house ---> 0.18289182111200644 \n",
      "\n",
      "Cantidad de nulos en store ---> 0.20973690681091714 \n",
      "\n"
     ]
    }
   ],
   "source": [
    "print('Cantidad de nulos en PH --->', PH_price.isnull().sum() / PH_price.shape[0] , '\\n')\n",
    "print('Cantidad de nulos en apartment --->', apartment_price.isnull().sum() / apartment_price.shape[0] , '\\n')\n",
    "print('Cantidad de nulos en house --->', house_price.isnull().sum() / house_price.shape[0] , '\\n')\n",
    "print('Cantidad de nulos en store --->', store_price.isnull().sum() / store_price.shape[0] , '\\n')"
   ]
  },
  {
   "cell_type": "markdown",
   "id": "proper-background",
   "metadata": {},
   "source": [
    "- #### Calculo outliers"
   ]
  },
  {
   "cell_type": "code",
   "execution_count": 14,
   "id": "basic-action",
   "metadata": {},
   "outputs": [
    {
     "name": "stdout",
     "output_type": "stream",
     "text": [
      "PH \n",
      "\n",
      "Primer Cuartil ---> 85000.0 \n",
      "\n",
      "Tercer Cuartil ---> 165000.0 \n",
      "\n",
      "Rango Intercuartil ---> 80000.0 \n",
      "\n",
      "Media 147823.07622093023 \n",
      "\n",
      "Mediana 120000.0 \n",
      "\n",
      "Valor mínimo 5047.53 \n",
      "\n",
      "Valor máximo 2800000.0 \n",
      "\n",
      "La cantidad de outliers dentro de PH_price es ---> 2544 \n",
      "\n",
      "Porcentaje de outliers dentro de PH_price ---> 49.30232558139535 \n",
      "\n"
     ]
    }
   ],
   "source": [
    "print('PH','\\n')\n",
    "\n",
    "Q1_PH_price = PH_price.quantile(0.25)\n",
    "print('Primer Cuartil --->', Q1_PH_price, '\\n')\n",
    "\n",
    "Q3_PH_price = PH_price.quantile(0.75)\n",
    "print('Tercer Cuartil --->', Q3_PH_price, '\\n')\n",
    "\n",
    "IQR_PH_price = Q3_PH_price - Q1_PH_price\n",
    "print('Rango Intercuartil --->', IQR_PH_price, '\\n')\n",
    "\n",
    "Media_PH_price = PH_price.mean()\n",
    "print('Media', Media_PH_price, '\\n')\n",
    "\n",
    "Mediana_PH_price = PH_price.median()\n",
    "print('Mediana', Mediana_PH_price, '\\n')\n",
    "\n",
    "Valor_Minimo_PH_price = PH_price.min()\n",
    "print('Valor mínimo', Valor_Minimo_PH_price, '\\n')\n",
    "\n",
    "Valor_Maximo_PH_price = PH_price.max()\n",
    "print('Valor máximo', Valor_Maximo_PH_price, '\\n')\n",
    "\n",
    "\n",
    "# OUTLIERS\n",
    "\n",
    "PH_price_outliers_calculo = (PH_price < Q1_PH_price) | (PH_price > Q3_PH_price)\n",
    "PH_price_outliers = PH_price_outliers_calculo.sum()\n",
    "print('La cantidad de outliers dentro de PH_price es --->', PH_price_outliers, '\\n')\n",
    "PH_price_values = PH_price.shape[0] - PH_price.isnull().sum()\n",
    "print('Porcentaje de outliers dentro de PH_price --->', PH_price_outliers * 100 / PH_price_values, '\\n')"
   ]
  },
  {
   "cell_type": "code",
   "execution_count": 15,
   "id": "correct-brave",
   "metadata": {},
   "outputs": [
    {
     "name": "stdout",
     "output_type": "stream",
     "text": [
      "APARTMENT \n",
      "\n",
      "Primer Cuartil ---> 80000.0 \n",
      "\n",
      "Tercer Cuartil ---> 193000.0 \n",
      "\n",
      "Rango Intercuartil ---> 113000.0 \n",
      "\n",
      "Media 188326.64519830592 \n",
      "\n",
      "Mediana 119900.0 \n",
      "\n",
      "Valor mínimo 4666.62 \n",
      "\n",
      "Valor máximo 46545445.0 \n",
      "\n",
      "La cantidad de outliers dentro de apartment_price es ---> 28347 \n",
      "\n",
      "Porcentaje de outliers dentro de apartment_price ---> 49.202436949993924 \n",
      "\n"
     ]
    }
   ],
   "source": [
    "print('APARTMENT', '\\n')\n",
    "\n",
    "Q1_apartment_price = apartment_price.quantile(0.25)\n",
    "print('Primer Cuartil --->', Q1_apartment_price, '\\n')\n",
    "\n",
    "Q3_apartment_price = apartment_price.quantile(0.75)\n",
    "print('Tercer Cuartil --->', Q3_apartment_price, '\\n')\n",
    "\n",
    "IQR_apartment_price = Q3_apartment_price - Q1_apartment_price\n",
    "print('Rango Intercuartil --->', IQR_apartment_price, '\\n')\n",
    "\n",
    "Media_apartment_price = apartment_price.mean()\n",
    "print('Media', Media_apartment_price, '\\n')\n",
    "\n",
    "Mediana_apartment_price = apartment_price.median()\n",
    "print('Mediana', Mediana_apartment_price, '\\n')\n",
    "\n",
    "Valor_Minimo_apartment_price = apartment_price.min()\n",
    "print('Valor mínimo', Valor_Minimo_apartment_price, '\\n')\n",
    "\n",
    "Valor_Maximo_apartment_price = apartment_price.max()\n",
    "print('Valor máximo', Valor_Maximo_apartment_price, '\\n')\n",
    "\n",
    "\n",
    "# OUTLIERS\n",
    "\n",
    "apartment_price_outliers_calculo = (apartment_price < Q1_apartment_price) | (apartment_price > Q3_apartment_price)\n",
    "apartment_price_outliers = apartment_price_outliers_calculo.sum()\n",
    "print('La cantidad de outliers dentro de apartment_price es --->', apartment_price_outliers, '\\n')\n",
    "apartment_price_values = apartment_price.shape[0] - apartment_price.isnull().sum()\n",
    "print('Porcentaje de outliers dentro de apartment_price --->', apartment_price_outliers * 100 / apartment_price_values, '\\n')"
   ]
  },
  {
   "cell_type": "code",
   "execution_count": 16,
   "id": "collaborative-consultancy",
   "metadata": {},
   "outputs": [
    {
     "name": "stdout",
     "output_type": "stream",
     "text": [
      "Primer Cuartil ---> 140000.0 \n",
      "\n",
      "Tercer Cuartil ---> 380000.0 \n",
      "\n",
      "Rango Intercuartil ---> 240000.0 \n",
      "\n",
      "Media 348668.50439951924 \n",
      "\n",
      "Mediana 240000.0 \n",
      "\n",
      "Valor mínimo 0.0 \n",
      "\n",
      "Valor máximo 650000000.0 \n",
      "\n",
      "La cantidad de outliers dentro de house_price es ---> 16101 \n",
      "\n",
      "Cantidad de valores netos dentro de house_price ---> 32449 \n",
      "\n",
      "Porcentaje de outliers dentro de house_price ---> 49.61940275509261 \n",
      "\n"
     ]
    }
   ],
   "source": [
    "Q1_house_price = house_price.quantile(0.25)\n",
    "print('Primer Cuartil --->', Q1_house_price, '\\n')\n",
    "\n",
    "Q3_house_price = house_price.quantile(0.75)\n",
    "print('Tercer Cuartil --->', Q3_house_price, '\\n')\n",
    "\n",
    "IQR_house_price = Q3_house_price - Q1_house_price\n",
    "print('Rango Intercuartil --->', IQR_house_price, '\\n')\n",
    "\n",
    "Media_house_price = house_price.mean()\n",
    "print('Media', Media_house_price, '\\n')\n",
    "\n",
    "Mediana_house_price = house_price.median()\n",
    "print('Mediana', Mediana_house_price, '\\n')\n",
    "\n",
    "Valor_Minimo_house_price = house_price.min()\n",
    "print('Valor mínimo', Valor_Minimo_house_price, '\\n')\n",
    "\n",
    "Valor_Maximo_house_price = house_price.max()\n",
    "print('Valor máximo', Valor_Maximo_house_price, '\\n')\n",
    "\n",
    "# OUTLIERS\n",
    "\n",
    "house_price_outliers_calculo = (house_price < Q1_house_price) | (house_price > Q3_house_price)\n",
    "house_price_outliers = house_price_outliers_calculo.sum()\n",
    "print('La cantidad de outliers dentro de house_price es --->', house_price_outliers, '\\n')\n",
    "print('Cantidad de valores netos dentro de house_price --->', house_price.shape[0] - house_price.isnull().sum(), '\\n')\n",
    "house_price_values = house_price.shape[0] - house_price.isnull().sum()\n",
    "print('Porcentaje de outliers dentro de house_price --->', house_price_outliers * 100 / house_price_values, '\\n')"
   ]
  },
  {
   "cell_type": "code",
   "execution_count": 17,
   "id": "comparative-drive",
   "metadata": {},
   "outputs": [
    {
     "name": "stdout",
     "output_type": "stream",
     "text": [
      "STORE\n",
      "Primer Cuartil ---> 95000.0 \n",
      "\n",
      "Tercer Cuartil ---> 450000.0 \n",
      "\n",
      "Rango Intercuartil ---> 355000.0 \n",
      "\n",
      "Media 439801.60409769765 \n",
      "\n",
      "Mediana 210000.0 \n",
      "\n",
      "Valor mínimo 4952.45 \n",
      "\n",
      "Valor máximo 13000000.0 \n",
      "\n",
      "La cantidad de outliers dentro de store_price es ---> 1577 \n",
      "\n",
      "Cantidad de valores netos dentro de store_price ---> 3214 \n",
      "\n",
      "Porcentaje de outliers dentro de store_price ---> 49.066583696328564 \n",
      "\n"
     ]
    }
   ],
   "source": [
    "print('STORE')\n",
    "\n",
    "Q1_store_price = store_price.quantile(0.25)\n",
    "print('Primer Cuartil --->', Q1_store_price, '\\n')\n",
    "\n",
    "Q3_store_price = store_price.quantile(0.75)\n",
    "print('Tercer Cuartil --->', Q3_store_price, '\\n')\n",
    "\n",
    "IQR_store_price = Q3_store_price - Q1_store_price\n",
    "print('Rango Intercuartil --->', IQR_store_price, '\\n')\n",
    "\n",
    "Media_store_price = store_price.mean()\n",
    "print('Media', Media_store_price, '\\n')\n",
    "\n",
    "Mediana_store_price = store_price.median()\n",
    "print('Mediana', Mediana_store_price, '\\n')\n",
    "\n",
    "Valor_Minimo_store_price = store_price.min()\n",
    "print('Valor mínimo', Valor_Minimo_store_price, '\\n')\n",
    "\n",
    "Valor_Maximo_store_price = store_price.max()\n",
    "print('Valor máximo', Valor_Maximo_store_price, '\\n')\n",
    "\n",
    "\n",
    "# OUTLIERS\n",
    "\n",
    "store_price_outliers_calculo = (store_price < Q1_store_price) | (store_price > Q3_store_price)\n",
    "store_price_outliers = store_price_outliers_calculo.sum()\n",
    "print('La cantidad de outliers dentro de store_price es --->', store_price_outliers, '\\n')\n",
    "print('Cantidad de valores netos dentro de store_price --->', store_price.shape[0] - store_price.isnull().sum(), '\\n')\n",
    "store_price_values = store_price.shape[0] - store_price.isnull().sum()\n",
    "print('Porcentaje de outliers dentro de store_price --->', store_price_outliers * 100 / store_price_values, '\\n')"
   ]
  },
  {
   "cell_type": "code",
   "execution_count": 18,
   "id": "sharing-database",
   "metadata": {},
   "outputs": [
    {
     "data": {
      "text/plain": [
       "107390    650000000.0\n",
       "65701      99999999.0\n",
       "91368      56500000.0\n",
       "64134      50000000.0\n",
       "64137      50000000.0\n",
       "64131      50000000.0\n",
       "64132      50000000.0\n",
       "24548      46545445.0\n",
       "116337     30000000.0\n",
       "91468      25000000.0\n",
       "Name: price, dtype: float64"
      ]
     },
     "execution_count": 18,
     "metadata": {},
     "output_type": "execute_result"
    }
   ],
   "source": [
    "data_final['price'].sort_values(ascending = False).head(10)"
   ]
  },
  {
   "cell_type": "markdown",
   "id": "stupid-module",
   "metadata": {},
   "source": [
    "- #### En el gráfico podemos ver que la cantidad de outliers en todas las propiedades es muy grande, por eso imputaremos los datos faltantes de la columna price por la mediana de cada tipo de propiedad."
   ]
  },
  {
   "cell_type": "code",
   "execution_count": 19,
   "id": "written-topic",
   "metadata": {},
   "outputs": [
    {
     "data": {
      "image/png": "[encoded data removed]",
      "text/plain": [
       "<Figure size 432x288 with 1 Axes>"
      ]
     },
     "metadata": {
      "needs_background": "light"
     },
     "output_type": "display_data"
    }
   ],
   "source": [
    "mask = data_final['priceusd'] < 900000\n",
    "fig = sns.boxplot(data = data_final.loc[mask,['priceusd','property_type']], x ='property_type', y = 'priceusd')"
   ]
  },
  {
   "cell_type": "markdown",
   "id": "blessed-samoa",
   "metadata": {},
   "source": [
    "- #### También vemos que a medida que aumentamos el valor del precio en la máscara, nos muestra cada vez más outliers. "
   ]
  },
  {
   "cell_type": "code",
   "execution_count": 20,
   "id": "expected-geneva",
   "metadata": {},
   "outputs": [
    {
     "data": {
      "image/png": "[encoded data removed]",
      "text/plain": [
       "<Figure size 432x288 with 1 Axes>"
      ]
     },
     "metadata": {
      "needs_background": "light"
     },
     "output_type": "display_data"
    }
   ],
   "source": [
    "mask = data_final['priceusd'] < 1000000\n",
    "fig = sns.boxplot(data = data_final.loc[mask,['priceusd','property_type']], x ='property_type', y = 'priceusd')"
   ]
  },
  {
   "cell_type": "code",
   "execution_count": 21,
   "id": "horizontal-missouri",
   "metadata": {},
   "outputs": [
    {
     "data": {
      "image/png": "[encoded data removed]",
      "text/plain": [
       "<Figure size 432x288 with 1 Axes>"
      ]
     },
     "metadata": {
      "needs_background": "light"
     },
     "output_type": "display_data"
    }
   ],
   "source": [
    "mask = data_final['priceusd'] < 5000000\n",
    "fig = sns.boxplot(data = data_final.loc[mask,['priceusd','property_type']], x ='property_type', y = 'priceusd')"
   ]
  },
  {
   "cell_type": "markdown",
   "id": "outstanding-casino",
   "metadata": {},
   "source": [
    "- #### Imputación de valores nulos "
   ]
  },
  {
   "cell_type": "code",
   "execution_count": 22,
   "id": "dietary-chorus",
   "metadata": {},
   "outputs": [
    {
     "data": {
      "text/plain": [
       "apartment    66418\n",
       "house        39712\n",
       "PH            5613\n",
       "store         4067\n",
       "Name: property_type, dtype: int64"
      ]
     },
     "execution_count": 22,
     "metadata": {},
     "output_type": "execute_result"
    }
   ],
   "source": [
    "data_final['property_type'].value_counts()"
   ]
  },
  {
   "cell_type": "markdown",
   "id": "sought-clothing",
   "metadata": {},
   "source": [
    "- #### Imputamos PH"
   ]
  },
  {
   "cell_type": "code",
   "execution_count": 23,
   "id": "material-advisory",
   "metadata": {},
   "outputs": [
    {
     "name": "stdout",
     "output_type": "stream",
     "text": [
      "5160\n",
      "----\n",
      "453\n"
     ]
    }
   ],
   "source": [
    "PH_priceusd_median = PH_price.median()\n",
    "PH_priceusd_null_count = PH_price.isnull().sum()\n",
    "PH_priceusd_notnull_count = PH_price.notnull().sum()\n",
    "\n",
    "print(PH_priceusd_notnull_count)\n",
    "print('----')\n",
    "print(PH_priceusd_null_count)"
   ]
  },
  {
   "cell_type": "code",
   "execution_count": 24,
   "id": "raising-wisdom",
   "metadata": {},
   "outputs": [
    {
     "name": "stdout",
     "output_type": "stream",
     "text": [
      "0\n"
     ]
    }
   ],
   "source": [
    "# Imputamos los datos \n",
    "\n",
    "PH_price.fillna(PH_priceusd_median, axis=0, inplace=True)\n",
    "\n",
    "print(PH_price.isnull().sum())"
   ]
  },
  {
   "cell_type": "markdown",
   "id": "blessed-institution",
   "metadata": {},
   "source": [
    "- #### Imputamos Apartment"
   ]
  },
  {
   "cell_type": "code",
   "execution_count": 25,
   "id": "infinite-tracy",
   "metadata": {},
   "outputs": [
    {
     "name": "stdout",
     "output_type": "stream",
     "text": [
      "57613\n",
      "----\n",
      "8805\n"
     ]
    }
   ],
   "source": [
    "apartment_priceusd_median = apartment_price.median()\n",
    "apartment_priceusd_null_count = apartment_price.isnull().sum()\n",
    "apartment_priceusd_notnull_count = apartment_price.notnull().sum()\n",
    "\n",
    "print(apartment_priceusd_notnull_count)\n",
    "print('----')\n",
    "print(apartment_priceusd_null_count)"
   ]
  },
  {
   "cell_type": "code",
   "execution_count": 26,
   "id": "natural-crystal",
   "metadata": {},
   "outputs": [
    {
     "name": "stdout",
     "output_type": "stream",
     "text": [
      "0\n"
     ]
    }
   ],
   "source": [
    "# Imputamos los datos \n",
    "\n",
    "apartment_price.fillna(apartment_priceusd_median, axis=0, inplace=True)\n",
    "\n",
    "print(apartment_price.isnull().sum())"
   ]
  },
  {
   "cell_type": "markdown",
   "id": "finnish-process",
   "metadata": {},
   "source": [
    "- #### Imputamos House"
   ]
  },
  {
   "cell_type": "code",
   "execution_count": 27,
   "id": "sharp-injury",
   "metadata": {},
   "outputs": [
    {
     "name": "stdout",
     "output_type": "stream",
     "text": [
      "32449\n",
      "----\n",
      "7263\n"
     ]
    }
   ],
   "source": [
    "house_priceusd_median = house_price.median()\n",
    "house_priceusd_null_count = house_price.isnull().sum()\n",
    "house_priceusd_notnull_count = house_price.notnull().sum()\n",
    "\n",
    "print(house_priceusd_notnull_count)\n",
    "print('----')\n",
    "print(house_priceusd_null_count)"
   ]
  },
  {
   "cell_type": "code",
   "execution_count": 28,
   "id": "cathedral-amendment",
   "metadata": {},
   "outputs": [
    {
     "name": "stdout",
     "output_type": "stream",
     "text": [
      "0\n"
     ]
    }
   ],
   "source": [
    "# Imputamos los datos \n",
    "\n",
    "house_price.fillna(apartment_priceusd_median, axis=0, inplace=True)\n",
    "\n",
    "print(house_price.isnull().sum())"
   ]
  },
  {
   "cell_type": "markdown",
   "id": "alleged-christianity",
   "metadata": {},
   "source": [
    "- #### Imputamos Store"
   ]
  },
  {
   "cell_type": "code",
   "execution_count": 29,
   "id": "excessive-manufacturer",
   "metadata": {},
   "outputs": [
    {
     "name": "stdout",
     "output_type": "stream",
     "text": [
      "3214\n",
      "----\n",
      "853\n"
     ]
    }
   ],
   "source": [
    "store_priceusd_median = store_price.median()\n",
    "store_priceusd_null_count = store_price.isnull().sum()\n",
    "store_priceusd_notnull_count = store_price.notnull().sum()\n",
    "\n",
    "print(store_priceusd_notnull_count)\n",
    "print('----')\n",
    "print(store_priceusd_null_count)"
   ]
  },
  {
   "cell_type": "code",
   "execution_count": 30,
   "id": "metric-advantage",
   "metadata": {},
   "outputs": [
    {
     "name": "stdout",
     "output_type": "stream",
     "text": [
      "0\n"
     ]
    }
   ],
   "source": [
    "# Imputamos los datos \n",
    "\n",
    "store_price.fillna(store_priceusd_median, axis=0, inplace=True)\n",
    "\n",
    "print(store_price.isnull().sum())"
   ]
  },
  {
   "cell_type": "markdown",
   "id": "compact-temple",
   "metadata": {},
   "source": [
    "- #### Volvemos a graficar para ver los cambios en los datos luego de la imputación. "
   ]
  },
  {
   "cell_type": "code",
   "execution_count": 31,
   "id": "genuine-drink",
   "metadata": {},
   "outputs": [
    {
     "data": {
      "image/png": "[encoded data removed]",
      "text/plain": [
       "<Figure size 432x288 with 1 Axes>"
      ]
     },
     "metadata": {
      "needs_background": "light"
     },
     "output_type": "display_data"
    }
   ],
   "source": [
    "mask = data_final['priceusd'] < 900000\n",
    "fig = sns.boxplot(data = data_final.loc[mask,['priceusd','property_type']], x ='property_type', y = 'priceusd')"
   ]
  },
  {
   "cell_type": "code",
   "execution_count": null,
   "id": "auburn-scoop",
   "metadata": {},
   "outputs": [],
   "source": []
  },
  {
   "cell_type": "code",
   "execution_count": null,
   "id": "southwest-dialogue",
   "metadata": {},
   "outputs": [],
   "source": []
  },
  {
   "cell_type": "code",
   "execution_count": null,
   "id": "marine-blend",
   "metadata": {},
   "outputs": [],
   "source": []
  },
  {
   "cell_type": "code",
   "execution_count": null,
   "id": "rubber-enclosure",
   "metadata": {},
   "outputs": [],
   "source": []
  },
  {
   "cell_type": "code",
   "execution_count": null,
   "id": "altered-botswana",
   "metadata": {},
   "outputs": [],
   "source": []
  },
  {
   "cell_type": "code",
   "execution_count": null,
   "id": "introductory-secretariat",
   "metadata": {},
   "outputs": [],
   "source": []
  },
  {
   "cell_type": "code",
   "execution_count": null,
   "id": "blank-focus",
   "metadata": {},
   "outputs": [],
   "source": []
  },
  {
   "cell_type": "code",
   "execution_count": null,
   "id": "protective-approach",
   "metadata": {},
   "outputs": [],
   "source": []
  },
  {
   "cell_type": "code",
   "execution_count": null,
   "id": "forty-painting",
   "metadata": {},
   "outputs": [],
   "source": []
  },
  {
   "cell_type": "code",
   "execution_count": null,
   "id": "corresponding-federation",
   "metadata": {},
   "outputs": [],
   "source": []
  },
  {
   "cell_type": "code",
   "execution_count": null,
   "id": "flying-admission",
   "metadata": {},
   "outputs": [],
   "source": []
  },
  {
   "cell_type": "code",
   "execution_count": null,
   "id": "statutory-nutrition",
   "metadata": {},
   "outputs": [],
   "source": []
  },
  {
   "cell_type": "code",
   "execution_count": null,
   "id": "important-craps",
   "metadata": {},
   "outputs": [],
   "source": []
  },
  {
   "cell_type": "code",
   "execution_count": null,
   "id": "ideal-nigeria",
   "metadata": {},
   "outputs": [],
   "source": []
  },
  {
   "cell_type": "code",
   "execution_count": null,
   "id": "controlling-hospital",
   "metadata": {},
   "outputs": [],
   "source": []
  },
  {
   "cell_type": "code",
   "execution_count": null,
   "id": "limiting-arthritis",
   "metadata": {},
   "outputs": [],
   "source": []
  },
  {
   "cell_type": "code",
   "execution_count": null,
   "id": "independent-diving",
   "metadata": {},
   "outputs": [],
   "source": []
  },
  {
   "cell_type": "code",
   "execution_count": null,
   "id": "valued-stock",
   "metadata": {},
   "outputs": [],
   "source": []
  },
  {
   "cell_type": "code",
   "execution_count": null,
   "id": "sensitive-moldova",
   "metadata": {},
   "outputs": [],
   "source": []
  },
  {
   "cell_type": "code",
   "execution_count": null,
   "id": "pressing-ballet",
   "metadata": {},
   "outputs": [],
   "source": []
  },
  {
   "cell_type": "code",
   "execution_count": null,
   "id": "ultimate-award",
   "metadata": {},
   "outputs": [],
   "source": []
  },
  {
   "cell_type": "code",
   "execution_count": null,
   "id": "organic-course",
   "metadata": {},
   "outputs": [],
   "source": []
  },
  {
   "cell_type": "code",
   "execution_count": null,
   "id": "changing-sympathy",
   "metadata": {},
   "outputs": [],
   "source": []
  },
  {
   "cell_type": "code",
   "execution_count": null,
   "id": "caring-violin",
   "metadata": {},
   "outputs": [],
   "source": []
  },
  {
   "cell_type": "code",
   "execution_count": null,
   "id": "vanilla-thinking",
   "metadata": {},
   "outputs": [],
   "source": []
  },
  {
   "cell_type": "code",
   "execution_count": null,
   "id": "widespread-placement",
   "metadata": {},
   "outputs": [],
   "source": []
  },
  {
   "cell_type": "code",
   "execution_count": null,
   "id": "applicable-toyota",
   "metadata": {},
   "outputs": [],
   "source": []
  },
  {
   "cell_type": "code",
   "execution_count": null,
   "id": "excessive-brighton",
   "metadata": {},
   "outputs": [],
   "source": []
  },
  {
   "cell_type": "code",
   "execution_count": null,
   "id": "representative-audio",
   "metadata": {},
   "outputs": [],
   "source": []
  },
  {
   "cell_type": "code",
   "execution_count": null,
   "id": "atlantic-demonstration",
   "metadata": {},
   "outputs": [],
   "source": []
  },
  {
   "cell_type": "code",
   "execution_count": 32,
   "id": "indonesian-beads",
   "metadata": {},
   "outputs": [
    {
     "data": {
      "image/png": "[encoded data removed]",
      "text/plain": [
       "<Figure size 432x288 with 1 Axes>"
      ]
     },
     "metadata": {
      "needs_background": "light"
     },
     "output_type": "display_data"
    }
   ],
   "source": [
    "maskk = data_final['property_type'] == 'store'\n",
    "histplot_PH = sns.boxplot(data= data_final.loc[maskk,['property_type','priceusd']], x= 'property_type', y = 'priceusd')"
   ]
  },
  {
   "cell_type": "code",
   "execution_count": 33,
   "id": "extended-arthritis",
   "metadata": {},
   "outputs": [
    {
     "data": {
      "image/png": "[encoded data removed]",
      "text/plain": [
       "<Figure size 432x288 with 1 Axes>"
      ]
     },
     "metadata": {
      "needs_background": "light"
     },
     "output_type": "display_data"
    }
   ],
   "source": [
    "maskk = data_final['property_type'] == 'apartment' \n",
    "histplot_PH = sns.histplot(data= data_final.loc[maskk,['property_type','priceusd']], x= 'property_type', y = 'priceusd')"
   ]
  },
  {
   "cell_type": "code",
   "execution_count": 34,
   "id": "therapeutic-opposition",
   "metadata": {},
   "outputs": [
    {
     "data": {
      "image/png": "[encoded data removed]",
      "text/plain": [
       "<Figure size 432x288 with 1 Axes>"
      ]
     },
     "metadata": {
      "needs_background": "light"
     },
     "output_type": "display_data"
    }
   ],
   "source": [
    "maskk = data_final['property_type'] == 'apartment' \n",
    "histplot_PH = sns.scatterplot(data= data_final.loc[maskk,['property_type','priceusd']], x= 'property_type', y = 'priceusd')"
   ]
  },
  {
   "cell_type": "code",
   "execution_count": null,
   "id": "returning-politics",
   "metadata": {},
   "outputs": [],
   "source": []
  },
  {
   "cell_type": "code",
   "execution_count": null,
   "id": "floppy-aquatic",
   "metadata": {},
   "outputs": [],
   "source": []
  },
  {
   "cell_type": "code",
   "execution_count": null,
   "id": "surface-sigma",
   "metadata": {},
   "outputs": [],
   "source": []
  },
  {
   "cell_type": "code",
   "execution_count": null,
   "id": "massive-clerk",
   "metadata": {},
   "outputs": [],
   "source": []
  },
  {
   "cell_type": "code",
   "execution_count": null,
   "id": "timely-actress",
   "metadata": {},
   "outputs": [],
   "source": []
  },
  {
   "cell_type": "code",
   "execution_count": null,
   "id": "reverse-external",
   "metadata": {},
   "outputs": [],
   "source": []
  },
  {
   "cell_type": "code",
   "execution_count": null,
   "id": "adaptive-veteran",
   "metadata": {},
   "outputs": [],
   "source": []
  },
  {
   "cell_type": "code",
   "execution_count": null,
   "id": "seeing-painting",
   "metadata": {
    "collapsed": true,
    "jupyter": {
     "outputs_hidden": true
    }
   },
   "outputs": [],
   "source": []
  },
  {
   "cell_type": "code",
   "execution_count": 35,
   "id": "weird-letter",
   "metadata": {},
   "outputs": [],
   "source": [
    "# dataset para el grupo \n",
    "\n",
    "#data_test = data_final[['property_type','place_name','place_with_parent_names','state_name','priceusd','surface_total_in_m2',\n",
    "#                        'surface_covered_in_m2','price_per_m2','rooms','description','title']]"
   ]
  },
  {
   "cell_type": "code",
   "execution_count": null,
   "id": "organized-sitting",
   "metadata": {},
   "outputs": [],
   "source": []
  },
  {
   "cell_type": "code",
   "execution_count": null,
   "id": "mighty-exclusion",
   "metadata": {},
   "outputs": [],
   "source": []
  },
  {
   "cell_type": "code",
   "execution_count": null,
   "id": "manufactured-destination",
   "metadata": {},
   "outputs": [],
   "source": []
  },
  {
   "cell_type": "code",
   "execution_count": null,
   "id": "unauthorized-colombia",
   "metadata": {},
   "outputs": [],
   "source": []
  },
  {
   "cell_type": "code",
   "execution_count": null,
   "id": "mathematical-clinton",
   "metadata": {},
   "outputs": [],
   "source": []
  }
 ],
 "metadata": {
  "kernelspec": {
   "display_name": "Python [conda env:dhdsblend2021] *",
   "language": "python",
   "name": "conda-env-dhdsblend2021-py"
  },
  "language_info": {
   "codemirror_mode": {
    "name": "ipython",
    "version": 3
   },
   "file_extension": ".py",
   "mimetype": "text/x-python",
   "name": "python",
   "nbconvert_exporter": "python",
   "pygments_lexer": "ipython3",
   "version": "3.8.8"
  }
 },
 "nbformat": 4,
 "nbformat_minor": 5
}
